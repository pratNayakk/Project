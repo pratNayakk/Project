{
 "cells": [
  {
   "cell_type": "markdown",
   "id": "8f7aa529",
   "metadata": {},
   "source": [
    "# Importing Library:"
   ]
  },
  {
   "cell_type": "code",
   "execution_count": 148,
   "id": "045b88b2",
   "metadata": {},
   "outputs": [],
   "source": [
    "# Pandas is a useful library in data analysis, Numpy library used for working with arrays\n",
    "import pandas as pd\n",
    "import numpy as np\n",
    "import matplotlib.pyplot as plt\n",
    "import seaborn as sns"
   ]
  },
  {
   "cell_type": "code",
   "execution_count": 149,
   "id": "9eb5e9fe",
   "metadata": {},
   "outputs": [
    {
     "data": {
      "text/html": [
       "<div>\n",
       "<style scoped>\n",
       "    .dataframe tbody tr th:only-of-type {\n",
       "        vertical-align: middle;\n",
       "    }\n",
       "\n",
       "    .dataframe tbody tr th {\n",
       "        vertical-align: top;\n",
       "    }\n",
       "\n",
       "    .dataframe thead th {\n",
       "        text-align: right;\n",
       "    }\n",
       "</style>\n",
       "<table border=\"1\" class=\"dataframe\">\n",
       "  <thead>\n",
       "    <tr style=\"text-align: right;\">\n",
       "      <th></th>\n",
       "      <th>Unnamed: 0</th>\n",
       "      <th>Date</th>\n",
       "      <th>AveragePrice</th>\n",
       "      <th>Total Volume</th>\n",
       "      <th>4046</th>\n",
       "      <th>4225</th>\n",
       "      <th>4770</th>\n",
       "      <th>Total Bags</th>\n",
       "      <th>Small Bags</th>\n",
       "      <th>Large Bags</th>\n",
       "      <th>XLarge Bags</th>\n",
       "      <th>type</th>\n",
       "      <th>year</th>\n",
       "      <th>region</th>\n",
       "    </tr>\n",
       "  </thead>\n",
       "  <tbody>\n",
       "    <tr>\n",
       "      <th>0</th>\n",
       "      <td>0</td>\n",
       "      <td>2015-12-27</td>\n",
       "      <td>1.33</td>\n",
       "      <td>64236.62</td>\n",
       "      <td>1036.74</td>\n",
       "      <td>54454.85</td>\n",
       "      <td>48.16</td>\n",
       "      <td>8696.87</td>\n",
       "      <td>8603.62</td>\n",
       "      <td>93.25</td>\n",
       "      <td>0.0</td>\n",
       "      <td>conventional</td>\n",
       "      <td>2015</td>\n",
       "      <td>Albany</td>\n",
       "    </tr>\n",
       "    <tr>\n",
       "      <th>1</th>\n",
       "      <td>1</td>\n",
       "      <td>2015-12-20</td>\n",
       "      <td>1.35</td>\n",
       "      <td>54876.98</td>\n",
       "      <td>674.28</td>\n",
       "      <td>44638.81</td>\n",
       "      <td>58.33</td>\n",
       "      <td>9505.56</td>\n",
       "      <td>9408.07</td>\n",
       "      <td>97.49</td>\n",
       "      <td>0.0</td>\n",
       "      <td>conventional</td>\n",
       "      <td>2015</td>\n",
       "      <td>Albany</td>\n",
       "    </tr>\n",
       "    <tr>\n",
       "      <th>2</th>\n",
       "      <td>2</td>\n",
       "      <td>2015-12-13</td>\n",
       "      <td>0.93</td>\n",
       "      <td>118220.22</td>\n",
       "      <td>794.70</td>\n",
       "      <td>109149.67</td>\n",
       "      <td>130.50</td>\n",
       "      <td>8145.35</td>\n",
       "      <td>8042.21</td>\n",
       "      <td>103.14</td>\n",
       "      <td>0.0</td>\n",
       "      <td>conventional</td>\n",
       "      <td>2015</td>\n",
       "      <td>Albany</td>\n",
       "    </tr>\n",
       "    <tr>\n",
       "      <th>3</th>\n",
       "      <td>3</td>\n",
       "      <td>2015-12-06</td>\n",
       "      <td>1.08</td>\n",
       "      <td>78992.15</td>\n",
       "      <td>1132.00</td>\n",
       "      <td>71976.41</td>\n",
       "      <td>72.58</td>\n",
       "      <td>5811.16</td>\n",
       "      <td>5677.40</td>\n",
       "      <td>133.76</td>\n",
       "      <td>0.0</td>\n",
       "      <td>conventional</td>\n",
       "      <td>2015</td>\n",
       "      <td>Albany</td>\n",
       "    </tr>\n",
       "    <tr>\n",
       "      <th>4</th>\n",
       "      <td>4</td>\n",
       "      <td>2015-11-29</td>\n",
       "      <td>1.28</td>\n",
       "      <td>51039.60</td>\n",
       "      <td>941.48</td>\n",
       "      <td>43838.39</td>\n",
       "      <td>75.78</td>\n",
       "      <td>6183.95</td>\n",
       "      <td>5986.26</td>\n",
       "      <td>197.69</td>\n",
       "      <td>0.0</td>\n",
       "      <td>conventional</td>\n",
       "      <td>2015</td>\n",
       "      <td>Albany</td>\n",
       "    </tr>\n",
       "  </tbody>\n",
       "</table>\n",
       "</div>"
      ],
      "text/plain": [
       "   Unnamed: 0        Date  AveragePrice  Total Volume     4046       4225  \\\n",
       "0           0  2015-12-27          1.33      64236.62  1036.74   54454.85   \n",
       "1           1  2015-12-20          1.35      54876.98   674.28   44638.81   \n",
       "2           2  2015-12-13          0.93     118220.22   794.70  109149.67   \n",
       "3           3  2015-12-06          1.08      78992.15  1132.00   71976.41   \n",
       "4           4  2015-11-29          1.28      51039.60   941.48   43838.39   \n",
       "\n",
       "     4770  Total Bags  Small Bags  Large Bags  XLarge Bags          type  \\\n",
       "0   48.16     8696.87     8603.62       93.25          0.0  conventional   \n",
       "1   58.33     9505.56     9408.07       97.49          0.0  conventional   \n",
       "2  130.50     8145.35     8042.21      103.14          0.0  conventional   \n",
       "3   72.58     5811.16     5677.40      133.76          0.0  conventional   \n",
       "4   75.78     6183.95     5986.26      197.69          0.0  conventional   \n",
       "\n",
       "   year  region  \n",
       "0  2015  Albany  \n",
       "1  2015  Albany  \n",
       "2  2015  Albany  \n",
       "3  2015  Albany  \n",
       "4  2015  Albany  "
      ]
     },
     "execution_count": 149,
     "metadata": {},
     "output_type": "execute_result"
    }
   ],
   "source": [
    "# Pandas read_csv function used for reading the csv file.\n",
    "df = pd.read_csv(\"C:\\\\Users\\\\prath\\\\avocado.csv\")\n",
    "df.head()"
   ]
  },
  {
   "cell_type": "markdown",
   "id": "7a9d5583",
   "metadata": {},
   "source": [
    "# Exploratory Data Analysis:"
   ]
  },
  {
   "cell_type": "code",
   "execution_count": 150,
   "id": "44143dda",
   "metadata": {},
   "outputs": [],
   "source": [
    "# 'Unnamed: 0' has no contribution in dataset\n",
    "df.drop('Unnamed: 0',inplace = True,axis = 1)"
   ]
  },
  {
   "cell_type": "code",
   "execution_count": 151,
   "id": "5e938a1c",
   "metadata": {},
   "outputs": [
    {
     "data": {
      "text/html": [
       "<div>\n",
       "<style scoped>\n",
       "    .dataframe tbody tr th:only-of-type {\n",
       "        vertical-align: middle;\n",
       "    }\n",
       "\n",
       "    .dataframe tbody tr th {\n",
       "        vertical-align: top;\n",
       "    }\n",
       "\n",
       "    .dataframe thead th {\n",
       "        text-align: right;\n",
       "    }\n",
       "</style>\n",
       "<table border=\"1\" class=\"dataframe\">\n",
       "  <thead>\n",
       "    <tr style=\"text-align: right;\">\n",
       "      <th></th>\n",
       "      <th>Date</th>\n",
       "      <th>AveragePrice</th>\n",
       "      <th>Total Volume</th>\n",
       "      <th>4046</th>\n",
       "      <th>4225</th>\n",
       "      <th>4770</th>\n",
       "      <th>Total Bags</th>\n",
       "      <th>Small Bags</th>\n",
       "      <th>Large Bags</th>\n",
       "      <th>XLarge Bags</th>\n",
       "      <th>type</th>\n",
       "      <th>year</th>\n",
       "      <th>region</th>\n",
       "    </tr>\n",
       "  </thead>\n",
       "  <tbody>\n",
       "    <tr>\n",
       "      <th>0</th>\n",
       "      <td>2015-12-27</td>\n",
       "      <td>1.33</td>\n",
       "      <td>64236.62</td>\n",
       "      <td>1036.74</td>\n",
       "      <td>54454.85</td>\n",
       "      <td>48.16</td>\n",
       "      <td>8696.87</td>\n",
       "      <td>8603.62</td>\n",
       "      <td>93.25</td>\n",
       "      <td>0.0</td>\n",
       "      <td>conventional</td>\n",
       "      <td>2015</td>\n",
       "      <td>Albany</td>\n",
       "    </tr>\n",
       "    <tr>\n",
       "      <th>1</th>\n",
       "      <td>2015-12-20</td>\n",
       "      <td>1.35</td>\n",
       "      <td>54876.98</td>\n",
       "      <td>674.28</td>\n",
       "      <td>44638.81</td>\n",
       "      <td>58.33</td>\n",
       "      <td>9505.56</td>\n",
       "      <td>9408.07</td>\n",
       "      <td>97.49</td>\n",
       "      <td>0.0</td>\n",
       "      <td>conventional</td>\n",
       "      <td>2015</td>\n",
       "      <td>Albany</td>\n",
       "    </tr>\n",
       "    <tr>\n",
       "      <th>2</th>\n",
       "      <td>2015-12-13</td>\n",
       "      <td>0.93</td>\n",
       "      <td>118220.22</td>\n",
       "      <td>794.70</td>\n",
       "      <td>109149.67</td>\n",
       "      <td>130.50</td>\n",
       "      <td>8145.35</td>\n",
       "      <td>8042.21</td>\n",
       "      <td>103.14</td>\n",
       "      <td>0.0</td>\n",
       "      <td>conventional</td>\n",
       "      <td>2015</td>\n",
       "      <td>Albany</td>\n",
       "    </tr>\n",
       "    <tr>\n",
       "      <th>3</th>\n",
       "      <td>2015-12-06</td>\n",
       "      <td>1.08</td>\n",
       "      <td>78992.15</td>\n",
       "      <td>1132.00</td>\n",
       "      <td>71976.41</td>\n",
       "      <td>72.58</td>\n",
       "      <td>5811.16</td>\n",
       "      <td>5677.40</td>\n",
       "      <td>133.76</td>\n",
       "      <td>0.0</td>\n",
       "      <td>conventional</td>\n",
       "      <td>2015</td>\n",
       "      <td>Albany</td>\n",
       "    </tr>\n",
       "    <tr>\n",
       "      <th>4</th>\n",
       "      <td>2015-11-29</td>\n",
       "      <td>1.28</td>\n",
       "      <td>51039.60</td>\n",
       "      <td>941.48</td>\n",
       "      <td>43838.39</td>\n",
       "      <td>75.78</td>\n",
       "      <td>6183.95</td>\n",
       "      <td>5986.26</td>\n",
       "      <td>197.69</td>\n",
       "      <td>0.0</td>\n",
       "      <td>conventional</td>\n",
       "      <td>2015</td>\n",
       "      <td>Albany</td>\n",
       "    </tr>\n",
       "  </tbody>\n",
       "</table>\n",
       "</div>"
      ],
      "text/plain": [
       "         Date  AveragePrice  Total Volume     4046       4225    4770  \\\n",
       "0  2015-12-27          1.33      64236.62  1036.74   54454.85   48.16   \n",
       "1  2015-12-20          1.35      54876.98   674.28   44638.81   58.33   \n",
       "2  2015-12-13          0.93     118220.22   794.70  109149.67  130.50   \n",
       "3  2015-12-06          1.08      78992.15  1132.00   71976.41   72.58   \n",
       "4  2015-11-29          1.28      51039.60   941.48   43838.39   75.78   \n",
       "\n",
       "   Total Bags  Small Bags  Large Bags  XLarge Bags          type  year  region  \n",
       "0     8696.87     8603.62       93.25          0.0  conventional  2015  Albany  \n",
       "1     9505.56     9408.07       97.49          0.0  conventional  2015  Albany  \n",
       "2     8145.35     8042.21      103.14          0.0  conventional  2015  Albany  \n",
       "3     5811.16     5677.40      133.76          0.0  conventional  2015  Albany  \n",
       "4     6183.95     5986.26      197.69          0.0  conventional  2015  Albany  "
      ]
     },
     "execution_count": 151,
     "metadata": {},
     "output_type": "execute_result"
    }
   ],
   "source": [
    "df.head()"
   ]
  },
  {
   "cell_type": "code",
   "execution_count": 152,
   "id": "6d6238ad",
   "metadata": {},
   "outputs": [
    {
     "data": {
      "text/plain": [
       "(18249, 13)"
      ]
     },
     "execution_count": 152,
     "metadata": {},
     "output_type": "execute_result"
    }
   ],
   "source": [
    "# total no of rows and columns\n",
    "df.shape"
   ]
  },
  {
   "cell_type": "code",
   "execution_count": 153,
   "id": "ea75090e",
   "metadata": {},
   "outputs": [
    {
     "name": "stdout",
     "output_type": "stream",
     "text": [
      "<class 'pandas.core.frame.DataFrame'>\n",
      "RangeIndex: 18249 entries, 0 to 18248\n",
      "Data columns (total 13 columns):\n",
      " #   Column        Non-Null Count  Dtype  \n",
      "---  ------        --------------  -----  \n",
      " 0   Date          18249 non-null  object \n",
      " 1   AveragePrice  18249 non-null  float64\n",
      " 2   Total Volume  18249 non-null  float64\n",
      " 3   4046          18249 non-null  float64\n",
      " 4   4225          18249 non-null  float64\n",
      " 5   4770          18249 non-null  float64\n",
      " 6   Total Bags    18249 non-null  float64\n",
      " 7   Small Bags    18249 non-null  float64\n",
      " 8   Large Bags    18249 non-null  float64\n",
      " 9   XLarge Bags   18249 non-null  float64\n",
      " 10  type          18249 non-null  object \n",
      " 11  year          18249 non-null  int64  \n",
      " 12  region        18249 non-null  object \n",
      "dtypes: float64(9), int64(1), object(3)\n",
      "memory usage: 1.8+ MB\n"
     ]
    }
   ],
   "source": [
    "# getting some information about the dataset\n",
    "df.info()"
   ]
  },
  {
   "cell_type": "markdown",
   "id": "d82b853a",
   "metadata": {},
   "source": [
    "There are two categorical columns 'Date' and 'region'"
   ]
  },
  {
   "cell_type": "code",
   "execution_count": 154,
   "id": "b5be8ab4",
   "metadata": {},
   "outputs": [
    {
     "data": {
      "text/plain": [
       "Date            0\n",
       "AveragePrice    0\n",
       "Total Volume    0\n",
       "4046            0\n",
       "4225            0\n",
       "4770            0\n",
       "Total Bags      0\n",
       "Small Bags      0\n",
       "Large Bags      0\n",
       "XLarge Bags     0\n",
       "type            0\n",
       "year            0\n",
       "region          0\n",
       "dtype: int64"
      ]
     },
     "execution_count": 154,
     "metadata": {},
     "output_type": "execute_result"
    }
   ],
   "source": [
    "# checking for missing values\n",
    "df.isnull().sum()"
   ]
  },
  {
   "cell_type": "markdown",
   "id": "d8a24681",
   "metadata": {},
   "source": [
    "There is no null value present.\n",
    "\n"
   ]
  },
  {
   "cell_type": "code",
   "execution_count": 155,
   "id": "21743747",
   "metadata": {},
   "outputs": [
    {
     "data": {
      "text/plain": [
       "<AxesSubplot:>"
      ]
     },
     "execution_count": 155,
     "metadata": {},
     "output_type": "execute_result"
    },
    {
     "data": {
      "image/png": "[encoded data removed]",
      "text/plain": [
       "<Figure size 432x288 with 2 Axes>"
      ]
     },
     "metadata": {
      "needs_background": "light"
     },
     "output_type": "display_data"
    }
   ],
   "source": [
    "# checking the null values with heatmap\n",
    "sns.heatmap(df.isnull().sum().to_frame())"
   ]
  },
  {
   "cell_type": "markdown",
   "id": "da8f40af",
   "metadata": {},
   "source": [
    "Column\"Unnamed: 0\" which does not play any important role for prediction in the price of avocado, so I am dropping that column.\n",
    "There are 18249 rows and 13 columns\n"
   ]
  },
  {
   "cell_type": "markdown",
   "id": "df5eda20",
   "metadata": {},
   "source": [
    "There are no null values in the data set because the red color is distributed equally"
   ]
  },
  {
   "cell_type": "code",
   "execution_count": 156,
   "id": "ccff30f1",
   "metadata": {},
   "outputs": [
    {
     "data": {
      "text/plain": [
       "year\n",
       "2015    1.375590\n",
       "2016    1.338640\n",
       "2017    1.515128\n",
       "2018    1.347531\n",
       "Name: AveragePrice, dtype: float64"
      ]
     },
     "execution_count": 156,
     "metadata": {},
     "output_type": "execute_result"
    }
   ],
   "source": [
    "# Checking mean price of avacado\n",
    "df.groupby('year')['AveragePrice'].mean()"
   ]
  },
  {
   "cell_type": "code",
   "execution_count": 157,
   "id": "ddc6436a",
   "metadata": {},
   "outputs": [
    {
     "data": {
      "text/plain": [
       "year  type        \n",
       "2015  conventional    2808\n",
       "      organic         2807\n",
       "2016  conventional    2808\n",
       "      organic         2808\n",
       "2017  conventional    2862\n",
       "      organic         2860\n",
       "2018  conventional     648\n",
       "      organic          648\n",
       "Name: type, dtype: int64"
      ]
     },
     "execution_count": 157,
     "metadata": {},
     "output_type": "execute_result"
    }
   ],
   "source": [
    "# Checking total avacado sells\n",
    "df.groupby('year')['type'].value_counts()"
   ]
  },
  {
   "cell_type": "markdown",
   "id": "7fdc1f3d",
   "metadata": {},
   "source": [
    "Year 2017 is aggressive year where avocado price is higher as compared to other year\n",
    " So total type of avocado is present  in same amount in the data set."
   ]
  },
  {
   "cell_type": "code",
   "execution_count": 158,
   "id": "90644e1a",
   "metadata": {},
   "outputs": [
    {
     "data": {
      "text/html": [
       "<div>\n",
       "<style scoped>\n",
       "    .dataframe tbody tr th:only-of-type {\n",
       "        vertical-align: middle;\n",
       "    }\n",
       "\n",
       "    .dataframe tbody tr th {\n",
       "        vertical-align: top;\n",
       "    }\n",
       "\n",
       "    .dataframe thead th {\n",
       "        text-align: right;\n",
       "    }\n",
       "</style>\n",
       "<table border=\"1\" class=\"dataframe\">\n",
       "  <thead>\n",
       "    <tr style=\"text-align: right;\">\n",
       "      <th></th>\n",
       "      <th>AveragePrice</th>\n",
       "      <th>Total Volume</th>\n",
       "      <th>4046</th>\n",
       "      <th>4225</th>\n",
       "      <th>4770</th>\n",
       "      <th>Total Bags</th>\n",
       "      <th>Small Bags</th>\n",
       "      <th>Large Bags</th>\n",
       "      <th>XLarge Bags</th>\n",
       "      <th>year</th>\n",
       "    </tr>\n",
       "  </thead>\n",
       "  <tbody>\n",
       "    <tr>\n",
       "      <th>count</th>\n",
       "      <td>18249.000000</td>\n",
       "      <td>1.824900e+04</td>\n",
       "      <td>1.824900e+04</td>\n",
       "      <td>1.824900e+04</td>\n",
       "      <td>1.824900e+04</td>\n",
       "      <td>1.824900e+04</td>\n",
       "      <td>1.824900e+04</td>\n",
       "      <td>1.824900e+04</td>\n",
       "      <td>18249.000000</td>\n",
       "      <td>18249.000000</td>\n",
       "    </tr>\n",
       "    <tr>\n",
       "      <th>mean</th>\n",
       "      <td>1.405978</td>\n",
       "      <td>8.506440e+05</td>\n",
       "      <td>2.930084e+05</td>\n",
       "      <td>2.951546e+05</td>\n",
       "      <td>2.283974e+04</td>\n",
       "      <td>2.396392e+05</td>\n",
       "      <td>1.821947e+05</td>\n",
       "      <td>5.433809e+04</td>\n",
       "      <td>3106.426507</td>\n",
       "      <td>2016.147899</td>\n",
       "    </tr>\n",
       "    <tr>\n",
       "      <th>std</th>\n",
       "      <td>0.402677</td>\n",
       "      <td>3.453545e+06</td>\n",
       "      <td>1.264989e+06</td>\n",
       "      <td>1.204120e+06</td>\n",
       "      <td>1.074641e+05</td>\n",
       "      <td>9.862424e+05</td>\n",
       "      <td>7.461785e+05</td>\n",
       "      <td>2.439660e+05</td>\n",
       "      <td>17692.894652</td>\n",
       "      <td>0.939938</td>\n",
       "    </tr>\n",
       "    <tr>\n",
       "      <th>min</th>\n",
       "      <td>0.440000</td>\n",
       "      <td>8.456000e+01</td>\n",
       "      <td>0.000000e+00</td>\n",
       "      <td>0.000000e+00</td>\n",
       "      <td>0.000000e+00</td>\n",
       "      <td>0.000000e+00</td>\n",
       "      <td>0.000000e+00</td>\n",
       "      <td>0.000000e+00</td>\n",
       "      <td>0.000000</td>\n",
       "      <td>2015.000000</td>\n",
       "    </tr>\n",
       "    <tr>\n",
       "      <th>25%</th>\n",
       "      <td>1.100000</td>\n",
       "      <td>1.083858e+04</td>\n",
       "      <td>8.540700e+02</td>\n",
       "      <td>3.008780e+03</td>\n",
       "      <td>0.000000e+00</td>\n",
       "      <td>5.088640e+03</td>\n",
       "      <td>2.849420e+03</td>\n",
       "      <td>1.274700e+02</td>\n",
       "      <td>0.000000</td>\n",
       "      <td>2015.000000</td>\n",
       "    </tr>\n",
       "    <tr>\n",
       "      <th>50%</th>\n",
       "      <td>1.370000</td>\n",
       "      <td>1.073768e+05</td>\n",
       "      <td>8.645300e+03</td>\n",
       "      <td>2.906102e+04</td>\n",
       "      <td>1.849900e+02</td>\n",
       "      <td>3.974383e+04</td>\n",
       "      <td>2.636282e+04</td>\n",
       "      <td>2.647710e+03</td>\n",
       "      <td>0.000000</td>\n",
       "      <td>2016.000000</td>\n",
       "    </tr>\n",
       "    <tr>\n",
       "      <th>75%</th>\n",
       "      <td>1.660000</td>\n",
       "      <td>4.329623e+05</td>\n",
       "      <td>1.110202e+05</td>\n",
       "      <td>1.502069e+05</td>\n",
       "      <td>6.243420e+03</td>\n",
       "      <td>1.107834e+05</td>\n",
       "      <td>8.333767e+04</td>\n",
       "      <td>2.202925e+04</td>\n",
       "      <td>132.500000</td>\n",
       "      <td>2017.000000</td>\n",
       "    </tr>\n",
       "    <tr>\n",
       "      <th>max</th>\n",
       "      <td>3.250000</td>\n",
       "      <td>6.250565e+07</td>\n",
       "      <td>2.274362e+07</td>\n",
       "      <td>2.047057e+07</td>\n",
       "      <td>2.546439e+06</td>\n",
       "      <td>1.937313e+07</td>\n",
       "      <td>1.338459e+07</td>\n",
       "      <td>5.719097e+06</td>\n",
       "      <td>551693.650000</td>\n",
       "      <td>2018.000000</td>\n",
       "    </tr>\n",
       "  </tbody>\n",
       "</table>\n",
       "</div>"
      ],
      "text/plain": [
       "       AveragePrice  Total Volume          4046          4225          4770  \\\n",
       "count  18249.000000  1.824900e+04  1.824900e+04  1.824900e+04  1.824900e+04   \n",
       "mean       1.405978  8.506440e+05  2.930084e+05  2.951546e+05  2.283974e+04   \n",
       "std        0.402677  3.453545e+06  1.264989e+06  1.204120e+06  1.074641e+05   \n",
       "min        0.440000  8.456000e+01  0.000000e+00  0.000000e+00  0.000000e+00   \n",
       "25%        1.100000  1.083858e+04  8.540700e+02  3.008780e+03  0.000000e+00   \n",
       "50%        1.370000  1.073768e+05  8.645300e+03  2.906102e+04  1.849900e+02   \n",
       "75%        1.660000  4.329623e+05  1.110202e+05  1.502069e+05  6.243420e+03   \n",
       "max        3.250000  6.250565e+07  2.274362e+07  2.047057e+07  2.546439e+06   \n",
       "\n",
       "         Total Bags    Small Bags    Large Bags    XLarge Bags          year  \n",
       "count  1.824900e+04  1.824900e+04  1.824900e+04   18249.000000  18249.000000  \n",
       "mean   2.396392e+05  1.821947e+05  5.433809e+04    3106.426507   2016.147899  \n",
       "std    9.862424e+05  7.461785e+05  2.439660e+05   17692.894652      0.939938  \n",
       "min    0.000000e+00  0.000000e+00  0.000000e+00       0.000000   2015.000000  \n",
       "25%    5.088640e+03  2.849420e+03  1.274700e+02       0.000000   2015.000000  \n",
       "50%    3.974383e+04  2.636282e+04  2.647710e+03       0.000000   2016.000000  \n",
       "75%    1.107834e+05  8.333767e+04  2.202925e+04     132.500000   2017.000000  \n",
       "max    1.937313e+07  1.338459e+07  5.719097e+06  551693.650000   2018.000000  "
      ]
     },
     "execution_count": 158,
     "metadata": {},
     "output_type": "execute_result"
    }
   ],
   "source": [
    "df.describe()"
   ]
  },
  {
   "cell_type": "markdown",
   "id": "0ada15c0",
   "metadata": {},
   "source": [
    "multiple outliers mostly in XLargeBags"
   ]
  },
  {
   "cell_type": "markdown",
   "id": "6dd78b81",
   "metadata": {},
   "source": [
    "# Handling date column"
   ]
  },
  {
   "cell_type": "code",
   "execution_count": 159,
   "id": "246b0a25",
   "metadata": {},
   "outputs": [],
   "source": [
    "#Converting date column into datetime format\n",
    "df['Date']=pd.to_datetime(df['Date'])"
   ]
  },
  {
   "cell_type": "code",
   "execution_count": 160,
   "id": "9e645d98",
   "metadata": {},
   "outputs": [],
   "source": [
    "#Extracting month, day and year info from date column then dropping it.\n",
    "df['Month']=df['Date'].apply(lambda x:x.month)\n",
    "df['Day']=df['Date'].apply(lambda x:x.day)\n",
    "df['Year']=df['Date'].apply(lambda x:x.year)\n",
    "df.drop('Date',axis=1,inplace=True)"
   ]
  },
  {
   "cell_type": "code",
   "execution_count": 161,
   "id": "8964ec23",
   "metadata": {},
   "outputs": [],
   "source": [
    "df.drop('Day',axis=1,inplace=True)"
   ]
  },
  {
   "cell_type": "code",
   "execution_count": 162,
   "id": "ff21231d",
   "metadata": {},
   "outputs": [
    {
     "data": {
      "text/html": [
       "<div>\n",
       "<style scoped>\n",
       "    .dataframe tbody tr th:only-of-type {\n",
       "        vertical-align: middle;\n",
       "    }\n",
       "\n",
       "    .dataframe tbody tr th {\n",
       "        vertical-align: top;\n",
       "    }\n",
       "\n",
       "    .dataframe thead th {\n",
       "        text-align: right;\n",
       "    }\n",
       "</style>\n",
       "<table border=\"1\" class=\"dataframe\">\n",
       "  <thead>\n",
       "    <tr style=\"text-align: right;\">\n",
       "      <th></th>\n",
       "      <th>AveragePrice</th>\n",
       "      <th>Total Volume</th>\n",
       "      <th>4046</th>\n",
       "      <th>4225</th>\n",
       "      <th>4770</th>\n",
       "      <th>Total Bags</th>\n",
       "      <th>Small Bags</th>\n",
       "      <th>Large Bags</th>\n",
       "      <th>XLarge Bags</th>\n",
       "      <th>type</th>\n",
       "      <th>year</th>\n",
       "      <th>region</th>\n",
       "      <th>Month</th>\n",
       "      <th>Year</th>\n",
       "    </tr>\n",
       "  </thead>\n",
       "  <tbody>\n",
       "    <tr>\n",
       "      <th>0</th>\n",
       "      <td>1.33</td>\n",
       "      <td>64236.62</td>\n",
       "      <td>1036.74</td>\n",
       "      <td>54454.85</td>\n",
       "      <td>48.16</td>\n",
       "      <td>8696.87</td>\n",
       "      <td>8603.62</td>\n",
       "      <td>93.25</td>\n",
       "      <td>0.0</td>\n",
       "      <td>conventional</td>\n",
       "      <td>2015</td>\n",
       "      <td>Albany</td>\n",
       "      <td>12</td>\n",
       "      <td>2015</td>\n",
       "    </tr>\n",
       "    <tr>\n",
       "      <th>1</th>\n",
       "      <td>1.35</td>\n",
       "      <td>54876.98</td>\n",
       "      <td>674.28</td>\n",
       "      <td>44638.81</td>\n",
       "      <td>58.33</td>\n",
       "      <td>9505.56</td>\n",
       "      <td>9408.07</td>\n",
       "      <td>97.49</td>\n",
       "      <td>0.0</td>\n",
       "      <td>conventional</td>\n",
       "      <td>2015</td>\n",
       "      <td>Albany</td>\n",
       "      <td>12</td>\n",
       "      <td>2015</td>\n",
       "    </tr>\n",
       "    <tr>\n",
       "      <th>2</th>\n",
       "      <td>0.93</td>\n",
       "      <td>118220.22</td>\n",
       "      <td>794.70</td>\n",
       "      <td>109149.67</td>\n",
       "      <td>130.50</td>\n",
       "      <td>8145.35</td>\n",
       "      <td>8042.21</td>\n",
       "      <td>103.14</td>\n",
       "      <td>0.0</td>\n",
       "      <td>conventional</td>\n",
       "      <td>2015</td>\n",
       "      <td>Albany</td>\n",
       "      <td>12</td>\n",
       "      <td>2015</td>\n",
       "    </tr>\n",
       "    <tr>\n",
       "      <th>3</th>\n",
       "      <td>1.08</td>\n",
       "      <td>78992.15</td>\n",
       "      <td>1132.00</td>\n",
       "      <td>71976.41</td>\n",
       "      <td>72.58</td>\n",
       "      <td>5811.16</td>\n",
       "      <td>5677.40</td>\n",
       "      <td>133.76</td>\n",
       "      <td>0.0</td>\n",
       "      <td>conventional</td>\n",
       "      <td>2015</td>\n",
       "      <td>Albany</td>\n",
       "      <td>12</td>\n",
       "      <td>2015</td>\n",
       "    </tr>\n",
       "    <tr>\n",
       "      <th>4</th>\n",
       "      <td>1.28</td>\n",
       "      <td>51039.60</td>\n",
       "      <td>941.48</td>\n",
       "      <td>43838.39</td>\n",
       "      <td>75.78</td>\n",
       "      <td>6183.95</td>\n",
       "      <td>5986.26</td>\n",
       "      <td>197.69</td>\n",
       "      <td>0.0</td>\n",
       "      <td>conventional</td>\n",
       "      <td>2015</td>\n",
       "      <td>Albany</td>\n",
       "      <td>11</td>\n",
       "      <td>2015</td>\n",
       "    </tr>\n",
       "    <tr>\n",
       "      <th>...</th>\n",
       "      <td>...</td>\n",
       "      <td>...</td>\n",
       "      <td>...</td>\n",
       "      <td>...</td>\n",
       "      <td>...</td>\n",
       "      <td>...</td>\n",
       "      <td>...</td>\n",
       "      <td>...</td>\n",
       "      <td>...</td>\n",
       "      <td>...</td>\n",
       "      <td>...</td>\n",
       "      <td>...</td>\n",
       "      <td>...</td>\n",
       "      <td>...</td>\n",
       "    </tr>\n",
       "    <tr>\n",
       "      <th>18244</th>\n",
       "      <td>1.63</td>\n",
       "      <td>17074.83</td>\n",
       "      <td>2046.96</td>\n",
       "      <td>1529.20</td>\n",
       "      <td>0.00</td>\n",
       "      <td>13498.67</td>\n",
       "      <td>13066.82</td>\n",
       "      <td>431.85</td>\n",
       "      <td>0.0</td>\n",
       "      <td>organic</td>\n",
       "      <td>2018</td>\n",
       "      <td>WestTexNewMexico</td>\n",
       "      <td>2</td>\n",
       "      <td>2018</td>\n",
       "    </tr>\n",
       "    <tr>\n",
       "      <th>18245</th>\n",
       "      <td>1.71</td>\n",
       "      <td>13888.04</td>\n",
       "      <td>1191.70</td>\n",
       "      <td>3431.50</td>\n",
       "      <td>0.00</td>\n",
       "      <td>9264.84</td>\n",
       "      <td>8940.04</td>\n",
       "      <td>324.80</td>\n",
       "      <td>0.0</td>\n",
       "      <td>organic</td>\n",
       "      <td>2018</td>\n",
       "      <td>WestTexNewMexico</td>\n",
       "      <td>1</td>\n",
       "      <td>2018</td>\n",
       "    </tr>\n",
       "    <tr>\n",
       "      <th>18246</th>\n",
       "      <td>1.87</td>\n",
       "      <td>13766.76</td>\n",
       "      <td>1191.92</td>\n",
       "      <td>2452.79</td>\n",
       "      <td>727.94</td>\n",
       "      <td>9394.11</td>\n",
       "      <td>9351.80</td>\n",
       "      <td>42.31</td>\n",
       "      <td>0.0</td>\n",
       "      <td>organic</td>\n",
       "      <td>2018</td>\n",
       "      <td>WestTexNewMexico</td>\n",
       "      <td>1</td>\n",
       "      <td>2018</td>\n",
       "    </tr>\n",
       "    <tr>\n",
       "      <th>18247</th>\n",
       "      <td>1.93</td>\n",
       "      <td>16205.22</td>\n",
       "      <td>1527.63</td>\n",
       "      <td>2981.04</td>\n",
       "      <td>727.01</td>\n",
       "      <td>10969.54</td>\n",
       "      <td>10919.54</td>\n",
       "      <td>50.00</td>\n",
       "      <td>0.0</td>\n",
       "      <td>organic</td>\n",
       "      <td>2018</td>\n",
       "      <td>WestTexNewMexico</td>\n",
       "      <td>1</td>\n",
       "      <td>2018</td>\n",
       "    </tr>\n",
       "    <tr>\n",
       "      <th>18248</th>\n",
       "      <td>1.62</td>\n",
       "      <td>17489.58</td>\n",
       "      <td>2894.77</td>\n",
       "      <td>2356.13</td>\n",
       "      <td>224.53</td>\n",
       "      <td>12014.15</td>\n",
       "      <td>11988.14</td>\n",
       "      <td>26.01</td>\n",
       "      <td>0.0</td>\n",
       "      <td>organic</td>\n",
       "      <td>2018</td>\n",
       "      <td>WestTexNewMexico</td>\n",
       "      <td>1</td>\n",
       "      <td>2018</td>\n",
       "    </tr>\n",
       "  </tbody>\n",
       "</table>\n",
       "<p>18249 rows × 14 columns</p>\n",
       "</div>"
      ],
      "text/plain": [
       "       AveragePrice  Total Volume     4046       4225    4770  Total Bags  \\\n",
       "0              1.33      64236.62  1036.74   54454.85   48.16     8696.87   \n",
       "1              1.35      54876.98   674.28   44638.81   58.33     9505.56   \n",
       "2              0.93     118220.22   794.70  109149.67  130.50     8145.35   \n",
       "3              1.08      78992.15  1132.00   71976.41   72.58     5811.16   \n",
       "4              1.28      51039.60   941.48   43838.39   75.78     6183.95   \n",
       "...             ...           ...      ...        ...     ...         ...   \n",
       "18244          1.63      17074.83  2046.96    1529.20    0.00    13498.67   \n",
       "18245          1.71      13888.04  1191.70    3431.50    0.00     9264.84   \n",
       "18246          1.87      13766.76  1191.92    2452.79  727.94     9394.11   \n",
       "18247          1.93      16205.22  1527.63    2981.04  727.01    10969.54   \n",
       "18248          1.62      17489.58  2894.77    2356.13  224.53    12014.15   \n",
       "\n",
       "       Small Bags  Large Bags  XLarge Bags          type  year  \\\n",
       "0         8603.62       93.25          0.0  conventional  2015   \n",
       "1         9408.07       97.49          0.0  conventional  2015   \n",
       "2         8042.21      103.14          0.0  conventional  2015   \n",
       "3         5677.40      133.76          0.0  conventional  2015   \n",
       "4         5986.26      197.69          0.0  conventional  2015   \n",
       "...           ...         ...          ...           ...   ...   \n",
       "18244    13066.82      431.85          0.0       organic  2018   \n",
       "18245     8940.04      324.80          0.0       organic  2018   \n",
       "18246     9351.80       42.31          0.0       organic  2018   \n",
       "18247    10919.54       50.00          0.0       organic  2018   \n",
       "18248    11988.14       26.01          0.0       organic  2018   \n",
       "\n",
       "                 region  Month  Year  \n",
       "0                Albany     12  2015  \n",
       "1                Albany     12  2015  \n",
       "2                Albany     12  2015  \n",
       "3                Albany     12  2015  \n",
       "4                Albany     11  2015  \n",
       "...                 ...    ...   ...  \n",
       "18244  WestTexNewMexico      2  2018  \n",
       "18245  WestTexNewMexico      1  2018  \n",
       "18246  WestTexNewMexico      1  2018  \n",
       "18247  WestTexNewMexico      1  2018  \n",
       "18248  WestTexNewMexico      1  2018  \n",
       "\n",
       "[18249 rows x 14 columns]"
      ]
     },
     "execution_count": 162,
     "metadata": {},
     "output_type": "execute_result"
    }
   ],
   "source": [
    "df"
   ]
  },
  {
   "cell_type": "markdown",
   "id": "d3931219",
   "metadata": {},
   "source": [
    "# Data Visualization:"
   ]
  },
  {
   "cell_type": "code",
   "execution_count": 163,
   "id": "d1d00e02",
   "metadata": {},
   "outputs": [
    {
     "data": {
      "text/plain": [
       "<AxesSubplot:xlabel='year', ylabel='AveragePrice'>"
      ]
     },
     "execution_count": 163,
     "metadata": {},
     "output_type": "execute_result"
    },
    {
     "data": {
      "image/png": "[encoded data removed]",
      "text/plain": [
       "<Figure size 432x288 with 1 Axes>"
      ]
     },
     "metadata": {
      "needs_background": "light"
     },
     "output_type": "display_data"
    }
   ],
   "source": [
    "sns.barplot(x='year',y='AveragePrice',data = df)"
   ]
  },
  {
   "cell_type": "markdown",
   "id": "5310e44e",
   "metadata": {},
   "source": [
    "In 2017 average price is highest"
   ]
  },
  {
   "cell_type": "code",
   "execution_count": 164,
   "id": "367a8652",
   "metadata": {},
   "outputs": [
    {
     "data": {
      "text/plain": [
       "<AxesSubplot:xlabel='Month', ylabel='AveragePrice'>"
      ]
     },
     "execution_count": 164,
     "metadata": {},
     "output_type": "execute_result"
    },
    {
     "data": {
      "image/png": "[encoded data removed]",
      "text/plain": [
       "<Figure size 432x288 with 1 Axes>"
      ]
     },
     "metadata": {
      "needs_background": "light"
     },
     "output_type": "display_data"
    }
   ],
   "source": [
    "sns.barplot(x='Month',y='AveragePrice',data = df)"
   ]
  },
  {
   "cell_type": "markdown",
   "id": "56e9ead2",
   "metadata": {},
   "source": [
    "September and October are the month where max no of average price is there"
   ]
  },
  {
   "cell_type": "code",
   "execution_count": 165,
   "id": "c2dbe374",
   "metadata": {},
   "outputs": [
    {
     "data": {
      "image/png": "[encoded data removed]",
      "text/plain": [
       "<Figure size 720x432 with 1 Axes>"
      ]
     },
     "metadata": {
      "needs_background": "light"
     },
     "output_type": "display_data"
    }
   ],
   "source": [
    "plt.figure(figsize = (10,6))\n",
    "sns.lineplot(x = 'year', y = 'AveragePrice', hue = 'type', data = df )\n",
    "plt.show()"
   ]
  },
  {
   "cell_type": "markdown",
   "id": "e3605c52",
   "metadata": {},
   "source": [
    "Hike between year 2016/5 to 2017/5 of both type of avocado both for conventional and organic type of avocado."
   ]
  },
  {
   "cell_type": "code",
   "execution_count": 166,
   "id": "1615e0b5",
   "metadata": {},
   "outputs": [
    {
     "data": {
      "image/png": "[encoded data removed]",
      "text/plain": [
       "<Figure size 720x432 with 1 Axes>"
      ]
     },
     "metadata": {
      "needs_background": "light"
     },
     "output_type": "display_data"
    }
   ],
   "source": [
    "plt.figure(figsize = (10,6))\n",
    "sns.lineplot(x = 'Month', y = 'AveragePrice', hue = 'type', data = df )\n",
    "plt.show()"
   ]
  },
  {
   "cell_type": "markdown",
   "id": "b60ea2dd",
   "metadata": {},
   "source": [
    "There is hike between month 8–10 of both type of avocado both for conventional and organic type of avocado"
   ]
  },
  {
   "cell_type": "code",
   "execution_count": 167,
   "id": "6ffb846c",
   "metadata": {},
   "outputs": [
    {
     "data": {
      "text/plain": [
       "<AxesSubplot:xlabel='AveragePrice', ylabel='Count'>"
      ]
     },
     "execution_count": 167,
     "metadata": {},
     "output_type": "execute_result"
    },
    {
     "data": {
      "image/png": "[encoded data removed]",
      "text/plain": [
       "<Figure size 432x288 with 1 Axes>"
      ]
     },
     "metadata": {
      "needs_background": "light"
     },
     "output_type": "display_data"
    }
   ],
   "source": [
    "sns.histplot(x='AveragePrice',data=df,kde=True)"
   ]
  },
  {
   "cell_type": "code",
   "execution_count": 168,
   "id": "4838c1f7",
   "metadata": {},
   "outputs": [
    {
     "data": {
      "text/plain": [
       "<AxesSubplot:xlabel='Month', ylabel='Count'>"
      ]
     },
     "execution_count": 168,
     "metadata": {},
     "output_type": "execute_result"
    },
    {
     "data": {
      "image/png": "[encoded data removed]",
      "text/plain": [
       "<Figure size 432x288 with 1 Axes>"
      ]
     },
     "metadata": {
      "needs_background": "light"
     },
     "output_type": "display_data"
    }
   ],
   "source": [
    "sns.histplot(x='Month',data=df,kde=True)"
   ]
  },
  {
   "cell_type": "code",
   "execution_count": 169,
   "id": "06239f25",
   "metadata": {},
   "outputs": [
    {
     "data": {
      "text/plain": [
       "<AxesSubplot:xlabel='Total Bags', ylabel='Count'>"
      ]
     },
     "execution_count": 169,
     "metadata": {},
     "output_type": "execute_result"
    },
    {
     "data": {
      "image/png": "[encoded data removed]",
      "text/plain": [
       "<Figure size 432x288 with 1 Axes>"
      ]
     },
     "metadata": {
      "needs_background": "light"
     },
     "output_type": "display_data"
    }
   ],
   "source": [
    "sns.histplot(x='Total Bags',data=df,kde=True,bins = 30)"
   ]
  },
  {
   "cell_type": "code",
   "execution_count": 170,
   "id": "2303ae10",
   "metadata": {},
   "outputs": [
    {
     "data": {
      "text/plain": [
       "<AxesSubplot:xlabel='Total Volume', ylabel='Count'>"
      ]
     },
     "execution_count": 170,
     "metadata": {},
     "output_type": "execute_result"
    },
    {
     "data": {
      "image/png": "[encoded data removed]",
      "text/plain": [
       "<Figure size 432x288 with 1 Axes>"
      ]
     },
     "metadata": {
      "needs_background": "light"
     },
     "output_type": "display_data"
    }
   ],
   "source": [
    "sns.histplot(x='Total Volume',data=df,kde=True,bins = 30)"
   ]
  },
  {
   "cell_type": "code",
   "execution_count": 171,
   "id": "568bb5c1",
   "metadata": {},
   "outputs": [
    {
     "data": {
      "text/plain": [
       "<AxesSubplot:xlabel='4046', ylabel='Count'>"
      ]
     },
     "execution_count": 171,
     "metadata": {},
     "output_type": "execute_result"
    },
    {
     "data": {
      "image/png": "[encoded data removed]",
      "text/plain": [
       "<Figure size 432x288 with 1 Axes>"
      ]
     },
     "metadata": {
      "needs_background": "light"
     },
     "output_type": "display_data"
    }
   ],
   "source": [
    "sns.histplot(x='4046',data=df,kde=True,bins = 30)"
   ]
  },
  {
   "cell_type": "code",
   "execution_count": 172,
   "id": "4d5ac94c",
   "metadata": {},
   "outputs": [
    {
     "data": {
      "text/plain": [
       "<AxesSubplot:xlabel='4225', ylabel='Count'>"
      ]
     },
     "execution_count": 172,
     "metadata": {},
     "output_type": "execute_result"
    },
    {
     "data": {
      "image/png": "[encoded data removed]",
      "text/plain": [
       "<Figure size 432x288 with 1 Axes>"
      ]
     },
     "metadata": {
      "needs_background": "light"
     },
     "output_type": "display_data"
    }
   ],
   "source": [
    "sns.histplot(x='4225',data=df,kde=True,bins = 30)"
   ]
  },
  {
   "cell_type": "code",
   "execution_count": 173,
   "id": "af3daa39",
   "metadata": {},
   "outputs": [
    {
     "data": {
      "text/plain": [
       "<AxesSubplot:xlabel='4770', ylabel='Count'>"
      ]
     },
     "execution_count": 173,
     "metadata": {},
     "output_type": "execute_result"
    },
    {
     "data": {
      "image/png": "[encoded data removed]",
      "text/plain": [
       "<Figure size 432x288 with 1 Axes>"
      ]
     },
     "metadata": {
      "needs_background": "light"
     },
     "output_type": "display_data"
    }
   ],
   "source": [
    "sns.histplot(x='4770',data=df,kde=True,bins = 30)"
   ]
  },
  {
   "cell_type": "code",
   "execution_count": 174,
   "id": "2f3c2350",
   "metadata": {},
   "outputs": [
    {
     "data": {
      "text/plain": [
       "<AxesSubplot:xlabel='Total Bags', ylabel='Count'>"
      ]
     },
     "execution_count": 174,
     "metadata": {},
     "output_type": "execute_result"
    },
    {
     "data": {
      "image/png": "[encoded data removed]",
      "text/plain": [
       "<Figure size 432x288 with 1 Axes>"
      ]
     },
     "metadata": {
      "needs_background": "light"
     },
     "output_type": "display_data"
    }
   ],
   "source": [
    "sns.histplot(x='Total Bags',data=df,kde=True,bins = 30)"
   ]
  },
  {
   "cell_type": "code",
   "execution_count": 175,
   "id": "aeaee998",
   "metadata": {},
   "outputs": [
    {
     "data": {
      "text/plain": [
       "<AxesSubplot:xlabel='XLarge Bags', ylabel='Count'>"
      ]
     },
     "execution_count": 175,
     "metadata": {},
     "output_type": "execute_result"
    },
    {
     "data": {
      "image/png": "[encoded data removed]",
      "text/plain": [
       "<Figure size 432x288 with 1 Axes>"
      ]
     },
     "metadata": {
      "needs_background": "light"
     },
     "output_type": "display_data"
    }
   ],
   "source": [
    "sns.histplot(x='XLarge Bags',data=df,kde=True,bins = 30)"
   ]
  },
  {
   "cell_type": "code",
   "execution_count": 176,
   "id": "e47eff7b",
   "metadata": {},
   "outputs": [
    {
     "data": {
      "text/plain": [
       "<AxesSubplot:xlabel='Large Bags', ylabel='Count'>"
      ]
     },
     "execution_count": 176,
     "metadata": {},
     "output_type": "execute_result"
    },
    {
     "data": {
      "image/png": "[encoded data removed]",
      "text/plain": [
       "<Figure size 432x288 with 1 Axes>"
      ]
     },
     "metadata": {
      "needs_background": "light"
     },
     "output_type": "display_data"
    }
   ],
   "source": [
    "sns.histplot(x='Large Bags',data=df,kde=True,bins = 30)"
   ]
  },
  {
   "cell_type": "code",
   "execution_count": 177,
   "id": "678e6b9d",
   "metadata": {},
   "outputs": [
    {
     "data": {
      "text/plain": [
       "<AxesSubplot:xlabel='Year', ylabel='Count'>"
      ]
     },
     "execution_count": 177,
     "metadata": {},
     "output_type": "execute_result"
    },
    {
     "data": {
      "image/png": "[encoded data removed]",
      "text/plain": [
       "<Figure size 432x288 with 1 Axes>"
      ]
     },
     "metadata": {
      "needs_background": "light"
     },
     "output_type": "display_data"
    }
   ],
   "source": [
    "sns.histplot(x='Year',data=df,kde=True,bins = 30)"
   ]
  },
  {
   "cell_type": "markdown",
   "id": "7d0d8432",
   "metadata": {},
   "source": [
    "Average price column is normally distributing over the histogram.\n",
    "\n",
    "Other data are not much varying in term of numbers, so they are almost left skewed data\n",
    "\n"
   ]
  },
  {
   "cell_type": "code",
   "execution_count": 178,
   "id": "9c956a61",
   "metadata": {},
   "outputs": [
    {
     "data": {
      "text/plain": [
       "(array([ 0,  1,  2,  3,  4,  5,  6,  7,  8,  9, 10, 11, 12, 13, 14, 15, 16,\n",
       "        17, 18, 19, 20, 21, 22, 23, 24, 25, 26, 27, 28, 29, 30, 31, 32, 33,\n",
       "        34, 35, 36, 37, 38, 39, 40, 41, 42, 43, 44, 45, 46, 47, 48, 49, 50,\n",
       "        51, 52, 53]),\n",
       " [Text(0, 0, 'Albany'),\n",
       "  Text(1, 0, 'Atlanta'),\n",
       "  Text(2, 0, 'BaltimoreWashington'),\n",
       "  Text(3, 0, 'Boise'),\n",
       "  Text(4, 0, 'Boston'),\n",
       "  Text(5, 0, 'BuffaloRochester'),\n",
       "  Text(6, 0, 'California'),\n",
       "  Text(7, 0, 'Charlotte'),\n",
       "  Text(8, 0, 'Chicago'),\n",
       "  Text(9, 0, 'CincinnatiDayton'),\n",
       "  Text(10, 0, 'Columbus'),\n",
       "  Text(11, 0, 'DallasFtWorth'),\n",
       "  Text(12, 0, 'Denver'),\n",
       "  Text(13, 0, 'Detroit'),\n",
       "  Text(14, 0, 'GrandRapids'),\n",
       "  Text(15, 0, 'GreatLakes'),\n",
       "  Text(16, 0, 'HarrisburgScranton'),\n",
       "  Text(17, 0, 'HartfordSpringfield'),\n",
       "  Text(18, 0, 'Houston'),\n",
       "  Text(19, 0, 'Indianapolis'),\n",
       "  Text(20, 0, 'Jacksonville'),\n",
       "  Text(21, 0, 'LasVegas'),\n",
       "  Text(22, 0, 'LosAngeles'),\n",
       "  Text(23, 0, 'Louisville'),\n",
       "  Text(24, 0, 'MiamiFtLauderdale'),\n",
       "  Text(25, 0, 'Midsouth'),\n",
       "  Text(26, 0, 'Nashville'),\n",
       "  Text(27, 0, 'NewOrleansMobile'),\n",
       "  Text(28, 0, 'NewYork'),\n",
       "  Text(29, 0, 'Northeast'),\n",
       "  Text(30, 0, 'NorthernNewEngland'),\n",
       "  Text(31, 0, 'Orlando'),\n",
       "  Text(32, 0, 'Philadelphia'),\n",
       "  Text(33, 0, 'PhoenixTucson'),\n",
       "  Text(34, 0, 'Pittsburgh'),\n",
       "  Text(35, 0, 'Plains'),\n",
       "  Text(36, 0, 'Portland'),\n",
       "  Text(37, 0, 'RaleighGreensboro'),\n",
       "  Text(38, 0, 'RichmondNorfolk'),\n",
       "  Text(39, 0, 'Roanoke'),\n",
       "  Text(40, 0, 'Sacramento'),\n",
       "  Text(41, 0, 'SanDiego'),\n",
       "  Text(42, 0, 'SanFrancisco'),\n",
       "  Text(43, 0, 'Seattle'),\n",
       "  Text(44, 0, 'SouthCarolina'),\n",
       "  Text(45, 0, 'SouthCentral'),\n",
       "  Text(46, 0, 'Southeast'),\n",
       "  Text(47, 0, 'Spokane'),\n",
       "  Text(48, 0, 'StLouis'),\n",
       "  Text(49, 0, 'Syracuse'),\n",
       "  Text(50, 0, 'Tampa'),\n",
       "  Text(51, 0, 'TotalUS'),\n",
       "  Text(52, 0, 'West'),\n",
       "  Text(53, 0, 'WestTexNewMexico')])"
      ]
     },
     "execution_count": 178,
     "metadata": {},
     "output_type": "execute_result"
    },
    {
     "data": {
      "image/png": "[encoded data removed]",
      "text/plain": [
       "<Figure size 1440x720 with 1 Axes>"
      ]
     },
     "metadata": {
      "needs_background": "light"
     },
     "output_type": "display_data"
    }
   ],
   "source": [
    "plt.figure(figsize=(20,10))\n",
    "sns.barplot(x='region',y='Total Volume',data=df)\n",
    "plt.xticks(rotation=90)"
   ]
  },
  {
   "cell_type": "markdown",
   "id": "ea913ea0",
   "metadata": {},
   "source": [
    "Highest volumes of avacado's are found in the US. That could be the reason price of avacado's low there. As supply increases price decreases,whereas region with less volume such as las vegas have the highest price of avacado's."
   ]
  },
  {
   "cell_type": "code",
   "execution_count": 179,
   "id": "44c86118",
   "metadata": {},
   "outputs": [
    {
     "data": {
      "text/plain": [
       "(array([ 0,  1,  2,  3,  4,  5,  6,  7,  8,  9, 10, 11, 12, 13, 14, 15, 16,\n",
       "        17, 18, 19, 20, 21, 22, 23, 24, 25, 26, 27, 28, 29, 30, 31, 32, 33,\n",
       "        34, 35, 36, 37, 38, 39, 40, 41, 42, 43, 44, 45, 46, 47, 48, 49, 50,\n",
       "        51, 52, 53]),\n",
       " [Text(0, 0, 'Albany'),\n",
       "  Text(1, 0, 'Atlanta'),\n",
       "  Text(2, 0, 'BaltimoreWashington'),\n",
       "  Text(3, 0, 'Boise'),\n",
       "  Text(4, 0, 'Boston'),\n",
       "  Text(5, 0, 'BuffaloRochester'),\n",
       "  Text(6, 0, 'California'),\n",
       "  Text(7, 0, 'Charlotte'),\n",
       "  Text(8, 0, 'Chicago'),\n",
       "  Text(9, 0, 'CincinnatiDayton'),\n",
       "  Text(10, 0, 'Columbus'),\n",
       "  Text(11, 0, 'DallasFtWorth'),\n",
       "  Text(12, 0, 'Denver'),\n",
       "  Text(13, 0, 'Detroit'),\n",
       "  Text(14, 0, 'GrandRapids'),\n",
       "  Text(15, 0, 'GreatLakes'),\n",
       "  Text(16, 0, 'HarrisburgScranton'),\n",
       "  Text(17, 0, 'HartfordSpringfield'),\n",
       "  Text(18, 0, 'Houston'),\n",
       "  Text(19, 0, 'Indianapolis'),\n",
       "  Text(20, 0, 'Jacksonville'),\n",
       "  Text(21, 0, 'LasVegas'),\n",
       "  Text(22, 0, 'LosAngeles'),\n",
       "  Text(23, 0, 'Louisville'),\n",
       "  Text(24, 0, 'MiamiFtLauderdale'),\n",
       "  Text(25, 0, 'Midsouth'),\n",
       "  Text(26, 0, 'Nashville'),\n",
       "  Text(27, 0, 'NewOrleansMobile'),\n",
       "  Text(28, 0, 'NewYork'),\n",
       "  Text(29, 0, 'Northeast'),\n",
       "  Text(30, 0, 'NorthernNewEngland'),\n",
       "  Text(31, 0, 'Orlando'),\n",
       "  Text(32, 0, 'Philadelphia'),\n",
       "  Text(33, 0, 'PhoenixTucson'),\n",
       "  Text(34, 0, 'Pittsburgh'),\n",
       "  Text(35, 0, 'Plains'),\n",
       "  Text(36, 0, 'Portland'),\n",
       "  Text(37, 0, 'RaleighGreensboro'),\n",
       "  Text(38, 0, 'RichmondNorfolk'),\n",
       "  Text(39, 0, 'Roanoke'),\n",
       "  Text(40, 0, 'Sacramento'),\n",
       "  Text(41, 0, 'SanDiego'),\n",
       "  Text(42, 0, 'SanFrancisco'),\n",
       "  Text(43, 0, 'Seattle'),\n",
       "  Text(44, 0, 'SouthCarolina'),\n",
       "  Text(45, 0, 'SouthCentral'),\n",
       "  Text(46, 0, 'Southeast'),\n",
       "  Text(47, 0, 'Spokane'),\n",
       "  Text(48, 0, 'StLouis'),\n",
       "  Text(49, 0, 'Syracuse'),\n",
       "  Text(50, 0, 'Tampa'),\n",
       "  Text(51, 0, 'TotalUS'),\n",
       "  Text(52, 0, 'West'),\n",
       "  Text(53, 0, 'WestTexNewMexico')])"
      ]
     },
     "execution_count": 179,
     "metadata": {},
     "output_type": "execute_result"
    },
    {
     "data": {
      "image/png": "[encoded data removed]",
      "text/plain": [
       "<Figure size 1440x720 with 1 Axes>"
      ]
     },
     "metadata": {
      "needs_background": "light"
     },
     "output_type": "display_data"
    }
   ],
   "source": [
    "plt.figure(figsize=(20,10))\n",
    "sns.barplot(x='region',y='Total Bags',data=df)\n",
    "plt.xticks(rotation=90)"
   ]
  },
  {
   "cell_type": "markdown",
   "id": "1266bc0d",
   "metadata": {},
   "source": [
    "Data is similar to the previous bar chart, as the volumes of avacado increases in a region, total bags also increases to carry those avacado's."
   ]
  },
  {
   "cell_type": "code",
   "execution_count": 180,
   "id": "e696a20a",
   "metadata": {},
   "outputs": [
    {
     "data": {
      "text/plain": [
       "<AxesSubplot:xlabel='Total Volume', ylabel='Total Bags'>"
      ]
     },
     "execution_count": 180,
     "metadata": {},
     "output_type": "execute_result"
    },
    {
     "data": {
      "image/png": "[encoded data removed]",
      "text/plain": [
       "<Figure size 720x720 with 1 Axes>"
      ]
     },
     "metadata": {
      "needs_background": "light"
     },
     "output_type": "display_data"
    }
   ],
   "source": [
    "plt.figure(figsize=(10,10))\n",
    "sns.scatterplot(x='Total Volume',y='Total Bags',hue='AveragePrice',data=df)"
   ]
  },
  {
   "cell_type": "markdown",
   "id": "5fee3f7b",
   "metadata": {},
   "source": [
    "As the total volume increases, Total bags also increases to carry it but the average price seem to decrease. When the volumes of avacados are low average price increases of avacados.\n",
    "\n"
   ]
  },
  {
   "cell_type": "code",
   "execution_count": 181,
   "id": "85ca647e",
   "metadata": {},
   "outputs": [
    {
     "data": {
      "text/plain": [
       "<AxesSubplot:xlabel='Total Bags', ylabel='4225'>"
      ]
     },
     "execution_count": 181,
     "metadata": {},
     "output_type": "execute_result"
    },
    {
     "data": {
      "image/png": "[encoded data removed]",
      "text/plain": [
       "<Figure size 720x720 with 1 Axes>"
      ]
     },
     "metadata": {
      "needs_background": "light"
     },
     "output_type": "display_data"
    }
   ],
   "source": [
    "plt.figure(figsize=(10,10))\n",
    "sns.scatterplot(x='Total Bags',y='4225',hue='AveragePrice',data=df)"
   ]
  },
  {
   "cell_type": "markdown",
   "id": "10994270",
   "metadata": {},
   "source": [
    "As PlU's increases so does the no. of total bags but as we know if supply of something increases its price decreases. Same thing can be seen here."
   ]
  },
  {
   "cell_type": "code",
   "execution_count": 182,
   "id": "c41af16a",
   "metadata": {},
   "outputs": [
    {
     "data": {
      "text/plain": [
       "<AxesSubplot:>"
      ]
     },
     "execution_count": 182,
     "metadata": {},
     "output_type": "execute_result"
    },
    {
     "data": {
      "image/png": "[encoded data removed]",
      "text/plain": [
       "<Figure size 936x720 with 2 Axes>"
      ]
     },
     "metadata": {
      "needs_background": "light"
     },
     "output_type": "display_data"
    }
   ],
   "source": [
    "plt.figure(figsize=(13,10))\n",
    "sns.heatmap(df.corr(),annot=True)"
   ]
  },
  {
   "cell_type": "markdown",
   "id": "3f1528ba",
   "metadata": {},
   "source": [
    "Average price shows positive relationship with the year column while negative correlation with all the other column. Intresting thing to notice here is that independent features show more than 90% correlation with each other. This is a case of multicollinearity. We need to remove some features to resolve this problem."
   ]
  },
  {
   "cell_type": "markdown",
   "id": "1692dfdc",
   "metadata": {},
   "source": [
    "# Encoding"
   ]
  },
  {
   "cell_type": "code",
   "execution_count": 183,
   "id": "6b221afc",
   "metadata": {},
   "outputs": [],
   "source": [
    "from sklearn.preprocessing import OrdinalEncoder\n",
    "o=OrdinalEncoder()"
   ]
  },
  {
   "cell_type": "code",
   "execution_count": 184,
   "id": "bcd25185",
   "metadata": {},
   "outputs": [],
   "source": [
    "df['region']=o.fit_transform(df['region'].values.reshape(-1,1))\n",
    "df['type']=o.fit_transform(df['type'].values.reshape(-1,1))"
   ]
  },
  {
   "cell_type": "code",
   "execution_count": 185,
   "id": "f6982204",
   "metadata": {},
   "outputs": [
    {
     "data": {
      "text/html": [
       "<div>\n",
       "<style scoped>\n",
       "    .dataframe tbody tr th:only-of-type {\n",
       "        vertical-align: middle;\n",
       "    }\n",
       "\n",
       "    .dataframe tbody tr th {\n",
       "        vertical-align: top;\n",
       "    }\n",
       "\n",
       "    .dataframe thead th {\n",
       "        text-align: right;\n",
       "    }\n",
       "</style>\n",
       "<table border=\"1\" class=\"dataframe\">\n",
       "  <thead>\n",
       "    <tr style=\"text-align: right;\">\n",
       "      <th></th>\n",
       "      <th>AveragePrice</th>\n",
       "      <th>Total Volume</th>\n",
       "      <th>4046</th>\n",
       "      <th>4225</th>\n",
       "      <th>4770</th>\n",
       "      <th>Total Bags</th>\n",
       "      <th>Small Bags</th>\n",
       "      <th>Large Bags</th>\n",
       "      <th>XLarge Bags</th>\n",
       "      <th>type</th>\n",
       "      <th>year</th>\n",
       "      <th>region</th>\n",
       "      <th>Month</th>\n",
       "      <th>Year</th>\n",
       "    </tr>\n",
       "  </thead>\n",
       "  <tbody>\n",
       "    <tr>\n",
       "      <th>0</th>\n",
       "      <td>1.33</td>\n",
       "      <td>64236.62</td>\n",
       "      <td>1036.74</td>\n",
       "      <td>54454.85</td>\n",
       "      <td>48.16</td>\n",
       "      <td>8696.87</td>\n",
       "      <td>8603.62</td>\n",
       "      <td>93.25</td>\n",
       "      <td>0.0</td>\n",
       "      <td>0.0</td>\n",
       "      <td>2015</td>\n",
       "      <td>0.0</td>\n",
       "      <td>12</td>\n",
       "      <td>2015</td>\n",
       "    </tr>\n",
       "    <tr>\n",
       "      <th>1</th>\n",
       "      <td>1.35</td>\n",
       "      <td>54876.98</td>\n",
       "      <td>674.28</td>\n",
       "      <td>44638.81</td>\n",
       "      <td>58.33</td>\n",
       "      <td>9505.56</td>\n",
       "      <td>9408.07</td>\n",
       "      <td>97.49</td>\n",
       "      <td>0.0</td>\n",
       "      <td>0.0</td>\n",
       "      <td>2015</td>\n",
       "      <td>0.0</td>\n",
       "      <td>12</td>\n",
       "      <td>2015</td>\n",
       "    </tr>\n",
       "    <tr>\n",
       "      <th>2</th>\n",
       "      <td>0.93</td>\n",
       "      <td>118220.22</td>\n",
       "      <td>794.70</td>\n",
       "      <td>109149.67</td>\n",
       "      <td>130.50</td>\n",
       "      <td>8145.35</td>\n",
       "      <td>8042.21</td>\n",
       "      <td>103.14</td>\n",
       "      <td>0.0</td>\n",
       "      <td>0.0</td>\n",
       "      <td>2015</td>\n",
       "      <td>0.0</td>\n",
       "      <td>12</td>\n",
       "      <td>2015</td>\n",
       "    </tr>\n",
       "    <tr>\n",
       "      <th>3</th>\n",
       "      <td>1.08</td>\n",
       "      <td>78992.15</td>\n",
       "      <td>1132.00</td>\n",
       "      <td>71976.41</td>\n",
       "      <td>72.58</td>\n",
       "      <td>5811.16</td>\n",
       "      <td>5677.40</td>\n",
       "      <td>133.76</td>\n",
       "      <td>0.0</td>\n",
       "      <td>0.0</td>\n",
       "      <td>2015</td>\n",
       "      <td>0.0</td>\n",
       "      <td>12</td>\n",
       "      <td>2015</td>\n",
       "    </tr>\n",
       "    <tr>\n",
       "      <th>4</th>\n",
       "      <td>1.28</td>\n",
       "      <td>51039.60</td>\n",
       "      <td>941.48</td>\n",
       "      <td>43838.39</td>\n",
       "      <td>75.78</td>\n",
       "      <td>6183.95</td>\n",
       "      <td>5986.26</td>\n",
       "      <td>197.69</td>\n",
       "      <td>0.0</td>\n",
       "      <td>0.0</td>\n",
       "      <td>2015</td>\n",
       "      <td>0.0</td>\n",
       "      <td>11</td>\n",
       "      <td>2015</td>\n",
       "    </tr>\n",
       "    <tr>\n",
       "      <th>...</th>\n",
       "      <td>...</td>\n",
       "      <td>...</td>\n",
       "      <td>...</td>\n",
       "      <td>...</td>\n",
       "      <td>...</td>\n",
       "      <td>...</td>\n",
       "      <td>...</td>\n",
       "      <td>...</td>\n",
       "      <td>...</td>\n",
       "      <td>...</td>\n",
       "      <td>...</td>\n",
       "      <td>...</td>\n",
       "      <td>...</td>\n",
       "      <td>...</td>\n",
       "    </tr>\n",
       "    <tr>\n",
       "      <th>18244</th>\n",
       "      <td>1.63</td>\n",
       "      <td>17074.83</td>\n",
       "      <td>2046.96</td>\n",
       "      <td>1529.20</td>\n",
       "      <td>0.00</td>\n",
       "      <td>13498.67</td>\n",
       "      <td>13066.82</td>\n",
       "      <td>431.85</td>\n",
       "      <td>0.0</td>\n",
       "      <td>1.0</td>\n",
       "      <td>2018</td>\n",
       "      <td>53.0</td>\n",
       "      <td>2</td>\n",
       "      <td>2018</td>\n",
       "    </tr>\n",
       "    <tr>\n",
       "      <th>18245</th>\n",
       "      <td>1.71</td>\n",
       "      <td>13888.04</td>\n",
       "      <td>1191.70</td>\n",
       "      <td>3431.50</td>\n",
       "      <td>0.00</td>\n",
       "      <td>9264.84</td>\n",
       "      <td>8940.04</td>\n",
       "      <td>324.80</td>\n",
       "      <td>0.0</td>\n",
       "      <td>1.0</td>\n",
       "      <td>2018</td>\n",
       "      <td>53.0</td>\n",
       "      <td>1</td>\n",
       "      <td>2018</td>\n",
       "    </tr>\n",
       "    <tr>\n",
       "      <th>18246</th>\n",
       "      <td>1.87</td>\n",
       "      <td>13766.76</td>\n",
       "      <td>1191.92</td>\n",
       "      <td>2452.79</td>\n",
       "      <td>727.94</td>\n",
       "      <td>9394.11</td>\n",
       "      <td>9351.80</td>\n",
       "      <td>42.31</td>\n",
       "      <td>0.0</td>\n",
       "      <td>1.0</td>\n",
       "      <td>2018</td>\n",
       "      <td>53.0</td>\n",
       "      <td>1</td>\n",
       "      <td>2018</td>\n",
       "    </tr>\n",
       "    <tr>\n",
       "      <th>18247</th>\n",
       "      <td>1.93</td>\n",
       "      <td>16205.22</td>\n",
       "      <td>1527.63</td>\n",
       "      <td>2981.04</td>\n",
       "      <td>727.01</td>\n",
       "      <td>10969.54</td>\n",
       "      <td>10919.54</td>\n",
       "      <td>50.00</td>\n",
       "      <td>0.0</td>\n",
       "      <td>1.0</td>\n",
       "      <td>2018</td>\n",
       "      <td>53.0</td>\n",
       "      <td>1</td>\n",
       "      <td>2018</td>\n",
       "    </tr>\n",
       "    <tr>\n",
       "      <th>18248</th>\n",
       "      <td>1.62</td>\n",
       "      <td>17489.58</td>\n",
       "      <td>2894.77</td>\n",
       "      <td>2356.13</td>\n",
       "      <td>224.53</td>\n",
       "      <td>12014.15</td>\n",
       "      <td>11988.14</td>\n",
       "      <td>26.01</td>\n",
       "      <td>0.0</td>\n",
       "      <td>1.0</td>\n",
       "      <td>2018</td>\n",
       "      <td>53.0</td>\n",
       "      <td>1</td>\n",
       "      <td>2018</td>\n",
       "    </tr>\n",
       "  </tbody>\n",
       "</table>\n",
       "<p>18249 rows × 14 columns</p>\n",
       "</div>"
      ],
      "text/plain": [
       "       AveragePrice  Total Volume     4046       4225    4770  Total Bags  \\\n",
       "0              1.33      64236.62  1036.74   54454.85   48.16     8696.87   \n",
       "1              1.35      54876.98   674.28   44638.81   58.33     9505.56   \n",
       "2              0.93     118220.22   794.70  109149.67  130.50     8145.35   \n",
       "3              1.08      78992.15  1132.00   71976.41   72.58     5811.16   \n",
       "4              1.28      51039.60   941.48   43838.39   75.78     6183.95   \n",
       "...             ...           ...      ...        ...     ...         ...   \n",
       "18244          1.63      17074.83  2046.96    1529.20    0.00    13498.67   \n",
       "18245          1.71      13888.04  1191.70    3431.50    0.00     9264.84   \n",
       "18246          1.87      13766.76  1191.92    2452.79  727.94     9394.11   \n",
       "18247          1.93      16205.22  1527.63    2981.04  727.01    10969.54   \n",
       "18248          1.62      17489.58  2894.77    2356.13  224.53    12014.15   \n",
       "\n",
       "       Small Bags  Large Bags  XLarge Bags  type  year  region  Month  Year  \n",
       "0         8603.62       93.25          0.0   0.0  2015     0.0     12  2015  \n",
       "1         9408.07       97.49          0.0   0.0  2015     0.0     12  2015  \n",
       "2         8042.21      103.14          0.0   0.0  2015     0.0     12  2015  \n",
       "3         5677.40      133.76          0.0   0.0  2015     0.0     12  2015  \n",
       "4         5986.26      197.69          0.0   0.0  2015     0.0     11  2015  \n",
       "...           ...         ...          ...   ...   ...     ...    ...   ...  \n",
       "18244    13066.82      431.85          0.0   1.0  2018    53.0      2  2018  \n",
       "18245     8940.04      324.80          0.0   1.0  2018    53.0      1  2018  \n",
       "18246     9351.80       42.31          0.0   1.0  2018    53.0      1  2018  \n",
       "18247    10919.54       50.00          0.0   1.0  2018    53.0      1  2018  \n",
       "18248    11988.14       26.01          0.0   1.0  2018    53.0      1  2018  \n",
       "\n",
       "[18249 rows x 14 columns]"
      ]
     },
     "execution_count": 185,
     "metadata": {},
     "output_type": "execute_result"
    }
   ],
   "source": [
    "df"
   ]
  },
  {
   "cell_type": "markdown",
   "id": "8cd977c7",
   "metadata": {},
   "source": [
    "# Removing Outliers"
   ]
  },
  {
   "cell_type": "code",
   "execution_count": 186,
   "id": "760cf1a8",
   "metadata": {},
   "outputs": [
    {
     "data": {
      "image/png": "[encoded data removed]",
      "text/plain": [
       "<Figure size 720x720 with 9 Axes>"
      ]
     },
     "metadata": {},
     "output_type": "display_data"
    }
   ],
   "source": [
    "# Checking for outliers\n",
    "plt.figure(figsize = (10,10), facecolor = 'red')\n",
    "i = 1\n",
    "for columns in df:\n",
    "    if i<=9:\n",
    "        ax = plt.subplot(3,3,i)\n",
    "        sns.boxplot(data = df[columns])\n",
    "        plt.xlabel(columns,fontsize = 10)\n",
    "    \n",
    "    i+=1\n",
    "    plt.tight_layout()"
   ]
  },
  {
   "cell_type": "code",
   "execution_count": null,
   "id": "dbfd97aa",
   "metadata": {},
   "outputs": [],
   "source": []
  },
  {
   "cell_type": "code",
   "execution_count": 187,
   "id": "8950cb0b",
   "metadata": {},
   "outputs": [],
   "source": [
    "def threhold(z,d):\n",
    "    for i in np.arange(3,4,0.01):\n",
    "        data=d.copy()\n",
    "        data=data[(z<i).all(axis=1)]\n",
    "        loss=(d.shape[0]-data.shape[0])/d.shape[0]*100\n",
    "        print('With threshold {} data loss is {}%'.format(np.round(i,2),np.round(loss,2))) "
   ]
  },
  {
   "cell_type": "code",
   "execution_count": 188,
   "id": "f69718d5",
   "metadata": {},
   "outputs": [
    {
     "name": "stdout",
     "output_type": "stream",
     "text": [
      "With threshold 3.0 data loss is 3.28%\n",
      "With threshold 3.01 data loss is 3.27%\n",
      "With threshold 3.02 data loss is 3.19%\n",
      "With threshold 3.03 data loss is 3.17%\n",
      "With threshold 3.04 data loss is 3.14%\n",
      "With threshold 3.05 data loss is 3.13%\n",
      "With threshold 3.06 data loss is 3.12%\n",
      "With threshold 3.07 data loss is 3.09%\n",
      "With threshold 3.08 data loss is 3.07%\n",
      "With threshold 3.09 data loss is 3.03%\n",
      "With threshold 3.1 data loss is 3.0%\n",
      "With threshold 3.11 data loss is 3.0%\n",
      "With threshold 3.12 data loss is 2.95%\n",
      "With threshold 3.13 data loss is 2.94%\n",
      "With threshold 3.14 data loss is 2.89%\n",
      "With threshold 3.15 data loss is 2.89%\n",
      "With threshold 3.16 data loss is 2.88%\n",
      "With threshold 3.17 data loss is 2.85%\n",
      "With threshold 3.18 data loss is 2.84%\n",
      "With threshold 3.19 data loss is 2.83%\n",
      "With threshold 3.2 data loss is 2.81%\n",
      "With threshold 3.21 data loss is 2.8%\n",
      "With threshold 3.22 data loss is 2.78%\n",
      "With threshold 3.23 data loss is 2.76%\n",
      "With threshold 3.24 data loss is 2.73%\n",
      "With threshold 3.25 data loss is 2.73%\n",
      "With threshold 3.26 data loss is 2.73%\n",
      "With threshold 3.27 data loss is 2.7%\n",
      "With threshold 3.28 data loss is 2.7%\n",
      "With threshold 3.29 data loss is 2.66%\n",
      "With threshold 3.3 data loss is 2.64%\n",
      "With threshold 3.31 data loss is 2.62%\n",
      "With threshold 3.32 data loss is 2.59%\n",
      "With threshold 3.33 data loss is 2.58%\n",
      "With threshold 3.34 data loss is 2.55%\n",
      "With threshold 3.35 data loss is 2.54%\n",
      "With threshold 3.36 data loss is 2.54%\n",
      "With threshold 3.37 data loss is 2.51%\n",
      "With threshold 3.38 data loss is 2.51%\n",
      "With threshold 3.39 data loss is 2.48%\n",
      "With threshold 3.4 data loss is 2.48%\n",
      "With threshold 3.41 data loss is 2.47%\n",
      "With threshold 3.42 data loss is 2.45%\n",
      "With threshold 3.43 data loss is 2.44%\n",
      "With threshold 3.44 data loss is 2.41%\n",
      "With threshold 3.45 data loss is 2.39%\n",
      "With threshold 3.46 data loss is 2.38%\n",
      "With threshold 3.47 data loss is 2.36%\n",
      "With threshold 3.48 data loss is 2.36%\n",
      "With threshold 3.49 data loss is 2.32%\n",
      "With threshold 3.5 data loss is 2.3%\n",
      "With threshold 3.51 data loss is 2.3%\n",
      "With threshold 3.52 data loss is 2.28%\n",
      "With threshold 3.53 data loss is 2.28%\n",
      "With threshold 3.54 data loss is 2.24%\n",
      "With threshold 3.55 data loss is 2.23%\n",
      "With threshold 3.56 data loss is 2.22%\n",
      "With threshold 3.57 data loss is 2.18%\n",
      "With threshold 3.58 data loss is 2.16%\n",
      "With threshold 3.59 data loss is 2.13%\n",
      "With threshold 3.6 data loss is 2.12%\n",
      "With threshold 3.61 data loss is 2.12%\n",
      "With threshold 3.62 data loss is 2.1%\n",
      "With threshold 3.63 data loss is 2.1%\n",
      "With threshold 3.64 data loss is 2.08%\n",
      "With threshold 3.65 data loss is 2.07%\n",
      "With threshold 3.66 data loss is 2.07%\n",
      "With threshold 3.67 data loss is 2.04%\n",
      "With threshold 3.68 data loss is 2.03%\n",
      "With threshold 3.69 data loss is 2.01%\n",
      "With threshold 3.7 data loss is 1.99%\n",
      "With threshold 3.71 data loss is 1.98%\n",
      "With threshold 3.72 data loss is 1.96%\n",
      "With threshold 3.73 data loss is 1.96%\n",
      "With threshold 3.74 data loss is 1.93%\n",
      "With threshold 3.75 data loss is 1.92%\n",
      "With threshold 3.76 data loss is 1.89%\n",
      "With threshold 3.77 data loss is 1.87%\n",
      "With threshold 3.78 data loss is 1.87%\n",
      "With threshold 3.79 data loss is 1.84%\n",
      "With threshold 3.8 data loss is 1.83%\n",
      "With threshold 3.81 data loss is 1.82%\n",
      "With threshold 3.82 data loss is 1.81%\n",
      "With threshold 3.83 data loss is 1.8%\n",
      "With threshold 3.84 data loss is 1.79%\n",
      "With threshold 3.85 data loss is 1.78%\n",
      "With threshold 3.86 data loss is 1.77%\n",
      "With threshold 3.87 data loss is 1.76%\n",
      "With threshold 3.88 data loss is 1.74%\n",
      "With threshold 3.89 data loss is 1.74%\n",
      "With threshold 3.9 data loss is 1.73%\n",
      "With threshold 3.91 data loss is 1.72%\n",
      "With threshold 3.92 data loss is 1.72%\n",
      "With threshold 3.93 data loss is 1.71%\n",
      "With threshold 3.94 data loss is 1.7%\n",
      "With threshold 3.95 data loss is 1.68%\n",
      "With threshold 3.96 data loss is 1.67%\n",
      "With threshold 3.97 data loss is 1.67%\n",
      "With threshold 3.98 data loss is 1.67%\n",
      "With threshold 3.99 data loss is 1.66%\n"
     ]
    }
   ],
   "source": [
    "#Using zscore method to remove outliers\n",
    "from scipy.stats import zscore\n",
    "z=np.abs(zscore(df))\n",
    "threhold(z,df)"
   ]
  },
  {
   "cell_type": "code",
   "execution_count": 189,
   "id": "0336169b",
   "metadata": {},
   "outputs": [],
   "source": [
    "#We use threshold as 3.57 because we cannot afford to loose much data\n",
    "df=df[(z<3.57).all(axis=1)]"
   ]
  },
  {
   "cell_type": "code",
   "execution_count": 190,
   "id": "b8b4ebfa",
   "metadata": {},
   "outputs": [
    {
     "data": {
      "text/html": [
       "<div>\n",
       "<style scoped>\n",
       "    .dataframe tbody tr th:only-of-type {\n",
       "        vertical-align: middle;\n",
       "    }\n",
       "\n",
       "    .dataframe tbody tr th {\n",
       "        vertical-align: top;\n",
       "    }\n",
       "\n",
       "    .dataframe thead th {\n",
       "        text-align: right;\n",
       "    }\n",
       "</style>\n",
       "<table border=\"1\" class=\"dataframe\">\n",
       "  <thead>\n",
       "    <tr style=\"text-align: right;\">\n",
       "      <th></th>\n",
       "      <th>AveragePrice</th>\n",
       "      <th>Total Volume</th>\n",
       "      <th>4046</th>\n",
       "      <th>4225</th>\n",
       "      <th>4770</th>\n",
       "      <th>Total Bags</th>\n",
       "      <th>Small Bags</th>\n",
       "      <th>Large Bags</th>\n",
       "      <th>XLarge Bags</th>\n",
       "      <th>type</th>\n",
       "      <th>year</th>\n",
       "      <th>region</th>\n",
       "      <th>Month</th>\n",
       "      <th>Year</th>\n",
       "    </tr>\n",
       "  </thead>\n",
       "  <tbody>\n",
       "    <tr>\n",
       "      <th>0</th>\n",
       "      <td>1.33</td>\n",
       "      <td>64236.62</td>\n",
       "      <td>1036.74</td>\n",
       "      <td>54454.85</td>\n",
       "      <td>48.16</td>\n",
       "      <td>8696.87</td>\n",
       "      <td>8603.62</td>\n",
       "      <td>93.25</td>\n",
       "      <td>0.0</td>\n",
       "      <td>0.0</td>\n",
       "      <td>2015</td>\n",
       "      <td>0.0</td>\n",
       "      <td>12</td>\n",
       "      <td>2015</td>\n",
       "    </tr>\n",
       "    <tr>\n",
       "      <th>1</th>\n",
       "      <td>1.35</td>\n",
       "      <td>54876.98</td>\n",
       "      <td>674.28</td>\n",
       "      <td>44638.81</td>\n",
       "      <td>58.33</td>\n",
       "      <td>9505.56</td>\n",
       "      <td>9408.07</td>\n",
       "      <td>97.49</td>\n",
       "      <td>0.0</td>\n",
       "      <td>0.0</td>\n",
       "      <td>2015</td>\n",
       "      <td>0.0</td>\n",
       "      <td>12</td>\n",
       "      <td>2015</td>\n",
       "    </tr>\n",
       "    <tr>\n",
       "      <th>2</th>\n",
       "      <td>0.93</td>\n",
       "      <td>118220.22</td>\n",
       "      <td>794.70</td>\n",
       "      <td>109149.67</td>\n",
       "      <td>130.50</td>\n",
       "      <td>8145.35</td>\n",
       "      <td>8042.21</td>\n",
       "      <td>103.14</td>\n",
       "      <td>0.0</td>\n",
       "      <td>0.0</td>\n",
       "      <td>2015</td>\n",
       "      <td>0.0</td>\n",
       "      <td>12</td>\n",
       "      <td>2015</td>\n",
       "    </tr>\n",
       "    <tr>\n",
       "      <th>3</th>\n",
       "      <td>1.08</td>\n",
       "      <td>78992.15</td>\n",
       "      <td>1132.00</td>\n",
       "      <td>71976.41</td>\n",
       "      <td>72.58</td>\n",
       "      <td>5811.16</td>\n",
       "      <td>5677.40</td>\n",
       "      <td>133.76</td>\n",
       "      <td>0.0</td>\n",
       "      <td>0.0</td>\n",
       "      <td>2015</td>\n",
       "      <td>0.0</td>\n",
       "      <td>12</td>\n",
       "      <td>2015</td>\n",
       "    </tr>\n",
       "    <tr>\n",
       "      <th>4</th>\n",
       "      <td>1.28</td>\n",
       "      <td>51039.60</td>\n",
       "      <td>941.48</td>\n",
       "      <td>43838.39</td>\n",
       "      <td>75.78</td>\n",
       "      <td>6183.95</td>\n",
       "      <td>5986.26</td>\n",
       "      <td>197.69</td>\n",
       "      <td>0.0</td>\n",
       "      <td>0.0</td>\n",
       "      <td>2015</td>\n",
       "      <td>0.0</td>\n",
       "      <td>11</td>\n",
       "      <td>2015</td>\n",
       "    </tr>\n",
       "    <tr>\n",
       "      <th>...</th>\n",
       "      <td>...</td>\n",
       "      <td>...</td>\n",
       "      <td>...</td>\n",
       "      <td>...</td>\n",
       "      <td>...</td>\n",
       "      <td>...</td>\n",
       "      <td>...</td>\n",
       "      <td>...</td>\n",
       "      <td>...</td>\n",
       "      <td>...</td>\n",
       "      <td>...</td>\n",
       "      <td>...</td>\n",
       "      <td>...</td>\n",
       "      <td>...</td>\n",
       "    </tr>\n",
       "    <tr>\n",
       "      <th>18244</th>\n",
       "      <td>1.63</td>\n",
       "      <td>17074.83</td>\n",
       "      <td>2046.96</td>\n",
       "      <td>1529.20</td>\n",
       "      <td>0.00</td>\n",
       "      <td>13498.67</td>\n",
       "      <td>13066.82</td>\n",
       "      <td>431.85</td>\n",
       "      <td>0.0</td>\n",
       "      <td>1.0</td>\n",
       "      <td>2018</td>\n",
       "      <td>53.0</td>\n",
       "      <td>2</td>\n",
       "      <td>2018</td>\n",
       "    </tr>\n",
       "    <tr>\n",
       "      <th>18245</th>\n",
       "      <td>1.71</td>\n",
       "      <td>13888.04</td>\n",
       "      <td>1191.70</td>\n",
       "      <td>3431.50</td>\n",
       "      <td>0.00</td>\n",
       "      <td>9264.84</td>\n",
       "      <td>8940.04</td>\n",
       "      <td>324.80</td>\n",
       "      <td>0.0</td>\n",
       "      <td>1.0</td>\n",
       "      <td>2018</td>\n",
       "      <td>53.0</td>\n",
       "      <td>1</td>\n",
       "      <td>2018</td>\n",
       "    </tr>\n",
       "    <tr>\n",
       "      <th>18246</th>\n",
       "      <td>1.87</td>\n",
       "      <td>13766.76</td>\n",
       "      <td>1191.92</td>\n",
       "      <td>2452.79</td>\n",
       "      <td>727.94</td>\n",
       "      <td>9394.11</td>\n",
       "      <td>9351.80</td>\n",
       "      <td>42.31</td>\n",
       "      <td>0.0</td>\n",
       "      <td>1.0</td>\n",
       "      <td>2018</td>\n",
       "      <td>53.0</td>\n",
       "      <td>1</td>\n",
       "      <td>2018</td>\n",
       "    </tr>\n",
       "    <tr>\n",
       "      <th>18247</th>\n",
       "      <td>1.93</td>\n",
       "      <td>16205.22</td>\n",
       "      <td>1527.63</td>\n",
       "      <td>2981.04</td>\n",
       "      <td>727.01</td>\n",
       "      <td>10969.54</td>\n",
       "      <td>10919.54</td>\n",
       "      <td>50.00</td>\n",
       "      <td>0.0</td>\n",
       "      <td>1.0</td>\n",
       "      <td>2018</td>\n",
       "      <td>53.0</td>\n",
       "      <td>1</td>\n",
       "      <td>2018</td>\n",
       "    </tr>\n",
       "    <tr>\n",
       "      <th>18248</th>\n",
       "      <td>1.62</td>\n",
       "      <td>17489.58</td>\n",
       "      <td>2894.77</td>\n",
       "      <td>2356.13</td>\n",
       "      <td>224.53</td>\n",
       "      <td>12014.15</td>\n",
       "      <td>11988.14</td>\n",
       "      <td>26.01</td>\n",
       "      <td>0.0</td>\n",
       "      <td>1.0</td>\n",
       "      <td>2018</td>\n",
       "      <td>53.0</td>\n",
       "      <td>1</td>\n",
       "      <td>2018</td>\n",
       "    </tr>\n",
       "  </tbody>\n",
       "</table>\n",
       "<p>17852 rows × 14 columns</p>\n",
       "</div>"
      ],
      "text/plain": [
       "       AveragePrice  Total Volume     4046       4225    4770  Total Bags  \\\n",
       "0              1.33      64236.62  1036.74   54454.85   48.16     8696.87   \n",
       "1              1.35      54876.98   674.28   44638.81   58.33     9505.56   \n",
       "2              0.93     118220.22   794.70  109149.67  130.50     8145.35   \n",
       "3              1.08      78992.15  1132.00   71976.41   72.58     5811.16   \n",
       "4              1.28      51039.60   941.48   43838.39   75.78     6183.95   \n",
       "...             ...           ...      ...        ...     ...         ...   \n",
       "18244          1.63      17074.83  2046.96    1529.20    0.00    13498.67   \n",
       "18245          1.71      13888.04  1191.70    3431.50    0.00     9264.84   \n",
       "18246          1.87      13766.76  1191.92    2452.79  727.94     9394.11   \n",
       "18247          1.93      16205.22  1527.63    2981.04  727.01    10969.54   \n",
       "18248          1.62      17489.58  2894.77    2356.13  224.53    12014.15   \n",
       "\n",
       "       Small Bags  Large Bags  XLarge Bags  type  year  region  Month  Year  \n",
       "0         8603.62       93.25          0.0   0.0  2015     0.0     12  2015  \n",
       "1         9408.07       97.49          0.0   0.0  2015     0.0     12  2015  \n",
       "2         8042.21      103.14          0.0   0.0  2015     0.0     12  2015  \n",
       "3         5677.40      133.76          0.0   0.0  2015     0.0     12  2015  \n",
       "4         5986.26      197.69          0.0   0.0  2015     0.0     11  2015  \n",
       "...           ...         ...          ...   ...   ...     ...    ...   ...  \n",
       "18244    13066.82      431.85          0.0   1.0  2018    53.0      2  2018  \n",
       "18245     8940.04      324.80          0.0   1.0  2018    53.0      1  2018  \n",
       "18246     9351.80       42.31          0.0   1.0  2018    53.0      1  2018  \n",
       "18247    10919.54       50.00          0.0   1.0  2018    53.0      1  2018  \n",
       "18248    11988.14       26.01          0.0   1.0  2018    53.0      1  2018  \n",
       "\n",
       "[17852 rows x 14 columns]"
      ]
     },
     "execution_count": 190,
     "metadata": {},
     "output_type": "execute_result"
    }
   ],
   "source": [
    "df"
   ]
  },
  {
   "cell_type": "code",
   "execution_count": 191,
   "id": "d54e3176",
   "metadata": {},
   "outputs": [
    {
     "data": {
      "text/plain": [
       "AveragePrice    0.489112\n",
       "Total Volume    3.687319\n",
       "4046            4.773721\n",
       "4225            4.365749\n",
       "4770            5.266465\n",
       "Total Bags      4.111382\n",
       "Small Bags      4.216424\n",
       "Large Bags      5.410824\n",
       "XLarge Bags     6.239287\n",
       "type           -0.035187\n",
       "year            0.221410\n",
       "region          0.009740\n",
       "Month           0.103099\n",
       "Year            0.221410\n",
       "dtype: float64"
      ]
     },
     "execution_count": 191,
     "metadata": {},
     "output_type": "execute_result"
    }
   ],
   "source": [
    "# Checking Skewness\n",
    "df.skew()"
   ]
  },
  {
   "cell_type": "markdown",
   "id": "9d42388c",
   "metadata": {},
   "source": [
    "# Removing Skewness"
   ]
  },
  {
   "cell_type": "code",
   "execution_count": 192,
   "id": "d85e8648",
   "metadata": {},
   "outputs": [],
   "source": [
    "from sklearn.preprocessing import PowerTransformer\n",
    "pt=PowerTransformer()"
   ]
  },
  {
   "cell_type": "code",
   "execution_count": 193,
   "id": "d4625442",
   "metadata": {},
   "outputs": [
    {
     "name": "stderr",
     "output_type": "stream",
     "text": [
      "C:\\Users\\prath\\AppData\\Local\\Temp\\ipykernel_2888\\2920522214.py:4: SettingWithCopyWarning: \n",
      "A value is trying to be set on a copy of a slice from a DataFrame.\n",
      "Try using .loc[row_indexer,col_indexer] = value instead\n",
      "\n",
      "See the caveats in the documentation: https://pandas.pydata.org/pandas-docs/stable/user_guide/indexing.html#returning-a-view-versus-a-copy\n",
      "  df[i]=pt.fit_transform(df[i].values.reshape(-1,1))\n",
      "C:\\Users\\prath\\AppData\\Local\\Temp\\ipykernel_2888\\2920522214.py:4: SettingWithCopyWarning: \n",
      "A value is trying to be set on a copy of a slice from a DataFrame.\n",
      "Try using .loc[row_indexer,col_indexer] = value instead\n",
      "\n",
      "See the caveats in the documentation: https://pandas.pydata.org/pandas-docs/stable/user_guide/indexing.html#returning-a-view-versus-a-copy\n",
      "  df[i]=pt.fit_transform(df[i].values.reshape(-1,1))\n",
      "C:\\Users\\prath\\AppData\\Local\\Temp\\ipykernel_2888\\2920522214.py:4: SettingWithCopyWarning: \n",
      "A value is trying to be set on a copy of a slice from a DataFrame.\n",
      "Try using .loc[row_indexer,col_indexer] = value instead\n",
      "\n",
      "See the caveats in the documentation: https://pandas.pydata.org/pandas-docs/stable/user_guide/indexing.html#returning-a-view-versus-a-copy\n",
      "  df[i]=pt.fit_transform(df[i].values.reshape(-1,1))\n",
      "C:\\Users\\prath\\AppData\\Local\\Temp\\ipykernel_2888\\2920522214.py:4: SettingWithCopyWarning: \n",
      "A value is trying to be set on a copy of a slice from a DataFrame.\n",
      "Try using .loc[row_indexer,col_indexer] = value instead\n",
      "\n",
      "See the caveats in the documentation: https://pandas.pydata.org/pandas-docs/stable/user_guide/indexing.html#returning-a-view-versus-a-copy\n",
      "  df[i]=pt.fit_transform(df[i].values.reshape(-1,1))\n",
      "C:\\Users\\prath\\AppData\\Local\\Temp\\ipykernel_2888\\2920522214.py:4: SettingWithCopyWarning: \n",
      "A value is trying to be set on a copy of a slice from a DataFrame.\n",
      "Try using .loc[row_indexer,col_indexer] = value instead\n",
      "\n",
      "See the caveats in the documentation: https://pandas.pydata.org/pandas-docs/stable/user_guide/indexing.html#returning-a-view-versus-a-copy\n",
      "  df[i]=pt.fit_transform(df[i].values.reshape(-1,1))\n",
      "C:\\Users\\prath\\AppData\\Local\\Temp\\ipykernel_2888\\2920522214.py:4: SettingWithCopyWarning: \n",
      "A value is trying to be set on a copy of a slice from a DataFrame.\n",
      "Try using .loc[row_indexer,col_indexer] = value instead\n",
      "\n",
      "See the caveats in the documentation: https://pandas.pydata.org/pandas-docs/stable/user_guide/indexing.html#returning-a-view-versus-a-copy\n",
      "  df[i]=pt.fit_transform(df[i].values.reshape(-1,1))\n",
      "C:\\Users\\prath\\AppData\\Local\\Temp\\ipykernel_2888\\2920522214.py:4: SettingWithCopyWarning: \n",
      "A value is trying to be set on a copy of a slice from a DataFrame.\n",
      "Try using .loc[row_indexer,col_indexer] = value instead\n",
      "\n",
      "See the caveats in the documentation: https://pandas.pydata.org/pandas-docs/stable/user_guide/indexing.html#returning-a-view-versus-a-copy\n",
      "  df[i]=pt.fit_transform(df[i].values.reshape(-1,1))\n",
      "C:\\Users\\prath\\AppData\\Local\\Temp\\ipykernel_2888\\2920522214.py:7: SettingWithCopyWarning: \n",
      "A value is trying to be set on a copy of a slice from a DataFrame.\n",
      "Try using .loc[row_indexer,col_indexer] = value instead\n",
      "\n",
      "See the caveats in the documentation: https://pandas.pydata.org/pandas-docs/stable/user_guide/indexing.html#returning-a-view-versus-a-copy\n",
      "  df['Total Volume']=np.log(df['Total Volume'])\n"
     ]
    }
   ],
   "source": [
    "#We make use of power transformer to remove skewness from all columns except from Total volume as it was incapable\n",
    "for i in df:\n",
    "    if np.abs(df[i].skew())>0.5 and i!='Total Volume':\n",
    "        df[i]=pt.fit_transform(df[i].values.reshape(-1,1))\n",
    "\n",
    "# To remove skewness from total volume column we ise log transformation\n",
    "df['Total Volume']=np.log(df['Total Volume'])"
   ]
  },
  {
   "cell_type": "code",
   "execution_count": 194,
   "id": "a9978d08",
   "metadata": {},
   "outputs": [
    {
     "data": {
      "text/html": [
       "<div>\n",
       "<style scoped>\n",
       "    .dataframe tbody tr th:only-of-type {\n",
       "        vertical-align: middle;\n",
       "    }\n",
       "\n",
       "    .dataframe tbody tr th {\n",
       "        vertical-align: top;\n",
       "    }\n",
       "\n",
       "    .dataframe thead th {\n",
       "        text-align: right;\n",
       "    }\n",
       "</style>\n",
       "<table border=\"1\" class=\"dataframe\">\n",
       "  <thead>\n",
       "    <tr style=\"text-align: right;\">\n",
       "      <th></th>\n",
       "      <th>AveragePrice</th>\n",
       "      <th>Total Volume</th>\n",
       "      <th>4046</th>\n",
       "      <th>4225</th>\n",
       "      <th>4770</th>\n",
       "      <th>Total Bags</th>\n",
       "      <th>Small Bags</th>\n",
       "      <th>Large Bags</th>\n",
       "      <th>XLarge Bags</th>\n",
       "      <th>type</th>\n",
       "      <th>year</th>\n",
       "      <th>region</th>\n",
       "      <th>Month</th>\n",
       "      <th>Year</th>\n",
       "    </tr>\n",
       "  </thead>\n",
       "  <tbody>\n",
       "    <tr>\n",
       "      <th>0</th>\n",
       "      <td>1.33</td>\n",
       "      <td>11.070329</td>\n",
       "      <td>-0.656680</td>\n",
       "      <td>0.343354</td>\n",
       "      <td>-0.225265</td>\n",
       "      <td>-0.533827</td>\n",
       "      <td>-0.345079</td>\n",
       "      <td>-0.780539</td>\n",
       "      <td>-0.681835</td>\n",
       "      <td>0.0</td>\n",
       "      <td>2015</td>\n",
       "      <td>0.0</td>\n",
       "      <td>12</td>\n",
       "      <td>2015</td>\n",
       "    </tr>\n",
       "    <tr>\n",
       "      <th>1</th>\n",
       "      <td>1.35</td>\n",
       "      <td>10.912849</td>\n",
       "      <td>-0.776088</td>\n",
       "      <td>0.262291</td>\n",
       "      <td>-0.178119</td>\n",
       "      <td>-0.494873</td>\n",
       "      <td>-0.309394</td>\n",
       "      <td>-0.770600</td>\n",
       "      <td>-0.681835</td>\n",
       "      <td>0.0</td>\n",
       "      <td>2015</td>\n",
       "      <td>0.0</td>\n",
       "      <td>12</td>\n",
       "      <td>2015</td>\n",
       "    </tr>\n",
       "    <tr>\n",
       "      <th>2</th>\n",
       "      <td>0.93</td>\n",
       "      <td>11.680304</td>\n",
       "      <td>-0.730804</td>\n",
       "      <td>0.637769</td>\n",
       "      <td>0.020112</td>\n",
       "      <td>-0.562384</td>\n",
       "      <td>-0.371810</td>\n",
       "      <td>-0.757946</td>\n",
       "      <td>-0.681835</td>\n",
       "      <td>0.0</td>\n",
       "      <td>2015</td>\n",
       "      <td>0.0</td>\n",
       "      <td>12</td>\n",
       "      <td>2015</td>\n",
       "    </tr>\n",
       "    <tr>\n",
       "      <th>3</th>\n",
       "      <td>1.08</td>\n",
       "      <td>11.277104</td>\n",
       "      <td>-0.631939</td>\n",
       "      <td>0.459419</td>\n",
       "      <td>-0.124295</td>\n",
       "      <td>-0.707629</td>\n",
       "      <td>-0.506936</td>\n",
       "      <td>-0.698663</td>\n",
       "      <td>-0.681835</td>\n",
       "      <td>0.0</td>\n",
       "      <td>2015</td>\n",
       "      <td>0.0</td>\n",
       "      <td>12</td>\n",
       "      <td>2015</td>\n",
       "    </tr>\n",
       "    <tr>\n",
       "      <th>4</th>\n",
       "      <td>1.28</td>\n",
       "      <td>10.840357</td>\n",
       "      <td>-0.683674</td>\n",
       "      <td>0.254978</td>\n",
       "      <td>-0.113669</td>\n",
       "      <td>-0.681126</td>\n",
       "      <td>-0.486680</td>\n",
       "      <td>-0.606800</td>\n",
       "      <td>-0.681835</td>\n",
       "      <td>0.0</td>\n",
       "      <td>2015</td>\n",
       "      <td>0.0</td>\n",
       "      <td>11</td>\n",
       "      <td>2015</td>\n",
       "    </tr>\n",
       "    <tr>\n",
       "      <th>...</th>\n",
       "      <td>...</td>\n",
       "      <td>...</td>\n",
       "      <td>...</td>\n",
       "      <td>...</td>\n",
       "      <td>...</td>\n",
       "      <td>...</td>\n",
       "      <td>...</td>\n",
       "      <td>...</td>\n",
       "      <td>...</td>\n",
       "      <td>...</td>\n",
       "      <td>...</td>\n",
       "      <td>...</td>\n",
       "      <td>...</td>\n",
       "      <td>...</td>\n",
       "    </tr>\n",
       "    <tr>\n",
       "      <th>18244</th>\n",
       "      <td>1.63</td>\n",
       "      <td>9.745361</td>\n",
       "      <td>-0.462146</td>\n",
       "      <td>-0.926620</td>\n",
       "      <td>-1.229296</td>\n",
       "      <td>-0.338978</td>\n",
       "      <td>-0.175485</td>\n",
       "      <td>-0.412871</td>\n",
       "      <td>-0.681835</td>\n",
       "      <td>1.0</td>\n",
       "      <td>2018</td>\n",
       "      <td>53.0</td>\n",
       "      <td>2</td>\n",
       "      <td>2018</td>\n",
       "    </tr>\n",
       "    <tr>\n",
       "      <th>18245</th>\n",
       "      <td>1.71</td>\n",
       "      <td>9.538783</td>\n",
       "      <td>-0.617420</td>\n",
       "      <td>-0.671611</td>\n",
       "      <td>-1.229296</td>\n",
       "      <td>-0.506134</td>\n",
       "      <td>-0.329805</td>\n",
       "      <td>-0.485169</td>\n",
       "      <td>-0.681835</td>\n",
       "      <td>1.0</td>\n",
       "      <td>2018</td>\n",
       "      <td>53.0</td>\n",
       "      <td>1</td>\n",
       "      <td>2018</td>\n",
       "    </tr>\n",
       "    <tr>\n",
       "      <th>18246</th>\n",
       "      <td>1.87</td>\n",
       "      <td>9.530012</td>\n",
       "      <td>-0.617367</td>\n",
       "      <td>-0.779654</td>\n",
       "      <td>0.439501</td>\n",
       "      <td>-0.500053</td>\n",
       "      <td>-0.311799</td>\n",
       "      <td>-0.949982</td>\n",
       "      <td>-0.681835</td>\n",
       "      <td>1.0</td>\n",
       "      <td>2018</td>\n",
       "      <td>53.0</td>\n",
       "      <td>1</td>\n",
       "      <td>2018</td>\n",
       "    </tr>\n",
       "    <tr>\n",
       "      <th>18247</th>\n",
       "      <td>1.93</td>\n",
       "      <td>9.693089</td>\n",
       "      <td>-0.546697</td>\n",
       "      <td>-0.717264</td>\n",
       "      <td>0.439192</td>\n",
       "      <td>-0.431634</td>\n",
       "      <td>-0.249204</td>\n",
       "      <td>-0.915318</td>\n",
       "      <td>-0.681835</td>\n",
       "      <td>1.0</td>\n",
       "      <td>2018</td>\n",
       "      <td>53.0</td>\n",
       "      <td>1</td>\n",
       "      <td>2018</td>\n",
       "    </tr>\n",
       "    <tr>\n",
       "      <th>18248</th>\n",
       "      <td>1.62</td>\n",
       "      <td>9.769361</td>\n",
       "      <td>-0.360300</td>\n",
       "      <td>-0.792388</td>\n",
       "      <td>0.153263</td>\n",
       "      <td>-0.391166</td>\n",
       "      <td>-0.211029</td>\n",
       "      <td>-1.047378</td>\n",
       "      <td>-0.681835</td>\n",
       "      <td>1.0</td>\n",
       "      <td>2018</td>\n",
       "      <td>53.0</td>\n",
       "      <td>1</td>\n",
       "      <td>2018</td>\n",
       "    </tr>\n",
       "  </tbody>\n",
       "</table>\n",
       "<p>17852 rows × 14 columns</p>\n",
       "</div>"
      ],
      "text/plain": [
       "       AveragePrice  Total Volume      4046      4225      4770  Total Bags  \\\n",
       "0              1.33     11.070329 -0.656680  0.343354 -0.225265   -0.533827   \n",
       "1              1.35     10.912849 -0.776088  0.262291 -0.178119   -0.494873   \n",
       "2              0.93     11.680304 -0.730804  0.637769  0.020112   -0.562384   \n",
       "3              1.08     11.277104 -0.631939  0.459419 -0.124295   -0.707629   \n",
       "4              1.28     10.840357 -0.683674  0.254978 -0.113669   -0.681126   \n",
       "...             ...           ...       ...       ...       ...         ...   \n",
       "18244          1.63      9.745361 -0.462146 -0.926620 -1.229296   -0.338978   \n",
       "18245          1.71      9.538783 -0.617420 -0.671611 -1.229296   -0.506134   \n",
       "18246          1.87      9.530012 -0.617367 -0.779654  0.439501   -0.500053   \n",
       "18247          1.93      9.693089 -0.546697 -0.717264  0.439192   -0.431634   \n",
       "18248          1.62      9.769361 -0.360300 -0.792388  0.153263   -0.391166   \n",
       "\n",
       "       Small Bags  Large Bags  XLarge Bags  type  year  region  Month  Year  \n",
       "0       -0.345079   -0.780539    -0.681835   0.0  2015     0.0     12  2015  \n",
       "1       -0.309394   -0.770600    -0.681835   0.0  2015     0.0     12  2015  \n",
       "2       -0.371810   -0.757946    -0.681835   0.0  2015     0.0     12  2015  \n",
       "3       -0.506936   -0.698663    -0.681835   0.0  2015     0.0     12  2015  \n",
       "4       -0.486680   -0.606800    -0.681835   0.0  2015     0.0     11  2015  \n",
       "...           ...         ...          ...   ...   ...     ...    ...   ...  \n",
       "18244   -0.175485   -0.412871    -0.681835   1.0  2018    53.0      2  2018  \n",
       "18245   -0.329805   -0.485169    -0.681835   1.0  2018    53.0      1  2018  \n",
       "18246   -0.311799   -0.949982    -0.681835   1.0  2018    53.0      1  2018  \n",
       "18247   -0.249204   -0.915318    -0.681835   1.0  2018    53.0      1  2018  \n",
       "18248   -0.211029   -1.047378    -0.681835   1.0  2018    53.0      1  2018  \n",
       "\n",
       "[17852 rows x 14 columns]"
      ]
     },
     "execution_count": 194,
     "metadata": {},
     "output_type": "execute_result"
    }
   ],
   "source": [
    "df"
   ]
  },
  {
   "cell_type": "code",
   "execution_count": 195,
   "id": "315ad408",
   "metadata": {},
   "outputs": [
    {
     "data": {
      "text/plain": [
       "AveragePrice    0.489112\n",
       "Total Volume   -0.032168\n",
       "4046           -0.037678\n",
       "4225           -0.042688\n",
       "4770            0.025921\n",
       "Total Bags     -0.019751\n",
       "Small Bags     -0.022505\n",
       "Large Bags     -0.107871\n",
       "XLarge Bags     0.842951\n",
       "type           -0.035187\n",
       "year            0.221410\n",
       "region          0.009740\n",
       "Month           0.103099\n",
       "Year            0.221410\n",
       "dtype: float64"
      ]
     },
     "execution_count": 195,
     "metadata": {},
     "output_type": "execute_result"
    }
   ],
   "source": [
    "# Checking Skewness\n",
    "df.skew()"
   ]
  },
  {
   "cell_type": "markdown",
   "id": "9b04a34f",
   "metadata": {},
   "source": [
    "# Prediction with Average Price:"
   ]
  },
  {
   "cell_type": "markdown",
   "id": "2f886d31",
   "metadata": {},
   "source": [
    "Modelling Phase"
   ]
  },
  {
   "cell_type": "code",
   "execution_count": 197,
   "id": "d8d21b8d",
   "metadata": {},
   "outputs": [],
   "source": [
    "# Separating the dependent and independent variables.\n",
    "x = df.drop(\"AveragePrice\", axis = 1)\n",
    "y = df[\"AveragePrice\"]"
   ]
  },
  {
   "cell_type": "markdown",
   "id": "6a1265ff",
   "metadata": {},
   "source": [
    " Scaling the data"
   ]
  },
  {
   "cell_type": "code",
   "execution_count": 201,
   "id": "c4e0617f",
   "metadata": {},
   "outputs": [],
   "source": [
    "#Scaling the data using min max scaler\n",
    "from sklearn.preprocessing import MinMaxScaler\n",
    "scaler=MinMaxScaler()"
   ]
  },
  {
   "cell_type": "code",
   "execution_count": 202,
   "id": "2fe36ccc",
   "metadata": {},
   "outputs": [],
   "source": [
    "xd=scaler.fit_transform(x)\n",
    "x=pd.DataFrame(xd,columns=x.columns)"
   ]
  },
  {
   "cell_type": "code",
   "execution_count": 224,
   "id": "4c54a3c1",
   "metadata": {},
   "outputs": [],
   "source": [
    "from sklearn.model_selection import train_test_split,cross_val_score,GridSearchCV\n",
    "from sklearn.neighbors import KNeighborsRegressor\n",
    "from sklearn.linear_model import LinearRegression,Lasso,Ridge,ElasticNet\n",
    "from sklearn.svm import SVC\n",
    "from sklearn.tree import DecisionTreeRegressor\n",
    "from sklearn.ensemble import RandomForestRegressor,AdaBoostRegressor,GradientBoostingRegressor\n",
    "from xgboost import XGBRegressor\n",
    "from sklearn.metrics import accuracy_score,classification_report,confusion_matrix,roc_auc_score,roc_curve\n",
    "from sklearn.metrics import r2_score,mean_absolute_error,mean_squared_error"
   ]
  },
  {
   "cell_type": "code",
   "execution_count": 217,
   "id": "2e6072b5",
   "metadata": {},
   "outputs": [],
   "source": [
    "models =[KNeighborsRegressor(),LinearRegression(),DecisionTreeRegressor(),\n",
    "       AdaBoostRegressor(),GradientBoostingRegressor()]"
   ]
  },
  {
   "cell_type": "code",
   "execution_count": 227,
   "id": "705efb4b",
   "metadata": {},
   "outputs": [
    {
     "name": "stdout",
     "output_type": "stream",
     "text": [
      "R2_Score , random state and Model name  0.8693946391282465 10 KNeighborsRegressor()\n",
      "R2_Score , random state and Model name  0.5665132704458069 10 LinearRegression()\n",
      "R2_Score , random state and Model name  0.7652751243561361 10 DecisionTreeRegressor()\n",
      "R2_Score , random state and Model name  0.5529777636066782 10 AdaBoostRegressor()\n",
      "R2_Score , random state and Model name  0.7504038972125242 10 GradientBoostingRegressor()\n",
      "R2_Score , random state and Model name  0.8674659858494074 11 KNeighborsRegressor()\n",
      "R2_Score , random state and Model name  0.576515366580952 11 LinearRegression()\n",
      "R2_Score , random state and Model name  0.768526278526674 11 DecisionTreeRegressor()\n",
      "R2_Score , random state and Model name  0.5716368158012403 11 AdaBoostRegressor()\n",
      "R2_Score , random state and Model name  0.7486679885798309 11 GradientBoostingRegressor()\n",
      "R2_Score , random state and Model name  0.866770830506051 12 KNeighborsRegressor()\n",
      "R2_Score , random state and Model name  0.5621742353108495 12 LinearRegression()\n",
      "R2_Score , random state and Model name  0.7604847893522537 12 DecisionTreeRegressor()\n",
      "R2_Score , random state and Model name  0.5476668079871685 12 AdaBoostRegressor()\n",
      "R2_Score , random state and Model name  0.7443274878803716 12 GradientBoostingRegressor()\n",
      "R2_Score , random state and Model name  0.8610671913565906 13 KNeighborsRegressor()\n",
      "R2_Score , random state and Model name  0.5581486936009362 13 LinearRegression()\n",
      "R2_Score , random state and Model name  0.7825724667250048 13 DecisionTreeRegressor()\n",
      "R2_Score , random state and Model name  0.5412097660871404 13 AdaBoostRegressor()\n",
      "R2_Score , random state and Model name  0.7419671025824325 13 GradientBoostingRegressor()\n",
      "R2_Score , random state and Model name  0.8680851044245141 14 KNeighborsRegressor()\n",
      "R2_Score , random state and Model name  0.5628412896093282 14 LinearRegression()\n",
      "R2_Score , random state and Model name  0.7818033762556202 14 DecisionTreeRegressor()\n",
      "R2_Score , random state and Model name  0.5521982575854514 14 AdaBoostRegressor()\n",
      "R2_Score , random state and Model name  0.751937755325774 14 GradientBoostingRegressor()\n",
      "R2_Score , random state and Model name  0.862823545456744 15 KNeighborsRegressor()\n",
      "R2_Score , random state and Model name  0.5617937503916687 15 LinearRegression()\n",
      "R2_Score , random state and Model name  0.7610761370583462 15 DecisionTreeRegressor()\n",
      "R2_Score , random state and Model name  0.5742751883771162 15 AdaBoostRegressor()\n",
      "R2_Score , random state and Model name  0.7484943845300482 15 GradientBoostingRegressor()\n",
      "R2_Score , random state and Model name  0.868325801969882 16 KNeighborsRegressor()\n",
      "R2_Score , random state and Model name  0.5731920390739544 16 LinearRegression()\n",
      "R2_Score , random state and Model name  0.7713187797345378 16 DecisionTreeRegressor()\n",
      "R2_Score , random state and Model name  0.5595275945546121 16 AdaBoostRegressor()\n",
      "R2_Score , random state and Model name  0.7522537003869305 16 GradientBoostingRegressor()\n",
      "R2_Score , random state and Model name  0.8690543422204653 17 KNeighborsRegressor()\n",
      "R2_Score , random state and Model name  0.5594908382027708 17 LinearRegression()\n",
      "R2_Score , random state and Model name  0.7492402059724912 17 DecisionTreeRegressor()\n",
      "R2_Score , random state and Model name  0.5557936574254827 17 AdaBoostRegressor()\n",
      "R2_Score , random state and Model name  0.7493219585306001 17 GradientBoostingRegressor()\n",
      "R2_Score , random state and Model name  0.8671745601994698 18 KNeighborsRegressor()\n",
      "R2_Score , random state and Model name  0.5632628826908739 18 LinearRegression()\n",
      "R2_Score , random state and Model name  0.7447487730817617 18 DecisionTreeRegressor()\n",
      "R2_Score , random state and Model name  0.5550798008773716 18 AdaBoostRegressor()\n",
      "R2_Score , random state and Model name  0.7439561233557392 18 GradientBoostingRegressor()\n",
      "R2_Score , random state and Model name  0.8687045175222844 19 KNeighborsRegressor()\n",
      "R2_Score , random state and Model name  0.5654004939148818 19 LinearRegression()\n",
      "R2_Score , random state and Model name  0.7533628213435523 19 DecisionTreeRegressor()\n",
      "R2_Score , random state and Model name  0.5589707996142568 19 AdaBoostRegressor()\n",
      "R2_Score , random state and Model name  0.7465669960987388 19 GradientBoostingRegressor()\n",
      "R2_Score , random state and Model name  0.8696096418597798 20 KNeighborsRegressor()\n",
      "R2_Score , random state and Model name  0.5786696507689804 20 LinearRegression()\n",
      "R2_Score , random state and Model name  0.7670797898143591 20 DecisionTreeRegressor()\n",
      "R2_Score , random state and Model name  0.5680824388303451 20 AdaBoostRegressor()\n",
      "R2_Score , random state and Model name  0.7512375043817539 20 GradientBoostingRegressor()\n",
      "R2_Score , random state and Model name  0.8675435381343882 21 KNeighborsRegressor()\n",
      "R2_Score , random state and Model name  0.5547454962114422 21 LinearRegression()\n",
      "R2_Score , random state and Model name  0.7730918240782532 21 DecisionTreeRegressor()\n",
      "R2_Score , random state and Model name  0.5573979086005154 21 AdaBoostRegressor()\n",
      "R2_Score , random state and Model name  0.74166162430423 21 GradientBoostingRegressor()\n",
      "R2_Score , random state and Model name  0.8671837850574744 22 KNeighborsRegressor()\n",
      "R2_Score , random state and Model name  0.5494051198059654 22 LinearRegression()\n",
      "R2_Score , random state and Model name  0.7677363676076626 22 DecisionTreeRegressor()\n",
      "R2_Score , random state and Model name  0.54258070792307 22 AdaBoostRegressor()\n",
      "R2_Score , random state and Model name  0.7396155578001964 22 GradientBoostingRegressor()\n",
      "R2_Score , random state and Model name  0.8661235088603831 23 KNeighborsRegressor()\n",
      "R2_Score , random state and Model name  0.5610194929652842 23 LinearRegression()\n",
      "R2_Score , random state and Model name  0.7685114729662077 23 DecisionTreeRegressor()\n",
      "R2_Score , random state and Model name  0.564255318127923 23 AdaBoostRegressor()\n",
      "R2_Score , random state and Model name  0.7511730197527597 23 GradientBoostingRegressor()\n",
      "R2_Score , random state and Model name  0.8683090545940317 24 KNeighborsRegressor()\n",
      "R2_Score , random state and Model name  0.5657246227705044 24 LinearRegression()\n",
      "R2_Score , random state and Model name  0.7657914787603503 24 DecisionTreeRegressor()\n",
      "R2_Score , random state and Model name  0.5674207441474275 24 AdaBoostRegressor()\n",
      "R2_Score , random state and Model name  0.7449080885736795 24 GradientBoostingRegressor()\n",
      "R2_Score , random state and Model name  0.8698370387808759 25 KNeighborsRegressor()\n",
      "R2_Score , random state and Model name  0.5666452570706225 25 LinearRegression()\n",
      "R2_Score , random state and Model name  0.749416409355623 25 DecisionTreeRegressor()\n",
      "R2_Score , random state and Model name  0.5332330441434977 25 AdaBoostRegressor()\n",
      "R2_Score , random state and Model name  0.7438050424298671 25 GradientBoostingRegressor()\n",
      "R2_Score , random state and Model name  0.8678228595151993 26 KNeighborsRegressor()\n",
      "R2_Score , random state and Model name  0.5716002602008454 26 LinearRegression()\n",
      "R2_Score , random state and Model name  0.7714510907650033 26 DecisionTreeRegressor()\n",
      "R2_Score , random state and Model name  0.5719350363021137 26 AdaBoostRegressor()\n",
      "R2_Score , random state and Model name  0.7618770683832415 26 GradientBoostingRegressor()\n",
      "R2_Score , random state and Model name  0.8722177449923558 27 KNeighborsRegressor()\n",
      "R2_Score , random state and Model name  0.5738211466581629 27 LinearRegression()\n",
      "R2_Score , random state and Model name  0.7547085194465313 27 DecisionTreeRegressor()\n",
      "R2_Score , random state and Model name  0.5509329102046354 27 AdaBoostRegressor()\n",
      "R2_Score , random state and Model name  0.755353508409994 27 GradientBoostingRegressor()\n",
      "R2_Score , random state and Model name  0.873746560165503 28 KNeighborsRegressor()\n",
      "R2_Score , random state and Model name  0.5802299117169039 28 LinearRegression()\n",
      "R2_Score , random state and Model name  0.7622631121817915 28 DecisionTreeRegressor()\n",
      "R2_Score , random state and Model name  0.5657119858004327 28 AdaBoostRegressor()\n",
      "R2_Score , random state and Model name  0.7573492883229617 28 GradientBoostingRegressor()\n",
      "R2_Score , random state and Model name  0.8653956658155585 29 KNeighborsRegressor()\n",
      "R2_Score , random state and Model name  0.5578181016193579 29 LinearRegression()\n",
      "R2_Score , random state and Model name  0.7670676878292382 29 DecisionTreeRegressor()\n"
     ]
    },
    {
     "name": "stdout",
     "output_type": "stream",
     "text": [
      "R2_Score , random state and Model name  0.545719478490472 29 AdaBoostRegressor()\n",
      "R2_Score , random state and Model name  0.7440993998978875 29 GradientBoostingRegressor()\n",
      "R2_Score , random state and Model name  0.8625341644664494 30 KNeighborsRegressor()\n",
      "R2_Score , random state and Model name  0.5386151121255056 30 LinearRegression()\n",
      "R2_Score , random state and Model name  0.7353196548308467 30 DecisionTreeRegressor()\n",
      "R2_Score , random state and Model name  0.5450383354156556 30 AdaBoostRegressor()\n",
      "R2_Score , random state and Model name  0.7450386523853711 30 GradientBoostingRegressor()\n",
      "R2_Score , random state and Model name  0.8715476949520367 31 KNeighborsRegressor()\n",
      "R2_Score , random state and Model name  0.5554730955183438 31 LinearRegression()\n",
      "R2_Score , random state and Model name  0.7348243667305268 31 DecisionTreeRegressor()\n",
      "R2_Score , random state and Model name  0.5523298161191823 31 AdaBoostRegressor()\n",
      "R2_Score , random state and Model name  0.7429776887344565 31 GradientBoostingRegressor()\n",
      "R2_Score , random state and Model name  0.8719599884701099 32 KNeighborsRegressor()\n",
      "R2_Score , random state and Model name  0.5541531760271208 32 LinearRegression()\n",
      "R2_Score , random state and Model name  0.7764925391394354 32 DecisionTreeRegressor()\n",
      "R2_Score , random state and Model name  0.5340384381345906 32 AdaBoostRegressor()\n",
      "R2_Score , random state and Model name  0.7503895393229291 32 GradientBoostingRegressor()\n",
      "R2_Score , random state and Model name  0.8603131878850208 33 KNeighborsRegressor()\n",
      "R2_Score , random state and Model name  0.5512147926434843 33 LinearRegression()\n",
      "R2_Score , random state and Model name  0.7551642524670991 33 DecisionTreeRegressor()\n",
      "R2_Score , random state and Model name  0.542558348334252 33 AdaBoostRegressor()\n",
      "R2_Score , random state and Model name  0.744840553771309 33 GradientBoostingRegressor()\n",
      "R2_Score , random state and Model name  0.8641693220800734 34 KNeighborsRegressor()\n",
      "R2_Score , random state and Model name  0.5656635769373333 34 LinearRegression()\n",
      "R2_Score , random state and Model name  0.7881338660354518 34 DecisionTreeRegressor()\n",
      "R2_Score , random state and Model name  0.5668731383898925 34 AdaBoostRegressor()\n",
      "R2_Score , random state and Model name  0.7437521415296444 34 GradientBoostingRegressor()\n",
      "R2_Score , random state and Model name  0.8699238429904238 35 KNeighborsRegressor()\n",
      "R2_Score , random state and Model name  0.5589103756026081 35 LinearRegression()\n",
      "R2_Score , random state and Model name  0.7749919536084783 35 DecisionTreeRegressor()\n",
      "R2_Score , random state and Model name  0.5420577687449595 35 AdaBoostRegressor()\n",
      "R2_Score , random state and Model name  0.7436485774951207 35 GradientBoostingRegressor()\n",
      "R2_Score , random state and Model name  0.8764325488680593 36 KNeighborsRegressor()\n",
      "R2_Score , random state and Model name  0.5646497842309443 36 LinearRegression()\n",
      "R2_Score , random state and Model name  0.7692121138832326 36 DecisionTreeRegressor()\n",
      "R2_Score , random state and Model name  0.5496444984618974 36 AdaBoostRegressor()\n",
      "R2_Score , random state and Model name  0.7455792585916521 36 GradientBoostingRegressor()\n",
      "R2_Score , random state and Model name  0.854442240117152 37 KNeighborsRegressor()\n",
      "R2_Score , random state and Model name  0.5548447058262818 37 LinearRegression()\n",
      "R2_Score , random state and Model name  0.7377281486934677 37 DecisionTreeRegressor()\n",
      "R2_Score , random state and Model name  0.5268437563730238 37 AdaBoostRegressor()\n",
      "R2_Score , random state and Model name  0.7444114015156567 37 GradientBoostingRegressor()\n",
      "R2_Score , random state and Model name  0.86139267677726 38 KNeighborsRegressor()\n",
      "R2_Score , random state and Model name  0.5511882354715618 38 LinearRegression()\n",
      "R2_Score , random state and Model name  0.7608703482980884 38 DecisionTreeRegressor()\n",
      "R2_Score , random state and Model name  0.5449441518098453 38 AdaBoostRegressor()\n",
      "R2_Score , random state and Model name  0.74014173544926 38 GradientBoostingRegressor()\n",
      "R2_Score , random state and Model name  0.8646626575509029 39 KNeighborsRegressor()\n",
      "R2_Score , random state and Model name  0.5658846684097214 39 LinearRegression()\n",
      "R2_Score , random state and Model name  0.7505509357114399 39 DecisionTreeRegressor()\n",
      "R2_Score , random state and Model name  0.5542241419218872 39 AdaBoostRegressor()\n",
      "R2_Score , random state and Model name  0.7464376830442307 39 GradientBoostingRegressor()\n",
      "R2_Score , random state and Model name  0.8622245606177311 40 KNeighborsRegressor()\n",
      "R2_Score , random state and Model name  0.5445599705258932 40 LinearRegression()\n",
      "R2_Score , random state and Model name  0.7575623939798037 40 DecisionTreeRegressor()\n",
      "R2_Score , random state and Model name  0.5266191547727622 40 AdaBoostRegressor()\n",
      "R2_Score , random state and Model name  0.7339513217807668 40 GradientBoostingRegressor()\n",
      "R2_Score , random state and Model name  0.8684377677767262 41 KNeighborsRegressor()\n",
      "R2_Score , random state and Model name  0.571360076723236 41 LinearRegression()\n",
      "R2_Score , random state and Model name  0.7775098192746095 41 DecisionTreeRegressor()\n",
      "R2_Score , random state and Model name  0.552178149966068 41 AdaBoostRegressor()\n",
      "R2_Score , random state and Model name  0.7522247656325021 41 GradientBoostingRegressor()\n",
      "R2_Score , random state and Model name  0.8750491674736364 42 KNeighborsRegressor()\n",
      "R2_Score , random state and Model name  0.5556994796009529 42 LinearRegression()\n",
      "R2_Score , random state and Model name  0.7709560985229618 42 DecisionTreeRegressor()\n",
      "R2_Score , random state and Model name  0.5171297533435805 42 AdaBoostRegressor()\n",
      "R2_Score , random state and Model name  0.7378310027800984 42 GradientBoostingRegressor()\n",
      "R2_Score , random state and Model name  0.8665993292574411 43 KNeighborsRegressor()\n",
      "R2_Score , random state and Model name  0.5582190221690304 43 LinearRegression()\n",
      "R2_Score , random state and Model name  0.7617475586383717 43 DecisionTreeRegressor()\n",
      "R2_Score , random state and Model name  0.5677752607958677 43 AdaBoostRegressor()\n",
      "R2_Score , random state and Model name  0.7473193241721634 43 GradientBoostingRegressor()\n",
      "R2_Score , random state and Model name  0.8637302232515147 44 KNeighborsRegressor()\n",
      "R2_Score , random state and Model name  0.5600806270552376 44 LinearRegression()\n",
      "R2_Score , random state and Model name  0.7657561093735633 44 DecisionTreeRegressor()\n",
      "R2_Score , random state and Model name  0.5606606675034009 44 AdaBoostRegressor()\n",
      "R2_Score , random state and Model name  0.7487107980943961 44 GradientBoostingRegressor()\n",
      "R2_Score , random state and Model name  0.8741911508808621 45 KNeighborsRegressor()\n",
      "R2_Score , random state and Model name  0.5715113088911103 45 LinearRegression()\n",
      "R2_Score , random state and Model name  0.7731217365921788 45 DecisionTreeRegressor()\n",
      "R2_Score , random state and Model name  0.5669504184245944 45 AdaBoostRegressor()\n",
      "R2_Score , random state and Model name  0.747413986497802 45 GradientBoostingRegressor()\n",
      "R2_Score , random state and Model name  0.8705845078074834 46 KNeighborsRegressor()\n",
      "R2_Score , random state and Model name  0.5693178409761103 46 LinearRegression()\n",
      "R2_Score , random state and Model name  0.7579264644291436 46 DecisionTreeRegressor()\n",
      "R2_Score , random state and Model name  0.556216998316234 46 AdaBoostRegressor()\n",
      "R2_Score , random state and Model name  0.7500337890205993 46 GradientBoostingRegressor()\n",
      "R2_Score , random state and Model name  0.8687263211248049 47 KNeighborsRegressor()\n",
      "R2_Score , random state and Model name  0.5505538763899993 47 LinearRegression()\n",
      "R2_Score , random state and Model name  0.7616478554331018 47 DecisionTreeRegressor()\n",
      "R2_Score , random state and Model name  0.5625864120472207 47 AdaBoostRegressor()\n",
      "R2_Score , random state and Model name  0.745022080209296 47 GradientBoostingRegressor()\n",
      "R2_Score , random state and Model name  0.8664086556596422 48 KNeighborsRegressor()\n",
      "R2_Score , random state and Model name  0.569131459601272 48 LinearRegression()\n",
      "R2_Score , random state and Model name  0.7513178181354709 48 DecisionTreeRegressor()\n",
      "R2_Score , random state and Model name  0.5661499503324765 48 AdaBoostRegressor()\n",
      "R2_Score , random state and Model name  0.7510469974458049 48 GradientBoostingRegressor()\n"
     ]
    },
    {
     "name": "stdout",
     "output_type": "stream",
     "text": [
      "R2_Score , random state and Model name  0.8714137564207447 49 KNeighborsRegressor()\n",
      "R2_Score , random state and Model name  0.5654856061885514 49 LinearRegression()\n",
      "R2_Score , random state and Model name  0.777167661887278 49 DecisionTreeRegressor()\n",
      "R2_Score , random state and Model name  0.5739939650917543 49 AdaBoostRegressor()\n",
      "R2_Score , random state and Model name  0.7462347048483924 49 GradientBoostingRegressor()\n",
      "score 0.7462347048483924 random state 49 Final model GradientBoostingRegressor()\n"
     ]
    }
   ],
   "source": [
    "models =[KNeighborsRegressor(),LinearRegression(),DecisionTreeRegressor(),\n",
    "       AdaBoostRegressor(),GradientBoostingRegressor()]\n",
    "maxR2 = 0\n",
    "maxRS = 0\n",
    "\n",
    "for rs in range(10,50):\n",
    "    x_train, x_test, y_train, y_test = train_test_split(x, y, test_size = 0.20, random_state = rs)\n",
    "    for i in models:\n",
    "        i.fit(x_train,y_train)\n",
    "        pred_train = i.predict(x_train)\n",
    "        pred_test = i.predict(x_test)\n",
    "        r2score = r2_score(y_test,pred_test)\n",
    "        print('R2_Score , random state and Model name ', r2score,rs,i)\n",
    "        if r2score>maxR2:\n",
    "            maxR2 = r2score\n",
    "            maxRS = rs\n",
    "            finalmodel = i\n",
    "            \n",
    "print('score',r2score,'random state',rs,'Final model',i)\n",
    "            "
   ]
  },
  {
   "cell_type": "code",
   "execution_count": 228,
   "id": "4bb9d06a",
   "metadata": {},
   "outputs": [],
   "source": [
    " x_train, x_test, y_train, y_test = train_test_split(x, y, test_size = 0.20, random_state = 49)"
   ]
  },
  {
   "cell_type": "code",
   "execution_count": 229,
   "id": "b9a13104",
   "metadata": {},
   "outputs": [],
   "source": [
    "kn = KNeighborsRegressor()\n",
    "leaf = list(range(1,50))\n",
    "k = list(range(1,30))\n",
    "params={'n_neighbors':k,'leaf_size':leaf,'weights':['uniform','distance'],'metric':['euclidean','manhattan']}"
   ]
  },
  {
   "cell_type": "code",
   "execution_count": 230,
   "id": "89cf1992",
   "metadata": {},
   "outputs": [],
   "source": [
    "g=GridSearchCV(KNeighborsRegressor(),params,cv=10)"
   ]
  },
  {
   "cell_type": "code",
   "execution_count": 232,
   "id": "31558745",
   "metadata": {},
   "outputs": [
    {
     "data": {
      "text/plain": [
       "GridSearchCV(cv=10, estimator=KNeighborsRegressor(),\n",
       "             param_grid={'leaf_size': [1, 2, 3, 4, 5, 6, 7, 8, 9, 10, 11, 12,\n",
       "                                       13, 14, 15, 16, 17, 18, 19, 20, 21, 22,\n",
       "                                       23, 24, 25, 26, 27, 28, 29, 30, ...],\n",
       "                         'metric': ['euclidean', 'manhattan'],\n",
       "                         'n_neighbors': [1, 2, 3, 4, 5, 6, 7, 8, 9, 10, 11, 12,\n",
       "                                         13, 14, 15, 16, 17, 18, 19, 20, 21, 22,\n",
       "                                         23, 24, 25, 26, 27, 28, 29],\n",
       "                         'weights': ['uniform', 'distance']})"
      ]
     },
     "execution_count": 232,
     "metadata": {},
     "output_type": "execute_result"
    }
   ],
   "source": [
    "g.fit(x_train,y_train)"
   ]
  },
  {
   "cell_type": "code",
   "execution_count": 233,
   "id": "1050880f",
   "metadata": {},
   "outputs": [
    {
     "name": "stdout",
     "output_type": "stream",
     "text": [
      "KNeighborsRegressor(leaf_size=1, metric='manhattan', n_neighbors=3,\n",
      "                    weights='distance')\n",
      "{'leaf_size': 1, 'metric': 'manhattan', 'n_neighbors': 3, 'weights': 'distance'}\n",
      "0.8990161258581176\n"
     ]
    }
   ],
   "source": [
    "print(g.best_estimator_)\n",
    "print(g.best_params_)\n",
    "print(g.best_score_)"
   ]
  },
  {
   "cell_type": "code",
   "execution_count": 236,
   "id": "cb4da290",
   "metadata": {},
   "outputs": [],
   "source": [
    "knn=KNeighborsRegressor(leaf_size=1, metric='manhattan', n_neighbors=3,weights='distance')\n",
    "knn.fit(x_train,y_train)\n",
    "pred_test=m.predict(x_test)\n",
    "score=cross_val_score(knn,x,y,cv=10)"
   ]
  },
  {
   "cell_type": "code",
   "execution_count": 238,
   "id": "aa2cef1d",
   "metadata": {},
   "outputs": [
    {
     "name": "stdout",
     "output_type": "stream",
     "text": [
      "Mean Absolute Error is 0.0835\n",
      "Mean Squared Error is 0.0153\n",
      "Root Mean Squared Error is 0.1237\n",
      "R2 Score is 89.41\n",
      "Mean of cross validaton Score is 8.937\n"
     ]
    }
   ],
   "source": [
    "print('Mean Absolute Error is',np.round(mean_absolute_error(pred_test,y_test),4))\n",
    "print('Mean Squared Error is',np.round(mean_squared_error(pred_test,y_test),4))\n",
    "print('Root Mean Squared Error is',np.round(np.sqrt(mean_squared_error(pred_test,y_test)),4))\n",
    "print('R2 Score is',np.round(r2_score(pred_test,y_test),4)*100)\n",
    "print('Mean of cross validaton Score is',np.round(np.mean(score)*100,4))"
   ]
  },
  {
   "cell_type": "code",
   "execution_count": 240,
   "id": "9acd18f4",
   "metadata": {},
   "outputs": [
    {
     "data": {
      "text/plain": [
       "Text(0, 0.5, 'Pred_test')"
      ]
     },
     "execution_count": 240,
     "metadata": {},
     "output_type": "execute_result"
    },
    {
     "data": {
      "image/png": "[encoded data removed]",
      "text/plain": [
       "<Figure size 432x288 with 1 Axes>"
      ]
     },
     "metadata": {
      "needs_background": "light"
     },
     "output_type": "display_data"
    }
   ],
   "source": [
    "plt.scatter(x=y_test,y=pred_test,color='y')\n",
    "plt.plot(y_test,y_test,color='b')\n",
    "plt.xlabel('Y_test')\n",
    "plt.ylabel('Pred_test')"
   ]
  },
  {
   "cell_type": "markdown",
   "id": "feb47790",
   "metadata": {},
   "source": [
    "Prediction by taking Average price as an target variable which is continuity in nature so  I’m using the regression technique.\n",
    "\n",
    "49 is best random state which providing the highest R2 score value for this model.\n",
    "    \n",
    "Hyperparametr tuning using GridSeachCV, I can find the best param and then I used these param for that model.\n",
    "\n",
    "Using the best param I can get the best R2 score and the model is KNeighboursRegressor.\n",
    "\n",
    "Plot the scatter plot graph and we can see that the actual value and predicted values are very close to each other, so the line is best fit line.\n",
    "\n"
   ]
  },
  {
   "cell_type": "markdown",
   "id": "7376e50f",
   "metadata": {},
   "source": [
    "# Prediction with Region:"
   ]
  },
  {
   "cell_type": "code",
   "execution_count": 242,
   "id": "1f211235",
   "metadata": {},
   "outputs": [],
   "source": [
    "from sklearn.neighbors import KNeighborsClassifier\n",
    "from sklearn.linear_model import LinearRegression\n",
    "from sklearn.svm import SVC\n",
    "from sklearn.tree import DecisionTreeClassifier\n",
    "from sklearn.ensemble import AdaBoostClassifier,GradientBoostingClassifier\n",
    "from sklearn.metrics import accuracy_score,classification_report,confusion_matrix,roc_auc_score,roc_curve\n",
    "from sklearn.naive_bayes import MultinomialNB"
   ]
  },
  {
   "cell_type": "code",
   "execution_count": 243,
   "id": "2b36af4f",
   "metadata": {},
   "outputs": [],
   "source": [
    "# Separating the dependent and independent variables.\n",
    "x = df.drop(\"region\", axis = 1)\n",
    "y = df[\"region\"]"
   ]
  },
  {
   "cell_type": "code",
   "execution_count": 244,
   "id": "f8abb26c",
   "metadata": {},
   "outputs": [],
   "source": [
    "#Scaling the data using min max scaler\n",
    "from sklearn.preprocessing import MinMaxScaler\n",
    "scaler=MinMaxScaler()"
   ]
  },
  {
   "cell_type": "code",
   "execution_count": 245,
   "id": "25089bea",
   "metadata": {},
   "outputs": [],
   "source": [
    "xd=scaler.fit_transform(x)\n",
    "x=pd.DataFrame(xd,columns=x.columns)"
   ]
  },
  {
   "cell_type": "code",
   "execution_count": 252,
   "id": "962b5336",
   "metadata": {},
   "outputs": [],
   "source": [
    "models =[KNeighborsClassifier(),DecisionTreeClassifier(),\n",
    "        AdaBoostClassifier(),GradientBoostingClassifier()]"
   ]
  },
  {
   "cell_type": "code",
   "execution_count": 308,
   "id": "2358b67a",
   "metadata": {},
   "outputs": [
    {
     "name": "stdout",
     "output_type": "stream",
     "text": [
      "Accuracy Score , Random state and Model name  0.8095771492579109 10 KNeighborsClassifier()\n",
      "Accuracy Score , Random state and Model name  0.7992159059087091 10 DecisionTreeClassifier()\n",
      "Accuracy Score , Random state and Model name  0.06356762811537385 10 AdaBoostClassifier()\n",
      "Accuracy Score , Random state and Model name  0.8443013161579389 10 GradientBoostingClassifier()\n",
      "Accuracy Score , Random state and Model name  0.7955754690562867 11 KNeighborsClassifier()\n",
      "Accuracy Score , Random state and Model name  0.8006160739288715 11 DecisionTreeClassifier()\n",
      "Accuracy Score , Random state and Model name  0.07700924110893308 11 AdaBoostClassifier()\n",
      "Accuracy Score , Random state and Model name  0.8314197703724447 11 GradientBoostingClassifier()\n",
      "Accuracy Score , Random state and Model name  0.8020162419490339 12 KNeighborsClassifier()\n",
      "Accuracy Score , Random state and Model name  0.7947353682441893 12 DecisionTreeClassifier()\n",
      "Accuracy Score , Random state and Model name  0.06636796415569868 12 AdaBoostClassifier()\n",
      "Accuracy Score , Random state and Model name  0.8277793335200224 12 GradientBoostingClassifier()\n",
      "Accuracy Score , Random state and Model name  0.7952954354522542 13 KNeighborsClassifier()\n",
      "Accuracy Score , Random state and Model name  0.8034164099691963 13 DecisionTreeClassifier()\n",
      "Accuracy Score , Random state and Model name  0.06580789694763371 13 AdaBoostClassifier()\n",
      "Accuracy Score , Random state and Model name  0.8336600392047046 13 GradientBoostingClassifier()\n",
      "Accuracy Score , Random state and Model name  0.7936152338280593 14 KNeighborsClassifier()\n",
      "Accuracy Score , Random state and Model name  0.8109773172780733 14 DecisionTreeClassifier()\n",
      "Accuracy Score , Random state and Model name  0.06020722486698404 14 AdaBoostClassifier()\n",
      "Accuracy Score , Random state and Model name  0.8322598711845421 14 GradientBoostingClassifier()\n",
      "Accuracy Score , Random state and Model name  0.8076169140296836 15 KNeighborsClassifier()\n",
      "Accuracy Score , Random state and Model name  0.7983758050966115 15 DecisionTreeClassifier()\n",
      "Accuracy Score , Random state and Model name  0.07056846821618594 15 AdaBoostClassifier()\n",
      "Accuracy Score , Random state and Model name  0.8353402408288995 15 GradientBoostingClassifier()\n",
      "Accuracy Score , Random state and Model name  0.7975357042845141 16 KNeighborsClassifier()\n",
      "Accuracy Score , Random state and Model name  0.7933352002240269 16 DecisionTreeClassifier()\n",
      "Accuracy Score , Random state and Model name  0.06860823298795855 16 AdaBoostClassifier()\n",
      "Accuracy Score , Random state and Model name  0.836180341640997 16 GradientBoostingClassifier()\n",
      "Accuracy Score , Random state and Model name  0.807896947633716 17 KNeighborsClassifier()\n",
      "Accuracy Score , Random state and Model name  0.8059367124054887 17 DecisionTreeClassifier()\n",
      "Accuracy Score , Random state and Model name  0.05936712405488659 17 AdaBoostClassifier()\n",
      "Accuracy Score , Random state and Model name  0.843181181741809 17 GradientBoostingClassifier()\n",
      "Accuracy Score , Random state and Model name  0.7975357042845141 18 KNeighborsClassifier()\n",
      "Accuracy Score , Random state and Model name  0.7992159059087091 18 DecisionTreeClassifier()\n",
      "Accuracy Score , Random state and Model name  0.04900588070568468 18 AdaBoostClassifier()\n",
      "Accuracy Score , Random state and Model name  0.836180341640997 18 GradientBoostingClassifier()\n",
      "Accuracy Score , Random state and Model name  0.7908148977877345 19 KNeighborsClassifier()\n",
      "Accuracy Score , Random state and Model name  0.7936152338280593 19 DecisionTreeClassifier()\n",
      "Accuracy Score , Random state and Model name  0.07588910669280313 19 AdaBoostClassifier()\n",
      "Accuracy Score , Random state and Model name  0.8347801736208345 19 GradientBoostingClassifier()\n",
      "score 0.8347801736208345 random state 19 Final model GradientBoostingClassifier()\n"
     ]
    }
   ],
   "source": [
    "max_accu = 0\n",
    "maxRS = 0\n",
    "\n",
    "for rs in range(10,20):\n",
    "    x_train, x_test, y_train, y_test = train_test_split(x, y, test_size = 0.20, random_state = rs)\n",
    "    for i in models:\n",
    "        i.fit(x_train,y_train)\n",
    "        pred_train = i.predict(x_train)\n",
    "        pred_test = i.predict(x_test)\n",
    "        accu_score = accuracy_score(y_test,pred_test)\n",
    "        print('Accuracy Score , Random state and Model name ', accu_score,rs,i)\n",
    "        if accu_score>max_accu:\n",
    "            max_accu =  accu_score\n",
    "            maxRS = rs\n",
    "            finalmodel = i\n",
    "            \n",
    "print('score',accu_score,'random state',rs,'Final model',i)"
   ]
  },
  {
   "cell_type": "code",
   "execution_count": 309,
   "id": "e43b4fac",
   "metadata": {},
   "outputs": [],
   "source": [
    "x_train, x_test, y_train, y_test = train_test_split(x, y, test_size = 0.20, random_state = 19)\n",
    "knn = KNeighborsClassifier()\n",
    "parameters = {\n",
    "    \"n_neighbors\":[1,20]\n",
    "}"
   ]
  },
  {
   "cell_type": "code",
   "execution_count": 310,
   "id": "5eb0e946",
   "metadata": {},
   "outputs": [
    {
     "data": {
      "text/plain": [
       "{'n_neighbors': 1}"
      ]
     },
     "execution_count": 310,
     "metadata": {},
     "output_type": "execute_result"
    }
   ],
   "source": [
    "from sklearn.model_selection import GridSearchCV\n",
    "cv = GridSearchCV(knn,parameters,cv=5)\n",
    "cv.fit(x_train,y_train)\n",
    "cv.best_params_"
   ]
  },
  {
   "cell_type": "code",
   "execution_count": 311,
   "id": "c6f5158a",
   "metadata": {},
   "outputs": [
    {
     "name": "stdout",
     "output_type": "stream",
     "text": [
      "Accuracy Score : 85.52226267152058\n"
     ]
    }
   ],
   "source": [
    "knn = KNeighborsClassifier(n_neighbors = 1)\n",
    "knn.fit(x_train,y_train)\n",
    "pred_test = knn.predict(x_test)\n",
    "acc_score = accuracy_score(y_test,pred_test)\n",
    "print(\"Accuracy Score :\", acc_score*100)"
   ]
  },
  {
   "cell_type": "code",
   "execution_count": 312,
   "id": "5aeab2f1",
   "metadata": {},
   "outputs": [
    {
     "name": "stdout",
     "output_type": "stream",
     "text": [
      "Mean of cross validaton Score is 47.7527\n"
     ]
    }
   ],
   "source": [
    "score=cross_val_score(knn,x,y,cv=10)\n",
    "print('Mean of cross validaton Score is',np.round(np.mean(score)*100,4))"
   ]
  },
  {
   "cell_type": "markdown",
   "id": "b7ca7c5d",
   "metadata": {},
   "source": [
    "Prediction by taking Region as an target variable  so I’m using the classification technique.\n",
    "\n",
    "10 is best random state which providing the highest acuuracy score value for this model.\n",
    "\n",
    "Using the GridSeachCV  to find the best param and then find the best accuracy score that is 86%"
   ]
  },
  {
   "cell_type": "code",
   "execution_count": 282,
   "id": "c099af8a",
   "metadata": {},
   "outputs": [
    {
     "name": "stdout",
     "output_type": "stream",
     "text": [
      "              precision    recall  f1-score   support\n",
      "\n",
      "         0.0       0.85      0.93      0.88        54\n",
      "         1.0       0.80      0.73      0.76        77\n",
      "         2.0       0.92      1.00      0.96        73\n",
      "         3.0       0.96      0.79      0.87        68\n",
      "         4.0       0.97      0.95      0.96        59\n",
      "         5.0       0.87      0.86      0.86        69\n",
      "         6.0       0.96      0.95      0.95        56\n",
      "         7.0       0.88      0.88      0.88        81\n",
      "         8.0       0.97      0.96      0.97        73\n",
      "         9.0       0.71      0.67      0.69        82\n",
      "        10.0       0.61      0.69      0.65        55\n",
      "        11.0       0.84      0.95      0.89        59\n",
      "        12.0       0.99      0.96      0.97        73\n",
      "        13.0       0.69      0.69      0.69        84\n",
      "        14.0       0.86      0.96      0.91        56\n",
      "        15.0       0.97      1.00      0.99        67\n",
      "        16.0       0.95      0.93      0.94        85\n",
      "        17.0       0.94      0.88      0.91        67\n",
      "        18.0       0.93      0.87      0.90        76\n",
      "        19.0       0.82      0.87      0.84        61\n",
      "        20.0       0.97      0.85      0.90        67\n",
      "        21.0       0.79      0.76      0.77        74\n",
      "        22.0       0.96      0.97      0.97        80\n",
      "        23.0       0.89      0.88      0.88        56\n",
      "        24.0       0.73      0.59      0.66        69\n",
      "        25.0       0.99      0.97      0.98        86\n",
      "        26.0       0.86      0.80      0.83        70\n",
      "        27.0       0.91      0.88      0.90        49\n",
      "        28.0       0.93      0.92      0.92        71\n",
      "        29.0       0.99      0.96      0.97        78\n",
      "        30.0       0.94      0.97      0.96        78\n",
      "        31.0       0.50      0.49      0.50        71\n",
      "        32.0       0.94      0.83      0.88        72\n",
      "        33.0       0.74      0.80      0.77        64\n",
      "        34.0       0.96      0.88      0.92        56\n",
      "        35.0       0.92      0.92      0.92        63\n",
      "        36.0       0.84      0.82      0.83        60\n",
      "        37.0       0.77      0.88      0.82        60\n",
      "        38.0       0.89      0.80      0.84        61\n",
      "        39.0       0.72      0.80      0.76        51\n",
      "        40.0       0.88      0.85      0.87        61\n",
      "        41.0       0.80      0.95      0.87        59\n",
      "        42.0       0.98      0.94      0.96        68\n",
      "        43.0       0.88      0.90      0.89        62\n",
      "        44.0       0.88      0.91      0.90        67\n",
      "        45.0       1.00      0.95      0.98        65\n",
      "        46.0       0.93      0.97      0.95        65\n",
      "        47.0       0.86      0.88      0.87        76\n",
      "        48.0       0.85      0.85      0.85        66\n",
      "        49.0       0.90      0.90      0.90        58\n",
      "        50.0       0.34      0.52      0.41        58\n",
      "        51.0       1.00      1.00      1.00        39\n",
      "        52.0       0.96      0.98      0.97        53\n",
      "        53.0       0.97      0.89      0.93        63\n",
      "\n",
      "    accuracy                           0.86      3571\n",
      "   macro avg       0.87      0.87      0.87      3571\n",
      "weighted avg       0.87      0.86      0.87      3571\n",
      "\n"
     ]
    }
   ],
   "source": [
    "print(classification_report(y_test,pred_test))"
   ]
  },
  {
   "cell_type": "code",
   "execution_count": 298,
   "id": "cc6244ca",
   "metadata": {},
   "outputs": [
    {
     "data": {
      "text/plain": [
       "array([[0., 0., 0., ..., 0., 0., 0.],\n",
       "       [0., 0., 0., ..., 0., 0., 0.],\n",
       "       [0., 0., 0., ..., 0., 0., 0.],\n",
       "       ...,\n",
       "       [0., 0., 0., ..., 0., 0., 0.],\n",
       "       [0., 0., 1., ..., 0., 0., 0.],\n",
       "       [0., 0., 0., ..., 0., 0., 0.]])"
      ]
     },
     "execution_count": 298,
     "metadata": {},
     "output_type": "execute_result"
    }
   ],
   "source": [
    "pred = knn.predict_proba(x_test)[:1]\n",
    "pred"
   ]
  },
  {
   "cell_type": "code",
   "execution_count": 299,
   "id": "1f1a4a7e",
   "metadata": {},
   "outputs": [],
   "source": [
    "fpr,trp,thresholds = roc_curve(y_test,pred_test,pos_label = True)"
   ]
  },
  {
   "cell_type": "code",
   "execution_count": 300,
   "id": "13212870",
   "metadata": {},
   "outputs": [
    {
     "name": "stdout",
     "output_type": "stream",
     "text": [
      "FPR =  [0.         0.01659989 0.03205495 0.04321694 0.06754436 0.08414425\n",
      " 0.10303377 0.12478535 0.14424728 0.16199199 0.18174013 0.20005724\n",
      " 0.21866056 0.23869491 0.255581   0.27189468 0.28763595 0.30738409\n",
      " 0.32398397 0.34201488 0.35661133 0.37635947 0.39467659 0.41327991\n",
      " 0.43646251 0.45821408 0.47824843 0.49141385 0.51001717 0.53405839\n",
      " 0.55008586 0.56582713 0.58900973 0.60904408 0.62593017 0.64453349\n",
      " 0.66485404 0.68288495 0.70663995 0.72638809 0.744419   0.76702919\n",
      " 0.78734974 0.80652547 0.82398397 0.84487693 0.86548369 0.88866629\n",
      " 0.90440756 0.92386949 0.94046938 0.95649685 0.97910704 0.98311391\n",
      " 1.        ]\n",
      "TRP =  [0.         0.         0.         0.         0.02597403 0.02597403\n",
      " 0.02597403 0.05194805 0.05194805 0.05194805 0.05194805 0.05194805\n",
      " 0.05194805 0.05194805 0.05194805 0.05194805 0.05194805 0.05194805\n",
      " 0.05194805 0.05194805 0.05194805 0.05194805 0.05194805 0.11688312\n",
      " 0.11688312 0.11688312 0.11688312 0.12987013 0.12987013 0.12987013\n",
      " 0.12987013 0.12987013 0.12987013 0.14285714 0.14285714 0.14285714\n",
      " 0.14285714 0.14285714 0.14285714 0.14285714 0.14285714 0.20779221\n",
      " 0.20779221 0.20779221 0.22077922 0.27272727 0.27272727 0.27272727\n",
      " 0.27272727 0.27272727 0.27272727 0.27272727 0.27272727 1.\n",
      " 1.        ]\n",
      "Thershold =  [54. 53. 52. 51. 50. 49. 48. 47. 46. 45. 44. 43. 42. 41. 40. 39. 38. 37.\n",
      " 36. 35. 34. 33. 32. 31. 30. 29. 28. 27. 26. 25. 24. 23. 22. 21. 20. 19.\n",
      " 18. 17. 16. 15. 14. 13. 12. 11. 10.  9.  8.  7.  6.  5.  4.  3.  2.  1.\n",
      "  0.]\n"
     ]
    }
   ],
   "source": [
    "print(\"FPR = \", fpr)\n",
    "print(\"TRP = \", trp)\n",
    "print(\"Thershold = \", thresholds)"
   ]
  },
  {
   "cell_type": "code",
   "execution_count": 305,
   "id": "b790b123",
   "metadata": {},
   "outputs": [
    {
     "data": {
      "image/png": "[encoded data removed]",
      "text/plain": [
       "<Figure size 432x288 with 1 Axes>"
      ]
     },
     "metadata": {
      "needs_background": "light"
     },
     "output_type": "display_data"
    }
   ],
   "source": [
    "plt.plot([0,1],[1,0])\n",
    "plt.plot(trp,fpr,label = 'KNeighborsClassifier')\n",
    "plt.xlabel('False positive rate')\n",
    "plt.ylabel('True positive rate')\n",
    "plt.show()"
   ]
  },
  {
   "cell_type": "code",
   "execution_count": 313,
   "id": "668a95a8",
   "metadata": {},
   "outputs": [
    {
     "data": {
      "text/plain": [
       "['Avacado.pkl']"
      ]
     },
     "execution_count": 313,
     "metadata": {},
     "output_type": "execute_result"
    }
   ],
   "source": [
    "import joblib\n",
    "joblib.dump(acc_score,'Avacado.pkl')"
   ]
  },
  {
   "cell_type": "code",
   "execution_count": null,
   "id": "713d9f09",
   "metadata": {},
   "outputs": [],
   "source": []
  }
 ],
 "metadata": {
  "kernelspec": {
   "display_name": "Python 3 (ipykernel)",
   "language": "python",
   "name": "python3"
  },
  "language_info": {
   "codemirror_mode": {
    "name": "ipython",
    "version": 3
   },
   "file_extension": ".py",
   "mimetype": "text/x-python",
   "name": "python",
   "nbconvert_exporter": "python",
   "pygments_lexer": "ipython3",
   "version": "3.9.7"
  }
 },
 "nbformat": 4,
 "nbformat_minor": 5
}
