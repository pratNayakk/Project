{
 "cells": [
  {
   "cell_type": "markdown",
   "id": "f7e8d652",
   "metadata": {},
   "source": [
    "# IMPORTING LIBRARIES"
   ]
  },
  {
   "cell_type": "code",
   "execution_count": 185,
   "id": "38e1147e",
   "metadata": {},
   "outputs": [],
   "source": [
    "import numpy as np\n",
    "import pandas as pd\n",
    "import matplotlib.pyplot as plt\n",
    "import seaborn as sns"
   ]
  },
  {
   "cell_type": "code",
   "execution_count": 188,
   "id": "6b4659bb",
   "metadata": {},
   "outputs": [
    {
     "data": {
      "text/html": [
       "<div>\n",
       "<style scoped>\n",
       "    .dataframe tbody tr th:only-of-type {\n",
       "        vertical-align: middle;\n",
       "    }\n",
       "\n",
       "    .dataframe tbody tr th {\n",
       "        vertical-align: top;\n",
       "    }\n",
       "\n",
       "    .dataframe thead th {\n",
       "        text-align: right;\n",
       "    }\n",
       "</style>\n",
       "<table border=\"1\" class=\"dataframe\">\n",
       "  <thead>\n",
       "    <tr style=\"text-align: right;\">\n",
       "      <th></th>\n",
       "      <th>W</th>\n",
       "      <th>R</th>\n",
       "      <th>AB</th>\n",
       "      <th>H</th>\n",
       "      <th>2B</th>\n",
       "      <th>3B</th>\n",
       "      <th>HR</th>\n",
       "      <th>BB</th>\n",
       "      <th>SO</th>\n",
       "      <th>SB</th>\n",
       "      <th>RA</th>\n",
       "      <th>ER</th>\n",
       "      <th>ERA</th>\n",
       "      <th>CG</th>\n",
       "      <th>SHO</th>\n",
       "      <th>SV</th>\n",
       "      <th>E</th>\n",
       "    </tr>\n",
       "  </thead>\n",
       "  <tbody>\n",
       "    <tr>\n",
       "      <th>0</th>\n",
       "      <td>95</td>\n",
       "      <td>724</td>\n",
       "      <td>5575</td>\n",
       "      <td>1497</td>\n",
       "      <td>300</td>\n",
       "      <td>42</td>\n",
       "      <td>139</td>\n",
       "      <td>383</td>\n",
       "      <td>973</td>\n",
       "      <td>104</td>\n",
       "      <td>641</td>\n",
       "      <td>601</td>\n",
       "      <td>3.73</td>\n",
       "      <td>2</td>\n",
       "      <td>8</td>\n",
       "      <td>56</td>\n",
       "      <td>88</td>\n",
       "    </tr>\n",
       "    <tr>\n",
       "      <th>1</th>\n",
       "      <td>83</td>\n",
       "      <td>696</td>\n",
       "      <td>5467</td>\n",
       "      <td>1349</td>\n",
       "      <td>277</td>\n",
       "      <td>44</td>\n",
       "      <td>156</td>\n",
       "      <td>439</td>\n",
       "      <td>1264</td>\n",
       "      <td>70</td>\n",
       "      <td>700</td>\n",
       "      <td>653</td>\n",
       "      <td>4.07</td>\n",
       "      <td>2</td>\n",
       "      <td>12</td>\n",
       "      <td>45</td>\n",
       "      <td>86</td>\n",
       "    </tr>\n",
       "    <tr>\n",
       "      <th>2</th>\n",
       "      <td>81</td>\n",
       "      <td>669</td>\n",
       "      <td>5439</td>\n",
       "      <td>1395</td>\n",
       "      <td>303</td>\n",
       "      <td>29</td>\n",
       "      <td>141</td>\n",
       "      <td>533</td>\n",
       "      <td>1157</td>\n",
       "      <td>86</td>\n",
       "      <td>640</td>\n",
       "      <td>584</td>\n",
       "      <td>3.67</td>\n",
       "      <td>11</td>\n",
       "      <td>10</td>\n",
       "      <td>38</td>\n",
       "      <td>79</td>\n",
       "    </tr>\n",
       "    <tr>\n",
       "      <th>3</th>\n",
       "      <td>76</td>\n",
       "      <td>622</td>\n",
       "      <td>5533</td>\n",
       "      <td>1381</td>\n",
       "      <td>260</td>\n",
       "      <td>27</td>\n",
       "      <td>136</td>\n",
       "      <td>404</td>\n",
       "      <td>1231</td>\n",
       "      <td>68</td>\n",
       "      <td>701</td>\n",
       "      <td>643</td>\n",
       "      <td>3.98</td>\n",
       "      <td>7</td>\n",
       "      <td>9</td>\n",
       "      <td>37</td>\n",
       "      <td>101</td>\n",
       "    </tr>\n",
       "    <tr>\n",
       "      <th>4</th>\n",
       "      <td>74</td>\n",
       "      <td>689</td>\n",
       "      <td>5605</td>\n",
       "      <td>1515</td>\n",
       "      <td>289</td>\n",
       "      <td>49</td>\n",
       "      <td>151</td>\n",
       "      <td>455</td>\n",
       "      <td>1259</td>\n",
       "      <td>83</td>\n",
       "      <td>803</td>\n",
       "      <td>746</td>\n",
       "      <td>4.64</td>\n",
       "      <td>7</td>\n",
       "      <td>12</td>\n",
       "      <td>35</td>\n",
       "      <td>86</td>\n",
       "    </tr>\n",
       "  </tbody>\n",
       "</table>\n",
       "</div>"
      ],
      "text/plain": [
       "    W    R    AB     H   2B  3B   HR   BB    SO   SB   RA   ER   ERA  CG  SHO  \\\n",
       "0  95  724  5575  1497  300  42  139  383   973  104  641  601  3.73   2    8   \n",
       "1  83  696  5467  1349  277  44  156  439  1264   70  700  653  4.07   2   12   \n",
       "2  81  669  5439  1395  303  29  141  533  1157   86  640  584  3.67  11   10   \n",
       "3  76  622  5533  1381  260  27  136  404  1231   68  701  643  3.98   7    9   \n",
       "4  74  689  5605  1515  289  49  151  455  1259   83  803  746  4.64   7   12   \n",
       "\n",
       "   SV    E  \n",
       "0  56   88  \n",
       "1  45   86  \n",
       "2  38   79  \n",
       "3  37  101  \n",
       "4  35   86  "
      ]
     },
     "execution_count": 188,
     "metadata": {},
     "output_type": "execute_result"
    }
   ],
   "source": [
    "df = pd.read_csv('https://raw.githubusercontent.com/dsrscientist/Data-Science-ML-Capstone-Projects/master/baseball.csv')\n",
    "df.head()"
   ]
  },
  {
   "cell_type": "markdown",
   "id": "771b936a",
   "metadata": {},
   "source": [
    "# About Data\n",
    "R: Runs,\n",
    "\n",
    "AB: At Bats\n",
    "\n",
    "H: Hits\n",
    "\n",
    "2B: Doubles\n",
    "\n",
    "3B: Triples\n",
    "\n",
    "HR: Homeruns\n",
    "\n",
    "BB: Walks\n",
    "\n",
    "SO: Strikeouts\n",
    "\n",
    "SB: Stolen Bases\n",
    "\n",
    "RA: Runs Allowed\n",
    "\n",
    "ER: Earned Runs\n",
    "\n",
    "ERA: Earned Run Average (ERA)\n",
    "\n",
    "CG: Shutouts\n",
    "\n",
    "SV: Saves,\n",
    "\n",
    "SHO: Complete Games\n",
    "\n",
    "E: Errors\n",
    "\n",
    "W: Win"
   ]
  },
  {
   "cell_type": "code",
   "execution_count": 189,
   "id": "d710c9fa",
   "metadata": {},
   "outputs": [
    {
     "data": {
      "text/plain": [
       "(30, 17)"
      ]
     },
     "execution_count": 189,
     "metadata": {},
     "output_type": "execute_result"
    }
   ],
   "source": [
    "# checking the number of data points\n",
    "df.shape"
   ]
  },
  {
   "cell_type": "code",
   "execution_count": 190,
   "id": "a9dbe368",
   "metadata": {},
   "outputs": [
    {
     "name": "stdout",
     "output_type": "stream",
     "text": [
      "<class 'pandas.core.frame.DataFrame'>\n",
      "RangeIndex: 30 entries, 0 to 29\n",
      "Data columns (total 17 columns):\n",
      " #   Column  Non-Null Count  Dtype  \n",
      "---  ------  --------------  -----  \n",
      " 0   W       30 non-null     int64  \n",
      " 1   R       30 non-null     int64  \n",
      " 2   AB      30 non-null     int64  \n",
      " 3   H       30 non-null     int64  \n",
      " 4   2B      30 non-null     int64  \n",
      " 5   3B      30 non-null     int64  \n",
      " 6   HR      30 non-null     int64  \n",
      " 7   BB      30 non-null     int64  \n",
      " 8   SO      30 non-null     int64  \n",
      " 9   SB      30 non-null     int64  \n",
      " 10  RA      30 non-null     int64  \n",
      " 11  ER      30 non-null     int64  \n",
      " 12  ERA     30 non-null     float64\n",
      " 13  CG      30 non-null     int64  \n",
      " 14  SHO     30 non-null     int64  \n",
      " 15  SV      30 non-null     int64  \n",
      " 16  E       30 non-null     int64  \n",
      "dtypes: float64(1), int64(16)\n",
      "memory usage: 4.1 KB\n"
     ]
    }
   ],
   "source": [
    "# getting some information about the dataset\n",
    "df.info()"
   ]
  },
  {
   "cell_type": "markdown",
   "id": "789ee604",
   "metadata": {},
   "source": [
    "There is no categorical columns"
   ]
  },
  {
   "cell_type": "code",
   "execution_count": 191,
   "id": "ec360210",
   "metadata": {},
   "outputs": [
    {
     "data": {
      "text/plain": [
       "W      0\n",
       "R      0\n",
       "AB     0\n",
       "H      0\n",
       "2B     0\n",
       "3B     0\n",
       "HR     0\n",
       "BB     0\n",
       "SO     0\n",
       "SB     0\n",
       "RA     0\n",
       "ER     0\n",
       "ERA    0\n",
       "CG     0\n",
       "SHO    0\n",
       "SV     0\n",
       "E      0\n",
       "dtype: int64"
      ]
     },
     "execution_count": 191,
     "metadata": {},
     "output_type": "execute_result"
    }
   ],
   "source": [
    "# checking for missing values\n",
    "df.isnull().sum()"
   ]
  },
  {
   "cell_type": "markdown",
   "id": "f3f1fddf",
   "metadata": {},
   "source": [
    "There is no null value present."
   ]
  },
  {
   "cell_type": "code",
   "execution_count": 192,
   "id": "405ef689",
   "metadata": {},
   "outputs": [
    {
     "data": {
      "text/plain": [
       "<AxesSubplot:>"
      ]
     },
     "execution_count": 192,
     "metadata": {},
     "output_type": "execute_result"
    },
    {
     "data": {
      "image/png": "[encoded data removed]",
      "text/plain": [
       "<Figure size 432x288 with 2 Axes>"
      ]
     },
     "metadata": {
      "needs_background": "light"
     },
     "output_type": "display_data"
    }
   ],
   "source": [
    "sns.heatmap(df.isnull().sum().to_frame())"
   ]
  },
  {
   "cell_type": "code",
   "execution_count": 193,
   "id": "085481d8",
   "metadata": {},
   "outputs": [
    {
     "data": {
      "text/html": [
       "<div>\n",
       "<style scoped>\n",
       "    .dataframe tbody tr th:only-of-type {\n",
       "        vertical-align: middle;\n",
       "    }\n",
       "\n",
       "    .dataframe tbody tr th {\n",
       "        vertical-align: top;\n",
       "    }\n",
       "\n",
       "    .dataframe thead th {\n",
       "        text-align: right;\n",
       "    }\n",
       "</style>\n",
       "<table border=\"1\" class=\"dataframe\">\n",
       "  <thead>\n",
       "    <tr style=\"text-align: right;\">\n",
       "      <th></th>\n",
       "      <th>W</th>\n",
       "      <th>R</th>\n",
       "      <th>AB</th>\n",
       "      <th>H</th>\n",
       "      <th>2B</th>\n",
       "      <th>3B</th>\n",
       "      <th>HR</th>\n",
       "      <th>BB</th>\n",
       "      <th>SO</th>\n",
       "      <th>SB</th>\n",
       "      <th>RA</th>\n",
       "      <th>ER</th>\n",
       "      <th>ERA</th>\n",
       "      <th>CG</th>\n",
       "      <th>SHO</th>\n",
       "      <th>SV</th>\n",
       "      <th>E</th>\n",
       "    </tr>\n",
       "  </thead>\n",
       "  <tbody>\n",
       "    <tr>\n",
       "      <th>count</th>\n",
       "      <td>30.000000</td>\n",
       "      <td>30.000000</td>\n",
       "      <td>30.000000</td>\n",
       "      <td>30.000000</td>\n",
       "      <td>30.000000</td>\n",
       "      <td>30.000000</td>\n",
       "      <td>30.000000</td>\n",
       "      <td>30.000000</td>\n",
       "      <td>30.00000</td>\n",
       "      <td>30.000000</td>\n",
       "      <td>30.000000</td>\n",
       "      <td>30.000000</td>\n",
       "      <td>30.000000</td>\n",
       "      <td>30.000000</td>\n",
       "      <td>30.000000</td>\n",
       "      <td>30.000000</td>\n",
       "      <td>30.000000</td>\n",
       "    </tr>\n",
       "    <tr>\n",
       "      <th>mean</th>\n",
       "      <td>80.966667</td>\n",
       "      <td>688.233333</td>\n",
       "      <td>5516.266667</td>\n",
       "      <td>1403.533333</td>\n",
       "      <td>274.733333</td>\n",
       "      <td>31.300000</td>\n",
       "      <td>163.633333</td>\n",
       "      <td>469.100000</td>\n",
       "      <td>1248.20000</td>\n",
       "      <td>83.500000</td>\n",
       "      <td>688.233333</td>\n",
       "      <td>635.833333</td>\n",
       "      <td>3.956333</td>\n",
       "      <td>3.466667</td>\n",
       "      <td>11.300000</td>\n",
       "      <td>43.066667</td>\n",
       "      <td>94.333333</td>\n",
       "    </tr>\n",
       "    <tr>\n",
       "      <th>std</th>\n",
       "      <td>10.453455</td>\n",
       "      <td>58.761754</td>\n",
       "      <td>70.467372</td>\n",
       "      <td>57.140923</td>\n",
       "      <td>18.095405</td>\n",
       "      <td>10.452355</td>\n",
       "      <td>31.823309</td>\n",
       "      <td>57.053725</td>\n",
       "      <td>103.75947</td>\n",
       "      <td>22.815225</td>\n",
       "      <td>72.108005</td>\n",
       "      <td>70.140786</td>\n",
       "      <td>0.454089</td>\n",
       "      <td>2.763473</td>\n",
       "      <td>4.120177</td>\n",
       "      <td>7.869335</td>\n",
       "      <td>13.958889</td>\n",
       "    </tr>\n",
       "    <tr>\n",
       "      <th>min</th>\n",
       "      <td>63.000000</td>\n",
       "      <td>573.000000</td>\n",
       "      <td>5385.000000</td>\n",
       "      <td>1324.000000</td>\n",
       "      <td>236.000000</td>\n",
       "      <td>13.000000</td>\n",
       "      <td>100.000000</td>\n",
       "      <td>375.000000</td>\n",
       "      <td>973.00000</td>\n",
       "      <td>44.000000</td>\n",
       "      <td>525.000000</td>\n",
       "      <td>478.000000</td>\n",
       "      <td>2.940000</td>\n",
       "      <td>0.000000</td>\n",
       "      <td>4.000000</td>\n",
       "      <td>28.000000</td>\n",
       "      <td>75.000000</td>\n",
       "    </tr>\n",
       "    <tr>\n",
       "      <th>25%</th>\n",
       "      <td>74.000000</td>\n",
       "      <td>651.250000</td>\n",
       "      <td>5464.000000</td>\n",
       "      <td>1363.000000</td>\n",
       "      <td>262.250000</td>\n",
       "      <td>23.000000</td>\n",
       "      <td>140.250000</td>\n",
       "      <td>428.250000</td>\n",
       "      <td>1157.50000</td>\n",
       "      <td>69.000000</td>\n",
       "      <td>636.250000</td>\n",
       "      <td>587.250000</td>\n",
       "      <td>3.682500</td>\n",
       "      <td>1.000000</td>\n",
       "      <td>9.000000</td>\n",
       "      <td>37.250000</td>\n",
       "      <td>86.000000</td>\n",
       "    </tr>\n",
       "    <tr>\n",
       "      <th>50%</th>\n",
       "      <td>81.000000</td>\n",
       "      <td>689.000000</td>\n",
       "      <td>5510.000000</td>\n",
       "      <td>1382.500000</td>\n",
       "      <td>275.500000</td>\n",
       "      <td>31.000000</td>\n",
       "      <td>158.500000</td>\n",
       "      <td>473.000000</td>\n",
       "      <td>1261.50000</td>\n",
       "      <td>83.500000</td>\n",
       "      <td>695.500000</td>\n",
       "      <td>644.500000</td>\n",
       "      <td>4.025000</td>\n",
       "      <td>3.000000</td>\n",
       "      <td>12.000000</td>\n",
       "      <td>42.000000</td>\n",
       "      <td>91.000000</td>\n",
       "    </tr>\n",
       "    <tr>\n",
       "      <th>75%</th>\n",
       "      <td>87.750000</td>\n",
       "      <td>718.250000</td>\n",
       "      <td>5570.000000</td>\n",
       "      <td>1451.500000</td>\n",
       "      <td>288.750000</td>\n",
       "      <td>39.000000</td>\n",
       "      <td>177.000000</td>\n",
       "      <td>501.250000</td>\n",
       "      <td>1311.50000</td>\n",
       "      <td>96.500000</td>\n",
       "      <td>732.500000</td>\n",
       "      <td>679.250000</td>\n",
       "      <td>4.220000</td>\n",
       "      <td>5.750000</td>\n",
       "      <td>13.000000</td>\n",
       "      <td>46.750000</td>\n",
       "      <td>96.750000</td>\n",
       "    </tr>\n",
       "    <tr>\n",
       "      <th>max</th>\n",
       "      <td>100.000000</td>\n",
       "      <td>891.000000</td>\n",
       "      <td>5649.000000</td>\n",
       "      <td>1515.000000</td>\n",
       "      <td>308.000000</td>\n",
       "      <td>49.000000</td>\n",
       "      <td>232.000000</td>\n",
       "      <td>570.000000</td>\n",
       "      <td>1518.00000</td>\n",
       "      <td>134.000000</td>\n",
       "      <td>844.000000</td>\n",
       "      <td>799.000000</td>\n",
       "      <td>5.040000</td>\n",
       "      <td>11.000000</td>\n",
       "      <td>21.000000</td>\n",
       "      <td>62.000000</td>\n",
       "      <td>126.000000</td>\n",
       "    </tr>\n",
       "  </tbody>\n",
       "</table>\n",
       "</div>"
      ],
      "text/plain": [
       "                W           R           AB            H          2B  \\\n",
       "count   30.000000   30.000000    30.000000    30.000000   30.000000   \n",
       "mean    80.966667  688.233333  5516.266667  1403.533333  274.733333   \n",
       "std     10.453455   58.761754    70.467372    57.140923   18.095405   \n",
       "min     63.000000  573.000000  5385.000000  1324.000000  236.000000   \n",
       "25%     74.000000  651.250000  5464.000000  1363.000000  262.250000   \n",
       "50%     81.000000  689.000000  5510.000000  1382.500000  275.500000   \n",
       "75%     87.750000  718.250000  5570.000000  1451.500000  288.750000   \n",
       "max    100.000000  891.000000  5649.000000  1515.000000  308.000000   \n",
       "\n",
       "              3B          HR          BB          SO          SB          RA  \\\n",
       "count  30.000000   30.000000   30.000000    30.00000   30.000000   30.000000   \n",
       "mean   31.300000  163.633333  469.100000  1248.20000   83.500000  688.233333   \n",
       "std    10.452355   31.823309   57.053725   103.75947   22.815225   72.108005   \n",
       "min    13.000000  100.000000  375.000000   973.00000   44.000000  525.000000   \n",
       "25%    23.000000  140.250000  428.250000  1157.50000   69.000000  636.250000   \n",
       "50%    31.000000  158.500000  473.000000  1261.50000   83.500000  695.500000   \n",
       "75%    39.000000  177.000000  501.250000  1311.50000   96.500000  732.500000   \n",
       "max    49.000000  232.000000  570.000000  1518.00000  134.000000  844.000000   \n",
       "\n",
       "               ER        ERA         CG        SHO         SV           E  \n",
       "count   30.000000  30.000000  30.000000  30.000000  30.000000   30.000000  \n",
       "mean   635.833333   3.956333   3.466667  11.300000  43.066667   94.333333  \n",
       "std     70.140786   0.454089   2.763473   4.120177   7.869335   13.958889  \n",
       "min    478.000000   2.940000   0.000000   4.000000  28.000000   75.000000  \n",
       "25%    587.250000   3.682500   1.000000   9.000000  37.250000   86.000000  \n",
       "50%    644.500000   4.025000   3.000000  12.000000  42.000000   91.000000  \n",
       "75%    679.250000   4.220000   5.750000  13.000000  46.750000   96.750000  \n",
       "max    799.000000   5.040000  11.000000  21.000000  62.000000  126.000000  "
      ]
     },
     "execution_count": 193,
     "metadata": {},
     "output_type": "execute_result"
    }
   ],
   "source": [
    "df.describe()"
   ]
  },
  {
   "cell_type": "markdown",
   "id": "646f6234",
   "metadata": {},
   "source": [
    "# DATA VISUALIZATION"
   ]
  },
  {
   "cell_type": "code",
   "execution_count": 194,
   "id": "e5cb30b4",
   "metadata": {},
   "outputs": [
    {
     "data": {
      "text/plain": [
       "<AxesSubplot:xlabel='R', ylabel='Count'>"
      ]
     },
     "execution_count": 194,
     "metadata": {},
     "output_type": "execute_result"
    },
    {
     "data": {
      "image/png": "[encoded data removed]",
      "text/plain": [
       "<Figure size 432x288 with 1 Axes>"
      ]
     },
     "metadata": {
      "needs_background": "light"
     },
     "output_type": "display_data"
    }
   ],
   "source": [
    "# with respect to Runs and win\n",
    "sns.histplot(x='R',data=df,kde=True)"
   ]
  },
  {
   "cell_type": "code",
   "execution_count": 195,
   "id": "5e69a260",
   "metadata": {},
   "outputs": [
    {
     "data": {
      "text/plain": [
       "<AxesSubplot:xlabel='R', ylabel='W'>"
      ]
     },
     "execution_count": 195,
     "metadata": {},
     "output_type": "execute_result"
    },
    {
     "data": {
      "image/png": "[encoded data removed]",
      "text/plain": [
       "<Figure size 432x288 with 1 Axes>"
      ]
     },
     "metadata": {
      "needs_background": "light"
     },
     "output_type": "display_data"
    }
   ],
   "source": [
    "sns.regplot(x='R',y='W',data=df)"
   ]
  },
  {
   "cell_type": "code",
   "execution_count": 196,
   "id": "42860fc0",
   "metadata": {},
   "outputs": [],
   "source": [
    "# Run and win are linearly correlated. And outliers are present between 850 and 900"
   ]
  },
  {
   "cell_type": "code",
   "execution_count": 197,
   "id": "1a380822",
   "metadata": {},
   "outputs": [
    {
     "data": {
      "text/plain": [
       "<AxesSubplot:xlabel='AB', ylabel='Count'>"
      ]
     },
     "execution_count": 197,
     "metadata": {},
     "output_type": "execute_result"
    },
    {
     "data": {
      "image/png": "[encoded data removed]",
      "text/plain": [
       "<Figure size 432x288 with 1 Axes>"
      ]
     },
     "metadata": {
      "needs_background": "light"
     },
     "output_type": "display_data"
    }
   ],
   "source": [
    "# with respect to At Bats and win\n",
    "sns.histplot(x='AB',data=df,kde=True)"
   ]
  },
  {
   "cell_type": "code",
   "execution_count": 198,
   "id": "dd215238",
   "metadata": {},
   "outputs": [
    {
     "data": {
      "text/plain": [
       "<AxesSubplot:xlabel='AB', ylabel='W'>"
      ]
     },
     "execution_count": 198,
     "metadata": {},
     "output_type": "execute_result"
    },
    {
     "data": {
      "image/png": "[encoded data removed]",
      "text/plain": [
       "<Figure size 432x288 with 1 Axes>"
      ]
     },
     "metadata": {
      "needs_background": "light"
     },
     "output_type": "display_data"
    }
   ],
   "source": [
    "sns.regplot(x='AB',y='W',data=df)"
   ]
  },
  {
   "cell_type": "markdown",
   "id": "1a4de120",
   "metadata": {},
   "source": [
    " At balls is very weekly related to Wins"
   ]
  },
  {
   "cell_type": "code",
   "execution_count": 199,
   "id": "a339d87a",
   "metadata": {},
   "outputs": [
    {
     "data": {
      "text/plain": [
       "<AxesSubplot:xlabel='H', ylabel='Count'>"
      ]
     },
     "execution_count": 199,
     "metadata": {},
     "output_type": "execute_result"
    },
    {
     "data": {
      "image/png": "[encoded data removed]",
      "text/plain": [
       "<Figure size 432x288 with 1 Axes>"
      ]
     },
     "metadata": {
      "needs_background": "light"
     },
     "output_type": "display_data"
    }
   ],
   "source": [
    "# with respect to Hits and win\n",
    "sns.histplot(x='H',data=df,kde=True)"
   ]
  },
  {
   "cell_type": "code",
   "execution_count": 200,
   "id": "cd727c8c",
   "metadata": {},
   "outputs": [
    {
     "data": {
      "text/plain": [
       "<AxesSubplot:xlabel='H', ylabel='W'>"
      ]
     },
     "execution_count": 200,
     "metadata": {},
     "output_type": "execute_result"
    },
    {
     "data": {
      "image/png": "[encoded data removed]",
      "text/plain": [
       "<Figure size 432x288 with 1 Axes>"
      ]
     },
     "metadata": {
      "needs_background": "light"
     },
     "output_type": "display_data"
    }
   ],
   "source": [
    "sns.regplot(x='H',y='W',data=df)"
   ]
  },
  {
   "cell_type": "markdown",
   "id": "e66488c8",
   "metadata": {},
   "source": [
    "Hits are also very weekly related to winning"
   ]
  },
  {
   "cell_type": "code",
   "execution_count": 201,
   "id": "8f948e46",
   "metadata": {},
   "outputs": [
    {
     "data": {
      "text/plain": [
       "<AxesSubplot:xlabel='2B', ylabel='Count'>"
      ]
     },
     "execution_count": 201,
     "metadata": {},
     "output_type": "execute_result"
    },
    {
     "data": {
      "image/png": "[encoded data removed]",
      "text/plain": [
       "<Figure size 432x288 with 1 Axes>"
      ]
     },
     "metadata": {
      "needs_background": "light"
     },
     "output_type": "display_data"
    }
   ],
   "source": [
    "# with respect to Doubles and win\n",
    "sns.histplot(x='2B',data=df,kde=True)"
   ]
  },
  {
   "cell_type": "code",
   "execution_count": 202,
   "id": "b745c93e",
   "metadata": {},
   "outputs": [
    {
     "data": {
      "text/plain": [
       "<AxesSubplot:xlabel='2B', ylabel='W'>"
      ]
     },
     "execution_count": 202,
     "metadata": {},
     "output_type": "execute_result"
    },
    {
     "data": {
      "image/png": "[encoded data removed]",
      "text/plain": [
       "<Figure size 432x288 with 1 Axes>"
      ]
     },
     "metadata": {
      "needs_background": "light"
     },
     "output_type": "display_data"
    }
   ],
   "source": [
    "sns.regplot(x='2B',y='W',data=df)"
   ]
  },
  {
   "cell_type": "markdown",
   "id": "a3d4977e",
   "metadata": {},
   "source": [
    "Doubles are linearly related with Wins"
   ]
  },
  {
   "cell_type": "code",
   "execution_count": 203,
   "id": "3441a890",
   "metadata": {},
   "outputs": [
    {
     "data": {
      "text/plain": [
       "<AxesSubplot:xlabel='3B', ylabel='Count'>"
      ]
     },
     "execution_count": 203,
     "metadata": {},
     "output_type": "execute_result"
    },
    {
     "data": {
      "image/png": "[encoded data removed]",
      "text/plain": [
       "<Figure size 432x288 with 1 Axes>"
      ]
     },
     "metadata": {
      "needs_background": "light"
     },
     "output_type": "display_data"
    }
   ],
   "source": [
    "# with respect to Triples and win\n",
    "sns.histplot(x='3B',data=df,kde=True)"
   ]
  },
  {
   "cell_type": "code",
   "execution_count": 204,
   "id": "66db6874",
   "metadata": {},
   "outputs": [
    {
     "data": {
      "text/plain": [
       "<AxesSubplot:xlabel='3B', ylabel='W'>"
      ]
     },
     "execution_count": 204,
     "metadata": {},
     "output_type": "execute_result"
    },
    {
     "data": {
      "image/png": "[encoded data removed]",
      "text/plain": [
       "<Figure size 432x288 with 1 Axes>"
      ]
     },
     "metadata": {
      "needs_background": "light"
     },
     "output_type": "display_data"
    }
   ],
   "source": [
    "sns.regplot(x='3B',y='W',data=df)"
   ]
  },
  {
   "cell_type": "markdown",
   "id": "a35b25e2",
   "metadata": {},
   "source": [
    "Triple has very weak negative correlations with win"
   ]
  },
  {
   "cell_type": "code",
   "execution_count": 205,
   "id": "686e64ef",
   "metadata": {},
   "outputs": [
    {
     "data": {
      "text/plain": [
       "<AxesSubplot:xlabel='HR', ylabel='Count'>"
      ]
     },
     "execution_count": 205,
     "metadata": {},
     "output_type": "execute_result"
    },
    {
     "data": {
      "image/png": "[encoded data removed]",
      "text/plain": [
       "<Figure size 432x288 with 1 Axes>"
      ]
     },
     "metadata": {
      "needs_background": "light"
     },
     "output_type": "display_data"
    }
   ],
   "source": [
    "# with respect to Home Run and win\n",
    "sns.histplot(x='HR',data=df,kde=True)"
   ]
  },
  {
   "cell_type": "code",
   "execution_count": 206,
   "id": "5e4ebb26",
   "metadata": {},
   "outputs": [
    {
     "data": {
      "text/plain": [
       "<AxesSubplot:xlabel='HR', ylabel='W'>"
      ]
     },
     "execution_count": 206,
     "metadata": {},
     "output_type": "execute_result"
    },
    {
     "data": {
      "image/png": "[encoded data removed]",
      "text/plain": [
       "<Figure size 432x288 with 1 Axes>"
      ]
     },
     "metadata": {
      "needs_background": "light"
     },
     "output_type": "display_data"
    }
   ],
   "source": [
    "sns.regplot(x='HR',y='W',data=df)"
   ]
  },
  {
   "cell_type": "markdown",
   "id": "d51018e9",
   "metadata": {},
   "source": [
    "The home run has a very low correlation with wins "
   ]
  },
  {
   "cell_type": "code",
   "execution_count": 207,
   "id": "88c5d15c",
   "metadata": {},
   "outputs": [
    {
     "data": {
      "text/plain": [
       "<AxesSubplot:xlabel='BB', ylabel='Count'>"
      ]
     },
     "execution_count": 207,
     "metadata": {},
     "output_type": "execute_result"
    },
    {
     "data": {
      "image/png": "[encoded data removed]",
      "text/plain": [
       "<Figure size 432x288 with 1 Axes>"
      ]
     },
     "metadata": {
      "needs_background": "light"
     },
     "output_type": "display_data"
    }
   ],
   "source": [
    "# with respect to Walks and win\n",
    "sns.histplot(x='BB',data=df,kde=True)"
   ]
  },
  {
   "cell_type": "code",
   "execution_count": 208,
   "id": "c41dbfcf",
   "metadata": {},
   "outputs": [
    {
     "data": {
      "text/plain": [
       "<AxesSubplot:xlabel='BB', ylabel='W'>"
      ]
     },
     "execution_count": 208,
     "metadata": {},
     "output_type": "execute_result"
    },
    {
     "data": {
      "image/png": "[encoded data removed]",
      "text/plain": [
       "<Figure size 432x288 with 1 Axes>"
      ]
     },
     "metadata": {
      "needs_background": "light"
     },
     "output_type": "display_data"
    }
   ],
   "source": [
    "sns.regplot(x='BB',y='W',data=df)"
   ]
  },
  {
   "cell_type": "markdown",
   "id": "97cfa060",
   "metadata": {},
   "source": [
    "Walk is lightly correlated to win"
   ]
  },
  {
   "cell_type": "code",
   "execution_count": 209,
   "id": "25fc8c62",
   "metadata": {},
   "outputs": [
    {
     "data": {
      "text/plain": [
       "<AxesSubplot:xlabel='SO', ylabel='Count'>"
      ]
     },
     "execution_count": 209,
     "metadata": {},
     "output_type": "execute_result"
    },
    {
     "data": {
      "image/png": "[encoded data removed]",
      "text/plain": [
       "<Figure size 432x288 with 1 Axes>"
      ]
     },
     "metadata": {
      "needs_background": "light"
     },
     "output_type": "display_data"
    }
   ],
   "source": [
    "# with respect to Strikeout and win\n",
    "sns.histplot(x='SO',data=df,kde=True)"
   ]
  },
  {
   "cell_type": "code",
   "execution_count": 210,
   "id": "651bf80a",
   "metadata": {},
   "outputs": [
    {
     "data": {
      "text/plain": [
       "<AxesSubplot:xlabel='SO', ylabel='W'>"
      ]
     },
     "execution_count": 210,
     "metadata": {},
     "output_type": "execute_result"
    },
    {
     "data": {
      "image/png": "[encoded data removed]",
      "text/plain": [
       "<Figure size 432x288 with 1 Axes>"
      ]
     },
     "metadata": {
      "needs_background": "light"
     },
     "output_type": "display_data"
    }
   ],
   "source": [
    "sns.regplot(x='SO',y='W',data=df)"
   ]
  },
  {
   "cell_type": "markdown",
   "id": "6e5a2d5b",
   "metadata": {},
   "source": [
    "Strikeout is not correlated to win"
   ]
  },
  {
   "cell_type": "code",
   "execution_count": 211,
   "id": "d89273a8",
   "metadata": {},
   "outputs": [
    {
     "data": {
      "text/plain": [
       "<AxesSubplot:xlabel='SB', ylabel='Count'>"
      ]
     },
     "execution_count": 211,
     "metadata": {},
     "output_type": "execute_result"
    },
    {
     "data": {
      "image/png": "[encoded data removed]",
      "text/plain": [
       "<Figure size 432x288 with 1 Axes>"
      ]
     },
     "metadata": {
      "needs_background": "light"
     },
     "output_type": "display_data"
    }
   ],
   "source": [
    "# with respect to Stolen Bases  and win\n",
    "sns.histplot(x='SB',data=df,kde=True)"
   ]
  },
  {
   "cell_type": "code",
   "execution_count": 212,
   "id": "4a12da94",
   "metadata": {},
   "outputs": [
    {
     "data": {
      "text/plain": [
       "<AxesSubplot:xlabel='SB', ylabel='W'>"
      ]
     },
     "execution_count": 212,
     "metadata": {},
     "output_type": "execute_result"
    },
    {
     "data": {
      "image/png": "[encoded data removed]",
      "text/plain": [
       "<Figure size 432x288 with 1 Axes>"
      ]
     },
     "metadata": {
      "needs_background": "light"
     },
     "output_type": "display_data"
    }
   ],
   "source": [
    "sns.regplot(x='SB',y='W',data=df)"
   ]
  },
  {
   "cell_type": "markdown",
   "id": "a43a691c",
   "metadata": {},
   "source": [
    "Stolen Bases is not correlated to win"
   ]
  },
  {
   "cell_type": "code",
   "execution_count": 213,
   "id": "365a85eb",
   "metadata": {},
   "outputs": [
    {
     "data": {
      "text/plain": [
       "<AxesSubplot:xlabel='RA', ylabel='Count'>"
      ]
     },
     "execution_count": 213,
     "metadata": {},
     "output_type": "execute_result"
    },
    {
     "data": {
      "image/png": "[encoded data removed]",
      "text/plain": [
       "<Figure size 432x288 with 1 Axes>"
      ]
     },
     "metadata": {
      "needs_background": "light"
     },
     "output_type": "display_data"
    }
   ],
   "source": [
    "# with respect to Runs Allowed and win\n",
    "sns.histplot(x='RA',data=df,kde=True)"
   ]
  },
  {
   "cell_type": "code",
   "execution_count": 214,
   "id": "710c0dd1",
   "metadata": {},
   "outputs": [
    {
     "data": {
      "text/plain": [
       "<AxesSubplot:xlabel='RA', ylabel='W'>"
      ]
     },
     "execution_count": 214,
     "metadata": {},
     "output_type": "execute_result"
    },
    {
     "data": {
      "image/png": "[encoded data removed]",
      "text/plain": [
       "<Figure size 432x288 with 1 Axes>"
      ]
     },
     "metadata": {
      "needs_background": "light"
     },
     "output_type": "display_data"
    }
   ],
   "source": [
    "sns.regplot(x='RA',y='W',data=df)"
   ]
  },
  {
   "cell_type": "markdown",
   "id": "c0e0f801",
   "metadata": {},
   "source": [
    "Runs Allowed is highly correlated to win"
   ]
  },
  {
   "cell_type": "code",
   "execution_count": 215,
   "id": "5e070cfa",
   "metadata": {},
   "outputs": [
    {
     "data": {
      "text/plain": [
       "<AxesSubplot:xlabel='ER', ylabel='Count'>"
      ]
     },
     "execution_count": 215,
     "metadata": {},
     "output_type": "execute_result"
    },
    {
     "data": {
      "image/png": "[encoded data removed]",
      "text/plain": [
       "<Figure size 432x288 with 1 Axes>"
      ]
     },
     "metadata": {
      "needs_background": "light"
     },
     "output_type": "display_data"
    }
   ],
   "source": [
    "# with respect to Earned Runs and win\n",
    "sns.histplot(x='ER',data=df,kde=True)"
   ]
  },
  {
   "cell_type": "code",
   "execution_count": 216,
   "id": "1664cb40",
   "metadata": {},
   "outputs": [
    {
     "data": {
      "text/plain": [
       "<AxesSubplot:xlabel='ER', ylabel='W'>"
      ]
     },
     "execution_count": 216,
     "metadata": {},
     "output_type": "execute_result"
    },
    {
     "data": {
      "image/png": "[encoded data removed]",
      "text/plain": [
       "<Figure size 432x288 with 1 Axes>"
      ]
     },
     "metadata": {
      "needs_background": "light"
     },
     "output_type": "display_data"
    }
   ],
   "source": [
    "sns.regplot(x='ER',y='W',data=df)"
   ]
  },
  {
   "cell_type": "markdown",
   "id": "b808bfcc",
   "metadata": {},
   "source": [
    "Earned Runs is highly correlated to win"
   ]
  },
  {
   "cell_type": "code",
   "execution_count": 217,
   "id": "0ba6179d",
   "metadata": {},
   "outputs": [
    {
     "data": {
      "text/plain": [
       "<AxesSubplot:xlabel='ERA', ylabel='Count'>"
      ]
     },
     "execution_count": 217,
     "metadata": {},
     "output_type": "execute_result"
    },
    {
     "data": {
      "image/png": "[encoded data removed]",
      "text/plain": [
       "<Figure size 432x288 with 1 Axes>"
      ]
     },
     "metadata": {
      "needs_background": "light"
     },
     "output_type": "display_data"
    }
   ],
   "source": [
    "# with respect to Earned Run Average and win\n",
    "sns.histplot(x='ERA',data=df,kde=True)"
   ]
  },
  {
   "cell_type": "code",
   "execution_count": 218,
   "id": "6246573a",
   "metadata": {},
   "outputs": [
    {
     "data": {
      "text/plain": [
       "<AxesSubplot:xlabel='ERA', ylabel='W'>"
      ]
     },
     "execution_count": 218,
     "metadata": {},
     "output_type": "execute_result"
    },
    {
     "data": {
      "image/png": "[encoded data removed]",
      "text/plain": [
       "<Figure size 432x288 with 1 Axes>"
      ]
     },
     "metadata": {
      "needs_background": "light"
     },
     "output_type": "display_data"
    }
   ],
   "source": [
    "sns.regplot(x='ERA',y='W',data=df)"
   ]
  },
  {
   "cell_type": "markdown",
   "id": "5803e75c",
   "metadata": {},
   "source": [
    "Earned Run Average (ERA) is not correlated to win "
   ]
  },
  {
   "cell_type": "code",
   "execution_count": 219,
   "id": "d117f504",
   "metadata": {},
   "outputs": [
    {
     "data": {
      "text/plain": [
       "<AxesSubplot:xlabel='CG', ylabel='Count'>"
      ]
     },
     "execution_count": 219,
     "metadata": {},
     "output_type": "execute_result"
    },
    {
     "data": {
      "image/png": "[encoded data removed]",
      "text/plain": [
       "<Figure size 432x288 with 1 Axes>"
      ]
     },
     "metadata": {
      "needs_background": "light"
     },
     "output_type": "display_data"
    }
   ],
   "source": [
    "# with respect to Shutouts and win\n",
    "sns.histplot(x='CG',data=df,kde=True)"
   ]
  },
  {
   "cell_type": "code",
   "execution_count": 220,
   "id": "b60d1454",
   "metadata": {},
   "outputs": [
    {
     "data": {
      "text/plain": [
       "<AxesSubplot:xlabel='CG', ylabel='W'>"
      ]
     },
     "execution_count": 220,
     "metadata": {},
     "output_type": "execute_result"
    },
    {
     "data": {
      "image/png": "[encoded data removed]",
      "text/plain": [
       "<Figure size 432x288 with 1 Axes>"
      ]
     },
     "metadata": {
      "needs_background": "light"
     },
     "output_type": "display_data"
    }
   ],
   "source": [
    "sns.regplot(x='CG',y='W',data=df)"
   ]
  },
  {
   "cell_type": "markdown",
   "id": "4a3b8739",
   "metadata": {},
   "source": [
    "Shutouts are highly correlated to win"
   ]
  },
  {
   "cell_type": "code",
   "execution_count": 221,
   "id": "53fb4552",
   "metadata": {},
   "outputs": [
    {
     "data": {
      "text/plain": [
       "<AxesSubplot:xlabel='SV', ylabel='Count'>"
      ]
     },
     "execution_count": 221,
     "metadata": {},
     "output_type": "execute_result"
    },
    {
     "data": {
      "image/png": "[encoded data removed]",
      "text/plain": [
       "<Figure size 432x288 with 1 Axes>"
      ]
     },
     "metadata": {
      "needs_background": "light"
     },
     "output_type": "display_data"
    }
   ],
   "source": [
    "# with respect to Saves and win\n",
    "sns.histplot(x='SV',data=df,kde=True)"
   ]
  },
  {
   "cell_type": "code",
   "execution_count": 222,
   "id": "5ea5c47a",
   "metadata": {},
   "outputs": [
    {
     "data": {
      "text/plain": [
       "<AxesSubplot:xlabel='SV', ylabel='W'>"
      ]
     },
     "execution_count": 222,
     "metadata": {},
     "output_type": "execute_result"
    },
    {
     "data": {
      "image/png": "[encoded data removed]",
      "text/plain": [
       "<Figure size 432x288 with 1 Axes>"
      ]
     },
     "metadata": {
      "needs_background": "light"
     },
     "output_type": "display_data"
    }
   ],
   "source": [
    "sns.regplot(x='SV',y='W',data=df)"
   ]
  },
  {
   "cell_type": "markdown",
   "id": "d29218b9",
   "metadata": {},
   "source": [
    "Saves are lightly correlated to win"
   ]
  },
  {
   "cell_type": "code",
   "execution_count": 223,
   "id": "0483f554",
   "metadata": {},
   "outputs": [
    {
     "data": {
      "text/plain": [
       "<AxesSubplot:xlabel='E', ylabel='Count'>"
      ]
     },
     "execution_count": 223,
     "metadata": {},
     "output_type": "execute_result"
    },
    {
     "data": {
      "image/png": "[encoded data removed]",
      "text/plain": [
       "<Figure size 432x288 with 1 Axes>"
      ]
     },
     "metadata": {
      "needs_background": "light"
     },
     "output_type": "display_data"
    }
   ],
   "source": [
    "# with respect to Error and win\n",
    "sns.histplot(x='E',data=df,kde=True)"
   ]
  },
  {
   "cell_type": "code",
   "execution_count": 224,
   "id": "ef5a73e5",
   "metadata": {},
   "outputs": [
    {
     "data": {
      "text/plain": [
       "<AxesSubplot:xlabel='E', ylabel='W'>"
      ]
     },
     "execution_count": 224,
     "metadata": {},
     "output_type": "execute_result"
    },
    {
     "data": {
      "image/png": "[encoded data removed]",
      "text/plain": [
       "<Figure size 432x288 with 1 Axes>"
      ]
     },
     "metadata": {
      "needs_background": "light"
     },
     "output_type": "display_data"
    }
   ],
   "source": [
    "sns.regplot(x='E',y='W',data=df)"
   ]
  },
  {
   "cell_type": "markdown",
   "id": "068f5735",
   "metadata": {},
   "source": [
    "Errors are not correlated to win"
   ]
  },
  {
   "cell_type": "code",
   "execution_count": 225,
   "id": "7d2ef41a",
   "metadata": {},
   "outputs": [
    {
     "data": {
      "text/html": [
       "<div>\n",
       "<style scoped>\n",
       "    .dataframe tbody tr th:only-of-type {\n",
       "        vertical-align: middle;\n",
       "    }\n",
       "\n",
       "    .dataframe tbody tr th {\n",
       "        vertical-align: top;\n",
       "    }\n",
       "\n",
       "    .dataframe thead th {\n",
       "        text-align: right;\n",
       "    }\n",
       "</style>\n",
       "<table border=\"1\" class=\"dataframe\">\n",
       "  <thead>\n",
       "    <tr style=\"text-align: right;\">\n",
       "      <th></th>\n",
       "      <th>W</th>\n",
       "      <th>R</th>\n",
       "      <th>AB</th>\n",
       "      <th>H</th>\n",
       "      <th>2B</th>\n",
       "      <th>3B</th>\n",
       "      <th>HR</th>\n",
       "      <th>BB</th>\n",
       "      <th>SO</th>\n",
       "      <th>SB</th>\n",
       "      <th>RA</th>\n",
       "      <th>ER</th>\n",
       "      <th>ERA</th>\n",
       "      <th>CG</th>\n",
       "      <th>SHO</th>\n",
       "      <th>SV</th>\n",
       "      <th>E</th>\n",
       "    </tr>\n",
       "  </thead>\n",
       "  <tbody>\n",
       "    <tr>\n",
       "      <th>W</th>\n",
       "      <td>1.000000</td>\n",
       "      <td>0.430751</td>\n",
       "      <td>-0.087947</td>\n",
       "      <td>0.037612</td>\n",
       "      <td>0.427797</td>\n",
       "      <td>-0.251118</td>\n",
       "      <td>0.307407</td>\n",
       "      <td>0.484342</td>\n",
       "      <td>0.111850</td>\n",
       "      <td>-0.157234</td>\n",
       "      <td>-0.812952</td>\n",
       "      <td>-0.809435</td>\n",
       "      <td>-0.819600</td>\n",
       "      <td>0.080533</td>\n",
       "      <td>0.471805</td>\n",
       "      <td>0.666530</td>\n",
       "      <td>-0.089485</td>\n",
       "    </tr>\n",
       "    <tr>\n",
       "      <th>R</th>\n",
       "      <td>0.430751</td>\n",
       "      <td>1.000000</td>\n",
       "      <td>0.319464</td>\n",
       "      <td>0.482856</td>\n",
       "      <td>0.560084</td>\n",
       "      <td>-0.070072</td>\n",
       "      <td>0.671283</td>\n",
       "      <td>0.402452</td>\n",
       "      <td>-0.054726</td>\n",
       "      <td>0.081367</td>\n",
       "      <td>-0.041623</td>\n",
       "      <td>-0.041245</td>\n",
       "      <td>-0.049281</td>\n",
       "      <td>0.232042</td>\n",
       "      <td>-0.103274</td>\n",
       "      <td>-0.096380</td>\n",
       "      <td>-0.023262</td>\n",
       "    </tr>\n",
       "    <tr>\n",
       "      <th>AB</th>\n",
       "      <td>-0.087947</td>\n",
       "      <td>0.319464</td>\n",
       "      <td>1.000000</td>\n",
       "      <td>0.739122</td>\n",
       "      <td>0.453370</td>\n",
       "      <td>0.435422</td>\n",
       "      <td>-0.066983</td>\n",
       "      <td>-0.136414</td>\n",
       "      <td>-0.106022</td>\n",
       "      <td>0.372618</td>\n",
       "      <td>0.316010</td>\n",
       "      <td>0.309686</td>\n",
       "      <td>0.255551</td>\n",
       "      <td>-0.080876</td>\n",
       "      <td>-0.197321</td>\n",
       "      <td>-0.106367</td>\n",
       "      <td>0.316743</td>\n",
       "    </tr>\n",
       "    <tr>\n",
       "      <th>H</th>\n",
       "      <td>0.037612</td>\n",
       "      <td>0.482856</td>\n",
       "      <td>0.739122</td>\n",
       "      <td>1.000000</td>\n",
       "      <td>0.566847</td>\n",
       "      <td>0.478694</td>\n",
       "      <td>-0.090855</td>\n",
       "      <td>-0.118281</td>\n",
       "      <td>-0.398830</td>\n",
       "      <td>0.413444</td>\n",
       "      <td>0.224324</td>\n",
       "      <td>0.252489</td>\n",
       "      <td>0.231172</td>\n",
       "      <td>0.147955</td>\n",
       "      <td>-0.145559</td>\n",
       "      <td>-0.130371</td>\n",
       "      <td>-0.033173</td>\n",
       "    </tr>\n",
       "    <tr>\n",
       "      <th>2B</th>\n",
       "      <td>0.427797</td>\n",
       "      <td>0.560084</td>\n",
       "      <td>0.453370</td>\n",
       "      <td>0.566847</td>\n",
       "      <td>1.000000</td>\n",
       "      <td>0.220490</td>\n",
       "      <td>0.056292</td>\n",
       "      <td>0.302700</td>\n",
       "      <td>-0.150752</td>\n",
       "      <td>0.195027</td>\n",
       "      <td>-0.218160</td>\n",
       "      <td>-0.235531</td>\n",
       "      <td>-0.254854</td>\n",
       "      <td>0.306675</td>\n",
       "      <td>0.057998</td>\n",
       "      <td>0.171576</td>\n",
       "      <td>0.105754</td>\n",
       "    </tr>\n",
       "    <tr>\n",
       "      <th>3B</th>\n",
       "      <td>-0.251118</td>\n",
       "      <td>-0.070072</td>\n",
       "      <td>0.435422</td>\n",
       "      <td>0.478694</td>\n",
       "      <td>0.220490</td>\n",
       "      <td>1.000000</td>\n",
       "      <td>-0.430915</td>\n",
       "      <td>-0.454949</td>\n",
       "      <td>-0.141196</td>\n",
       "      <td>0.457437</td>\n",
       "      <td>0.314125</td>\n",
       "      <td>0.340225</td>\n",
       "      <td>0.330951</td>\n",
       "      <td>-0.065898</td>\n",
       "      <td>-0.041396</td>\n",
       "      <td>-0.142370</td>\n",
       "      <td>0.126678</td>\n",
       "    </tr>\n",
       "    <tr>\n",
       "      <th>HR</th>\n",
       "      <td>0.307407</td>\n",
       "      <td>0.671283</td>\n",
       "      <td>-0.066983</td>\n",
       "      <td>-0.090855</td>\n",
       "      <td>0.056292</td>\n",
       "      <td>-0.430915</td>\n",
       "      <td>1.000000</td>\n",
       "      <td>0.425691</td>\n",
       "      <td>0.359923</td>\n",
       "      <td>-0.136567</td>\n",
       "      <td>-0.103903</td>\n",
       "      <td>-0.085922</td>\n",
       "      <td>-0.090917</td>\n",
       "      <td>0.156502</td>\n",
       "      <td>-0.019119</td>\n",
       "      <td>-0.028540</td>\n",
       "      <td>-0.207597</td>\n",
       "    </tr>\n",
       "    <tr>\n",
       "      <th>BB</th>\n",
       "      <td>0.484342</td>\n",
       "      <td>0.402452</td>\n",
       "      <td>-0.136414</td>\n",
       "      <td>-0.118281</td>\n",
       "      <td>0.302700</td>\n",
       "      <td>-0.454949</td>\n",
       "      <td>0.425691</td>\n",
       "      <td>1.000000</td>\n",
       "      <td>0.233652</td>\n",
       "      <td>-0.098347</td>\n",
       "      <td>-0.416445</td>\n",
       "      <td>-0.452663</td>\n",
       "      <td>-0.459832</td>\n",
       "      <td>0.462478</td>\n",
       "      <td>0.426004</td>\n",
       "      <td>0.099445</td>\n",
       "      <td>-0.075685</td>\n",
       "    </tr>\n",
       "    <tr>\n",
       "      <th>SO</th>\n",
       "      <td>0.111850</td>\n",
       "      <td>-0.054726</td>\n",
       "      <td>-0.106022</td>\n",
       "      <td>-0.398830</td>\n",
       "      <td>-0.150752</td>\n",
       "      <td>-0.141196</td>\n",
       "      <td>0.359923</td>\n",
       "      <td>0.233652</td>\n",
       "      <td>1.000000</td>\n",
       "      <td>0.030968</td>\n",
       "      <td>-0.129745</td>\n",
       "      <td>-0.161612</td>\n",
       "      <td>-0.180368</td>\n",
       "      <td>-0.093418</td>\n",
       "      <td>0.237721</td>\n",
       "      <td>0.126297</td>\n",
       "      <td>0.155133</td>\n",
       "    </tr>\n",
       "    <tr>\n",
       "      <th>SB</th>\n",
       "      <td>-0.157234</td>\n",
       "      <td>0.081367</td>\n",
       "      <td>0.372618</td>\n",
       "      <td>0.413444</td>\n",
       "      <td>0.195027</td>\n",
       "      <td>0.457437</td>\n",
       "      <td>-0.136567</td>\n",
       "      <td>-0.098347</td>\n",
       "      <td>0.030968</td>\n",
       "      <td>1.000000</td>\n",
       "      <td>0.132290</td>\n",
       "      <td>0.143068</td>\n",
       "      <td>0.126063</td>\n",
       "      <td>-0.020783</td>\n",
       "      <td>-0.106563</td>\n",
       "      <td>-0.183418</td>\n",
       "      <td>0.079149</td>\n",
       "    </tr>\n",
       "    <tr>\n",
       "      <th>RA</th>\n",
       "      <td>-0.812952</td>\n",
       "      <td>-0.041623</td>\n",
       "      <td>0.316010</td>\n",
       "      <td>0.224324</td>\n",
       "      <td>-0.218160</td>\n",
       "      <td>0.314125</td>\n",
       "      <td>-0.103903</td>\n",
       "      <td>-0.416445</td>\n",
       "      <td>-0.129745</td>\n",
       "      <td>0.132290</td>\n",
       "      <td>1.000000</td>\n",
       "      <td>0.991018</td>\n",
       "      <td>0.986674</td>\n",
       "      <td>-0.016659</td>\n",
       "      <td>-0.636862</td>\n",
       "      <td>-0.616224</td>\n",
       "      <td>0.198996</td>\n",
       "    </tr>\n",
       "    <tr>\n",
       "      <th>ER</th>\n",
       "      <td>-0.809435</td>\n",
       "      <td>-0.041245</td>\n",
       "      <td>0.309686</td>\n",
       "      <td>0.252489</td>\n",
       "      <td>-0.235531</td>\n",
       "      <td>0.340225</td>\n",
       "      <td>-0.085922</td>\n",
       "      <td>-0.452663</td>\n",
       "      <td>-0.161612</td>\n",
       "      <td>0.143068</td>\n",
       "      <td>0.991018</td>\n",
       "      <td>1.000000</td>\n",
       "      <td>0.997248</td>\n",
       "      <td>-0.020221</td>\n",
       "      <td>-0.630192</td>\n",
       "      <td>-0.589663</td>\n",
       "      <td>0.136921</td>\n",
       "    </tr>\n",
       "    <tr>\n",
       "      <th>ERA</th>\n",
       "      <td>-0.819600</td>\n",
       "      <td>-0.049281</td>\n",
       "      <td>0.255551</td>\n",
       "      <td>0.231172</td>\n",
       "      <td>-0.254854</td>\n",
       "      <td>0.330951</td>\n",
       "      <td>-0.090917</td>\n",
       "      <td>-0.459832</td>\n",
       "      <td>-0.180368</td>\n",
       "      <td>0.126063</td>\n",
       "      <td>0.986674</td>\n",
       "      <td>0.997248</td>\n",
       "      <td>1.000000</td>\n",
       "      <td>-0.009856</td>\n",
       "      <td>-0.630833</td>\n",
       "      <td>-0.607005</td>\n",
       "      <td>0.113137</td>\n",
       "    </tr>\n",
       "    <tr>\n",
       "      <th>CG</th>\n",
       "      <td>0.080533</td>\n",
       "      <td>0.232042</td>\n",
       "      <td>-0.080876</td>\n",
       "      <td>0.147955</td>\n",
       "      <td>0.306675</td>\n",
       "      <td>-0.065898</td>\n",
       "      <td>0.156502</td>\n",
       "      <td>0.462478</td>\n",
       "      <td>-0.093418</td>\n",
       "      <td>-0.020783</td>\n",
       "      <td>-0.016659</td>\n",
       "      <td>-0.020221</td>\n",
       "      <td>-0.009856</td>\n",
       "      <td>1.000000</td>\n",
       "      <td>0.241676</td>\n",
       "      <td>-0.367766</td>\n",
       "      <td>-0.140047</td>\n",
       "    </tr>\n",
       "    <tr>\n",
       "      <th>SHO</th>\n",
       "      <td>0.471805</td>\n",
       "      <td>-0.103274</td>\n",
       "      <td>-0.197321</td>\n",
       "      <td>-0.145559</td>\n",
       "      <td>0.057998</td>\n",
       "      <td>-0.041396</td>\n",
       "      <td>-0.019119</td>\n",
       "      <td>0.426004</td>\n",
       "      <td>0.237721</td>\n",
       "      <td>-0.106563</td>\n",
       "      <td>-0.636862</td>\n",
       "      <td>-0.630192</td>\n",
       "      <td>-0.630833</td>\n",
       "      <td>0.241676</td>\n",
       "      <td>1.000000</td>\n",
       "      <td>0.221639</td>\n",
       "      <td>-0.115716</td>\n",
       "    </tr>\n",
       "    <tr>\n",
       "      <th>SV</th>\n",
       "      <td>0.666530</td>\n",
       "      <td>-0.096380</td>\n",
       "      <td>-0.106367</td>\n",
       "      <td>-0.130371</td>\n",
       "      <td>0.171576</td>\n",
       "      <td>-0.142370</td>\n",
       "      <td>-0.028540</td>\n",
       "      <td>0.099445</td>\n",
       "      <td>0.126297</td>\n",
       "      <td>-0.183418</td>\n",
       "      <td>-0.616224</td>\n",
       "      <td>-0.589663</td>\n",
       "      <td>-0.607005</td>\n",
       "      <td>-0.367766</td>\n",
       "      <td>0.221639</td>\n",
       "      <td>1.000000</td>\n",
       "      <td>-0.025636</td>\n",
       "    </tr>\n",
       "    <tr>\n",
       "      <th>E</th>\n",
       "      <td>-0.089485</td>\n",
       "      <td>-0.023262</td>\n",
       "      <td>0.316743</td>\n",
       "      <td>-0.033173</td>\n",
       "      <td>0.105754</td>\n",
       "      <td>0.126678</td>\n",
       "      <td>-0.207597</td>\n",
       "      <td>-0.075685</td>\n",
       "      <td>0.155133</td>\n",
       "      <td>0.079149</td>\n",
       "      <td>0.198996</td>\n",
       "      <td>0.136921</td>\n",
       "      <td>0.113137</td>\n",
       "      <td>-0.140047</td>\n",
       "      <td>-0.115716</td>\n",
       "      <td>-0.025636</td>\n",
       "      <td>1.000000</td>\n",
       "    </tr>\n",
       "  </tbody>\n",
       "</table>\n",
       "</div>"
      ],
      "text/plain": [
       "            W         R        AB         H        2B        3B        HR  \\\n",
       "W    1.000000  0.430751 -0.087947  0.037612  0.427797 -0.251118  0.307407   \n",
       "R    0.430751  1.000000  0.319464  0.482856  0.560084 -0.070072  0.671283   \n",
       "AB  -0.087947  0.319464  1.000000  0.739122  0.453370  0.435422 -0.066983   \n",
       "H    0.037612  0.482856  0.739122  1.000000  0.566847  0.478694 -0.090855   \n",
       "2B   0.427797  0.560084  0.453370  0.566847  1.000000  0.220490  0.056292   \n",
       "3B  -0.251118 -0.070072  0.435422  0.478694  0.220490  1.000000 -0.430915   \n",
       "HR   0.307407  0.671283 -0.066983 -0.090855  0.056292 -0.430915  1.000000   \n",
       "BB   0.484342  0.402452 -0.136414 -0.118281  0.302700 -0.454949  0.425691   \n",
       "SO   0.111850 -0.054726 -0.106022 -0.398830 -0.150752 -0.141196  0.359923   \n",
       "SB  -0.157234  0.081367  0.372618  0.413444  0.195027  0.457437 -0.136567   \n",
       "RA  -0.812952 -0.041623  0.316010  0.224324 -0.218160  0.314125 -0.103903   \n",
       "ER  -0.809435 -0.041245  0.309686  0.252489 -0.235531  0.340225 -0.085922   \n",
       "ERA -0.819600 -0.049281  0.255551  0.231172 -0.254854  0.330951 -0.090917   \n",
       "CG   0.080533  0.232042 -0.080876  0.147955  0.306675 -0.065898  0.156502   \n",
       "SHO  0.471805 -0.103274 -0.197321 -0.145559  0.057998 -0.041396 -0.019119   \n",
       "SV   0.666530 -0.096380 -0.106367 -0.130371  0.171576 -0.142370 -0.028540   \n",
       "E   -0.089485 -0.023262  0.316743 -0.033173  0.105754  0.126678 -0.207597   \n",
       "\n",
       "           BB        SO        SB        RA        ER       ERA        CG  \\\n",
       "W    0.484342  0.111850 -0.157234 -0.812952 -0.809435 -0.819600  0.080533   \n",
       "R    0.402452 -0.054726  0.081367 -0.041623 -0.041245 -0.049281  0.232042   \n",
       "AB  -0.136414 -0.106022  0.372618  0.316010  0.309686  0.255551 -0.080876   \n",
       "H   -0.118281 -0.398830  0.413444  0.224324  0.252489  0.231172  0.147955   \n",
       "2B   0.302700 -0.150752  0.195027 -0.218160 -0.235531 -0.254854  0.306675   \n",
       "3B  -0.454949 -0.141196  0.457437  0.314125  0.340225  0.330951 -0.065898   \n",
       "HR   0.425691  0.359923 -0.136567 -0.103903 -0.085922 -0.090917  0.156502   \n",
       "BB   1.000000  0.233652 -0.098347 -0.416445 -0.452663 -0.459832  0.462478   \n",
       "SO   0.233652  1.000000  0.030968 -0.129745 -0.161612 -0.180368 -0.093418   \n",
       "SB  -0.098347  0.030968  1.000000  0.132290  0.143068  0.126063 -0.020783   \n",
       "RA  -0.416445 -0.129745  0.132290  1.000000  0.991018  0.986674 -0.016659   \n",
       "ER  -0.452663 -0.161612  0.143068  0.991018  1.000000  0.997248 -0.020221   \n",
       "ERA -0.459832 -0.180368  0.126063  0.986674  0.997248  1.000000 -0.009856   \n",
       "CG   0.462478 -0.093418 -0.020783 -0.016659 -0.020221 -0.009856  1.000000   \n",
       "SHO  0.426004  0.237721 -0.106563 -0.636862 -0.630192 -0.630833  0.241676   \n",
       "SV   0.099445  0.126297 -0.183418 -0.616224 -0.589663 -0.607005 -0.367766   \n",
       "E   -0.075685  0.155133  0.079149  0.198996  0.136921  0.113137 -0.140047   \n",
       "\n",
       "          SHO        SV         E  \n",
       "W    0.471805  0.666530 -0.089485  \n",
       "R   -0.103274 -0.096380 -0.023262  \n",
       "AB  -0.197321 -0.106367  0.316743  \n",
       "H   -0.145559 -0.130371 -0.033173  \n",
       "2B   0.057998  0.171576  0.105754  \n",
       "3B  -0.041396 -0.142370  0.126678  \n",
       "HR  -0.019119 -0.028540 -0.207597  \n",
       "BB   0.426004  0.099445 -0.075685  \n",
       "SO   0.237721  0.126297  0.155133  \n",
       "SB  -0.106563 -0.183418  0.079149  \n",
       "RA  -0.636862 -0.616224  0.198996  \n",
       "ER  -0.630192 -0.589663  0.136921  \n",
       "ERA -0.630833 -0.607005  0.113137  \n",
       "CG   0.241676 -0.367766 -0.140047  \n",
       "SHO  1.000000  0.221639 -0.115716  \n",
       "SV   0.221639  1.000000 -0.025636  \n",
       "E   -0.115716 -0.025636  1.000000  "
      ]
     },
     "execution_count": 225,
     "metadata": {},
     "output_type": "execute_result"
    }
   ],
   "source": [
    "# Checking the correlation:\n",
    "df.corr()"
   ]
  },
  {
   "cell_type": "code",
   "execution_count": 226,
   "id": "9210bba7",
   "metadata": {},
   "outputs": [
    {
     "data": {
      "text/plain": [
       "ERA   -0.819600\n",
       "RA    -0.812952\n",
       "ER    -0.809435\n",
       "3B    -0.251118\n",
       "SB    -0.157234\n",
       "E     -0.089485\n",
       "AB    -0.087947\n",
       "H      0.037612\n",
       "CG     0.080533\n",
       "SO     0.111850\n",
       "HR     0.307407\n",
       "2B     0.427797\n",
       "R      0.430751\n",
       "SHO    0.471805\n",
       "BB     0.484342\n",
       "SV     0.666530\n",
       "W      1.000000\n",
       "Name: W, dtype: float64"
      ]
     },
     "execution_count": 226,
     "metadata": {},
     "output_type": "execute_result"
    }
   ],
   "source": [
    "df.corr()['W'].sort_values()"
   ]
  },
  {
   "cell_type": "code",
   "execution_count": 227,
   "id": "5b6ce83a",
   "metadata": {},
   "outputs": [],
   "source": [
    "# correlation is the most widely used correlation statistic to measure the degree of the relationship between linearly related variables.\n"
   ]
  },
  {
   "cell_type": "code",
   "execution_count": 228,
   "id": "a1ad136b",
   "metadata": {},
   "outputs": [
    {
     "data": {
      "image/png": "[encoded data removed]",
      "text/plain": [
       "<Figure size 1080x504 with 2 Axes>"
      ]
     },
     "metadata": {
      "needs_background": "light"
     },
     "output_type": "display_data"
    }
   ],
   "source": [
    "df_corr = df.corr().abs()\n",
    "plt.figure(figsize=(15,7))\n",
    "sns.heatmap(df_corr,annot = True, annot_kws={'size':10})\n",
    "plt.show()"
   ]
  },
  {
   "cell_type": "markdown",
   "id": "efe6ee40",
   "metadata": {},
   "source": [
    "# Preprocessing"
   ]
  },
  {
   "cell_type": "code",
   "execution_count": 229,
   "id": "068c1f04",
   "metadata": {},
   "outputs": [],
   "source": [
    "# Spiliting the indipendent variable and target varibale"
   ]
  },
  {
   "cell_type": "code",
   "execution_count": 230,
   "id": "cd858bcd",
   "metadata": {},
   "outputs": [],
   "source": [
    "x = df.drop(\"W\", axis = 1)\n",
    "y = df[\"W\"]"
   ]
  },
  {
   "cell_type": "code",
   "execution_count": 231,
   "id": "1437a720",
   "metadata": {},
   "outputs": [
    {
     "data": {
      "text/html": [
       "<div>\n",
       "<style scoped>\n",
       "    .dataframe tbody tr th:only-of-type {\n",
       "        vertical-align: middle;\n",
       "    }\n",
       "\n",
       "    .dataframe tbody tr th {\n",
       "        vertical-align: top;\n",
       "    }\n",
       "\n",
       "    .dataframe thead th {\n",
       "        text-align: right;\n",
       "    }\n",
       "</style>\n",
       "<table border=\"1\" class=\"dataframe\">\n",
       "  <thead>\n",
       "    <tr style=\"text-align: right;\">\n",
       "      <th></th>\n",
       "      <th>R</th>\n",
       "      <th>AB</th>\n",
       "      <th>H</th>\n",
       "      <th>2B</th>\n",
       "      <th>3B</th>\n",
       "      <th>HR</th>\n",
       "      <th>BB</th>\n",
       "      <th>SO</th>\n",
       "      <th>SB</th>\n",
       "      <th>RA</th>\n",
       "      <th>ER</th>\n",
       "      <th>ERA</th>\n",
       "      <th>CG</th>\n",
       "      <th>SHO</th>\n",
       "      <th>SV</th>\n",
       "      <th>E</th>\n",
       "    </tr>\n",
       "  </thead>\n",
       "  <tbody>\n",
       "    <tr>\n",
       "      <th>0</th>\n",
       "      <td>724</td>\n",
       "      <td>5575</td>\n",
       "      <td>1497</td>\n",
       "      <td>300</td>\n",
       "      <td>42</td>\n",
       "      <td>139</td>\n",
       "      <td>383</td>\n",
       "      <td>973</td>\n",
       "      <td>104</td>\n",
       "      <td>641</td>\n",
       "      <td>601</td>\n",
       "      <td>3.73</td>\n",
       "      <td>2</td>\n",
       "      <td>8</td>\n",
       "      <td>56</td>\n",
       "      <td>88</td>\n",
       "    </tr>\n",
       "    <tr>\n",
       "      <th>1</th>\n",
       "      <td>696</td>\n",
       "      <td>5467</td>\n",
       "      <td>1349</td>\n",
       "      <td>277</td>\n",
       "      <td>44</td>\n",
       "      <td>156</td>\n",
       "      <td>439</td>\n",
       "      <td>1264</td>\n",
       "      <td>70</td>\n",
       "      <td>700</td>\n",
       "      <td>653</td>\n",
       "      <td>4.07</td>\n",
       "      <td>2</td>\n",
       "      <td>12</td>\n",
       "      <td>45</td>\n",
       "      <td>86</td>\n",
       "    </tr>\n",
       "    <tr>\n",
       "      <th>2</th>\n",
       "      <td>669</td>\n",
       "      <td>5439</td>\n",
       "      <td>1395</td>\n",
       "      <td>303</td>\n",
       "      <td>29</td>\n",
       "      <td>141</td>\n",
       "      <td>533</td>\n",
       "      <td>1157</td>\n",
       "      <td>86</td>\n",
       "      <td>640</td>\n",
       "      <td>584</td>\n",
       "      <td>3.67</td>\n",
       "      <td>11</td>\n",
       "      <td>10</td>\n",
       "      <td>38</td>\n",
       "      <td>79</td>\n",
       "    </tr>\n",
       "    <tr>\n",
       "      <th>3</th>\n",
       "      <td>622</td>\n",
       "      <td>5533</td>\n",
       "      <td>1381</td>\n",
       "      <td>260</td>\n",
       "      <td>27</td>\n",
       "      <td>136</td>\n",
       "      <td>404</td>\n",
       "      <td>1231</td>\n",
       "      <td>68</td>\n",
       "      <td>701</td>\n",
       "      <td>643</td>\n",
       "      <td>3.98</td>\n",
       "      <td>7</td>\n",
       "      <td>9</td>\n",
       "      <td>37</td>\n",
       "      <td>101</td>\n",
       "    </tr>\n",
       "    <tr>\n",
       "      <th>4</th>\n",
       "      <td>689</td>\n",
       "      <td>5605</td>\n",
       "      <td>1515</td>\n",
       "      <td>289</td>\n",
       "      <td>49</td>\n",
       "      <td>151</td>\n",
       "      <td>455</td>\n",
       "      <td>1259</td>\n",
       "      <td>83</td>\n",
       "      <td>803</td>\n",
       "      <td>746</td>\n",
       "      <td>4.64</td>\n",
       "      <td>7</td>\n",
       "      <td>12</td>\n",
       "      <td>35</td>\n",
       "      <td>86</td>\n",
       "    </tr>\n",
       "    <tr>\n",
       "      <th>5</th>\n",
       "      <td>891</td>\n",
       "      <td>5509</td>\n",
       "      <td>1480</td>\n",
       "      <td>308</td>\n",
       "      <td>17</td>\n",
       "      <td>232</td>\n",
       "      <td>570</td>\n",
       "      <td>1151</td>\n",
       "      <td>88</td>\n",
       "      <td>670</td>\n",
       "      <td>609</td>\n",
       "      <td>3.80</td>\n",
       "      <td>7</td>\n",
       "      <td>10</td>\n",
       "      <td>34</td>\n",
       "      <td>88</td>\n",
       "    </tr>\n",
       "    <tr>\n",
       "      <th>6</th>\n",
       "      <td>764</td>\n",
       "      <td>5567</td>\n",
       "      <td>1397</td>\n",
       "      <td>272</td>\n",
       "      <td>19</td>\n",
       "      <td>212</td>\n",
       "      <td>554</td>\n",
       "      <td>1227</td>\n",
       "      <td>63</td>\n",
       "      <td>698</td>\n",
       "      <td>652</td>\n",
       "      <td>4.03</td>\n",
       "      <td>3</td>\n",
       "      <td>4</td>\n",
       "      <td>48</td>\n",
       "      <td>93</td>\n",
       "    </tr>\n",
       "    <tr>\n",
       "      <th>7</th>\n",
       "      <td>713</td>\n",
       "      <td>5485</td>\n",
       "      <td>1370</td>\n",
       "      <td>246</td>\n",
       "      <td>20</td>\n",
       "      <td>217</td>\n",
       "      <td>418</td>\n",
       "      <td>1331</td>\n",
       "      <td>44</td>\n",
       "      <td>693</td>\n",
       "      <td>646</td>\n",
       "      <td>4.05</td>\n",
       "      <td>0</td>\n",
       "      <td>10</td>\n",
       "      <td>43</td>\n",
       "      <td>77</td>\n",
       "    </tr>\n",
       "    <tr>\n",
       "      <th>8</th>\n",
       "      <td>644</td>\n",
       "      <td>5485</td>\n",
       "      <td>1383</td>\n",
       "      <td>278</td>\n",
       "      <td>32</td>\n",
       "      <td>167</td>\n",
       "      <td>436</td>\n",
       "      <td>1310</td>\n",
       "      <td>87</td>\n",
       "      <td>642</td>\n",
       "      <td>604</td>\n",
       "      <td>3.74</td>\n",
       "      <td>1</td>\n",
       "      <td>12</td>\n",
       "      <td>60</td>\n",
       "      <td>95</td>\n",
       "    </tr>\n",
       "    <tr>\n",
       "      <th>9</th>\n",
       "      <td>748</td>\n",
       "      <td>5640</td>\n",
       "      <td>1495</td>\n",
       "      <td>294</td>\n",
       "      <td>33</td>\n",
       "      <td>161</td>\n",
       "      <td>478</td>\n",
       "      <td>1148</td>\n",
       "      <td>71</td>\n",
       "      <td>753</td>\n",
       "      <td>694</td>\n",
       "      <td>4.31</td>\n",
       "      <td>3</td>\n",
       "      <td>10</td>\n",
       "      <td>40</td>\n",
       "      <td>97</td>\n",
       "    </tr>\n",
       "    <tr>\n",
       "      <th>10</th>\n",
       "      <td>751</td>\n",
       "      <td>5511</td>\n",
       "      <td>1419</td>\n",
       "      <td>279</td>\n",
       "      <td>32</td>\n",
       "      <td>172</td>\n",
       "      <td>503</td>\n",
       "      <td>1233</td>\n",
       "      <td>101</td>\n",
       "      <td>733</td>\n",
       "      <td>680</td>\n",
       "      <td>4.24</td>\n",
       "      <td>5</td>\n",
       "      <td>9</td>\n",
       "      <td>45</td>\n",
       "      <td>119</td>\n",
       "    </tr>\n",
       "    <tr>\n",
       "      <th>11</th>\n",
       "      <td>729</td>\n",
       "      <td>5459</td>\n",
       "      <td>1363</td>\n",
       "      <td>278</td>\n",
       "      <td>26</td>\n",
       "      <td>230</td>\n",
       "      <td>486</td>\n",
       "      <td>1392</td>\n",
       "      <td>121</td>\n",
       "      <td>618</td>\n",
       "      <td>572</td>\n",
       "      <td>3.57</td>\n",
       "      <td>5</td>\n",
       "      <td>13</td>\n",
       "      <td>39</td>\n",
       "      <td>85</td>\n",
       "    </tr>\n",
       "    <tr>\n",
       "      <th>12</th>\n",
       "      <td>661</td>\n",
       "      <td>5417</td>\n",
       "      <td>1331</td>\n",
       "      <td>243</td>\n",
       "      <td>21</td>\n",
       "      <td>176</td>\n",
       "      <td>435</td>\n",
       "      <td>1150</td>\n",
       "      <td>52</td>\n",
       "      <td>675</td>\n",
       "      <td>630</td>\n",
       "      <td>3.94</td>\n",
       "      <td>2</td>\n",
       "      <td>12</td>\n",
       "      <td>46</td>\n",
       "      <td>93</td>\n",
       "    </tr>\n",
       "    <tr>\n",
       "      <th>13</th>\n",
       "      <td>656</td>\n",
       "      <td>5544</td>\n",
       "      <td>1379</td>\n",
       "      <td>262</td>\n",
       "      <td>22</td>\n",
       "      <td>198</td>\n",
       "      <td>478</td>\n",
       "      <td>1336</td>\n",
       "      <td>69</td>\n",
       "      <td>726</td>\n",
       "      <td>677</td>\n",
       "      <td>4.16</td>\n",
       "      <td>6</td>\n",
       "      <td>12</td>\n",
       "      <td>45</td>\n",
       "      <td>94</td>\n",
       "    </tr>\n",
       "    <tr>\n",
       "      <th>14</th>\n",
       "      <td>694</td>\n",
       "      <td>5600</td>\n",
       "      <td>1405</td>\n",
       "      <td>277</td>\n",
       "      <td>46</td>\n",
       "      <td>146</td>\n",
       "      <td>475</td>\n",
       "      <td>1119</td>\n",
       "      <td>78</td>\n",
       "      <td>729</td>\n",
       "      <td>664</td>\n",
       "      <td>4.14</td>\n",
       "      <td>5</td>\n",
       "      <td>15</td>\n",
       "      <td>28</td>\n",
       "      <td>126</td>\n",
       "    </tr>\n",
       "    <tr>\n",
       "      <th>15</th>\n",
       "      <td>647</td>\n",
       "      <td>5484</td>\n",
       "      <td>1386</td>\n",
       "      <td>288</td>\n",
       "      <td>39</td>\n",
       "      <td>137</td>\n",
       "      <td>506</td>\n",
       "      <td>1267</td>\n",
       "      <td>69</td>\n",
       "      <td>525</td>\n",
       "      <td>478</td>\n",
       "      <td>2.94</td>\n",
       "      <td>1</td>\n",
       "      <td>15</td>\n",
       "      <td>62</td>\n",
       "      <td>96</td>\n",
       "    </tr>\n",
       "    <tr>\n",
       "      <th>16</th>\n",
       "      <td>697</td>\n",
       "      <td>5631</td>\n",
       "      <td>1462</td>\n",
       "      <td>292</td>\n",
       "      <td>27</td>\n",
       "      <td>140</td>\n",
       "      <td>461</td>\n",
       "      <td>1322</td>\n",
       "      <td>98</td>\n",
       "      <td>596</td>\n",
       "      <td>532</td>\n",
       "      <td>3.21</td>\n",
       "      <td>0</td>\n",
       "      <td>13</td>\n",
       "      <td>54</td>\n",
       "      <td>122</td>\n",
       "    </tr>\n",
       "    <tr>\n",
       "      <th>17</th>\n",
       "      <td>689</td>\n",
       "      <td>5491</td>\n",
       "      <td>1341</td>\n",
       "      <td>272</td>\n",
       "      <td>30</td>\n",
       "      <td>171</td>\n",
       "      <td>567</td>\n",
       "      <td>1518</td>\n",
       "      <td>95</td>\n",
       "      <td>608</td>\n",
       "      <td>546</td>\n",
       "      <td>3.36</td>\n",
       "      <td>6</td>\n",
       "      <td>21</td>\n",
       "      <td>48</td>\n",
       "      <td>111</td>\n",
       "    </tr>\n",
       "    <tr>\n",
       "      <th>18</th>\n",
       "      <td>655</td>\n",
       "      <td>5480</td>\n",
       "      <td>1378</td>\n",
       "      <td>274</td>\n",
       "      <td>34</td>\n",
       "      <td>145</td>\n",
       "      <td>412</td>\n",
       "      <td>1299</td>\n",
       "      <td>84</td>\n",
       "      <td>737</td>\n",
       "      <td>682</td>\n",
       "      <td>4.28</td>\n",
       "      <td>1</td>\n",
       "      <td>7</td>\n",
       "      <td>40</td>\n",
       "      <td>116</td>\n",
       "    </tr>\n",
       "    <tr>\n",
       "      <th>19</th>\n",
       "      <td>640</td>\n",
       "      <td>5571</td>\n",
       "      <td>1382</td>\n",
       "      <td>257</td>\n",
       "      <td>27</td>\n",
       "      <td>167</td>\n",
       "      <td>496</td>\n",
       "      <td>1255</td>\n",
       "      <td>134</td>\n",
       "      <td>754</td>\n",
       "      <td>700</td>\n",
       "      <td>4.33</td>\n",
       "      <td>2</td>\n",
       "      <td>8</td>\n",
       "      <td>35</td>\n",
       "      <td>90</td>\n",
       "    </tr>\n",
       "    <tr>\n",
       "      <th>20</th>\n",
       "      <td>683</td>\n",
       "      <td>5527</td>\n",
       "      <td>1351</td>\n",
       "      <td>295</td>\n",
       "      <td>17</td>\n",
       "      <td>177</td>\n",
       "      <td>488</td>\n",
       "      <td>1290</td>\n",
       "      <td>51</td>\n",
       "      <td>613</td>\n",
       "      <td>557</td>\n",
       "      <td>3.43</td>\n",
       "      <td>1</td>\n",
       "      <td>14</td>\n",
       "      <td>50</td>\n",
       "      <td>88</td>\n",
       "    </tr>\n",
       "    <tr>\n",
       "      <th>21</th>\n",
       "      <td>703</td>\n",
       "      <td>5428</td>\n",
       "      <td>1363</td>\n",
       "      <td>265</td>\n",
       "      <td>13</td>\n",
       "      <td>177</td>\n",
       "      <td>539</td>\n",
       "      <td>1344</td>\n",
       "      <td>57</td>\n",
       "      <td>635</td>\n",
       "      <td>577</td>\n",
       "      <td>3.62</td>\n",
       "      <td>4</td>\n",
       "      <td>13</td>\n",
       "      <td>41</td>\n",
       "      <td>90</td>\n",
       "    </tr>\n",
       "    <tr>\n",
       "      <th>22</th>\n",
       "      <td>613</td>\n",
       "      <td>5463</td>\n",
       "      <td>1420</td>\n",
       "      <td>236</td>\n",
       "      <td>40</td>\n",
       "      <td>120</td>\n",
       "      <td>375</td>\n",
       "      <td>1150</td>\n",
       "      <td>112</td>\n",
       "      <td>678</td>\n",
       "      <td>638</td>\n",
       "      <td>4.02</td>\n",
       "      <td>0</td>\n",
       "      <td>12</td>\n",
       "      <td>35</td>\n",
       "      <td>77</td>\n",
       "    </tr>\n",
       "    <tr>\n",
       "      <th>23</th>\n",
       "      <td>573</td>\n",
       "      <td>5420</td>\n",
       "      <td>1361</td>\n",
       "      <td>251</td>\n",
       "      <td>18</td>\n",
       "      <td>100</td>\n",
       "      <td>471</td>\n",
       "      <td>1107</td>\n",
       "      <td>69</td>\n",
       "      <td>760</td>\n",
       "      <td>698</td>\n",
       "      <td>4.41</td>\n",
       "      <td>3</td>\n",
       "      <td>10</td>\n",
       "      <td>44</td>\n",
       "      <td>90</td>\n",
       "    </tr>\n",
       "    <tr>\n",
       "      <th>24</th>\n",
       "      <td>626</td>\n",
       "      <td>5529</td>\n",
       "      <td>1374</td>\n",
       "      <td>272</td>\n",
       "      <td>37</td>\n",
       "      <td>130</td>\n",
       "      <td>387</td>\n",
       "      <td>1274</td>\n",
       "      <td>88</td>\n",
       "      <td>809</td>\n",
       "      <td>749</td>\n",
       "      <td>4.69</td>\n",
       "      <td>1</td>\n",
       "      <td>7</td>\n",
       "      <td>35</td>\n",
       "      <td>117</td>\n",
       "    </tr>\n",
       "    <tr>\n",
       "      <th>25</th>\n",
       "      <td>667</td>\n",
       "      <td>5385</td>\n",
       "      <td>1346</td>\n",
       "      <td>263</td>\n",
       "      <td>26</td>\n",
       "      <td>187</td>\n",
       "      <td>563</td>\n",
       "      <td>1258</td>\n",
       "      <td>59</td>\n",
       "      <td>595</td>\n",
       "      <td>553</td>\n",
       "      <td>3.44</td>\n",
       "      <td>6</td>\n",
       "      <td>21</td>\n",
       "      <td>47</td>\n",
       "      <td>75</td>\n",
       "    </tr>\n",
       "    <tr>\n",
       "      <th>26</th>\n",
       "      <td>696</td>\n",
       "      <td>5565</td>\n",
       "      <td>1486</td>\n",
       "      <td>288</td>\n",
       "      <td>39</td>\n",
       "      <td>136</td>\n",
       "      <td>457</td>\n",
       "      <td>1159</td>\n",
       "      <td>93</td>\n",
       "      <td>627</td>\n",
       "      <td>597</td>\n",
       "      <td>3.72</td>\n",
       "      <td>7</td>\n",
       "      <td>18</td>\n",
       "      <td>41</td>\n",
       "      <td>78</td>\n",
       "    </tr>\n",
       "    <tr>\n",
       "      <th>27</th>\n",
       "      <td>720</td>\n",
       "      <td>5649</td>\n",
       "      <td>1494</td>\n",
       "      <td>289</td>\n",
       "      <td>48</td>\n",
       "      <td>154</td>\n",
       "      <td>490</td>\n",
       "      <td>1312</td>\n",
       "      <td>132</td>\n",
       "      <td>713</td>\n",
       "      <td>659</td>\n",
       "      <td>4.04</td>\n",
       "      <td>1</td>\n",
       "      <td>12</td>\n",
       "      <td>44</td>\n",
       "      <td>86</td>\n",
       "    </tr>\n",
       "    <tr>\n",
       "      <th>28</th>\n",
       "      <td>650</td>\n",
       "      <td>5457</td>\n",
       "      <td>1324</td>\n",
       "      <td>260</td>\n",
       "      <td>36</td>\n",
       "      <td>148</td>\n",
       "      <td>426</td>\n",
       "      <td>1327</td>\n",
       "      <td>82</td>\n",
       "      <td>731</td>\n",
       "      <td>655</td>\n",
       "      <td>4.09</td>\n",
       "      <td>1</td>\n",
       "      <td>6</td>\n",
       "      <td>41</td>\n",
       "      <td>92</td>\n",
       "    </tr>\n",
       "    <tr>\n",
       "      <th>29</th>\n",
       "      <td>737</td>\n",
       "      <td>5572</td>\n",
       "      <td>1479</td>\n",
       "      <td>274</td>\n",
       "      <td>49</td>\n",
       "      <td>186</td>\n",
       "      <td>388</td>\n",
       "      <td>1283</td>\n",
       "      <td>97</td>\n",
       "      <td>844</td>\n",
       "      <td>799</td>\n",
       "      <td>5.04</td>\n",
       "      <td>4</td>\n",
       "      <td>4</td>\n",
       "      <td>36</td>\n",
       "      <td>95</td>\n",
       "    </tr>\n",
       "  </tbody>\n",
       "</table>\n",
       "</div>"
      ],
      "text/plain": [
       "      R    AB     H   2B  3B   HR   BB    SO   SB   RA   ER   ERA  CG  SHO  \\\n",
       "0   724  5575  1497  300  42  139  383   973  104  641  601  3.73   2    8   \n",
       "1   696  5467  1349  277  44  156  439  1264   70  700  653  4.07   2   12   \n",
       "2   669  5439  1395  303  29  141  533  1157   86  640  584  3.67  11   10   \n",
       "3   622  5533  1381  260  27  136  404  1231   68  701  643  3.98   7    9   \n",
       "4   689  5605  1515  289  49  151  455  1259   83  803  746  4.64   7   12   \n",
       "5   891  5509  1480  308  17  232  570  1151   88  670  609  3.80   7   10   \n",
       "6   764  5567  1397  272  19  212  554  1227   63  698  652  4.03   3    4   \n",
       "7   713  5485  1370  246  20  217  418  1331   44  693  646  4.05   0   10   \n",
       "8   644  5485  1383  278  32  167  436  1310   87  642  604  3.74   1   12   \n",
       "9   748  5640  1495  294  33  161  478  1148   71  753  694  4.31   3   10   \n",
       "10  751  5511  1419  279  32  172  503  1233  101  733  680  4.24   5    9   \n",
       "11  729  5459  1363  278  26  230  486  1392  121  618  572  3.57   5   13   \n",
       "12  661  5417  1331  243  21  176  435  1150   52  675  630  3.94   2   12   \n",
       "13  656  5544  1379  262  22  198  478  1336   69  726  677  4.16   6   12   \n",
       "14  694  5600  1405  277  46  146  475  1119   78  729  664  4.14   5   15   \n",
       "15  647  5484  1386  288  39  137  506  1267   69  525  478  2.94   1   15   \n",
       "16  697  5631  1462  292  27  140  461  1322   98  596  532  3.21   0   13   \n",
       "17  689  5491  1341  272  30  171  567  1518   95  608  546  3.36   6   21   \n",
       "18  655  5480  1378  274  34  145  412  1299   84  737  682  4.28   1    7   \n",
       "19  640  5571  1382  257  27  167  496  1255  134  754  700  4.33   2    8   \n",
       "20  683  5527  1351  295  17  177  488  1290   51  613  557  3.43   1   14   \n",
       "21  703  5428  1363  265  13  177  539  1344   57  635  577  3.62   4   13   \n",
       "22  613  5463  1420  236  40  120  375  1150  112  678  638  4.02   0   12   \n",
       "23  573  5420  1361  251  18  100  471  1107   69  760  698  4.41   3   10   \n",
       "24  626  5529  1374  272  37  130  387  1274   88  809  749  4.69   1    7   \n",
       "25  667  5385  1346  263  26  187  563  1258   59  595  553  3.44   6   21   \n",
       "26  696  5565  1486  288  39  136  457  1159   93  627  597  3.72   7   18   \n",
       "27  720  5649  1494  289  48  154  490  1312  132  713  659  4.04   1   12   \n",
       "28  650  5457  1324  260  36  148  426  1327   82  731  655  4.09   1    6   \n",
       "29  737  5572  1479  274  49  186  388  1283   97  844  799  5.04   4    4   \n",
       "\n",
       "    SV    E  \n",
       "0   56   88  \n",
       "1   45   86  \n",
       "2   38   79  \n",
       "3   37  101  \n",
       "4   35   86  \n",
       "5   34   88  \n",
       "6   48   93  \n",
       "7   43   77  \n",
       "8   60   95  \n",
       "9   40   97  \n",
       "10  45  119  \n",
       "11  39   85  \n",
       "12  46   93  \n",
       "13  45   94  \n",
       "14  28  126  \n",
       "15  62   96  \n",
       "16  54  122  \n",
       "17  48  111  \n",
       "18  40  116  \n",
       "19  35   90  \n",
       "20  50   88  \n",
       "21  41   90  \n",
       "22  35   77  \n",
       "23  44   90  \n",
       "24  35  117  \n",
       "25  47   75  \n",
       "26  41   78  \n",
       "27  44   86  \n",
       "28  41   92  \n",
       "29  36   95  "
      ]
     },
     "execution_count": 231,
     "metadata": {},
     "output_type": "execute_result"
    }
   ],
   "source": [
    "x"
   ]
  },
  {
   "cell_type": "code",
   "execution_count": 232,
   "id": "375e148e",
   "metadata": {},
   "outputs": [
    {
     "data": {
      "text/plain": [
       "0      95\n",
       "1      83\n",
       "2      81\n",
       "3      76\n",
       "4      74\n",
       "5      93\n",
       "6      87\n",
       "7      81\n",
       "8      80\n",
       "9      78\n",
       "10     88\n",
       "11     86\n",
       "12     85\n",
       "13     76\n",
       "14     68\n",
       "15    100\n",
       "16     98\n",
       "17     97\n",
       "18     68\n",
       "19     64\n",
       "20     90\n",
       "21     83\n",
       "22     71\n",
       "23     67\n",
       "24     63\n",
       "25     92\n",
       "26     84\n",
       "27     79\n",
       "28     74\n",
       "29     68\n",
       "Name: W, dtype: int64"
      ]
     },
     "execution_count": 232,
     "metadata": {},
     "output_type": "execute_result"
    }
   ],
   "source": [
    "y"
   ]
  },
  {
   "cell_type": "markdown",
   "id": "9fa327f4",
   "metadata": {},
   "source": [
    " Analysis of variance (ANOVA) is an analysis tool used in statistics that splits an observed aggregate variability found inside a data set into two parts: systematic factors and random factors."
   ]
  },
  {
   "cell_type": "code",
   "execution_count": 233,
   "id": "1b194043",
   "metadata": {},
   "outputs": [
    {
     "data": {
      "text/plain": [
       "SelectKBest(k=15)"
      ]
     },
     "execution_count": 233,
     "metadata": {},
     "output_type": "execute_result"
    }
   ],
   "source": [
    "from sklearn.feature_selection import SelectKBest\n",
    "from sklearn.feature_selection import f_classif\n",
    "s = SelectKBest(f_classif, k=15)\n",
    "s.fit(x,y)"
   ]
  },
  {
   "cell_type": "code",
   "execution_count": 234,
   "id": "6588ede5",
   "metadata": {},
   "outputs": [],
   "source": [
    "anova=pd.DataFrame([s.scores_,s.pvalues_],columns=x.columns).T.sort_values(by=0)"
   ]
  },
  {
   "cell_type": "code",
   "execution_count": 235,
   "id": "91104dbb",
   "metadata": {},
   "outputs": [
    {
     "data": {
      "text/html": [
       "<div>\n",
       "<style scoped>\n",
       "    .dataframe tbody tr th:only-of-type {\n",
       "        vertical-align: middle;\n",
       "    }\n",
       "\n",
       "    .dataframe tbody tr th {\n",
       "        vertical-align: top;\n",
       "    }\n",
       "\n",
       "    .dataframe thead th {\n",
       "        text-align: right;\n",
       "    }\n",
       "</style>\n",
       "<table border=\"1\" class=\"dataframe\">\n",
       "  <thead>\n",
       "    <tr style=\"text-align: right;\">\n",
       "      <th></th>\n",
       "      <th>0</th>\n",
       "      <th>1</th>\n",
       "    </tr>\n",
       "  </thead>\n",
       "  <tbody>\n",
       "    <tr>\n",
       "      <th>CG</th>\n",
       "      <td>0.383449</td>\n",
       "      <td>0.955385</td>\n",
       "    </tr>\n",
       "    <tr>\n",
       "      <th>H</th>\n",
       "      <td>0.763151</td>\n",
       "      <td>0.707804</td>\n",
       "    </tr>\n",
       "    <tr>\n",
       "      <th>3B</th>\n",
       "      <td>0.850035</td>\n",
       "      <td>0.647067</td>\n",
       "    </tr>\n",
       "    <tr>\n",
       "      <th>2B</th>\n",
       "      <td>0.904863</td>\n",
       "      <td>0.610500</td>\n",
       "    </tr>\n",
       "    <tr>\n",
       "      <th>HR</th>\n",
       "      <td>0.989166</td>\n",
       "      <td>0.557499</td>\n",
       "    </tr>\n",
       "    <tr>\n",
       "      <th>BB</th>\n",
       "      <td>1.048384</td>\n",
       "      <td>0.522774</td>\n",
       "    </tr>\n",
       "    <tr>\n",
       "      <th>SHO</th>\n",
       "      <td>1.204067</td>\n",
       "      <td>0.441457</td>\n",
       "    </tr>\n",
       "    <tr>\n",
       "      <th>SO</th>\n",
       "      <td>1.509218</td>\n",
       "      <td>0.319694</td>\n",
       "    </tr>\n",
       "    <tr>\n",
       "      <th>AB</th>\n",
       "      <td>1.552727</td>\n",
       "      <td>0.305758</td>\n",
       "    </tr>\n",
       "    <tr>\n",
       "      <th>ER</th>\n",
       "      <td>1.574876</td>\n",
       "      <td>0.298946</td>\n",
       "    </tr>\n",
       "    <tr>\n",
       "      <th>ERA</th>\n",
       "      <td>1.665038</td>\n",
       "      <td>0.273054</td>\n",
       "    </tr>\n",
       "    <tr>\n",
       "      <th>E</th>\n",
       "      <td>2.403946</td>\n",
       "      <td>0.139254</td>\n",
       "    </tr>\n",
       "    <tr>\n",
       "      <th>RA</th>\n",
       "      <td>2.420967</td>\n",
       "      <td>0.137301</td>\n",
       "    </tr>\n",
       "    <tr>\n",
       "      <th>SV</th>\n",
       "      <td>2.966365</td>\n",
       "      <td>0.089871</td>\n",
       "    </tr>\n",
       "    <tr>\n",
       "      <th>SB</th>\n",
       "      <td>3.145176</td>\n",
       "      <td>0.079086</td>\n",
       "    </tr>\n",
       "    <tr>\n",
       "      <th>R</th>\n",
       "      <td>4.325471</td>\n",
       "      <td>0.037914</td>\n",
       "    </tr>\n",
       "  </tbody>\n",
       "</table>\n",
       "</div>"
      ],
      "text/plain": [
       "            0         1\n",
       "CG   0.383449  0.955385\n",
       "H    0.763151  0.707804\n",
       "3B   0.850035  0.647067\n",
       "2B   0.904863  0.610500\n",
       "HR   0.989166  0.557499\n",
       "BB   1.048384  0.522774\n",
       "SHO  1.204067  0.441457\n",
       "SO   1.509218  0.319694\n",
       "AB   1.552727  0.305758\n",
       "ER   1.574876  0.298946\n",
       "ERA  1.665038  0.273054\n",
       "E    2.403946  0.139254\n",
       "RA   2.420967  0.137301\n",
       "SV   2.966365  0.089871\n",
       "SB   3.145176  0.079086\n",
       "R    4.325471  0.037914"
      ]
     },
     "execution_count": 235,
     "metadata": {},
     "output_type": "execute_result"
    }
   ],
   "source": [
    "anova"
   ]
  },
  {
   "cell_type": "code",
   "execution_count": 236,
   "id": "f254b25b",
   "metadata": {},
   "outputs": [
    {
     "data": {
      "text/plain": [
       "2B    -0.230650\n",
       "SO    -0.156065\n",
       "RA     0.045734\n",
       "ERA    0.053331\n",
       "ER     0.058710\n",
       "3B     0.129502\n",
       "BB     0.158498\n",
       "AB     0.183437\n",
       "SB     0.479893\n",
       "HR     0.516441\n",
       "SHO    0.565790\n",
       "SV     0.657524\n",
       "H      0.670254\n",
       "CG     0.736845\n",
       "E      0.890132\n",
       "R      1.200786\n",
       "dtype: float64"
      ]
     },
     "execution_count": 236,
     "metadata": {},
     "output_type": "execute_result"
    }
   ],
   "source": [
    "x.skew().sort_values()"
   ]
  },
  {
   "cell_type": "markdown",
   "id": "35f6521b",
   "metadata": {},
   "source": [
    "PowerTransformer supports the Box-Cox transform and the Yeo-Johnson transform. The optimal parameter for stabilizing variance and minimizing skewness is estimated through maximum likelihood."
   ]
  },
  {
   "cell_type": "code",
   "execution_count": 237,
   "id": "3af8a748",
   "metadata": {},
   "outputs": [
    {
     "data": {
      "image/png": "[encoded data removed]",
      "text/plain": [
       "<Figure size 720x720 with 9 Axes>"
      ]
     },
     "metadata": {},
     "output_type": "display_data"
    }
   ],
   "source": [
    "plt.figure(figsize = (10,10), facecolor = 'red')\n",
    "i = 1\n",
    "for columns in x:\n",
    "    if i<=9:\n",
    "        ax = plt.subplot(3,3,i)\n",
    "        sns.boxplot(data = x[columns])\n",
    "        plt.xlabel(columns,fontsize = 10)\n",
    "    \n",
    "    i+=1\n",
    "    plt.tight_layout()"
   ]
  },
  {
   "cell_type": "markdown",
   "id": "35ecbec9",
   "metadata": {},
   "source": [
    "# Data Transformation"
   ]
  },
  {
   "cell_type": "code",
   "execution_count": 238,
   "id": "5185ef62",
   "metadata": {},
   "outputs": [
    {
     "name": "stderr",
     "output_type": "stream",
     "text": [
      "C:\\Users\\prath\\anaconda3\\lib\\site-packages\\sklearn\\preprocessing\\_data.py:3237: RuntimeWarning: divide by zero encountered in log\n",
      "  loglike = -n_samples / 2 * np.log(x_trans.var())\n"
     ]
    }
   ],
   "source": [
    "from sklearn.preprocessing import power_transform\n",
    "x = power_transform(x)"
   ]
  },
  {
   "cell_type": "code",
   "execution_count": 239,
   "id": "db5f1236",
   "metadata": {},
   "outputs": [
    {
     "data": {
      "text/plain": [
       "array([[ 0.        ,  0.        ,  0.        ,  1.47768528,  1.03310301,\n",
       "        -0.76462586, -1.61091476, -2.56989562,  0.93970819, -0.66033096,\n",
       "        -0.49742469, -0.50089346, -0.35984364, -0.78957937,  1.546378  ,\n",
       "        -0.3349525 ],\n",
       "       [ 0.        ,  0.        ,  0.        ,  0.08426878,  1.2033202 ,\n",
       "        -0.15858141, -0.50274883,  0.13491294, -0.53969308,  0.17546536,\n",
       "         0.25797351,  0.26180619, -0.35984364,  0.25177537,  0.36044386,\n",
       "        -0.53221128],\n",
       "       [ 0.        ,  0.        ,  0.        ,  1.67078208, -0.16026987,\n",
       "        -0.68967629,  1.1282937 , -0.90125379,  0.2119555 , -0.67462053,\n",
       "        -0.74690639, -0.63645949,  1.99351257, -0.24539345, -0.6075936 ,\n",
       "        -1.34233137],\n",
       "       [ 0.        ,  0.        ,  0.        , -0.84859969, -0.36052064,\n",
       "        -0.8790486 , -1.18120722, -0.1896282 , -0.64256433,  0.18951225,\n",
       "         0.11357524,  0.06080381,  1.22010317, -0.51075929, -0.76445333,\n",
       "         0.67852361],\n",
       "       [ 0.        ,  0.        ,  0.        ,  0.79218291,  1.61644394,\n",
       "        -0.3298501 , -0.20677062,  0.08545863,  0.07962852,  1.6032282 ,\n",
       "         1.5826538 ,  1.52095856,  1.22010317,  0.25177537, -1.09501024,\n",
       "        -0.53221128],\n",
       "       [ 0.        ,  0.        ,  0.        ,  1.99850636, -1.4610616 ,\n",
       "         1.93785984,  1.7080669 , -0.95796004,  0.29823789, -0.24775668,\n",
       "        -0.38046418, -0.34310973,  1.22010317, -0.24539345, -1.26943834,\n",
       "        -0.3349525 ],\n",
       "       [ 0.        ,  0.        ,  0.        , -0.19855793, -1.22491064,\n",
       "         1.46009864,  1.46112104, -0.22866778, -0.91015416,  0.14736005,\n",
       "         0.24355176,  0.17254893,  0.06463007, -2.09932639,  0.71808189,\n",
       "         0.10453866],\n",
       "       [ 0.        ,  0.        ,  0.        , -1.55645436, -1.11030224,\n",
       "         1.58355136, -0.90445022,  0.80717417, -2.10289743,  0.07702925,\n",
       "         0.15693705,  0.2171929 , -1.72988948, -0.24539345,  0.10460573,\n",
       "        -1.61455012],\n",
       "       [ 0.        ,  0.        ,  0.        ,  0.1416866 ,  0.130611  ,\n",
       "         0.20005848, -0.55919142,  0.59456066,  0.25528505, -0.64604565,\n",
       "        -0.45353173, -0.47832824, -0.90918054,  0.25177537,  1.90547983,\n",
       "         0.26150364],\n",
       "       [ 0.        ,  0.        ,  0.        ,  1.09940491,  0.2252559 ,\n",
       "         0.00740376,  0.20459864, -0.98625666, -0.4890904 ,  0.9148155 ,\n",
       "         0.84591008,  0.79482258,  0.06463007, -0.24539345, -0.30910856,\n",
       "         0.4090036 ],\n",
       "       [ 0.        ,  0.        ,  0.        ,  0.1993895 ,  0.130611  ,\n",
       "         0.35550255,  0.63434931, -0.17008409,  0.82545098,  0.63702368,\n",
       "         0.64587575,  0.6397999 ,  0.71644471, -0.51075929,  0.36044386,\n",
       "         1.57772533],\n",
       "       [ 0.        ,  0.        ,  0.        ,  0.1416866 , -0.46273161,\n",
       "         1.89193722,  0.34401438,  1.43447471,  1.54360946, -0.99008598,\n",
       "        -0.92380051, -0.86307791,  0.71644471,  0.48616028, -0.45590999,\n",
       "        -0.63601435],\n",
       "       [ 0.        ,  0.        ,  0.        , -1.70115949, -0.9978016 ,\n",
       "         0.47670831, -0.57807386, -0.96739644, -1.56087959, -0.17697199,\n",
       "        -0.07475111, -0.02873255, -0.35984364,  0.25177537,  0.48296759,\n",
       "         0.10453866],\n",
       "       [ 0.        ,  0.        ,  0.        , -0.74305731, -0.88727666,\n",
       "         1.09863616,  0.20459864,  0.85805048, -0.5908464 ,  0.53945546,\n",
       "         0.60291486,  0.46219   ,  0.98187374,  0.25177537,  0.36044386,\n",
       "         0.18425403],\n",
       "       [ 0.        ,  0.        ,  0.        ,  0.08426878,  1.37061398,\n",
       "        -0.50675282,  0.15184177, -1.25783783, -0.14922002,  0.58129235,\n",
       "         0.41635103,  0.41771307,  0.71644471,  0.93134543, -2.47346122,\n",
       "         1.82912694],\n",
       "       [ 0.        ,  0.        ,  0.        ,  0.73160797,  0.77187241,\n",
       "        -0.84063614,  0.6847765 ,  0.16463355, -0.5908464 , -2.34864635,\n",
       "        -2.33415028, -2.31158455, -0.90918054,  0.93134543,  2.07367378,\n",
       "         0.33638827],\n",
       "       [ 0.        ,  0.        ,  0.        ,  0.97564513, -0.36052064,\n",
       "        -0.72702035, -0.09789936,  0.71584268,  0.70858172, -1.30770717,\n",
       "        -1.51839579, -1.68621311, -1.72988948,  0.48616028,  1.35421939,\n",
       "         1.69070364],\n",
       "       [ 0.        ,  0.        ,  0.        , -0.19855793, -0.06210084,\n",
       "         0.3247704 ,  1.66218601,  2.77484406,  0.58895875, -1.13418647,\n",
       "        -1.30939814, -1.34181164,  0.98187374,  2.1228587 ,  0.71808189,\n",
       "         1.23106343],\n",
       "       [ 0.        ,  0.        ,  0.        , -0.08627816,  0.31882221,\n",
       "        -0.54284278, -1.02214896,  0.48388272,  0.12413531,  0.69269686,\n",
       "         0.67449731,  0.728428  , -0.90918054, -1.08415811, -0.30910856,\n",
       "         1.45599167],\n",
       "       [ 0.        ,  0.        ,  0.        , -1.00482997, -0.36052064,\n",
       "         0.20005848,  0.51575406,  0.04596732,  1.96311582,  0.92866776,\n",
       "         0.93141525,  0.83904944, -0.35984364, -0.78957937, -1.09501024,\n",
       "        -0.15049335],\n",
       "       [ 0.        ,  0.        ,  0.        ,  1.16172142, -1.4610616 ,\n",
       "         0.50658869,  0.37858445,  0.39368322, -1.62503782, -1.06208003,\n",
       "        -1.14586471, -1.181798  , -0.90918054,  0.71241788,  0.94096393,\n",
       "        -0.3349525 ],\n",
       "       [ 0.        ,  0.        ,  0.        , -0.58265234, -1.96666084,\n",
       "         0.50658869,  1.22443057,  0.93965496, -1.2533623 , -0.74613259,\n",
       "        -0.85001394, -0.74966224,  0.41526799,  0.48616028, -0.16691871,\n",
       "        -0.15049335],\n",
       "       [ 0.        ,  0.        ,  0.        , -2.02934483,  0.85977161,\n",
       "        -1.53428021, -1.77952032, -0.96739644,  1.23258601, -0.13454934,\n",
       "         0.0412242 ,  0.15021539, -1.72988948,  0.25177537, -1.09501024,\n",
       "        -1.61455012],\n",
       "       [ 0.        ,  0.        ,  0.        , -1.30983118, -1.34177482,\n",
       "        -2.48513082,  0.0810878 , -1.36917434, -0.5908464 ,  1.01170768,\n",
       "         0.9029283 ,  1.0156701 ,  0.06463007, -0.24539345,  0.23438459,\n",
       "        -0.15049335],\n",
       "       [ 0.        ,  0.        ,  0.        , -0.19855793,  0.5934617 ,\n",
       "        -1.1154812 , -1.52765389,  0.23412141,  0.29823789,  1.68527759,\n",
       "         1.62486936,  1.63032615, -0.90918054, -1.08415811, -1.09501024,\n",
       "         1.49759735],\n",
       "       [ 0.        ,  0.        ,  0.        , -0.68986824, -0.46273161,\n",
       "         0.79662621,  1.60071179,  0.07557979, -1.13604803, -1.32219722,\n",
       "        -1.20526331, -1.15897488,  0.98187374,  2.1228587 ,  0.60212705,\n",
       "        -1.90842687],\n",
       "       [ 0.        ,  0.        ,  0.        ,  0.73160797,  0.77187241,\n",
       "        -0.8790486 , -0.17035471, -0.88231827,  0.50760474, -0.86077652,\n",
       "        -0.55601027, -0.52346697,  1.22010317,  1.55042485, -0.16691871,\n",
       "        -1.47586961],\n",
       "       [ 0.        ,  0.        ,  0.        ,  0.79218291,  1.53515592,\n",
       "        -0.22643599,  0.41304265,  0.61473509,  1.9006571 ,  0.35777783,\n",
       "         0.34442049,  0.19487476, -0.90918054,  0.25177537,  0.23438459,\n",
       "        -0.53221128],\n",
       "       [ 0.        ,  0.        ,  0.        , -0.84859969,  0.5028866 ,\n",
       "        -0.43529176, -0.749579  ,  0.76654332,  0.03471274,  0.60916531,\n",
       "         0.28680506,  0.30638893, -0.90918054, -1.39754579, -0.16691871,\n",
       "         0.02225134],\n",
       "       [ 0.        ,  0.        ,  0.        , -0.08627816,  1.61644394,\n",
       "         0.76831413, -1.50694503,  0.3237498 ,  0.6690207 ,  2.16161235,\n",
       "         2.324072  ,  2.39132405,  0.41526799, -2.09932639, -0.92680917,\n",
       "         0.26150364]])"
      ]
     },
     "execution_count": 239,
     "metadata": {},
     "output_type": "execute_result"
    }
   ],
   "source": [
    "x"
   ]
  },
  {
   "cell_type": "markdown",
   "id": "ae3627b1",
   "metadata": {},
   "source": [
    "Z score normalization is used for normalizing the data set.It's helpful in removing the outliers in the data.It's used to normalize the data when each attribute has a different unit of measurement."
   ]
  },
  {
   "cell_type": "code",
   "execution_count": 240,
   "id": "d3ec49db",
   "metadata": {},
   "outputs": [
    {
     "data": {
      "text/html": [
       "<div>\n",
       "<style scoped>\n",
       "    .dataframe tbody tr th:only-of-type {\n",
       "        vertical-align: middle;\n",
       "    }\n",
       "\n",
       "    .dataframe tbody tr th {\n",
       "        vertical-align: top;\n",
       "    }\n",
       "\n",
       "    .dataframe thead th {\n",
       "        text-align: right;\n",
       "    }\n",
       "</style>\n",
       "<table border=\"1\" class=\"dataframe\">\n",
       "  <thead>\n",
       "    <tr style=\"text-align: right;\">\n",
       "      <th></th>\n",
       "      <th>W</th>\n",
       "      <th>R</th>\n",
       "      <th>AB</th>\n",
       "      <th>H</th>\n",
       "      <th>2B</th>\n",
       "      <th>3B</th>\n",
       "      <th>HR</th>\n",
       "      <th>BB</th>\n",
       "      <th>SO</th>\n",
       "      <th>SB</th>\n",
       "      <th>RA</th>\n",
       "      <th>ER</th>\n",
       "      <th>ERA</th>\n",
       "      <th>CG</th>\n",
       "      <th>SHO</th>\n",
       "      <th>SV</th>\n",
       "      <th>E</th>\n",
       "    </tr>\n",
       "  </thead>\n",
       "  <tbody>\n",
       "    <tr>\n",
       "      <th>0</th>\n",
       "      <td>1.365409</td>\n",
       "      <td>0.619078</td>\n",
       "      <td>0.847731</td>\n",
       "      <td>1.663685</td>\n",
       "      <td>1.420173</td>\n",
       "      <td>1.041193</td>\n",
       "      <td>0.787299</td>\n",
       "      <td>1.534902</td>\n",
       "      <td>2.697630</td>\n",
       "      <td>0.913883</td>\n",
       "      <td>0.666234</td>\n",
       "      <td>0.505110</td>\n",
       "      <td>0.506955</td>\n",
       "      <td>0.539806</td>\n",
       "      <td>0.814629</td>\n",
       "      <td>1.671607</td>\n",
       "      <td>0.461470</td>\n",
       "    </tr>\n",
       "    <tr>\n",
       "      <th>1</th>\n",
       "      <td>0.197838</td>\n",
       "      <td>0.134432</td>\n",
       "      <td>0.711094</td>\n",
       "      <td>0.970681</td>\n",
       "      <td>0.127403</td>\n",
       "      <td>1.235809</td>\n",
       "      <td>0.243967</td>\n",
       "      <td>0.536592</td>\n",
       "      <td>0.154878</td>\n",
       "      <td>0.601826</td>\n",
       "      <td>0.165971</td>\n",
       "      <td>0.248930</td>\n",
       "      <td>0.254598</td>\n",
       "      <td>0.539806</td>\n",
       "      <td>0.172800</td>\n",
       "      <td>0.249879</td>\n",
       "      <td>0.607197</td>\n",
       "    </tr>\n",
       "    <tr>\n",
       "      <th>2</th>\n",
       "      <td>0.003243</td>\n",
       "      <td>0.332906</td>\n",
       "      <td>1.115233</td>\n",
       "      <td>0.151891</td>\n",
       "      <td>1.588795</td>\n",
       "      <td>0.223808</td>\n",
       "      <td>0.723377</td>\n",
       "      <td>1.139144</td>\n",
       "      <td>0.893982</td>\n",
       "      <td>0.111449</td>\n",
       "      <td>0.680339</td>\n",
       "      <td>0.751623</td>\n",
       "      <td>0.641347</td>\n",
       "      <td>2.772641</td>\n",
       "      <td>0.320914</td>\n",
       "      <td>0.654856</td>\n",
       "      <td>1.117242</td>\n",
       "    </tr>\n",
       "    <tr>\n",
       "      <th>3</th>\n",
       "      <td>0.483244</td>\n",
       "      <td>1.146419</td>\n",
       "      <td>0.241522</td>\n",
       "      <td>0.401088</td>\n",
       "      <td>0.828122</td>\n",
       "      <td>0.418423</td>\n",
       "      <td>0.883181</td>\n",
       "      <td>1.160536</td>\n",
       "      <td>0.168602</td>\n",
       "      <td>0.690985</td>\n",
       "      <td>0.180076</td>\n",
       "      <td>0.103922</td>\n",
       "      <td>0.053010</td>\n",
       "      <td>1.300442</td>\n",
       "      <td>0.567771</td>\n",
       "      <td>0.784104</td>\n",
       "      <td>0.485758</td>\n",
       "    </tr>\n",
       "    <tr>\n",
       "      <th>4</th>\n",
       "      <td>0.677839</td>\n",
       "      <td>0.013270</td>\n",
       "      <td>1.280738</td>\n",
       "      <td>1.984081</td>\n",
       "      <td>0.801892</td>\n",
       "      <td>1.722347</td>\n",
       "      <td>0.403770</td>\n",
       "      <td>0.251360</td>\n",
       "      <td>0.105866</td>\n",
       "      <td>0.022290</td>\n",
       "      <td>1.618803</td>\n",
       "      <td>1.597501</td>\n",
       "      <td>1.531318</td>\n",
       "      <td>1.300442</td>\n",
       "      <td>0.172800</td>\n",
       "      <td>1.042600</td>\n",
       "      <td>0.607197</td>\n",
       "    </tr>\n",
       "    <tr>\n",
       "      <th>5</th>\n",
       "      <td>1.170814</td>\n",
       "      <td>3.509647</td>\n",
       "      <td>0.104884</td>\n",
       "      <td>1.361089</td>\n",
       "      <td>1.869832</td>\n",
       "      <td>1.391501</td>\n",
       "      <td>2.185047</td>\n",
       "      <td>1.798742</td>\n",
       "      <td>0.952796</td>\n",
       "      <td>0.200609</td>\n",
       "      <td>0.257184</td>\n",
       "      <td>0.389104</td>\n",
       "      <td>0.350165</td>\n",
       "      <td>1.300442</td>\n",
       "      <td>0.320914</td>\n",
       "      <td>1.171848</td>\n",
       "      <td>0.461470</td>\n",
       "    </tr>\n",
       "    <tr>\n",
       "      <th>6</th>\n",
       "      <td>0.587028</td>\n",
       "      <td>1.311430</td>\n",
       "      <td>0.732263</td>\n",
       "      <td>0.116292</td>\n",
       "      <td>0.153633</td>\n",
       "      <td>1.196885</td>\n",
       "      <td>1.545833</td>\n",
       "      <td>1.513510</td>\n",
       "      <td>0.207812</td>\n",
       "      <td>0.913883</td>\n",
       "      <td>0.137760</td>\n",
       "      <td>0.234429</td>\n",
       "      <td>0.165003</td>\n",
       "      <td>0.171757</td>\n",
       "      <td>1.802057</td>\n",
       "      <td>0.637623</td>\n",
       "      <td>0.097152</td>\n",
       "    </tr>\n",
       "    <tr>\n",
       "      <th>7</th>\n",
       "      <td>0.003243</td>\n",
       "      <td>0.428681</td>\n",
       "      <td>0.451289</td>\n",
       "      <td>0.596886</td>\n",
       "      <td>1.615025</td>\n",
       "      <td>1.099578</td>\n",
       "      <td>1.705636</td>\n",
       "      <td>0.910958</td>\n",
       "      <td>0.811641</td>\n",
       "      <td>1.760897</td>\n",
       "      <td>0.067235</td>\n",
       "      <td>0.147424</td>\n",
       "      <td>0.209800</td>\n",
       "      <td>1.275906</td>\n",
       "      <td>0.320914</td>\n",
       "      <td>0.008617</td>\n",
       "      <td>1.262970</td>\n",
       "    </tr>\n",
       "    <tr>\n",
       "      <th>8</th>\n",
       "      <td>0.094054</td>\n",
       "      <td>0.765626</td>\n",
       "      <td>0.451289</td>\n",
       "      <td>0.365489</td>\n",
       "      <td>0.183611</td>\n",
       "      <td>0.068115</td>\n",
       "      <td>0.107601</td>\n",
       "      <td>0.590073</td>\n",
       "      <td>0.605790</td>\n",
       "      <td>0.156029</td>\n",
       "      <td>0.652129</td>\n",
       "      <td>0.461608</td>\n",
       "      <td>0.484557</td>\n",
       "      <td>0.907856</td>\n",
       "      <td>0.172800</td>\n",
       "      <td>2.188598</td>\n",
       "      <td>0.048576</td>\n",
       "    </tr>\n",
       "    <tr>\n",
       "      <th>9</th>\n",
       "      <td>0.288649</td>\n",
       "      <td>1.034489</td>\n",
       "      <td>1.785913</td>\n",
       "      <td>1.628086</td>\n",
       "      <td>1.082929</td>\n",
       "      <td>0.165423</td>\n",
       "      <td>0.084163</td>\n",
       "      <td>0.158660</td>\n",
       "      <td>0.982204</td>\n",
       "      <td>0.557246</td>\n",
       "      <td>0.913544</td>\n",
       "      <td>0.843461</td>\n",
       "      <td>0.792164</td>\n",
       "      <td>0.171757</td>\n",
       "      <td>0.320914</td>\n",
       "      <td>0.396360</td>\n",
       "      <td>0.194303</td>\n",
       "    </tr>\n",
       "    <tr>\n",
       "      <th>10</th>\n",
       "      <td>0.684326</td>\n",
       "      <td>1.086415</td>\n",
       "      <td>0.076017</td>\n",
       "      <td>0.275303</td>\n",
       "      <td>0.239818</td>\n",
       "      <td>0.068115</td>\n",
       "      <td>0.267405</td>\n",
       "      <td>0.604334</td>\n",
       "      <td>0.148997</td>\n",
       "      <td>0.780144</td>\n",
       "      <td>0.631441</td>\n",
       "      <td>0.640451</td>\n",
       "      <td>0.635374</td>\n",
       "      <td>0.564343</td>\n",
       "      <td>0.567771</td>\n",
       "      <td>0.249879</td>\n",
       "      <td>1.797303</td>\n",
       "    </tr>\n",
       "    <tr>\n",
       "      <th>11</th>\n",
       "      <td>0.489731</td>\n",
       "      <td>0.705622</td>\n",
       "      <td>0.826562</td>\n",
       "      <td>0.721484</td>\n",
       "      <td>0.183611</td>\n",
       "      <td>0.515731</td>\n",
       "      <td>2.121125</td>\n",
       "      <td>0.301276</td>\n",
       "      <td>1.409590</td>\n",
       "      <td>1.671738</td>\n",
       "      <td>0.990653</td>\n",
       "      <td>0.925632</td>\n",
       "      <td>0.865333</td>\n",
       "      <td>0.564343</td>\n",
       "      <td>0.419657</td>\n",
       "      <td>0.525608</td>\n",
       "      <td>0.680061</td>\n",
       "    </tr>\n",
       "    <tr>\n",
       "      <th>12</th>\n",
       "      <td>0.392433</td>\n",
       "      <td>0.471376</td>\n",
       "      <td>1.432772</td>\n",
       "      <td>1.291077</td>\n",
       "      <td>1.783647</td>\n",
       "      <td>1.002270</td>\n",
       "      <td>0.395247</td>\n",
       "      <td>0.607900</td>\n",
       "      <td>0.962599</td>\n",
       "      <td>1.404260</td>\n",
       "      <td>0.186658</td>\n",
       "      <td>0.084588</td>\n",
       "      <td>0.036584</td>\n",
       "      <td>0.539806</td>\n",
       "      <td>0.172800</td>\n",
       "      <td>0.379127</td>\n",
       "      <td>0.097152</td>\n",
       "    </tr>\n",
       "    <tr>\n",
       "      <th>13</th>\n",
       "      <td>0.483244</td>\n",
       "      <td>0.557920</td>\n",
       "      <td>0.400291</td>\n",
       "      <td>0.436688</td>\n",
       "      <td>0.715707</td>\n",
       "      <td>0.904962</td>\n",
       "      <td>1.098383</td>\n",
       "      <td>0.158660</td>\n",
       "      <td>0.860654</td>\n",
       "      <td>0.646405</td>\n",
       "      <td>0.532705</td>\n",
       "      <td>0.596948</td>\n",
       "      <td>0.456185</td>\n",
       "      <td>0.932393</td>\n",
       "      <td>0.172800</td>\n",
       "      <td>0.249879</td>\n",
       "      <td>0.024288</td>\n",
       "    </tr>\n",
       "    <tr>\n",
       "      <th>14</th>\n",
       "      <td>1.261625</td>\n",
       "      <td>0.099814</td>\n",
       "      <td>1.208570</td>\n",
       "      <td>0.026106</td>\n",
       "      <td>0.127403</td>\n",
       "      <td>1.430424</td>\n",
       "      <td>0.563574</td>\n",
       "      <td>0.105179</td>\n",
       "      <td>1.266474</td>\n",
       "      <td>0.245188</td>\n",
       "      <td>0.575021</td>\n",
       "      <td>0.408438</td>\n",
       "      <td>0.411388</td>\n",
       "      <td>0.564343</td>\n",
       "      <td>0.913371</td>\n",
       "      <td>1.947335</td>\n",
       "      <td>2.307348</td>\n",
       "    </tr>\n",
       "    <tr>\n",
       "      <th>15</th>\n",
       "      <td>1.851896</td>\n",
       "      <td>0.713699</td>\n",
       "      <td>0.465723</td>\n",
       "      <td>0.312089</td>\n",
       "      <td>0.745685</td>\n",
       "      <td>0.749270</td>\n",
       "      <td>0.851220</td>\n",
       "      <td>0.657815</td>\n",
       "      <td>0.184286</td>\n",
       "      <td>0.646405</td>\n",
       "      <td>2.302433</td>\n",
       "      <td>2.288705</td>\n",
       "      <td>2.276445</td>\n",
       "      <td>0.907856</td>\n",
       "      <td>0.913371</td>\n",
       "      <td>2.447094</td>\n",
       "      <td>0.121439</td>\n",
       "    </tr>\n",
       "    <tr>\n",
       "      <th>16</th>\n",
       "      <td>1.657301</td>\n",
       "      <td>0.151740</td>\n",
       "      <td>1.656011</td>\n",
       "      <td>1.040693</td>\n",
       "      <td>0.970514</td>\n",
       "      <td>0.418423</td>\n",
       "      <td>0.755338</td>\n",
       "      <td>0.144398</td>\n",
       "      <td>0.723420</td>\n",
       "      <td>0.646405</td>\n",
       "      <td>1.300966</td>\n",
       "      <td>1.505663</td>\n",
       "      <td>1.671683</td>\n",
       "      <td>1.275906</td>\n",
       "      <td>0.419657</td>\n",
       "      <td>1.413111</td>\n",
       "      <td>2.015894</td>\n",
       "    </tr>\n",
       "    <tr>\n",
       "      <th>17</th>\n",
       "      <td>1.560004</td>\n",
       "      <td>0.013270</td>\n",
       "      <td>0.364688</td>\n",
       "      <td>1.113079</td>\n",
       "      <td>0.153633</td>\n",
       "      <td>0.126500</td>\n",
       "      <td>0.235444</td>\n",
       "      <td>1.745261</td>\n",
       "      <td>2.644696</td>\n",
       "      <td>0.512666</td>\n",
       "      <td>1.131704</td>\n",
       "      <td>1.302652</td>\n",
       "      <td>1.335704</td>\n",
       "      <td>0.932393</td>\n",
       "      <td>2.394514</td>\n",
       "      <td>0.637623</td>\n",
       "      <td>1.214394</td>\n",
       "    </tr>\n",
       "    <tr>\n",
       "      <th>18</th>\n",
       "      <td>1.261625</td>\n",
       "      <td>0.575229</td>\n",
       "      <td>0.523457</td>\n",
       "      <td>0.454487</td>\n",
       "      <td>0.041219</td>\n",
       "      <td>0.262731</td>\n",
       "      <td>0.595534</td>\n",
       "      <td>1.017920</td>\n",
       "      <td>0.497964</td>\n",
       "      <td>0.022290</td>\n",
       "      <td>0.687862</td>\n",
       "      <td>0.669452</td>\n",
       "      <td>0.724968</td>\n",
       "      <td>0.907856</td>\n",
       "      <td>1.061486</td>\n",
       "      <td>0.396360</td>\n",
       "      <td>1.578712</td>\n",
       "    </tr>\n",
       "    <tr>\n",
       "      <th>19</th>\n",
       "      <td>1.650815</td>\n",
       "      <td>0.834861</td>\n",
       "      <td>0.789997</td>\n",
       "      <td>0.383288</td>\n",
       "      <td>0.996744</td>\n",
       "      <td>0.418423</td>\n",
       "      <td>0.107601</td>\n",
       "      <td>0.479546</td>\n",
       "      <td>0.066657</td>\n",
       "      <td>2.251273</td>\n",
       "      <td>0.927650</td>\n",
       "      <td>0.930466</td>\n",
       "      <td>0.836961</td>\n",
       "      <td>0.539806</td>\n",
       "      <td>0.814629</td>\n",
       "      <td>1.042600</td>\n",
       "      <td>0.315742</td>\n",
       "    </tr>\n",
       "    <tr>\n",
       "      <th>20</th>\n",
       "      <td>0.878921</td>\n",
       "      <td>0.090583</td>\n",
       "      <td>0.154920</td>\n",
       "      <td>0.935081</td>\n",
       "      <td>1.139136</td>\n",
       "      <td>1.391501</td>\n",
       "      <td>0.427208</td>\n",
       "      <td>0.336930</td>\n",
       "      <td>0.409742</td>\n",
       "      <td>1.448839</td>\n",
       "      <td>1.061179</td>\n",
       "      <td>1.143144</td>\n",
       "      <td>1.178913</td>\n",
       "      <td>0.907856</td>\n",
       "      <td>0.666514</td>\n",
       "      <td>0.896119</td>\n",
       "      <td>0.461470</td>\n",
       "    </tr>\n",
       "    <tr>\n",
       "      <th>21</th>\n",
       "      <td>0.197838</td>\n",
       "      <td>0.255593</td>\n",
       "      <td>1.274002</td>\n",
       "      <td>0.721484</td>\n",
       "      <td>0.547085</td>\n",
       "      <td>1.780732</td>\n",
       "      <td>0.427208</td>\n",
       "      <td>1.246105</td>\n",
       "      <td>0.939073</td>\n",
       "      <td>1.181361</td>\n",
       "      <td>0.750865</td>\n",
       "      <td>0.853129</td>\n",
       "      <td>0.753340</td>\n",
       "      <td>0.196293</td>\n",
       "      <td>0.419657</td>\n",
       "      <td>0.267112</td>\n",
       "      <td>0.315742</td>\n",
       "    </tr>\n",
       "    <tr>\n",
       "      <th>22</th>\n",
       "      <td>0.969732</td>\n",
       "      <td>1.302198</td>\n",
       "      <td>0.768828</td>\n",
       "      <td>0.293103</td>\n",
       "      <td>2.177099</td>\n",
       "      <td>0.846578</td>\n",
       "      <td>1.394552</td>\n",
       "      <td>1.677518</td>\n",
       "      <td>0.962599</td>\n",
       "      <td>1.270521</td>\n",
       "      <td>0.144343</td>\n",
       "      <td>0.031418</td>\n",
       "      <td>0.142604</td>\n",
       "      <td>1.275906</td>\n",
       "      <td>0.172800</td>\n",
       "      <td>1.042600</td>\n",
       "      <td>1.262970</td>\n",
       "    </tr>\n",
       "    <tr>\n",
       "      <th>23</th>\n",
       "      <td>1.358922</td>\n",
       "      <td>1.994550</td>\n",
       "      <td>1.389471</td>\n",
       "      <td>0.757084</td>\n",
       "      <td>1.333988</td>\n",
       "      <td>1.294193</td>\n",
       "      <td>2.033766</td>\n",
       "      <td>0.033871</td>\n",
       "      <td>1.384104</td>\n",
       "      <td>0.646405</td>\n",
       "      <td>1.012281</td>\n",
       "      <td>0.901464</td>\n",
       "      <td>1.016150</td>\n",
       "      <td>0.171757</td>\n",
       "      <td>0.320914</td>\n",
       "      <td>0.120631</td>\n",
       "      <td>0.315742</td>\n",
       "    </tr>\n",
       "    <tr>\n",
       "      <th>24</th>\n",
       "      <td>1.748112</td>\n",
       "      <td>1.077184</td>\n",
       "      <td>0.183787</td>\n",
       "      <td>0.525687</td>\n",
       "      <td>0.153633</td>\n",
       "      <td>0.554654</td>\n",
       "      <td>1.074945</td>\n",
       "      <td>1.463595</td>\n",
       "      <td>0.252903</td>\n",
       "      <td>0.200609</td>\n",
       "      <td>1.703434</td>\n",
       "      <td>1.641004</td>\n",
       "      <td>1.643311</td>\n",
       "      <td>0.907856</td>\n",
       "      <td>1.061486</td>\n",
       "      <td>1.042600</td>\n",
       "      <td>1.651576</td>\n",
       "    </tr>\n",
       "    <tr>\n",
       "      <th>25</th>\n",
       "      <td>1.073516</td>\n",
       "      <td>0.367523</td>\n",
       "      <td>1.894646</td>\n",
       "      <td>1.024080</td>\n",
       "      <td>0.659500</td>\n",
       "      <td>0.515731</td>\n",
       "      <td>0.746815</td>\n",
       "      <td>1.673953</td>\n",
       "      <td>0.096064</td>\n",
       "      <td>1.092202</td>\n",
       "      <td>1.315071</td>\n",
       "      <td>1.201147</td>\n",
       "      <td>1.156515</td>\n",
       "      <td>0.932393</td>\n",
       "      <td>2.394514</td>\n",
       "      <td>0.508375</td>\n",
       "      <td>1.408697</td>\n",
       "    </tr>\n",
       "    <tr>\n",
       "      <th>26</th>\n",
       "      <td>0.295136</td>\n",
       "      <td>0.134432</td>\n",
       "      <td>0.703396</td>\n",
       "      <td>1.467888</td>\n",
       "      <td>0.745685</td>\n",
       "      <td>0.749270</td>\n",
       "      <td>0.883181</td>\n",
       "      <td>0.215706</td>\n",
       "      <td>0.874377</td>\n",
       "      <td>0.423507</td>\n",
       "      <td>0.863706</td>\n",
       "      <td>0.563113</td>\n",
       "      <td>0.529354</td>\n",
       "      <td>1.300442</td>\n",
       "      <td>1.653943</td>\n",
       "      <td>0.267112</td>\n",
       "      <td>1.190106</td>\n",
       "    </tr>\n",
       "    <tr>\n",
       "      <th>27</th>\n",
       "      <td>0.191352</td>\n",
       "      <td>0.549843</td>\n",
       "      <td>1.915815</td>\n",
       "      <td>1.610286</td>\n",
       "      <td>0.801892</td>\n",
       "      <td>1.625040</td>\n",
       "      <td>0.307888</td>\n",
       "      <td>0.372584</td>\n",
       "      <td>0.625395</td>\n",
       "      <td>2.162114</td>\n",
       "      <td>0.349338</td>\n",
       "      <td>0.335934</td>\n",
       "      <td>0.187402</td>\n",
       "      <td>0.907856</td>\n",
       "      <td>0.172800</td>\n",
       "      <td>0.120631</td>\n",
       "      <td>0.607197</td>\n",
       "    </tr>\n",
       "    <tr>\n",
       "      <th>28</th>\n",
       "      <td>0.677839</td>\n",
       "      <td>0.661773</td>\n",
       "      <td>0.855429</td>\n",
       "      <td>1.415675</td>\n",
       "      <td>0.828122</td>\n",
       "      <td>0.457346</td>\n",
       "      <td>0.499652</td>\n",
       "      <td>0.768343</td>\n",
       "      <td>0.772432</td>\n",
       "      <td>0.066870</td>\n",
       "      <td>0.603231</td>\n",
       "      <td>0.277931</td>\n",
       "      <td>0.299395</td>\n",
       "      <td>0.907856</td>\n",
       "      <td>1.308343</td>\n",
       "      <td>0.267112</td>\n",
       "      <td>0.170015</td>\n",
       "    </tr>\n",
       "    <tr>\n",
       "      <th>29</th>\n",
       "      <td>1.261625</td>\n",
       "      <td>0.844092</td>\n",
       "      <td>0.804431</td>\n",
       "      <td>1.343289</td>\n",
       "      <td>0.041219</td>\n",
       "      <td>1.722347</td>\n",
       "      <td>0.714854</td>\n",
       "      <td>1.445768</td>\n",
       "      <td>0.341125</td>\n",
       "      <td>0.601826</td>\n",
       "      <td>2.197114</td>\n",
       "      <td>2.366042</td>\n",
       "      <td>2.427263</td>\n",
       "      <td>0.196293</td>\n",
       "      <td>1.802057</td>\n",
       "      <td>0.913352</td>\n",
       "      <td>0.048576</td>\n",
       "    </tr>\n",
       "  </tbody>\n",
       "</table>\n",
       "</div>"
      ],
      "text/plain": [
       "           W         R        AB         H        2B        3B        HR  \\\n",
       "0   1.365409  0.619078  0.847731  1.663685  1.420173  1.041193  0.787299   \n",
       "1   0.197838  0.134432  0.711094  0.970681  0.127403  1.235809  0.243967   \n",
       "2   0.003243  0.332906  1.115233  0.151891  1.588795  0.223808  0.723377   \n",
       "3   0.483244  1.146419  0.241522  0.401088  0.828122  0.418423  0.883181   \n",
       "4   0.677839  0.013270  1.280738  1.984081  0.801892  1.722347  0.403770   \n",
       "5   1.170814  3.509647  0.104884  1.361089  1.869832  1.391501  2.185047   \n",
       "6   0.587028  1.311430  0.732263  0.116292  0.153633  1.196885  1.545833   \n",
       "7   0.003243  0.428681  0.451289  0.596886  1.615025  1.099578  1.705636   \n",
       "8   0.094054  0.765626  0.451289  0.365489  0.183611  0.068115  0.107601   \n",
       "9   0.288649  1.034489  1.785913  1.628086  1.082929  0.165423  0.084163   \n",
       "10  0.684326  1.086415  0.076017  0.275303  0.239818  0.068115  0.267405   \n",
       "11  0.489731  0.705622  0.826562  0.721484  0.183611  0.515731  2.121125   \n",
       "12  0.392433  0.471376  1.432772  1.291077  1.783647  1.002270  0.395247   \n",
       "13  0.483244  0.557920  0.400291  0.436688  0.715707  0.904962  1.098383   \n",
       "14  1.261625  0.099814  1.208570  0.026106  0.127403  1.430424  0.563574   \n",
       "15  1.851896  0.713699  0.465723  0.312089  0.745685  0.749270  0.851220   \n",
       "16  1.657301  0.151740  1.656011  1.040693  0.970514  0.418423  0.755338   \n",
       "17  1.560004  0.013270  0.364688  1.113079  0.153633  0.126500  0.235444   \n",
       "18  1.261625  0.575229  0.523457  0.454487  0.041219  0.262731  0.595534   \n",
       "19  1.650815  0.834861  0.789997  0.383288  0.996744  0.418423  0.107601   \n",
       "20  0.878921  0.090583  0.154920  0.935081  1.139136  1.391501  0.427208   \n",
       "21  0.197838  0.255593  1.274002  0.721484  0.547085  1.780732  0.427208   \n",
       "22  0.969732  1.302198  0.768828  0.293103  2.177099  0.846578  1.394552   \n",
       "23  1.358922  1.994550  1.389471  0.757084  1.333988  1.294193  2.033766   \n",
       "24  1.748112  1.077184  0.183787  0.525687  0.153633  0.554654  1.074945   \n",
       "25  1.073516  0.367523  1.894646  1.024080  0.659500  0.515731  0.746815   \n",
       "26  0.295136  0.134432  0.703396  1.467888  0.745685  0.749270  0.883181   \n",
       "27  0.191352  0.549843  1.915815  1.610286  0.801892  1.625040  0.307888   \n",
       "28  0.677839  0.661773  0.855429  1.415675  0.828122  0.457346  0.499652   \n",
       "29  1.261625  0.844092  0.804431  1.343289  0.041219  1.722347  0.714854   \n",
       "\n",
       "          BB        SO        SB        RA        ER       ERA        CG  \\\n",
       "0   1.534902  2.697630  0.913883  0.666234  0.505110  0.506955  0.539806   \n",
       "1   0.536592  0.154878  0.601826  0.165971  0.248930  0.254598  0.539806   \n",
       "2   1.139144  0.893982  0.111449  0.680339  0.751623  0.641347  2.772641   \n",
       "3   1.160536  0.168602  0.690985  0.180076  0.103922  0.053010  1.300442   \n",
       "4   0.251360  0.105866  0.022290  1.618803  1.597501  1.531318  1.300442   \n",
       "5   1.798742  0.952796  0.200609  0.257184  0.389104  0.350165  1.300442   \n",
       "6   1.513510  0.207812  0.913883  0.137760  0.234429  0.165003  0.171757   \n",
       "7   0.910958  0.811641  1.760897  0.067235  0.147424  0.209800  1.275906   \n",
       "8   0.590073  0.605790  0.156029  0.652129  0.461608  0.484557  0.907856   \n",
       "9   0.158660  0.982204  0.557246  0.913544  0.843461  0.792164  0.171757   \n",
       "10  0.604334  0.148997  0.780144  0.631441  0.640451  0.635374  0.564343   \n",
       "11  0.301276  1.409590  1.671738  0.990653  0.925632  0.865333  0.564343   \n",
       "12  0.607900  0.962599  1.404260  0.186658  0.084588  0.036584  0.539806   \n",
       "13  0.158660  0.860654  0.646405  0.532705  0.596948  0.456185  0.932393   \n",
       "14  0.105179  1.266474  0.245188  0.575021  0.408438  0.411388  0.564343   \n",
       "15  0.657815  0.184286  0.646405  2.302433  2.288705  2.276445  0.907856   \n",
       "16  0.144398  0.723420  0.646405  1.300966  1.505663  1.671683  1.275906   \n",
       "17  1.745261  2.644696  0.512666  1.131704  1.302652  1.335704  0.932393   \n",
       "18  1.017920  0.497964  0.022290  0.687862  0.669452  0.724968  0.907856   \n",
       "19  0.479546  0.066657  2.251273  0.927650  0.930466  0.836961  0.539806   \n",
       "20  0.336930  0.409742  1.448839  1.061179  1.143144  1.178913  0.907856   \n",
       "21  1.246105  0.939073  1.181361  0.750865  0.853129  0.753340  0.196293   \n",
       "22  1.677518  0.962599  1.270521  0.144343  0.031418  0.142604  1.275906   \n",
       "23  0.033871  1.384104  0.646405  1.012281  0.901464  1.016150  0.171757   \n",
       "24  1.463595  0.252903  0.200609  1.703434  1.641004  1.643311  0.907856   \n",
       "25  1.673953  0.096064  1.092202  1.315071  1.201147  1.156515  0.932393   \n",
       "26  0.215706  0.874377  0.423507  0.863706  0.563113  0.529354  1.300442   \n",
       "27  0.372584  0.625395  2.162114  0.349338  0.335934  0.187402  0.907856   \n",
       "28  0.768343  0.772432  0.066870  0.603231  0.277931  0.299395  0.907856   \n",
       "29  1.445768  0.341125  0.601826  2.197114  2.366042  2.427263  0.196293   \n",
       "\n",
       "         SHO        SV         E  \n",
       "0   0.814629  1.671607  0.461470  \n",
       "1   0.172800  0.249879  0.607197  \n",
       "2   0.320914  0.654856  1.117242  \n",
       "3   0.567771  0.784104  0.485758  \n",
       "4   0.172800  1.042600  0.607197  \n",
       "5   0.320914  1.171848  0.461470  \n",
       "6   1.802057  0.637623  0.097152  \n",
       "7   0.320914  0.008617  1.262970  \n",
       "8   0.172800  2.188598  0.048576  \n",
       "9   0.320914  0.396360  0.194303  \n",
       "10  0.567771  0.249879  1.797303  \n",
       "11  0.419657  0.525608  0.680061  \n",
       "12  0.172800  0.379127  0.097152  \n",
       "13  0.172800  0.249879  0.024288  \n",
       "14  0.913371  1.947335  2.307348  \n",
       "15  0.913371  2.447094  0.121439  \n",
       "16  0.419657  1.413111  2.015894  \n",
       "17  2.394514  0.637623  1.214394  \n",
       "18  1.061486  0.396360  1.578712  \n",
       "19  0.814629  1.042600  0.315742  \n",
       "20  0.666514  0.896119  0.461470  \n",
       "21  0.419657  0.267112  0.315742  \n",
       "22  0.172800  1.042600  1.262970  \n",
       "23  0.320914  0.120631  0.315742  \n",
       "24  1.061486  1.042600  1.651576  \n",
       "25  2.394514  0.508375  1.408697  \n",
       "26  1.653943  0.267112  1.190106  \n",
       "27  0.172800  0.120631  0.607197  \n",
       "28  1.308343  0.267112  0.170015  \n",
       "29  1.802057  0.913352  0.048576  "
      ]
     },
     "execution_count": 240,
     "metadata": {},
     "output_type": "execute_result"
    }
   ],
   "source": [
    "from scipy.stats import zscore\n",
    "z = np.abs(zscore(df))\n",
    "z"
   ]
  },
  {
   "cell_type": "code",
   "execution_count": 241,
   "id": "173a635b",
   "metadata": {},
   "outputs": [
    {
     "data": {
      "text/html": [
       "<div>\n",
       "<style scoped>\n",
       "    .dataframe tbody tr th:only-of-type {\n",
       "        vertical-align: middle;\n",
       "    }\n",
       "\n",
       "    .dataframe tbody tr th {\n",
       "        vertical-align: top;\n",
       "    }\n",
       "\n",
       "    .dataframe thead th {\n",
       "        text-align: right;\n",
       "    }\n",
       "</style>\n",
       "<table border=\"1\" class=\"dataframe\">\n",
       "  <thead>\n",
       "    <tr style=\"text-align: right;\">\n",
       "      <th></th>\n",
       "      <th>W</th>\n",
       "      <th>R</th>\n",
       "      <th>AB</th>\n",
       "      <th>H</th>\n",
       "      <th>2B</th>\n",
       "      <th>3B</th>\n",
       "      <th>HR</th>\n",
       "      <th>BB</th>\n",
       "      <th>SO</th>\n",
       "      <th>SB</th>\n",
       "      <th>RA</th>\n",
       "      <th>ER</th>\n",
       "      <th>ERA</th>\n",
       "      <th>CG</th>\n",
       "      <th>SHO</th>\n",
       "      <th>SV</th>\n",
       "      <th>E</th>\n",
       "    </tr>\n",
       "  </thead>\n",
       "  <tbody>\n",
       "    <tr>\n",
       "      <th>0</th>\n",
       "      <td>95</td>\n",
       "      <td>724</td>\n",
       "      <td>5575</td>\n",
       "      <td>1497</td>\n",
       "      <td>300</td>\n",
       "      <td>42</td>\n",
       "      <td>139</td>\n",
       "      <td>383</td>\n",
       "      <td>973</td>\n",
       "      <td>104</td>\n",
       "      <td>641</td>\n",
       "      <td>601</td>\n",
       "      <td>3.73</td>\n",
       "      <td>2</td>\n",
       "      <td>8</td>\n",
       "      <td>56</td>\n",
       "      <td>88</td>\n",
       "    </tr>\n",
       "    <tr>\n",
       "      <th>1</th>\n",
       "      <td>83</td>\n",
       "      <td>696</td>\n",
       "      <td>5467</td>\n",
       "      <td>1349</td>\n",
       "      <td>277</td>\n",
       "      <td>44</td>\n",
       "      <td>156</td>\n",
       "      <td>439</td>\n",
       "      <td>1264</td>\n",
       "      <td>70</td>\n",
       "      <td>700</td>\n",
       "      <td>653</td>\n",
       "      <td>4.07</td>\n",
       "      <td>2</td>\n",
       "      <td>12</td>\n",
       "      <td>45</td>\n",
       "      <td>86</td>\n",
       "    </tr>\n",
       "    <tr>\n",
       "      <th>2</th>\n",
       "      <td>81</td>\n",
       "      <td>669</td>\n",
       "      <td>5439</td>\n",
       "      <td>1395</td>\n",
       "      <td>303</td>\n",
       "      <td>29</td>\n",
       "      <td>141</td>\n",
       "      <td>533</td>\n",
       "      <td>1157</td>\n",
       "      <td>86</td>\n",
       "      <td>640</td>\n",
       "      <td>584</td>\n",
       "      <td>3.67</td>\n",
       "      <td>11</td>\n",
       "      <td>10</td>\n",
       "      <td>38</td>\n",
       "      <td>79</td>\n",
       "    </tr>\n",
       "    <tr>\n",
       "      <th>3</th>\n",
       "      <td>76</td>\n",
       "      <td>622</td>\n",
       "      <td>5533</td>\n",
       "      <td>1381</td>\n",
       "      <td>260</td>\n",
       "      <td>27</td>\n",
       "      <td>136</td>\n",
       "      <td>404</td>\n",
       "      <td>1231</td>\n",
       "      <td>68</td>\n",
       "      <td>701</td>\n",
       "      <td>643</td>\n",
       "      <td>3.98</td>\n",
       "      <td>7</td>\n",
       "      <td>9</td>\n",
       "      <td>37</td>\n",
       "      <td>101</td>\n",
       "    </tr>\n",
       "    <tr>\n",
       "      <th>4</th>\n",
       "      <td>74</td>\n",
       "      <td>689</td>\n",
       "      <td>5605</td>\n",
       "      <td>1515</td>\n",
       "      <td>289</td>\n",
       "      <td>49</td>\n",
       "      <td>151</td>\n",
       "      <td>455</td>\n",
       "      <td>1259</td>\n",
       "      <td>83</td>\n",
       "      <td>803</td>\n",
       "      <td>746</td>\n",
       "      <td>4.64</td>\n",
       "      <td>7</td>\n",
       "      <td>12</td>\n",
       "      <td>35</td>\n",
       "      <td>86</td>\n",
       "    </tr>\n",
       "    <tr>\n",
       "      <th>6</th>\n",
       "      <td>87</td>\n",
       "      <td>764</td>\n",
       "      <td>5567</td>\n",
       "      <td>1397</td>\n",
       "      <td>272</td>\n",
       "      <td>19</td>\n",
       "      <td>212</td>\n",
       "      <td>554</td>\n",
       "      <td>1227</td>\n",
       "      <td>63</td>\n",
       "      <td>698</td>\n",
       "      <td>652</td>\n",
       "      <td>4.03</td>\n",
       "      <td>3</td>\n",
       "      <td>4</td>\n",
       "      <td>48</td>\n",
       "      <td>93</td>\n",
       "    </tr>\n",
       "    <tr>\n",
       "      <th>7</th>\n",
       "      <td>81</td>\n",
       "      <td>713</td>\n",
       "      <td>5485</td>\n",
       "      <td>1370</td>\n",
       "      <td>246</td>\n",
       "      <td>20</td>\n",
       "      <td>217</td>\n",
       "      <td>418</td>\n",
       "      <td>1331</td>\n",
       "      <td>44</td>\n",
       "      <td>693</td>\n",
       "      <td>646</td>\n",
       "      <td>4.05</td>\n",
       "      <td>0</td>\n",
       "      <td>10</td>\n",
       "      <td>43</td>\n",
       "      <td>77</td>\n",
       "    </tr>\n",
       "    <tr>\n",
       "      <th>8</th>\n",
       "      <td>80</td>\n",
       "      <td>644</td>\n",
       "      <td>5485</td>\n",
       "      <td>1383</td>\n",
       "      <td>278</td>\n",
       "      <td>32</td>\n",
       "      <td>167</td>\n",
       "      <td>436</td>\n",
       "      <td>1310</td>\n",
       "      <td>87</td>\n",
       "      <td>642</td>\n",
       "      <td>604</td>\n",
       "      <td>3.74</td>\n",
       "      <td>1</td>\n",
       "      <td>12</td>\n",
       "      <td>60</td>\n",
       "      <td>95</td>\n",
       "    </tr>\n",
       "    <tr>\n",
       "      <th>9</th>\n",
       "      <td>78</td>\n",
       "      <td>748</td>\n",
       "      <td>5640</td>\n",
       "      <td>1495</td>\n",
       "      <td>294</td>\n",
       "      <td>33</td>\n",
       "      <td>161</td>\n",
       "      <td>478</td>\n",
       "      <td>1148</td>\n",
       "      <td>71</td>\n",
       "      <td>753</td>\n",
       "      <td>694</td>\n",
       "      <td>4.31</td>\n",
       "      <td>3</td>\n",
       "      <td>10</td>\n",
       "      <td>40</td>\n",
       "      <td>97</td>\n",
       "    </tr>\n",
       "    <tr>\n",
       "      <th>10</th>\n",
       "      <td>88</td>\n",
       "      <td>751</td>\n",
       "      <td>5511</td>\n",
       "      <td>1419</td>\n",
       "      <td>279</td>\n",
       "      <td>32</td>\n",
       "      <td>172</td>\n",
       "      <td>503</td>\n",
       "      <td>1233</td>\n",
       "      <td>101</td>\n",
       "      <td>733</td>\n",
       "      <td>680</td>\n",
       "      <td>4.24</td>\n",
       "      <td>5</td>\n",
       "      <td>9</td>\n",
       "      <td>45</td>\n",
       "      <td>119</td>\n",
       "    </tr>\n",
       "    <tr>\n",
       "      <th>11</th>\n",
       "      <td>86</td>\n",
       "      <td>729</td>\n",
       "      <td>5459</td>\n",
       "      <td>1363</td>\n",
       "      <td>278</td>\n",
       "      <td>26</td>\n",
       "      <td>230</td>\n",
       "      <td>486</td>\n",
       "      <td>1392</td>\n",
       "      <td>121</td>\n",
       "      <td>618</td>\n",
       "      <td>572</td>\n",
       "      <td>3.57</td>\n",
       "      <td>5</td>\n",
       "      <td>13</td>\n",
       "      <td>39</td>\n",
       "      <td>85</td>\n",
       "    </tr>\n",
       "    <tr>\n",
       "      <th>12</th>\n",
       "      <td>85</td>\n",
       "      <td>661</td>\n",
       "      <td>5417</td>\n",
       "      <td>1331</td>\n",
       "      <td>243</td>\n",
       "      <td>21</td>\n",
       "      <td>176</td>\n",
       "      <td>435</td>\n",
       "      <td>1150</td>\n",
       "      <td>52</td>\n",
       "      <td>675</td>\n",
       "      <td>630</td>\n",
       "      <td>3.94</td>\n",
       "      <td>2</td>\n",
       "      <td>12</td>\n",
       "      <td>46</td>\n",
       "      <td>93</td>\n",
       "    </tr>\n",
       "    <tr>\n",
       "      <th>13</th>\n",
       "      <td>76</td>\n",
       "      <td>656</td>\n",
       "      <td>5544</td>\n",
       "      <td>1379</td>\n",
       "      <td>262</td>\n",
       "      <td>22</td>\n",
       "      <td>198</td>\n",
       "      <td>478</td>\n",
       "      <td>1336</td>\n",
       "      <td>69</td>\n",
       "      <td>726</td>\n",
       "      <td>677</td>\n",
       "      <td>4.16</td>\n",
       "      <td>6</td>\n",
       "      <td>12</td>\n",
       "      <td>45</td>\n",
       "      <td>94</td>\n",
       "    </tr>\n",
       "    <tr>\n",
       "      <th>14</th>\n",
       "      <td>68</td>\n",
       "      <td>694</td>\n",
       "      <td>5600</td>\n",
       "      <td>1405</td>\n",
       "      <td>277</td>\n",
       "      <td>46</td>\n",
       "      <td>146</td>\n",
       "      <td>475</td>\n",
       "      <td>1119</td>\n",
       "      <td>78</td>\n",
       "      <td>729</td>\n",
       "      <td>664</td>\n",
       "      <td>4.14</td>\n",
       "      <td>5</td>\n",
       "      <td>15</td>\n",
       "      <td>28</td>\n",
       "      <td>126</td>\n",
       "    </tr>\n",
       "    <tr>\n",
       "      <th>15</th>\n",
       "      <td>100</td>\n",
       "      <td>647</td>\n",
       "      <td>5484</td>\n",
       "      <td>1386</td>\n",
       "      <td>288</td>\n",
       "      <td>39</td>\n",
       "      <td>137</td>\n",
       "      <td>506</td>\n",
       "      <td>1267</td>\n",
       "      <td>69</td>\n",
       "      <td>525</td>\n",
       "      <td>478</td>\n",
       "      <td>2.94</td>\n",
       "      <td>1</td>\n",
       "      <td>15</td>\n",
       "      <td>62</td>\n",
       "      <td>96</td>\n",
       "    </tr>\n",
       "    <tr>\n",
       "      <th>16</th>\n",
       "      <td>98</td>\n",
       "      <td>697</td>\n",
       "      <td>5631</td>\n",
       "      <td>1462</td>\n",
       "      <td>292</td>\n",
       "      <td>27</td>\n",
       "      <td>140</td>\n",
       "      <td>461</td>\n",
       "      <td>1322</td>\n",
       "      <td>98</td>\n",
       "      <td>596</td>\n",
       "      <td>532</td>\n",
       "      <td>3.21</td>\n",
       "      <td>0</td>\n",
       "      <td>13</td>\n",
       "      <td>54</td>\n",
       "      <td>122</td>\n",
       "    </tr>\n",
       "    <tr>\n",
       "      <th>17</th>\n",
       "      <td>97</td>\n",
       "      <td>689</td>\n",
       "      <td>5491</td>\n",
       "      <td>1341</td>\n",
       "      <td>272</td>\n",
       "      <td>30</td>\n",
       "      <td>171</td>\n",
       "      <td>567</td>\n",
       "      <td>1518</td>\n",
       "      <td>95</td>\n",
       "      <td>608</td>\n",
       "      <td>546</td>\n",
       "      <td>3.36</td>\n",
       "      <td>6</td>\n",
       "      <td>21</td>\n",
       "      <td>48</td>\n",
       "      <td>111</td>\n",
       "    </tr>\n",
       "    <tr>\n",
       "      <th>18</th>\n",
       "      <td>68</td>\n",
       "      <td>655</td>\n",
       "      <td>5480</td>\n",
       "      <td>1378</td>\n",
       "      <td>274</td>\n",
       "      <td>34</td>\n",
       "      <td>145</td>\n",
       "      <td>412</td>\n",
       "      <td>1299</td>\n",
       "      <td>84</td>\n",
       "      <td>737</td>\n",
       "      <td>682</td>\n",
       "      <td>4.28</td>\n",
       "      <td>1</td>\n",
       "      <td>7</td>\n",
       "      <td>40</td>\n",
       "      <td>116</td>\n",
       "    </tr>\n",
       "    <tr>\n",
       "      <th>19</th>\n",
       "      <td>64</td>\n",
       "      <td>640</td>\n",
       "      <td>5571</td>\n",
       "      <td>1382</td>\n",
       "      <td>257</td>\n",
       "      <td>27</td>\n",
       "      <td>167</td>\n",
       "      <td>496</td>\n",
       "      <td>1255</td>\n",
       "      <td>134</td>\n",
       "      <td>754</td>\n",
       "      <td>700</td>\n",
       "      <td>4.33</td>\n",
       "      <td>2</td>\n",
       "      <td>8</td>\n",
       "      <td>35</td>\n",
       "      <td>90</td>\n",
       "    </tr>\n",
       "    <tr>\n",
       "      <th>20</th>\n",
       "      <td>90</td>\n",
       "      <td>683</td>\n",
       "      <td>5527</td>\n",
       "      <td>1351</td>\n",
       "      <td>295</td>\n",
       "      <td>17</td>\n",
       "      <td>177</td>\n",
       "      <td>488</td>\n",
       "      <td>1290</td>\n",
       "      <td>51</td>\n",
       "      <td>613</td>\n",
       "      <td>557</td>\n",
       "      <td>3.43</td>\n",
       "      <td>1</td>\n",
       "      <td>14</td>\n",
       "      <td>50</td>\n",
       "      <td>88</td>\n",
       "    </tr>\n",
       "    <tr>\n",
       "      <th>21</th>\n",
       "      <td>83</td>\n",
       "      <td>703</td>\n",
       "      <td>5428</td>\n",
       "      <td>1363</td>\n",
       "      <td>265</td>\n",
       "      <td>13</td>\n",
       "      <td>177</td>\n",
       "      <td>539</td>\n",
       "      <td>1344</td>\n",
       "      <td>57</td>\n",
       "      <td>635</td>\n",
       "      <td>577</td>\n",
       "      <td>3.62</td>\n",
       "      <td>4</td>\n",
       "      <td>13</td>\n",
       "      <td>41</td>\n",
       "      <td>90</td>\n",
       "    </tr>\n",
       "    <tr>\n",
       "      <th>22</th>\n",
       "      <td>71</td>\n",
       "      <td>613</td>\n",
       "      <td>5463</td>\n",
       "      <td>1420</td>\n",
       "      <td>236</td>\n",
       "      <td>40</td>\n",
       "      <td>120</td>\n",
       "      <td>375</td>\n",
       "      <td>1150</td>\n",
       "      <td>112</td>\n",
       "      <td>678</td>\n",
       "      <td>638</td>\n",
       "      <td>4.02</td>\n",
       "      <td>0</td>\n",
       "      <td>12</td>\n",
       "      <td>35</td>\n",
       "      <td>77</td>\n",
       "    </tr>\n",
       "    <tr>\n",
       "      <th>23</th>\n",
       "      <td>67</td>\n",
       "      <td>573</td>\n",
       "      <td>5420</td>\n",
       "      <td>1361</td>\n",
       "      <td>251</td>\n",
       "      <td>18</td>\n",
       "      <td>100</td>\n",
       "      <td>471</td>\n",
       "      <td>1107</td>\n",
       "      <td>69</td>\n",
       "      <td>760</td>\n",
       "      <td>698</td>\n",
       "      <td>4.41</td>\n",
       "      <td>3</td>\n",
       "      <td>10</td>\n",
       "      <td>44</td>\n",
       "      <td>90</td>\n",
       "    </tr>\n",
       "    <tr>\n",
       "      <th>24</th>\n",
       "      <td>63</td>\n",
       "      <td>626</td>\n",
       "      <td>5529</td>\n",
       "      <td>1374</td>\n",
       "      <td>272</td>\n",
       "      <td>37</td>\n",
       "      <td>130</td>\n",
       "      <td>387</td>\n",
       "      <td>1274</td>\n",
       "      <td>88</td>\n",
       "      <td>809</td>\n",
       "      <td>749</td>\n",
       "      <td>4.69</td>\n",
       "      <td>1</td>\n",
       "      <td>7</td>\n",
       "      <td>35</td>\n",
       "      <td>117</td>\n",
       "    </tr>\n",
       "    <tr>\n",
       "      <th>25</th>\n",
       "      <td>92</td>\n",
       "      <td>667</td>\n",
       "      <td>5385</td>\n",
       "      <td>1346</td>\n",
       "      <td>263</td>\n",
       "      <td>26</td>\n",
       "      <td>187</td>\n",
       "      <td>563</td>\n",
       "      <td>1258</td>\n",
       "      <td>59</td>\n",
       "      <td>595</td>\n",
       "      <td>553</td>\n",
       "      <td>3.44</td>\n",
       "      <td>6</td>\n",
       "      <td>21</td>\n",
       "      <td>47</td>\n",
       "      <td>75</td>\n",
       "    </tr>\n",
       "    <tr>\n",
       "      <th>26</th>\n",
       "      <td>84</td>\n",
       "      <td>696</td>\n",
       "      <td>5565</td>\n",
       "      <td>1486</td>\n",
       "      <td>288</td>\n",
       "      <td>39</td>\n",
       "      <td>136</td>\n",
       "      <td>457</td>\n",
       "      <td>1159</td>\n",
       "      <td>93</td>\n",
       "      <td>627</td>\n",
       "      <td>597</td>\n",
       "      <td>3.72</td>\n",
       "      <td>7</td>\n",
       "      <td>18</td>\n",
       "      <td>41</td>\n",
       "      <td>78</td>\n",
       "    </tr>\n",
       "    <tr>\n",
       "      <th>27</th>\n",
       "      <td>79</td>\n",
       "      <td>720</td>\n",
       "      <td>5649</td>\n",
       "      <td>1494</td>\n",
       "      <td>289</td>\n",
       "      <td>48</td>\n",
       "      <td>154</td>\n",
       "      <td>490</td>\n",
       "      <td>1312</td>\n",
       "      <td>132</td>\n",
       "      <td>713</td>\n",
       "      <td>659</td>\n",
       "      <td>4.04</td>\n",
       "      <td>1</td>\n",
       "      <td>12</td>\n",
       "      <td>44</td>\n",
       "      <td>86</td>\n",
       "    </tr>\n",
       "    <tr>\n",
       "      <th>28</th>\n",
       "      <td>74</td>\n",
       "      <td>650</td>\n",
       "      <td>5457</td>\n",
       "      <td>1324</td>\n",
       "      <td>260</td>\n",
       "      <td>36</td>\n",
       "      <td>148</td>\n",
       "      <td>426</td>\n",
       "      <td>1327</td>\n",
       "      <td>82</td>\n",
       "      <td>731</td>\n",
       "      <td>655</td>\n",
       "      <td>4.09</td>\n",
       "      <td>1</td>\n",
       "      <td>6</td>\n",
       "      <td>41</td>\n",
       "      <td>92</td>\n",
       "    </tr>\n",
       "    <tr>\n",
       "      <th>29</th>\n",
       "      <td>68</td>\n",
       "      <td>737</td>\n",
       "      <td>5572</td>\n",
       "      <td>1479</td>\n",
       "      <td>274</td>\n",
       "      <td>49</td>\n",
       "      <td>186</td>\n",
       "      <td>388</td>\n",
       "      <td>1283</td>\n",
       "      <td>97</td>\n",
       "      <td>844</td>\n",
       "      <td>799</td>\n",
       "      <td>5.04</td>\n",
       "      <td>4</td>\n",
       "      <td>4</td>\n",
       "      <td>36</td>\n",
       "      <td>95</td>\n",
       "    </tr>\n",
       "  </tbody>\n",
       "</table>\n",
       "</div>"
      ],
      "text/plain": [
       "      W    R    AB     H   2B  3B   HR   BB    SO   SB   RA   ER   ERA  CG  \\\n",
       "0    95  724  5575  1497  300  42  139  383   973  104  641  601  3.73   2   \n",
       "1    83  696  5467  1349  277  44  156  439  1264   70  700  653  4.07   2   \n",
       "2    81  669  5439  1395  303  29  141  533  1157   86  640  584  3.67  11   \n",
       "3    76  622  5533  1381  260  27  136  404  1231   68  701  643  3.98   7   \n",
       "4    74  689  5605  1515  289  49  151  455  1259   83  803  746  4.64   7   \n",
       "6    87  764  5567  1397  272  19  212  554  1227   63  698  652  4.03   3   \n",
       "7    81  713  5485  1370  246  20  217  418  1331   44  693  646  4.05   0   \n",
       "8    80  644  5485  1383  278  32  167  436  1310   87  642  604  3.74   1   \n",
       "9    78  748  5640  1495  294  33  161  478  1148   71  753  694  4.31   3   \n",
       "10   88  751  5511  1419  279  32  172  503  1233  101  733  680  4.24   5   \n",
       "11   86  729  5459  1363  278  26  230  486  1392  121  618  572  3.57   5   \n",
       "12   85  661  5417  1331  243  21  176  435  1150   52  675  630  3.94   2   \n",
       "13   76  656  5544  1379  262  22  198  478  1336   69  726  677  4.16   6   \n",
       "14   68  694  5600  1405  277  46  146  475  1119   78  729  664  4.14   5   \n",
       "15  100  647  5484  1386  288  39  137  506  1267   69  525  478  2.94   1   \n",
       "16   98  697  5631  1462  292  27  140  461  1322   98  596  532  3.21   0   \n",
       "17   97  689  5491  1341  272  30  171  567  1518   95  608  546  3.36   6   \n",
       "18   68  655  5480  1378  274  34  145  412  1299   84  737  682  4.28   1   \n",
       "19   64  640  5571  1382  257  27  167  496  1255  134  754  700  4.33   2   \n",
       "20   90  683  5527  1351  295  17  177  488  1290   51  613  557  3.43   1   \n",
       "21   83  703  5428  1363  265  13  177  539  1344   57  635  577  3.62   4   \n",
       "22   71  613  5463  1420  236  40  120  375  1150  112  678  638  4.02   0   \n",
       "23   67  573  5420  1361  251  18  100  471  1107   69  760  698  4.41   3   \n",
       "24   63  626  5529  1374  272  37  130  387  1274   88  809  749  4.69   1   \n",
       "25   92  667  5385  1346  263  26  187  563  1258   59  595  553  3.44   6   \n",
       "26   84  696  5565  1486  288  39  136  457  1159   93  627  597  3.72   7   \n",
       "27   79  720  5649  1494  289  48  154  490  1312  132  713  659  4.04   1   \n",
       "28   74  650  5457  1324  260  36  148  426  1327   82  731  655  4.09   1   \n",
       "29   68  737  5572  1479  274  49  186  388  1283   97  844  799  5.04   4   \n",
       "\n",
       "    SHO  SV    E  \n",
       "0     8  56   88  \n",
       "1    12  45   86  \n",
       "2    10  38   79  \n",
       "3     9  37  101  \n",
       "4    12  35   86  \n",
       "6     4  48   93  \n",
       "7    10  43   77  \n",
       "8    12  60   95  \n",
       "9    10  40   97  \n",
       "10    9  45  119  \n",
       "11   13  39   85  \n",
       "12   12  46   93  \n",
       "13   12  45   94  \n",
       "14   15  28  126  \n",
       "15   15  62   96  \n",
       "16   13  54  122  \n",
       "17   21  48  111  \n",
       "18    7  40  116  \n",
       "19    8  35   90  \n",
       "20   14  50   88  \n",
       "21   13  41   90  \n",
       "22   12  35   77  \n",
       "23   10  44   90  \n",
       "24    7  35  117  \n",
       "25   21  47   75  \n",
       "26   18  41   78  \n",
       "27   12  44   86  \n",
       "28    6  41   92  \n",
       "29    4  36   95  "
      ]
     },
     "execution_count": 241,
     "metadata": {},
     "output_type": "execute_result"
    }
   ],
   "source": [
    "df_new = df[(z<3).all(axis = 1)]\n",
    "df_new"
   ]
  },
  {
   "cell_type": "code",
   "execution_count": 242,
   "id": "ff7f084a",
   "metadata": {},
   "outputs": [
    {
     "data": {
      "text/plain": [
       "(29, 17)"
      ]
     },
     "execution_count": 242,
     "metadata": {},
     "output_type": "execute_result"
    }
   ],
   "source": [
    "df_new.shape"
   ]
  },
  {
   "cell_type": "code",
   "execution_count": 243,
   "id": "5804c442",
   "metadata": {},
   "outputs": [],
   "source": [
    "x = df.drop(\"W\", axis = 1)\n",
    "y = df[\"W\"]"
   ]
  },
  {
   "cell_type": "code",
   "execution_count": 244,
   "id": "63fee274",
   "metadata": {},
   "outputs": [
    {
     "data": {
      "text/plain": [
       "array([[ 0.61907797,  0.84773126,  1.66368512,  1.42017307,  1.04119304,\n",
       "        -0.7872986 , -1.53490242, -2.69762957,  0.91388329, -0.66623393,\n",
       "        -0.50511008, -0.50695519, -0.5398062 , -0.81462859,  1.67160651,\n",
       "        -0.46146963],\n",
       "       [ 0.13443166, -0.71109353, -0.97068076,  0.12740339,  1.23580856,\n",
       "        -0.24396668, -0.5365919 ,  0.15487844, -0.60182558,  0.16597077,\n",
       "         0.24892985,  0.25459752, -0.5398062 ,  0.1728    ,  0.24987932,\n",
       "        -0.60719689],\n",
       "       [-0.33290586, -1.1152333 , -0.15189137,  1.58879521, -0.22380785,\n",
       "        -0.7233772 ,  1.13914361, -0.89398189,  0.11144918, -0.68033909,\n",
       "        -0.75162313, -0.64134684,  2.77264091, -0.32091429, -0.65485616,\n",
       "        -1.11724227],\n",
       "       [-1.14641931,  0.24152162, -0.40108814, -0.82812203, -0.41842337,\n",
       "        -0.8831807 , -1.16053598, -0.16860185, -0.69098493,  0.18007593,\n",
       "         0.10392217,  0.05301004,  1.3004422 , -0.56777144, -0.78410408,\n",
       "         0.48575751],\n",
       "       [ 0.01327008,  1.28073815,  1.98408098,  0.80189192,  1.72234737,\n",
       "        -0.40377019, -0.25136033,  0.10586628, -0.02228984,  1.61880269,\n",
       "         1.59750126,  1.53131824,  1.3004422 ,  0.1728    , -1.04259994,\n",
       "        -0.60719689],\n",
       "       [ 3.50964704, -0.10488389,  1.36108904,  1.86983209, -1.39150098,\n",
       "         2.18504658,  1.79874163, -0.95279649,  0.20060853, -0.25718416,\n",
       "        -0.38910394, -0.35016492,  1.3004422 , -0.32091429, -1.17184786,\n",
       "        -0.46146963],\n",
       "       [ 1.31142984,  0.73226276, -0.11629183, -0.1536335 , -1.19688546,\n",
       "         1.54583256,  1.51351006, -0.20781158, -0.91388329,  0.13776044,\n",
       "         0.23442908,  0.16500309, -0.17175652, -1.80205719,  0.6376231 ,\n",
       "        -0.0971515 ],\n",
       "       [ 0.4286812 , -0.4512894 , -0.5968856 , -1.61502532, -1.0995777 ,\n",
       "         1.70563607, -0.91095835,  0.81164146, -1.76089707,  0.06723462,\n",
       "         0.14742447,  0.20980031, -1.27590555, -0.32091429, -0.00861653,\n",
       "        -1.26296953],\n",
       "       [-0.76562578, -0.4512894 , -0.3654886 ,  0.18361077,  0.06811543,\n",
       "         0.10760103, -0.59007283,  0.60579036,  0.15602885, -0.65212876,\n",
       "        -0.46160778, -0.48455658, -0.90785587,  0.1728    ,  2.18859821,\n",
       "         0.04857575],\n",
       "       [ 1.03448909,  1.78591286,  1.62808558,  1.08292881,  0.16542319,\n",
       "        -0.08416318,  0.15866006, -0.98220379, -0.55724591,  0.91354447,\n",
       "         0.84346133,  0.79216414, -0.17175652, -0.32091429, -0.39636031,\n",
       "         0.194303  ],\n",
       "       [ 1.08641548, -0.07601676,  0.2753031 ,  0.23981814,  0.06811543,\n",
       "         0.26740453,  0.6043344 , -0.14899698,  0.78014427,  0.63144119,\n",
       "         0.64045058,  0.63537388,  0.56434284, -0.56777144,  0.24987932,\n",
       "         1.79730279],\n",
       "       [ 0.70562195, -0.82656204, -0.72148399,  0.18361077, -0.51573113,\n",
       "         2.12112518,  0.30127585,  1.40958987,  1.67173773, -0.99065271,\n",
       "        -0.92563235, -0.86533293,  0.56434284,  0.41965715, -0.52560823,\n",
       "        -0.68006051],\n",
       "       [-0.47137623, -1.43277168, -1.29107662, -1.78364745, -1.00226994,\n",
       "         0.39524733, -0.6078998 , -0.96259892, -1.40425969, -0.18665834,\n",
       "        -0.08458781, -0.03658439, -0.5398062 ,  0.1728    ,  0.37912725,\n",
       "        -0.0971515 ],\n",
       "       [-0.55792022,  0.40029081, -0.43668768, -0.71570727, -0.90496218,\n",
       "         1.09838275,  0.15866006,  0.86065362, -0.64640525,  0.53270504,\n",
       "         0.59694828,  0.45618501,  0.93239252,  0.1728    ,  0.24987932,\n",
       "        -0.02428788],\n",
       "       [ 0.09981406,  1.20857034,  0.02610633,  0.12740339,  1.43042408,\n",
       "        -0.56357369,  0.10517914, -1.26647435, -0.2451882 ,  0.57502053,\n",
       "         0.40843829,  0.41138779,  0.56434284,  0.91337145, -1.94733542,\n",
       "         2.30734817],\n",
       "       [-0.71369939, -0.46572296, -0.31208929,  0.74568454,  0.74926976,\n",
       "        -0.85122   ,  0.65781532,  0.18428574, -0.64640525, -2.30243298,\n",
       "        -2.28870452, -2.2764453 , -0.90785587,  0.91337145,  2.44709406,\n",
       "         0.12143938],\n",
       "       [ 0.15174045,  1.65601079,  1.04069319,  0.97051405, -0.41842337,\n",
       "        -0.7553379 , -0.14439849,  0.72341956,  0.64640525, -1.30096632,\n",
       "        -1.50566306, -1.67168286, -1.27590555,  0.41965715,  1.41311066,\n",
       "         2.01589367],\n",
       "       [ 0.01327008, -0.36468802, -1.11307892, -0.1536335 , -0.12650009,\n",
       "         0.23544383,  1.74526071,  2.64469643,  0.51266624, -1.13170435,\n",
       "        -1.30265231, -1.33570372,  0.93239252,  2.39451435,  0.6376231 ,\n",
       "         1.21439378],\n",
       "       [-0.57522902, -0.52345722, -0.45448745, -0.04121874,  0.26273095,\n",
       "        -0.59553439, -1.01792019,  0.4979636 ,  0.02228984,  0.68786185,\n",
       "         0.66945211,  0.72496831, -0.90785587, -1.06148574, -0.39636031,\n",
       "         1.57871191],\n",
       "       [-0.83486097,  0.78999701, -0.38328837, -0.99674416, -0.41842337,\n",
       "         0.10760103,  0.47954559,  0.06665654,  2.25127347,  0.92764964,\n",
       "         0.93046594,  0.83696136, -0.5398062 , -0.81462859, -1.04259994,\n",
       "        -0.31574238],\n",
       "       [-0.0905827 ,  0.15492024, -0.93508123,  1.13913619, -1.39150098,\n",
       "         0.42720803,  0.3369298 ,  0.4097417 , -1.44883936, -1.06117853,\n",
       "        -1.14314386, -1.17891346, -0.90785587,  0.6665143 ,  0.89611895,\n",
       "        -0.46146963],\n",
       "       [ 0.25559323, -1.27400249, -0.72148399, -0.54708514, -1.78073202,\n",
       "         0.42720803,  1.24610545,  0.93907309, -1.18136133, -0.75086491,\n",
       "        -0.85312851, -0.75333989,  0.19629316,  0.41965715, -0.26711238,\n",
       "        -0.31574238],\n",
       "       [-1.30219848, -0.76882779,  0.29310287, -2.17709909,  0.84657752,\n",
       "        -1.39455191, -1.67751821, -0.96259892,  1.27052067, -0.14434285,\n",
       "         0.03141833,  0.14260448, -1.27590555,  0.1728    , -1.04259994,\n",
       "        -1.26296953],\n",
       "       [-1.99455036, -1.38947099, -0.75708353, -1.33398843, -1.29419322,\n",
       "        -2.03376593,  0.03387125, -1.38410355, -0.64640525,  1.01228062,\n",
       "         0.9014644 ,  1.01615023, -0.17175652, -0.32091429,  0.1206314 ,\n",
       "        -0.31574238],\n",
       "       [-1.07718413,  0.18378737, -0.52568653, -0.1536335 ,  0.55465424,\n",
       "        -1.07494491, -1.46359453,  0.25290277,  0.20060853,  1.70343367,\n",
       "         1.64100356,  1.64331129, -0.90785587, -1.06148574, -1.04259994,\n",
       "         1.65157553],\n",
       "       [-0.36752345, -1.8946457 , -1.02408007, -0.6594999 , -0.51573113,\n",
       "         0.74681504,  1.67395282,  0.09606384, -1.09220198, -1.31507148,\n",
       "        -1.20114693, -1.15651485,  0.93239252,  2.39451435,  0.50837518,\n",
       "        -1.40869678],\n",
       "       [ 0.13443166,  0.70339563,  1.46788766,  0.74568454,  0.74926976,\n",
       "        -0.8831807 , -0.21570638, -0.87437703,  0.42350689, -0.86370623,\n",
       "        -0.56311315, -0.52935379,  1.3004422 ,  1.6539429 , -0.26711238,\n",
       "        -1.1901059 ],\n",
       "       [ 0.54984278,  1.91581492,  1.61028582,  0.80189192,  1.6250396 ,\n",
       "        -0.30788808,  0.37258375,  0.62539523,  2.16211413,  0.3493379 ,\n",
       "         0.33593445,  0.1874017 , -0.90785587,  0.1728    ,  0.1206314 ,\n",
       "        -0.60719689],\n",
       "       [-0.661773  , -0.85542916, -1.415675  , -0.82812203,  0.45734648,\n",
       "        -0.49965229, -0.76834256,  0.77243172, -0.06686951,  0.60323086,\n",
       "         0.27793138,  0.29939474, -0.90785587, -1.30834289, -0.26711238,\n",
       "        -0.17001513],\n",
       "       [ 0.84409233,  0.80443057,  1.34328927, -0.04121874,  1.72234737,\n",
       "         0.71485434, -1.44576756,  0.34112467,  0.60182558,  2.19711442,\n",
       "         2.36604195,  2.42726261,  0.19629316, -1.80205719, -0.91335201,\n",
       "         0.04857575]])"
      ]
     },
     "execution_count": 244,
     "metadata": {},
     "output_type": "execute_result"
    }
   ],
   "source": [
    "from sklearn.preprocessing import StandardScaler\n",
    "sc = StandardScaler()\n",
    "x = sc.fit_transform(x)\n",
    "x"
   ]
  },
  {
   "cell_type": "markdown",
   "id": "1598df59",
   "metadata": {},
   "source": [
    "# Model Building"
   ]
  },
  {
   "cell_type": "code",
   "execution_count": 245,
   "id": "098da27d",
   "metadata": {},
   "outputs": [],
   "source": [
    "from sklearn.model_selection import train_test_split\n",
    "from sklearn.linear_model import LinearRegression\n",
    "lr = LinearRegression()\n",
    "from sklearn.metrics import r2_score,mean_squared_error,mean_absolute_error\n",
    "import math"
   ]
  },
  {
   "cell_type": "markdown",
   "id": "db17e596",
   "metadata": {},
   "source": [
    "Calculating best value for Random State for this model"
   ]
  },
  {
   "cell_type": "code",
   "execution_count": 246,
   "id": "48831ffb",
   "metadata": {},
   "outputs": [
    {
     "name": "stdout",
     "output_type": "stream",
     "text": [
      "score 0.6629341689506446 random state 0\n",
      "score 0.7517105066858121 random state 5\n",
      "score 0.8376419521868405 random state 6\n",
      "score 0.8381134193356252 random state 19\n",
      "score 0.879050722953303 random state 29\n",
      "score 0.8804448045510335 random state 99\n",
      "score 0.899817977435213 random state 137\n",
      "score 0.9343338116280447 random state 165\n"
     ]
    }
   ],
   "source": [
    "maxr2 = 0\n",
    "maxrs = 0\n",
    "\n",
    "for i in range(0,200):\n",
    "    x_train, x_test, y_train, y_test = train_test_split(x, y, test_size = 0.20, random_state = i)\n",
    "    lr.fit(x_train,y_train)\n",
    "    pred_train = lr.predict(x_train)\n",
    "    pred_test = lr.predict(x_test)\n",
    "    r2score = r2_score(y_test,pred_test)\n",
    "    \n",
    "    if r2score>maxr2:\n",
    "        maxr2 = r2score\n",
    "        maxrs = i\n",
    "        print('score',r2score,'random state',i)\n",
    "    "
   ]
  },
  {
   "cell_type": "code",
   "execution_count": null,
   "id": "ae3f2865",
   "metadata": {},
   "outputs": [],
   "source": [
    "# LogisticRegression( Checking Mean Squared Error,Mean abloslute Error,RMSE and R2_Score)"
   ]
  },
  {
   "cell_type": "code",
   "execution_count": 247,
   "id": "327b68a6",
   "metadata": {},
   "outputs": [],
   "source": [
    " x_train, x_test, y_train, y_test = train_test_split(x, y, test_size = 0.20, random_state = 165)"
   ]
  },
  {
   "cell_type": "code",
   "execution_count": 248,
   "id": "e1dc2926",
   "metadata": {},
   "outputs": [
    {
     "data": {
      "text/plain": [
       "LinearRegression()"
      ]
     },
     "execution_count": 248,
     "metadata": {},
     "output_type": "execute_result"
    }
   ],
   "source": [
    "lr.fit(x_train,y_train)"
   ]
  },
  {
   "cell_type": "code",
   "execution_count": 249,
   "id": "5811dbbf",
   "metadata": {},
   "outputs": [],
   "source": [
    "pred_train = lr.predict(x_train)"
   ]
  },
  {
   "cell_type": "code",
   "execution_count": 250,
   "id": "082c2527",
   "metadata": {},
   "outputs": [],
   "source": [
    "pred_test = lr.predict(x_test)"
   ]
  },
  {
   "cell_type": "code",
   "execution_count": 251,
   "id": "80b3cf07",
   "metadata": {},
   "outputs": [
    {
     "data": {
      "text/plain": [
       "9.662049994617975"
      ]
     },
     "execution_count": 251,
     "metadata": {},
     "output_type": "execute_result"
    }
   ],
   "source": [
    "mean_squared_error(y_test,pred_test)"
   ]
  },
  {
   "cell_type": "code",
   "execution_count": 252,
   "id": "f31e2e28",
   "metadata": {},
   "outputs": [
    {
     "data": {
      "text/plain": [
       "2.4037482558797962"
      ]
     },
     "execution_count": 252,
     "metadata": {},
     "output_type": "execute_result"
    }
   ],
   "source": [
    "mean_absolute_error(y_test,pred_test)"
   ]
  },
  {
   "cell_type": "code",
   "execution_count": 253,
   "id": "7cd9ec2a",
   "metadata": {},
   "outputs": [
    {
     "data": {
      "text/plain": [
       "3.1083838235678"
      ]
     },
     "execution_count": 253,
     "metadata": {},
     "output_type": "execute_result"
    }
   ],
   "source": [
    "rmse = np.sqrt(mean_squared_error(y_test,pred_test))\n",
    "rmse"
   ]
  },
  {
   "cell_type": "code",
   "execution_count": 254,
   "id": "43755215",
   "metadata": {},
   "outputs": [
    {
     "data": {
      "text/plain": [
       "93.43338116280448"
      ]
     },
     "execution_count": 254,
     "metadata": {},
     "output_type": "execute_result"
    }
   ],
   "source": [
    "r2_score(y_test,pred_test)*100"
   ]
  },
  {
   "cell_type": "code",
   "execution_count": 255,
   "id": "d2af62be",
   "metadata": {},
   "outputs": [],
   "source": [
    " # RandomForestRegressor( Checking Mean Squared Error,Mean abloslute Error,RMSE and R2_Score)"
   ]
  },
  {
   "cell_type": "code",
   "execution_count": 256,
   "id": "3693d24b",
   "metadata": {},
   "outputs": [
    {
     "data": {
      "text/plain": [
       "RandomForestRegressor()"
      ]
     },
     "execution_count": 256,
     "metadata": {},
     "output_type": "execute_result"
    }
   ],
   "source": [
    "from sklearn.ensemble import  RandomForestRegressor\n",
    "rf = RandomForestRegressor()\n",
    "rf.fit(x_train,y_train)"
   ]
  },
  {
   "cell_type": "code",
   "execution_count": 257,
   "id": "8bba437c",
   "metadata": {},
   "outputs": [
    {
     "name": "stdout",
     "output_type": "stream",
     "text": [
      "Mean Squared Error: 61.667516666666664\n",
      "Mean abloslute Error: 6.585000000000001\n",
      "RMSE: 7.852866780142565\n",
      "R2_Score: 58.08890692845008\n"
     ]
    }
   ],
   "source": [
    "pred_train = rf.predict(x_train)\n",
    "pred_test = rf.predict(x_test)\n",
    "print('Mean Squared Error:',mean_squared_error(y_test,pred_test))\n",
    "print('Mean abloslute Error:',mean_absolute_error(y_test,pred_test))\n",
    "print('RMSE:',np.sqrt(mean_squared_error(y_test,pred_test)))\n",
    "print('R2_Score:',r2_score(y_test,pred_test)*100)"
   ]
  },
  {
   "cell_type": "code",
   "execution_count": 258,
   "id": "ed2c47b7",
   "metadata": {},
   "outputs": [],
   "source": [
    "# KNeighborsRegressor( Checking Mean Squared Error,Mean abloslute Error,RMSE and R2_Score)"
   ]
  },
  {
   "cell_type": "code",
   "execution_count": 259,
   "id": "187aed1c",
   "metadata": {},
   "outputs": [
    {
     "data": {
      "text/plain": [
       "KNeighborsRegressor()"
      ]
     },
     "execution_count": 259,
     "metadata": {},
     "output_type": "execute_result"
    }
   ],
   "source": [
    "from sklearn.neighbors import KNeighborsRegressor\n",
    "kn = KNeighborsRegressor()\n",
    "kn.fit(x_train,y_train)"
   ]
  },
  {
   "cell_type": "code",
   "execution_count": 260,
   "id": "df10c9fe",
   "metadata": {},
   "outputs": [
    {
     "name": "stdout",
     "output_type": "stream",
     "text": [
      "Mean Squared Error: 74.51333333333335\n",
      "Mean abloslute Error: 7.900000000000001\n",
      "RMSE: 8.632110595522589\n",
      "R2_Score: 49.35850481404568\n"
     ]
    }
   ],
   "source": [
    "pred_train = kn.predict(x_train)\n",
    "pred_test = kn.predict(x_test)\n",
    "print('Mean Squared Error:',mean_squared_error(y_test,pred_test))\n",
    "print('Mean abloslute Error:',mean_absolute_error(y_test,pred_test))\n",
    "print('RMSE:',np.sqrt(mean_squared_error(y_test,pred_test)))\n",
    "print('R2_Score:',r2_score(y_test,pred_test)*100)"
   ]
  },
  {
   "cell_type": "code",
   "execution_count": 261,
   "id": "d35fabb9",
   "metadata": {},
   "outputs": [],
   "source": [
    "# GradientBoostingRegressor( Checking Mean Squared Error,Mean abloslute Error,RMSE and R2_Score)"
   ]
  },
  {
   "cell_type": "code",
   "execution_count": 262,
   "id": "4ffba77c",
   "metadata": {},
   "outputs": [
    {
     "data": {
      "text/plain": [
       "GradientBoostingRegressor()"
      ]
     },
     "execution_count": 262,
     "metadata": {},
     "output_type": "execute_result"
    }
   ],
   "source": [
    "from sklearn.ensemble import  GradientBoostingRegressor\n",
    "gbr = GradientBoostingRegressor()\n",
    "gbr.fit(x_train,y_train)"
   ]
  },
  {
   "cell_type": "code",
   "execution_count": 263,
   "id": "aa6d9882",
   "metadata": {},
   "outputs": [
    {
     "name": "stdout",
     "output_type": "stream",
     "text": [
      "Mean Squared Error: 69.13956374162088\n",
      "Mean abloslute Error: 7.781784141303234\n",
      "RMSE: 8.315020369284785\n",
      "R2_Score: 53.01067973006699\n"
     ]
    }
   ],
   "source": [
    "pred_train = gbr.predict(x_train)\n",
    "pred_test = gbr.predict(x_test)\n",
    "print('Mean Squared Error:',mean_squared_error(y_test,pred_test))\n",
    "print('Mean abloslute Error:',mean_absolute_error(y_test,pred_test))\n",
    "print('RMSE:',np.sqrt(mean_squared_error(y_test,pred_test)))\n",
    "print('R2_Score:',r2_score(y_test,pred_test)*100)"
   ]
  },
  {
   "cell_type": "code",
   "execution_count": 264,
   "id": "91183845",
   "metadata": {},
   "outputs": [],
   "source": [
    "# XGBRegressor( Checking Mean Squared Error,Mean abloslute Error,RMSE and R2_Score)"
   ]
  },
  {
   "cell_type": "code",
   "execution_count": 265,
   "id": "decc415b",
   "metadata": {},
   "outputs": [
    {
     "data": {
      "text/plain": [
       "XGBRegressor(base_score=0.5, booster='gbtree', colsample_bylevel=1,\n",
       "             colsample_bynode=1, colsample_bytree=1, enable_categorical=False,\n",
       "             gamma=0, gpu_id=-1, importance_type=None,\n",
       "             interaction_constraints='', learning_rate=0.300000012,\n",
       "             max_delta_step=0, max_depth=6, min_child_weight=1, missing=nan,\n",
       "             monotone_constraints='()', n_estimators=100, n_jobs=4,\n",
       "             num_parallel_tree=1, predictor='auto', random_state=0, reg_alpha=0,\n",
       "             reg_lambda=1, scale_pos_weight=1, subsample=1, tree_method='exact',\n",
       "             validate_parameters=1, verbosity=None)"
      ]
     },
     "execution_count": 265,
     "metadata": {},
     "output_type": "execute_result"
    }
   ],
   "source": [
    "from xgboost import XGBRegressor\n",
    "xgb = XGBRegressor()\n",
    "xgb.fit(x_train,y_train)"
   ]
  },
  {
   "cell_type": "code",
   "execution_count": 266,
   "id": "742e1aa4",
   "metadata": {},
   "outputs": [
    {
     "name": "stdout",
     "output_type": "stream",
     "text": [
      "Mean Squared Error: 15.40378926844763\n",
      "Mean abloslute Error: 3.000085194905599\n",
      "RMSE: 3.924766141880001\n",
      "R2_Score: 89.53112301936729\n"
     ]
    }
   ],
   "source": [
    "pred_train = xgb.predict(x_train)\n",
    "pred_test = xgb.predict(x_test)\n",
    "print('Mean Squared Error:',mean_squared_error(y_test,pred_test))\n",
    "print('Mean abloslute Error:',mean_absolute_error(y_test,pred_test))\n",
    "print('RMSE:',np.sqrt(mean_squared_error(y_test,pred_test)))\n",
    "print('R2_Score:',r2_score(y_test,pred_test)*100)"
   ]
  },
  {
   "cell_type": "markdown",
   "id": "bbfa90fe",
   "metadata": {},
   "source": [
    "# Cross-validation"
   ]
  },
  {
   "cell_type": "code",
   "execution_count": 267,
   "id": "da6dcd8e",
   "metadata": {},
   "outputs": [
    {
     "name": "stdout",
     "output_type": "stream",
     "text": [
      "-0.10494638178529048\n"
     ]
    }
   ],
   "source": [
    "from sklearn.model_selection import cross_val_score\n",
    "src = cross_val_score(xgb,x,y,cv = 7)\n",
    "print(src.mean())"
   ]
  },
  {
   "cell_type": "code",
   "execution_count": 268,
   "id": "63ffeee4",
   "metadata": {},
   "outputs": [
    {
     "name": "stdout",
     "output_type": "stream",
     "text": [
      "0.38908046442894645\n"
     ]
    }
   ],
   "source": [
    "src = cross_val_score(lr,x,y,cv = 7)\n",
    "print(src.mean())"
   ]
  },
  {
   "cell_type": "code",
   "execution_count": 270,
   "id": "58a8e2ff",
   "metadata": {},
   "outputs": [
    {
     "name": "stdout",
     "output_type": "stream",
     "text": [
      "-0.5572799231500988\n"
     ]
    }
   ],
   "source": [
    "src = cross_val_score(gbr,x,y,cv = 7)\n",
    "print(src.mean())"
   ]
  },
  {
   "cell_type": "code",
   "execution_count": 271,
   "id": "59593ba1",
   "metadata": {},
   "outputs": [
    {
     "name": "stdout",
     "output_type": "stream",
     "text": [
      "0.15711680139152542\n"
     ]
    }
   ],
   "source": [
    "src = cross_val_score(kn,x,y,cv = 7)\n",
    "print(src.mean())"
   ]
  },
  {
   "cell_type": "code",
   "execution_count": 272,
   "id": "d62a032f",
   "metadata": {},
   "outputs": [
    {
     "name": "stdout",
     "output_type": "stream",
     "text": [
      "0.021432522011788073\n"
     ]
    }
   ],
   "source": [
    "src = cross_val_score(rf,x,y,cv = 7)\n",
    "print(src.mean())"
   ]
  },
  {
   "cell_type": "markdown",
   "id": "b3838246",
   "metadata": {},
   "source": [
    "According to Cross validation score best R2_sore is of Logistic Regression"
   ]
  },
  {
   "cell_type": "markdown",
   "id": "edf2229f",
   "metadata": {},
   "source": [
    " Logistic Regression gives highest r2 score of 93%"
   ]
  },
  {
   "cell_type": "markdown",
   "id": "05865f6e",
   "metadata": {},
   "source": [
    "# Hyperparameter Tuning"
   ]
  },
  {
   "cell_type": "code",
   "execution_count": 304,
   "id": "b0f47b91",
   "metadata": {},
   "outputs": [],
   "source": [
    "from sklearn.model_selection import GridSearchCV"
   ]
  },
  {
   "cell_type": "code",
   "execution_count": 322,
   "id": "8621d835",
   "metadata": {},
   "outputs": [],
   "source": [
    "params = {'alpha': [0.0001, 0.001, 0.01, 0.05, 0.1, 0.2, 0.3, 0.4, 0.5, 0.6, 0.7, 0.8, 0.9, 1.0, 2.0, 3.0, 4.0, 5.0, 6.0, 7.0, 8.0, 9.0, \n",
    "                    10.0, 20, 50, 100, 500, 1000 ]}\n",
    "ridge = Ridge()\n",
    "folds = 5"
   ]
  },
  {
   "cell_type": "code",
   "execution_count": 323,
   "id": "ab29289f",
   "metadata": {},
   "outputs": [
    {
     "name": "stdout",
     "output_type": "stream",
     "text": [
      "Fitting 5 folds for each of 28 candidates, totalling 140 fits\n"
     ]
    },
    {
     "data": {
      "text/plain": [
       "GridSearchCV(cv=5, estimator=Ridge(),\n",
       "             param_grid={'alpha': [0.0001, 0.001, 0.01, 0.05, 0.1, 0.2, 0.3,\n",
       "                                   0.4, 0.5, 0.6, 0.7, 0.8, 0.9, 1.0, 2.0, 3.0,\n",
       "                                   4.0, 5.0, 6.0, 7.0, 8.0, 9.0, 10.0, 20, 50,\n",
       "                                   100, 500, 1000]},\n",
       "             return_train_score=True, scoring='neg_mean_absolute_error',\n",
       "             verbose=1)"
      ]
     },
     "execution_count": 323,
     "metadata": {},
     "output_type": "execute_result"
    }
   ],
   "source": [
    "grid_cv_model = GridSearchCV(estimator=ridge,\n",
    "                       param_grid=params,\n",
    "                       scoring='neg_mean_absolute_error',\n",
    "                       cv=folds,\n",
    "                       return_train_score=True,\n",
    "                       verbose=1)\n",
    "\n",
    "# fiting GridSearchCV() with X_train and y_train\n",
    "grid_cv_model.fit(x_train,y_train)"
   ]
  },
  {
   "cell_type": "code",
   "execution_count": 324,
   "id": "1a2320bf",
   "metadata": {},
   "outputs": [
    {
     "data": {
      "text/plain": [
       "Ridge(alpha=10.0)"
      ]
     },
     "execution_count": 324,
     "metadata": {},
     "output_type": "execute_result"
    }
   ],
   "source": [
    "grid_cv_model.best_estimator_"
   ]
  },
  {
   "cell_type": "code",
   "execution_count": 325,
   "id": "b90b7d85",
   "metadata": {},
   "outputs": [
    {
     "name": "stdout",
     "output_type": "stream",
     "text": [
      "0.9343338116280447\n"
     ]
    },
    {
     "name": "stderr",
     "output_type": "stream",
     "text": [
      "C:\\Users\\prath\\anaconda3\\lib\\site-packages\\sklearn\\utils\\validation.py:70: FutureWarning: Pass fit_intercept=Ridge(alpha=10.0) as keyword args. From version 1.0 (renaming of 0.25) passing these as positional arguments will result in an error\n",
      "  warnings.warn(f\"Pass {args_msg} as keyword args. From version \"\n"
     ]
    }
   ],
   "source": [
    "lr = LinearRegression(Ridge(alpha=10.0))\n",
    "lr.fit(x_train,y_train)\n",
    "y_pred = lr.predict(x_test)\n",
    "acc = r2_score(y_test,y_pred)\n",
    "print(acc)"
   ]
  },
  {
   "cell_type": "code",
   "execution_count": 329,
   "id": "3ed7283b",
   "metadata": {},
   "outputs": [
    {
     "name": "stdout",
     "output_type": "stream",
     "text": [
      "Fitting 5 folds for each of 28 candidates, totalling 140 fits\n"
     ]
    },
    {
     "name": "stderr",
     "output_type": "stream",
     "text": [
      "C:\\Users\\prath\\anaconda3\\lib\\site-packages\\sklearn\\linear_model\\_coordinate_descent.py:530: ConvergenceWarning: Objective did not converge. You might want to increase the number of iterations. Duality gap: 43.62233297796016, tolerance: 0.1951684210526316\n",
      "  model = cd_fast.enet_coordinate_descent(\n",
      "C:\\Users\\prath\\anaconda3\\lib\\site-packages\\sklearn\\linear_model\\_coordinate_descent.py:530: ConvergenceWarning: Objective did not converge. You might want to increase the number of iterations. Duality gap: 11.654997483254164, tolerance: 0.15071578947368422\n",
      "  model = cd_fast.enet_coordinate_descent(\n",
      "C:\\Users\\prath\\anaconda3\\lib\\site-packages\\sklearn\\linear_model\\_coordinate_descent.py:530: ConvergenceWarning: Objective did not converge. You might want to increase the number of iterations. Duality gap: 17.80057005846791, tolerance: 0.13386315789473685\n",
      "  model = cd_fast.enet_coordinate_descent(\n",
      "C:\\Users\\prath\\anaconda3\\lib\\site-packages\\sklearn\\linear_model\\_coordinate_descent.py:530: ConvergenceWarning: Objective did not converge. You might want to increase the number of iterations. Duality gap: 5.863890190513193, tolerance: 0.13266315789473684\n",
      "  model = cd_fast.enet_coordinate_descent(\n",
      "C:\\Users\\prath\\anaconda3\\lib\\site-packages\\sklearn\\linear_model\\_coordinate_descent.py:530: ConvergenceWarning: Objective did not converge. You might want to increase the number of iterations. Duality gap: 14.253341636683583, tolerance: 0.1832\n",
      "  model = cd_fast.enet_coordinate_descent(\n",
      "C:\\Users\\prath\\anaconda3\\lib\\site-packages\\sklearn\\linear_model\\_coordinate_descent.py:530: ConvergenceWarning: Objective did not converge. You might want to increase the number of iterations. Duality gap: 14.223133694499722, tolerance: 0.1951684210526316\n",
      "  model = cd_fast.enet_coordinate_descent(\n",
      "C:\\Users\\prath\\anaconda3\\lib\\site-packages\\sklearn\\linear_model\\_coordinate_descent.py:530: ConvergenceWarning: Objective did not converge. You might want to increase the number of iterations. Duality gap: 10.977290927880114, tolerance: 0.15071578947368422\n",
      "  model = cd_fast.enet_coordinate_descent(\n",
      "C:\\Users\\prath\\anaconda3\\lib\\site-packages\\sklearn\\linear_model\\_coordinate_descent.py:530: ConvergenceWarning: Objective did not converge. You might want to increase the number of iterations. Duality gap: 12.731527211209414, tolerance: 0.13386315789473685\n",
      "  model = cd_fast.enet_coordinate_descent(\n",
      "C:\\Users\\prath\\anaconda3\\lib\\site-packages\\sklearn\\linear_model\\_coordinate_descent.py:530: ConvergenceWarning: Objective did not converge. You might want to increase the number of iterations. Duality gap: 6.218182592765489, tolerance: 0.13266315789473684\n",
      "  model = cd_fast.enet_coordinate_descent(\n",
      "C:\\Users\\prath\\anaconda3\\lib\\site-packages\\sklearn\\linear_model\\_coordinate_descent.py:530: ConvergenceWarning: Objective did not converge. You might want to increase the number of iterations. Duality gap: 8.065089055698325, tolerance: 0.1832\n",
      "  model = cd_fast.enet_coordinate_descent(\n",
      "C:\\Users\\prath\\anaconda3\\lib\\site-packages\\sklearn\\linear_model\\_coordinate_descent.py:530: ConvergenceWarning: Objective did not converge. You might want to increase the number of iterations. Duality gap: 0.7089062591573025, tolerance: 0.1951684210526316\n",
      "  model = cd_fast.enet_coordinate_descent(\n",
      "C:\\Users\\prath\\anaconda3\\lib\\site-packages\\sklearn\\linear_model\\_coordinate_descent.py:530: ConvergenceWarning: Objective did not converge. You might want to increase the number of iterations. Duality gap: 1.9947734286877257, tolerance: 0.13266315789473684\n",
      "  model = cd_fast.enet_coordinate_descent(\n",
      "C:\\Users\\prath\\anaconda3\\lib\\site-packages\\sklearn\\linear_model\\_coordinate_descent.py:530: ConvergenceWarning: Objective did not converge. You might want to increase the number of iterations. Duality gap: 0.30616750151277117, tolerance: 0.1832\n",
      "  model = cd_fast.enet_coordinate_descent(\n"
     ]
    },
    {
     "data": {
      "text/plain": [
       "GridSearchCV(cv=5, estimator=Lasso(),\n",
       "             param_grid={'alpha': [0.0001, 0.001, 0.01, 0.05, 0.1, 0.2, 0.3,\n",
       "                                   0.4, 0.5, 0.6, 0.7, 0.8, 0.9, 1.0, 2.0, 3.0,\n",
       "                                   4.0, 5.0, 6.0, 7.0, 8.0, 9.0, 10.0, 20, 50,\n",
       "                                   100, 500, 1000]},\n",
       "             return_train_score=True, scoring='neg_mean_absolute_error',\n",
       "             verbose=1)"
      ]
     },
     "execution_count": 329,
     "metadata": {},
     "output_type": "execute_result"
    }
   ],
   "source": [
    "lasso = Lasso()\n",
    "\n",
    "#usig same attributes used for Ridge tuning except estimator here would be lasso\n",
    "grid_cv_model = GridSearchCV(estimator=lasso,\n",
    "                       param_grid=params,\n",
    "                       scoring='neg_mean_absolute_error',\n",
    "                       cv=folds,\n",
    "                       return_train_score=True,\n",
    "                       verbose=1)\n",
    "#fiting model_cv\n",
    "grid_cv_model.fit(x_train,y_train)"
   ]
  },
  {
   "cell_type": "code",
   "execution_count": 330,
   "id": "6fb39280",
   "metadata": {},
   "outputs": [
    {
     "data": {
      "text/plain": [
       "Lasso(alpha=0.6)"
      ]
     },
     "execution_count": 330,
     "metadata": {},
     "output_type": "execute_result"
    }
   ],
   "source": [
    "grid_cv_model.best_estimator_"
   ]
  },
  {
   "cell_type": "code",
   "execution_count": 331,
   "id": "a9b8ee32",
   "metadata": {},
   "outputs": [
    {
     "name": "stdout",
     "output_type": "stream",
     "text": [
      "0.9343338116280447\n"
     ]
    },
    {
     "name": "stderr",
     "output_type": "stream",
     "text": [
      "C:\\Users\\prath\\anaconda3\\lib\\site-packages\\sklearn\\utils\\validation.py:70: FutureWarning: Pass fit_intercept=Lasso(alpha=0.6) as keyword args. From version 1.0 (renaming of 0.25) passing these as positional arguments will result in an error\n",
      "  warnings.warn(f\"Pass {args_msg} as keyword args. From version \"\n"
     ]
    }
   ],
   "source": [
    "lr = LinearRegression(Lasso(alpha=0.6))\n",
    "lr.fit(x_train,y_train)\n",
    "y_pred = lr.predict(x_test)\n",
    "acc = r2_score(y_test,y_pred)\n",
    "print(acc)"
   ]
  },
  {
   "cell_type": "code",
   "execution_count": null,
   "id": "09099728",
   "metadata": {},
   "outputs": [],
   "source": [
    "import joblib\n",
    "joblib.dump(acc ,'Baseball_ case_studiy.pkl')"
   ]
  }
 ],
 "metadata": {
  "kernelspec": {
   "display_name": "Python 3 (ipykernel)",
   "language": "python",
   "name": "python3"
  },
  "language_info": {
   "codemirror_mode": {
    "name": "ipython",
    "version": 3
   },
   "file_extension": ".py",
   "mimetype": "text/x-python",
   "name": "python",
   "nbconvert_exporter": "python",
   "pygments_lexer": "ipython3",
   "version": "3.9.7"
  }
 },
 "nbformat": 4,
 "nbformat_minor": 5
}
