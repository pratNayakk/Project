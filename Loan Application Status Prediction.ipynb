{
 "cells": [
  {
   "cell_type": "markdown",
   "id": "fd6a0c59",
   "metadata": {},
   "source": [
    "# Importing Library:"
   ]
  },
  {
   "cell_type": "code",
   "execution_count": 52,
   "id": "a7593628",
   "metadata": {},
   "outputs": [],
   "source": [
    "import pandas as pd # for data wrangling purpose\n",
    "import numpy as np # Basic computation library\n",
    "import seaborn as sns # For Visualization \n",
    "import matplotlib.pyplot as plt # ploting package\n",
    "%matplotlib inline\n",
    "import warnings # Filtering warnings\n",
    "warnings.filterwarnings('ignore')"
   ]
  },
  {
   "cell_type": "code",
   "execution_count": 53,
   "id": "4b8f4cff",
   "metadata": {},
   "outputs": [
    {
     "data": {
      "text/html": [
       "<div>\n",
       "<style scoped>\n",
       "    .dataframe tbody tr th:only-of-type {\n",
       "        vertical-align: middle;\n",
       "    }\n",
       "\n",
       "    .dataframe tbody tr th {\n",
       "        vertical-align: top;\n",
       "    }\n",
       "\n",
       "    .dataframe thead th {\n",
       "        text-align: right;\n",
       "    }\n",
       "</style>\n",
       "<table border=\"1\" class=\"dataframe\">\n",
       "  <thead>\n",
       "    <tr style=\"text-align: right;\">\n",
       "      <th></th>\n",
       "      <th>Loan_ID</th>\n",
       "      <th>Gender</th>\n",
       "      <th>Married</th>\n",
       "      <th>Dependents</th>\n",
       "      <th>Education</th>\n",
       "      <th>Self_Employed</th>\n",
       "      <th>ApplicantIncome</th>\n",
       "      <th>CoapplicantIncome</th>\n",
       "      <th>LoanAmount</th>\n",
       "      <th>Loan_Amount_Term</th>\n",
       "      <th>Credit_History</th>\n",
       "      <th>Property_Area</th>\n",
       "      <th>Loan_Status</th>\n",
       "    </tr>\n",
       "  </thead>\n",
       "  <tbody>\n",
       "    <tr>\n",
       "      <th>0</th>\n",
       "      <td>LP001002</td>\n",
       "      <td>Male</td>\n",
       "      <td>No</td>\n",
       "      <td>0</td>\n",
       "      <td>Graduate</td>\n",
       "      <td>No</td>\n",
       "      <td>5849</td>\n",
       "      <td>0.0</td>\n",
       "      <td>NaN</td>\n",
       "      <td>360.0</td>\n",
       "      <td>1.0</td>\n",
       "      <td>Urban</td>\n",
       "      <td>Y</td>\n",
       "    </tr>\n",
       "    <tr>\n",
       "      <th>1</th>\n",
       "      <td>LP001003</td>\n",
       "      <td>Male</td>\n",
       "      <td>Yes</td>\n",
       "      <td>1</td>\n",
       "      <td>Graduate</td>\n",
       "      <td>No</td>\n",
       "      <td>4583</td>\n",
       "      <td>1508.0</td>\n",
       "      <td>128.0</td>\n",
       "      <td>360.0</td>\n",
       "      <td>1.0</td>\n",
       "      <td>Rural</td>\n",
       "      <td>N</td>\n",
       "    </tr>\n",
       "    <tr>\n",
       "      <th>2</th>\n",
       "      <td>LP001005</td>\n",
       "      <td>Male</td>\n",
       "      <td>Yes</td>\n",
       "      <td>0</td>\n",
       "      <td>Graduate</td>\n",
       "      <td>Yes</td>\n",
       "      <td>3000</td>\n",
       "      <td>0.0</td>\n",
       "      <td>66.0</td>\n",
       "      <td>360.0</td>\n",
       "      <td>1.0</td>\n",
       "      <td>Urban</td>\n",
       "      <td>Y</td>\n",
       "    </tr>\n",
       "    <tr>\n",
       "      <th>3</th>\n",
       "      <td>LP001006</td>\n",
       "      <td>Male</td>\n",
       "      <td>Yes</td>\n",
       "      <td>0</td>\n",
       "      <td>Not Graduate</td>\n",
       "      <td>No</td>\n",
       "      <td>2583</td>\n",
       "      <td>2358.0</td>\n",
       "      <td>120.0</td>\n",
       "      <td>360.0</td>\n",
       "      <td>1.0</td>\n",
       "      <td>Urban</td>\n",
       "      <td>Y</td>\n",
       "    </tr>\n",
       "    <tr>\n",
       "      <th>4</th>\n",
       "      <td>LP001008</td>\n",
       "      <td>Male</td>\n",
       "      <td>No</td>\n",
       "      <td>0</td>\n",
       "      <td>Graduate</td>\n",
       "      <td>No</td>\n",
       "      <td>6000</td>\n",
       "      <td>0.0</td>\n",
       "      <td>141.0</td>\n",
       "      <td>360.0</td>\n",
       "      <td>1.0</td>\n",
       "      <td>Urban</td>\n",
       "      <td>Y</td>\n",
       "    </tr>\n",
       "  </tbody>\n",
       "</table>\n",
       "</div>"
      ],
      "text/plain": [
       "    Loan_ID Gender Married Dependents     Education Self_Employed  \\\n",
       "0  LP001002   Male      No          0      Graduate            No   \n",
       "1  LP001003   Male     Yes          1      Graduate            No   \n",
       "2  LP001005   Male     Yes          0      Graduate           Yes   \n",
       "3  LP001006   Male     Yes          0  Not Graduate            No   \n",
       "4  LP001008   Male      No          0      Graduate            No   \n",
       "\n",
       "   ApplicantIncome  CoapplicantIncome  LoanAmount  Loan_Amount_Term  \\\n",
       "0             5849                0.0         NaN             360.0   \n",
       "1             4583             1508.0       128.0             360.0   \n",
       "2             3000                0.0        66.0             360.0   \n",
       "3             2583             2358.0       120.0             360.0   \n",
       "4             6000                0.0       141.0             360.0   \n",
       "\n",
       "   Credit_History Property_Area Loan_Status  \n",
       "0             1.0         Urban           Y  \n",
       "1             1.0         Rural           N  \n",
       "2             1.0         Urban           Y  \n",
       "3             1.0         Urban           Y  \n",
       "4             1.0         Urban           Y  "
      ]
     },
     "execution_count": 53,
     "metadata": {},
     "output_type": "execute_result"
    }
   ],
   "source": [
    "# Pandas read_csv function used for reading the csv file.\n",
    "df = pd.read_csv(\"https://raw.githubusercontent.com/dsrscientist/DSData/master/loan_prediction.csv\")\n",
    "df.head()"
   ]
  },
  {
   "cell_type": "code",
   "execution_count": 54,
   "id": "aa51bf94",
   "metadata": {},
   "outputs": [
    {
     "name": "stdout",
     "output_type": "stream",
     "text": [
      "No of Rows: 614\n",
      "No of Columns: 13\n"
     ]
    },
    {
     "data": {
      "text/html": [
       "<div>\n",
       "<style scoped>\n",
       "    .dataframe tbody tr th:only-of-type {\n",
       "        vertical-align: middle;\n",
       "    }\n",
       "\n",
       "    .dataframe tbody tr th {\n",
       "        vertical-align: top;\n",
       "    }\n",
       "\n",
       "    .dataframe thead th {\n",
       "        text-align: right;\n",
       "    }\n",
       "</style>\n",
       "<table border=\"1\" class=\"dataframe\">\n",
       "  <thead>\n",
       "    <tr style=\"text-align: right;\">\n",
       "      <th></th>\n",
       "      <th>Loan_ID</th>\n",
       "      <th>Gender</th>\n",
       "      <th>Married</th>\n",
       "      <th>Dependents</th>\n",
       "      <th>Education</th>\n",
       "      <th>Self_Employed</th>\n",
       "      <th>ApplicantIncome</th>\n",
       "      <th>CoapplicantIncome</th>\n",
       "      <th>LoanAmount</th>\n",
       "      <th>Loan_Amount_Term</th>\n",
       "      <th>Credit_History</th>\n",
       "      <th>Property_Area</th>\n",
       "      <th>Loan_Status</th>\n",
       "    </tr>\n",
       "  </thead>\n",
       "  <tbody>\n",
       "    <tr>\n",
       "      <th>0</th>\n",
       "      <td>LP001002</td>\n",
       "      <td>Male</td>\n",
       "      <td>No</td>\n",
       "      <td>0</td>\n",
       "      <td>Graduate</td>\n",
       "      <td>No</td>\n",
       "      <td>5849</td>\n",
       "      <td>0.0</td>\n",
       "      <td>NaN</td>\n",
       "      <td>360.0</td>\n",
       "      <td>1.0</td>\n",
       "      <td>Urban</td>\n",
       "      <td>Y</td>\n",
       "    </tr>\n",
       "    <tr>\n",
       "      <th>1</th>\n",
       "      <td>LP001003</td>\n",
       "      <td>Male</td>\n",
       "      <td>Yes</td>\n",
       "      <td>1</td>\n",
       "      <td>Graduate</td>\n",
       "      <td>No</td>\n",
       "      <td>4583</td>\n",
       "      <td>1508.0</td>\n",
       "      <td>128.0</td>\n",
       "      <td>360.0</td>\n",
       "      <td>1.0</td>\n",
       "      <td>Rural</td>\n",
       "      <td>N</td>\n",
       "    </tr>\n",
       "    <tr>\n",
       "      <th>2</th>\n",
       "      <td>LP001005</td>\n",
       "      <td>Male</td>\n",
       "      <td>Yes</td>\n",
       "      <td>0</td>\n",
       "      <td>Graduate</td>\n",
       "      <td>Yes</td>\n",
       "      <td>3000</td>\n",
       "      <td>0.0</td>\n",
       "      <td>66.0</td>\n",
       "      <td>360.0</td>\n",
       "      <td>1.0</td>\n",
       "      <td>Urban</td>\n",
       "      <td>Y</td>\n",
       "    </tr>\n",
       "    <tr>\n",
       "      <th>3</th>\n",
       "      <td>LP001006</td>\n",
       "      <td>Male</td>\n",
       "      <td>Yes</td>\n",
       "      <td>0</td>\n",
       "      <td>Not Graduate</td>\n",
       "      <td>No</td>\n",
       "      <td>2583</td>\n",
       "      <td>2358.0</td>\n",
       "      <td>120.0</td>\n",
       "      <td>360.0</td>\n",
       "      <td>1.0</td>\n",
       "      <td>Urban</td>\n",
       "      <td>Y</td>\n",
       "    </tr>\n",
       "    <tr>\n",
       "      <th>4</th>\n",
       "      <td>LP001008</td>\n",
       "      <td>Male</td>\n",
       "      <td>No</td>\n",
       "      <td>0</td>\n",
       "      <td>Graduate</td>\n",
       "      <td>No</td>\n",
       "      <td>6000</td>\n",
       "      <td>0.0</td>\n",
       "      <td>141.0</td>\n",
       "      <td>360.0</td>\n",
       "      <td>1.0</td>\n",
       "      <td>Urban</td>\n",
       "      <td>Y</td>\n",
       "    </tr>\n",
       "  </tbody>\n",
       "</table>\n",
       "</div>"
      ],
      "text/plain": [
       "    Loan_ID Gender Married Dependents     Education Self_Employed  \\\n",
       "0  LP001002   Male      No          0      Graduate            No   \n",
       "1  LP001003   Male     Yes          1      Graduate            No   \n",
       "2  LP001005   Male     Yes          0      Graduate           Yes   \n",
       "3  LP001006   Male     Yes          0  Not Graduate            No   \n",
       "4  LP001008   Male      No          0      Graduate            No   \n",
       "\n",
       "   ApplicantIncome  CoapplicantIncome  LoanAmount  Loan_Amount_Term  \\\n",
       "0             5849                0.0         NaN             360.0   \n",
       "1             4583             1508.0       128.0             360.0   \n",
       "2             3000                0.0        66.0             360.0   \n",
       "3             2583             2358.0       120.0             360.0   \n",
       "4             6000                0.0       141.0             360.0   \n",
       "\n",
       "   Credit_History Property_Area Loan_Status  \n",
       "0             1.0         Urban           Y  \n",
       "1             1.0         Rural           N  \n",
       "2             1.0         Urban           Y  \n",
       "3             1.0         Urban           Y  \n",
       "4             1.0         Urban           Y  "
      ]
     },
     "execution_count": 54,
     "metadata": {},
     "output_type": "execute_result"
    }
   ],
   "source": [
    "# total no of rows and columns\n",
    "print('No of Rows:',df.shape[0])\n",
    "print('No of Columns:',df.shape[1])\n",
    "df.head()"
   ]
  },
  {
   "cell_type": "code",
   "execution_count": 55,
   "id": "0e34cb39",
   "metadata": {},
   "outputs": [
    {
     "data": {
      "text/html": [
       "<div>\n",
       "<style scoped>\n",
       "    .dataframe tbody tr th:only-of-type {\n",
       "        vertical-align: middle;\n",
       "    }\n",
       "\n",
       "    .dataframe tbody tr th {\n",
       "        vertical-align: top;\n",
       "    }\n",
       "\n",
       "    .dataframe thead th {\n",
       "        text-align: right;\n",
       "    }\n",
       "</style>\n",
       "<table border=\"1\" class=\"dataframe\">\n",
       "  <thead>\n",
       "    <tr style=\"text-align: right;\">\n",
       "      <th></th>\n",
       "      <th>Loan_ID</th>\n",
       "      <th>Gender</th>\n",
       "      <th>Married</th>\n",
       "      <th>Dependents</th>\n",
       "      <th>Education</th>\n",
       "      <th>Self_Employed</th>\n",
       "      <th>ApplicantIncome</th>\n",
       "      <th>CoapplicantIncome</th>\n",
       "      <th>LoanAmount</th>\n",
       "      <th>Loan_Amount_Term</th>\n",
       "      <th>Credit_History</th>\n",
       "      <th>Property_Area</th>\n",
       "      <th>Loan_Status</th>\n",
       "    </tr>\n",
       "  </thead>\n",
       "  <tbody>\n",
       "    <tr>\n",
       "      <th>609</th>\n",
       "      <td>LP002978</td>\n",
       "      <td>Female</td>\n",
       "      <td>No</td>\n",
       "      <td>0</td>\n",
       "      <td>Graduate</td>\n",
       "      <td>No</td>\n",
       "      <td>2900</td>\n",
       "      <td>0.0</td>\n",
       "      <td>71.0</td>\n",
       "      <td>360.0</td>\n",
       "      <td>1.0</td>\n",
       "      <td>Rural</td>\n",
       "      <td>Y</td>\n",
       "    </tr>\n",
       "    <tr>\n",
       "      <th>610</th>\n",
       "      <td>LP002979</td>\n",
       "      <td>Male</td>\n",
       "      <td>Yes</td>\n",
       "      <td>3+</td>\n",
       "      <td>Graduate</td>\n",
       "      <td>No</td>\n",
       "      <td>4106</td>\n",
       "      <td>0.0</td>\n",
       "      <td>40.0</td>\n",
       "      <td>180.0</td>\n",
       "      <td>1.0</td>\n",
       "      <td>Rural</td>\n",
       "      <td>Y</td>\n",
       "    </tr>\n",
       "    <tr>\n",
       "      <th>611</th>\n",
       "      <td>LP002983</td>\n",
       "      <td>Male</td>\n",
       "      <td>Yes</td>\n",
       "      <td>1</td>\n",
       "      <td>Graduate</td>\n",
       "      <td>No</td>\n",
       "      <td>8072</td>\n",
       "      <td>240.0</td>\n",
       "      <td>253.0</td>\n",
       "      <td>360.0</td>\n",
       "      <td>1.0</td>\n",
       "      <td>Urban</td>\n",
       "      <td>Y</td>\n",
       "    </tr>\n",
       "    <tr>\n",
       "      <th>612</th>\n",
       "      <td>LP002984</td>\n",
       "      <td>Male</td>\n",
       "      <td>Yes</td>\n",
       "      <td>2</td>\n",
       "      <td>Graduate</td>\n",
       "      <td>No</td>\n",
       "      <td>7583</td>\n",
       "      <td>0.0</td>\n",
       "      <td>187.0</td>\n",
       "      <td>360.0</td>\n",
       "      <td>1.0</td>\n",
       "      <td>Urban</td>\n",
       "      <td>Y</td>\n",
       "    </tr>\n",
       "    <tr>\n",
       "      <th>613</th>\n",
       "      <td>LP002990</td>\n",
       "      <td>Female</td>\n",
       "      <td>No</td>\n",
       "      <td>0</td>\n",
       "      <td>Graduate</td>\n",
       "      <td>Yes</td>\n",
       "      <td>4583</td>\n",
       "      <td>0.0</td>\n",
       "      <td>133.0</td>\n",
       "      <td>360.0</td>\n",
       "      <td>0.0</td>\n",
       "      <td>Semiurban</td>\n",
       "      <td>N</td>\n",
       "    </tr>\n",
       "  </tbody>\n",
       "</table>\n",
       "</div>"
      ],
      "text/plain": [
       "      Loan_ID  Gender Married Dependents Education Self_Employed  \\\n",
       "609  LP002978  Female      No          0  Graduate            No   \n",
       "610  LP002979    Male     Yes         3+  Graduate            No   \n",
       "611  LP002983    Male     Yes          1  Graduate            No   \n",
       "612  LP002984    Male     Yes          2  Graduate            No   \n",
       "613  LP002990  Female      No          0  Graduate           Yes   \n",
       "\n",
       "     ApplicantIncome  CoapplicantIncome  LoanAmount  Loan_Amount_Term  \\\n",
       "609             2900                0.0        71.0             360.0   \n",
       "610             4106                0.0        40.0             180.0   \n",
       "611             8072              240.0       253.0             360.0   \n",
       "612             7583                0.0       187.0             360.0   \n",
       "613             4583                0.0       133.0             360.0   \n",
       "\n",
       "     Credit_History Property_Area Loan_Status  \n",
       "609             1.0         Rural           Y  \n",
       "610             1.0         Rural           Y  \n",
       "611             1.0         Urban           Y  \n",
       "612             1.0         Urban           Y  \n",
       "613             0.0     Semiurban           N  "
      ]
     },
     "execution_count": 55,
     "metadata": {},
     "output_type": "execute_result"
    }
   ],
   "source": [
    "df.tail()"
   ]
  },
  {
   "cell_type": "code",
   "execution_count": 56,
   "id": "8f259c73",
   "metadata": {},
   "outputs": [
    {
     "data": {
      "text/plain": [
       "Index(['Loan_ID', 'Gender', 'Married', 'Dependents', 'Education',\n",
       "       'Self_Employed', 'ApplicantIncome', 'CoapplicantIncome', 'LoanAmount',\n",
       "       'Loan_Amount_Term', 'Credit_History', 'Property_Area', 'Loan_Status'],\n",
       "      dtype='object')"
      ]
     },
     "execution_count": 56,
     "metadata": {},
     "output_type": "execute_result"
    }
   ],
   "source": [
    "df.columns"
   ]
  },
  {
   "cell_type": "markdown",
   "id": "8a2d2c89",
   "metadata": {},
   "source": [
    "# Statistical Analysis"
   ]
  },
  {
   "cell_type": "code",
   "execution_count": 57,
   "id": "334a849b",
   "metadata": {},
   "outputs": [
    {
     "data": {
      "text/plain": [
       "0"
      ]
     },
     "execution_count": 57,
     "metadata": {},
     "output_type": "execute_result"
    }
   ],
   "source": [
    "# Duplicate entry or duplicate row with same value exist\n",
    "df.duplicated().sum()"
   ]
  },
  {
   "cell_type": "code",
   "execution_count": 58,
   "id": "f88f8f72",
   "metadata": {},
   "outputs": [
    {
     "name": "stdout",
     "output_type": "stream",
     "text": [
      "<class 'pandas.core.frame.DataFrame'>\n",
      "RangeIndex: 614 entries, 0 to 613\n",
      "Data columns (total 13 columns):\n",
      " #   Column             Non-Null Count  Dtype  \n",
      "---  ------             --------------  -----  \n",
      " 0   Loan_ID            614 non-null    object \n",
      " 1   Gender             601 non-null    object \n",
      " 2   Married            611 non-null    object \n",
      " 3   Dependents         599 non-null    object \n",
      " 4   Education          614 non-null    object \n",
      " 5   Self_Employed      582 non-null    object \n",
      " 6   ApplicantIncome    614 non-null    int64  \n",
      " 7   CoapplicantIncome  614 non-null    float64\n",
      " 8   LoanAmount         592 non-null    float64\n",
      " 9   Loan_Amount_Term   600 non-null    float64\n",
      " 10  Credit_History     564 non-null    float64\n",
      " 11  Property_Area      614 non-null    object \n",
      " 12  Loan_Status        614 non-null    object \n",
      "dtypes: float64(4), int64(1), object(8)\n",
      "memory usage: 62.5+ KB\n"
     ]
    }
   ],
   "source": [
    "df.info()"
   ]
  },
  {
   "cell_type": "markdown",
   "id": "203f48d4",
   "metadata": {},
   "source": [
    "loan application status dataset we have 614 rows with 13 columns including target variable.\n",
    "\n",
    "Target Variable is 'Loan_Status' having object datatype and It is categorical variable.\n",
    "\n",
    "Gender, Married, Education,Self Employed, Credit History, Loan Status are categorical features.\n",
    "\n"
   ]
  },
  {
   "cell_type": "markdown",
   "id": "0bee84e0",
   "metadata": {},
   "source": [
    "#### Missing value check"
   ]
  },
  {
   "cell_type": "code",
   "execution_count": 59,
   "id": "07e96679",
   "metadata": {},
   "outputs": [
    {
     "data": {
      "text/plain": [
       "<AxesSubplot:>"
      ]
     },
     "execution_count": 59,
     "metadata": {},
     "output_type": "execute_result"
    },
    {
     "data": {
      "image/png": "[encoded data removed]",
      "text/plain": [
       "<Figure size 432x288 with 2 Axes>"
      ]
     },
     "metadata": {
      "needs_background": "light"
     },
     "output_type": "display_data"
    }
   ],
   "source": [
    "# checking the null values with heatmap\n",
    "sns.heatmap(df.isnull())"
   ]
  },
  {
   "cell_type": "code",
   "execution_count": 60,
   "id": "4ed2fb13",
   "metadata": {},
   "outputs": [
    {
     "name": "stdout",
     "output_type": "stream",
     "text": [
      "                   Missing Values  % Missing data\n",
      "Credit_History                 50        8.143322\n",
      "Self_Employed                  32        5.211726\n",
      "LoanAmount                     22        3.583062\n",
      "Dependents                     15        2.442997\n",
      "Loan_Amount_Term               14        2.280130\n",
      "Gender                         13        2.117264\n",
      "Married                         3        0.488599\n",
      "Loan_ID                         0        0.000000\n",
      "Education                       0        0.000000\n",
      "ApplicantIncome                 0        0.000000\n",
      "CoapplicantIncome               0        0.000000\n",
      "Property_Area                   0        0.000000\n",
      "Loan_Status                     0        0.000000\n"
     ]
    }
   ],
   "source": [
    "missing_values = df.isnull().sum().sort_values(ascending = False)\n",
    "percentage_missing_values =(missing_values/len(df))*100\n",
    "print(pd.concat([missing_values, percentage_missing_values], axis =1, keys =['Missing Values', '% Missing data']))"
   ]
  },
  {
   "cell_type": "markdown",
   "id": "c6dbf9e8",
   "metadata": {},
   "source": [
    "7 out 13 columns contains missing value.\n",
    "\n"
   ]
  },
  {
   "cell_type": "markdown",
   "id": "2c967424",
   "metadata": {},
   "source": [
    "## Exploring categorial features"
   ]
  },
  {
   "cell_type": "code",
   "execution_count": 61,
   "id": "4b9986fe",
   "metadata": {},
   "outputs": [
    {
     "name": "stdout",
     "output_type": "stream",
     "text": [
      "Gender\n",
      "Male      489\n",
      "Female    112\n",
      "Name: Gender, dtype: int64\n",
      "****************************************\n",
      "Married\n",
      "Yes    398\n",
      "No     213\n",
      "Name: Married, dtype: int64\n",
      "****************************************\n",
      "Dependents\n",
      "0     345\n",
      "1     102\n",
      "2     101\n",
      "3+     51\n",
      "Name: Dependents, dtype: int64\n",
      "****************************************\n",
      "Education\n",
      "Graduate        480\n",
      "Not Graduate    134\n",
      "Name: Education, dtype: int64\n",
      "****************************************\n",
      "Self_Employed\n",
      "No     500\n",
      "Yes     82\n",
      "Name: Self_Employed, dtype: int64\n",
      "****************************************\n",
      "Loan_Amount_Term\n",
      "360.0    512\n",
      "180.0     44\n",
      "480.0     15\n",
      "300.0     13\n",
      "240.0      4\n",
      "84.0       4\n",
      "120.0      3\n",
      "60.0       2\n",
      "36.0       2\n",
      "12.0       1\n",
      "Name: Loan_Amount_Term, dtype: int64\n",
      "****************************************\n",
      "Property_Area\n",
      "Semiurban    233\n",
      "Urban        202\n",
      "Rural        179\n",
      "Name: Property_Area, dtype: int64\n",
      "****************************************\n",
      "Credit_History\n",
      "1.0    475\n",
      "0.0     89\n",
      "Name: Credit_History, dtype: int64\n",
      "****************************************\n",
      "Loan_Status\n",
      "Y    422\n",
      "N    192\n",
      "Name: Loan_Status, dtype: int64\n",
      "****************************************\n"
     ]
    }
   ],
   "source": [
    "category=['Gender','Married','Dependents','Education','Self_Employed',\n",
    "          'Loan_Amount_Term','Property_Area','Credit_History','Loan_Status']\n",
    "for i in category:\n",
    "    print(i)\n",
    "    print(df[i].value_counts())\n",
    "    print('*'*40)"
   ]
  },
  {
   "cell_type": "code",
   "execution_count": 62,
   "id": "33d08c3a",
   "metadata": {},
   "outputs": [
    {
     "data": {
      "image/png": "[encoded data removed]",
      "text/plain": [
       "<Figure size 1440x1440 with 9 Axes>"
      ]
     },
     "metadata": {},
     "output_type": "display_data"
    }
   ],
   "source": [
    "plt.figure(figsize=(20,20),facecolor='white')\n",
    "plotnumber=1\n",
    "category=['Gender','Married','Dependents','Education','Self_Employed',\n",
    "          'Loan_Amount_Term','Property_Area','Credit_History','Loan_Status']\n",
    "for i in category:\n",
    "    if plotnumber<=9:\n",
    "        ax=plt.subplot(3,3,plotnumber)\n",
    "        sns.countplot(df[i])\n",
    "        plt.xlabel(i,fontsize=15)\n",
    "    plotnumber+=1\n",
    "plt.tight_layout()\n",
    "plt.show()"
   ]
  },
  {
   "cell_type": "markdown",
   "id": "6089b202",
   "metadata": {},
   "source": [
    "Out of Total loan application 80 % applicants are Male. \n",
    "\n",
    "Only 20% applicants are self employed.\n",
    "\n",
    "70% are married and 75% of loan applicants are graduates\n",
    "\n",
    "60% of the applicants have no dependents.\n",
    "\n",
    "80% people previously have credit history.\n",
    "\n",
    "70 % applicant gets loan approved."
   ]
  },
  {
   "cell_type": "markdown",
   "id": "2dabb2e7",
   "metadata": {},
   "source": [
    "## Missing value imputation"
   ]
  },
  {
   "cell_type": "code",
   "execution_count": 63,
   "id": "c57b9f52",
   "metadata": {},
   "outputs": [
    {
     "data": {
      "image/png": "[encoded data removed]",
      "text/plain": [
       "<Figure size 1008x432 with 2 Axes>"
      ]
     },
     "metadata": {
      "needs_background": "light"
     },
     "output_type": "display_data"
    }
   ],
   "source": [
    "plt.figure(figsize=(14,6))\n",
    "plt.subplot(1,2,1)\n",
    "sns.boxplot( y='LoanAmount', data=df)\n",
    "plt.ylabel('Loan Amount',fontsize=15)\n",
    "plt.subplot(1,2,2)\n",
    "sns.distplot(df['LoanAmount'])\n",
    "plt.xlabel('Loan Amount',fontsize=15)\n",
    "plt.tight_layout()\n",
    "plt.show()"
   ]
  },
  {
   "cell_type": "code",
   "execution_count": 64,
   "id": "e75c2d87",
   "metadata": {},
   "outputs": [
    {
     "name": "stdout",
     "output_type": "stream",
     "text": [
      "Mean of Loan Amount: 146.41216216216216\n",
      "Median of Loan Amount: 128.0\n"
     ]
    }
   ],
   "source": [
    "print(\"Mean of Loan Amount:\",df['LoanAmount'].mean())\n",
    "print(\"Median of Loan Amount:\",df['LoanAmount'].median())"
   ]
  },
  {
   "cell_type": "markdown",
   "id": "ff80fb30",
   "metadata": {},
   "source": [
    "The mean is greater than median loan amount.\n",
    "\n"
   ]
  },
  {
   "cell_type": "markdown",
   "id": "d159b12f",
   "metadata": {},
   "source": [
    "Missing values in Loan amount is impute with median value.\n",
    "\n",
    "Maximum Loan term is 360 Months so Missing value in Loan amount term is replace with 360 Months.\n",
    "\n",
    "Credit History, Self Employed, dependents, Gender and Married are replace with mode of repective features."
   ]
  },
  {
   "cell_type": "code",
   "execution_count": 65,
   "id": "aa57e303",
   "metadata": {},
   "outputs": [],
   "source": [
    "#  Mode for categorical features\n",
    "df['Credit_History'].fillna(df['Credit_History'].mode()[0],inplace=True)\n",
    "df['Self_Employed'].fillna(df['Self_Employed'].mode()[0],inplace=True)\n",
    "df['Dependents'].fillna(df['Dependents'].mode()[0], inplace=True)\n",
    "df['Gender'].fillna(df['Gender'].mode()[0],inplace=True)\n",
    "df['Married'].fillna(df['Married'].mode()[0],inplace=True)\n",
    "\n",
    "# Imputation of Numerical features\n",
    "df['Loan_Amount_Term'].fillna(df['Loan_Amount_Term'].mode()[0],inplace=True)\n",
    "df['LoanAmount'].fillna(df['LoanAmount'].median(), inplace=True)"
   ]
  },
  {
   "cell_type": "code",
   "execution_count": 66,
   "id": "c3403f52",
   "metadata": {},
   "outputs": [
    {
     "name": "stdout",
     "output_type": "stream",
     "text": [
      "                   Missing Values  % Missing data\n",
      "Loan_ID                         0             0.0\n",
      "Gender                          0             0.0\n",
      "Married                         0             0.0\n",
      "Dependents                      0             0.0\n",
      "Education                       0             0.0\n",
      "Self_Employed                   0             0.0\n",
      "ApplicantIncome                 0             0.0\n",
      "CoapplicantIncome               0             0.0\n",
      "LoanAmount                      0             0.0\n",
      "Loan_Amount_Term                0             0.0\n",
      "Credit_History                  0             0.0\n",
      "Property_Area                   0             0.0\n",
      "Loan_Status                     0             0.0\n"
     ]
    }
   ],
   "source": [
    "# percentage of data is missing \n",
    "missing_values = df.isnull().sum().sort_values(ascending = False)\n",
    "percentage_missing_values =(missing_values/len(df))*100\n",
    "print(pd.concat([missing_values, percentage_missing_values], axis =1, keys =['Missing Values', '% Missing data']))"
   ]
  },
  {
   "cell_type": "markdown",
   "id": "a6820168",
   "metadata": {},
   "source": [
    "## Statistical Matrix"
   ]
  },
  {
   "cell_type": "code",
   "execution_count": 67,
   "id": "76afa8f7",
   "metadata": {},
   "outputs": [
    {
     "data": {
      "text/html": [
       "<div>\n",
       "<style scoped>\n",
       "    .dataframe tbody tr th:only-of-type {\n",
       "        vertical-align: middle;\n",
       "    }\n",
       "\n",
       "    .dataframe tbody tr th {\n",
       "        vertical-align: top;\n",
       "    }\n",
       "\n",
       "    .dataframe thead th {\n",
       "        text-align: right;\n",
       "    }\n",
       "</style>\n",
       "<table border=\"1\" class=\"dataframe\">\n",
       "  <thead>\n",
       "    <tr style=\"text-align: right;\">\n",
       "      <th></th>\n",
       "      <th>ApplicantIncome</th>\n",
       "      <th>CoapplicantIncome</th>\n",
       "      <th>LoanAmount</th>\n",
       "      <th>Loan_Amount_Term</th>\n",
       "      <th>Credit_History</th>\n",
       "    </tr>\n",
       "  </thead>\n",
       "  <tbody>\n",
       "    <tr>\n",
       "      <th>count</th>\n",
       "      <td>614.000000</td>\n",
       "      <td>614.000000</td>\n",
       "      <td>614.000000</td>\n",
       "      <td>614.000000</td>\n",
       "      <td>614.000000</td>\n",
       "    </tr>\n",
       "    <tr>\n",
       "      <th>mean</th>\n",
       "      <td>5403.459283</td>\n",
       "      <td>1621.245798</td>\n",
       "      <td>145.752443</td>\n",
       "      <td>342.410423</td>\n",
       "      <td>0.855049</td>\n",
       "    </tr>\n",
       "    <tr>\n",
       "      <th>std</th>\n",
       "      <td>6109.041673</td>\n",
       "      <td>2926.248369</td>\n",
       "      <td>84.107233</td>\n",
       "      <td>64.428629</td>\n",
       "      <td>0.352339</td>\n",
       "    </tr>\n",
       "    <tr>\n",
       "      <th>min</th>\n",
       "      <td>150.000000</td>\n",
       "      <td>0.000000</td>\n",
       "      <td>9.000000</td>\n",
       "      <td>12.000000</td>\n",
       "      <td>0.000000</td>\n",
       "    </tr>\n",
       "    <tr>\n",
       "      <th>25%</th>\n",
       "      <td>2877.500000</td>\n",
       "      <td>0.000000</td>\n",
       "      <td>100.250000</td>\n",
       "      <td>360.000000</td>\n",
       "      <td>1.000000</td>\n",
       "    </tr>\n",
       "    <tr>\n",
       "      <th>50%</th>\n",
       "      <td>3812.500000</td>\n",
       "      <td>1188.500000</td>\n",
       "      <td>128.000000</td>\n",
       "      <td>360.000000</td>\n",
       "      <td>1.000000</td>\n",
       "    </tr>\n",
       "    <tr>\n",
       "      <th>75%</th>\n",
       "      <td>5795.000000</td>\n",
       "      <td>2297.250000</td>\n",
       "      <td>164.750000</td>\n",
       "      <td>360.000000</td>\n",
       "      <td>1.000000</td>\n",
       "    </tr>\n",
       "    <tr>\n",
       "      <th>max</th>\n",
       "      <td>81000.000000</td>\n",
       "      <td>41667.000000</td>\n",
       "      <td>700.000000</td>\n",
       "      <td>480.000000</td>\n",
       "      <td>1.000000</td>\n",
       "    </tr>\n",
       "  </tbody>\n",
       "</table>\n",
       "</div>"
      ],
      "text/plain": [
       "       ApplicantIncome  CoapplicantIncome  LoanAmount  Loan_Amount_Term  \\\n",
       "count       614.000000         614.000000  614.000000        614.000000   \n",
       "mean       5403.459283        1621.245798  145.752443        342.410423   \n",
       "std        6109.041673        2926.248369   84.107233         64.428629   \n",
       "min         150.000000           0.000000    9.000000         12.000000   \n",
       "25%        2877.500000           0.000000  100.250000        360.000000   \n",
       "50%        3812.500000        1188.500000  128.000000        360.000000   \n",
       "75%        5795.000000        2297.250000  164.750000        360.000000   \n",
       "max       81000.000000       41667.000000  700.000000        480.000000   \n",
       "\n",
       "       Credit_History  \n",
       "count      614.000000  \n",
       "mean         0.855049  \n",
       "std          0.352339  \n",
       "min          0.000000  \n",
       "25%          1.000000  \n",
       "50%          1.000000  \n",
       "75%          1.000000  \n",
       "max          1.000000  "
      ]
     },
     "execution_count": 67,
     "metadata": {},
     "output_type": "execute_result"
    }
   ],
   "source": [
    "df.describe()"
   ]
  },
  {
   "cell_type": "code",
   "execution_count": 68,
   "id": "1b97372d",
   "metadata": {},
   "outputs": [
    {
     "data": {
      "text/plain": [
       "<AxesSubplot:>"
      ]
     },
     "execution_count": 68,
     "metadata": {},
     "output_type": "execute_result"
    },
    {
     "data": {
      "image/png": "[encoded data removed]",
      "text/plain": [
       "<Figure size 864x576 with 2 Axes>"
      ]
     },
     "metadata": {
      "needs_background": "light"
     },
     "output_type": "display_data"
    }
   ],
   "source": [
    "# Visualizing the statistics of the columns using heatmap.\n",
    "plt.figure(figsize=(12,8))\n",
    "sns.heatmap(df.describe(),linewidths = 0.1,fmt='0.1f',annot = True)"
   ]
  },
  {
   "cell_type": "markdown",
   "id": "32ce0e59",
   "metadata": {},
   "source": [
    "In Applicant Income & Coapplicant Income Std deviation value is greater than median. So data is spread and skewed.\n",
    "\n"
   ]
  },
  {
   "cell_type": "markdown",
   "id": "cee11b67",
   "metadata": {},
   "source": [
    "# Exploratory Data Analysis"
   ]
  },
  {
   "cell_type": "markdown",
   "id": "5bb3e634",
   "metadata": {},
   "source": [
    "### Target Variable"
   ]
  },
  {
   "cell_type": "code",
   "execution_count": 69,
   "id": "ea5cf616",
   "metadata": {},
   "outputs": [
    {
     "data": {
      "image/png": "[encoded data removed]",
      "text/plain": [
       "<Figure size 1296x576 with 2 Axes>"
      ]
     },
     "metadata": {
      "needs_background": "light"
     },
     "output_type": "display_data"
    }
   ],
   "source": [
    "plt.rcParams[\"figure.autolayout\"] = True\n",
    "f,ax=plt.subplots(1,2,figsize=(18,8))\n",
    "df['Loan_Status'].value_counts().plot.pie(explode=[0,0.1],autopct='%2.1f%%',\n",
    "                                          textprops ={ 'fontsize':13}, ax=ax[0])\n",
    "ax[0].set_title('Loan Status', fontsize=20)\n",
    "ax[0].set_ylabel('')\n",
    "sns.countplot('Loan_Status',data=df,ax=ax[1])\n",
    "ax[1].set_title('Loan Status',fontsize=20)\n",
    "ax[1].set_xlabel(\"Loan Status\",fontsize=18)\n",
    "plt.show()"
   ]
  },
  {
   "cell_type": "markdown",
   "id": "198a3d86",
   "metadata": {},
   "source": [
    "68.7% Applicants gets loan Approval.\n",
    "\n",
    "Dataset is imbalanced in nature."
   ]
  },
  {
   "cell_type": "markdown",
   "id": "f893e374",
   "metadata": {},
   "source": [
    "### Gender Vs Loan Status"
   ]
  },
  {
   "cell_type": "code",
   "execution_count": 70,
   "id": "478f5054",
   "metadata": {},
   "outputs": [
    {
     "data": {
      "image/png": "[encoded data removed]",
      "text/plain": [
       "<Figure size 1152x576 with 2 Axes>"
      ]
     },
     "metadata": {
      "needs_background": "light"
     },
     "output_type": "display_data"
    }
   ],
   "source": [
    "plt.rcParams[\"figure.autolayout\"] = True\n",
    "f,ax=plt.subplots(1,2,figsize=(16,8))\n",
    "df['Gender'].value_counts().plot.pie(explode=[0,0.1],autopct='%2.1f%%',\n",
    "                                          textprops ={'fontsize':13}, ax=ax[0])\n",
    "ax[0].set_title('Gender', fontsize=20,fontweight ='bold')\n",
    "ax[0].set_ylabel('')\n",
    "sns.countplot('Gender',hue=\"Loan_Status\",data=df,ax=ax[1])\n",
    "ax[1].set_title('Gender Vs Loan Status',fontsize=20)\n",
    "ax[1].set_xlabel(\"Loan Status\",fontsize=18)\n",
    "plt.tight_layout()\n",
    "plt.show()"
   ]
  },
  {
   "cell_type": "code",
   "execution_count": 71,
   "id": "04ee2b8e",
   "metadata": {},
   "outputs": [
    {
     "data": {
      "text/html": [
       "<div>\n",
       "<style scoped>\n",
       "    .dataframe tbody tr th:only-of-type {\n",
       "        vertical-align: middle;\n",
       "    }\n",
       "\n",
       "    .dataframe tbody tr th {\n",
       "        vertical-align: top;\n",
       "    }\n",
       "\n",
       "    .dataframe thead th {\n",
       "        text-align: right;\n",
       "    }\n",
       "</style>\n",
       "<table border=\"1\" class=\"dataframe\">\n",
       "  <thead>\n",
       "    <tr style=\"text-align: right;\">\n",
       "      <th>Loan_Status</th>\n",
       "      <th>N</th>\n",
       "      <th>Y</th>\n",
       "      <th>All</th>\n",
       "    </tr>\n",
       "    <tr>\n",
       "      <th>Gender</th>\n",
       "      <th></th>\n",
       "      <th></th>\n",
       "      <th></th>\n",
       "    </tr>\n",
       "  </thead>\n",
       "  <tbody>\n",
       "    <tr>\n",
       "      <th>Female</th>\n",
       "      <td>37</td>\n",
       "      <td>75</td>\n",
       "      <td>112</td>\n",
       "    </tr>\n",
       "    <tr>\n",
       "      <th>Male</th>\n",
       "      <td>155</td>\n",
       "      <td>347</td>\n",
       "      <td>502</td>\n",
       "    </tr>\n",
       "    <tr>\n",
       "      <th>All</th>\n",
       "      <td>192</td>\n",
       "      <td>422</td>\n",
       "      <td>614</td>\n",
       "    </tr>\n",
       "  </tbody>\n",
       "</table>\n",
       "</div>"
      ],
      "text/plain": [
       "Loan_Status    N    Y  All\n",
       "Gender                    \n",
       "Female        37   75  112\n",
       "Male         155  347  502\n",
       "All          192  422  614"
      ]
     },
     "execution_count": 71,
     "metadata": {},
     "output_type": "execute_result"
    }
   ],
   "source": [
    "pd.crosstab(df['Gender'],df[\"Loan_Status\"], margins=True)"
   ]
  },
  {
   "cell_type": "markdown",
   "id": "03c8d5ae",
   "metadata": {},
   "source": [
    "81.8% Applicant are male.\n",
    "\n",
    "Irrespective Gender 65 % Applicant from each gender gets loan approval."
   ]
  },
  {
   "cell_type": "markdown",
   "id": "3ba63090",
   "metadata": {},
   "source": [
    "### Married Vs Loan Status"
   ]
  },
  {
   "cell_type": "code",
   "execution_count": 72,
   "id": "4e17b5b4",
   "metadata": {},
   "outputs": [
    {
     "data": {
      "image/png": "[encoded data removed]",
      "text/plain": [
       "<Figure size 1152x576 with 2 Axes>"
      ]
     },
     "metadata": {
      "needs_background": "light"
     },
     "output_type": "display_data"
    }
   ],
   "source": [
    "plt.rcParams[\"figure.autolayout\"] = True\n",
    "f,ax=plt.subplots(1,2,figsize=(16,8))\n",
    "df['Married'].value_counts().plot.pie(explode=[0,0.1],autopct='%2.1f%%',\n",
    "                                          textprops ={'fontsize':13}, ax=ax[0])\n",
    "ax[0].set_title('Married', fontsize=20)\n",
    "ax[0].set_ylabel('')\n",
    "sns.countplot('Married',hue=\"Loan_Status\",data=df,ax=ax[1])\n",
    "ax[1].set_title('Married Vs Loan Status',fontsize=20)\n",
    "ax[1].set_xlabel(\"Married\",fontsize=18)\n",
    "plt.show()"
   ]
  },
  {
   "cell_type": "code",
   "execution_count": 73,
   "id": "ef2327cf",
   "metadata": {},
   "outputs": [
    {
     "data": {
      "text/html": [
       "<div>\n",
       "<style scoped>\n",
       "    .dataframe tbody tr th:only-of-type {\n",
       "        vertical-align: middle;\n",
       "    }\n",
       "\n",
       "    .dataframe tbody tr th {\n",
       "        vertical-align: top;\n",
       "    }\n",
       "\n",
       "    .dataframe thead th {\n",
       "        text-align: right;\n",
       "    }\n",
       "</style>\n",
       "<table border=\"1\" class=\"dataframe\">\n",
       "  <thead>\n",
       "    <tr style=\"text-align: right;\">\n",
       "      <th></th>\n",
       "      <th>Loan_Status</th>\n",
       "      <th>N</th>\n",
       "      <th>Y</th>\n",
       "      <th>All</th>\n",
       "    </tr>\n",
       "    <tr>\n",
       "      <th>Gender</th>\n",
       "      <th>Married</th>\n",
       "      <th></th>\n",
       "      <th></th>\n",
       "      <th></th>\n",
       "    </tr>\n",
       "  </thead>\n",
       "  <tbody>\n",
       "    <tr>\n",
       "      <th rowspan=\"2\" valign=\"top\">Female</th>\n",
       "      <th>No</th>\n",
       "      <td>29</td>\n",
       "      <td>51</td>\n",
       "      <td>80</td>\n",
       "    </tr>\n",
       "    <tr>\n",
       "      <th>Yes</th>\n",
       "      <td>8</td>\n",
       "      <td>24</td>\n",
       "      <td>32</td>\n",
       "    </tr>\n",
       "    <tr>\n",
       "      <th rowspan=\"2\" valign=\"top\">Male</th>\n",
       "      <th>No</th>\n",
       "      <td>50</td>\n",
       "      <td>83</td>\n",
       "      <td>133</td>\n",
       "    </tr>\n",
       "    <tr>\n",
       "      <th>Yes</th>\n",
       "      <td>105</td>\n",
       "      <td>264</td>\n",
       "      <td>369</td>\n",
       "    </tr>\n",
       "    <tr>\n",
       "      <th>All</th>\n",
       "      <th></th>\n",
       "      <td>192</td>\n",
       "      <td>422</td>\n",
       "      <td>614</td>\n",
       "    </tr>\n",
       "  </tbody>\n",
       "</table>\n",
       "</div>"
      ],
      "text/plain": [
       "Loan_Status       N    Y  All\n",
       "Gender Married               \n",
       "Female No        29   51   80\n",
       "       Yes        8   24   32\n",
       "Male   No        50   83  133\n",
       "       Yes      105  264  369\n",
       "All             192  422  614"
      ]
     },
     "execution_count": 73,
     "metadata": {},
     "output_type": "execute_result"
    }
   ],
   "source": [
    "pd.crosstab([df['Gender'],df['Married']],[df.Loan_Status],margins=True)"
   ]
  },
  {
   "cell_type": "markdown",
   "id": "d860226e",
   "metadata": {},
   "source": [
    "65.3 % loan applicants are married. We can see from Count plot that Married people have more possibility of getting loan approval.\n",
    "\n"
   ]
  },
  {
   "cell_type": "markdown",
   "id": "85e5d979",
   "metadata": {},
   "source": [
    "### Number of dependents "
   ]
  },
  {
   "cell_type": "code",
   "execution_count": 74,
   "id": "395b1450",
   "metadata": {},
   "outputs": [
    {
     "data": {
      "image/png": "[encoded data removed]",
      "text/plain": [
       "<Figure size 1152x576 with 2 Axes>"
      ]
     },
     "metadata": {
      "needs_background": "light"
     },
     "output_type": "display_data"
    }
   ],
   "source": [
    "plt.rcParams[\"figure.autolayout\"] = True\n",
    "f,ax=plt.subplots(1,2,figsize=(16,8))\n",
    "df['Dependents'].value_counts().plot.pie(explode=[0,0.1,0.15,0.2],autopct='%2.1f%%',\n",
    "                                          textprops ={'fontsize':13}, ax=ax[0])\n",
    "ax[0].set_title('No. of Dependents', fontsize=20)\n",
    "ax[0].set_ylabel('')\n",
    "sns.countplot('Dependents',hue=\"Loan_Status\",data=df,ax=ax[1])\n",
    "ax[1].set_title('No. of Dependents Vs Loan Status',fontsize=20)\n",
    "ax[1].set_xlabel(\"Dependents\",fontsize=18)\n",
    "plt.show()"
   ]
  },
  {
   "cell_type": "code",
   "execution_count": 75,
   "id": "7f014208",
   "metadata": {},
   "outputs": [
    {
     "data": {
      "text/html": [
       "<div>\n",
       "<style scoped>\n",
       "    .dataframe tbody tr th:only-of-type {\n",
       "        vertical-align: middle;\n",
       "    }\n",
       "\n",
       "    .dataframe tbody tr th {\n",
       "        vertical-align: top;\n",
       "    }\n",
       "\n",
       "    .dataframe thead tr th {\n",
       "        text-align: left;\n",
       "    }\n",
       "\n",
       "    .dataframe thead tr:last-of-type th {\n",
       "        text-align: right;\n",
       "    }\n",
       "</style>\n",
       "<table border=\"1\" class=\"dataframe\">\n",
       "  <thead>\n",
       "    <tr>\n",
       "      <th>Loan_Status</th>\n",
       "      <th colspan=\"2\" halign=\"left\">N</th>\n",
       "      <th colspan=\"2\" halign=\"left\">Y</th>\n",
       "      <th>All</th>\n",
       "    </tr>\n",
       "    <tr>\n",
       "      <th>Gender</th>\n",
       "      <th>Female</th>\n",
       "      <th>Male</th>\n",
       "      <th>Female</th>\n",
       "      <th>Male</th>\n",
       "      <th></th>\n",
       "    </tr>\n",
       "    <tr>\n",
       "      <th>Dependents</th>\n",
       "      <th></th>\n",
       "      <th></th>\n",
       "      <th></th>\n",
       "      <th></th>\n",
       "      <th></th>\n",
       "    </tr>\n",
       "  </thead>\n",
       "  <tbody>\n",
       "    <tr>\n",
       "      <th>0</th>\n",
       "      <td>27</td>\n",
       "      <td>86</td>\n",
       "      <td>56</td>\n",
       "      <td>191</td>\n",
       "      <td>360</td>\n",
       "    </tr>\n",
       "    <tr>\n",
       "      <th>1</th>\n",
       "      <td>6</td>\n",
       "      <td>30</td>\n",
       "      <td>13</td>\n",
       "      <td>53</td>\n",
       "      <td>102</td>\n",
       "    </tr>\n",
       "    <tr>\n",
       "      <th>2</th>\n",
       "      <td>2</td>\n",
       "      <td>23</td>\n",
       "      <td>5</td>\n",
       "      <td>71</td>\n",
       "      <td>101</td>\n",
       "    </tr>\n",
       "    <tr>\n",
       "      <th>3+</th>\n",
       "      <td>2</td>\n",
       "      <td>16</td>\n",
       "      <td>1</td>\n",
       "      <td>32</td>\n",
       "      <td>51</td>\n",
       "    </tr>\n",
       "    <tr>\n",
       "      <th>All</th>\n",
       "      <td>37</td>\n",
       "      <td>155</td>\n",
       "      <td>75</td>\n",
       "      <td>347</td>\n",
       "      <td>614</td>\n",
       "    </tr>\n",
       "  </tbody>\n",
       "</table>\n",
       "</div>"
      ],
      "text/plain": [
       "Loan_Status      N           Y       All\n",
       "Gender      Female Male Female Male     \n",
       "Dependents                              \n",
       "0               27   86     56  191  360\n",
       "1                6   30     13   53  102\n",
       "2                2   23      5   71  101\n",
       "3+               2   16      1   32   51\n",
       "All             37  155     75  347  614"
      ]
     },
     "execution_count": 75,
     "metadata": {},
     "output_type": "execute_result"
    }
   ],
   "source": [
    "pd.crosstab([df['Dependents']],[df.Loan_Status,df['Gender']],margins=True)"
   ]
  },
  {
   "cell_type": "code",
   "execution_count": 76,
   "id": "1d15b321",
   "metadata": {},
   "outputs": [
    {
     "data": {
      "text/html": [
       "<div>\n",
       "<style scoped>\n",
       "    .dataframe tbody tr th:only-of-type {\n",
       "        vertical-align: middle;\n",
       "    }\n",
       "\n",
       "    .dataframe tbody tr th {\n",
       "        vertical-align: top;\n",
       "    }\n",
       "\n",
       "    .dataframe thead th {\n",
       "        text-align: right;\n",
       "    }\n",
       "</style>\n",
       "<table border=\"1\" class=\"dataframe\">\n",
       "  <thead>\n",
       "    <tr style=\"text-align: right;\">\n",
       "      <th></th>\n",
       "      <th>Loan_Status</th>\n",
       "      <th>N</th>\n",
       "      <th>Y</th>\n",
       "      <th>All</th>\n",
       "    </tr>\n",
       "    <tr>\n",
       "      <th>Dependents</th>\n",
       "      <th>Gender</th>\n",
       "      <th></th>\n",
       "      <th></th>\n",
       "      <th></th>\n",
       "    </tr>\n",
       "  </thead>\n",
       "  <tbody>\n",
       "    <tr>\n",
       "      <th rowspan=\"2\" valign=\"top\">0</th>\n",
       "      <th>Female</th>\n",
       "      <td>27</td>\n",
       "      <td>56</td>\n",
       "      <td>83</td>\n",
       "    </tr>\n",
       "    <tr>\n",
       "      <th>Male</th>\n",
       "      <td>86</td>\n",
       "      <td>191</td>\n",
       "      <td>277</td>\n",
       "    </tr>\n",
       "    <tr>\n",
       "      <th rowspan=\"2\" valign=\"top\">1</th>\n",
       "      <th>Female</th>\n",
       "      <td>6</td>\n",
       "      <td>13</td>\n",
       "      <td>19</td>\n",
       "    </tr>\n",
       "    <tr>\n",
       "      <th>Male</th>\n",
       "      <td>30</td>\n",
       "      <td>53</td>\n",
       "      <td>83</td>\n",
       "    </tr>\n",
       "    <tr>\n",
       "      <th rowspan=\"2\" valign=\"top\">2</th>\n",
       "      <th>Female</th>\n",
       "      <td>2</td>\n",
       "      <td>5</td>\n",
       "      <td>7</td>\n",
       "    </tr>\n",
       "    <tr>\n",
       "      <th>Male</th>\n",
       "      <td>23</td>\n",
       "      <td>71</td>\n",
       "      <td>94</td>\n",
       "    </tr>\n",
       "    <tr>\n",
       "      <th rowspan=\"2\" valign=\"top\">3+</th>\n",
       "      <th>Female</th>\n",
       "      <td>2</td>\n",
       "      <td>1</td>\n",
       "      <td>3</td>\n",
       "    </tr>\n",
       "    <tr>\n",
       "      <th>Male</th>\n",
       "      <td>16</td>\n",
       "      <td>32</td>\n",
       "      <td>48</td>\n",
       "    </tr>\n",
       "    <tr>\n",
       "      <th>All</th>\n",
       "      <th></th>\n",
       "      <td>192</td>\n",
       "      <td>422</td>\n",
       "      <td>614</td>\n",
       "    </tr>\n",
       "  </tbody>\n",
       "</table>\n",
       "</div>"
      ],
      "text/plain": [
       "Loan_Status          N    Y  All\n",
       "Dependents Gender               \n",
       "0          Female   27   56   83\n",
       "           Male     86  191  277\n",
       "1          Female    6   13   19\n",
       "           Male     30   53   83\n",
       "2          Female    2    5    7\n",
       "           Male     23   71   94\n",
       "3+         Female    2    1    3\n",
       "           Male     16   32   48\n",
       "All                192  422  614"
      ]
     },
     "execution_count": 76,
     "metadata": {},
     "output_type": "execute_result"
    }
   ],
   "source": [
    "pd.crosstab([df['Dependents'],df['Gender']],[df.Loan_Status],margins=True)"
   ]
  },
  {
   "cell_type": "code",
   "execution_count": 77,
   "id": "d0a39a30",
   "metadata": {},
   "outputs": [
    {
     "data": {
      "text/html": [
       "<div>\n",
       "<style scoped>\n",
       "    .dataframe tbody tr th:only-of-type {\n",
       "        vertical-align: middle;\n",
       "    }\n",
       "\n",
       "    .dataframe tbody tr th {\n",
       "        vertical-align: top;\n",
       "    }\n",
       "\n",
       "    .dataframe thead tr th {\n",
       "        text-align: left;\n",
       "    }\n",
       "\n",
       "    .dataframe thead tr:last-of-type th {\n",
       "        text-align: right;\n",
       "    }\n",
       "</style>\n",
       "<table border=\"1\" class=\"dataframe\">\n",
       "  <thead>\n",
       "    <tr>\n",
       "      <th>Loan_Status</th>\n",
       "      <th colspan=\"2\" halign=\"left\">N</th>\n",
       "      <th colspan=\"2\" halign=\"left\">Y</th>\n",
       "      <th>All</th>\n",
       "    </tr>\n",
       "    <tr>\n",
       "      <th>Gender</th>\n",
       "      <th>Female</th>\n",
       "      <th>Male</th>\n",
       "      <th>Female</th>\n",
       "      <th>Male</th>\n",
       "      <th></th>\n",
       "    </tr>\n",
       "    <tr>\n",
       "      <th>Dependents</th>\n",
       "      <th></th>\n",
       "      <th></th>\n",
       "      <th></th>\n",
       "      <th></th>\n",
       "      <th></th>\n",
       "    </tr>\n",
       "  </thead>\n",
       "  <tbody>\n",
       "    <tr>\n",
       "      <th>0</th>\n",
       "      <td>27</td>\n",
       "      <td>86</td>\n",
       "      <td>56</td>\n",
       "      <td>191</td>\n",
       "      <td>360</td>\n",
       "    </tr>\n",
       "    <tr>\n",
       "      <th>1</th>\n",
       "      <td>6</td>\n",
       "      <td>30</td>\n",
       "      <td>13</td>\n",
       "      <td>53</td>\n",
       "      <td>102</td>\n",
       "    </tr>\n",
       "    <tr>\n",
       "      <th>2</th>\n",
       "      <td>2</td>\n",
       "      <td>23</td>\n",
       "      <td>5</td>\n",
       "      <td>71</td>\n",
       "      <td>101</td>\n",
       "    </tr>\n",
       "    <tr>\n",
       "      <th>3+</th>\n",
       "      <td>2</td>\n",
       "      <td>16</td>\n",
       "      <td>1</td>\n",
       "      <td>32</td>\n",
       "      <td>51</td>\n",
       "    </tr>\n",
       "    <tr>\n",
       "      <th>All</th>\n",
       "      <td>37</td>\n",
       "      <td>155</td>\n",
       "      <td>75</td>\n",
       "      <td>347</td>\n",
       "      <td>614</td>\n",
       "    </tr>\n",
       "  </tbody>\n",
       "</table>\n",
       "</div>"
      ],
      "text/plain": [
       "Loan_Status      N           Y       All\n",
       "Gender      Female Male Female Male     \n",
       "Dependents                              \n",
       "0               27   86     56  191  360\n",
       "1                6   30     13   53  102\n",
       "2                2   23      5   71  101\n",
       "3+               2   16      1   32   51\n",
       "All             37  155     75  347  614"
      ]
     },
     "execution_count": 77,
     "metadata": {},
     "output_type": "execute_result"
    }
   ],
   "source": [
    "pd.crosstab([df['Dependents']],[df.Loan_Status,df['Gender']],margins=True)"
   ]
  },
  {
   "cell_type": "markdown",
   "id": "1e5d165f",
   "metadata": {},
   "source": [
    "58.6% Applicants have no dependents on them.33% Applicants have either 1 or 2 dependents.\n",
    "\n",
    "Female having zero dependents have more chances to get loan approval compare to Females with dependents.\n",
    "\n",
    "Male Maximum loan approval comes with 0 dependents followed by 2 dependents."
   ]
  },
  {
   "cell_type": "markdown",
   "id": "2190e552",
   "metadata": {},
   "source": [
    "### Education Vs Loan status"
   ]
  },
  {
   "cell_type": "code",
   "execution_count": 78,
   "id": "959b2374",
   "metadata": {},
   "outputs": [
    {
     "data": {
      "image/png": "[encoded data removed]",
      "text/plain": [
       "<Figure size 1152x576 with 2 Axes>"
      ]
     },
     "metadata": {
      "needs_background": "light"
     },
     "output_type": "display_data"
    }
   ],
   "source": [
    "plt.rcParams[\"figure.autolayout\"] = True\n",
    "f,ax=plt.subplots(1,2,figsize=(16,8))\n",
    "df['Education'].value_counts().plot.pie(explode=[0,0.1],autopct='%2.1f%%',\n",
    "                                          textprops ={'fontsize':13}, ax=ax[0])\n",
    "ax[0].set_title('Education', fontsize=20)\n",
    "ax[0].set_ylabel('')\n",
    "sns.countplot('Education',hue=\"Loan_Status\",data=df,ax=ax[1])\n",
    "ax[1].set_title('Education Vs Loan Status',fontsize=20)\n",
    "ax[1].set_xlabel(\"Education\",fontsize=18)\n",
    "plt.show()\n"
   ]
  },
  {
   "cell_type": "code",
   "execution_count": 79,
   "id": "32439280",
   "metadata": {},
   "outputs": [
    {
     "data": {
      "text/html": [
       "<div>\n",
       "<style scoped>\n",
       "    .dataframe tbody tr th:only-of-type {\n",
       "        vertical-align: middle;\n",
       "    }\n",
       "\n",
       "    .dataframe tbody tr th {\n",
       "        vertical-align: top;\n",
       "    }\n",
       "\n",
       "    .dataframe thead th {\n",
       "        text-align: right;\n",
       "    }\n",
       "</style>\n",
       "<table border=\"1\" class=\"dataframe\">\n",
       "  <thead>\n",
       "    <tr style=\"text-align: right;\">\n",
       "      <th></th>\n",
       "      <th>Loan_Status</th>\n",
       "      <th>N</th>\n",
       "      <th>Y</th>\n",
       "      <th>All</th>\n",
       "    </tr>\n",
       "    <tr>\n",
       "      <th>Education</th>\n",
       "      <th>Gender</th>\n",
       "      <th></th>\n",
       "      <th></th>\n",
       "      <th></th>\n",
       "    </tr>\n",
       "  </thead>\n",
       "  <tbody>\n",
       "    <tr>\n",
       "      <th rowspan=\"2\" valign=\"top\">Graduate</th>\n",
       "      <th>Female</th>\n",
       "      <td>31</td>\n",
       "      <td>61</td>\n",
       "      <td>92</td>\n",
       "    </tr>\n",
       "    <tr>\n",
       "      <th>Male</th>\n",
       "      <td>109</td>\n",
       "      <td>279</td>\n",
       "      <td>388</td>\n",
       "    </tr>\n",
       "    <tr>\n",
       "      <th rowspan=\"2\" valign=\"top\">Not Graduate</th>\n",
       "      <th>Female</th>\n",
       "      <td>6</td>\n",
       "      <td>14</td>\n",
       "      <td>20</td>\n",
       "    </tr>\n",
       "    <tr>\n",
       "      <th>Male</th>\n",
       "      <td>46</td>\n",
       "      <td>68</td>\n",
       "      <td>114</td>\n",
       "    </tr>\n",
       "    <tr>\n",
       "      <th>All</th>\n",
       "      <th></th>\n",
       "      <td>192</td>\n",
       "      <td>422</td>\n",
       "      <td>614</td>\n",
       "    </tr>\n",
       "  </tbody>\n",
       "</table>\n",
       "</div>"
      ],
      "text/plain": [
       "Loan_Status            N    Y  All\n",
       "Education    Gender               \n",
       "Graduate     Female   31   61   92\n",
       "             Male    109  279  388\n",
       "Not Graduate Female    6   14   20\n",
       "             Male     46   68  114\n",
       "All                  192  422  614"
      ]
     },
     "execution_count": 79,
     "metadata": {},
     "output_type": "execute_result"
    }
   ],
   "source": [
    "  pd.crosstab([df['Education'],df['Gender']],[df.Loan_Status],margins=True)"
   ]
  },
  {
   "cell_type": "markdown",
   "id": "aea43756",
   "metadata": {},
   "source": [
    "Graduate applicants are more likely to get loan approval irrespective gender."
   ]
  },
  {
   "cell_type": "markdown",
   "id": "a010120e",
   "metadata": {},
   "source": [
    "# Encoding categorical data"
   ]
  },
  {
   "cell_type": "code",
   "execution_count": 80,
   "id": "1ce1d897",
   "metadata": {},
   "outputs": [],
   "source": [
    "Category=['Gender','Married','Education','Self_Employed','Property_Area','Loan_Status']"
   ]
  },
  {
   "cell_type": "code",
   "execution_count": 81,
   "id": "2fc5abcf",
   "metadata": {},
   "outputs": [
    {
     "data": {
      "text/html": [
       "<div>\n",
       "<style scoped>\n",
       "    .dataframe tbody tr th:only-of-type {\n",
       "        vertical-align: middle;\n",
       "    }\n",
       "\n",
       "    .dataframe tbody tr th {\n",
       "        vertical-align: top;\n",
       "    }\n",
       "\n",
       "    .dataframe thead th {\n",
       "        text-align: right;\n",
       "    }\n",
       "</style>\n",
       "<table border=\"1\" class=\"dataframe\">\n",
       "  <thead>\n",
       "    <tr style=\"text-align: right;\">\n",
       "      <th></th>\n",
       "      <th>Loan_ID</th>\n",
       "      <th>Gender</th>\n",
       "      <th>Married</th>\n",
       "      <th>Dependents</th>\n",
       "      <th>Education</th>\n",
       "      <th>Self_Employed</th>\n",
       "      <th>ApplicantIncome</th>\n",
       "      <th>CoapplicantIncome</th>\n",
       "      <th>LoanAmount</th>\n",
       "      <th>Loan_Amount_Term</th>\n",
       "      <th>Credit_History</th>\n",
       "      <th>Property_Area</th>\n",
       "      <th>Loan_Status</th>\n",
       "    </tr>\n",
       "  </thead>\n",
       "  <tbody>\n",
       "    <tr>\n",
       "      <th>0</th>\n",
       "      <td>LP001002</td>\n",
       "      <td>1</td>\n",
       "      <td>0</td>\n",
       "      <td>0</td>\n",
       "      <td>0</td>\n",
       "      <td>0</td>\n",
       "      <td>5849</td>\n",
       "      <td>0.0</td>\n",
       "      <td>128.0</td>\n",
       "      <td>360.0</td>\n",
       "      <td>1.0</td>\n",
       "      <td>2</td>\n",
       "      <td>1</td>\n",
       "    </tr>\n",
       "    <tr>\n",
       "      <th>1</th>\n",
       "      <td>LP001003</td>\n",
       "      <td>1</td>\n",
       "      <td>1</td>\n",
       "      <td>1</td>\n",
       "      <td>0</td>\n",
       "      <td>0</td>\n",
       "      <td>4583</td>\n",
       "      <td>1508.0</td>\n",
       "      <td>128.0</td>\n",
       "      <td>360.0</td>\n",
       "      <td>1.0</td>\n",
       "      <td>0</td>\n",
       "      <td>0</td>\n",
       "    </tr>\n",
       "    <tr>\n",
       "      <th>2</th>\n",
       "      <td>LP001005</td>\n",
       "      <td>1</td>\n",
       "      <td>1</td>\n",
       "      <td>0</td>\n",
       "      <td>0</td>\n",
       "      <td>1</td>\n",
       "      <td>3000</td>\n",
       "      <td>0.0</td>\n",
       "      <td>66.0</td>\n",
       "      <td>360.0</td>\n",
       "      <td>1.0</td>\n",
       "      <td>2</td>\n",
       "      <td>1</td>\n",
       "    </tr>\n",
       "    <tr>\n",
       "      <th>3</th>\n",
       "      <td>LP001006</td>\n",
       "      <td>1</td>\n",
       "      <td>1</td>\n",
       "      <td>0</td>\n",
       "      <td>1</td>\n",
       "      <td>0</td>\n",
       "      <td>2583</td>\n",
       "      <td>2358.0</td>\n",
       "      <td>120.0</td>\n",
       "      <td>360.0</td>\n",
       "      <td>1.0</td>\n",
       "      <td>2</td>\n",
       "      <td>1</td>\n",
       "    </tr>\n",
       "    <tr>\n",
       "      <th>4</th>\n",
       "      <td>LP001008</td>\n",
       "      <td>1</td>\n",
       "      <td>0</td>\n",
       "      <td>0</td>\n",
       "      <td>0</td>\n",
       "      <td>0</td>\n",
       "      <td>6000</td>\n",
       "      <td>0.0</td>\n",
       "      <td>141.0</td>\n",
       "      <td>360.0</td>\n",
       "      <td>1.0</td>\n",
       "      <td>2</td>\n",
       "      <td>1</td>\n",
       "    </tr>\n",
       "  </tbody>\n",
       "</table>\n",
       "</div>"
      ],
      "text/plain": [
       "    Loan_ID  Gender  Married Dependents  Education  Self_Employed  \\\n",
       "0  LP001002       1        0          0          0              0   \n",
       "1  LP001003       1        1          1          0              0   \n",
       "2  LP001005       1        1          0          0              1   \n",
       "3  LP001006       1        1          0          1              0   \n",
       "4  LP001008       1        0          0          0              0   \n",
       "\n",
       "   ApplicantIncome  CoapplicantIncome  LoanAmount  Loan_Amount_Term  \\\n",
       "0             5849                0.0       128.0             360.0   \n",
       "1             4583             1508.0       128.0             360.0   \n",
       "2             3000                0.0        66.0             360.0   \n",
       "3             2583             2358.0       120.0             360.0   \n",
       "4             6000                0.0       141.0             360.0   \n",
       "\n",
       "   Credit_History  Property_Area  Loan_Status  \n",
       "0             1.0              2            1  \n",
       "1             1.0              0            0  \n",
       "2             1.0              2            1  \n",
       "3             1.0              2            1  \n",
       "4             1.0              2            1  "
      ]
     },
     "execution_count": 81,
     "metadata": {},
     "output_type": "execute_result"
    }
   ],
   "source": [
    "# Using Label Encoder on categorical variable\n",
    "from sklearn.preprocessing import LabelEncoder\n",
    "le = LabelEncoder()\n",
    "for i in Category:\n",
    "    df[i] = le.fit_transform(df[i])\n",
    "df.head()"
   ]
  },
  {
   "cell_type": "markdown",
   "id": "7ca0257b",
   "metadata": {},
   "source": [
    "# Feature Engineering"
   ]
  },
  {
   "cell_type": "code",
   "execution_count": 82,
   "id": "28fa6ef8",
   "metadata": {},
   "outputs": [],
   "source": [
    "Numerical =['ApplicantIncome','CoapplicantIncome','LoanAmount','Loan_Amount_Term']"
   ]
  },
  {
   "cell_type": "code",
   "execution_count": 83,
   "id": "80b1123a",
   "metadata": {},
   "outputs": [
    {
     "data": {
      "image/png": "[encoded data removed]",
      "text/plain": [
       "<Figure size 864x576 with 4 Axes>"
      ]
     },
     "metadata": {},
     "output_type": "display_data"
    }
   ],
   "source": [
    "plt.figure(figsize=(12,8),facecolor='white')\n",
    "plotnumber=1\n",
    "\n",
    "for column in Numerical:\n",
    "    if plotnumber<=4:\n",
    "        ax=plt.subplot(2,2,plotnumber)\n",
    "        sns.boxplot(df[column])\n",
    "        plt.xlabel(column,fontsize=20)\n",
    "    plotnumber+=1\n",
    "plt.tight_layout()\n",
    "plt.show()"
   ]
  },
  {
   "cell_type": "code",
   "execution_count": 84,
   "id": "4f20c2bd",
   "metadata": {},
   "outputs": [],
   "source": [
    "# Droping unnecessary columns\n",
    "df.drop([\"Loan_ID\"], axis=1, inplace=True)"
   ]
  },
  {
   "cell_type": "code",
   "execution_count": 85,
   "id": "99c2b681",
   "metadata": {},
   "outputs": [],
   "source": [
    "df['Dependents'] = df.Dependents.map({'0':0,'1':1,'2':2,'3+':3})"
   ]
  },
  {
   "cell_type": "code",
   "execution_count": 86,
   "id": "69ce2740",
   "metadata": {},
   "outputs": [],
   "source": [
    "df['Dependents'] =pd.to_numeric(df['Dependents'])"
   ]
  },
  {
   "cell_type": "code",
   "execution_count": 87,
   "id": "cd164392",
   "metadata": {},
   "outputs": [],
   "source": [
    "def threhold(z,d):\n",
    "    for i in np.arange(3,4,0.01):\n",
    "        data=d.copy()\n",
    "        data=data[(z<i).all(axis=1)]\n",
    "        loss=(d.shape[0]-data.shape[0])/d.shape[0]*100\n",
    "        print('With threshold {} data loss is {}%'.format(np.round(i,2),np.round(loss,2))) "
   ]
  },
  {
   "cell_type": "code",
   "execution_count": 88,
   "id": "73d07bd7",
   "metadata": {},
   "outputs": [
    {
     "name": "stdout",
     "output_type": "stream",
     "text": [
      "With threshold 3.0 data loss is 6.03%\n",
      "With threshold 3.01 data loss is 6.03%\n",
      "With threshold 3.02 data loss is 5.86%\n",
      "With threshold 3.03 data loss is 5.7%\n",
      "With threshold 3.04 data loss is 5.7%\n",
      "With threshold 3.05 data loss is 5.7%\n",
      "With threshold 3.06 data loss is 5.7%\n",
      "With threshold 3.07 data loss is 5.7%\n",
      "With threshold 3.08 data loss is 5.7%\n",
      "With threshold 3.09 data loss is 5.54%\n",
      "With threshold 3.1 data loss is 5.54%\n",
      "With threshold 3.11 data loss is 5.54%\n",
      "With threshold 3.12 data loss is 5.54%\n",
      "With threshold 3.13 data loss is 5.54%\n",
      "With threshold 3.14 data loss is 5.54%\n",
      "With threshold 3.15 data loss is 5.54%\n",
      "With threshold 3.16 data loss is 5.54%\n",
      "With threshold 3.17 data loss is 5.54%\n",
      "With threshold 3.18 data loss is 5.54%\n",
      "With threshold 3.19 data loss is 5.54%\n",
      "With threshold 3.2 data loss is 5.37%\n",
      "With threshold 3.21 data loss is 5.37%\n",
      "With threshold 3.22 data loss is 5.37%\n",
      "With threshold 3.23 data loss is 5.37%\n",
      "With threshold 3.24 data loss is 5.37%\n",
      "With threshold 3.25 data loss is 5.37%\n",
      "With threshold 3.26 data loss is 5.37%\n",
      "With threshold 3.27 data loss is 5.37%\n",
      "With threshold 3.28 data loss is 5.37%\n",
      "With threshold 3.29 data loss is 5.37%\n",
      "With threshold 3.3 data loss is 5.37%\n",
      "With threshold 3.31 data loss is 5.37%\n",
      "With threshold 3.32 data loss is 5.37%\n",
      "With threshold 3.33 data loss is 5.37%\n",
      "With threshold 3.34 data loss is 5.37%\n",
      "With threshold 3.35 data loss is 5.37%\n",
      "With threshold 3.36 data loss is 5.37%\n",
      "With threshold 3.37 data loss is 5.37%\n",
      "With threshold 3.38 data loss is 5.37%\n",
      "With threshold 3.39 data loss is 5.37%\n",
      "With threshold 3.4 data loss is 5.37%\n",
      "With threshold 3.41 data loss is 5.37%\n",
      "With threshold 3.42 data loss is 5.37%\n",
      "With threshold 3.43 data loss is 5.37%\n",
      "With threshold 3.44 data loss is 5.37%\n",
      "With threshold 3.45 data loss is 5.37%\n",
      "With threshold 3.46 data loss is 4.72%\n",
      "With threshold 3.47 data loss is 4.72%\n",
      "With threshold 3.48 data loss is 4.72%\n",
      "With threshold 3.49 data loss is 4.72%\n",
      "With threshold 3.5 data loss is 4.72%\n",
      "With threshold 3.51 data loss is 4.72%\n",
      "With threshold 3.52 data loss is 4.72%\n",
      "With threshold 3.53 data loss is 4.72%\n",
      "With threshold 3.54 data loss is 4.72%\n",
      "With threshold 3.55 data loss is 4.72%\n",
      "With threshold 3.56 data loss is 4.72%\n",
      "With threshold 3.57 data loss is 4.72%\n",
      "With threshold 3.58 data loss is 4.72%\n",
      "With threshold 3.59 data loss is 4.72%\n",
      "With threshold 3.6 data loss is 4.72%\n",
      "With threshold 3.61 data loss is 4.72%\n",
      "With threshold 3.62 data loss is 4.72%\n",
      "With threshold 3.63 data loss is 4.72%\n",
      "With threshold 3.64 data loss is 4.72%\n",
      "With threshold 3.65 data loss is 4.72%\n",
      "With threshold 3.66 data loss is 4.72%\n",
      "With threshold 3.67 data loss is 4.72%\n",
      "With threshold 3.68 data loss is 4.72%\n",
      "With threshold 3.69 data loss is 4.72%\n",
      "With threshold 3.7 data loss is 4.72%\n",
      "With threshold 3.71 data loss is 4.72%\n",
      "With threshold 3.72 data loss is 4.72%\n",
      "With threshold 3.73 data loss is 4.72%\n",
      "With threshold 3.74 data loss is 4.72%\n",
      "With threshold 3.75 data loss is 4.72%\n",
      "With threshold 3.76 data loss is 4.72%\n",
      "With threshold 3.77 data loss is 4.72%\n",
      "With threshold 3.78 data loss is 4.72%\n",
      "With threshold 3.79 data loss is 4.72%\n",
      "With threshold 3.8 data loss is 4.72%\n",
      "With threshold 3.81 data loss is 4.72%\n",
      "With threshold 3.82 data loss is 4.72%\n",
      "With threshold 3.83 data loss is 4.72%\n",
      "With threshold 3.84 data loss is 4.72%\n",
      "With threshold 3.85 data loss is 4.72%\n",
      "With threshold 3.86 data loss is 4.72%\n",
      "With threshold 3.87 data loss is 4.72%\n",
      "With threshold 3.88 data loss is 4.72%\n",
      "With threshold 3.89 data loss is 4.72%\n",
      "With threshold 3.9 data loss is 4.72%\n",
      "With threshold 3.91 data loss is 4.72%\n",
      "With threshold 3.92 data loss is 4.72%\n",
      "With threshold 3.93 data loss is 4.72%\n",
      "With threshold 3.94 data loss is 4.72%\n",
      "With threshold 3.95 data loss is 4.72%\n",
      "With threshold 3.96 data loss is 4.72%\n",
      "With threshold 3.97 data loss is 4.72%\n",
      "With threshold 3.98 data loss is 4.23%\n",
      "With threshold 3.99 data loss is 4.23%\n"
     ]
    }
   ],
   "source": [
    "#Using zscore method to remove outliers\n",
    "from scipy.stats import zscore\n",
    "z=np.abs(zscore(df))\n",
    "threhold(z,df)"
   ]
  },
  {
   "cell_type": "code",
   "execution_count": 89,
   "id": "f94ea153",
   "metadata": {},
   "outputs": [
    {
     "name": "stdout",
     "output_type": "stream",
     "text": [
      "Shape of the dataframe before removing outliers:  (614, 12)\n",
      "Shape of the dataframe after removing outliers:  (585, 12)\n",
      "Percentage of data loss post outlier removal:  4.723127035830619\n"
     ]
    }
   ],
   "source": [
    "threshold = 3.5\n",
    "df1 = df[(z<3.5).all(axis = 1)]\n",
    "\n",
    "print (\"Shape of the dataframe before removing outliers: \", df.shape)\n",
    "print (\"Shape of the dataframe after removing outliers: \", df1.shape)\n",
    "print (\"Percentage of data loss post outlier removal: \", (df.shape[0]-df1.shape[0])/df.shape[0]*100)\n",
    "\n",
    "df=df1.copy() "
   ]
  },
  {
   "cell_type": "markdown",
   "id": "ab72f517",
   "metadata": {},
   "source": [
    "### Skewness"
   ]
  },
  {
   "cell_type": "code",
   "execution_count": 90,
   "id": "549ccfbc",
   "metadata": {},
   "outputs": [
    {
     "data": {
      "text/plain": [
       "Gender              -1.644689\n",
       "Married             -0.636519\n",
       "Dependents           1.044111\n",
       "Education            1.316088\n",
       "Self_Employed        2.229920\n",
       "ApplicantIncome      2.269125\n",
       "CoapplicantIncome    1.535617\n",
       "LoanAmount           1.424895\n",
       "Loan_Amount_Term    -2.157886\n",
       "Credit_History      -1.998786\n",
       "Property_Area       -0.051356\n",
       "Loan_Status         -0.835477\n",
       "dtype: float64"
      ]
     },
     "execution_count": 90,
     "metadata": {},
     "output_type": "execute_result"
    }
   ],
   "source": [
    "df.skew()"
   ]
  },
  {
   "cell_type": "code",
   "execution_count": 91,
   "id": "f9750c5e",
   "metadata": {},
   "outputs": [
    {
     "data": {
      "image/png": "[encoded data removed]",
      "text/plain": [
       "<Figure size 1584x360 with 4 Axes>"
      ]
     },
     "metadata": {},
     "output_type": "display_data"
    }
   ],
   "source": [
    "plt.figure(figsize=(22,5),facecolor='white')\n",
    "plotnum=1\n",
    "for col in Numerical:\n",
    "    if plotnum<=4:\n",
    "        plt.subplot(1,4,plotnum)\n",
    "        sns.distplot(df[col])\n",
    "        plt.xlabel(col,fontsize=20)\n",
    "    plotnum+=1\n",
    "plt.show()"
   ]
  },
  {
   "cell_type": "markdown",
   "id": "6067ae2a",
   "metadata": {},
   "source": [
    "Out of all above feature 'ApplicantIncome', 'CoapplicantIncome', 'LoanAmount' are skewed which are numerical feature."
   ]
  },
  {
   "cell_type": "code",
   "execution_count": 92,
   "id": "b6f38dc8",
   "metadata": {},
   "outputs": [],
   "source": [
    "# Removing skewness using yeo-johnson  method to get better prediction\n",
    "skew = ['ApplicantIncome', 'CoapplicantIncome', 'LoanAmount']\n",
    "\n",
    "from sklearn.preprocessing import PowerTransformer\n",
    "scaler = PowerTransformer(method='yeo-johnson')"
   ]
  },
  {
   "cell_type": "code",
   "execution_count": 93,
   "id": "b259bf88",
   "metadata": {},
   "outputs": [
    {
     "data": {
      "text/html": [
       "<div>\n",
       "<style scoped>\n",
       "    .dataframe tbody tr th:only-of-type {\n",
       "        vertical-align: middle;\n",
       "    }\n",
       "\n",
       "    .dataframe tbody tr th {\n",
       "        vertical-align: top;\n",
       "    }\n",
       "\n",
       "    .dataframe thead th {\n",
       "        text-align: right;\n",
       "    }\n",
       "</style>\n",
       "<table border=\"1\" class=\"dataframe\">\n",
       "  <thead>\n",
       "    <tr style=\"text-align: right;\">\n",
       "      <th></th>\n",
       "      <th>ApplicantIncome</th>\n",
       "      <th>CoapplicantIncome</th>\n",
       "      <th>LoanAmount</th>\n",
       "    </tr>\n",
       "  </thead>\n",
       "  <tbody>\n",
       "    <tr>\n",
       "      <th>0</th>\n",
       "      <td>0.651500</td>\n",
       "      <td>-1.113075</td>\n",
       "      <td>-0.004751</td>\n",
       "    </tr>\n",
       "    <tr>\n",
       "      <th>1</th>\n",
       "      <td>0.218095</td>\n",
       "      <td>0.754158</td>\n",
       "      <td>-0.004751</td>\n",
       "    </tr>\n",
       "    <tr>\n",
       "      <th>2</th>\n",
       "      <td>-0.526687</td>\n",
       "      <td>-1.113075</td>\n",
       "      <td>-1.366594</td>\n",
       "    </tr>\n",
       "    <tr>\n",
       "      <th>3</th>\n",
       "      <td>-0.787281</td>\n",
       "      <td>0.902399</td>\n",
       "      <td>-0.149903</td>\n",
       "    </tr>\n",
       "    <tr>\n",
       "      <th>4</th>\n",
       "      <td>0.696989</td>\n",
       "      <td>-1.113075</td>\n",
       "      <td>0.218212</td>\n",
       "    </tr>\n",
       "  </tbody>\n",
       "</table>\n",
       "</div>"
      ],
      "text/plain": [
       "   ApplicantIncome  CoapplicantIncome  LoanAmount\n",
       "0         0.651500          -1.113075   -0.004751\n",
       "1         0.218095           0.754158   -0.004751\n",
       "2        -0.526687          -1.113075   -1.366594\n",
       "3        -0.787281           0.902399   -0.149903\n",
       "4         0.696989          -1.113075    0.218212"
      ]
     },
     "execution_count": 93,
     "metadata": {},
     "output_type": "execute_result"
    }
   ],
   "source": [
    "df[skew] = scaler.fit_transform(df[skew].values)\n",
    "df[skew].head()"
   ]
  },
  {
   "cell_type": "code",
   "execution_count": 94,
   "id": "ba614eff",
   "metadata": {},
   "outputs": [
    {
     "data": {
      "text/plain": [
       "Gender              -1.644689\n",
       "Married             -0.636519\n",
       "Dependents           1.044111\n",
       "Education            1.316088\n",
       "Self_Employed        2.229920\n",
       "ApplicantIncome      0.016696\n",
       "CoapplicantIncome   -0.175778\n",
       "LoanAmount           0.062015\n",
       "Loan_Amount_Term    -2.157886\n",
       "Credit_History      -1.998786\n",
       "Property_Area       -0.051356\n",
       "Loan_Status         -0.835477\n",
       "dtype: float64"
      ]
     },
     "execution_count": 94,
     "metadata": {},
     "output_type": "execute_result"
    }
   ],
   "source": [
    "df.skew()"
   ]
  },
  {
   "cell_type": "markdown",
   "id": "00b629b7",
   "metadata": {},
   "source": [
    "### Corrleation"
   ]
  },
  {
   "cell_type": "code",
   "execution_count": 95,
   "id": "8fdea642",
   "metadata": {},
   "outputs": [
    {
     "data": {
      "text/html": [
       "<div>\n",
       "<style scoped>\n",
       "    .dataframe tbody tr th:only-of-type {\n",
       "        vertical-align: middle;\n",
       "    }\n",
       "\n",
       "    .dataframe tbody tr th {\n",
       "        vertical-align: top;\n",
       "    }\n",
       "\n",
       "    .dataframe thead th {\n",
       "        text-align: right;\n",
       "    }\n",
       "</style>\n",
       "<table border=\"1\" class=\"dataframe\">\n",
       "  <thead>\n",
       "    <tr style=\"text-align: right;\">\n",
       "      <th></th>\n",
       "      <th>Gender</th>\n",
       "      <th>Married</th>\n",
       "      <th>Dependents</th>\n",
       "      <th>Education</th>\n",
       "      <th>Self_Employed</th>\n",
       "      <th>ApplicantIncome</th>\n",
       "      <th>CoapplicantIncome</th>\n",
       "      <th>LoanAmount</th>\n",
       "      <th>Loan_Amount_Term</th>\n",
       "      <th>Credit_History</th>\n",
       "      <th>Property_Area</th>\n",
       "      <th>Loan_Status</th>\n",
       "    </tr>\n",
       "  </thead>\n",
       "  <tbody>\n",
       "    <tr>\n",
       "      <th>Gender</th>\n",
       "      <td>1.000000</td>\n",
       "      <td>0.377511</td>\n",
       "      <td>0.187968</td>\n",
       "      <td>0.043832</td>\n",
       "      <td>-0.003730</td>\n",
       "      <td>0.065509</td>\n",
       "      <td>0.228483</td>\n",
       "      <td>0.165705</td>\n",
       "      <td>-0.109261</td>\n",
       "      <td>0.015859</td>\n",
       "      <td>-0.027471</td>\n",
       "      <td>0.019898</td>\n",
       "    </tr>\n",
       "    <tr>\n",
       "      <th>Married</th>\n",
       "      <td>0.377511</td>\n",
       "      <td>1.000000</td>\n",
       "      <td>0.332919</td>\n",
       "      <td>0.017426</td>\n",
       "      <td>-0.009078</td>\n",
       "      <td>-0.018840</td>\n",
       "      <td>0.333520</td>\n",
       "      <td>0.175862</td>\n",
       "      <td>-0.120762</td>\n",
       "      <td>0.020362</td>\n",
       "      <td>0.008786</td>\n",
       "      <td>0.087282</td>\n",
       "    </tr>\n",
       "    <tr>\n",
       "      <th>Dependents</th>\n",
       "      <td>0.187968</td>\n",
       "      <td>0.332919</td>\n",
       "      <td>1.000000</td>\n",
       "      <td>0.063818</td>\n",
       "      <td>0.044987</td>\n",
       "      <td>0.112202</td>\n",
       "      <td>0.005138</td>\n",
       "      <td>0.132600</td>\n",
       "      <td>-0.080395</td>\n",
       "      <td>-0.018479</td>\n",
       "      <td>-0.002816</td>\n",
       "      <td>0.019152</td>\n",
       "    </tr>\n",
       "    <tr>\n",
       "      <th>Education</th>\n",
       "      <td>0.043832</td>\n",
       "      <td>0.017426</td>\n",
       "      <td>0.063818</td>\n",
       "      <td>1.000000</td>\n",
       "      <td>-0.011291</td>\n",
       "      <td>-0.179275</td>\n",
       "      <td>0.049233</td>\n",
       "      <td>-0.136085</td>\n",
       "      <td>-0.092479</td>\n",
       "      <td>-0.076160</td>\n",
       "      <td>-0.066682</td>\n",
       "      <td>-0.092012</td>\n",
       "    </tr>\n",
       "    <tr>\n",
       "      <th>Self_Employed</th>\n",
       "      <td>-0.003730</td>\n",
       "      <td>-0.009078</td>\n",
       "      <td>0.044987</td>\n",
       "      <td>-0.011291</td>\n",
       "      <td>1.000000</td>\n",
       "      <td>0.206947</td>\n",
       "      <td>-0.094122</td>\n",
       "      <td>0.105006</td>\n",
       "      <td>-0.043867</td>\n",
       "      <td>-0.014069</td>\n",
       "      <td>-0.033643</td>\n",
       "      <td>-0.021305</td>\n",
       "    </tr>\n",
       "    <tr>\n",
       "      <th>ApplicantIncome</th>\n",
       "      <td>0.065509</td>\n",
       "      <td>-0.018840</td>\n",
       "      <td>0.112202</td>\n",
       "      <td>-0.179275</td>\n",
       "      <td>0.206947</td>\n",
       "      <td>1.000000</td>\n",
       "      <td>-0.362453</td>\n",
       "      <td>0.465856</td>\n",
       "      <td>-0.042145</td>\n",
       "      <td>0.034455</td>\n",
       "      <td>-0.028338</td>\n",
       "      <td>0.001551</td>\n",
       "    </tr>\n",
       "    <tr>\n",
       "      <th>CoapplicantIncome</th>\n",
       "      <td>0.228483</td>\n",
       "      <td>0.333520</td>\n",
       "      <td>0.005138</td>\n",
       "      <td>0.049233</td>\n",
       "      <td>-0.094122</td>\n",
       "      <td>-0.362453</td>\n",
       "      <td>1.000000</td>\n",
       "      <td>0.175430</td>\n",
       "      <td>0.011462</td>\n",
       "      <td>0.003337</td>\n",
       "      <td>-0.066786</td>\n",
       "      <td>0.067858</td>\n",
       "    </tr>\n",
       "    <tr>\n",
       "      <th>LoanAmount</th>\n",
       "      <td>0.165705</td>\n",
       "      <td>0.175862</td>\n",
       "      <td>0.132600</td>\n",
       "      <td>-0.136085</td>\n",
       "      <td>0.105006</td>\n",
       "      <td>0.465856</td>\n",
       "      <td>0.175430</td>\n",
       "      <td>1.000000</td>\n",
       "      <td>0.116444</td>\n",
       "      <td>0.000282</td>\n",
       "      <td>-0.112519</td>\n",
       "      <td>-0.024818</td>\n",
       "    </tr>\n",
       "    <tr>\n",
       "      <th>Loan_Amount_Term</th>\n",
       "      <td>-0.109261</td>\n",
       "      <td>-0.120762</td>\n",
       "      <td>-0.080395</td>\n",
       "      <td>-0.092479</td>\n",
       "      <td>-0.043867</td>\n",
       "      <td>-0.042145</td>\n",
       "      <td>0.011462</td>\n",
       "      <td>0.116444</td>\n",
       "      <td>1.000000</td>\n",
       "      <td>0.017868</td>\n",
       "      <td>-0.063508</td>\n",
       "      <td>-0.033253</td>\n",
       "    </tr>\n",
       "    <tr>\n",
       "      <th>Credit_History</th>\n",
       "      <td>0.015859</td>\n",
       "      <td>0.020362</td>\n",
       "      <td>-0.018479</td>\n",
       "      <td>-0.076160</td>\n",
       "      <td>-0.014069</td>\n",
       "      <td>0.034455</td>\n",
       "      <td>0.003337</td>\n",
       "      <td>0.000282</td>\n",
       "      <td>0.017868</td>\n",
       "      <td>1.000000</td>\n",
       "      <td>-0.009204</td>\n",
       "      <td>0.559962</td>\n",
       "    </tr>\n",
       "    <tr>\n",
       "      <th>Property_Area</th>\n",
       "      <td>-0.027471</td>\n",
       "      <td>0.008786</td>\n",
       "      <td>-0.002816</td>\n",
       "      <td>-0.066682</td>\n",
       "      <td>-0.033643</td>\n",
       "      <td>-0.028338</td>\n",
       "      <td>-0.066786</td>\n",
       "      <td>-0.112519</td>\n",
       "      <td>-0.063508</td>\n",
       "      <td>-0.009204</td>\n",
       "      <td>1.000000</td>\n",
       "      <td>0.024611</td>\n",
       "    </tr>\n",
       "    <tr>\n",
       "      <th>Loan_Status</th>\n",
       "      <td>0.019898</td>\n",
       "      <td>0.087282</td>\n",
       "      <td>0.019152</td>\n",
       "      <td>-0.092012</td>\n",
       "      <td>-0.021305</td>\n",
       "      <td>0.001551</td>\n",
       "      <td>0.067858</td>\n",
       "      <td>-0.024818</td>\n",
       "      <td>-0.033253</td>\n",
       "      <td>0.559962</td>\n",
       "      <td>0.024611</td>\n",
       "      <td>1.000000</td>\n",
       "    </tr>\n",
       "  </tbody>\n",
       "</table>\n",
       "</div>"
      ],
      "text/plain": [
       "                     Gender   Married  Dependents  Education  Self_Employed  \\\n",
       "Gender             1.000000  0.377511    0.187968   0.043832      -0.003730   \n",
       "Married            0.377511  1.000000    0.332919   0.017426      -0.009078   \n",
       "Dependents         0.187968  0.332919    1.000000   0.063818       0.044987   \n",
       "Education          0.043832  0.017426    0.063818   1.000000      -0.011291   \n",
       "Self_Employed     -0.003730 -0.009078    0.044987  -0.011291       1.000000   \n",
       "ApplicantIncome    0.065509 -0.018840    0.112202  -0.179275       0.206947   \n",
       "CoapplicantIncome  0.228483  0.333520    0.005138   0.049233      -0.094122   \n",
       "LoanAmount         0.165705  0.175862    0.132600  -0.136085       0.105006   \n",
       "Loan_Amount_Term  -0.109261 -0.120762   -0.080395  -0.092479      -0.043867   \n",
       "Credit_History     0.015859  0.020362   -0.018479  -0.076160      -0.014069   \n",
       "Property_Area     -0.027471  0.008786   -0.002816  -0.066682      -0.033643   \n",
       "Loan_Status        0.019898  0.087282    0.019152  -0.092012      -0.021305   \n",
       "\n",
       "                   ApplicantIncome  CoapplicantIncome  LoanAmount  \\\n",
       "Gender                    0.065509           0.228483    0.165705   \n",
       "Married                  -0.018840           0.333520    0.175862   \n",
       "Dependents                0.112202           0.005138    0.132600   \n",
       "Education                -0.179275           0.049233   -0.136085   \n",
       "Self_Employed             0.206947          -0.094122    0.105006   \n",
       "ApplicantIncome           1.000000          -0.362453    0.465856   \n",
       "CoapplicantIncome        -0.362453           1.000000    0.175430   \n",
       "LoanAmount                0.465856           0.175430    1.000000   \n",
       "Loan_Amount_Term         -0.042145           0.011462    0.116444   \n",
       "Credit_History            0.034455           0.003337    0.000282   \n",
       "Property_Area            -0.028338          -0.066786   -0.112519   \n",
       "Loan_Status               0.001551           0.067858   -0.024818   \n",
       "\n",
       "                   Loan_Amount_Term  Credit_History  Property_Area  \\\n",
       "Gender                    -0.109261        0.015859      -0.027471   \n",
       "Married                   -0.120762        0.020362       0.008786   \n",
       "Dependents                -0.080395       -0.018479      -0.002816   \n",
       "Education                 -0.092479       -0.076160      -0.066682   \n",
       "Self_Employed             -0.043867       -0.014069      -0.033643   \n",
       "ApplicantIncome           -0.042145        0.034455      -0.028338   \n",
       "CoapplicantIncome          0.011462        0.003337      -0.066786   \n",
       "LoanAmount                 0.116444        0.000282      -0.112519   \n",
       "Loan_Amount_Term           1.000000        0.017868      -0.063508   \n",
       "Credit_History             0.017868        1.000000      -0.009204   \n",
       "Property_Area             -0.063508       -0.009204       1.000000   \n",
       "Loan_Status               -0.033253        0.559962       0.024611   \n",
       "\n",
       "                   Loan_Status  \n",
       "Gender                0.019898  \n",
       "Married               0.087282  \n",
       "Dependents            0.019152  \n",
       "Education            -0.092012  \n",
       "Self_Employed        -0.021305  \n",
       "ApplicantIncome       0.001551  \n",
       "CoapplicantIncome     0.067858  \n",
       "LoanAmount           -0.024818  \n",
       "Loan_Amount_Term     -0.033253  \n",
       "Credit_History        0.559962  \n",
       "Property_Area         0.024611  \n",
       "Loan_Status           1.000000  "
      ]
     },
     "execution_count": 95,
     "metadata": {},
     "output_type": "execute_result"
    }
   ],
   "source": [
    "df.corr()"
   ]
  },
  {
   "cell_type": "code",
   "execution_count": 96,
   "id": "7b287682",
   "metadata": {},
   "outputs": [
    {
     "data": {
      "text/plain": [
       "<AxesSubplot:>"
      ]
     },
     "execution_count": 96,
     "metadata": {},
     "output_type": "execute_result"
    },
    {
     "data": {
      "image/png": "[encoded data removed]",
      "text/plain": [
       "<Figure size 936x720 with 2 Axes>"
      ]
     },
     "metadata": {
      "needs_background": "light"
     },
     "output_type": "display_data"
    }
   ],
   "source": [
    "plt.figure(figsize=(13,10))\n",
    "sns.heatmap(df.corr(),annot=True)"
   ]
  },
  {
   "cell_type": "code",
   "execution_count": 98,
   "id": "18f191fd",
   "metadata": {},
   "outputs": [
    {
     "data": {
      "image/png": "[encoded data removed]",
      "text/plain": [
       "<Figure size 1296x432 with 1 Axes>"
      ]
     },
     "metadata": {
      "needs_background": "light"
     },
     "output_type": "display_data"
    }
   ],
   "source": [
    "plt.figure(figsize = (18,6))\n",
    "df.corr()['Loan_Status'].drop(['Loan_Status']).sort_values(ascending=False).plot(kind='bar')\n",
    "plt.xlabel('Features',fontsize=15)\n",
    "plt.ylabel('Income',fontsize=15)\n",
    "plt.title('Correlation of features with Target Variable Loan_Status',fontsize = 18)\n",
    "plt.show()"
   ]
  },
  {
   "cell_type": "markdown",
   "id": "a6d67cc7",
   "metadata": {},
   "source": [
    "### Checking Multicollinearity"
   ]
  },
  {
   "cell_type": "code",
   "execution_count": 99,
   "id": "89b47bee",
   "metadata": {},
   "outputs": [
    {
     "data": {
      "text/html": [
       "<div>\n",
       "<style scoped>\n",
       "    .dataframe tbody tr th:only-of-type {\n",
       "        vertical-align: middle;\n",
       "    }\n",
       "\n",
       "    .dataframe tbody tr th {\n",
       "        vertical-align: top;\n",
       "    }\n",
       "\n",
       "    .dataframe thead th {\n",
       "        text-align: right;\n",
       "    }\n",
       "</style>\n",
       "<table border=\"1\" class=\"dataframe\">\n",
       "  <thead>\n",
       "    <tr style=\"text-align: right;\">\n",
       "      <th></th>\n",
       "      <th>VIF</th>\n",
       "      <th>Features</th>\n",
       "    </tr>\n",
       "  </thead>\n",
       "  <tbody>\n",
       "    <tr>\n",
       "      <th>0</th>\n",
       "      <td>6.136510</td>\n",
       "      <td>Gender</td>\n",
       "    </tr>\n",
       "    <tr>\n",
       "      <th>1</th>\n",
       "      <td>3.981112</td>\n",
       "      <td>Married</td>\n",
       "    </tr>\n",
       "    <tr>\n",
       "      <th>2</th>\n",
       "      <td>1.784145</td>\n",
       "      <td>Dependents</td>\n",
       "    </tr>\n",
       "    <tr>\n",
       "      <th>3</th>\n",
       "      <td>1.353218</td>\n",
       "      <td>Education</td>\n",
       "    </tr>\n",
       "    <tr>\n",
       "      <th>4</th>\n",
       "      <td>1.193507</td>\n",
       "      <td>Self_Employed</td>\n",
       "    </tr>\n",
       "    <tr>\n",
       "      <th>5</th>\n",
       "      <td>1.836031</td>\n",
       "      <td>ApplicantIncome</td>\n",
       "    </tr>\n",
       "    <tr>\n",
       "      <th>6</th>\n",
       "      <td>1.585424</td>\n",
       "      <td>CoapplicantIncome</td>\n",
       "    </tr>\n",
       "    <tr>\n",
       "      <th>7</th>\n",
       "      <td>1.606908</td>\n",
       "      <td>LoanAmount</td>\n",
       "    </tr>\n",
       "    <tr>\n",
       "      <th>8</th>\n",
       "      <td>10.194387</td>\n",
       "      <td>Loan_Amount_Term</td>\n",
       "    </tr>\n",
       "    <tr>\n",
       "      <th>9</th>\n",
       "      <td>9.555762</td>\n",
       "      <td>Credit_History</td>\n",
       "    </tr>\n",
       "    <tr>\n",
       "      <th>10</th>\n",
       "      <td>2.658001</td>\n",
       "      <td>Property_Area</td>\n",
       "    </tr>\n",
       "    <tr>\n",
       "      <th>11</th>\n",
       "      <td>4.836177</td>\n",
       "      <td>Loan_Status</td>\n",
       "    </tr>\n",
       "  </tbody>\n",
       "</table>\n",
       "</div>"
      ],
      "text/plain": [
       "          VIF           Features\n",
       "0    6.136510             Gender\n",
       "1    3.981112            Married\n",
       "2    1.784145         Dependents\n",
       "3    1.353218          Education\n",
       "4    1.193507      Self_Employed\n",
       "5    1.836031    ApplicantIncome\n",
       "6    1.585424  CoapplicantIncome\n",
       "7    1.606908         LoanAmount\n",
       "8   10.194387   Loan_Amount_Term\n",
       "9    9.555762     Credit_History\n",
       "10   2.658001      Property_Area\n",
       "11   4.836177        Loan_Status"
      ]
     },
     "execution_count": 99,
     "metadata": {},
     "output_type": "execute_result"
    }
   ],
   "source": [
    "from statsmodels.stats.outliers_influence import variance_inflation_factor\n",
    "vif= pd.DataFrame()\n",
    "vif['VIF']= [variance_inflation_factor(df.values,i) for i in range(df.shape[1])]\n",
    "vif['Features']= df.columns\n",
    "vif"
   ]
  },
  {
   "cell_type": "markdown",
   "id": "e1a02b92",
   "metadata": {},
   "source": [
    "VIF is within  limit of 10."
   ]
  },
  {
   "cell_type": "markdown",
   "id": "1bf19361",
   "metadata": {},
   "source": [
    "### Balanceing Imbalanced data"
   ]
  },
  {
   "cell_type": "code",
   "execution_count": 105,
   "id": "7bd3499b",
   "metadata": {},
   "outputs": [
    {
     "data": {
      "text/plain": [
       "1    405\n",
       "0    180\n",
       "Name: Loan_Status, dtype: int64"
      ]
     },
     "execution_count": 105,
     "metadata": {},
     "output_type": "execute_result"
    }
   ],
   "source": [
    "df.Loan_Status.value_counts()"
   ]
  },
  {
   "cell_type": "code",
   "execution_count": 106,
   "id": "0301cc45",
   "metadata": {},
   "outputs": [],
   "source": [
    "# Balancing using SMOTE\n",
    "from imblearn.over_sampling import SMOTE"
   ]
  },
  {
   "cell_type": "code",
   "execution_count": 107,
   "id": "9437c702",
   "metadata": {},
   "outputs": [],
   "source": [
    "# Splitting data in target and dependent feature\n",
    "X = df.drop(['Loan_Status'], axis =1)\n",
    "Y = df['Loan_Status']"
   ]
  },
  {
   "cell_type": "code",
   "execution_count": 110,
   "id": "910c423c",
   "metadata": {},
   "outputs": [],
   "source": [
    "# Oversampleing using SMOTE Techniques\n",
    "oversample = SMOTE()\n",
    "X, Y = oversample.fit_resample(X, Y)"
   ]
  },
  {
   "cell_type": "code",
   "execution_count": 111,
   "id": "a11877af",
   "metadata": {},
   "outputs": [
    {
     "data": {
      "text/plain": [
       "1    405\n",
       "0    405\n",
       "Name: Loan_Status, dtype: int64"
      ]
     },
     "execution_count": 111,
     "metadata": {},
     "output_type": "execute_result"
    }
   ],
   "source": [
    "Y.value_counts()"
   ]
  },
  {
   "cell_type": "markdown",
   "id": "0e168ea2",
   "metadata": {},
   "source": [
    "### Standard Scaling"
   ]
  },
  {
   "cell_type": "code",
   "execution_count": 112,
   "id": "1d884ef9",
   "metadata": {},
   "outputs": [],
   "source": [
    "from sklearn.preprocessing import StandardScaler\n",
    "scaler= StandardScaler()\n",
    "X_scale = scaler.fit_transform(X)"
   ]
  },
  {
   "cell_type": "markdown",
   "id": "fad99f1d",
   "metadata": {},
   "source": [
    "# Model Building"
   ]
  },
  {
   "cell_type": "code",
   "execution_count": 121,
   "id": "46b1488a",
   "metadata": {},
   "outputs": [],
   "source": [
    "from sklearn.model_selection import train_test_split\n",
    "from sklearn.linear_model import LogisticRegression\n",
    "from sklearn.naive_bayes import GaussianNB\n",
    "from sklearn.svm import SVC\n",
    "from sklearn.tree import DecisionTreeClassifier\n",
    "from sklearn.ensemble import GradientBoostingClassifier\n",
    "from sklearn.neighbors import KNeighborsClassifier\n",
    "from sklearn.ensemble import RandomForestClassifier\n",
    "from sklearn.ensemble import ExtraTreesClassifier\n",
    "from sklearn.neighbors import KNeighborsClassifier\n",
    "from sklearn.metrics import accuracy_score, confusion_matrix,classification_report,f1_score"
   ]
  },
  {
   "cell_type": "markdown",
   "id": "1972e82a",
   "metadata": {},
   "source": [
    "### Random state"
   ]
  },
  {
   "cell_type": "code",
   "execution_count": 116,
   "id": "498cdbc9",
   "metadata": {},
   "outputs": [
    {
     "name": "stdout",
     "output_type": "stream",
     "text": [
      "Best accuracy is 0.8395061728395061 on Random_state 114\n"
     ]
    }
   ],
   "source": [
    "from sklearn.linear_model import LogisticRegression\n",
    "from sklearn.metrics import accuracy_score, confusion_matrix,classification_report,f1_score\n",
    "maxAccu=0\n",
    "maxRS=0\n",
    "for i in range(1,1000):\n",
    "    X_train,X_test,Y_train,Y_test = train_test_split(X_scale,Y,test_size = 0.2, random_state=i)\n",
    "    log_reg=LogisticRegression()\n",
    "    log_reg.fit(X_train,Y_train)\n",
    "    y_pred=log_reg.predict(X_test)\n",
    "    acc=accuracy_score(Y_test,y_pred)\n",
    "    if acc>maxAccu:\n",
    "        maxAccu=acc\n",
    "        maxRS=i\n",
    "print('Best accuracy is', maxAccu ,'on Random_state', maxRS)"
   ]
  },
  {
   "cell_type": "markdown",
   "id": "3e24b0be",
   "metadata": {},
   "source": [
    "#### Logistics Regression "
   ]
  },
  {
   "cell_type": "code",
   "execution_count": 119,
   "id": "e7b5562b",
   "metadata": {},
   "outputs": [
    {
     "name": "stdout",
     "output_type": "stream",
     "text": [
      "Logistics Regression Evaluation\n",
      "\n",
      "\n",
      "Accuracy Score of Logistics Regression : 83.9506172839506\n",
      "\n",
      "\n",
      "Confusion matrix of Logistics Regression : [[48 20]\n",
      " [ 6 88]]\n",
      "\n",
      "\n",
      "classification Report of Logistics Regression               precision    recall  f1-score   support\n",
      "\n",
      "           0       0.89      0.71      0.79        68\n",
      "           1       0.81      0.94      0.87        94\n",
      "\n",
      "    accuracy                           0.84       162\n",
      "   macro avg       0.85      0.82      0.83       162\n",
      "weighted avg       0.85      0.84      0.84       162\n",
      "\n"
     ]
    }
   ],
   "source": [
    "X_train, X_test, Y_train, Y_test = train_test_split(X_scale, Y, random_state=114, test_size=.2)\n",
    "log_reg=LogisticRegression()\n",
    "log_reg.fit(X_train,Y_train)\n",
    "y_pred=log_reg.predict(X_test)\n",
    "print('Logistics Regression Evaluation')\n",
    "print('\\n')\n",
    "print('Accuracy Score of Logistics Regression :', accuracy_score(Y_test, y_pred)*100)\n",
    "print('\\n')\n",
    "print('Confusion matrix of Logistics Regression :',confusion_matrix(Y_test, y_pred))\n",
    "print('\\n')\n",
    "print('classification Report of Logistics Regression',classification_report(Y_test, y_pred))"
   ]
  },
  {
   "cell_type": "markdown",
   "id": "c7fb464b",
   "metadata": {},
   "source": [
    "#### DecisionTreeClassifier"
   ]
  },
  {
   "cell_type": "code",
   "execution_count": 122,
   "id": "0e0a07f6",
   "metadata": {},
   "outputs": [
    {
     "name": "stdout",
     "output_type": "stream",
     "text": [
      "DecisionTreeClassifier Evaluation\n",
      "\n",
      "\n",
      "Accuracy Score of DecisionTreeClassifier : 82.71604938271605\n",
      "\n",
      "\n",
      "Confusion matrix of DecisionTreeClassifier : [[59  9]\n",
      " [19 75]]\n",
      "\n",
      "\n",
      "classification Report of DecisionTreeClassifier               precision    recall  f1-score   support\n",
      "\n",
      "           0       0.76      0.87      0.81        68\n",
      "           1       0.89      0.80      0.84        94\n",
      "\n",
      "    accuracy                           0.83       162\n",
      "   macro avg       0.82      0.83      0.83       162\n",
      "weighted avg       0.84      0.83      0.83       162\n",
      "\n"
     ]
    }
   ],
   "source": [
    "X_train, X_test, Y_train, Y_test = train_test_split(X_scale, Y, random_state=114, test_size=.2)\n",
    "DT=DecisionTreeClassifier()\n",
    "DT.fit(X_train,Y_train)\n",
    "y_pred=DT.predict(X_test)\n",
    "print('DecisionTreeClassifier Evaluation')\n",
    "print('\\n')\n",
    "print('Accuracy Score of DecisionTreeClassifier :', accuracy_score(Y_test, y_pred)*100)\n",
    "print('\\n')\n",
    "print('Confusion matrix of DecisionTreeClassifier :',confusion_matrix(Y_test, y_pred))\n",
    "print('\\n')\n",
    "print('classification Report of DecisionTreeClassifier',classification_report(Y_test, y_pred))"
   ]
  },
  {
   "cell_type": "markdown",
   "id": "b1eb951e",
   "metadata": {},
   "source": [
    "#### KNeighborsClassifier"
   ]
  },
  {
   "cell_type": "code",
   "execution_count": 124,
   "id": "bdac1a89",
   "metadata": {},
   "outputs": [
    {
     "name": "stdout",
     "output_type": "stream",
     "text": [
      "KNeighborsClassifier Evaluation\n",
      "\n",
      "\n",
      "Accuracy Score of KNeighborsClassifier : 79.01234567901234\n",
      "\n",
      "\n",
      "Confusion matrix of KNeighborsClassifier : [[56 12]\n",
      " [22 72]]\n",
      "\n",
      "\n",
      "classification Report of KNeighborsClassifier               precision    recall  f1-score   support\n",
      "\n",
      "           0       0.72      0.82      0.77        68\n",
      "           1       0.86      0.77      0.81        94\n",
      "\n",
      "    accuracy                           0.79       162\n",
      "   macro avg       0.79      0.79      0.79       162\n",
      "weighted avg       0.80      0.79      0.79       162\n",
      "\n"
     ]
    }
   ],
   "source": [
    "X_train, X_test, Y_train, Y_test = train_test_split(X_scale, Y, random_state=114, test_size=.2)\n",
    "KN= KNeighborsClassifier(n_neighbors = 3)\n",
    "KN.fit(X_train,Y_train)\n",
    "y_pred=KN.predict(X_test)\n",
    "print('KNeighborsClassifier Evaluation')\n",
    "print('\\n')\n",
    "print('Accuracy Score of KNeighborsClassifier :', accuracy_score(Y_test, y_pred)*100)\n",
    "print('\\n')\n",
    "print('Confusion matrix of KNeighborsClassifier :',confusion_matrix(Y_test, y_pred))\n",
    "print('\\n')\n",
    "print('classification Report of KNeighborsClassifier',classification_report(Y_test, y_pred))"
   ]
  },
  {
   "cell_type": "markdown",
   "id": "b5a02b84",
   "metadata": {},
   "source": [
    "#### RandomForestClassifier"
   ]
  },
  {
   "cell_type": "code",
   "execution_count": 125,
   "id": "9e34decf",
   "metadata": {},
   "outputs": [
    {
     "name": "stdout",
     "output_type": "stream",
     "text": [
      "RandomForestClassifier Evaluation\n",
      "\n",
      "\n",
      "Accuracy Score of RandomForestClassifier : 88.27160493827161\n",
      "\n",
      "\n",
      "Confusion matrix of RandomForestClassifier : [[61  7]\n",
      " [12 82]]\n",
      "\n",
      "\n",
      "classification Report of RandomForestClassifier               precision    recall  f1-score   support\n",
      "\n",
      "           0       0.84      0.90      0.87        68\n",
      "           1       0.92      0.87      0.90        94\n",
      "\n",
      "    accuracy                           0.88       162\n",
      "   macro avg       0.88      0.88      0.88       162\n",
      "weighted avg       0.89      0.88      0.88       162\n",
      "\n"
     ]
    }
   ],
   "source": [
    "X_train, X_test, Y_train, Y_test = train_test_split(X_scale, Y, random_state=114, test_size=.2)\n",
    "RF=  RandomForestClassifier()\n",
    "RF.fit(X_train,Y_train)\n",
    "y_pred=RF.predict(X_test)\n",
    "print('RandomForestClassifier Evaluation')\n",
    "print('\\n')\n",
    "print('Accuracy Score of RandomForestClassifier :', accuracy_score(Y_test, y_pred)*100)\n",
    "print('\\n')\n",
    "print('Confusion matrix of RandomForestClassifier :',confusion_matrix(Y_test, y_pred))\n",
    "print('\\n')\n",
    "print('classification Report of RandomForestClassifier',classification_report(Y_test, y_pred))"
   ]
  },
  {
   "cell_type": "markdown",
   "id": "62f885cf",
   "metadata": {},
   "source": [
    "#### GradientBoostingClassifier"
   ]
  },
  {
   "cell_type": "code",
   "execution_count": 129,
   "id": "7911b214",
   "metadata": {},
   "outputs": [
    {
     "name": "stdout",
     "output_type": "stream",
     "text": [
      "GradientBoostingClassifier Evaluation\n",
      "\n",
      "\n",
      "Accuracy Score of GradientBoostingClassifier : 84.5679012345679\n",
      "\n",
      "\n",
      "Confusion matrix of GradientBoostingClassifier : [[56 12]\n",
      " [13 81]]\n",
      "\n",
      "\n",
      "classification Report               precision    recall  f1-score   support\n",
      "\n",
      "           0       0.81      0.82      0.82        68\n",
      "           1       0.87      0.86      0.87        94\n",
      "\n",
      "    accuracy                           0.85       162\n",
      "   macro avg       0.84      0.84      0.84       162\n",
      "weighted avg       0.85      0.85      0.85       162\n",
      "\n"
     ]
    }
   ],
   "source": [
    "X_train, X_test, Y_train, Y_test = train_test_split(X_scale, Y, random_state=114, test_size=.2)\n",
    "GB=  GradientBoostingClassifier()\n",
    "GB.fit(X_train,Y_train)\n",
    "y_pred=GB.predict(X_test)\n",
    "print('GradientBoostingClassifier Evaluation')\n",
    "print('\\n')\n",
    "print('Accuracy Score of GradientBoostingClassifier :', accuracy_score(Y_test, y_pred)*100)\n",
    "print('\\n')\n",
    "print('Confusion matrix of GradientBoostingClassifier :',confusion_matrix(Y_test, y_pred))\n",
    "print('\\n')\n",
    "print('classification Report',classification_report(Y_test, y_pred))"
   ]
  },
  {
   "cell_type": "markdown",
   "id": "f989ece8",
   "metadata": {},
   "source": [
    "# CrossValidation "
   ]
  },
  {
   "cell_type": "code",
   "execution_count": 130,
   "id": "d06095e6",
   "metadata": {},
   "outputs": [
    {
     "name": "stdout",
     "output_type": "stream",
     "text": [
      "\n",
      "\n",
      "Cross Validation Score: LogisticRegression()\n",
      "Score : [0.68518519 0.7037037  0.68518519 0.78395062 0.77160494]\n",
      "Mean Score : 0.7259259259259259\n",
      "Std deviation : 0.04305085376336466\n",
      "\n",
      "\n",
      "**************************************************\n",
      "\n",
      "\n",
      "Cross Validation Score: DecisionTreeClassifier()\n",
      "Score : [0.74074074 0.75308642 0.7654321  0.78395062 0.79012346]\n",
      "Mean Score : 0.7666666666666666\n",
      "Std deviation : 0.018477320428513296\n",
      "\n",
      "\n",
      "**************************************************\n",
      "\n",
      "\n",
      "Cross Validation Score: KNeighborsClassifier(n_neighbors=3)\n",
      "Score : [0.72839506 0.71604938 0.72222222 0.72222222 0.74691358]\n",
      "Mean Score : 0.7271604938271604\n",
      "Std deviation : 0.010620154650669915\n",
      "\n",
      "\n",
      "**************************************************\n",
      "\n",
      "\n",
      "Cross Validation Score: RandomForestClassifier()\n",
      "Score : [0.77160494 0.7962963  0.80864198 0.80864198 0.88888889]\n",
      "Mean Score : 0.8148148148148149\n",
      "Std deviation : 0.03942893684610199\n",
      "\n",
      "\n",
      "**************************************************\n",
      "\n",
      "\n",
      "Cross Validation Score: GradientBoostingClassifier()\n",
      "Score : [0.7345679  0.72839506 0.77777778 0.75308642 0.88271605]\n",
      "Mean Score : 0.7753086419753087\n",
      "Std deviation : 0.056386109860095\n",
      "\n",
      "\n",
      "**************************************************\n"
     ]
    }
   ],
   "source": [
    "from sklearn.model_selection import cross_val_score\n",
    "model=[LogisticRegression(),\n",
    "        DecisionTreeClassifier(),\n",
    "        KNeighborsClassifier(n_neighbors = 3),\n",
    "        RandomForestClassifier(),\n",
    "        GradientBoostingClassifier()]\n",
    "\n",
    "for m in model:\n",
    "    score = cross_val_score(m, X_scale, Y, cv =5)\n",
    "    print('\\n')\n",
    "    print('Cross Validation Score:', m)\n",
    "    print(\"Score :\" ,score)\n",
    "    print(\"Mean Score :\",score.mean())\n",
    "    print(\"Std deviation :\",score.std())\n",
    "    print('\\n')\n",
    "    print('*'*50)"
   ]
  },
  {
   "cell_type": "markdown",
   "id": "dde64d87",
   "metadata": {},
   "source": [
    "RandomForestClassifier() gives us good Accuracy and maximum f1 score along with best Cross-validation score"
   ]
  },
  {
   "cell_type": "markdown",
   "id": "3993cdd8",
   "metadata": {},
   "source": [
    "# Hyper Parameter Tuning"
   ]
  },
  {
   "cell_type": "code",
   "execution_count": 133,
   "id": "fba5c898",
   "metadata": {},
   "outputs": [],
   "source": [
    "from sklearn.model_selection import GridSearchCV"
   ]
  },
  {
   "cell_type": "code",
   "execution_count": 155,
   "id": "c0bd3ad1",
   "metadata": {},
   "outputs": [],
   "source": [
    "parameter = {  'bootstrap': [True], 'max_depth': [5, 10,20,40,50,60], \n",
    "              'max_features': ['auto', 'log2'], \n",
    "              'criterion':['gini','entropy'],\n",
    "              'n_estimators': [5, 10, 15 ,25,50,60,70]}"
   ]
  },
  {
   "cell_type": "code",
   "execution_count": 156,
   "id": "8dd67578",
   "metadata": {},
   "outputs": [
    {
     "name": "stdout",
     "output_type": "stream",
     "text": [
      "Fitting 5 folds for each of 168 candidates, totalling 840 fits\n"
     ]
    },
    {
     "data": {
      "text/plain": [
       "GridSearchCV(cv=5, estimator=RandomForestClassifier(), n_jobs=-1,\n",
       "             param_grid={'bootstrap': [True], 'criterion': ['gini', 'entropy'],\n",
       "                         'max_depth': [5, 10, 20, 40, 50, 60],\n",
       "                         'max_features': ['auto', 'log2'],\n",
       "                         'n_estimators': [5, 10, 15, 25, 50, 60, 70]},\n",
       "             verbose=10)"
      ]
     },
     "execution_count": 156,
     "metadata": {},
     "output_type": "execute_result"
    }
   ],
   "source": [
    "GCV = GridSearchCV(RandomForestClassifier(),parameter,cv=5,n_jobs = -1,verbose=10)\n",
    "GCV.fit(X_train,Y_train)"
   ]
  },
  {
   "cell_type": "code",
   "execution_count": 157,
   "id": "123d41d1",
   "metadata": {},
   "outputs": [
    {
     "data": {
      "text/plain": [
       "{'bootstrap': True,\n",
       " 'criterion': 'gini',\n",
       " 'max_depth': 40,\n",
       " 'max_features': 'log2',\n",
       " 'n_estimators': 60}"
      ]
     },
     "execution_count": 157,
     "metadata": {},
     "output_type": "execute_result"
    }
   ],
   "source": [
    " GCV.best_params_"
   ]
  },
  {
   "cell_type": "code",
   "execution_count": 164,
   "id": "13c5b19d",
   "metadata": {},
   "outputs": [
    {
     "name": "stdout",
     "output_type": "stream",
     "text": [
      "Accuracy Score : 88.27160493827161\n"
     ]
    }
   ],
   "source": [
    "Final_mod = RandomForestClassifier(bootstrap=True,criterion='gini',n_estimators=60, max_depth=40 ,max_features='log2')\n",
    "Final_mod.fit(X_train,Y_train)\n",
    "y_pred=Final_mod.predict(X_test)\n",
    "print('Accuracy Score :', accuracy_score(Y_test, y_pred)*100)"
   ]
  },
  {
   "cell_type": "code",
   "execution_count": 166,
   "id": "2bffd9fe",
   "metadata": {},
   "outputs": [
    {
     "data": {
      "image/png": "[encoded data removed]",
      "text/plain": [
       "<Figure size 432x288 with 1 Axes>"
      ]
     },
     "metadata": {
      "needs_background": "light"
     },
     "output_type": "display_data"
    },
    {
     "data": {
      "text/plain": [
       "<Figure size 720x720 with 0 Axes>"
      ]
     },
     "metadata": {},
     "output_type": "display_data"
    },
    {
     "name": "stdout",
     "output_type": "stream",
     "text": [
      "\u001b[1mAuc Score :\u001b[0m\n",
      " 0.8826658322903629\n"
     ]
    }
   ],
   "source": [
    "from sklearn.metrics import plot_roc_curve\n",
    "\n",
    "disp = plot_roc_curve(Final_mod,X_test,Y_test)   \n",
    "plt.legend(prop={'size':11}, loc='lower right')\n",
    "plt.figure(figsize=(10,10))\n",
    "plt.show()\n",
    "from sklearn.metrics import roc_auc_score\n",
    "auc_score = roc_auc_score(Y_test, Final_mod.predict(X_test))\n",
    "print('\\033[1m'+'Auc Score :'+'\\033[0m\\n',auc_score)"
   ]
  },
  {
   "cell_type": "markdown",
   "id": "e5a25b00",
   "metadata": {},
   "source": [
    "# Saving model"
   ]
  },
  {
   "cell_type": "code",
   "execution_count": 167,
   "id": "6e23a831",
   "metadata": {},
   "outputs": [
    {
     "data": {
      "text/plain": [
       "['Loan_Status.pkl']"
      ]
     },
     "execution_count": 167,
     "metadata": {},
     "output_type": "execute_result"
    }
   ],
   "source": [
    "import joblib\n",
    "joblib.dump(Final_mod,'Loan_Status.pkl')"
   ]
  },
  {
   "cell_type": "code",
   "execution_count": null,
   "id": "f8ba9ff5",
   "metadata": {},
   "outputs": [],
   "source": []
  },
  {
   "cell_type": "code",
   "execution_count": null,
   "id": "e7c00fdb",
   "metadata": {},
   "outputs": [],
   "source": []
  },
  {
   "cell_type": "code",
   "execution_count": null,
   "id": "66ac8cd1",
   "metadata": {},
   "outputs": [],
   "source": []
  },
  {
   "cell_type": "code",
   "execution_count": null,
   "id": "d6ca30b4",
   "metadata": {},
   "outputs": [],
   "source": []
  },
  {
   "cell_type": "code",
   "execution_count": null,
   "id": "3ef1da10",
   "metadata": {},
   "outputs": [],
   "source": []
  },
  {
   "cell_type": "code",
   "execution_count": null,
   "id": "2539d30b",
   "metadata": {},
   "outputs": [],
   "source": []
  },
  {
   "cell_type": "code",
   "execution_count": null,
   "id": "9e2566ab",
   "metadata": {},
   "outputs": [],
   "source": []
  },
  {
   "cell_type": "code",
   "execution_count": null,
   "id": "9e378e49",
   "metadata": {},
   "outputs": [],
   "source": []
  },
  {
   "cell_type": "code",
   "execution_count": null,
   "id": "b510880c",
   "metadata": {},
   "outputs": [],
   "source": []
  },
  {
   "cell_type": "code",
   "execution_count": null,
   "id": "0547e82d",
   "metadata": {},
   "outputs": [],
   "source": []
  },
  {
   "cell_type": "code",
   "execution_count": null,
   "id": "cfedb023",
   "metadata": {},
   "outputs": [],
   "source": []
  },
  {
   "cell_type": "code",
   "execution_count": null,
   "id": "d6c8fd7e",
   "metadata": {},
   "outputs": [],
   "source": []
  }
 ],
 "metadata": {
  "kernelspec": {
   "display_name": "Python 3 (ipykernel)",
   "language": "python",
   "name": "python3"
  },
  "language_info": {
   "codemirror_mode": {
    "name": "ipython",
    "version": 3
   },
   "file_extension": ".py",
   "mimetype": "text/x-python",
   "name": "python",
   "nbconvert_exporter": "python",
   "pygments_lexer": "ipython3",
   "version": "3.9.7"
  }
 },
 "nbformat": 4,
 "nbformat_minor": 5
}
