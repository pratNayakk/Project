{
 "cells": [
  {
   "cell_type": "code",
   "execution_count": 130,
   "id": "0b6d997d",
   "metadata": {},
   "outputs": [],
   "source": [
    "import numpy as np\n",
    "import pandas as pd"
   ]
  },
  {
   "cell_type": "code",
   "execution_count": 131,
   "id": "688a26c4",
   "metadata": {},
   "outputs": [
    {
     "data": {
      "text/html": [
       "<div>\n",
       "<style scoped>\n",
       "    .dataframe tbody tr th:only-of-type {\n",
       "        vertical-align: middle;\n",
       "    }\n",
       "\n",
       "    .dataframe tbody tr th {\n",
       "        vertical-align: top;\n",
       "    }\n",
       "\n",
       "    .dataframe thead th {\n",
       "        text-align: right;\n",
       "    }\n",
       "</style>\n",
       "<table border=\"1\" class=\"dataframe\">\n",
       "  <thead>\n",
       "    <tr style=\"text-align: right;\">\n",
       "      <th></th>\n",
       "      <th>Country</th>\n",
       "      <th>Region</th>\n",
       "      <th>Happiness Rank</th>\n",
       "      <th>Happiness Score</th>\n",
       "      <th>Standard Error</th>\n",
       "      <th>Economy (GDP per Capita)</th>\n",
       "      <th>Family</th>\n",
       "      <th>Health (Life Expectancy)</th>\n",
       "      <th>Freedom</th>\n",
       "      <th>Trust (Government Corruption)</th>\n",
       "      <th>Generosity</th>\n",
       "      <th>Dystopia Residual</th>\n",
       "    </tr>\n",
       "  </thead>\n",
       "  <tbody>\n",
       "    <tr>\n",
       "      <th>0</th>\n",
       "      <td>Switzerland</td>\n",
       "      <td>Western Europe</td>\n",
       "      <td>1</td>\n",
       "      <td>7.587</td>\n",
       "      <td>0.03411</td>\n",
       "      <td>1.39651</td>\n",
       "      <td>1.34951</td>\n",
       "      <td>0.94143</td>\n",
       "      <td>0.66557</td>\n",
       "      <td>0.41978</td>\n",
       "      <td>0.29678</td>\n",
       "      <td>2.51738</td>\n",
       "    </tr>\n",
       "    <tr>\n",
       "      <th>1</th>\n",
       "      <td>Iceland</td>\n",
       "      <td>Western Europe</td>\n",
       "      <td>2</td>\n",
       "      <td>7.561</td>\n",
       "      <td>0.04884</td>\n",
       "      <td>1.30232</td>\n",
       "      <td>1.40223</td>\n",
       "      <td>0.94784</td>\n",
       "      <td>0.62877</td>\n",
       "      <td>0.14145</td>\n",
       "      <td>0.43630</td>\n",
       "      <td>2.70201</td>\n",
       "    </tr>\n",
       "    <tr>\n",
       "      <th>2</th>\n",
       "      <td>Denmark</td>\n",
       "      <td>Western Europe</td>\n",
       "      <td>3</td>\n",
       "      <td>7.527</td>\n",
       "      <td>0.03328</td>\n",
       "      <td>1.32548</td>\n",
       "      <td>1.36058</td>\n",
       "      <td>0.87464</td>\n",
       "      <td>0.64938</td>\n",
       "      <td>0.48357</td>\n",
       "      <td>0.34139</td>\n",
       "      <td>2.49204</td>\n",
       "    </tr>\n",
       "    <tr>\n",
       "      <th>3</th>\n",
       "      <td>Norway</td>\n",
       "      <td>Western Europe</td>\n",
       "      <td>4</td>\n",
       "      <td>7.522</td>\n",
       "      <td>0.03880</td>\n",
       "      <td>1.45900</td>\n",
       "      <td>1.33095</td>\n",
       "      <td>0.88521</td>\n",
       "      <td>0.66973</td>\n",
       "      <td>0.36503</td>\n",
       "      <td>0.34699</td>\n",
       "      <td>2.46531</td>\n",
       "    </tr>\n",
       "    <tr>\n",
       "      <th>4</th>\n",
       "      <td>Canada</td>\n",
       "      <td>North America</td>\n",
       "      <td>5</td>\n",
       "      <td>7.427</td>\n",
       "      <td>0.03553</td>\n",
       "      <td>1.32629</td>\n",
       "      <td>1.32261</td>\n",
       "      <td>0.90563</td>\n",
       "      <td>0.63297</td>\n",
       "      <td>0.32957</td>\n",
       "      <td>0.45811</td>\n",
       "      <td>2.45176</td>\n",
       "    </tr>\n",
       "    <tr>\n",
       "      <th>...</th>\n",
       "      <td>...</td>\n",
       "      <td>...</td>\n",
       "      <td>...</td>\n",
       "      <td>...</td>\n",
       "      <td>...</td>\n",
       "      <td>...</td>\n",
       "      <td>...</td>\n",
       "      <td>...</td>\n",
       "      <td>...</td>\n",
       "      <td>...</td>\n",
       "      <td>...</td>\n",
       "      <td>...</td>\n",
       "    </tr>\n",
       "    <tr>\n",
       "      <th>153</th>\n",
       "      <td>Rwanda</td>\n",
       "      <td>Sub-Saharan Africa</td>\n",
       "      <td>154</td>\n",
       "      <td>3.465</td>\n",
       "      <td>0.03464</td>\n",
       "      <td>0.22208</td>\n",
       "      <td>0.77370</td>\n",
       "      <td>0.42864</td>\n",
       "      <td>0.59201</td>\n",
       "      <td>0.55191</td>\n",
       "      <td>0.22628</td>\n",
       "      <td>0.67042</td>\n",
       "    </tr>\n",
       "    <tr>\n",
       "      <th>154</th>\n",
       "      <td>Benin</td>\n",
       "      <td>Sub-Saharan Africa</td>\n",
       "      <td>155</td>\n",
       "      <td>3.340</td>\n",
       "      <td>0.03656</td>\n",
       "      <td>0.28665</td>\n",
       "      <td>0.35386</td>\n",
       "      <td>0.31910</td>\n",
       "      <td>0.48450</td>\n",
       "      <td>0.08010</td>\n",
       "      <td>0.18260</td>\n",
       "      <td>1.63328</td>\n",
       "    </tr>\n",
       "    <tr>\n",
       "      <th>155</th>\n",
       "      <td>Syria</td>\n",
       "      <td>Middle East and Northern Africa</td>\n",
       "      <td>156</td>\n",
       "      <td>3.006</td>\n",
       "      <td>0.05015</td>\n",
       "      <td>0.66320</td>\n",
       "      <td>0.47489</td>\n",
       "      <td>0.72193</td>\n",
       "      <td>0.15684</td>\n",
       "      <td>0.18906</td>\n",
       "      <td>0.47179</td>\n",
       "      <td>0.32858</td>\n",
       "    </tr>\n",
       "    <tr>\n",
       "      <th>156</th>\n",
       "      <td>Burundi</td>\n",
       "      <td>Sub-Saharan Africa</td>\n",
       "      <td>157</td>\n",
       "      <td>2.905</td>\n",
       "      <td>0.08658</td>\n",
       "      <td>0.01530</td>\n",
       "      <td>0.41587</td>\n",
       "      <td>0.22396</td>\n",
       "      <td>0.11850</td>\n",
       "      <td>0.10062</td>\n",
       "      <td>0.19727</td>\n",
       "      <td>1.83302</td>\n",
       "    </tr>\n",
       "    <tr>\n",
       "      <th>157</th>\n",
       "      <td>Togo</td>\n",
       "      <td>Sub-Saharan Africa</td>\n",
       "      <td>158</td>\n",
       "      <td>2.839</td>\n",
       "      <td>0.06727</td>\n",
       "      <td>0.20868</td>\n",
       "      <td>0.13995</td>\n",
       "      <td>0.28443</td>\n",
       "      <td>0.36453</td>\n",
       "      <td>0.10731</td>\n",
       "      <td>0.16681</td>\n",
       "      <td>1.56726</td>\n",
       "    </tr>\n",
       "  </tbody>\n",
       "</table>\n",
       "<p>158 rows × 12 columns</p>\n",
       "</div>"
      ],
      "text/plain": [
       "         Country                           Region  Happiness Rank  \\\n",
       "0    Switzerland                   Western Europe               1   \n",
       "1        Iceland                   Western Europe               2   \n",
       "2        Denmark                   Western Europe               3   \n",
       "3         Norway                   Western Europe               4   \n",
       "4         Canada                    North America               5   \n",
       "..           ...                              ...             ...   \n",
       "153       Rwanda               Sub-Saharan Africa             154   \n",
       "154        Benin               Sub-Saharan Africa             155   \n",
       "155        Syria  Middle East and Northern Africa             156   \n",
       "156      Burundi               Sub-Saharan Africa             157   \n",
       "157         Togo               Sub-Saharan Africa             158   \n",
       "\n",
       "     Happiness Score  Standard Error  Economy (GDP per Capita)   Family  \\\n",
       "0              7.587         0.03411                   1.39651  1.34951   \n",
       "1              7.561         0.04884                   1.30232  1.40223   \n",
       "2              7.527         0.03328                   1.32548  1.36058   \n",
       "3              7.522         0.03880                   1.45900  1.33095   \n",
       "4              7.427         0.03553                   1.32629  1.32261   \n",
       "..               ...             ...                       ...      ...   \n",
       "153            3.465         0.03464                   0.22208  0.77370   \n",
       "154            3.340         0.03656                   0.28665  0.35386   \n",
       "155            3.006         0.05015                   0.66320  0.47489   \n",
       "156            2.905         0.08658                   0.01530  0.41587   \n",
       "157            2.839         0.06727                   0.20868  0.13995   \n",
       "\n",
       "     Health (Life Expectancy)  Freedom  Trust (Government Corruption)  \\\n",
       "0                     0.94143  0.66557                        0.41978   \n",
       "1                     0.94784  0.62877                        0.14145   \n",
       "2                     0.87464  0.64938                        0.48357   \n",
       "3                     0.88521  0.66973                        0.36503   \n",
       "4                     0.90563  0.63297                        0.32957   \n",
       "..                        ...      ...                            ...   \n",
       "153                   0.42864  0.59201                        0.55191   \n",
       "154                   0.31910  0.48450                        0.08010   \n",
       "155                   0.72193  0.15684                        0.18906   \n",
       "156                   0.22396  0.11850                        0.10062   \n",
       "157                   0.28443  0.36453                        0.10731   \n",
       "\n",
       "     Generosity  Dystopia Residual  \n",
       "0       0.29678            2.51738  \n",
       "1       0.43630            2.70201  \n",
       "2       0.34139            2.49204  \n",
       "3       0.34699            2.46531  \n",
       "4       0.45811            2.45176  \n",
       "..          ...                ...  \n",
       "153     0.22628            0.67042  \n",
       "154     0.18260            1.63328  \n",
       "155     0.47179            0.32858  \n",
       "156     0.19727            1.83302  \n",
       "157     0.16681            1.56726  \n",
       "\n",
       "[158 rows x 12 columns]"
      ]
     },
     "execution_count": 131,
     "metadata": {},
     "output_type": "execute_result"
    }
   ],
   "source": [
    "df = pd.read_csv('https://raw.githubusercontent.com/dsrscientist/DSData/master/happiness_score_dataset.csv')\n",
    "df"
   ]
  },
  {
   "cell_type": "code",
   "execution_count": 132,
   "id": "536d798f",
   "metadata": {},
   "outputs": [
    {
     "name": "stdout",
     "output_type": "stream",
     "text": [
      "<class 'pandas.core.frame.DataFrame'>\n",
      "RangeIndex: 158 entries, 0 to 157\n",
      "Data columns (total 12 columns):\n",
      " #   Column                         Non-Null Count  Dtype  \n",
      "---  ------                         --------------  -----  \n",
      " 0   Country                        158 non-null    object \n",
      " 1   Region                         158 non-null    object \n",
      " 2   Happiness Rank                 158 non-null    int64  \n",
      " 3   Happiness Score                158 non-null    float64\n",
      " 4   Standard Error                 158 non-null    float64\n",
      " 5   Economy (GDP per Capita)       158 non-null    float64\n",
      " 6   Family                         158 non-null    float64\n",
      " 7   Health (Life Expectancy)       158 non-null    float64\n",
      " 8   Freedom                        158 non-null    float64\n",
      " 9   Trust (Government Corruption)  158 non-null    float64\n",
      " 10  Generosity                     158 non-null    float64\n",
      " 11  Dystopia Residual              158 non-null    float64\n",
      "dtypes: float64(9), int64(1), object(2)\n",
      "memory usage: 14.9+ KB\n"
     ]
    }
   ],
   "source": [
    "df.info()"
   ]
  },
  {
   "cell_type": "code",
   "execution_count": 133,
   "id": "15b88573",
   "metadata": {},
   "outputs": [
    {
     "data": {
      "text/html": [
       "<div>\n",
       "<style scoped>\n",
       "    .dataframe tbody tr th:only-of-type {\n",
       "        vertical-align: middle;\n",
       "    }\n",
       "\n",
       "    .dataframe tbody tr th {\n",
       "        vertical-align: top;\n",
       "    }\n",
       "\n",
       "    .dataframe thead th {\n",
       "        text-align: right;\n",
       "    }\n",
       "</style>\n",
       "<table border=\"1\" class=\"dataframe\">\n",
       "  <thead>\n",
       "    <tr style=\"text-align: right;\">\n",
       "      <th></th>\n",
       "      <th>Happiness Rank</th>\n",
       "      <th>Happiness Score</th>\n",
       "      <th>Standard Error</th>\n",
       "      <th>Economy (GDP per Capita)</th>\n",
       "      <th>Family</th>\n",
       "      <th>Health (Life Expectancy)</th>\n",
       "      <th>Freedom</th>\n",
       "      <th>Trust (Government Corruption)</th>\n",
       "      <th>Generosity</th>\n",
       "      <th>Dystopia Residual</th>\n",
       "    </tr>\n",
       "  </thead>\n",
       "  <tbody>\n",
       "    <tr>\n",
       "      <th>count</th>\n",
       "      <td>158.000000</td>\n",
       "      <td>158.000000</td>\n",
       "      <td>158.000000</td>\n",
       "      <td>158.000000</td>\n",
       "      <td>158.000000</td>\n",
       "      <td>158.000000</td>\n",
       "      <td>158.000000</td>\n",
       "      <td>158.000000</td>\n",
       "      <td>158.000000</td>\n",
       "      <td>158.000000</td>\n",
       "    </tr>\n",
       "    <tr>\n",
       "      <th>mean</th>\n",
       "      <td>79.493671</td>\n",
       "      <td>5.375734</td>\n",
       "      <td>0.047885</td>\n",
       "      <td>0.846137</td>\n",
       "      <td>0.991046</td>\n",
       "      <td>0.630259</td>\n",
       "      <td>0.428615</td>\n",
       "      <td>0.143422</td>\n",
       "      <td>0.237296</td>\n",
       "      <td>2.098977</td>\n",
       "    </tr>\n",
       "    <tr>\n",
       "      <th>std</th>\n",
       "      <td>45.754363</td>\n",
       "      <td>1.145010</td>\n",
       "      <td>0.017146</td>\n",
       "      <td>0.403121</td>\n",
       "      <td>0.272369</td>\n",
       "      <td>0.247078</td>\n",
       "      <td>0.150693</td>\n",
       "      <td>0.120034</td>\n",
       "      <td>0.126685</td>\n",
       "      <td>0.553550</td>\n",
       "    </tr>\n",
       "    <tr>\n",
       "      <th>min</th>\n",
       "      <td>1.000000</td>\n",
       "      <td>2.839000</td>\n",
       "      <td>0.018480</td>\n",
       "      <td>0.000000</td>\n",
       "      <td>0.000000</td>\n",
       "      <td>0.000000</td>\n",
       "      <td>0.000000</td>\n",
       "      <td>0.000000</td>\n",
       "      <td>0.000000</td>\n",
       "      <td>0.328580</td>\n",
       "    </tr>\n",
       "    <tr>\n",
       "      <th>25%</th>\n",
       "      <td>40.250000</td>\n",
       "      <td>4.526000</td>\n",
       "      <td>0.037268</td>\n",
       "      <td>0.545808</td>\n",
       "      <td>0.856823</td>\n",
       "      <td>0.439185</td>\n",
       "      <td>0.328330</td>\n",
       "      <td>0.061675</td>\n",
       "      <td>0.150553</td>\n",
       "      <td>1.759410</td>\n",
       "    </tr>\n",
       "    <tr>\n",
       "      <th>50%</th>\n",
       "      <td>79.500000</td>\n",
       "      <td>5.232500</td>\n",
       "      <td>0.043940</td>\n",
       "      <td>0.910245</td>\n",
       "      <td>1.029510</td>\n",
       "      <td>0.696705</td>\n",
       "      <td>0.435515</td>\n",
       "      <td>0.107220</td>\n",
       "      <td>0.216130</td>\n",
       "      <td>2.095415</td>\n",
       "    </tr>\n",
       "    <tr>\n",
       "      <th>75%</th>\n",
       "      <td>118.750000</td>\n",
       "      <td>6.243750</td>\n",
       "      <td>0.052300</td>\n",
       "      <td>1.158448</td>\n",
       "      <td>1.214405</td>\n",
       "      <td>0.811013</td>\n",
       "      <td>0.549092</td>\n",
       "      <td>0.180255</td>\n",
       "      <td>0.309883</td>\n",
       "      <td>2.462415</td>\n",
       "    </tr>\n",
       "    <tr>\n",
       "      <th>max</th>\n",
       "      <td>158.000000</td>\n",
       "      <td>7.587000</td>\n",
       "      <td>0.136930</td>\n",
       "      <td>1.690420</td>\n",
       "      <td>1.402230</td>\n",
       "      <td>1.025250</td>\n",
       "      <td>0.669730</td>\n",
       "      <td>0.551910</td>\n",
       "      <td>0.795880</td>\n",
       "      <td>3.602140</td>\n",
       "    </tr>\n",
       "  </tbody>\n",
       "</table>\n",
       "</div>"
      ],
      "text/plain": [
       "       Happiness Rank  Happiness Score  Standard Error  \\\n",
       "count      158.000000       158.000000      158.000000   \n",
       "mean        79.493671         5.375734        0.047885   \n",
       "std         45.754363         1.145010        0.017146   \n",
       "min          1.000000         2.839000        0.018480   \n",
       "25%         40.250000         4.526000        0.037268   \n",
       "50%         79.500000         5.232500        0.043940   \n",
       "75%        118.750000         6.243750        0.052300   \n",
       "max        158.000000         7.587000        0.136930   \n",
       "\n",
       "       Economy (GDP per Capita)      Family  Health (Life Expectancy)  \\\n",
       "count                158.000000  158.000000                158.000000   \n",
       "mean                   0.846137    0.991046                  0.630259   \n",
       "std                    0.403121    0.272369                  0.247078   \n",
       "min                    0.000000    0.000000                  0.000000   \n",
       "25%                    0.545808    0.856823                  0.439185   \n",
       "50%                    0.910245    1.029510                  0.696705   \n",
       "75%                    1.158448    1.214405                  0.811013   \n",
       "max                    1.690420    1.402230                  1.025250   \n",
       "\n",
       "          Freedom  Trust (Government Corruption)  Generosity  \\\n",
       "count  158.000000                     158.000000  158.000000   \n",
       "mean     0.428615                       0.143422    0.237296   \n",
       "std      0.150693                       0.120034    0.126685   \n",
       "min      0.000000                       0.000000    0.000000   \n",
       "25%      0.328330                       0.061675    0.150553   \n",
       "50%      0.435515                       0.107220    0.216130   \n",
       "75%      0.549092                       0.180255    0.309883   \n",
       "max      0.669730                       0.551910    0.795880   \n",
       "\n",
       "       Dystopia Residual  \n",
       "count         158.000000  \n",
       "mean            2.098977  \n",
       "std             0.553550  \n",
       "min             0.328580  \n",
       "25%             1.759410  \n",
       "50%             2.095415  \n",
       "75%             2.462415  \n",
       "max             3.602140  "
      ]
     },
     "execution_count": 133,
     "metadata": {},
     "output_type": "execute_result"
    }
   ],
   "source": [
    "df.describe()"
   ]
  },
  {
   "cell_type": "code",
   "execution_count": 134,
   "id": "231f8a09",
   "metadata": {},
   "outputs": [
    {
     "data": {
      "text/plain": [
       "Index(['Country', 'Region', 'Happiness Rank', 'Happiness Score',\n",
       "       'Standard Error', 'Economy (GDP per Capita)', 'Family',\n",
       "       'Health (Life Expectancy)', 'Freedom', 'Trust (Government Corruption)',\n",
       "       'Generosity', 'Dystopia Residual'],\n",
       "      dtype='object')"
      ]
     },
     "execution_count": 134,
     "metadata": {},
     "output_type": "execute_result"
    }
   ],
   "source": [
    "df.columns"
   ]
  },
  {
   "cell_type": "code",
   "execution_count": 135,
   "id": "262202f2",
   "metadata": {},
   "outputs": [
    {
     "data": {
      "text/plain": [
       "<seaborn.axisgrid.PairGrid at 0x1fcce0d1fa0>"
      ]
     },
     "execution_count": 135,
     "metadata": {},
     "output_type": "execute_result"
    },
    {
     "data": {
      "text/plain": [
       "<Figure size 1440x1440 with 0 Axes>"
      ]
     },
     "metadata": {},
     "output_type": "display_data"
    },
    {
     "data": {
      "image/png": "[encoded data removed]",
      "text/plain": [
       "<Figure size 900x900 with 30 Axes>"
      ]
     },
     "metadata": {
      "needs_background": "light"
     },
     "output_type": "display_data"
    }
   ],
   "source": [
    "import matplotlib.pyplot as plt\n",
    "import seaborn as sns\n",
    "%matplotlib inline\n",
    "fig = plt.figure(figsize = (20,20))\n",
    "sns.pairplot(df[['Economy (GDP per Capita)',\n",
    "       'Health (Life Expectancy)', 'Freedom', 'Trust (Government Corruption)',\n",
    "       'Generosity']])"
   ]
  },
  {
   "cell_type": "code",
   "execution_count": 136,
   "id": "7ea0b001",
   "metadata": {},
   "outputs": [
    {
     "data": {
      "text/html": [
       "<div>\n",
       "<style scoped>\n",
       "    .dataframe tbody tr th:only-of-type {\n",
       "        vertical-align: middle;\n",
       "    }\n",
       "\n",
       "    .dataframe tbody tr th {\n",
       "        vertical-align: top;\n",
       "    }\n",
       "\n",
       "    .dataframe thead th {\n",
       "        text-align: right;\n",
       "    }\n",
       "</style>\n",
       "<table border=\"1\" class=\"dataframe\">\n",
       "  <thead>\n",
       "    <tr style=\"text-align: right;\">\n",
       "      <th></th>\n",
       "      <th>Happiness Rank</th>\n",
       "      <th>Happiness Score</th>\n",
       "      <th>Standard Error</th>\n",
       "      <th>Economy (GDP per Capita)</th>\n",
       "      <th>Family</th>\n",
       "      <th>Health (Life Expectancy)</th>\n",
       "      <th>Freedom</th>\n",
       "      <th>Trust (Government Corruption)</th>\n",
       "      <th>Generosity</th>\n",
       "      <th>Dystopia Residual</th>\n",
       "    </tr>\n",
       "  </thead>\n",
       "  <tbody>\n",
       "    <tr>\n",
       "      <th>Happiness Rank</th>\n",
       "      <td>1.000000</td>\n",
       "      <td>-0.992105</td>\n",
       "      <td>0.158516</td>\n",
       "      <td>-0.785267</td>\n",
       "      <td>-0.733644</td>\n",
       "      <td>-0.735613</td>\n",
       "      <td>-0.556886</td>\n",
       "      <td>-0.372315</td>\n",
       "      <td>-0.160142</td>\n",
       "      <td>-0.521999</td>\n",
       "    </tr>\n",
       "    <tr>\n",
       "      <th>Happiness Score</th>\n",
       "      <td>-0.992105</td>\n",
       "      <td>1.000000</td>\n",
       "      <td>-0.177254</td>\n",
       "      <td>0.780966</td>\n",
       "      <td>0.740605</td>\n",
       "      <td>0.724200</td>\n",
       "      <td>0.568211</td>\n",
       "      <td>0.395199</td>\n",
       "      <td>0.180319</td>\n",
       "      <td>0.530474</td>\n",
       "    </tr>\n",
       "    <tr>\n",
       "      <th>Standard Error</th>\n",
       "      <td>0.158516</td>\n",
       "      <td>-0.177254</td>\n",
       "      <td>1.000000</td>\n",
       "      <td>-0.217651</td>\n",
       "      <td>-0.120728</td>\n",
       "      <td>-0.310287</td>\n",
       "      <td>-0.129773</td>\n",
       "      <td>-0.178325</td>\n",
       "      <td>-0.088439</td>\n",
       "      <td>0.083981</td>\n",
       "    </tr>\n",
       "    <tr>\n",
       "      <th>Economy (GDP per Capita)</th>\n",
       "      <td>-0.785267</td>\n",
       "      <td>0.780966</td>\n",
       "      <td>-0.217651</td>\n",
       "      <td>1.000000</td>\n",
       "      <td>0.645299</td>\n",
       "      <td>0.816478</td>\n",
       "      <td>0.370300</td>\n",
       "      <td>0.307885</td>\n",
       "      <td>-0.010465</td>\n",
       "      <td>0.040059</td>\n",
       "    </tr>\n",
       "    <tr>\n",
       "      <th>Family</th>\n",
       "      <td>-0.733644</td>\n",
       "      <td>0.740605</td>\n",
       "      <td>-0.120728</td>\n",
       "      <td>0.645299</td>\n",
       "      <td>1.000000</td>\n",
       "      <td>0.531104</td>\n",
       "      <td>0.441518</td>\n",
       "      <td>0.205605</td>\n",
       "      <td>0.087513</td>\n",
       "      <td>0.148117</td>\n",
       "    </tr>\n",
       "    <tr>\n",
       "      <th>Health (Life Expectancy)</th>\n",
       "      <td>-0.735613</td>\n",
       "      <td>0.724200</td>\n",
       "      <td>-0.310287</td>\n",
       "      <td>0.816478</td>\n",
       "      <td>0.531104</td>\n",
       "      <td>1.000000</td>\n",
       "      <td>0.360477</td>\n",
       "      <td>0.248335</td>\n",
       "      <td>0.108335</td>\n",
       "      <td>0.018979</td>\n",
       "    </tr>\n",
       "    <tr>\n",
       "      <th>Freedom</th>\n",
       "      <td>-0.556886</td>\n",
       "      <td>0.568211</td>\n",
       "      <td>-0.129773</td>\n",
       "      <td>0.370300</td>\n",
       "      <td>0.441518</td>\n",
       "      <td>0.360477</td>\n",
       "      <td>1.000000</td>\n",
       "      <td>0.493524</td>\n",
       "      <td>0.373916</td>\n",
       "      <td>0.062783</td>\n",
       "    </tr>\n",
       "    <tr>\n",
       "      <th>Trust (Government Corruption)</th>\n",
       "      <td>-0.372315</td>\n",
       "      <td>0.395199</td>\n",
       "      <td>-0.178325</td>\n",
       "      <td>0.307885</td>\n",
       "      <td>0.205605</td>\n",
       "      <td>0.248335</td>\n",
       "      <td>0.493524</td>\n",
       "      <td>1.000000</td>\n",
       "      <td>0.276123</td>\n",
       "      <td>-0.033105</td>\n",
       "    </tr>\n",
       "    <tr>\n",
       "      <th>Generosity</th>\n",
       "      <td>-0.160142</td>\n",
       "      <td>0.180319</td>\n",
       "      <td>-0.088439</td>\n",
       "      <td>-0.010465</td>\n",
       "      <td>0.087513</td>\n",
       "      <td>0.108335</td>\n",
       "      <td>0.373916</td>\n",
       "      <td>0.276123</td>\n",
       "      <td>1.000000</td>\n",
       "      <td>-0.101301</td>\n",
       "    </tr>\n",
       "    <tr>\n",
       "      <th>Dystopia Residual</th>\n",
       "      <td>-0.521999</td>\n",
       "      <td>0.530474</td>\n",
       "      <td>0.083981</td>\n",
       "      <td>0.040059</td>\n",
       "      <td>0.148117</td>\n",
       "      <td>0.018979</td>\n",
       "      <td>0.062783</td>\n",
       "      <td>-0.033105</td>\n",
       "      <td>-0.101301</td>\n",
       "      <td>1.000000</td>\n",
       "    </tr>\n",
       "  </tbody>\n",
       "</table>\n",
       "</div>"
      ],
      "text/plain": [
       "                               Happiness Rank  Happiness Score  \\\n",
       "Happiness Rank                       1.000000        -0.992105   \n",
       "Happiness Score                     -0.992105         1.000000   \n",
       "Standard Error                       0.158516        -0.177254   \n",
       "Economy (GDP per Capita)            -0.785267         0.780966   \n",
       "Family                              -0.733644         0.740605   \n",
       "Health (Life Expectancy)            -0.735613         0.724200   \n",
       "Freedom                             -0.556886         0.568211   \n",
       "Trust (Government Corruption)       -0.372315         0.395199   \n",
       "Generosity                          -0.160142         0.180319   \n",
       "Dystopia Residual                   -0.521999         0.530474   \n",
       "\n",
       "                               Standard Error  Economy (GDP per Capita)  \\\n",
       "Happiness Rank                       0.158516                 -0.785267   \n",
       "Happiness Score                     -0.177254                  0.780966   \n",
       "Standard Error                       1.000000                 -0.217651   \n",
       "Economy (GDP per Capita)            -0.217651                  1.000000   \n",
       "Family                              -0.120728                  0.645299   \n",
       "Health (Life Expectancy)            -0.310287                  0.816478   \n",
       "Freedom                             -0.129773                  0.370300   \n",
       "Trust (Government Corruption)       -0.178325                  0.307885   \n",
       "Generosity                          -0.088439                 -0.010465   \n",
       "Dystopia Residual                    0.083981                  0.040059   \n",
       "\n",
       "                                 Family  Health (Life Expectancy)   Freedom  \\\n",
       "Happiness Rank                -0.733644                 -0.735613 -0.556886   \n",
       "Happiness Score                0.740605                  0.724200  0.568211   \n",
       "Standard Error                -0.120728                 -0.310287 -0.129773   \n",
       "Economy (GDP per Capita)       0.645299                  0.816478  0.370300   \n",
       "Family                         1.000000                  0.531104  0.441518   \n",
       "Health (Life Expectancy)       0.531104                  1.000000  0.360477   \n",
       "Freedom                        0.441518                  0.360477  1.000000   \n",
       "Trust (Government Corruption)  0.205605                  0.248335  0.493524   \n",
       "Generosity                     0.087513                  0.108335  0.373916   \n",
       "Dystopia Residual              0.148117                  0.018979  0.062783   \n",
       "\n",
       "                               Trust (Government Corruption)  Generosity  \\\n",
       "Happiness Rank                                     -0.372315   -0.160142   \n",
       "Happiness Score                                     0.395199    0.180319   \n",
       "Standard Error                                     -0.178325   -0.088439   \n",
       "Economy (GDP per Capita)                            0.307885   -0.010465   \n",
       "Family                                              0.205605    0.087513   \n",
       "Health (Life Expectancy)                            0.248335    0.108335   \n",
       "Freedom                                             0.493524    0.373916   \n",
       "Trust (Government Corruption)                       1.000000    0.276123   \n",
       "Generosity                                          0.276123    1.000000   \n",
       "Dystopia Residual                                  -0.033105   -0.101301   \n",
       "\n",
       "                               Dystopia Residual  \n",
       "Happiness Rank                         -0.521999  \n",
       "Happiness Score                         0.530474  \n",
       "Standard Error                          0.083981  \n",
       "Economy (GDP per Capita)                0.040059  \n",
       "Family                                  0.148117  \n",
       "Health (Life Expectancy)                0.018979  \n",
       "Freedom                                 0.062783  \n",
       "Trust (Government Corruption)          -0.033105  \n",
       "Generosity                             -0.101301  \n",
       "Dystopia Residual                       1.000000  "
      ]
     },
     "execution_count": 136,
     "metadata": {},
     "output_type": "execute_result"
    }
   ],
   "source": [
    "df.corr()"
   ]
  },
  {
   "cell_type": "code",
   "execution_count": 137,
   "id": "285eb920",
   "metadata": {},
   "outputs": [
    {
     "name": "stdout",
     "output_type": "stream",
     "text": [
      "Requirement already satisfied: plotly in c:\\users\\prath\\anaconda3\\lib\\site-packages (5.9.0)\n",
      "Requirement already satisfied: tenacity>=6.2.0 in c:\\users\\prath\\anaconda3\\lib\\site-packages (from plotly) (8.0.1)\n"
     ]
    }
   ],
   "source": [
    "!pip install plotly"
   ]
  },
  {
   "cell_type": "code",
   "execution_count": 138,
   "id": "073201a3",
   "metadata": {},
   "outputs": [
    {
     "data": {
      "application/vnd.plotly.v1+json": {
       "config": {
        "plotlyServerURL": "https://plot.ly"
       },
       "data": [
        {
         "hovertemplate": "Region=%{x}<br>Economy (GDP per Capita)=%{y}<br>Happiness Score=%{marker.color}<extra></extra>",
         "legendgroup": "",
         "marker": {
          "color": [
           7.587,
           7.561,
           7.527,
           7.522,
           7.427,
           7.406,
           7.378,
           7.364,
           7.286,
           7.284,
           7.278,
           7.226,
           7.2,
           7.187,
           7.119,
           6.983,
           6.946,
           6.94,
           6.937,
           6.901,
           6.867,
           6.853,
           6.81,
           6.798,
           6.786,
           6.75,
           6.67,
           6.611,
           6.575,
           6.574,
           6.505,
           6.485,
           6.477,
           6.455,
           6.411,
           6.329,
           6.302,
           6.298,
           6.295,
           6.269,
           6.168,
           6.13,
           6.123,
           6.003,
           5.995,
           5.987,
           5.984,
           5.975,
           5.96,
           5.948,
           5.89,
           5.889,
           5.878,
           5.855,
           5.848,
           5.833,
           5.828,
           5.824,
           5.813,
           5.791,
           5.77,
           5.759,
           5.754,
           5.716,
           5.709,
           5.695,
           5.689,
           5.605,
           5.589,
           5.548,
           5.477,
           5.474,
           5.429,
           5.399,
           5.36,
           5.332,
           5.286,
           5.268,
           5.253,
           5.212,
           5.194,
           5.192,
           5.192,
           5.14,
           5.129,
           5.124,
           5.123,
           5.102,
           5.098,
           5.073,
           5.057,
           5.013,
           5.007,
           4.971,
           4.959,
           4.949,
           4.898,
           4.885,
           4.876,
           4.874,
           4.867,
           4.857,
           4.839,
           4.8,
           4.788,
           4.786,
           4.739,
           4.715,
           4.694,
           4.686,
           4.681,
           4.677,
           4.642,
           4.633,
           4.61,
           4.571,
           4.565,
           4.55,
           4.518,
           4.517,
           4.514,
           4.512,
           4.507,
           4.436,
           4.419,
           4.369,
           4.35,
           4.332,
           4.307,
           4.297,
           4.292,
           4.271,
           4.252,
           4.218,
           4.194,
           4.077,
           4.033,
           3.995,
           3.989,
           3.956,
           3.931,
           3.904,
           3.896,
           3.845,
           3.819,
           3.781,
           3.681,
           3.678,
           3.667,
           3.656,
           3.655,
           3.587,
           3.575,
           3.465,
           3.34,
           3.006,
           2.905,
           2.839
          ],
          "coloraxis": "coloraxis",
          "symbol": "circle"
         },
         "mode": "markers",
         "name": "",
         "orientation": "v",
         "showlegend": false,
         "type": "scatter",
         "x": [
          "Western Europe",
          "Western Europe",
          "Western Europe",
          "Western Europe",
          "North America",
          "Western Europe",
          "Western Europe",
          "Western Europe",
          "Australia and New Zealand",
          "Australia and New Zealand",
          "Middle East and Northern Africa",
          "Latin America and Caribbean",
          "Western Europe",
          "Latin America and Caribbean",
          "North America",
          "Latin America and Caribbean",
          "Western Europe",
          "Western Europe",
          "Western Europe",
          "Middle East and Northern Africa",
          "Western Europe",
          "Middle East and Northern Africa",
          "Latin America and Caribbean",
          "Southeastern Asia",
          "Latin America and Caribbean",
          "Western Europe",
          "Latin America and Caribbean",
          "Middle East and Northern Africa",
          "Western Europe",
          "Latin America and Caribbean",
          "Central and Eastern Europe",
          "Latin America and Caribbean",
          "Latin America and Caribbean",
          "Southeastern Asia",
          "Middle East and Northern Africa",
          "Western Europe",
          "Western Europe",
          "Eastern Asia",
          "Middle East and Northern Africa",
          "Latin America and Caribbean",
          "Latin America and Caribbean",
          "Latin America and Caribbean",
          "Latin America and Caribbean",
          "Central and Eastern Europe",
          "Central and Eastern Europe",
          "Eastern Asia",
          "Eastern Asia",
          "Latin America and Caribbean",
          "Middle East and Northern Africa",
          "Western Europe",
          "Latin America and Caribbean",
          "Central and Eastern Europe",
          "Latin America and Caribbean",
          "Central and Eastern Europe",
          "Central and Eastern Europe",
          "Central and Eastern Europe",
          "Latin America and Caribbean",
          "Latin America and Caribbean",
          "Central and Eastern Europe",
          "Central and Eastern Europe",
          "Southeastern Asia",
          "Central and Eastern Europe",
          "Middle East and Northern Africa",
          "Central and Eastern Europe",
          "Latin America and Caribbean",
          "Western Europe",
          "Western Europe",
          "Middle East and Northern Africa",
          "Central and Eastern Europe",
          "Central and Eastern Europe",
          "Sub-Saharan Africa",
          "Eastern Asia",
          "Central and Eastern Europe",
          "Southeastern Asia",
          "Southeastern Asia",
          "Middle East and Northern Africa",
          "Central and Eastern Europe",
          "Sub-Saharan Africa",
          "Southern Asia",
          "Central and Eastern Europe",
          "Southern Asia",
          "Middle East and Northern Africa",
          "Central and Eastern Europe",
          "Eastern Asia",
          "Sub-Saharan Africa",
          "Central and Eastern Europe",
          "Central and Eastern Europe",
          "Western Europe",
          "Central and Eastern Europe",
          "Southeastern Asia",
          "Sub-Saharan Africa",
          "Middle East and Northern Africa",
          "Central and Eastern Europe",
          "Sub-Saharan Africa",
          "Central and Eastern Europe",
          "Central and Eastern Europe",
          "Sub-Saharan Africa",
          "Latin America and Caribbean",
          "Southeastern Asia",
          "Eastern Asia",
          "Sub-Saharan Africa",
          "Western Europe",
          "Middle East and Northern Africa",
          "Central and Eastern Europe",
          "Latin America and Caribbean",
          "Central and Eastern Europe",
          "Middle East and Northern Africa",
          "Middle East and Northern Africa",
          "Southern Asia",
          "Middle East and Northern Africa",
          "Central and Eastern Europe",
          "Middle East and Northern Africa",
          "Sub-Saharan Africa",
          "Sub-Saharan Africa",
          "Sub-Saharan Africa",
          "Sub-Saharan Africa",
          "Southern Asia",
          "Sub-Saharan Africa",
          "Latin America and Caribbean",
          "Sub-Saharan Africa",
          "Southern Asia",
          "Sub-Saharan Africa",
          "Sub-Saharan Africa",
          "Sub-Saharan Africa",
          "Sub-Saharan Africa",
          "Sub-Saharan Africa",
          "Central and Eastern Europe",
          "Sub-Saharan Africa",
          "Southeastern Asia",
          "Central and Eastern Europe",
          "Sub-Saharan Africa",
          "Southern Asia",
          "Sub-Saharan Africa",
          "Central and Eastern Europe",
          "Middle East and Northern Africa",
          "Middle East and Northern Africa",
          "Sub-Saharan Africa",
          "Sub-Saharan Africa",
          "Sub-Saharan Africa",
          "Sub-Saharan Africa",
          "Sub-Saharan Africa",
          "Sub-Saharan Africa",
          "Sub-Saharan Africa",
          "Sub-Saharan Africa",
          "Southeastern Asia",
          "Sub-Saharan Africa",
          "Sub-Saharan Africa",
          "Sub-Saharan Africa",
          "Sub-Saharan Africa",
          "Sub-Saharan Africa",
          "Sub-Saharan Africa",
          "Sub-Saharan Africa",
          "Southern Asia",
          "Sub-Saharan Africa",
          "Sub-Saharan Africa",
          "Middle East and Northern Africa",
          "Sub-Saharan Africa",
          "Sub-Saharan Africa"
         ],
         "xaxis": "x",
         "y": [
          1.39651,
          1.30232,
          1.32548,
          1.459,
          1.32629,
          1.29025,
          1.32944,
          1.33171,
          1.25018,
          1.33358,
          1.22857,
          0.95578,
          1.33723,
          1.02054,
          1.39451,
          0.98124,
          1.56391,
          1.33596,
          1.30782,
          1.42727,
          1.26637,
          1.36011,
          1.04424,
          1.52186,
          1.06353,
          1.32792,
          1.10715,
          1.69042,
          1.27778,
          1.05351,
          1.17898,
          1.06166,
          0.91861,
          0.9669,
          1.39541,
          1.23011,
          1.2074,
          1.29098,
          1.55422,
          0.99534,
          1.21183,
          0.76454,
          0.74553,
          0.63244,
          1.16891,
          1.27074,
          1.24461,
          0.86402,
          1.32376,
          1.25114,
          0.68133,
          0.59448,
          0.75985,
          1.12254,
          1.18498,
          1.14723,
          0.59325,
          0.90019,
          1.03192,
          1.12555,
          1.12486,
          1.08254,
          1.13145,
          1.13764,
          0.81038,
          1.20806,
          1.20813,
          0.93929,
          0.80148,
          0.95847,
          1.00761,
          1.38604,
          1.15174,
          0.82827,
          0.63216,
          1.06098,
          0.47428,
          0.65435,
          0.77042,
          1.02389,
          0.59543,
          0.90198,
          0.97438,
          0.89012,
          0.47038,
          1.04345,
          0.92053,
          1.15991,
          1.11312,
          0.70532,
          0.18847,
          0.73479,
          0.91851,
          0.08308,
          0.87867,
          0.83223,
          0.37545,
          0.89537,
          0.59066,
          0.82819,
          0.71206,
          1.15406,
          1.02564,
          1.12094,
          0.59532,
          0.39047,
          0.88113,
          0.59867,
          0.39753,
          1.0088,
          0.79907,
          0.98549,
          0.92049,
          0.54558,
          0.271,
          0.0712,
          0.64499,
          0.52107,
          0.26673,
          0,
          0.35997,
          0.19073,
          0.33024,
          0.45407,
          0.36471,
          0.44025,
          0.76821,
          0.99355,
          0.27108,
          0.7419,
          0.01604,
          0.83524,
          0.4225,
          1.01216,
          0.8818,
          0.54649,
          0.75778,
          0.26074,
          0.67866,
          0.23906,
          0.21102,
          0.36498,
          1.06024,
          0.0694,
          0.46038,
          0.2852,
          0.20824,
          0.0785,
          0.34193,
          0.17417,
          0.46534,
          0.25812,
          0.31982,
          0.22208,
          0.28665,
          0.6632,
          0.0153,
          0.20868
         ],
         "yaxis": "y"
        }
       ],
       "layout": {
        "coloraxis": {
         "colorbar": {
          "title": {
           "text": "Happiness Score"
          }
         },
         "colorscale": [
          [
           0,
           "#0d0887"
          ],
          [
           0.1111111111111111,
           "#46039f"
          ],
          [
           0.2222222222222222,
           "#7201a8"
          ],
          [
           0.3333333333333333,
           "#9c179e"
          ],
          [
           0.4444444444444444,
           "#bd3786"
          ],
          [
           0.5555555555555556,
           "#d8576b"
          ],
          [
           0.6666666666666666,
           "#ed7953"
          ],
          [
           0.7777777777777778,
           "#fb9f3a"
          ],
          [
           0.8888888888888888,
           "#fdca26"
          ],
          [
           1,
           "#f0f921"
          ]
         ]
        },
        "legend": {
         "tracegroupgap": 0
        },
        "margin": {
         "t": 60
        },
        "template": {
         "data": {
          "bar": [
           {
            "error_x": {
             "color": "#2a3f5f"
            },
            "error_y": {
             "color": "#2a3f5f"
            },
            "marker": {
             "line": {
              "color": "#E5ECF6",
              "width": 0.5
             },
             "pattern": {
              "fillmode": "overlay",
              "size": 10,
              "solidity": 0.2
             }
            },
            "type": "bar"
           }
          ],
          "barpolar": [
           {
            "marker": {
             "line": {
              "color": "#E5ECF6",
              "width": 0.5
             },
             "pattern": {
              "fillmode": "overlay",
              "size": 10,
              "solidity": 0.2
             }
            },
            "type": "barpolar"
           }
          ],
          "carpet": [
           {
            "aaxis": {
             "endlinecolor": "#2a3f5f",
             "gridcolor": "white",
             "linecolor": "white",
             "minorgridcolor": "white",
             "startlinecolor": "#2a3f5f"
            },
            "baxis": {
             "endlinecolor": "#2a3f5f",
             "gridcolor": "white",
             "linecolor": "white",
             "minorgridcolor": "white",
             "startlinecolor": "#2a3f5f"
            },
            "type": "carpet"
           }
          ],
          "choropleth": [
           {
            "colorbar": {
             "outlinewidth": 0,
             "ticks": ""
            },
            "type": "choropleth"
           }
          ],
          "contour": [
           {
            "colorbar": {
             "outlinewidth": 0,
             "ticks": ""
            },
            "colorscale": [
             [
              0,
              "#0d0887"
             ],
             [
              0.1111111111111111,
              "#46039f"
             ],
             [
              0.2222222222222222,
              "#7201a8"
             ],
             [
              0.3333333333333333,
              "#9c179e"
             ],
             [
              0.4444444444444444,
              "#bd3786"
             ],
             [
              0.5555555555555556,
              "#d8576b"
             ],
             [
              0.6666666666666666,
              "#ed7953"
             ],
             [
              0.7777777777777778,
              "#fb9f3a"
             ],
             [
              0.8888888888888888,
              "#fdca26"
             ],
             [
              1,
              "#f0f921"
             ]
            ],
            "type": "contour"
           }
          ],
          "contourcarpet": [
           {
            "colorbar": {
             "outlinewidth": 0,
             "ticks": ""
            },
            "type": "contourcarpet"
           }
          ],
          "heatmap": [
           {
            "colorbar": {
             "outlinewidth": 0,
             "ticks": ""
            },
            "colorscale": [
             [
              0,
              "#0d0887"
             ],
             [
              0.1111111111111111,
              "#46039f"
             ],
             [
              0.2222222222222222,
              "#7201a8"
             ],
             [
              0.3333333333333333,
              "#9c179e"
             ],
             [
              0.4444444444444444,
              "#bd3786"
             ],
             [
              0.5555555555555556,
              "#d8576b"
             ],
             [
              0.6666666666666666,
              "#ed7953"
             ],
             [
              0.7777777777777778,
              "#fb9f3a"
             ],
             [
              0.8888888888888888,
              "#fdca26"
             ],
             [
              1,
              "#f0f921"
             ]
            ],
            "type": "heatmap"
           }
          ],
          "heatmapgl": [
           {
            "colorbar": {
             "outlinewidth": 0,
             "ticks": ""
            },
            "colorscale": [
             [
              0,
              "#0d0887"
             ],
             [
              0.1111111111111111,
              "#46039f"
             ],
             [
              0.2222222222222222,
              "#7201a8"
             ],
             [
              0.3333333333333333,
              "#9c179e"
             ],
             [
              0.4444444444444444,
              "#bd3786"
             ],
             [
              0.5555555555555556,
              "#d8576b"
             ],
             [
              0.6666666666666666,
              "#ed7953"
             ],
             [
              0.7777777777777778,
              "#fb9f3a"
             ],
             [
              0.8888888888888888,
              "#fdca26"
             ],
             [
              1,
              "#f0f921"
             ]
            ],
            "type": "heatmapgl"
           }
          ],
          "histogram": [
           {
            "marker": {
             "pattern": {
              "fillmode": "overlay",
              "size": 10,
              "solidity": 0.2
             }
            },
            "type": "histogram"
           }
          ],
          "histogram2d": [
           {
            "colorbar": {
             "outlinewidth": 0,
             "ticks": ""
            },
            "colorscale": [
             [
              0,
              "#0d0887"
             ],
             [
              0.1111111111111111,
              "#46039f"
             ],
             [
              0.2222222222222222,
              "#7201a8"
             ],
             [
              0.3333333333333333,
              "#9c179e"
             ],
             [
              0.4444444444444444,
              "#bd3786"
             ],
             [
              0.5555555555555556,
              "#d8576b"
             ],
             [
              0.6666666666666666,
              "#ed7953"
             ],
             [
              0.7777777777777778,
              "#fb9f3a"
             ],
             [
              0.8888888888888888,
              "#fdca26"
             ],
             [
              1,
              "#f0f921"
             ]
            ],
            "type": "histogram2d"
           }
          ],
          "histogram2dcontour": [
           {
            "colorbar": {
             "outlinewidth": 0,
             "ticks": ""
            },
            "colorscale": [
             [
              0,
              "#0d0887"
             ],
             [
              0.1111111111111111,
              "#46039f"
             ],
             [
              0.2222222222222222,
              "#7201a8"
             ],
             [
              0.3333333333333333,
              "#9c179e"
             ],
             [
              0.4444444444444444,
              "#bd3786"
             ],
             [
              0.5555555555555556,
              "#d8576b"
             ],
             [
              0.6666666666666666,
              "#ed7953"
             ],
             [
              0.7777777777777778,
              "#fb9f3a"
             ],
             [
              0.8888888888888888,
              "#fdca26"
             ],
             [
              1,
              "#f0f921"
             ]
            ],
            "type": "histogram2dcontour"
           }
          ],
          "mesh3d": [
           {
            "colorbar": {
             "outlinewidth": 0,
             "ticks": ""
            },
            "type": "mesh3d"
           }
          ],
          "parcoords": [
           {
            "line": {
             "colorbar": {
              "outlinewidth": 0,
              "ticks": ""
             }
            },
            "type": "parcoords"
           }
          ],
          "pie": [
           {
            "automargin": true,
            "type": "pie"
           }
          ],
          "scatter": [
           {
            "fillpattern": {
             "fillmode": "overlay",
             "size": 10,
             "solidity": 0.2
            },
            "type": "scatter"
           }
          ],
          "scatter3d": [
           {
            "line": {
             "colorbar": {
              "outlinewidth": 0,
              "ticks": ""
             }
            },
            "marker": {
             "colorbar": {
              "outlinewidth": 0,
              "ticks": ""
             }
            },
            "type": "scatter3d"
           }
          ],
          "scattercarpet": [
           {
            "marker": {
             "colorbar": {
              "outlinewidth": 0,
              "ticks": ""
             }
            },
            "type": "scattercarpet"
           }
          ],
          "scattergeo": [
           {
            "marker": {
             "colorbar": {
              "outlinewidth": 0,
              "ticks": ""
             }
            },
            "type": "scattergeo"
           }
          ],
          "scattergl": [
           {
            "marker": {
             "colorbar": {
              "outlinewidth": 0,
              "ticks": ""
             }
            },
            "type": "scattergl"
           }
          ],
          "scattermapbox": [
           {
            "marker": {
             "colorbar": {
              "outlinewidth": 0,
              "ticks": ""
             }
            },
            "type": "scattermapbox"
           }
          ],
          "scatterpolar": [
           {
            "marker": {
             "colorbar": {
              "outlinewidth": 0,
              "ticks": ""
             }
            },
            "type": "scatterpolar"
           }
          ],
          "scatterpolargl": [
           {
            "marker": {
             "colorbar": {
              "outlinewidth": 0,
              "ticks": ""
             }
            },
            "type": "scatterpolargl"
           }
          ],
          "scatterternary": [
           {
            "marker": {
             "colorbar": {
              "outlinewidth": 0,
              "ticks": ""
             }
            },
            "type": "scatterternary"
           }
          ],
          "surface": [
           {
            "colorbar": {
             "outlinewidth": 0,
             "ticks": ""
            },
            "colorscale": [
             [
              0,
              "#0d0887"
             ],
             [
              0.1111111111111111,
              "#46039f"
             ],
             [
              0.2222222222222222,
              "#7201a8"
             ],
             [
              0.3333333333333333,
              "#9c179e"
             ],
             [
              0.4444444444444444,
              "#bd3786"
             ],
             [
              0.5555555555555556,
              "#d8576b"
             ],
             [
              0.6666666666666666,
              "#ed7953"
             ],
             [
              0.7777777777777778,
              "#fb9f3a"
             ],
             [
              0.8888888888888888,
              "#fdca26"
             ],
             [
              1,
              "#f0f921"
             ]
            ],
            "type": "surface"
           }
          ],
          "table": [
           {
            "cells": {
             "fill": {
              "color": "#EBF0F8"
             },
             "line": {
              "color": "white"
             }
            },
            "header": {
             "fill": {
              "color": "#C8D4E3"
             },
             "line": {
              "color": "white"
             }
            },
            "type": "table"
           }
          ]
         },
         "layout": {
          "annotationdefaults": {
           "arrowcolor": "#2a3f5f",
           "arrowhead": 0,
           "arrowwidth": 1
          },
          "autotypenumbers": "strict",
          "coloraxis": {
           "colorbar": {
            "outlinewidth": 0,
            "ticks": ""
           }
          },
          "colorscale": {
           "diverging": [
            [
             0,
             "#8e0152"
            ],
            [
             0.1,
             "#c51b7d"
            ],
            [
             0.2,
             "#de77ae"
            ],
            [
             0.3,
             "#f1b6da"
            ],
            [
             0.4,
             "#fde0ef"
            ],
            [
             0.5,
             "#f7f7f7"
            ],
            [
             0.6,
             "#e6f5d0"
            ],
            [
             0.7,
             "#b8e186"
            ],
            [
             0.8,
             "#7fbc41"
            ],
            [
             0.9,
             "#4d9221"
            ],
            [
             1,
             "#276419"
            ]
           ],
           "sequential": [
            [
             0,
             "#0d0887"
            ],
            [
             0.1111111111111111,
             "#46039f"
            ],
            [
             0.2222222222222222,
             "#7201a8"
            ],
            [
             0.3333333333333333,
             "#9c179e"
            ],
            [
             0.4444444444444444,
             "#bd3786"
            ],
            [
             0.5555555555555556,
             "#d8576b"
            ],
            [
             0.6666666666666666,
             "#ed7953"
            ],
            [
             0.7777777777777778,
             "#fb9f3a"
            ],
            [
             0.8888888888888888,
             "#fdca26"
            ],
            [
             1,
             "#f0f921"
            ]
           ],
           "sequentialminus": [
            [
             0,
             "#0d0887"
            ],
            [
             0.1111111111111111,
             "#46039f"
            ],
            [
             0.2222222222222222,
             "#7201a8"
            ],
            [
             0.3333333333333333,
             "#9c179e"
            ],
            [
             0.4444444444444444,
             "#bd3786"
            ],
            [
             0.5555555555555556,
             "#d8576b"
            ],
            [
             0.6666666666666666,
             "#ed7953"
            ],
            [
             0.7777777777777778,
             "#fb9f3a"
            ],
            [
             0.8888888888888888,
             "#fdca26"
            ],
            [
             1,
             "#f0f921"
            ]
           ]
          },
          "colorway": [
           "#636efa",
           "#EF553B",
           "#00cc96",
           "#ab63fa",
           "#FFA15A",
           "#19d3f3",
           "#FF6692",
           "#B6E880",
           "#FF97FF",
           "#FECB52"
          ],
          "font": {
           "color": "#2a3f5f"
          },
          "geo": {
           "bgcolor": "white",
           "lakecolor": "white",
           "landcolor": "#E5ECF6",
           "showlakes": true,
           "showland": true,
           "subunitcolor": "white"
          },
          "hoverlabel": {
           "align": "left"
          },
          "hovermode": "closest",
          "mapbox": {
           "style": "light"
          },
          "paper_bgcolor": "white",
          "plot_bgcolor": "#E5ECF6",
          "polar": {
           "angularaxis": {
            "gridcolor": "white",
            "linecolor": "white",
            "ticks": ""
           },
           "bgcolor": "#E5ECF6",
           "radialaxis": {
            "gridcolor": "white",
            "linecolor": "white",
            "ticks": ""
           }
          },
          "scene": {
           "xaxis": {
            "backgroundcolor": "#E5ECF6",
            "gridcolor": "white",
            "gridwidth": 2,
            "linecolor": "white",
            "showbackground": true,
            "ticks": "",
            "zerolinecolor": "white"
           },
           "yaxis": {
            "backgroundcolor": "#E5ECF6",
            "gridcolor": "white",
            "gridwidth": 2,
            "linecolor": "white",
            "showbackground": true,
            "ticks": "",
            "zerolinecolor": "white"
           },
           "zaxis": {
            "backgroundcolor": "#E5ECF6",
            "gridcolor": "white",
            "gridwidth": 2,
            "linecolor": "white",
            "showbackground": true,
            "ticks": "",
            "zerolinecolor": "white"
           }
          },
          "shapedefaults": {
           "line": {
            "color": "#2a3f5f"
           }
          },
          "ternary": {
           "aaxis": {
            "gridcolor": "white",
            "linecolor": "white",
            "ticks": ""
           },
           "baxis": {
            "gridcolor": "white",
            "linecolor": "white",
            "ticks": ""
           },
           "bgcolor": "#E5ECF6",
           "caxis": {
            "gridcolor": "white",
            "linecolor": "white",
            "ticks": ""
           }
          },
          "title": {
           "x": 0.05
          },
          "xaxis": {
           "automargin": true,
           "gridcolor": "white",
           "linecolor": "white",
           "ticks": "",
           "title": {
            "standoff": 15
           },
           "zerolinecolor": "white",
           "zerolinewidth": 2
          },
          "yaxis": {
           "automargin": true,
           "gridcolor": "white",
           "linecolor": "white",
           "ticks": "",
           "title": {
            "standoff": 15
           },
           "zerolinecolor": "white",
           "zerolinewidth": 2
          }
         }
        },
        "xaxis": {
         "anchor": "y",
         "domain": [
          0,
          1
         ],
         "title": {
          "text": "Region"
         }
        },
        "yaxis": {
         "anchor": "x",
         "domain": [
          0,
          1
         ],
         "title": {
          "text": "Economy (GDP per Capita)"
         }
        }
       }
      },
      "text/html": [
       "<div>                            <div id=\"bc0b11fb-9b1b-4da4-9a0b-24620bdfd0ba\" class=\"plotly-graph-div\" style=\"height:525px; width:100%;\"></div>            <script type=\"text/javascript\">                require([\"plotly\"], function(Plotly) {                    window.PLOTLYENV=window.PLOTLYENV || {};                                    if (document.getElementById(\"bc0b11fb-9b1b-4da4-9a0b-24620bdfd0ba\")) {                    Plotly.newPlot(                        \"bc0b11fb-9b1b-4da4-9a0b-24620bdfd0ba\",                        [{\"hovertemplate\":\"Region=%{x}<br>Economy (GDP per Capita)=%{y}<br>Happiness Score=%{marker.color}<extra></extra>\",\"legendgroup\":\"\",\"marker\":{\"color\":[7.587,7.561,7.527,7.522,7.427,7.406,7.378,7.364,7.286,7.284,7.278,7.226,7.2,7.187,7.119,6.983,6.946,6.94,6.937,6.901,6.867,6.853,6.81,6.798,6.786,6.75,6.67,6.611,6.575,6.574,6.505,6.485,6.477,6.455,6.411,6.329,6.302,6.298,6.295,6.269,6.168,6.13,6.123,6.003,5.995,5.987,5.984,5.975,5.96,5.948,5.89,5.889,5.878,5.855,5.848,5.833,5.828,5.824,5.813,5.791,5.77,5.759,5.754,5.716,5.709,5.695,5.689,5.605,5.589,5.548,5.477,5.474,5.429,5.399,5.36,5.332,5.286,5.268,5.253,5.212,5.194,5.192,5.192,5.14,5.129,5.124,5.123,5.102,5.098,5.073,5.057,5.013,5.007,4.971,4.959,4.949,4.898,4.885,4.876,4.874,4.867,4.857,4.839,4.8,4.788,4.786,4.739,4.715,4.694,4.686,4.681,4.677,4.642,4.633,4.61,4.571,4.565,4.55,4.518,4.517,4.514,4.512,4.507,4.436,4.419,4.369,4.35,4.332,4.307,4.297,4.292,4.271,4.252,4.218,4.194,4.077,4.033,3.995,3.989,3.956,3.931,3.904,3.896,3.845,3.819,3.781,3.681,3.678,3.667,3.656,3.655,3.587,3.575,3.465,3.34,3.006,2.905,2.839],\"coloraxis\":\"coloraxis\",\"symbol\":\"circle\"},\"mode\":\"markers\",\"name\":\"\",\"orientation\":\"v\",\"showlegend\":false,\"x\":[\"Western Europe\",\"Western Europe\",\"Western Europe\",\"Western Europe\",\"North America\",\"Western Europe\",\"Western Europe\",\"Western Europe\",\"Australia and New Zealand\",\"Australia and New Zealand\",\"Middle East and Northern Africa\",\"Latin America and Caribbean\",\"Western Europe\",\"Latin America and Caribbean\",\"North America\",\"Latin America and Caribbean\",\"Western Europe\",\"Western Europe\",\"Western Europe\",\"Middle East and Northern Africa\",\"Western Europe\",\"Middle East and Northern Africa\",\"Latin America and Caribbean\",\"Southeastern Asia\",\"Latin America and Caribbean\",\"Western Europe\",\"Latin America and Caribbean\",\"Middle East and Northern Africa\",\"Western Europe\",\"Latin America and Caribbean\",\"Central and Eastern Europe\",\"Latin America and Caribbean\",\"Latin America and Caribbean\",\"Southeastern Asia\",\"Middle East and Northern Africa\",\"Western Europe\",\"Western Europe\",\"Eastern Asia\",\"Middle East and Northern Africa\",\"Latin America and Caribbean\",\"Latin America and Caribbean\",\"Latin America and Caribbean\",\"Latin America and Caribbean\",\"Central and Eastern Europe\",\"Central and Eastern Europe\",\"Eastern Asia\",\"Eastern Asia\",\"Latin America and Caribbean\",\"Middle East and Northern Africa\",\"Western Europe\",\"Latin America and Caribbean\",\"Central and Eastern Europe\",\"Latin America and Caribbean\",\"Central and Eastern Europe\",\"Central and Eastern Europe\",\"Central and Eastern Europe\",\"Latin America and Caribbean\",\"Latin America and Caribbean\",\"Central and Eastern Europe\",\"Central and Eastern Europe\",\"Southeastern Asia\",\"Central and Eastern Europe\",\"Middle East and Northern Africa\",\"Central and Eastern Europe\",\"Latin America and Caribbean\",\"Western Europe\",\"Western Europe\",\"Middle East and Northern Africa\",\"Central and Eastern Europe\",\"Central and Eastern Europe\",\"Sub-Saharan Africa\",\"Eastern Asia\",\"Central and Eastern Europe\",\"Southeastern Asia\",\"Southeastern Asia\",\"Middle East and Northern Africa\",\"Central and Eastern Europe\",\"Sub-Saharan Africa\",\"Southern Asia\",\"Central and Eastern Europe\",\"Southern Asia\",\"Middle East and Northern Africa\",\"Central and Eastern Europe\",\"Eastern Asia\",\"Sub-Saharan Africa\",\"Central and Eastern Europe\",\"Central and Eastern Europe\",\"Western Europe\",\"Central and Eastern Europe\",\"Southeastern Asia\",\"Sub-Saharan Africa\",\"Middle East and Northern Africa\",\"Central and Eastern Europe\",\"Sub-Saharan Africa\",\"Central and Eastern Europe\",\"Central and Eastern Europe\",\"Sub-Saharan Africa\",\"Latin America and Caribbean\",\"Southeastern Asia\",\"Eastern Asia\",\"Sub-Saharan Africa\",\"Western Europe\",\"Middle East and Northern Africa\",\"Central and Eastern Europe\",\"Latin America and Caribbean\",\"Central and Eastern Europe\",\"Middle East and Northern Africa\",\"Middle East and Northern Africa\",\"Southern Asia\",\"Middle East and Northern Africa\",\"Central and Eastern Europe\",\"Middle East and Northern Africa\",\"Sub-Saharan Africa\",\"Sub-Saharan Africa\",\"Sub-Saharan Africa\",\"Sub-Saharan Africa\",\"Southern Asia\",\"Sub-Saharan Africa\",\"Latin America and Caribbean\",\"Sub-Saharan Africa\",\"Southern Asia\",\"Sub-Saharan Africa\",\"Sub-Saharan Africa\",\"Sub-Saharan Africa\",\"Sub-Saharan Africa\",\"Sub-Saharan Africa\",\"Central and Eastern Europe\",\"Sub-Saharan Africa\",\"Southeastern Asia\",\"Central and Eastern Europe\",\"Sub-Saharan Africa\",\"Southern Asia\",\"Sub-Saharan Africa\",\"Central and Eastern Europe\",\"Middle East and Northern Africa\",\"Middle East and Northern Africa\",\"Sub-Saharan Africa\",\"Sub-Saharan Africa\",\"Sub-Saharan Africa\",\"Sub-Saharan Africa\",\"Sub-Saharan Africa\",\"Sub-Saharan Africa\",\"Sub-Saharan Africa\",\"Sub-Saharan Africa\",\"Southeastern Asia\",\"Sub-Saharan Africa\",\"Sub-Saharan Africa\",\"Sub-Saharan Africa\",\"Sub-Saharan Africa\",\"Sub-Saharan Africa\",\"Sub-Saharan Africa\",\"Sub-Saharan Africa\",\"Southern Asia\",\"Sub-Saharan Africa\",\"Sub-Saharan Africa\",\"Middle East and Northern Africa\",\"Sub-Saharan Africa\",\"Sub-Saharan Africa\"],\"xaxis\":\"x\",\"y\":[1.39651,1.30232,1.32548,1.459,1.32629,1.29025,1.32944,1.33171,1.25018,1.33358,1.22857,0.95578,1.33723,1.02054,1.39451,0.98124,1.56391,1.33596,1.30782,1.42727,1.26637,1.36011,1.04424,1.52186,1.06353,1.32792,1.10715,1.69042,1.27778,1.05351,1.17898,1.06166,0.91861,0.9669,1.39541,1.23011,1.2074,1.29098,1.55422,0.99534,1.21183,0.76454,0.74553,0.63244,1.16891,1.27074,1.24461,0.86402,1.32376,1.25114,0.68133,0.59448,0.75985,1.12254,1.18498,1.14723,0.59325,0.90019,1.03192,1.12555,1.12486,1.08254,1.13145,1.13764,0.81038,1.20806,1.20813,0.93929,0.80148,0.95847,1.00761,1.38604,1.15174,0.82827,0.63216,1.06098,0.47428,0.65435,0.77042,1.02389,0.59543,0.90198,0.97438,0.89012,0.47038,1.04345,0.92053,1.15991,1.11312,0.70532,0.18847,0.73479,0.91851,0.08308,0.87867,0.83223,0.37545,0.89537,0.59066,0.82819,0.71206,1.15406,1.02564,1.12094,0.59532,0.39047,0.88113,0.59867,0.39753,1.0088,0.79907,0.98549,0.92049,0.54558,0.271,0.0712,0.64499,0.52107,0.26673,0.0,0.35997,0.19073,0.33024,0.45407,0.36471,0.44025,0.76821,0.99355,0.27108,0.7419,0.01604,0.83524,0.4225,1.01216,0.8818,0.54649,0.75778,0.26074,0.67866,0.23906,0.21102,0.36498,1.06024,0.0694,0.46038,0.2852,0.20824,0.0785,0.34193,0.17417,0.46534,0.25812,0.31982,0.22208,0.28665,0.6632,0.0153,0.20868],\"yaxis\":\"y\",\"type\":\"scatter\"}],                        {\"template\":{\"data\":{\"histogram2dcontour\":[{\"type\":\"histogram2dcontour\",\"colorbar\":{\"outlinewidth\":0,\"ticks\":\"\"},\"colorscale\":[[0.0,\"#0d0887\"],[0.1111111111111111,\"#46039f\"],[0.2222222222222222,\"#7201a8\"],[0.3333333333333333,\"#9c179e\"],[0.4444444444444444,\"#bd3786\"],[0.5555555555555556,\"#d8576b\"],[0.6666666666666666,\"#ed7953\"],[0.7777777777777778,\"#fb9f3a\"],[0.8888888888888888,\"#fdca26\"],[1.0,\"#f0f921\"]]}],\"choropleth\":[{\"type\":\"choropleth\",\"colorbar\":{\"outlinewidth\":0,\"ticks\":\"\"}}],\"histogram2d\":[{\"type\":\"histogram2d\",\"colorbar\":{\"outlinewidth\":0,\"ticks\":\"\"},\"colorscale\":[[0.0,\"#0d0887\"],[0.1111111111111111,\"#46039f\"],[0.2222222222222222,\"#7201a8\"],[0.3333333333333333,\"#9c179e\"],[0.4444444444444444,\"#bd3786\"],[0.5555555555555556,\"#d8576b\"],[0.6666666666666666,\"#ed7953\"],[0.7777777777777778,\"#fb9f3a\"],[0.8888888888888888,\"#fdca26\"],[1.0,\"#f0f921\"]]}],\"heatmap\":[{\"type\":\"heatmap\",\"colorbar\":{\"outlinewidth\":0,\"ticks\":\"\"},\"colorscale\":[[0.0,\"#0d0887\"],[0.1111111111111111,\"#46039f\"],[0.2222222222222222,\"#7201a8\"],[0.3333333333333333,\"#9c179e\"],[0.4444444444444444,\"#bd3786\"],[0.5555555555555556,\"#d8576b\"],[0.6666666666666666,\"#ed7953\"],[0.7777777777777778,\"#fb9f3a\"],[0.8888888888888888,\"#fdca26\"],[1.0,\"#f0f921\"]]}],\"heatmapgl\":[{\"type\":\"heatmapgl\",\"colorbar\":{\"outlinewidth\":0,\"ticks\":\"\"},\"colorscale\":[[0.0,\"#0d0887\"],[0.1111111111111111,\"#46039f\"],[0.2222222222222222,\"#7201a8\"],[0.3333333333333333,\"#9c179e\"],[0.4444444444444444,\"#bd3786\"],[0.5555555555555556,\"#d8576b\"],[0.6666666666666666,\"#ed7953\"],[0.7777777777777778,\"#fb9f3a\"],[0.8888888888888888,\"#fdca26\"],[1.0,\"#f0f921\"]]}],\"contourcarpet\":[{\"type\":\"contourcarpet\",\"colorbar\":{\"outlinewidth\":0,\"ticks\":\"\"}}],\"contour\":[{\"type\":\"contour\",\"colorbar\":{\"outlinewidth\":0,\"ticks\":\"\"},\"colorscale\":[[0.0,\"#0d0887\"],[0.1111111111111111,\"#46039f\"],[0.2222222222222222,\"#7201a8\"],[0.3333333333333333,\"#9c179e\"],[0.4444444444444444,\"#bd3786\"],[0.5555555555555556,\"#d8576b\"],[0.6666666666666666,\"#ed7953\"],[0.7777777777777778,\"#fb9f3a\"],[0.8888888888888888,\"#fdca26\"],[1.0,\"#f0f921\"]]}],\"surface\":[{\"type\":\"surface\",\"colorbar\":{\"outlinewidth\":0,\"ticks\":\"\"},\"colorscale\":[[0.0,\"#0d0887\"],[0.1111111111111111,\"#46039f\"],[0.2222222222222222,\"#7201a8\"],[0.3333333333333333,\"#9c179e\"],[0.4444444444444444,\"#bd3786\"],[0.5555555555555556,\"#d8576b\"],[0.6666666666666666,\"#ed7953\"],[0.7777777777777778,\"#fb9f3a\"],[0.8888888888888888,\"#fdca26\"],[1.0,\"#f0f921\"]]}],\"mesh3d\":[{\"type\":\"mesh3d\",\"colorbar\":{\"outlinewidth\":0,\"ticks\":\"\"}}],\"scatter\":[{\"fillpattern\":{\"fillmode\":\"overlay\",\"size\":10,\"solidity\":0.2},\"type\":\"scatter\"}],\"parcoords\":[{\"type\":\"parcoords\",\"line\":{\"colorbar\":{\"outlinewidth\":0,\"ticks\":\"\"}}}],\"scatterpolargl\":[{\"type\":\"scatterpolargl\",\"marker\":{\"colorbar\":{\"outlinewidth\":0,\"ticks\":\"\"}}}],\"bar\":[{\"error_x\":{\"color\":\"#2a3f5f\"},\"error_y\":{\"color\":\"#2a3f5f\"},\"marker\":{\"line\":{\"color\":\"#E5ECF6\",\"width\":0.5},\"pattern\":{\"fillmode\":\"overlay\",\"size\":10,\"solidity\":0.2}},\"type\":\"bar\"}],\"scattergeo\":[{\"type\":\"scattergeo\",\"marker\":{\"colorbar\":{\"outlinewidth\":0,\"ticks\":\"\"}}}],\"scatterpolar\":[{\"type\":\"scatterpolar\",\"marker\":{\"colorbar\":{\"outlinewidth\":0,\"ticks\":\"\"}}}],\"histogram\":[{\"marker\":{\"pattern\":{\"fillmode\":\"overlay\",\"size\":10,\"solidity\":0.2}},\"type\":\"histogram\"}],\"scattergl\":[{\"type\":\"scattergl\",\"marker\":{\"colorbar\":{\"outlinewidth\":0,\"ticks\":\"\"}}}],\"scatter3d\":[{\"type\":\"scatter3d\",\"line\":{\"colorbar\":{\"outlinewidth\":0,\"ticks\":\"\"}},\"marker\":{\"colorbar\":{\"outlinewidth\":0,\"ticks\":\"\"}}}],\"scattermapbox\":[{\"type\":\"scattermapbox\",\"marker\":{\"colorbar\":{\"outlinewidth\":0,\"ticks\":\"\"}}}],\"scatterternary\":[{\"type\":\"scatterternary\",\"marker\":{\"colorbar\":{\"outlinewidth\":0,\"ticks\":\"\"}}}],\"scattercarpet\":[{\"type\":\"scattercarpet\",\"marker\":{\"colorbar\":{\"outlinewidth\":0,\"ticks\":\"\"}}}],\"carpet\":[{\"aaxis\":{\"endlinecolor\":\"#2a3f5f\",\"gridcolor\":\"white\",\"linecolor\":\"white\",\"minorgridcolor\":\"white\",\"startlinecolor\":\"#2a3f5f\"},\"baxis\":{\"endlinecolor\":\"#2a3f5f\",\"gridcolor\":\"white\",\"linecolor\":\"white\",\"minorgridcolor\":\"white\",\"startlinecolor\":\"#2a3f5f\"},\"type\":\"carpet\"}],\"table\":[{\"cells\":{\"fill\":{\"color\":\"#EBF0F8\"},\"line\":{\"color\":\"white\"}},\"header\":{\"fill\":{\"color\":\"#C8D4E3\"},\"line\":{\"color\":\"white\"}},\"type\":\"table\"}],\"barpolar\":[{\"marker\":{\"line\":{\"color\":\"#E5ECF6\",\"width\":0.5},\"pattern\":{\"fillmode\":\"overlay\",\"size\":10,\"solidity\":0.2}},\"type\":\"barpolar\"}],\"pie\":[{\"automargin\":true,\"type\":\"pie\"}]},\"layout\":{\"autotypenumbers\":\"strict\",\"colorway\":[\"#636efa\",\"#EF553B\",\"#00cc96\",\"#ab63fa\",\"#FFA15A\",\"#19d3f3\",\"#FF6692\",\"#B6E880\",\"#FF97FF\",\"#FECB52\"],\"font\":{\"color\":\"#2a3f5f\"},\"hovermode\":\"closest\",\"hoverlabel\":{\"align\":\"left\"},\"paper_bgcolor\":\"white\",\"plot_bgcolor\":\"#E5ECF6\",\"polar\":{\"bgcolor\":\"#E5ECF6\",\"angularaxis\":{\"gridcolor\":\"white\",\"linecolor\":\"white\",\"ticks\":\"\"},\"radialaxis\":{\"gridcolor\":\"white\",\"linecolor\":\"white\",\"ticks\":\"\"}},\"ternary\":{\"bgcolor\":\"#E5ECF6\",\"aaxis\":{\"gridcolor\":\"white\",\"linecolor\":\"white\",\"ticks\":\"\"},\"baxis\":{\"gridcolor\":\"white\",\"linecolor\":\"white\",\"ticks\":\"\"},\"caxis\":{\"gridcolor\":\"white\",\"linecolor\":\"white\",\"ticks\":\"\"}},\"coloraxis\":{\"colorbar\":{\"outlinewidth\":0,\"ticks\":\"\"}},\"colorscale\":{\"sequential\":[[0.0,\"#0d0887\"],[0.1111111111111111,\"#46039f\"],[0.2222222222222222,\"#7201a8\"],[0.3333333333333333,\"#9c179e\"],[0.4444444444444444,\"#bd3786\"],[0.5555555555555556,\"#d8576b\"],[0.6666666666666666,\"#ed7953\"],[0.7777777777777778,\"#fb9f3a\"],[0.8888888888888888,\"#fdca26\"],[1.0,\"#f0f921\"]],\"sequentialminus\":[[0.0,\"#0d0887\"],[0.1111111111111111,\"#46039f\"],[0.2222222222222222,\"#7201a8\"],[0.3333333333333333,\"#9c179e\"],[0.4444444444444444,\"#bd3786\"],[0.5555555555555556,\"#d8576b\"],[0.6666666666666666,\"#ed7953\"],[0.7777777777777778,\"#fb9f3a\"],[0.8888888888888888,\"#fdca26\"],[1.0,\"#f0f921\"]],\"diverging\":[[0,\"#8e0152\"],[0.1,\"#c51b7d\"],[0.2,\"#de77ae\"],[0.3,\"#f1b6da\"],[0.4,\"#fde0ef\"],[0.5,\"#f7f7f7\"],[0.6,\"#e6f5d0\"],[0.7,\"#b8e186\"],[0.8,\"#7fbc41\"],[0.9,\"#4d9221\"],[1,\"#276419\"]]},\"xaxis\":{\"gridcolor\":\"white\",\"linecolor\":\"white\",\"ticks\":\"\",\"title\":{\"standoff\":15},\"zerolinecolor\":\"white\",\"automargin\":true,\"zerolinewidth\":2},\"yaxis\":{\"gridcolor\":\"white\",\"linecolor\":\"white\",\"ticks\":\"\",\"title\":{\"standoff\":15},\"zerolinecolor\":\"white\",\"automargin\":true,\"zerolinewidth\":2},\"scene\":{\"xaxis\":{\"backgroundcolor\":\"#E5ECF6\",\"gridcolor\":\"white\",\"linecolor\":\"white\",\"showbackground\":true,\"ticks\":\"\",\"zerolinecolor\":\"white\",\"gridwidth\":2},\"yaxis\":{\"backgroundcolor\":\"#E5ECF6\",\"gridcolor\":\"white\",\"linecolor\":\"white\",\"showbackground\":true,\"ticks\":\"\",\"zerolinecolor\":\"white\",\"gridwidth\":2},\"zaxis\":{\"backgroundcolor\":\"#E5ECF6\",\"gridcolor\":\"white\",\"linecolor\":\"white\",\"showbackground\":true,\"ticks\":\"\",\"zerolinecolor\":\"white\",\"gridwidth\":2}},\"shapedefaults\":{\"line\":{\"color\":\"#2a3f5f\"}},\"annotationdefaults\":{\"arrowcolor\":\"#2a3f5f\",\"arrowhead\":0,\"arrowwidth\":1},\"geo\":{\"bgcolor\":\"white\",\"landcolor\":\"#E5ECF6\",\"subunitcolor\":\"white\",\"showland\":true,\"showlakes\":true,\"lakecolor\":\"white\"},\"title\":{\"x\":0.05},\"mapbox\":{\"style\":\"light\"}}},\"xaxis\":{\"anchor\":\"y\",\"domain\":[0.0,1.0],\"title\":{\"text\":\"Region\"}},\"yaxis\":{\"anchor\":\"x\",\"domain\":[0.0,1.0],\"title\":{\"text\":\"Economy (GDP per Capita)\"}},\"coloraxis\":{\"colorbar\":{\"title\":{\"text\":\"Happiness Score\"}},\"colorscale\":[[0.0,\"#0d0887\"],[0.1111111111111111,\"#46039f\"],[0.2222222222222222,\"#7201a8\"],[0.3333333333333333,\"#9c179e\"],[0.4444444444444444,\"#bd3786\"],[0.5555555555555556,\"#d8576b\"],[0.6666666666666666,\"#ed7953\"],[0.7777777777777778,\"#fb9f3a\"],[0.8888888888888888,\"#fdca26\"],[1.0,\"#f0f921\"]]},\"legend\":{\"tracegroupgap\":0},\"margin\":{\"t\":60}},                        {\"responsive\": true}                    ).then(function(){\n",
       "                            \n",
       "var gd = document.getElementById('bc0b11fb-9b1b-4da4-9a0b-24620bdfd0ba');\n",
       "var x = new MutationObserver(function (mutations, observer) {{\n",
       "        var display = window.getComputedStyle(gd).display;\n",
       "        if (!display || display === 'none') {{\n",
       "            console.log([gd, 'removed!']);\n",
       "            Plotly.purge(gd);\n",
       "            observer.disconnect();\n",
       "        }}\n",
       "}});\n",
       "\n",
       "// Listen for the removal of the full notebook cells\n",
       "var notebookContainer = gd.closest('#notebook-container');\n",
       "if (notebookContainer) {{\n",
       "    x.observe(notebookContainer, {childList: true});\n",
       "}}\n",
       "\n",
       "// Listen for the clearing of the current output cell\n",
       "var outputEl = gd.closest('.output');\n",
       "if (outputEl) {{\n",
       "    x.observe(outputEl, {childList: true});\n",
       "}}\n",
       "\n",
       "                        })                };                });            </script>        </div>"
      ]
     },
     "metadata": {},
     "output_type": "display_data"
    },
    {
     "data": {
      "text/plain": [
       "<Figure size 1080x504 with 0 Axes>"
      ]
     },
     "metadata": {},
     "output_type": "display_data"
    }
   ],
   "source": [
    "import plotly.express as px\n",
    "plt.figure(figsize=(15,7))\n",
    "GDP = px.scatter(df,x= 'Region', y = 'Economy (GDP per Capita)',color = 'Happiness Score')\n",
    "GDP.show()"
   ]
  },
  {
   "cell_type": "code",
   "execution_count": 139,
   "id": "0985591f",
   "metadata": {},
   "outputs": [
    {
     "data": {
      "application/vnd.plotly.v1+json": {
       "config": {
        "plotlyServerURL": "https://plot.ly"
       },
       "data": [
        {
         "hovertemplate": "Region=%{x}<br>Health (Life Expectancy)=%{y}<br>Happiness Score=%{marker.color}<extra></extra>",
         "legendgroup": "",
         "marker": {
          "color": [
           7.587,
           7.561,
           7.527,
           7.522,
           7.427,
           7.406,
           7.378,
           7.364,
           7.286,
           7.284,
           7.278,
           7.226,
           7.2,
           7.187,
           7.119,
           6.983,
           6.946,
           6.94,
           6.937,
           6.901,
           6.867,
           6.853,
           6.81,
           6.798,
           6.786,
           6.75,
           6.67,
           6.611,
           6.575,
           6.574,
           6.505,
           6.485,
           6.477,
           6.455,
           6.411,
           6.329,
           6.302,
           6.298,
           6.295,
           6.269,
           6.168,
           6.13,
           6.123,
           6.003,
           5.995,
           5.987,
           5.984,
           5.975,
           5.96,
           5.948,
           5.89,
           5.889,
           5.878,
           5.855,
           5.848,
           5.833,
           5.828,
           5.824,
           5.813,
           5.791,
           5.77,
           5.759,
           5.754,
           5.716,
           5.709,
           5.695,
           5.689,
           5.605,
           5.589,
           5.548,
           5.477,
           5.474,
           5.429,
           5.399,
           5.36,
           5.332,
           5.286,
           5.268,
           5.253,
           5.212,
           5.194,
           5.192,
           5.192,
           5.14,
           5.129,
           5.124,
           5.123,
           5.102,
           5.098,
           5.073,
           5.057,
           5.013,
           5.007,
           4.971,
           4.959,
           4.949,
           4.898,
           4.885,
           4.876,
           4.874,
           4.867,
           4.857,
           4.839,
           4.8,
           4.788,
           4.786,
           4.739,
           4.715,
           4.694,
           4.686,
           4.681,
           4.677,
           4.642,
           4.633,
           4.61,
           4.571,
           4.565,
           4.55,
           4.518,
           4.517,
           4.514,
           4.512,
           4.507,
           4.436,
           4.419,
           4.369,
           4.35,
           4.332,
           4.307,
           4.297,
           4.292,
           4.271,
           4.252,
           4.218,
           4.194,
           4.077,
           4.033,
           3.995,
           3.989,
           3.956,
           3.931,
           3.904,
           3.896,
           3.845,
           3.819,
           3.781,
           3.681,
           3.678,
           3.667,
           3.656,
           3.655,
           3.587,
           3.575,
           3.465,
           3.34,
           3.006,
           2.905,
           2.839
          ],
          "coloraxis": "coloraxis",
          "symbol": "circle"
         },
         "mode": "markers",
         "name": "",
         "orientation": "v",
         "showlegend": false,
         "type": "scatter",
         "x": [
          "Western Europe",
          "Western Europe",
          "Western Europe",
          "Western Europe",
          "North America",
          "Western Europe",
          "Western Europe",
          "Western Europe",
          "Australia and New Zealand",
          "Australia and New Zealand",
          "Middle East and Northern Africa",
          "Latin America and Caribbean",
          "Western Europe",
          "Latin America and Caribbean",
          "North America",
          "Latin America and Caribbean",
          "Western Europe",
          "Western Europe",
          "Western Europe",
          "Middle East and Northern Africa",
          "Western Europe",
          "Middle East and Northern Africa",
          "Latin America and Caribbean",
          "Southeastern Asia",
          "Latin America and Caribbean",
          "Western Europe",
          "Latin America and Caribbean",
          "Middle East and Northern Africa",
          "Western Europe",
          "Latin America and Caribbean",
          "Central and Eastern Europe",
          "Latin America and Caribbean",
          "Latin America and Caribbean",
          "Southeastern Asia",
          "Middle East and Northern Africa",
          "Western Europe",
          "Western Europe",
          "Eastern Asia",
          "Middle East and Northern Africa",
          "Latin America and Caribbean",
          "Latin America and Caribbean",
          "Latin America and Caribbean",
          "Latin America and Caribbean",
          "Central and Eastern Europe",
          "Central and Eastern Europe",
          "Eastern Asia",
          "Eastern Asia",
          "Latin America and Caribbean",
          "Middle East and Northern Africa",
          "Western Europe",
          "Latin America and Caribbean",
          "Central and Eastern Europe",
          "Latin America and Caribbean",
          "Central and Eastern Europe",
          "Central and Eastern Europe",
          "Central and Eastern Europe",
          "Latin America and Caribbean",
          "Latin America and Caribbean",
          "Central and Eastern Europe",
          "Central and Eastern Europe",
          "Southeastern Asia",
          "Central and Eastern Europe",
          "Middle East and Northern Africa",
          "Central and Eastern Europe",
          "Latin America and Caribbean",
          "Western Europe",
          "Western Europe",
          "Middle East and Northern Africa",
          "Central and Eastern Europe",
          "Central and Eastern Europe",
          "Sub-Saharan Africa",
          "Eastern Asia",
          "Central and Eastern Europe",
          "Southeastern Asia",
          "Southeastern Asia",
          "Middle East and Northern Africa",
          "Central and Eastern Europe",
          "Sub-Saharan Africa",
          "Southern Asia",
          "Central and Eastern Europe",
          "Southern Asia",
          "Middle East and Northern Africa",
          "Central and Eastern Europe",
          "Eastern Asia",
          "Sub-Saharan Africa",
          "Central and Eastern Europe",
          "Central and Eastern Europe",
          "Western Europe",
          "Central and Eastern Europe",
          "Southeastern Asia",
          "Sub-Saharan Africa",
          "Middle East and Northern Africa",
          "Central and Eastern Europe",
          "Sub-Saharan Africa",
          "Central and Eastern Europe",
          "Central and Eastern Europe",
          "Sub-Saharan Africa",
          "Latin America and Caribbean",
          "Southeastern Asia",
          "Eastern Asia",
          "Sub-Saharan Africa",
          "Western Europe",
          "Middle East and Northern Africa",
          "Central and Eastern Europe",
          "Latin America and Caribbean",
          "Central and Eastern Europe",
          "Middle East and Northern Africa",
          "Middle East and Northern Africa",
          "Southern Asia",
          "Middle East and Northern Africa",
          "Central and Eastern Europe",
          "Middle East and Northern Africa",
          "Sub-Saharan Africa",
          "Sub-Saharan Africa",
          "Sub-Saharan Africa",
          "Sub-Saharan Africa",
          "Southern Asia",
          "Sub-Saharan Africa",
          "Latin America and Caribbean",
          "Sub-Saharan Africa",
          "Southern Asia",
          "Sub-Saharan Africa",
          "Sub-Saharan Africa",
          "Sub-Saharan Africa",
          "Sub-Saharan Africa",
          "Sub-Saharan Africa",
          "Central and Eastern Europe",
          "Sub-Saharan Africa",
          "Southeastern Asia",
          "Central and Eastern Europe",
          "Sub-Saharan Africa",
          "Southern Asia",
          "Sub-Saharan Africa",
          "Central and Eastern Europe",
          "Middle East and Northern Africa",
          "Middle East and Northern Africa",
          "Sub-Saharan Africa",
          "Sub-Saharan Africa",
          "Sub-Saharan Africa",
          "Sub-Saharan Africa",
          "Sub-Saharan Africa",
          "Sub-Saharan Africa",
          "Sub-Saharan Africa",
          "Sub-Saharan Africa",
          "Southeastern Asia",
          "Sub-Saharan Africa",
          "Sub-Saharan Africa",
          "Sub-Saharan Africa",
          "Sub-Saharan Africa",
          "Sub-Saharan Africa",
          "Sub-Saharan Africa",
          "Sub-Saharan Africa",
          "Southern Asia",
          "Sub-Saharan Africa",
          "Sub-Saharan Africa",
          "Middle East and Northern Africa",
          "Sub-Saharan Africa",
          "Sub-Saharan Africa"
         ],
         "xaxis": "x",
         "y": [
          0.94143,
          0.94784,
          0.87464,
          0.88521,
          0.90563,
          0.88911,
          0.89284,
          0.91087,
          0.90837,
          0.93156,
          0.91387,
          0.86027,
          0.89042,
          0.81444,
          0.86179,
          0.69702,
          0.91894,
          0.89533,
          0.89667,
          0.80925,
          0.90943,
          0.76276,
          0.72052,
          1.02525,
          0.79661,
          0.89186,
          0.85857,
          0.79733,
          0.94579,
          0.78723,
          0.84483,
          0.8116,
          0.69077,
          0.7385,
          0.72025,
          0.95562,
          0.88721,
          0.8753,
          0.72492,
          0.6082,
          0.61483,
          0.67737,
          0.64425,
          0.59772,
          0.78902,
          0.99111,
          0.96538,
          0.79075,
          0.74716,
          0.95446,
          0.5392,
          0.61826,
          0.66098,
          0.64368,
          0.87337,
          0.73128,
          0.74314,
          0.73017,
          0.73608,
          0.77903,
          0.72394,
          0.78805,
          0.7038,
          0.66926,
          0.68741,
          0.92356,
          0.92356,
          0.61766,
          0.63132,
          0.53886,
          0.7095,
          1.01328,
          0.77361,
          0.63793,
          0.74676,
          0.73172,
          0.65088,
          0.16007,
          0.57407,
          0.64045,
          0.51466,
          0.69639,
          0.72521,
          0.81658,
          0.29924,
          0.7689,
          0.74836,
          0.87519,
          0.72437,
          0.58114,
          0.43873,
          0.60954,
          0.73545,
          0.09131,
          0.81325,
          0.79081,
          0.07612,
          0.66825,
          0.54909,
          0.60268,
          0.07566,
          0.88213,
          0.83947,
          0.75905,
          0.6951,
          0.57379,
          0.73793,
          0.66015,
          0.60164,
          0.69805,
          0.6739,
          0.60237,
          0.27688,
          0.40132,
          0.33475,
          0.34201,
          0.51529,
          0.36878,
          0.38847,
          0.09806,
          0.56874,
          0.44055,
          0,
          0.35874,
          0.41435,
          0.36291,
          0.7299,
          0.04776,
          0.48246,
          0.72926,
          0.22562,
          0.70806,
          0.23402,
          0.76649,
          0.61712,
          0.40064,
          0.16683,
          0.20583,
          0.31051,
          0.36315,
          0.33861,
          0.4354,
          0.43372,
          0.29707,
          0.61114,
          0.38215,
          0.46721,
          0.06699,
          0.1501,
          0.24009,
          0.15185,
          0.27125,
          0.30335,
          0.42864,
          0.3191,
          0.72193,
          0.22396,
          0.28443
         ],
         "yaxis": "y"
        }
       ],
       "layout": {
        "coloraxis": {
         "colorbar": {
          "title": {
           "text": "Happiness Score"
          }
         },
         "colorscale": [
          [
           0,
           "#0d0887"
          ],
          [
           0.1111111111111111,
           "#46039f"
          ],
          [
           0.2222222222222222,
           "#7201a8"
          ],
          [
           0.3333333333333333,
           "#9c179e"
          ],
          [
           0.4444444444444444,
           "#bd3786"
          ],
          [
           0.5555555555555556,
           "#d8576b"
          ],
          [
           0.6666666666666666,
           "#ed7953"
          ],
          [
           0.7777777777777778,
           "#fb9f3a"
          ],
          [
           0.8888888888888888,
           "#fdca26"
          ],
          [
           1,
           "#f0f921"
          ]
         ]
        },
        "legend": {
         "tracegroupgap": 0
        },
        "margin": {
         "t": 60
        },
        "template": {
         "data": {
          "bar": [
           {
            "error_x": {
             "color": "#2a3f5f"
            },
            "error_y": {
             "color": "#2a3f5f"
            },
            "marker": {
             "line": {
              "color": "#E5ECF6",
              "width": 0.5
             },
             "pattern": {
              "fillmode": "overlay",
              "size": 10,
              "solidity": 0.2
             }
            },
            "type": "bar"
           }
          ],
          "barpolar": [
           {
            "marker": {
             "line": {
              "color": "#E5ECF6",
              "width": 0.5
             },
             "pattern": {
              "fillmode": "overlay",
              "size": 10,
              "solidity": 0.2
             }
            },
            "type": "barpolar"
           }
          ],
          "carpet": [
           {
            "aaxis": {
             "endlinecolor": "#2a3f5f",
             "gridcolor": "white",
             "linecolor": "white",
             "minorgridcolor": "white",
             "startlinecolor": "#2a3f5f"
            },
            "baxis": {
             "endlinecolor": "#2a3f5f",
             "gridcolor": "white",
             "linecolor": "white",
             "minorgridcolor": "white",
             "startlinecolor": "#2a3f5f"
            },
            "type": "carpet"
           }
          ],
          "choropleth": [
           {
            "colorbar": {
             "outlinewidth": 0,
             "ticks": ""
            },
            "type": "choropleth"
           }
          ],
          "contour": [
           {
            "colorbar": {
             "outlinewidth": 0,
             "ticks": ""
            },
            "colorscale": [
             [
              0,
              "#0d0887"
             ],
             [
              0.1111111111111111,
              "#46039f"
             ],
             [
              0.2222222222222222,
              "#7201a8"
             ],
             [
              0.3333333333333333,
              "#9c179e"
             ],
             [
              0.4444444444444444,
              "#bd3786"
             ],
             [
              0.5555555555555556,
              "#d8576b"
             ],
             [
              0.6666666666666666,
              "#ed7953"
             ],
             [
              0.7777777777777778,
              "#fb9f3a"
             ],
             [
              0.8888888888888888,
              "#fdca26"
             ],
             [
              1,
              "#f0f921"
             ]
            ],
            "type": "contour"
           }
          ],
          "contourcarpet": [
           {
            "colorbar": {
             "outlinewidth": 0,
             "ticks": ""
            },
            "type": "contourcarpet"
           }
          ],
          "heatmap": [
           {
            "colorbar": {
             "outlinewidth": 0,
             "ticks": ""
            },
            "colorscale": [
             [
              0,
              "#0d0887"
             ],
             [
              0.1111111111111111,
              "#46039f"
             ],
             [
              0.2222222222222222,
              "#7201a8"
             ],
             [
              0.3333333333333333,
              "#9c179e"
             ],
             [
              0.4444444444444444,
              "#bd3786"
             ],
             [
              0.5555555555555556,
              "#d8576b"
             ],
             [
              0.6666666666666666,
              "#ed7953"
             ],
             [
              0.7777777777777778,
              "#fb9f3a"
             ],
             [
              0.8888888888888888,
              "#fdca26"
             ],
             [
              1,
              "#f0f921"
             ]
            ],
            "type": "heatmap"
           }
          ],
          "heatmapgl": [
           {
            "colorbar": {
             "outlinewidth": 0,
             "ticks": ""
            },
            "colorscale": [
             [
              0,
              "#0d0887"
             ],
             [
              0.1111111111111111,
              "#46039f"
             ],
             [
              0.2222222222222222,
              "#7201a8"
             ],
             [
              0.3333333333333333,
              "#9c179e"
             ],
             [
              0.4444444444444444,
              "#bd3786"
             ],
             [
              0.5555555555555556,
              "#d8576b"
             ],
             [
              0.6666666666666666,
              "#ed7953"
             ],
             [
              0.7777777777777778,
              "#fb9f3a"
             ],
             [
              0.8888888888888888,
              "#fdca26"
             ],
             [
              1,
              "#f0f921"
             ]
            ],
            "type": "heatmapgl"
           }
          ],
          "histogram": [
           {
            "marker": {
             "pattern": {
              "fillmode": "overlay",
              "size": 10,
              "solidity": 0.2
             }
            },
            "type": "histogram"
           }
          ],
          "histogram2d": [
           {
            "colorbar": {
             "outlinewidth": 0,
             "ticks": ""
            },
            "colorscale": [
             [
              0,
              "#0d0887"
             ],
             [
              0.1111111111111111,
              "#46039f"
             ],
             [
              0.2222222222222222,
              "#7201a8"
             ],
             [
              0.3333333333333333,
              "#9c179e"
             ],
             [
              0.4444444444444444,
              "#bd3786"
             ],
             [
              0.5555555555555556,
              "#d8576b"
             ],
             [
              0.6666666666666666,
              "#ed7953"
             ],
             [
              0.7777777777777778,
              "#fb9f3a"
             ],
             [
              0.8888888888888888,
              "#fdca26"
             ],
             [
              1,
              "#f0f921"
             ]
            ],
            "type": "histogram2d"
           }
          ],
          "histogram2dcontour": [
           {
            "colorbar": {
             "outlinewidth": 0,
             "ticks": ""
            },
            "colorscale": [
             [
              0,
              "#0d0887"
             ],
             [
              0.1111111111111111,
              "#46039f"
             ],
             [
              0.2222222222222222,
              "#7201a8"
             ],
             [
              0.3333333333333333,
              "#9c179e"
             ],
             [
              0.4444444444444444,
              "#bd3786"
             ],
             [
              0.5555555555555556,
              "#d8576b"
             ],
             [
              0.6666666666666666,
              "#ed7953"
             ],
             [
              0.7777777777777778,
              "#fb9f3a"
             ],
             [
              0.8888888888888888,
              "#fdca26"
             ],
             [
              1,
              "#f0f921"
             ]
            ],
            "type": "histogram2dcontour"
           }
          ],
          "mesh3d": [
           {
            "colorbar": {
             "outlinewidth": 0,
             "ticks": ""
            },
            "type": "mesh3d"
           }
          ],
          "parcoords": [
           {
            "line": {
             "colorbar": {
              "outlinewidth": 0,
              "ticks": ""
             }
            },
            "type": "parcoords"
           }
          ],
          "pie": [
           {
            "automargin": true,
            "type": "pie"
           }
          ],
          "scatter": [
           {
            "fillpattern": {
             "fillmode": "overlay",
             "size": 10,
             "solidity": 0.2
            },
            "type": "scatter"
           }
          ],
          "scatter3d": [
           {
            "line": {
             "colorbar": {
              "outlinewidth": 0,
              "ticks": ""
             }
            },
            "marker": {
             "colorbar": {
              "outlinewidth": 0,
              "ticks": ""
             }
            },
            "type": "scatter3d"
           }
          ],
          "scattercarpet": [
           {
            "marker": {
             "colorbar": {
              "outlinewidth": 0,
              "ticks": ""
             }
            },
            "type": "scattercarpet"
           }
          ],
          "scattergeo": [
           {
            "marker": {
             "colorbar": {
              "outlinewidth": 0,
              "ticks": ""
             }
            },
            "type": "scattergeo"
           }
          ],
          "scattergl": [
           {
            "marker": {
             "colorbar": {
              "outlinewidth": 0,
              "ticks": ""
             }
            },
            "type": "scattergl"
           }
          ],
          "scattermapbox": [
           {
            "marker": {
             "colorbar": {
              "outlinewidth": 0,
              "ticks": ""
             }
            },
            "type": "scattermapbox"
           }
          ],
          "scatterpolar": [
           {
            "marker": {
             "colorbar": {
              "outlinewidth": 0,
              "ticks": ""
             }
            },
            "type": "scatterpolar"
           }
          ],
          "scatterpolargl": [
           {
            "marker": {
             "colorbar": {
              "outlinewidth": 0,
              "ticks": ""
             }
            },
            "type": "scatterpolargl"
           }
          ],
          "scatterternary": [
           {
            "marker": {
             "colorbar": {
              "outlinewidth": 0,
              "ticks": ""
             }
            },
            "type": "scatterternary"
           }
          ],
          "surface": [
           {
            "colorbar": {
             "outlinewidth": 0,
             "ticks": ""
            },
            "colorscale": [
             [
              0,
              "#0d0887"
             ],
             [
              0.1111111111111111,
              "#46039f"
             ],
             [
              0.2222222222222222,
              "#7201a8"
             ],
             [
              0.3333333333333333,
              "#9c179e"
             ],
             [
              0.4444444444444444,
              "#bd3786"
             ],
             [
              0.5555555555555556,
              "#d8576b"
             ],
             [
              0.6666666666666666,
              "#ed7953"
             ],
             [
              0.7777777777777778,
              "#fb9f3a"
             ],
             [
              0.8888888888888888,
              "#fdca26"
             ],
             [
              1,
              "#f0f921"
             ]
            ],
            "type": "surface"
           }
          ],
          "table": [
           {
            "cells": {
             "fill": {
              "color": "#EBF0F8"
             },
             "line": {
              "color": "white"
             }
            },
            "header": {
             "fill": {
              "color": "#C8D4E3"
             },
             "line": {
              "color": "white"
             }
            },
            "type": "table"
           }
          ]
         },
         "layout": {
          "annotationdefaults": {
           "arrowcolor": "#2a3f5f",
           "arrowhead": 0,
           "arrowwidth": 1
          },
          "autotypenumbers": "strict",
          "coloraxis": {
           "colorbar": {
            "outlinewidth": 0,
            "ticks": ""
           }
          },
          "colorscale": {
           "diverging": [
            [
             0,
             "#8e0152"
            ],
            [
             0.1,
             "#c51b7d"
            ],
            [
             0.2,
             "#de77ae"
            ],
            [
             0.3,
             "#f1b6da"
            ],
            [
             0.4,
             "#fde0ef"
            ],
            [
             0.5,
             "#f7f7f7"
            ],
            [
             0.6,
             "#e6f5d0"
            ],
            [
             0.7,
             "#b8e186"
            ],
            [
             0.8,
             "#7fbc41"
            ],
            [
             0.9,
             "#4d9221"
            ],
            [
             1,
             "#276419"
            ]
           ],
           "sequential": [
            [
             0,
             "#0d0887"
            ],
            [
             0.1111111111111111,
             "#46039f"
            ],
            [
             0.2222222222222222,
             "#7201a8"
            ],
            [
             0.3333333333333333,
             "#9c179e"
            ],
            [
             0.4444444444444444,
             "#bd3786"
            ],
            [
             0.5555555555555556,
             "#d8576b"
            ],
            [
             0.6666666666666666,
             "#ed7953"
            ],
            [
             0.7777777777777778,
             "#fb9f3a"
            ],
            [
             0.8888888888888888,
             "#fdca26"
            ],
            [
             1,
             "#f0f921"
            ]
           ],
           "sequentialminus": [
            [
             0,
             "#0d0887"
            ],
            [
             0.1111111111111111,
             "#46039f"
            ],
            [
             0.2222222222222222,
             "#7201a8"
            ],
            [
             0.3333333333333333,
             "#9c179e"
            ],
            [
             0.4444444444444444,
             "#bd3786"
            ],
            [
             0.5555555555555556,
             "#d8576b"
            ],
            [
             0.6666666666666666,
             "#ed7953"
            ],
            [
             0.7777777777777778,
             "#fb9f3a"
            ],
            [
             0.8888888888888888,
             "#fdca26"
            ],
            [
             1,
             "#f0f921"
            ]
           ]
          },
          "colorway": [
           "#636efa",
           "#EF553B",
           "#00cc96",
           "#ab63fa",
           "#FFA15A",
           "#19d3f3",
           "#FF6692",
           "#B6E880",
           "#FF97FF",
           "#FECB52"
          ],
          "font": {
           "color": "#2a3f5f"
          },
          "geo": {
           "bgcolor": "white",
           "lakecolor": "white",
           "landcolor": "#E5ECF6",
           "showlakes": true,
           "showland": true,
           "subunitcolor": "white"
          },
          "hoverlabel": {
           "align": "left"
          },
          "hovermode": "closest",
          "mapbox": {
           "style": "light"
          },
          "paper_bgcolor": "white",
          "plot_bgcolor": "#E5ECF6",
          "polar": {
           "angularaxis": {
            "gridcolor": "white",
            "linecolor": "white",
            "ticks": ""
           },
           "bgcolor": "#E5ECF6",
           "radialaxis": {
            "gridcolor": "white",
            "linecolor": "white",
            "ticks": ""
           }
          },
          "scene": {
           "xaxis": {
            "backgroundcolor": "#E5ECF6",
            "gridcolor": "white",
            "gridwidth": 2,
            "linecolor": "white",
            "showbackground": true,
            "ticks": "",
            "zerolinecolor": "white"
           },
           "yaxis": {
            "backgroundcolor": "#E5ECF6",
            "gridcolor": "white",
            "gridwidth": 2,
            "linecolor": "white",
            "showbackground": true,
            "ticks": "",
            "zerolinecolor": "white"
           },
           "zaxis": {
            "backgroundcolor": "#E5ECF6",
            "gridcolor": "white",
            "gridwidth": 2,
            "linecolor": "white",
            "showbackground": true,
            "ticks": "",
            "zerolinecolor": "white"
           }
          },
          "shapedefaults": {
           "line": {
            "color": "#2a3f5f"
           }
          },
          "ternary": {
           "aaxis": {
            "gridcolor": "white",
            "linecolor": "white",
            "ticks": ""
           },
           "baxis": {
            "gridcolor": "white",
            "linecolor": "white",
            "ticks": ""
           },
           "bgcolor": "#E5ECF6",
           "caxis": {
            "gridcolor": "white",
            "linecolor": "white",
            "ticks": ""
           }
          },
          "title": {
           "x": 0.05
          },
          "xaxis": {
           "automargin": true,
           "gridcolor": "white",
           "linecolor": "white",
           "ticks": "",
           "title": {
            "standoff": 15
           },
           "zerolinecolor": "white",
           "zerolinewidth": 2
          },
          "yaxis": {
           "automargin": true,
           "gridcolor": "white",
           "linecolor": "white",
           "ticks": "",
           "title": {
            "standoff": 15
           },
           "zerolinecolor": "white",
           "zerolinewidth": 2
          }
         }
        },
        "xaxis": {
         "anchor": "y",
         "domain": [
          0,
          1
         ],
         "title": {
          "text": "Region"
         }
        },
        "yaxis": {
         "anchor": "x",
         "domain": [
          0,
          1
         ],
         "title": {
          "text": "Health (Life Expectancy)"
         }
        }
       }
      },
      "text/html": [
       "<div>                            <div id=\"27b5c719-95e3-4cd0-9267-fe289a8abbf2\" class=\"plotly-graph-div\" style=\"height:525px; width:100%;\"></div>            <script type=\"text/javascript\">                require([\"plotly\"], function(Plotly) {                    window.PLOTLYENV=window.PLOTLYENV || {};                                    if (document.getElementById(\"27b5c719-95e3-4cd0-9267-fe289a8abbf2\")) {                    Plotly.newPlot(                        \"27b5c719-95e3-4cd0-9267-fe289a8abbf2\",                        [{\"hovertemplate\":\"Region=%{x}<br>Health (Life Expectancy)=%{y}<br>Happiness Score=%{marker.color}<extra></extra>\",\"legendgroup\":\"\",\"marker\":{\"color\":[7.587,7.561,7.527,7.522,7.427,7.406,7.378,7.364,7.286,7.284,7.278,7.226,7.2,7.187,7.119,6.983,6.946,6.94,6.937,6.901,6.867,6.853,6.81,6.798,6.786,6.75,6.67,6.611,6.575,6.574,6.505,6.485,6.477,6.455,6.411,6.329,6.302,6.298,6.295,6.269,6.168,6.13,6.123,6.003,5.995,5.987,5.984,5.975,5.96,5.948,5.89,5.889,5.878,5.855,5.848,5.833,5.828,5.824,5.813,5.791,5.77,5.759,5.754,5.716,5.709,5.695,5.689,5.605,5.589,5.548,5.477,5.474,5.429,5.399,5.36,5.332,5.286,5.268,5.253,5.212,5.194,5.192,5.192,5.14,5.129,5.124,5.123,5.102,5.098,5.073,5.057,5.013,5.007,4.971,4.959,4.949,4.898,4.885,4.876,4.874,4.867,4.857,4.839,4.8,4.788,4.786,4.739,4.715,4.694,4.686,4.681,4.677,4.642,4.633,4.61,4.571,4.565,4.55,4.518,4.517,4.514,4.512,4.507,4.436,4.419,4.369,4.35,4.332,4.307,4.297,4.292,4.271,4.252,4.218,4.194,4.077,4.033,3.995,3.989,3.956,3.931,3.904,3.896,3.845,3.819,3.781,3.681,3.678,3.667,3.656,3.655,3.587,3.575,3.465,3.34,3.006,2.905,2.839],\"coloraxis\":\"coloraxis\",\"symbol\":\"circle\"},\"mode\":\"markers\",\"name\":\"\",\"orientation\":\"v\",\"showlegend\":false,\"x\":[\"Western Europe\",\"Western Europe\",\"Western Europe\",\"Western Europe\",\"North America\",\"Western Europe\",\"Western Europe\",\"Western Europe\",\"Australia and New Zealand\",\"Australia and New Zealand\",\"Middle East and Northern Africa\",\"Latin America and Caribbean\",\"Western Europe\",\"Latin America and Caribbean\",\"North America\",\"Latin America and Caribbean\",\"Western Europe\",\"Western Europe\",\"Western Europe\",\"Middle East and Northern Africa\",\"Western Europe\",\"Middle East and Northern Africa\",\"Latin America and Caribbean\",\"Southeastern Asia\",\"Latin America and Caribbean\",\"Western Europe\",\"Latin America and Caribbean\",\"Middle East and Northern Africa\",\"Western Europe\",\"Latin America and Caribbean\",\"Central and Eastern Europe\",\"Latin America and Caribbean\",\"Latin America and Caribbean\",\"Southeastern Asia\",\"Middle East and Northern Africa\",\"Western Europe\",\"Western Europe\",\"Eastern Asia\",\"Middle East and Northern Africa\",\"Latin America and Caribbean\",\"Latin America and Caribbean\",\"Latin America and Caribbean\",\"Latin America and Caribbean\",\"Central and Eastern Europe\",\"Central and Eastern Europe\",\"Eastern Asia\",\"Eastern Asia\",\"Latin America and Caribbean\",\"Middle East and Northern Africa\",\"Western Europe\",\"Latin America and Caribbean\",\"Central and Eastern Europe\",\"Latin America and Caribbean\",\"Central and Eastern Europe\",\"Central and Eastern Europe\",\"Central and Eastern Europe\",\"Latin America and Caribbean\",\"Latin America and Caribbean\",\"Central and Eastern Europe\",\"Central and Eastern Europe\",\"Southeastern Asia\",\"Central and Eastern Europe\",\"Middle East and Northern Africa\",\"Central and Eastern Europe\",\"Latin America and Caribbean\",\"Western Europe\",\"Western Europe\",\"Middle East and Northern Africa\",\"Central and Eastern Europe\",\"Central and Eastern Europe\",\"Sub-Saharan Africa\",\"Eastern Asia\",\"Central and Eastern Europe\",\"Southeastern Asia\",\"Southeastern Asia\",\"Middle East and Northern Africa\",\"Central and Eastern Europe\",\"Sub-Saharan Africa\",\"Southern Asia\",\"Central and Eastern Europe\",\"Southern Asia\",\"Middle East and Northern Africa\",\"Central and Eastern Europe\",\"Eastern Asia\",\"Sub-Saharan Africa\",\"Central and Eastern Europe\",\"Central and Eastern Europe\",\"Western Europe\",\"Central and Eastern Europe\",\"Southeastern Asia\",\"Sub-Saharan Africa\",\"Middle East and Northern Africa\",\"Central and Eastern Europe\",\"Sub-Saharan Africa\",\"Central and Eastern Europe\",\"Central and Eastern Europe\",\"Sub-Saharan Africa\",\"Latin America and Caribbean\",\"Southeastern Asia\",\"Eastern Asia\",\"Sub-Saharan Africa\",\"Western Europe\",\"Middle East and Northern Africa\",\"Central and Eastern Europe\",\"Latin America and Caribbean\",\"Central and Eastern Europe\",\"Middle East and Northern Africa\",\"Middle East and Northern Africa\",\"Southern Asia\",\"Middle East and Northern Africa\",\"Central and Eastern Europe\",\"Middle East and Northern Africa\",\"Sub-Saharan Africa\",\"Sub-Saharan Africa\",\"Sub-Saharan Africa\",\"Sub-Saharan Africa\",\"Southern Asia\",\"Sub-Saharan Africa\",\"Latin America and Caribbean\",\"Sub-Saharan Africa\",\"Southern Asia\",\"Sub-Saharan Africa\",\"Sub-Saharan Africa\",\"Sub-Saharan Africa\",\"Sub-Saharan Africa\",\"Sub-Saharan Africa\",\"Central and Eastern Europe\",\"Sub-Saharan Africa\",\"Southeastern Asia\",\"Central and Eastern Europe\",\"Sub-Saharan Africa\",\"Southern Asia\",\"Sub-Saharan Africa\",\"Central and Eastern Europe\",\"Middle East and Northern Africa\",\"Middle East and Northern Africa\",\"Sub-Saharan Africa\",\"Sub-Saharan Africa\",\"Sub-Saharan Africa\",\"Sub-Saharan Africa\",\"Sub-Saharan Africa\",\"Sub-Saharan Africa\",\"Sub-Saharan Africa\",\"Sub-Saharan Africa\",\"Southeastern Asia\",\"Sub-Saharan Africa\",\"Sub-Saharan Africa\",\"Sub-Saharan Africa\",\"Sub-Saharan Africa\",\"Sub-Saharan Africa\",\"Sub-Saharan Africa\",\"Sub-Saharan Africa\",\"Southern Asia\",\"Sub-Saharan Africa\",\"Sub-Saharan Africa\",\"Middle East and Northern Africa\",\"Sub-Saharan Africa\",\"Sub-Saharan Africa\"],\"xaxis\":\"x\",\"y\":[0.94143,0.94784,0.87464,0.88521,0.90563,0.88911,0.89284,0.91087,0.90837,0.93156,0.91387,0.86027,0.89042,0.81444,0.86179,0.69702,0.91894,0.89533,0.89667,0.80925,0.90943,0.76276,0.72052,1.02525,0.79661,0.89186,0.85857,0.79733,0.94579,0.78723,0.84483,0.8116,0.69077,0.7385,0.72025,0.95562,0.88721,0.8753,0.72492,0.6082,0.61483,0.67737,0.64425,0.59772,0.78902,0.99111,0.96538,0.79075,0.74716,0.95446,0.5392,0.61826,0.66098,0.64368,0.87337,0.73128,0.74314,0.73017,0.73608,0.77903,0.72394,0.78805,0.7038,0.66926,0.68741,0.92356,0.92356,0.61766,0.63132,0.53886,0.7095,1.01328,0.77361,0.63793,0.74676,0.73172,0.65088,0.16007,0.57407,0.64045,0.51466,0.69639,0.72521,0.81658,0.29924,0.7689,0.74836,0.87519,0.72437,0.58114,0.43873,0.60954,0.73545,0.09131,0.81325,0.79081,0.07612,0.66825,0.54909,0.60268,0.07566,0.88213,0.83947,0.75905,0.6951,0.57379,0.73793,0.66015,0.60164,0.69805,0.6739,0.60237,0.27688,0.40132,0.33475,0.34201,0.51529,0.36878,0.38847,0.09806,0.56874,0.44055,0.0,0.35874,0.41435,0.36291,0.7299,0.04776,0.48246,0.72926,0.22562,0.70806,0.23402,0.76649,0.61712,0.40064,0.16683,0.20583,0.31051,0.36315,0.33861,0.4354,0.43372,0.29707,0.61114,0.38215,0.46721,0.06699,0.1501,0.24009,0.15185,0.27125,0.30335,0.42864,0.3191,0.72193,0.22396,0.28443],\"yaxis\":\"y\",\"type\":\"scatter\"}],                        {\"template\":{\"data\":{\"histogram2dcontour\":[{\"type\":\"histogram2dcontour\",\"colorbar\":{\"outlinewidth\":0,\"ticks\":\"\"},\"colorscale\":[[0.0,\"#0d0887\"],[0.1111111111111111,\"#46039f\"],[0.2222222222222222,\"#7201a8\"],[0.3333333333333333,\"#9c179e\"],[0.4444444444444444,\"#bd3786\"],[0.5555555555555556,\"#d8576b\"],[0.6666666666666666,\"#ed7953\"],[0.7777777777777778,\"#fb9f3a\"],[0.8888888888888888,\"#fdca26\"],[1.0,\"#f0f921\"]]}],\"choropleth\":[{\"type\":\"choropleth\",\"colorbar\":{\"outlinewidth\":0,\"ticks\":\"\"}}],\"histogram2d\":[{\"type\":\"histogram2d\",\"colorbar\":{\"outlinewidth\":0,\"ticks\":\"\"},\"colorscale\":[[0.0,\"#0d0887\"],[0.1111111111111111,\"#46039f\"],[0.2222222222222222,\"#7201a8\"],[0.3333333333333333,\"#9c179e\"],[0.4444444444444444,\"#bd3786\"],[0.5555555555555556,\"#d8576b\"],[0.6666666666666666,\"#ed7953\"],[0.7777777777777778,\"#fb9f3a\"],[0.8888888888888888,\"#fdca26\"],[1.0,\"#f0f921\"]]}],\"heatmap\":[{\"type\":\"heatmap\",\"colorbar\":{\"outlinewidth\":0,\"ticks\":\"\"},\"colorscale\":[[0.0,\"#0d0887\"],[0.1111111111111111,\"#46039f\"],[0.2222222222222222,\"#7201a8\"],[0.3333333333333333,\"#9c179e\"],[0.4444444444444444,\"#bd3786\"],[0.5555555555555556,\"#d8576b\"],[0.6666666666666666,\"#ed7953\"],[0.7777777777777778,\"#fb9f3a\"],[0.8888888888888888,\"#fdca26\"],[1.0,\"#f0f921\"]]}],\"heatmapgl\":[{\"type\":\"heatmapgl\",\"colorbar\":{\"outlinewidth\":0,\"ticks\":\"\"},\"colorscale\":[[0.0,\"#0d0887\"],[0.1111111111111111,\"#46039f\"],[0.2222222222222222,\"#7201a8\"],[0.3333333333333333,\"#9c179e\"],[0.4444444444444444,\"#bd3786\"],[0.5555555555555556,\"#d8576b\"],[0.6666666666666666,\"#ed7953\"],[0.7777777777777778,\"#fb9f3a\"],[0.8888888888888888,\"#fdca26\"],[1.0,\"#f0f921\"]]}],\"contourcarpet\":[{\"type\":\"contourcarpet\",\"colorbar\":{\"outlinewidth\":0,\"ticks\":\"\"}}],\"contour\":[{\"type\":\"contour\",\"colorbar\":{\"outlinewidth\":0,\"ticks\":\"\"},\"colorscale\":[[0.0,\"#0d0887\"],[0.1111111111111111,\"#46039f\"],[0.2222222222222222,\"#7201a8\"],[0.3333333333333333,\"#9c179e\"],[0.4444444444444444,\"#bd3786\"],[0.5555555555555556,\"#d8576b\"],[0.6666666666666666,\"#ed7953\"],[0.7777777777777778,\"#fb9f3a\"],[0.8888888888888888,\"#fdca26\"],[1.0,\"#f0f921\"]]}],\"surface\":[{\"type\":\"surface\",\"colorbar\":{\"outlinewidth\":0,\"ticks\":\"\"},\"colorscale\":[[0.0,\"#0d0887\"],[0.1111111111111111,\"#46039f\"],[0.2222222222222222,\"#7201a8\"],[0.3333333333333333,\"#9c179e\"],[0.4444444444444444,\"#bd3786\"],[0.5555555555555556,\"#d8576b\"],[0.6666666666666666,\"#ed7953\"],[0.7777777777777778,\"#fb9f3a\"],[0.8888888888888888,\"#fdca26\"],[1.0,\"#f0f921\"]]}],\"mesh3d\":[{\"type\":\"mesh3d\",\"colorbar\":{\"outlinewidth\":0,\"ticks\":\"\"}}],\"scatter\":[{\"fillpattern\":{\"fillmode\":\"overlay\",\"size\":10,\"solidity\":0.2},\"type\":\"scatter\"}],\"parcoords\":[{\"type\":\"parcoords\",\"line\":{\"colorbar\":{\"outlinewidth\":0,\"ticks\":\"\"}}}],\"scatterpolargl\":[{\"type\":\"scatterpolargl\",\"marker\":{\"colorbar\":{\"outlinewidth\":0,\"ticks\":\"\"}}}],\"bar\":[{\"error_x\":{\"color\":\"#2a3f5f\"},\"error_y\":{\"color\":\"#2a3f5f\"},\"marker\":{\"line\":{\"color\":\"#E5ECF6\",\"width\":0.5},\"pattern\":{\"fillmode\":\"overlay\",\"size\":10,\"solidity\":0.2}},\"type\":\"bar\"}],\"scattergeo\":[{\"type\":\"scattergeo\",\"marker\":{\"colorbar\":{\"outlinewidth\":0,\"ticks\":\"\"}}}],\"scatterpolar\":[{\"type\":\"scatterpolar\",\"marker\":{\"colorbar\":{\"outlinewidth\":0,\"ticks\":\"\"}}}],\"histogram\":[{\"marker\":{\"pattern\":{\"fillmode\":\"overlay\",\"size\":10,\"solidity\":0.2}},\"type\":\"histogram\"}],\"scattergl\":[{\"type\":\"scattergl\",\"marker\":{\"colorbar\":{\"outlinewidth\":0,\"ticks\":\"\"}}}],\"scatter3d\":[{\"type\":\"scatter3d\",\"line\":{\"colorbar\":{\"outlinewidth\":0,\"ticks\":\"\"}},\"marker\":{\"colorbar\":{\"outlinewidth\":0,\"ticks\":\"\"}}}],\"scattermapbox\":[{\"type\":\"scattermapbox\",\"marker\":{\"colorbar\":{\"outlinewidth\":0,\"ticks\":\"\"}}}],\"scatterternary\":[{\"type\":\"scatterternary\",\"marker\":{\"colorbar\":{\"outlinewidth\":0,\"ticks\":\"\"}}}],\"scattercarpet\":[{\"type\":\"scattercarpet\",\"marker\":{\"colorbar\":{\"outlinewidth\":0,\"ticks\":\"\"}}}],\"carpet\":[{\"aaxis\":{\"endlinecolor\":\"#2a3f5f\",\"gridcolor\":\"white\",\"linecolor\":\"white\",\"minorgridcolor\":\"white\",\"startlinecolor\":\"#2a3f5f\"},\"baxis\":{\"endlinecolor\":\"#2a3f5f\",\"gridcolor\":\"white\",\"linecolor\":\"white\",\"minorgridcolor\":\"white\",\"startlinecolor\":\"#2a3f5f\"},\"type\":\"carpet\"}],\"table\":[{\"cells\":{\"fill\":{\"color\":\"#EBF0F8\"},\"line\":{\"color\":\"white\"}},\"header\":{\"fill\":{\"color\":\"#C8D4E3\"},\"line\":{\"color\":\"white\"}},\"type\":\"table\"}],\"barpolar\":[{\"marker\":{\"line\":{\"color\":\"#E5ECF6\",\"width\":0.5},\"pattern\":{\"fillmode\":\"overlay\",\"size\":10,\"solidity\":0.2}},\"type\":\"barpolar\"}],\"pie\":[{\"automargin\":true,\"type\":\"pie\"}]},\"layout\":{\"autotypenumbers\":\"strict\",\"colorway\":[\"#636efa\",\"#EF553B\",\"#00cc96\",\"#ab63fa\",\"#FFA15A\",\"#19d3f3\",\"#FF6692\",\"#B6E880\",\"#FF97FF\",\"#FECB52\"],\"font\":{\"color\":\"#2a3f5f\"},\"hovermode\":\"closest\",\"hoverlabel\":{\"align\":\"left\"},\"paper_bgcolor\":\"white\",\"plot_bgcolor\":\"#E5ECF6\",\"polar\":{\"bgcolor\":\"#E5ECF6\",\"angularaxis\":{\"gridcolor\":\"white\",\"linecolor\":\"white\",\"ticks\":\"\"},\"radialaxis\":{\"gridcolor\":\"white\",\"linecolor\":\"white\",\"ticks\":\"\"}},\"ternary\":{\"bgcolor\":\"#E5ECF6\",\"aaxis\":{\"gridcolor\":\"white\",\"linecolor\":\"white\",\"ticks\":\"\"},\"baxis\":{\"gridcolor\":\"white\",\"linecolor\":\"white\",\"ticks\":\"\"},\"caxis\":{\"gridcolor\":\"white\",\"linecolor\":\"white\",\"ticks\":\"\"}},\"coloraxis\":{\"colorbar\":{\"outlinewidth\":0,\"ticks\":\"\"}},\"colorscale\":{\"sequential\":[[0.0,\"#0d0887\"],[0.1111111111111111,\"#46039f\"],[0.2222222222222222,\"#7201a8\"],[0.3333333333333333,\"#9c179e\"],[0.4444444444444444,\"#bd3786\"],[0.5555555555555556,\"#d8576b\"],[0.6666666666666666,\"#ed7953\"],[0.7777777777777778,\"#fb9f3a\"],[0.8888888888888888,\"#fdca26\"],[1.0,\"#f0f921\"]],\"sequentialminus\":[[0.0,\"#0d0887\"],[0.1111111111111111,\"#46039f\"],[0.2222222222222222,\"#7201a8\"],[0.3333333333333333,\"#9c179e\"],[0.4444444444444444,\"#bd3786\"],[0.5555555555555556,\"#d8576b\"],[0.6666666666666666,\"#ed7953\"],[0.7777777777777778,\"#fb9f3a\"],[0.8888888888888888,\"#fdca26\"],[1.0,\"#f0f921\"]],\"diverging\":[[0,\"#8e0152\"],[0.1,\"#c51b7d\"],[0.2,\"#de77ae\"],[0.3,\"#f1b6da\"],[0.4,\"#fde0ef\"],[0.5,\"#f7f7f7\"],[0.6,\"#e6f5d0\"],[0.7,\"#b8e186\"],[0.8,\"#7fbc41\"],[0.9,\"#4d9221\"],[1,\"#276419\"]]},\"xaxis\":{\"gridcolor\":\"white\",\"linecolor\":\"white\",\"ticks\":\"\",\"title\":{\"standoff\":15},\"zerolinecolor\":\"white\",\"automargin\":true,\"zerolinewidth\":2},\"yaxis\":{\"gridcolor\":\"white\",\"linecolor\":\"white\",\"ticks\":\"\",\"title\":{\"standoff\":15},\"zerolinecolor\":\"white\",\"automargin\":true,\"zerolinewidth\":2},\"scene\":{\"xaxis\":{\"backgroundcolor\":\"#E5ECF6\",\"gridcolor\":\"white\",\"linecolor\":\"white\",\"showbackground\":true,\"ticks\":\"\",\"zerolinecolor\":\"white\",\"gridwidth\":2},\"yaxis\":{\"backgroundcolor\":\"#E5ECF6\",\"gridcolor\":\"white\",\"linecolor\":\"white\",\"showbackground\":true,\"ticks\":\"\",\"zerolinecolor\":\"white\",\"gridwidth\":2},\"zaxis\":{\"backgroundcolor\":\"#E5ECF6\",\"gridcolor\":\"white\",\"linecolor\":\"white\",\"showbackground\":true,\"ticks\":\"\",\"zerolinecolor\":\"white\",\"gridwidth\":2}},\"shapedefaults\":{\"line\":{\"color\":\"#2a3f5f\"}},\"annotationdefaults\":{\"arrowcolor\":\"#2a3f5f\",\"arrowhead\":0,\"arrowwidth\":1},\"geo\":{\"bgcolor\":\"white\",\"landcolor\":\"#E5ECF6\",\"subunitcolor\":\"white\",\"showland\":true,\"showlakes\":true,\"lakecolor\":\"white\"},\"title\":{\"x\":0.05},\"mapbox\":{\"style\":\"light\"}}},\"xaxis\":{\"anchor\":\"y\",\"domain\":[0.0,1.0],\"title\":{\"text\":\"Region\"}},\"yaxis\":{\"anchor\":\"x\",\"domain\":[0.0,1.0],\"title\":{\"text\":\"Health (Life Expectancy)\"}},\"coloraxis\":{\"colorbar\":{\"title\":{\"text\":\"Happiness Score\"}},\"colorscale\":[[0.0,\"#0d0887\"],[0.1111111111111111,\"#46039f\"],[0.2222222222222222,\"#7201a8\"],[0.3333333333333333,\"#9c179e\"],[0.4444444444444444,\"#bd3786\"],[0.5555555555555556,\"#d8576b\"],[0.6666666666666666,\"#ed7953\"],[0.7777777777777778,\"#fb9f3a\"],[0.8888888888888888,\"#fdca26\"],[1.0,\"#f0f921\"]]},\"legend\":{\"tracegroupgap\":0},\"margin\":{\"t\":60}},                        {\"responsive\": true}                    ).then(function(){\n",
       "                            \n",
       "var gd = document.getElementById('27b5c719-95e3-4cd0-9267-fe289a8abbf2');\n",
       "var x = new MutationObserver(function (mutations, observer) {{\n",
       "        var display = window.getComputedStyle(gd).display;\n",
       "        if (!display || display === 'none') {{\n",
       "            console.log([gd, 'removed!']);\n",
       "            Plotly.purge(gd);\n",
       "            observer.disconnect();\n",
       "        }}\n",
       "}});\n",
       "\n",
       "// Listen for the removal of the full notebook cells\n",
       "var notebookContainer = gd.closest('#notebook-container');\n",
       "if (notebookContainer) {{\n",
       "    x.observe(notebookContainer, {childList: true});\n",
       "}}\n",
       "\n",
       "// Listen for the clearing of the current output cell\n",
       "var outputEl = gd.closest('.output');\n",
       "if (outputEl) {{\n",
       "    x.observe(outputEl, {childList: true});\n",
       "}}\n",
       "\n",
       "                        })                };                });            </script>        </div>"
      ]
     },
     "metadata": {},
     "output_type": "display_data"
    },
    {
     "data": {
      "text/plain": [
       "<Figure size 1080x504 with 0 Axes>"
      ]
     },
     "metadata": {},
     "output_type": "display_data"
    }
   ],
   "source": [
    "plt.figure(figsize=(15,7))\n",
    "GDP = px.scatter(df,x= 'Region', y = 'Health (Life Expectancy)',color = 'Happiness Score')\n",
    "GDP.show()"
   ]
  },
  {
   "cell_type": "code",
   "execution_count": 140,
   "id": "1e41c6dd",
   "metadata": {},
   "outputs": [
    {
     "data": {
      "application/vnd.plotly.v1+json": {
       "config": {
        "plotlyServerURL": "https://plot.ly"
       },
       "data": [
        {
         "hovertemplate": "Region=%{x}<br>Freedom=%{y}<br>Happiness Score=%{marker.color}<extra></extra>",
         "legendgroup": "",
         "marker": {
          "color": [
           7.587,
           7.561,
           7.527,
           7.522,
           7.427,
           7.406,
           7.378,
           7.364,
           7.286,
           7.284,
           7.278,
           7.226,
           7.2,
           7.187,
           7.119,
           6.983,
           6.946,
           6.94,
           6.937,
           6.901,
           6.867,
           6.853,
           6.81,
           6.798,
           6.786,
           6.75,
           6.67,
           6.611,
           6.575,
           6.574,
           6.505,
           6.485,
           6.477,
           6.455,
           6.411,
           6.329,
           6.302,
           6.298,
           6.295,
           6.269,
           6.168,
           6.13,
           6.123,
           6.003,
           5.995,
           5.987,
           5.984,
           5.975,
           5.96,
           5.948,
           5.89,
           5.889,
           5.878,
           5.855,
           5.848,
           5.833,
           5.828,
           5.824,
           5.813,
           5.791,
           5.77,
           5.759,
           5.754,
           5.716,
           5.709,
           5.695,
           5.689,
           5.605,
           5.589,
           5.548,
           5.477,
           5.474,
           5.429,
           5.399,
           5.36,
           5.332,
           5.286,
           5.268,
           5.253,
           5.212,
           5.194,
           5.192,
           5.192,
           5.14,
           5.129,
           5.124,
           5.123,
           5.102,
           5.098,
           5.073,
           5.057,
           5.013,
           5.007,
           4.971,
           4.959,
           4.949,
           4.898,
           4.885,
           4.876,
           4.874,
           4.867,
           4.857,
           4.839,
           4.8,
           4.788,
           4.786,
           4.739,
           4.715,
           4.694,
           4.686,
           4.681,
           4.677,
           4.642,
           4.633,
           4.61,
           4.571,
           4.565,
           4.55,
           4.518,
           4.517,
           4.514,
           4.512,
           4.507,
           4.436,
           4.419,
           4.369,
           4.35,
           4.332,
           4.307,
           4.297,
           4.292,
           4.271,
           4.252,
           4.218,
           4.194,
           4.077,
           4.033,
           3.995,
           3.989,
           3.956,
           3.931,
           3.904,
           3.896,
           3.845,
           3.819,
           3.781,
           3.681,
           3.678,
           3.667,
           3.656,
           3.655,
           3.587,
           3.575,
           3.465,
           3.34,
           3.006,
           2.905,
           2.839
          ],
          "coloraxis": "coloraxis",
          "symbol": "circle"
         },
         "mode": "markers",
         "name": "",
         "orientation": "v",
         "showlegend": false,
         "type": "scatter",
         "x": [
          "Western Europe",
          "Western Europe",
          "Western Europe",
          "Western Europe",
          "North America",
          "Western Europe",
          "Western Europe",
          "Western Europe",
          "Australia and New Zealand",
          "Australia and New Zealand",
          "Middle East and Northern Africa",
          "Latin America and Caribbean",
          "Western Europe",
          "Latin America and Caribbean",
          "North America",
          "Latin America and Caribbean",
          "Western Europe",
          "Western Europe",
          "Western Europe",
          "Middle East and Northern Africa",
          "Western Europe",
          "Middle East and Northern Africa",
          "Latin America and Caribbean",
          "Southeastern Asia",
          "Latin America and Caribbean",
          "Western Europe",
          "Latin America and Caribbean",
          "Middle East and Northern Africa",
          "Western Europe",
          "Latin America and Caribbean",
          "Central and Eastern Europe",
          "Latin America and Caribbean",
          "Latin America and Caribbean",
          "Southeastern Asia",
          "Middle East and Northern Africa",
          "Western Europe",
          "Western Europe",
          "Eastern Asia",
          "Middle East and Northern Africa",
          "Latin America and Caribbean",
          "Latin America and Caribbean",
          "Latin America and Caribbean",
          "Latin America and Caribbean",
          "Central and Eastern Europe",
          "Central and Eastern Europe",
          "Eastern Asia",
          "Eastern Asia",
          "Latin America and Caribbean",
          "Middle East and Northern Africa",
          "Western Europe",
          "Latin America and Caribbean",
          "Central and Eastern Europe",
          "Latin America and Caribbean",
          "Central and Eastern Europe",
          "Central and Eastern Europe",
          "Central and Eastern Europe",
          "Latin America and Caribbean",
          "Latin America and Caribbean",
          "Central and Eastern Europe",
          "Central and Eastern Europe",
          "Southeastern Asia",
          "Central and Eastern Europe",
          "Middle East and Northern Africa",
          "Central and Eastern Europe",
          "Latin America and Caribbean",
          "Western Europe",
          "Western Europe",
          "Middle East and Northern Africa",
          "Central and Eastern Europe",
          "Central and Eastern Europe",
          "Sub-Saharan Africa",
          "Eastern Asia",
          "Central and Eastern Europe",
          "Southeastern Asia",
          "Southeastern Asia",
          "Middle East and Northern Africa",
          "Central and Eastern Europe",
          "Sub-Saharan Africa",
          "Southern Asia",
          "Central and Eastern Europe",
          "Southern Asia",
          "Middle East and Northern Africa",
          "Central and Eastern Europe",
          "Eastern Asia",
          "Sub-Saharan Africa",
          "Central and Eastern Europe",
          "Central and Eastern Europe",
          "Western Europe",
          "Central and Eastern Europe",
          "Southeastern Asia",
          "Sub-Saharan Africa",
          "Middle East and Northern Africa",
          "Central and Eastern Europe",
          "Sub-Saharan Africa",
          "Central and Eastern Europe",
          "Central and Eastern Europe",
          "Sub-Saharan Africa",
          "Latin America and Caribbean",
          "Southeastern Asia",
          "Eastern Asia",
          "Sub-Saharan Africa",
          "Western Europe",
          "Middle East and Northern Africa",
          "Central and Eastern Europe",
          "Latin America and Caribbean",
          "Central and Eastern Europe",
          "Middle East and Northern Africa",
          "Middle East and Northern Africa",
          "Southern Asia",
          "Middle East and Northern Africa",
          "Central and Eastern Europe",
          "Middle East and Northern Africa",
          "Sub-Saharan Africa",
          "Sub-Saharan Africa",
          "Sub-Saharan Africa",
          "Sub-Saharan Africa",
          "Southern Asia",
          "Sub-Saharan Africa",
          "Latin America and Caribbean",
          "Sub-Saharan Africa",
          "Southern Asia",
          "Sub-Saharan Africa",
          "Sub-Saharan Africa",
          "Sub-Saharan Africa",
          "Sub-Saharan Africa",
          "Sub-Saharan Africa",
          "Central and Eastern Europe",
          "Sub-Saharan Africa",
          "Southeastern Asia",
          "Central and Eastern Europe",
          "Sub-Saharan Africa",
          "Southern Asia",
          "Sub-Saharan Africa",
          "Central and Eastern Europe",
          "Middle East and Northern Africa",
          "Middle East and Northern Africa",
          "Sub-Saharan Africa",
          "Sub-Saharan Africa",
          "Sub-Saharan Africa",
          "Sub-Saharan Africa",
          "Sub-Saharan Africa",
          "Sub-Saharan Africa",
          "Sub-Saharan Africa",
          "Sub-Saharan Africa",
          "Southeastern Asia",
          "Sub-Saharan Africa",
          "Sub-Saharan Africa",
          "Sub-Saharan Africa",
          "Sub-Saharan Africa",
          "Sub-Saharan Africa",
          "Sub-Saharan Africa",
          "Sub-Saharan Africa",
          "Southern Asia",
          "Sub-Saharan Africa",
          "Sub-Saharan Africa",
          "Middle East and Northern Africa",
          "Sub-Saharan Africa",
          "Sub-Saharan Africa"
         ],
         "xaxis": "x",
         "y": [
          0.66557,
          0.62877,
          0.64938,
          0.66973,
          0.63297,
          0.64169,
          0.61576,
          0.6598,
          0.63938,
          0.65124,
          0.41319,
          0.63376,
          0.62433,
          0.48181,
          0.54604,
          0.49049,
          0.61583,
          0.61777,
          0.5845,
          0.64157,
          0.59625,
          0.63274,
          0.42908,
          0.54252,
          0.5421,
          0.61477,
          0.44132,
          0.6404,
          0.55011,
          0.44974,
          0.46364,
          0.60362,
          0.53466,
          0.55664,
          0.31048,
          0.45951,
          0.60365,
          0.3974,
          0.55499,
          0.59657,
          0.55884,
          0.4035,
          0.57733,
          0.65821,
          0.31751,
          0.49615,
          0.33208,
          0.48574,
          0.45492,
          0.26236,
          0.57414,
          0.32818,
          0.53899,
          0.51649,
          0.60855,
          0.21342,
          0.55475,
          0.41496,
          0.37938,
          0.53122,
          0.53024,
          0.25883,
          0.41668,
          0.36679,
          0.50442,
          0.49027,
          0.40672,
          0.28579,
          0.24749,
          0.4761,
          0.56066,
          0.59608,
          0.44888,
          0.46611,
          0.59444,
          0.22815,
          0.43477,
          0.34334,
          0.53206,
          0.3703,
          0.12102,
          0.40661,
          0.1826,
          0.51697,
          0.48827,
          0.35068,
          0.20107,
          0.51469,
          0.29671,
          0.62545,
          0.46582,
          0.41691,
          0.33457,
          0.34037,
          0.35733,
          0.09245,
          0.31767,
          0.57672,
          0.59591,
          0.43626,
          0.30658,
          0.07699,
          0.33916,
          0.32112,
          0.40148,
          0.47216,
          0.26268,
          0.24499,
          0.4082,
          0.30033,
          0.25123,
          0,
          0.33207,
          0.42342,
          0.25861,
          0.28531,
          0.39786,
          0.10081,
          0.24425,
          0.22605,
          0.38282,
          0.4345,
          0.4084,
          0.24232,
          0.42215,
          0.46074,
          0.19847,
          0.49495,
          0.44017,
          0.40577,
          0.43054,
          0.53726,
          0.49309,
          0.30587,
          0.17288,
          0.35571,
          0.10384,
          0.38857,
          0.41466,
          0.22917,
          0.45727,
          0.36772,
          0.31914,
          0.47692,
          0.66246,
          0.32878,
          0.19184,
          0.48879,
          0.23501,
          0.37725,
          0.46866,
          0.39493,
          0.23414,
          0.59201,
          0.4845,
          0.15684,
          0.1185,
          0.36453
         ],
         "yaxis": "y"
        }
       ],
       "layout": {
        "coloraxis": {
         "colorbar": {
          "title": {
           "text": "Happiness Score"
          }
         },
         "colorscale": [
          [
           0,
           "#0d0887"
          ],
          [
           0.1111111111111111,
           "#46039f"
          ],
          [
           0.2222222222222222,
           "#7201a8"
          ],
          [
           0.3333333333333333,
           "#9c179e"
          ],
          [
           0.4444444444444444,
           "#bd3786"
          ],
          [
           0.5555555555555556,
           "#d8576b"
          ],
          [
           0.6666666666666666,
           "#ed7953"
          ],
          [
           0.7777777777777778,
           "#fb9f3a"
          ],
          [
           0.8888888888888888,
           "#fdca26"
          ],
          [
           1,
           "#f0f921"
          ]
         ]
        },
        "legend": {
         "tracegroupgap": 0
        },
        "margin": {
         "t": 60
        },
        "template": {
         "data": {
          "bar": [
           {
            "error_x": {
             "color": "#2a3f5f"
            },
            "error_y": {
             "color": "#2a3f5f"
            },
            "marker": {
             "line": {
              "color": "#E5ECF6",
              "width": 0.5
             },
             "pattern": {
              "fillmode": "overlay",
              "size": 10,
              "solidity": 0.2
             }
            },
            "type": "bar"
           }
          ],
          "barpolar": [
           {
            "marker": {
             "line": {
              "color": "#E5ECF6",
              "width": 0.5
             },
             "pattern": {
              "fillmode": "overlay",
              "size": 10,
              "solidity": 0.2
             }
            },
            "type": "barpolar"
           }
          ],
          "carpet": [
           {
            "aaxis": {
             "endlinecolor": "#2a3f5f",
             "gridcolor": "white",
             "linecolor": "white",
             "minorgridcolor": "white",
             "startlinecolor": "#2a3f5f"
            },
            "baxis": {
             "endlinecolor": "#2a3f5f",
             "gridcolor": "white",
             "linecolor": "white",
             "minorgridcolor": "white",
             "startlinecolor": "#2a3f5f"
            },
            "type": "carpet"
           }
          ],
          "choropleth": [
           {
            "colorbar": {
             "outlinewidth": 0,
             "ticks": ""
            },
            "type": "choropleth"
           }
          ],
          "contour": [
           {
            "colorbar": {
             "outlinewidth": 0,
             "ticks": ""
            },
            "colorscale": [
             [
              0,
              "#0d0887"
             ],
             [
              0.1111111111111111,
              "#46039f"
             ],
             [
              0.2222222222222222,
              "#7201a8"
             ],
             [
              0.3333333333333333,
              "#9c179e"
             ],
             [
              0.4444444444444444,
              "#bd3786"
             ],
             [
              0.5555555555555556,
              "#d8576b"
             ],
             [
              0.6666666666666666,
              "#ed7953"
             ],
             [
              0.7777777777777778,
              "#fb9f3a"
             ],
             [
              0.8888888888888888,
              "#fdca26"
             ],
             [
              1,
              "#f0f921"
             ]
            ],
            "type": "contour"
           }
          ],
          "contourcarpet": [
           {
            "colorbar": {
             "outlinewidth": 0,
             "ticks": ""
            },
            "type": "contourcarpet"
           }
          ],
          "heatmap": [
           {
            "colorbar": {
             "outlinewidth": 0,
             "ticks": ""
            },
            "colorscale": [
             [
              0,
              "#0d0887"
             ],
             [
              0.1111111111111111,
              "#46039f"
             ],
             [
              0.2222222222222222,
              "#7201a8"
             ],
             [
              0.3333333333333333,
              "#9c179e"
             ],
             [
              0.4444444444444444,
              "#bd3786"
             ],
             [
              0.5555555555555556,
              "#d8576b"
             ],
             [
              0.6666666666666666,
              "#ed7953"
             ],
             [
              0.7777777777777778,
              "#fb9f3a"
             ],
             [
              0.8888888888888888,
              "#fdca26"
             ],
             [
              1,
              "#f0f921"
             ]
            ],
            "type": "heatmap"
           }
          ],
          "heatmapgl": [
           {
            "colorbar": {
             "outlinewidth": 0,
             "ticks": ""
            },
            "colorscale": [
             [
              0,
              "#0d0887"
             ],
             [
              0.1111111111111111,
              "#46039f"
             ],
             [
              0.2222222222222222,
              "#7201a8"
             ],
             [
              0.3333333333333333,
              "#9c179e"
             ],
             [
              0.4444444444444444,
              "#bd3786"
             ],
             [
              0.5555555555555556,
              "#d8576b"
             ],
             [
              0.6666666666666666,
              "#ed7953"
             ],
             [
              0.7777777777777778,
              "#fb9f3a"
             ],
             [
              0.8888888888888888,
              "#fdca26"
             ],
             [
              1,
              "#f0f921"
             ]
            ],
            "type": "heatmapgl"
           }
          ],
          "histogram": [
           {
            "marker": {
             "pattern": {
              "fillmode": "overlay",
              "size": 10,
              "solidity": 0.2
             }
            },
            "type": "histogram"
           }
          ],
          "histogram2d": [
           {
            "colorbar": {
             "outlinewidth": 0,
             "ticks": ""
            },
            "colorscale": [
             [
              0,
              "#0d0887"
             ],
             [
              0.1111111111111111,
              "#46039f"
             ],
             [
              0.2222222222222222,
              "#7201a8"
             ],
             [
              0.3333333333333333,
              "#9c179e"
             ],
             [
              0.4444444444444444,
              "#bd3786"
             ],
             [
              0.5555555555555556,
              "#d8576b"
             ],
             [
              0.6666666666666666,
              "#ed7953"
             ],
             [
              0.7777777777777778,
              "#fb9f3a"
             ],
             [
              0.8888888888888888,
              "#fdca26"
             ],
             [
              1,
              "#f0f921"
             ]
            ],
            "type": "histogram2d"
           }
          ],
          "histogram2dcontour": [
           {
            "colorbar": {
             "outlinewidth": 0,
             "ticks": ""
            },
            "colorscale": [
             [
              0,
              "#0d0887"
             ],
             [
              0.1111111111111111,
              "#46039f"
             ],
             [
              0.2222222222222222,
              "#7201a8"
             ],
             [
              0.3333333333333333,
              "#9c179e"
             ],
             [
              0.4444444444444444,
              "#bd3786"
             ],
             [
              0.5555555555555556,
              "#d8576b"
             ],
             [
              0.6666666666666666,
              "#ed7953"
             ],
             [
              0.7777777777777778,
              "#fb9f3a"
             ],
             [
              0.8888888888888888,
              "#fdca26"
             ],
             [
              1,
              "#f0f921"
             ]
            ],
            "type": "histogram2dcontour"
           }
          ],
          "mesh3d": [
           {
            "colorbar": {
             "outlinewidth": 0,
             "ticks": ""
            },
            "type": "mesh3d"
           }
          ],
          "parcoords": [
           {
            "line": {
             "colorbar": {
              "outlinewidth": 0,
              "ticks": ""
             }
            },
            "type": "parcoords"
           }
          ],
          "pie": [
           {
            "automargin": true,
            "type": "pie"
           }
          ],
          "scatter": [
           {
            "fillpattern": {
             "fillmode": "overlay",
             "size": 10,
             "solidity": 0.2
            },
            "type": "scatter"
           }
          ],
          "scatter3d": [
           {
            "line": {
             "colorbar": {
              "outlinewidth": 0,
              "ticks": ""
             }
            },
            "marker": {
             "colorbar": {
              "outlinewidth": 0,
              "ticks": ""
             }
            },
            "type": "scatter3d"
           }
          ],
          "scattercarpet": [
           {
            "marker": {
             "colorbar": {
              "outlinewidth": 0,
              "ticks": ""
             }
            },
            "type": "scattercarpet"
           }
          ],
          "scattergeo": [
           {
            "marker": {
             "colorbar": {
              "outlinewidth": 0,
              "ticks": ""
             }
            },
            "type": "scattergeo"
           }
          ],
          "scattergl": [
           {
            "marker": {
             "colorbar": {
              "outlinewidth": 0,
              "ticks": ""
             }
            },
            "type": "scattergl"
           }
          ],
          "scattermapbox": [
           {
            "marker": {
             "colorbar": {
              "outlinewidth": 0,
              "ticks": ""
             }
            },
            "type": "scattermapbox"
           }
          ],
          "scatterpolar": [
           {
            "marker": {
             "colorbar": {
              "outlinewidth": 0,
              "ticks": ""
             }
            },
            "type": "scatterpolar"
           }
          ],
          "scatterpolargl": [
           {
            "marker": {
             "colorbar": {
              "outlinewidth": 0,
              "ticks": ""
             }
            },
            "type": "scatterpolargl"
           }
          ],
          "scatterternary": [
           {
            "marker": {
             "colorbar": {
              "outlinewidth": 0,
              "ticks": ""
             }
            },
            "type": "scatterternary"
           }
          ],
          "surface": [
           {
            "colorbar": {
             "outlinewidth": 0,
             "ticks": ""
            },
            "colorscale": [
             [
              0,
              "#0d0887"
             ],
             [
              0.1111111111111111,
              "#46039f"
             ],
             [
              0.2222222222222222,
              "#7201a8"
             ],
             [
              0.3333333333333333,
              "#9c179e"
             ],
             [
              0.4444444444444444,
              "#bd3786"
             ],
             [
              0.5555555555555556,
              "#d8576b"
             ],
             [
              0.6666666666666666,
              "#ed7953"
             ],
             [
              0.7777777777777778,
              "#fb9f3a"
             ],
             [
              0.8888888888888888,
              "#fdca26"
             ],
             [
              1,
              "#f0f921"
             ]
            ],
            "type": "surface"
           }
          ],
          "table": [
           {
            "cells": {
             "fill": {
              "color": "#EBF0F8"
             },
             "line": {
              "color": "white"
             }
            },
            "header": {
             "fill": {
              "color": "#C8D4E3"
             },
             "line": {
              "color": "white"
             }
            },
            "type": "table"
           }
          ]
         },
         "layout": {
          "annotationdefaults": {
           "arrowcolor": "#2a3f5f",
           "arrowhead": 0,
           "arrowwidth": 1
          },
          "autotypenumbers": "strict",
          "coloraxis": {
           "colorbar": {
            "outlinewidth": 0,
            "ticks": ""
           }
          },
          "colorscale": {
           "diverging": [
            [
             0,
             "#8e0152"
            ],
            [
             0.1,
             "#c51b7d"
            ],
            [
             0.2,
             "#de77ae"
            ],
            [
             0.3,
             "#f1b6da"
            ],
            [
             0.4,
             "#fde0ef"
            ],
            [
             0.5,
             "#f7f7f7"
            ],
            [
             0.6,
             "#e6f5d0"
            ],
            [
             0.7,
             "#b8e186"
            ],
            [
             0.8,
             "#7fbc41"
            ],
            [
             0.9,
             "#4d9221"
            ],
            [
             1,
             "#276419"
            ]
           ],
           "sequential": [
            [
             0,
             "#0d0887"
            ],
            [
             0.1111111111111111,
             "#46039f"
            ],
            [
             0.2222222222222222,
             "#7201a8"
            ],
            [
             0.3333333333333333,
             "#9c179e"
            ],
            [
             0.4444444444444444,
             "#bd3786"
            ],
            [
             0.5555555555555556,
             "#d8576b"
            ],
            [
             0.6666666666666666,
             "#ed7953"
            ],
            [
             0.7777777777777778,
             "#fb9f3a"
            ],
            [
             0.8888888888888888,
             "#fdca26"
            ],
            [
             1,
             "#f0f921"
            ]
           ],
           "sequentialminus": [
            [
             0,
             "#0d0887"
            ],
            [
             0.1111111111111111,
             "#46039f"
            ],
            [
             0.2222222222222222,
             "#7201a8"
            ],
            [
             0.3333333333333333,
             "#9c179e"
            ],
            [
             0.4444444444444444,
             "#bd3786"
            ],
            [
             0.5555555555555556,
             "#d8576b"
            ],
            [
             0.6666666666666666,
             "#ed7953"
            ],
            [
             0.7777777777777778,
             "#fb9f3a"
            ],
            [
             0.8888888888888888,
             "#fdca26"
            ],
            [
             1,
             "#f0f921"
            ]
           ]
          },
          "colorway": [
           "#636efa",
           "#EF553B",
           "#00cc96",
           "#ab63fa",
           "#FFA15A",
           "#19d3f3",
           "#FF6692",
           "#B6E880",
           "#FF97FF",
           "#FECB52"
          ],
          "font": {
           "color": "#2a3f5f"
          },
          "geo": {
           "bgcolor": "white",
           "lakecolor": "white",
           "landcolor": "#E5ECF6",
           "showlakes": true,
           "showland": true,
           "subunitcolor": "white"
          },
          "hoverlabel": {
           "align": "left"
          },
          "hovermode": "closest",
          "mapbox": {
           "style": "light"
          },
          "paper_bgcolor": "white",
          "plot_bgcolor": "#E5ECF6",
          "polar": {
           "angularaxis": {
            "gridcolor": "white",
            "linecolor": "white",
            "ticks": ""
           },
           "bgcolor": "#E5ECF6",
           "radialaxis": {
            "gridcolor": "white",
            "linecolor": "white",
            "ticks": ""
           }
          },
          "scene": {
           "xaxis": {
            "backgroundcolor": "#E5ECF6",
            "gridcolor": "white",
            "gridwidth": 2,
            "linecolor": "white",
            "showbackground": true,
            "ticks": "",
            "zerolinecolor": "white"
           },
           "yaxis": {
            "backgroundcolor": "#E5ECF6",
            "gridcolor": "white",
            "gridwidth": 2,
            "linecolor": "white",
            "showbackground": true,
            "ticks": "",
            "zerolinecolor": "white"
           },
           "zaxis": {
            "backgroundcolor": "#E5ECF6",
            "gridcolor": "white",
            "gridwidth": 2,
            "linecolor": "white",
            "showbackground": true,
            "ticks": "",
            "zerolinecolor": "white"
           }
          },
          "shapedefaults": {
           "line": {
            "color": "#2a3f5f"
           }
          },
          "ternary": {
           "aaxis": {
            "gridcolor": "white",
            "linecolor": "white",
            "ticks": ""
           },
           "baxis": {
            "gridcolor": "white",
            "linecolor": "white",
            "ticks": ""
           },
           "bgcolor": "#E5ECF6",
           "caxis": {
            "gridcolor": "white",
            "linecolor": "white",
            "ticks": ""
           }
          },
          "title": {
           "x": 0.05
          },
          "xaxis": {
           "automargin": true,
           "gridcolor": "white",
           "linecolor": "white",
           "ticks": "",
           "title": {
            "standoff": 15
           },
           "zerolinecolor": "white",
           "zerolinewidth": 2
          },
          "yaxis": {
           "automargin": true,
           "gridcolor": "white",
           "linecolor": "white",
           "ticks": "",
           "title": {
            "standoff": 15
           },
           "zerolinecolor": "white",
           "zerolinewidth": 2
          }
         }
        },
        "xaxis": {
         "anchor": "y",
         "domain": [
          0,
          1
         ],
         "title": {
          "text": "Region"
         }
        },
        "yaxis": {
         "anchor": "x",
         "domain": [
          0,
          1
         ],
         "title": {
          "text": "Freedom"
         }
        }
       }
      },
      "text/html": [
       "<div>                            <div id=\"23293f4d-63de-4b1b-b030-37fb39305df6\" class=\"plotly-graph-div\" style=\"height:525px; width:100%;\"></div>            <script type=\"text/javascript\">                require([\"plotly\"], function(Plotly) {                    window.PLOTLYENV=window.PLOTLYENV || {};                                    if (document.getElementById(\"23293f4d-63de-4b1b-b030-37fb39305df6\")) {                    Plotly.newPlot(                        \"23293f4d-63de-4b1b-b030-37fb39305df6\",                        [{\"hovertemplate\":\"Region=%{x}<br>Freedom=%{y}<br>Happiness Score=%{marker.color}<extra></extra>\",\"legendgroup\":\"\",\"marker\":{\"color\":[7.587,7.561,7.527,7.522,7.427,7.406,7.378,7.364,7.286,7.284,7.278,7.226,7.2,7.187,7.119,6.983,6.946,6.94,6.937,6.901,6.867,6.853,6.81,6.798,6.786,6.75,6.67,6.611,6.575,6.574,6.505,6.485,6.477,6.455,6.411,6.329,6.302,6.298,6.295,6.269,6.168,6.13,6.123,6.003,5.995,5.987,5.984,5.975,5.96,5.948,5.89,5.889,5.878,5.855,5.848,5.833,5.828,5.824,5.813,5.791,5.77,5.759,5.754,5.716,5.709,5.695,5.689,5.605,5.589,5.548,5.477,5.474,5.429,5.399,5.36,5.332,5.286,5.268,5.253,5.212,5.194,5.192,5.192,5.14,5.129,5.124,5.123,5.102,5.098,5.073,5.057,5.013,5.007,4.971,4.959,4.949,4.898,4.885,4.876,4.874,4.867,4.857,4.839,4.8,4.788,4.786,4.739,4.715,4.694,4.686,4.681,4.677,4.642,4.633,4.61,4.571,4.565,4.55,4.518,4.517,4.514,4.512,4.507,4.436,4.419,4.369,4.35,4.332,4.307,4.297,4.292,4.271,4.252,4.218,4.194,4.077,4.033,3.995,3.989,3.956,3.931,3.904,3.896,3.845,3.819,3.781,3.681,3.678,3.667,3.656,3.655,3.587,3.575,3.465,3.34,3.006,2.905,2.839],\"coloraxis\":\"coloraxis\",\"symbol\":\"circle\"},\"mode\":\"markers\",\"name\":\"\",\"orientation\":\"v\",\"showlegend\":false,\"x\":[\"Western Europe\",\"Western Europe\",\"Western Europe\",\"Western Europe\",\"North America\",\"Western Europe\",\"Western Europe\",\"Western Europe\",\"Australia and New Zealand\",\"Australia and New Zealand\",\"Middle East and Northern Africa\",\"Latin America and Caribbean\",\"Western Europe\",\"Latin America and Caribbean\",\"North America\",\"Latin America and Caribbean\",\"Western Europe\",\"Western Europe\",\"Western Europe\",\"Middle East and Northern Africa\",\"Western Europe\",\"Middle East and Northern Africa\",\"Latin America and Caribbean\",\"Southeastern Asia\",\"Latin America and Caribbean\",\"Western Europe\",\"Latin America and Caribbean\",\"Middle East and Northern Africa\",\"Western Europe\",\"Latin America and Caribbean\",\"Central and Eastern Europe\",\"Latin America and Caribbean\",\"Latin America and Caribbean\",\"Southeastern Asia\",\"Middle East and Northern Africa\",\"Western Europe\",\"Western Europe\",\"Eastern Asia\",\"Middle East and Northern Africa\",\"Latin America and Caribbean\",\"Latin America and Caribbean\",\"Latin America and Caribbean\",\"Latin America and Caribbean\",\"Central and Eastern Europe\",\"Central and Eastern Europe\",\"Eastern Asia\",\"Eastern Asia\",\"Latin America and Caribbean\",\"Middle East and Northern Africa\",\"Western Europe\",\"Latin America and Caribbean\",\"Central and Eastern Europe\",\"Latin America and Caribbean\",\"Central and Eastern Europe\",\"Central and Eastern Europe\",\"Central and Eastern Europe\",\"Latin America and Caribbean\",\"Latin America and Caribbean\",\"Central and Eastern Europe\",\"Central and Eastern Europe\",\"Southeastern Asia\",\"Central and Eastern Europe\",\"Middle East and Northern Africa\",\"Central and Eastern Europe\",\"Latin America and Caribbean\",\"Western Europe\",\"Western Europe\",\"Middle East and Northern Africa\",\"Central and Eastern Europe\",\"Central and Eastern Europe\",\"Sub-Saharan Africa\",\"Eastern Asia\",\"Central and Eastern Europe\",\"Southeastern Asia\",\"Southeastern Asia\",\"Middle East and Northern Africa\",\"Central and Eastern Europe\",\"Sub-Saharan Africa\",\"Southern Asia\",\"Central and Eastern Europe\",\"Southern Asia\",\"Middle East and Northern Africa\",\"Central and Eastern Europe\",\"Eastern Asia\",\"Sub-Saharan Africa\",\"Central and Eastern Europe\",\"Central and Eastern Europe\",\"Western Europe\",\"Central and Eastern Europe\",\"Southeastern Asia\",\"Sub-Saharan Africa\",\"Middle East and Northern Africa\",\"Central and Eastern Europe\",\"Sub-Saharan Africa\",\"Central and Eastern Europe\",\"Central and Eastern Europe\",\"Sub-Saharan Africa\",\"Latin America and Caribbean\",\"Southeastern Asia\",\"Eastern Asia\",\"Sub-Saharan Africa\",\"Western Europe\",\"Middle East and Northern Africa\",\"Central and Eastern Europe\",\"Latin America and Caribbean\",\"Central and Eastern Europe\",\"Middle East and Northern Africa\",\"Middle East and Northern Africa\",\"Southern Asia\",\"Middle East and Northern Africa\",\"Central and Eastern Europe\",\"Middle East and Northern Africa\",\"Sub-Saharan Africa\",\"Sub-Saharan Africa\",\"Sub-Saharan Africa\",\"Sub-Saharan Africa\",\"Southern Asia\",\"Sub-Saharan Africa\",\"Latin America and Caribbean\",\"Sub-Saharan Africa\",\"Southern Asia\",\"Sub-Saharan Africa\",\"Sub-Saharan Africa\",\"Sub-Saharan Africa\",\"Sub-Saharan Africa\",\"Sub-Saharan Africa\",\"Central and Eastern Europe\",\"Sub-Saharan Africa\",\"Southeastern Asia\",\"Central and Eastern Europe\",\"Sub-Saharan Africa\",\"Southern Asia\",\"Sub-Saharan Africa\",\"Central and Eastern Europe\",\"Middle East and Northern Africa\",\"Middle East and Northern Africa\",\"Sub-Saharan Africa\",\"Sub-Saharan Africa\",\"Sub-Saharan Africa\",\"Sub-Saharan Africa\",\"Sub-Saharan Africa\",\"Sub-Saharan Africa\",\"Sub-Saharan Africa\",\"Sub-Saharan Africa\",\"Southeastern Asia\",\"Sub-Saharan Africa\",\"Sub-Saharan Africa\",\"Sub-Saharan Africa\",\"Sub-Saharan Africa\",\"Sub-Saharan Africa\",\"Sub-Saharan Africa\",\"Sub-Saharan Africa\",\"Southern Asia\",\"Sub-Saharan Africa\",\"Sub-Saharan Africa\",\"Middle East and Northern Africa\",\"Sub-Saharan Africa\",\"Sub-Saharan Africa\"],\"xaxis\":\"x\",\"y\":[0.66557,0.62877,0.64938,0.66973,0.63297,0.64169,0.61576,0.6598,0.63938,0.65124,0.41319,0.63376,0.62433,0.48181,0.54604,0.49049,0.61583,0.61777,0.5845,0.64157,0.59625,0.63274,0.42908,0.54252,0.5421,0.61477,0.44132,0.6404,0.55011,0.44974,0.46364,0.60362,0.53466,0.55664,0.31048,0.45951,0.60365,0.3974,0.55499,0.59657,0.55884,0.4035,0.57733,0.65821,0.31751,0.49615,0.33208,0.48574,0.45492,0.26236,0.57414,0.32818,0.53899,0.51649,0.60855,0.21342,0.55475,0.41496,0.37938,0.53122,0.53024,0.25883,0.41668,0.36679,0.50442,0.49027,0.40672,0.28579,0.24749,0.4761,0.56066,0.59608,0.44888,0.46611,0.59444,0.22815,0.43477,0.34334,0.53206,0.3703,0.12102,0.40661,0.1826,0.51697,0.48827,0.35068,0.20107,0.51469,0.29671,0.62545,0.46582,0.41691,0.33457,0.34037,0.35733,0.09245,0.31767,0.57672,0.59591,0.43626,0.30658,0.07699,0.33916,0.32112,0.40148,0.47216,0.26268,0.24499,0.4082,0.30033,0.25123,0.0,0.33207,0.42342,0.25861,0.28531,0.39786,0.10081,0.24425,0.22605,0.38282,0.4345,0.4084,0.24232,0.42215,0.46074,0.19847,0.49495,0.44017,0.40577,0.43054,0.53726,0.49309,0.30587,0.17288,0.35571,0.10384,0.38857,0.41466,0.22917,0.45727,0.36772,0.31914,0.47692,0.66246,0.32878,0.19184,0.48879,0.23501,0.37725,0.46866,0.39493,0.23414,0.59201,0.4845,0.15684,0.1185,0.36453],\"yaxis\":\"y\",\"type\":\"scatter\"}],                        {\"template\":{\"data\":{\"histogram2dcontour\":[{\"type\":\"histogram2dcontour\",\"colorbar\":{\"outlinewidth\":0,\"ticks\":\"\"},\"colorscale\":[[0.0,\"#0d0887\"],[0.1111111111111111,\"#46039f\"],[0.2222222222222222,\"#7201a8\"],[0.3333333333333333,\"#9c179e\"],[0.4444444444444444,\"#bd3786\"],[0.5555555555555556,\"#d8576b\"],[0.6666666666666666,\"#ed7953\"],[0.7777777777777778,\"#fb9f3a\"],[0.8888888888888888,\"#fdca26\"],[1.0,\"#f0f921\"]]}],\"choropleth\":[{\"type\":\"choropleth\",\"colorbar\":{\"outlinewidth\":0,\"ticks\":\"\"}}],\"histogram2d\":[{\"type\":\"histogram2d\",\"colorbar\":{\"outlinewidth\":0,\"ticks\":\"\"},\"colorscale\":[[0.0,\"#0d0887\"],[0.1111111111111111,\"#46039f\"],[0.2222222222222222,\"#7201a8\"],[0.3333333333333333,\"#9c179e\"],[0.4444444444444444,\"#bd3786\"],[0.5555555555555556,\"#d8576b\"],[0.6666666666666666,\"#ed7953\"],[0.7777777777777778,\"#fb9f3a\"],[0.8888888888888888,\"#fdca26\"],[1.0,\"#f0f921\"]]}],\"heatmap\":[{\"type\":\"heatmap\",\"colorbar\":{\"outlinewidth\":0,\"ticks\":\"\"},\"colorscale\":[[0.0,\"#0d0887\"],[0.1111111111111111,\"#46039f\"],[0.2222222222222222,\"#7201a8\"],[0.3333333333333333,\"#9c179e\"],[0.4444444444444444,\"#bd3786\"],[0.5555555555555556,\"#d8576b\"],[0.6666666666666666,\"#ed7953\"],[0.7777777777777778,\"#fb9f3a\"],[0.8888888888888888,\"#fdca26\"],[1.0,\"#f0f921\"]]}],\"heatmapgl\":[{\"type\":\"heatmapgl\",\"colorbar\":{\"outlinewidth\":0,\"ticks\":\"\"},\"colorscale\":[[0.0,\"#0d0887\"],[0.1111111111111111,\"#46039f\"],[0.2222222222222222,\"#7201a8\"],[0.3333333333333333,\"#9c179e\"],[0.4444444444444444,\"#bd3786\"],[0.5555555555555556,\"#d8576b\"],[0.6666666666666666,\"#ed7953\"],[0.7777777777777778,\"#fb9f3a\"],[0.8888888888888888,\"#fdca26\"],[1.0,\"#f0f921\"]]}],\"contourcarpet\":[{\"type\":\"contourcarpet\",\"colorbar\":{\"outlinewidth\":0,\"ticks\":\"\"}}],\"contour\":[{\"type\":\"contour\",\"colorbar\":{\"outlinewidth\":0,\"ticks\":\"\"},\"colorscale\":[[0.0,\"#0d0887\"],[0.1111111111111111,\"#46039f\"],[0.2222222222222222,\"#7201a8\"],[0.3333333333333333,\"#9c179e\"],[0.4444444444444444,\"#bd3786\"],[0.5555555555555556,\"#d8576b\"],[0.6666666666666666,\"#ed7953\"],[0.7777777777777778,\"#fb9f3a\"],[0.8888888888888888,\"#fdca26\"],[1.0,\"#f0f921\"]]}],\"surface\":[{\"type\":\"surface\",\"colorbar\":{\"outlinewidth\":0,\"ticks\":\"\"},\"colorscale\":[[0.0,\"#0d0887\"],[0.1111111111111111,\"#46039f\"],[0.2222222222222222,\"#7201a8\"],[0.3333333333333333,\"#9c179e\"],[0.4444444444444444,\"#bd3786\"],[0.5555555555555556,\"#d8576b\"],[0.6666666666666666,\"#ed7953\"],[0.7777777777777778,\"#fb9f3a\"],[0.8888888888888888,\"#fdca26\"],[1.0,\"#f0f921\"]]}],\"mesh3d\":[{\"type\":\"mesh3d\",\"colorbar\":{\"outlinewidth\":0,\"ticks\":\"\"}}],\"scatter\":[{\"fillpattern\":{\"fillmode\":\"overlay\",\"size\":10,\"solidity\":0.2},\"type\":\"scatter\"}],\"parcoords\":[{\"type\":\"parcoords\",\"line\":{\"colorbar\":{\"outlinewidth\":0,\"ticks\":\"\"}}}],\"scatterpolargl\":[{\"type\":\"scatterpolargl\",\"marker\":{\"colorbar\":{\"outlinewidth\":0,\"ticks\":\"\"}}}],\"bar\":[{\"error_x\":{\"color\":\"#2a3f5f\"},\"error_y\":{\"color\":\"#2a3f5f\"},\"marker\":{\"line\":{\"color\":\"#E5ECF6\",\"width\":0.5},\"pattern\":{\"fillmode\":\"overlay\",\"size\":10,\"solidity\":0.2}},\"type\":\"bar\"}],\"scattergeo\":[{\"type\":\"scattergeo\",\"marker\":{\"colorbar\":{\"outlinewidth\":0,\"ticks\":\"\"}}}],\"scatterpolar\":[{\"type\":\"scatterpolar\",\"marker\":{\"colorbar\":{\"outlinewidth\":0,\"ticks\":\"\"}}}],\"histogram\":[{\"marker\":{\"pattern\":{\"fillmode\":\"overlay\",\"size\":10,\"solidity\":0.2}},\"type\":\"histogram\"}],\"scattergl\":[{\"type\":\"scattergl\",\"marker\":{\"colorbar\":{\"outlinewidth\":0,\"ticks\":\"\"}}}],\"scatter3d\":[{\"type\":\"scatter3d\",\"line\":{\"colorbar\":{\"outlinewidth\":0,\"ticks\":\"\"}},\"marker\":{\"colorbar\":{\"outlinewidth\":0,\"ticks\":\"\"}}}],\"scattermapbox\":[{\"type\":\"scattermapbox\",\"marker\":{\"colorbar\":{\"outlinewidth\":0,\"ticks\":\"\"}}}],\"scatterternary\":[{\"type\":\"scatterternary\",\"marker\":{\"colorbar\":{\"outlinewidth\":0,\"ticks\":\"\"}}}],\"scattercarpet\":[{\"type\":\"scattercarpet\",\"marker\":{\"colorbar\":{\"outlinewidth\":0,\"ticks\":\"\"}}}],\"carpet\":[{\"aaxis\":{\"endlinecolor\":\"#2a3f5f\",\"gridcolor\":\"white\",\"linecolor\":\"white\",\"minorgridcolor\":\"white\",\"startlinecolor\":\"#2a3f5f\"},\"baxis\":{\"endlinecolor\":\"#2a3f5f\",\"gridcolor\":\"white\",\"linecolor\":\"white\",\"minorgridcolor\":\"white\",\"startlinecolor\":\"#2a3f5f\"},\"type\":\"carpet\"}],\"table\":[{\"cells\":{\"fill\":{\"color\":\"#EBF0F8\"},\"line\":{\"color\":\"white\"}},\"header\":{\"fill\":{\"color\":\"#C8D4E3\"},\"line\":{\"color\":\"white\"}},\"type\":\"table\"}],\"barpolar\":[{\"marker\":{\"line\":{\"color\":\"#E5ECF6\",\"width\":0.5},\"pattern\":{\"fillmode\":\"overlay\",\"size\":10,\"solidity\":0.2}},\"type\":\"barpolar\"}],\"pie\":[{\"automargin\":true,\"type\":\"pie\"}]},\"layout\":{\"autotypenumbers\":\"strict\",\"colorway\":[\"#636efa\",\"#EF553B\",\"#00cc96\",\"#ab63fa\",\"#FFA15A\",\"#19d3f3\",\"#FF6692\",\"#B6E880\",\"#FF97FF\",\"#FECB52\"],\"font\":{\"color\":\"#2a3f5f\"},\"hovermode\":\"closest\",\"hoverlabel\":{\"align\":\"left\"},\"paper_bgcolor\":\"white\",\"plot_bgcolor\":\"#E5ECF6\",\"polar\":{\"bgcolor\":\"#E5ECF6\",\"angularaxis\":{\"gridcolor\":\"white\",\"linecolor\":\"white\",\"ticks\":\"\"},\"radialaxis\":{\"gridcolor\":\"white\",\"linecolor\":\"white\",\"ticks\":\"\"}},\"ternary\":{\"bgcolor\":\"#E5ECF6\",\"aaxis\":{\"gridcolor\":\"white\",\"linecolor\":\"white\",\"ticks\":\"\"},\"baxis\":{\"gridcolor\":\"white\",\"linecolor\":\"white\",\"ticks\":\"\"},\"caxis\":{\"gridcolor\":\"white\",\"linecolor\":\"white\",\"ticks\":\"\"}},\"coloraxis\":{\"colorbar\":{\"outlinewidth\":0,\"ticks\":\"\"}},\"colorscale\":{\"sequential\":[[0.0,\"#0d0887\"],[0.1111111111111111,\"#46039f\"],[0.2222222222222222,\"#7201a8\"],[0.3333333333333333,\"#9c179e\"],[0.4444444444444444,\"#bd3786\"],[0.5555555555555556,\"#d8576b\"],[0.6666666666666666,\"#ed7953\"],[0.7777777777777778,\"#fb9f3a\"],[0.8888888888888888,\"#fdca26\"],[1.0,\"#f0f921\"]],\"sequentialminus\":[[0.0,\"#0d0887\"],[0.1111111111111111,\"#46039f\"],[0.2222222222222222,\"#7201a8\"],[0.3333333333333333,\"#9c179e\"],[0.4444444444444444,\"#bd3786\"],[0.5555555555555556,\"#d8576b\"],[0.6666666666666666,\"#ed7953\"],[0.7777777777777778,\"#fb9f3a\"],[0.8888888888888888,\"#fdca26\"],[1.0,\"#f0f921\"]],\"diverging\":[[0,\"#8e0152\"],[0.1,\"#c51b7d\"],[0.2,\"#de77ae\"],[0.3,\"#f1b6da\"],[0.4,\"#fde0ef\"],[0.5,\"#f7f7f7\"],[0.6,\"#e6f5d0\"],[0.7,\"#b8e186\"],[0.8,\"#7fbc41\"],[0.9,\"#4d9221\"],[1,\"#276419\"]]},\"xaxis\":{\"gridcolor\":\"white\",\"linecolor\":\"white\",\"ticks\":\"\",\"title\":{\"standoff\":15},\"zerolinecolor\":\"white\",\"automargin\":true,\"zerolinewidth\":2},\"yaxis\":{\"gridcolor\":\"white\",\"linecolor\":\"white\",\"ticks\":\"\",\"title\":{\"standoff\":15},\"zerolinecolor\":\"white\",\"automargin\":true,\"zerolinewidth\":2},\"scene\":{\"xaxis\":{\"backgroundcolor\":\"#E5ECF6\",\"gridcolor\":\"white\",\"linecolor\":\"white\",\"showbackground\":true,\"ticks\":\"\",\"zerolinecolor\":\"white\",\"gridwidth\":2},\"yaxis\":{\"backgroundcolor\":\"#E5ECF6\",\"gridcolor\":\"white\",\"linecolor\":\"white\",\"showbackground\":true,\"ticks\":\"\",\"zerolinecolor\":\"white\",\"gridwidth\":2},\"zaxis\":{\"backgroundcolor\":\"#E5ECF6\",\"gridcolor\":\"white\",\"linecolor\":\"white\",\"showbackground\":true,\"ticks\":\"\",\"zerolinecolor\":\"white\",\"gridwidth\":2}},\"shapedefaults\":{\"line\":{\"color\":\"#2a3f5f\"}},\"annotationdefaults\":{\"arrowcolor\":\"#2a3f5f\",\"arrowhead\":0,\"arrowwidth\":1},\"geo\":{\"bgcolor\":\"white\",\"landcolor\":\"#E5ECF6\",\"subunitcolor\":\"white\",\"showland\":true,\"showlakes\":true,\"lakecolor\":\"white\"},\"title\":{\"x\":0.05},\"mapbox\":{\"style\":\"light\"}}},\"xaxis\":{\"anchor\":\"y\",\"domain\":[0.0,1.0],\"title\":{\"text\":\"Region\"}},\"yaxis\":{\"anchor\":\"x\",\"domain\":[0.0,1.0],\"title\":{\"text\":\"Freedom\"}},\"coloraxis\":{\"colorbar\":{\"title\":{\"text\":\"Happiness Score\"}},\"colorscale\":[[0.0,\"#0d0887\"],[0.1111111111111111,\"#46039f\"],[0.2222222222222222,\"#7201a8\"],[0.3333333333333333,\"#9c179e\"],[0.4444444444444444,\"#bd3786\"],[0.5555555555555556,\"#d8576b\"],[0.6666666666666666,\"#ed7953\"],[0.7777777777777778,\"#fb9f3a\"],[0.8888888888888888,\"#fdca26\"],[1.0,\"#f0f921\"]]},\"legend\":{\"tracegroupgap\":0},\"margin\":{\"t\":60}},                        {\"responsive\": true}                    ).then(function(){\n",
       "                            \n",
       "var gd = document.getElementById('23293f4d-63de-4b1b-b030-37fb39305df6');\n",
       "var x = new MutationObserver(function (mutations, observer) {{\n",
       "        var display = window.getComputedStyle(gd).display;\n",
       "        if (!display || display === 'none') {{\n",
       "            console.log([gd, 'removed!']);\n",
       "            Plotly.purge(gd);\n",
       "            observer.disconnect();\n",
       "        }}\n",
       "}});\n",
       "\n",
       "// Listen for the removal of the full notebook cells\n",
       "var notebookContainer = gd.closest('#notebook-container');\n",
       "if (notebookContainer) {{\n",
       "    x.observe(notebookContainer, {childList: true});\n",
       "}}\n",
       "\n",
       "// Listen for the clearing of the current output cell\n",
       "var outputEl = gd.closest('.output');\n",
       "if (outputEl) {{\n",
       "    x.observe(outputEl, {childList: true});\n",
       "}}\n",
       "\n",
       "                        })                };                });            </script>        </div>"
      ]
     },
     "metadata": {},
     "output_type": "display_data"
    },
    {
     "data": {
      "text/plain": [
       "<Figure size 1080x504 with 0 Axes>"
      ]
     },
     "metadata": {},
     "output_type": "display_data"
    }
   ],
   "source": [
    "plt.figure(figsize=(15,7))\n",
    "GDP = px.scatter(df,x= 'Region', y = 'Freedom',color = 'Happiness Score')\n",
    "GDP.show()"
   ]
  },
  {
   "cell_type": "code",
   "execution_count": 141,
   "id": "104bbea0",
   "metadata": {},
   "outputs": [
    {
     "data": {
      "application/vnd.plotly.v1+json": {
       "config": {
        "plotlyServerURL": "https://plot.ly"
       },
       "data": [
        {
         "hovertemplate": "Region=%{x}<br>Trust (Government Corruption)=%{y}<br>Happiness Score=%{marker.color}<extra></extra>",
         "legendgroup": "",
         "marker": {
          "color": [
           7.587,
           7.561,
           7.527,
           7.522,
           7.427,
           7.406,
           7.378,
           7.364,
           7.286,
           7.284,
           7.278,
           7.226,
           7.2,
           7.187,
           7.119,
           6.983,
           6.946,
           6.94,
           6.937,
           6.901,
           6.867,
           6.853,
           6.81,
           6.798,
           6.786,
           6.75,
           6.67,
           6.611,
           6.575,
           6.574,
           6.505,
           6.485,
           6.477,
           6.455,
           6.411,
           6.329,
           6.302,
           6.298,
           6.295,
           6.269,
           6.168,
           6.13,
           6.123,
           6.003,
           5.995,
           5.987,
           5.984,
           5.975,
           5.96,
           5.948,
           5.89,
           5.889,
           5.878,
           5.855,
           5.848,
           5.833,
           5.828,
           5.824,
           5.813,
           5.791,
           5.77,
           5.759,
           5.754,
           5.716,
           5.709,
           5.695,
           5.689,
           5.605,
           5.589,
           5.548,
           5.477,
           5.474,
           5.429,
           5.399,
           5.36,
           5.332,
           5.286,
           5.268,
           5.253,
           5.212,
           5.194,
           5.192,
           5.192,
           5.14,
           5.129,
           5.124,
           5.123,
           5.102,
           5.098,
           5.073,
           5.057,
           5.013,
           5.007,
           4.971,
           4.959,
           4.949,
           4.898,
           4.885,
           4.876,
           4.874,
           4.867,
           4.857,
           4.839,
           4.8,
           4.788,
           4.786,
           4.739,
           4.715,
           4.694,
           4.686,
           4.681,
           4.677,
           4.642,
           4.633,
           4.61,
           4.571,
           4.565,
           4.55,
           4.518,
           4.517,
           4.514,
           4.512,
           4.507,
           4.436,
           4.419,
           4.369,
           4.35,
           4.332,
           4.307,
           4.297,
           4.292,
           4.271,
           4.252,
           4.218,
           4.194,
           4.077,
           4.033,
           3.995,
           3.989,
           3.956,
           3.931,
           3.904,
           3.896,
           3.845,
           3.819,
           3.781,
           3.681,
           3.678,
           3.667,
           3.656,
           3.655,
           3.587,
           3.575,
           3.465,
           3.34,
           3.006,
           2.905,
           2.839
          ],
          "coloraxis": "coloraxis",
          "symbol": "circle"
         },
         "mode": "markers",
         "name": "",
         "orientation": "v",
         "showlegend": false,
         "type": "scatter",
         "x": [
          "Western Europe",
          "Western Europe",
          "Western Europe",
          "Western Europe",
          "North America",
          "Western Europe",
          "Western Europe",
          "Western Europe",
          "Australia and New Zealand",
          "Australia and New Zealand",
          "Middle East and Northern Africa",
          "Latin America and Caribbean",
          "Western Europe",
          "Latin America and Caribbean",
          "North America",
          "Latin America and Caribbean",
          "Western Europe",
          "Western Europe",
          "Western Europe",
          "Middle East and Northern Africa",
          "Western Europe",
          "Middle East and Northern Africa",
          "Latin America and Caribbean",
          "Southeastern Asia",
          "Latin America and Caribbean",
          "Western Europe",
          "Latin America and Caribbean",
          "Middle East and Northern Africa",
          "Western Europe",
          "Latin America and Caribbean",
          "Central and Eastern Europe",
          "Latin America and Caribbean",
          "Latin America and Caribbean",
          "Southeastern Asia",
          "Middle East and Northern Africa",
          "Western Europe",
          "Western Europe",
          "Eastern Asia",
          "Middle East and Northern Africa",
          "Latin America and Caribbean",
          "Latin America and Caribbean",
          "Latin America and Caribbean",
          "Latin America and Caribbean",
          "Central and Eastern Europe",
          "Central and Eastern Europe",
          "Eastern Asia",
          "Eastern Asia",
          "Latin America and Caribbean",
          "Middle East and Northern Africa",
          "Western Europe",
          "Latin America and Caribbean",
          "Central and Eastern Europe",
          "Latin America and Caribbean",
          "Central and Eastern Europe",
          "Central and Eastern Europe",
          "Central and Eastern Europe",
          "Latin America and Caribbean",
          "Latin America and Caribbean",
          "Central and Eastern Europe",
          "Central and Eastern Europe",
          "Southeastern Asia",
          "Central and Eastern Europe",
          "Middle East and Northern Africa",
          "Central and Eastern Europe",
          "Latin America and Caribbean",
          "Western Europe",
          "Western Europe",
          "Middle East and Northern Africa",
          "Central and Eastern Europe",
          "Central and Eastern Europe",
          "Sub-Saharan Africa",
          "Eastern Asia",
          "Central and Eastern Europe",
          "Southeastern Asia",
          "Southeastern Asia",
          "Middle East and Northern Africa",
          "Central and Eastern Europe",
          "Sub-Saharan Africa",
          "Southern Asia",
          "Central and Eastern Europe",
          "Southern Asia",
          "Middle East and Northern Africa",
          "Central and Eastern Europe",
          "Eastern Asia",
          "Sub-Saharan Africa",
          "Central and Eastern Europe",
          "Central and Eastern Europe",
          "Western Europe",
          "Central and Eastern Europe",
          "Southeastern Asia",
          "Sub-Saharan Africa",
          "Middle East and Northern Africa",
          "Central and Eastern Europe",
          "Sub-Saharan Africa",
          "Central and Eastern Europe",
          "Central and Eastern Europe",
          "Sub-Saharan Africa",
          "Latin America and Caribbean",
          "Southeastern Asia",
          "Eastern Asia",
          "Sub-Saharan Africa",
          "Western Europe",
          "Middle East and Northern Africa",
          "Central and Eastern Europe",
          "Latin America and Caribbean",
          "Central and Eastern Europe",
          "Middle East and Northern Africa",
          "Middle East and Northern Africa",
          "Southern Asia",
          "Middle East and Northern Africa",
          "Central and Eastern Europe",
          "Middle East and Northern Africa",
          "Sub-Saharan Africa",
          "Sub-Saharan Africa",
          "Sub-Saharan Africa",
          "Sub-Saharan Africa",
          "Southern Asia",
          "Sub-Saharan Africa",
          "Latin America and Caribbean",
          "Sub-Saharan Africa",
          "Southern Asia",
          "Sub-Saharan Africa",
          "Sub-Saharan Africa",
          "Sub-Saharan Africa",
          "Sub-Saharan Africa",
          "Sub-Saharan Africa",
          "Central and Eastern Europe",
          "Sub-Saharan Africa",
          "Southeastern Asia",
          "Central and Eastern Europe",
          "Sub-Saharan Africa",
          "Southern Asia",
          "Sub-Saharan Africa",
          "Central and Eastern Europe",
          "Middle East and Northern Africa",
          "Middle East and Northern Africa",
          "Sub-Saharan Africa",
          "Sub-Saharan Africa",
          "Sub-Saharan Africa",
          "Sub-Saharan Africa",
          "Sub-Saharan Africa",
          "Sub-Saharan Africa",
          "Sub-Saharan Africa",
          "Sub-Saharan Africa",
          "Southeastern Asia",
          "Sub-Saharan Africa",
          "Sub-Saharan Africa",
          "Sub-Saharan Africa",
          "Sub-Saharan Africa",
          "Sub-Saharan Africa",
          "Sub-Saharan Africa",
          "Sub-Saharan Africa",
          "Southern Asia",
          "Sub-Saharan Africa",
          "Sub-Saharan Africa",
          "Middle East and Northern Africa",
          "Sub-Saharan Africa",
          "Sub-Saharan Africa"
         ],
         "xaxis": "x",
         "y": [
          0.41978,
          0.14145,
          0.48357,
          0.36503,
          0.32957,
          0.41372,
          0.31814,
          0.43844,
          0.42922,
          0.35637,
          0.07785,
          0.10583,
          0.18676,
          0.21312,
          0.1589,
          0.17521,
          0.37798,
          0.28703,
          0.2254,
          0.38583,
          0.32067,
          0.32524,
          0.11069,
          0.4921,
          0.0927,
          0.21843,
          0.12869,
          0.52208,
          0.20646,
          0.08484,
          0.02652,
          0.24558,
          0.0512,
          0.03187,
          0.32524,
          0.06398,
          0.13586,
          0.08129,
          0.25609,
          0.13633,
          0.0114,
          0.11776,
          0.09472,
          0.30826,
          0.03431,
          0.1806,
          0.07857,
          0.1809,
          0.306,
          0.02901,
          0.088,
          0.01615,
          0.08242,
          0.08454,
          0.03787,
          0.01031,
          0.19317,
          0.05989,
          0.1909,
          0.04212,
          0.10501,
          0.0243,
          0.11023,
          0.03005,
          0.02299,
          0.1428,
          0.06146,
          0.17383,
          0.04741,
          0.30844,
          0.07521,
          0.37124,
          0.15184,
          0,
          0.10441,
          0.15746,
          0.04232,
          0.0403,
          0.15445,
          0.16065,
          0.10464,
          0.14293,
          0.14296,
          0.02781,
          0.12468,
          0.00649,
          0.02617,
          0.01078,
          0.06332,
          0.12279,
          0.39928,
          0.08546,
          0.05327,
          0.15603,
          0.06413,
          0.00227,
          0.12504,
          0.14234,
          0.24249,
          0.02666,
          0.0306,
          0.01397,
          0.04582,
          0.02758,
          0.06825,
          0.15072,
          0.06358,
          0.12905,
          0.12569,
          0.05863,
          0.02961,
          0.13788,
          0.08884,
          0.04355,
          0.08079,
          0.06232,
          0.08492,
          0.1466,
          0.17175,
          0.07625,
          0.05907,
          0.15048,
          0.08786,
          0.17461,
          0.05839,
          0.28105,
          0.039,
          0.12474,
          0.19034,
          0.38331,
          0.06977,
          0.09179,
          0.05786,
          0.00872,
          0.06324,
          0.07854,
          0.07122,
          0.12352,
          0.11686,
          0.199,
          0.07267,
          0.10713,
          0.11091,
          0.15639,
          0.07247,
          0.05747,
          0.08124,
          0.08289,
          0.05269,
          0.12139,
          0.17922,
          0.12832,
          0.09719,
          0.55191,
          0.0801,
          0.18906,
          0.10062,
          0.10731
         ],
         "yaxis": "y"
        }
       ],
       "layout": {
        "coloraxis": {
         "colorbar": {
          "title": {
           "text": "Happiness Score"
          }
         },
         "colorscale": [
          [
           0,
           "#0d0887"
          ],
          [
           0.1111111111111111,
           "#46039f"
          ],
          [
           0.2222222222222222,
           "#7201a8"
          ],
          [
           0.3333333333333333,
           "#9c179e"
          ],
          [
           0.4444444444444444,
           "#bd3786"
          ],
          [
           0.5555555555555556,
           "#d8576b"
          ],
          [
           0.6666666666666666,
           "#ed7953"
          ],
          [
           0.7777777777777778,
           "#fb9f3a"
          ],
          [
           0.8888888888888888,
           "#fdca26"
          ],
          [
           1,
           "#f0f921"
          ]
         ]
        },
        "legend": {
         "tracegroupgap": 0
        },
        "margin": {
         "t": 60
        },
        "template": {
         "data": {
          "bar": [
           {
            "error_x": {
             "color": "#2a3f5f"
            },
            "error_y": {
             "color": "#2a3f5f"
            },
            "marker": {
             "line": {
              "color": "#E5ECF6",
              "width": 0.5
             },
             "pattern": {
              "fillmode": "overlay",
              "size": 10,
              "solidity": 0.2
             }
            },
            "type": "bar"
           }
          ],
          "barpolar": [
           {
            "marker": {
             "line": {
              "color": "#E5ECF6",
              "width": 0.5
             },
             "pattern": {
              "fillmode": "overlay",
              "size": 10,
              "solidity": 0.2
             }
            },
            "type": "barpolar"
           }
          ],
          "carpet": [
           {
            "aaxis": {
             "endlinecolor": "#2a3f5f",
             "gridcolor": "white",
             "linecolor": "white",
             "minorgridcolor": "white",
             "startlinecolor": "#2a3f5f"
            },
            "baxis": {
             "endlinecolor": "#2a3f5f",
             "gridcolor": "white",
             "linecolor": "white",
             "minorgridcolor": "white",
             "startlinecolor": "#2a3f5f"
            },
            "type": "carpet"
           }
          ],
          "choropleth": [
           {
            "colorbar": {
             "outlinewidth": 0,
             "ticks": ""
            },
            "type": "choropleth"
           }
          ],
          "contour": [
           {
            "colorbar": {
             "outlinewidth": 0,
             "ticks": ""
            },
            "colorscale": [
             [
              0,
              "#0d0887"
             ],
             [
              0.1111111111111111,
              "#46039f"
             ],
             [
              0.2222222222222222,
              "#7201a8"
             ],
             [
              0.3333333333333333,
              "#9c179e"
             ],
             [
              0.4444444444444444,
              "#bd3786"
             ],
             [
              0.5555555555555556,
              "#d8576b"
             ],
             [
              0.6666666666666666,
              "#ed7953"
             ],
             [
              0.7777777777777778,
              "#fb9f3a"
             ],
             [
              0.8888888888888888,
              "#fdca26"
             ],
             [
              1,
              "#f0f921"
             ]
            ],
            "type": "contour"
           }
          ],
          "contourcarpet": [
           {
            "colorbar": {
             "outlinewidth": 0,
             "ticks": ""
            },
            "type": "contourcarpet"
           }
          ],
          "heatmap": [
           {
            "colorbar": {
             "outlinewidth": 0,
             "ticks": ""
            },
            "colorscale": [
             [
              0,
              "#0d0887"
             ],
             [
              0.1111111111111111,
              "#46039f"
             ],
             [
              0.2222222222222222,
              "#7201a8"
             ],
             [
              0.3333333333333333,
              "#9c179e"
             ],
             [
              0.4444444444444444,
              "#bd3786"
             ],
             [
              0.5555555555555556,
              "#d8576b"
             ],
             [
              0.6666666666666666,
              "#ed7953"
             ],
             [
              0.7777777777777778,
              "#fb9f3a"
             ],
             [
              0.8888888888888888,
              "#fdca26"
             ],
             [
              1,
              "#f0f921"
             ]
            ],
            "type": "heatmap"
           }
          ],
          "heatmapgl": [
           {
            "colorbar": {
             "outlinewidth": 0,
             "ticks": ""
            },
            "colorscale": [
             [
              0,
              "#0d0887"
             ],
             [
              0.1111111111111111,
              "#46039f"
             ],
             [
              0.2222222222222222,
              "#7201a8"
             ],
             [
              0.3333333333333333,
              "#9c179e"
             ],
             [
              0.4444444444444444,
              "#bd3786"
             ],
             [
              0.5555555555555556,
              "#d8576b"
             ],
             [
              0.6666666666666666,
              "#ed7953"
             ],
             [
              0.7777777777777778,
              "#fb9f3a"
             ],
             [
              0.8888888888888888,
              "#fdca26"
             ],
             [
              1,
              "#f0f921"
             ]
            ],
            "type": "heatmapgl"
           }
          ],
          "histogram": [
           {
            "marker": {
             "pattern": {
              "fillmode": "overlay",
              "size": 10,
              "solidity": 0.2
             }
            },
            "type": "histogram"
           }
          ],
          "histogram2d": [
           {
            "colorbar": {
             "outlinewidth": 0,
             "ticks": ""
            },
            "colorscale": [
             [
              0,
              "#0d0887"
             ],
             [
              0.1111111111111111,
              "#46039f"
             ],
             [
              0.2222222222222222,
              "#7201a8"
             ],
             [
              0.3333333333333333,
              "#9c179e"
             ],
             [
              0.4444444444444444,
              "#bd3786"
             ],
             [
              0.5555555555555556,
              "#d8576b"
             ],
             [
              0.6666666666666666,
              "#ed7953"
             ],
             [
              0.7777777777777778,
              "#fb9f3a"
             ],
             [
              0.8888888888888888,
              "#fdca26"
             ],
             [
              1,
              "#f0f921"
             ]
            ],
            "type": "histogram2d"
           }
          ],
          "histogram2dcontour": [
           {
            "colorbar": {
             "outlinewidth": 0,
             "ticks": ""
            },
            "colorscale": [
             [
              0,
              "#0d0887"
             ],
             [
              0.1111111111111111,
              "#46039f"
             ],
             [
              0.2222222222222222,
              "#7201a8"
             ],
             [
              0.3333333333333333,
              "#9c179e"
             ],
             [
              0.4444444444444444,
              "#bd3786"
             ],
             [
              0.5555555555555556,
              "#d8576b"
             ],
             [
              0.6666666666666666,
              "#ed7953"
             ],
             [
              0.7777777777777778,
              "#fb9f3a"
             ],
             [
              0.8888888888888888,
              "#fdca26"
             ],
             [
              1,
              "#f0f921"
             ]
            ],
            "type": "histogram2dcontour"
           }
          ],
          "mesh3d": [
           {
            "colorbar": {
             "outlinewidth": 0,
             "ticks": ""
            },
            "type": "mesh3d"
           }
          ],
          "parcoords": [
           {
            "line": {
             "colorbar": {
              "outlinewidth": 0,
              "ticks": ""
             }
            },
            "type": "parcoords"
           }
          ],
          "pie": [
           {
            "automargin": true,
            "type": "pie"
           }
          ],
          "scatter": [
           {
            "fillpattern": {
             "fillmode": "overlay",
             "size": 10,
             "solidity": 0.2
            },
            "type": "scatter"
           }
          ],
          "scatter3d": [
           {
            "line": {
             "colorbar": {
              "outlinewidth": 0,
              "ticks": ""
             }
            },
            "marker": {
             "colorbar": {
              "outlinewidth": 0,
              "ticks": ""
             }
            },
            "type": "scatter3d"
           }
          ],
          "scattercarpet": [
           {
            "marker": {
             "colorbar": {
              "outlinewidth": 0,
              "ticks": ""
             }
            },
            "type": "scattercarpet"
           }
          ],
          "scattergeo": [
           {
            "marker": {
             "colorbar": {
              "outlinewidth": 0,
              "ticks": ""
             }
            },
            "type": "scattergeo"
           }
          ],
          "scattergl": [
           {
            "marker": {
             "colorbar": {
              "outlinewidth": 0,
              "ticks": ""
             }
            },
            "type": "scattergl"
           }
          ],
          "scattermapbox": [
           {
            "marker": {
             "colorbar": {
              "outlinewidth": 0,
              "ticks": ""
             }
            },
            "type": "scattermapbox"
           }
          ],
          "scatterpolar": [
           {
            "marker": {
             "colorbar": {
              "outlinewidth": 0,
              "ticks": ""
             }
            },
            "type": "scatterpolar"
           }
          ],
          "scatterpolargl": [
           {
            "marker": {
             "colorbar": {
              "outlinewidth": 0,
              "ticks": ""
             }
            },
            "type": "scatterpolargl"
           }
          ],
          "scatterternary": [
           {
            "marker": {
             "colorbar": {
              "outlinewidth": 0,
              "ticks": ""
             }
            },
            "type": "scatterternary"
           }
          ],
          "surface": [
           {
            "colorbar": {
             "outlinewidth": 0,
             "ticks": ""
            },
            "colorscale": [
             [
              0,
              "#0d0887"
             ],
             [
              0.1111111111111111,
              "#46039f"
             ],
             [
              0.2222222222222222,
              "#7201a8"
             ],
             [
              0.3333333333333333,
              "#9c179e"
             ],
             [
              0.4444444444444444,
              "#bd3786"
             ],
             [
              0.5555555555555556,
              "#d8576b"
             ],
             [
              0.6666666666666666,
              "#ed7953"
             ],
             [
              0.7777777777777778,
              "#fb9f3a"
             ],
             [
              0.8888888888888888,
              "#fdca26"
             ],
             [
              1,
              "#f0f921"
             ]
            ],
            "type": "surface"
           }
          ],
          "table": [
           {
            "cells": {
             "fill": {
              "color": "#EBF0F8"
             },
             "line": {
              "color": "white"
             }
            },
            "header": {
             "fill": {
              "color": "#C8D4E3"
             },
             "line": {
              "color": "white"
             }
            },
            "type": "table"
           }
          ]
         },
         "layout": {
          "annotationdefaults": {
           "arrowcolor": "#2a3f5f",
           "arrowhead": 0,
           "arrowwidth": 1
          },
          "autotypenumbers": "strict",
          "coloraxis": {
           "colorbar": {
            "outlinewidth": 0,
            "ticks": ""
           }
          },
          "colorscale": {
           "diverging": [
            [
             0,
             "#8e0152"
            ],
            [
             0.1,
             "#c51b7d"
            ],
            [
             0.2,
             "#de77ae"
            ],
            [
             0.3,
             "#f1b6da"
            ],
            [
             0.4,
             "#fde0ef"
            ],
            [
             0.5,
             "#f7f7f7"
            ],
            [
             0.6,
             "#e6f5d0"
            ],
            [
             0.7,
             "#b8e186"
            ],
            [
             0.8,
             "#7fbc41"
            ],
            [
             0.9,
             "#4d9221"
            ],
            [
             1,
             "#276419"
            ]
           ],
           "sequential": [
            [
             0,
             "#0d0887"
            ],
            [
             0.1111111111111111,
             "#46039f"
            ],
            [
             0.2222222222222222,
             "#7201a8"
            ],
            [
             0.3333333333333333,
             "#9c179e"
            ],
            [
             0.4444444444444444,
             "#bd3786"
            ],
            [
             0.5555555555555556,
             "#d8576b"
            ],
            [
             0.6666666666666666,
             "#ed7953"
            ],
            [
             0.7777777777777778,
             "#fb9f3a"
            ],
            [
             0.8888888888888888,
             "#fdca26"
            ],
            [
             1,
             "#f0f921"
            ]
           ],
           "sequentialminus": [
            [
             0,
             "#0d0887"
            ],
            [
             0.1111111111111111,
             "#46039f"
            ],
            [
             0.2222222222222222,
             "#7201a8"
            ],
            [
             0.3333333333333333,
             "#9c179e"
            ],
            [
             0.4444444444444444,
             "#bd3786"
            ],
            [
             0.5555555555555556,
             "#d8576b"
            ],
            [
             0.6666666666666666,
             "#ed7953"
            ],
            [
             0.7777777777777778,
             "#fb9f3a"
            ],
            [
             0.8888888888888888,
             "#fdca26"
            ],
            [
             1,
             "#f0f921"
            ]
           ]
          },
          "colorway": [
           "#636efa",
           "#EF553B",
           "#00cc96",
           "#ab63fa",
           "#FFA15A",
           "#19d3f3",
           "#FF6692",
           "#B6E880",
           "#FF97FF",
           "#FECB52"
          ],
          "font": {
           "color": "#2a3f5f"
          },
          "geo": {
           "bgcolor": "white",
           "lakecolor": "white",
           "landcolor": "#E5ECF6",
           "showlakes": true,
           "showland": true,
           "subunitcolor": "white"
          },
          "hoverlabel": {
           "align": "left"
          },
          "hovermode": "closest",
          "mapbox": {
           "style": "light"
          },
          "paper_bgcolor": "white",
          "plot_bgcolor": "#E5ECF6",
          "polar": {
           "angularaxis": {
            "gridcolor": "white",
            "linecolor": "white",
            "ticks": ""
           },
           "bgcolor": "#E5ECF6",
           "radialaxis": {
            "gridcolor": "white",
            "linecolor": "white",
            "ticks": ""
           }
          },
          "scene": {
           "xaxis": {
            "backgroundcolor": "#E5ECF6",
            "gridcolor": "white",
            "gridwidth": 2,
            "linecolor": "white",
            "showbackground": true,
            "ticks": "",
            "zerolinecolor": "white"
           },
           "yaxis": {
            "backgroundcolor": "#E5ECF6",
            "gridcolor": "white",
            "gridwidth": 2,
            "linecolor": "white",
            "showbackground": true,
            "ticks": "",
            "zerolinecolor": "white"
           },
           "zaxis": {
            "backgroundcolor": "#E5ECF6",
            "gridcolor": "white",
            "gridwidth": 2,
            "linecolor": "white",
            "showbackground": true,
            "ticks": "",
            "zerolinecolor": "white"
           }
          },
          "shapedefaults": {
           "line": {
            "color": "#2a3f5f"
           }
          },
          "ternary": {
           "aaxis": {
            "gridcolor": "white",
            "linecolor": "white",
            "ticks": ""
           },
           "baxis": {
            "gridcolor": "white",
            "linecolor": "white",
            "ticks": ""
           },
           "bgcolor": "#E5ECF6",
           "caxis": {
            "gridcolor": "white",
            "linecolor": "white",
            "ticks": ""
           }
          },
          "title": {
           "x": 0.05
          },
          "xaxis": {
           "automargin": true,
           "gridcolor": "white",
           "linecolor": "white",
           "ticks": "",
           "title": {
            "standoff": 15
           },
           "zerolinecolor": "white",
           "zerolinewidth": 2
          },
          "yaxis": {
           "automargin": true,
           "gridcolor": "white",
           "linecolor": "white",
           "ticks": "",
           "title": {
            "standoff": 15
           },
           "zerolinecolor": "white",
           "zerolinewidth": 2
          }
         }
        },
        "xaxis": {
         "anchor": "y",
         "domain": [
          0,
          1
         ],
         "title": {
          "text": "Region"
         }
        },
        "yaxis": {
         "anchor": "x",
         "domain": [
          0,
          1
         ],
         "title": {
          "text": "Trust (Government Corruption)"
         }
        }
       }
      },
      "text/html": [
       "<div>                            <div id=\"82e56652-f7e0-4158-b8c9-5d737c5a8494\" class=\"plotly-graph-div\" style=\"height:525px; width:100%;\"></div>            <script type=\"text/javascript\">                require([\"plotly\"], function(Plotly) {                    window.PLOTLYENV=window.PLOTLYENV || {};                                    if (document.getElementById(\"82e56652-f7e0-4158-b8c9-5d737c5a8494\")) {                    Plotly.newPlot(                        \"82e56652-f7e0-4158-b8c9-5d737c5a8494\",                        [{\"hovertemplate\":\"Region=%{x}<br>Trust (Government Corruption)=%{y}<br>Happiness Score=%{marker.color}<extra></extra>\",\"legendgroup\":\"\",\"marker\":{\"color\":[7.587,7.561,7.527,7.522,7.427,7.406,7.378,7.364,7.286,7.284,7.278,7.226,7.2,7.187,7.119,6.983,6.946,6.94,6.937,6.901,6.867,6.853,6.81,6.798,6.786,6.75,6.67,6.611,6.575,6.574,6.505,6.485,6.477,6.455,6.411,6.329,6.302,6.298,6.295,6.269,6.168,6.13,6.123,6.003,5.995,5.987,5.984,5.975,5.96,5.948,5.89,5.889,5.878,5.855,5.848,5.833,5.828,5.824,5.813,5.791,5.77,5.759,5.754,5.716,5.709,5.695,5.689,5.605,5.589,5.548,5.477,5.474,5.429,5.399,5.36,5.332,5.286,5.268,5.253,5.212,5.194,5.192,5.192,5.14,5.129,5.124,5.123,5.102,5.098,5.073,5.057,5.013,5.007,4.971,4.959,4.949,4.898,4.885,4.876,4.874,4.867,4.857,4.839,4.8,4.788,4.786,4.739,4.715,4.694,4.686,4.681,4.677,4.642,4.633,4.61,4.571,4.565,4.55,4.518,4.517,4.514,4.512,4.507,4.436,4.419,4.369,4.35,4.332,4.307,4.297,4.292,4.271,4.252,4.218,4.194,4.077,4.033,3.995,3.989,3.956,3.931,3.904,3.896,3.845,3.819,3.781,3.681,3.678,3.667,3.656,3.655,3.587,3.575,3.465,3.34,3.006,2.905,2.839],\"coloraxis\":\"coloraxis\",\"symbol\":\"circle\"},\"mode\":\"markers\",\"name\":\"\",\"orientation\":\"v\",\"showlegend\":false,\"x\":[\"Western Europe\",\"Western Europe\",\"Western Europe\",\"Western Europe\",\"North America\",\"Western Europe\",\"Western Europe\",\"Western Europe\",\"Australia and New Zealand\",\"Australia and New Zealand\",\"Middle East and Northern Africa\",\"Latin America and Caribbean\",\"Western Europe\",\"Latin America and Caribbean\",\"North America\",\"Latin America and Caribbean\",\"Western Europe\",\"Western Europe\",\"Western Europe\",\"Middle East and Northern Africa\",\"Western Europe\",\"Middle East and Northern Africa\",\"Latin America and Caribbean\",\"Southeastern Asia\",\"Latin America and Caribbean\",\"Western Europe\",\"Latin America and Caribbean\",\"Middle East and Northern Africa\",\"Western Europe\",\"Latin America and Caribbean\",\"Central and Eastern Europe\",\"Latin America and Caribbean\",\"Latin America and Caribbean\",\"Southeastern Asia\",\"Middle East and Northern Africa\",\"Western Europe\",\"Western Europe\",\"Eastern Asia\",\"Middle East and Northern Africa\",\"Latin America and Caribbean\",\"Latin America and Caribbean\",\"Latin America and Caribbean\",\"Latin America and Caribbean\",\"Central and Eastern Europe\",\"Central and Eastern Europe\",\"Eastern Asia\",\"Eastern Asia\",\"Latin America and Caribbean\",\"Middle East and Northern Africa\",\"Western Europe\",\"Latin America and Caribbean\",\"Central and Eastern Europe\",\"Latin America and Caribbean\",\"Central and Eastern Europe\",\"Central and Eastern Europe\",\"Central and Eastern Europe\",\"Latin America and Caribbean\",\"Latin America and Caribbean\",\"Central and Eastern Europe\",\"Central and Eastern Europe\",\"Southeastern Asia\",\"Central and Eastern Europe\",\"Middle East and Northern Africa\",\"Central and Eastern Europe\",\"Latin America and Caribbean\",\"Western Europe\",\"Western Europe\",\"Middle East and Northern Africa\",\"Central and Eastern Europe\",\"Central and Eastern Europe\",\"Sub-Saharan Africa\",\"Eastern Asia\",\"Central and Eastern Europe\",\"Southeastern Asia\",\"Southeastern Asia\",\"Middle East and Northern Africa\",\"Central and Eastern Europe\",\"Sub-Saharan Africa\",\"Southern Asia\",\"Central and Eastern Europe\",\"Southern Asia\",\"Middle East and Northern Africa\",\"Central and Eastern Europe\",\"Eastern Asia\",\"Sub-Saharan Africa\",\"Central and Eastern Europe\",\"Central and Eastern Europe\",\"Western Europe\",\"Central and Eastern Europe\",\"Southeastern Asia\",\"Sub-Saharan Africa\",\"Middle East and Northern Africa\",\"Central and Eastern Europe\",\"Sub-Saharan Africa\",\"Central and Eastern Europe\",\"Central and Eastern Europe\",\"Sub-Saharan Africa\",\"Latin America and Caribbean\",\"Southeastern Asia\",\"Eastern Asia\",\"Sub-Saharan Africa\",\"Western Europe\",\"Middle East and Northern Africa\",\"Central and Eastern Europe\",\"Latin America and Caribbean\",\"Central and Eastern Europe\",\"Middle East and Northern Africa\",\"Middle East and Northern Africa\",\"Southern Asia\",\"Middle East and Northern Africa\",\"Central and Eastern Europe\",\"Middle East and Northern Africa\",\"Sub-Saharan Africa\",\"Sub-Saharan Africa\",\"Sub-Saharan Africa\",\"Sub-Saharan Africa\",\"Southern Asia\",\"Sub-Saharan Africa\",\"Latin America and Caribbean\",\"Sub-Saharan Africa\",\"Southern Asia\",\"Sub-Saharan Africa\",\"Sub-Saharan Africa\",\"Sub-Saharan Africa\",\"Sub-Saharan Africa\",\"Sub-Saharan Africa\",\"Central and Eastern Europe\",\"Sub-Saharan Africa\",\"Southeastern Asia\",\"Central and Eastern Europe\",\"Sub-Saharan Africa\",\"Southern Asia\",\"Sub-Saharan Africa\",\"Central and Eastern Europe\",\"Middle East and Northern Africa\",\"Middle East and Northern Africa\",\"Sub-Saharan Africa\",\"Sub-Saharan Africa\",\"Sub-Saharan Africa\",\"Sub-Saharan Africa\",\"Sub-Saharan Africa\",\"Sub-Saharan Africa\",\"Sub-Saharan Africa\",\"Sub-Saharan Africa\",\"Southeastern Asia\",\"Sub-Saharan Africa\",\"Sub-Saharan Africa\",\"Sub-Saharan Africa\",\"Sub-Saharan Africa\",\"Sub-Saharan Africa\",\"Sub-Saharan Africa\",\"Sub-Saharan Africa\",\"Southern Asia\",\"Sub-Saharan Africa\",\"Sub-Saharan Africa\",\"Middle East and Northern Africa\",\"Sub-Saharan Africa\",\"Sub-Saharan Africa\"],\"xaxis\":\"x\",\"y\":[0.41978,0.14145,0.48357,0.36503,0.32957,0.41372,0.31814,0.43844,0.42922,0.35637,0.07785,0.10583,0.18676,0.21312,0.1589,0.17521,0.37798,0.28703,0.2254,0.38583,0.32067,0.32524,0.11069,0.4921,0.0927,0.21843,0.12869,0.52208,0.20646,0.08484,0.02652,0.24558,0.0512,0.03187,0.32524,0.06398,0.13586,0.08129,0.25609,0.13633,0.0114,0.11776,0.09472,0.30826,0.03431,0.1806,0.07857,0.1809,0.306,0.02901,0.088,0.01615,0.08242,0.08454,0.03787,0.01031,0.19317,0.05989,0.1909,0.04212,0.10501,0.0243,0.11023,0.03005,0.02299,0.1428,0.06146,0.17383,0.04741,0.30844,0.07521,0.37124,0.15184,0.0,0.10441,0.15746,0.04232,0.0403,0.15445,0.16065,0.10464,0.14293,0.14296,0.02781,0.12468,0.00649,0.02617,0.01078,0.06332,0.12279,0.39928,0.08546,0.05327,0.15603,0.06413,0.00227,0.12504,0.14234,0.24249,0.02666,0.0306,0.01397,0.04582,0.02758,0.06825,0.15072,0.06358,0.12905,0.12569,0.05863,0.02961,0.13788,0.08884,0.04355,0.08079,0.06232,0.08492,0.1466,0.17175,0.07625,0.05907,0.15048,0.08786,0.17461,0.05839,0.28105,0.039,0.12474,0.19034,0.38331,0.06977,0.09179,0.05786,0.00872,0.06324,0.07854,0.07122,0.12352,0.11686,0.199,0.07267,0.10713,0.11091,0.15639,0.07247,0.05747,0.08124,0.08289,0.05269,0.12139,0.17922,0.12832,0.09719,0.55191,0.0801,0.18906,0.10062,0.10731],\"yaxis\":\"y\",\"type\":\"scatter\"}],                        {\"template\":{\"data\":{\"histogram2dcontour\":[{\"type\":\"histogram2dcontour\",\"colorbar\":{\"outlinewidth\":0,\"ticks\":\"\"},\"colorscale\":[[0.0,\"#0d0887\"],[0.1111111111111111,\"#46039f\"],[0.2222222222222222,\"#7201a8\"],[0.3333333333333333,\"#9c179e\"],[0.4444444444444444,\"#bd3786\"],[0.5555555555555556,\"#d8576b\"],[0.6666666666666666,\"#ed7953\"],[0.7777777777777778,\"#fb9f3a\"],[0.8888888888888888,\"#fdca26\"],[1.0,\"#f0f921\"]]}],\"choropleth\":[{\"type\":\"choropleth\",\"colorbar\":{\"outlinewidth\":0,\"ticks\":\"\"}}],\"histogram2d\":[{\"type\":\"histogram2d\",\"colorbar\":{\"outlinewidth\":0,\"ticks\":\"\"},\"colorscale\":[[0.0,\"#0d0887\"],[0.1111111111111111,\"#46039f\"],[0.2222222222222222,\"#7201a8\"],[0.3333333333333333,\"#9c179e\"],[0.4444444444444444,\"#bd3786\"],[0.5555555555555556,\"#d8576b\"],[0.6666666666666666,\"#ed7953\"],[0.7777777777777778,\"#fb9f3a\"],[0.8888888888888888,\"#fdca26\"],[1.0,\"#f0f921\"]]}],\"heatmap\":[{\"type\":\"heatmap\",\"colorbar\":{\"outlinewidth\":0,\"ticks\":\"\"},\"colorscale\":[[0.0,\"#0d0887\"],[0.1111111111111111,\"#46039f\"],[0.2222222222222222,\"#7201a8\"],[0.3333333333333333,\"#9c179e\"],[0.4444444444444444,\"#bd3786\"],[0.5555555555555556,\"#d8576b\"],[0.6666666666666666,\"#ed7953\"],[0.7777777777777778,\"#fb9f3a\"],[0.8888888888888888,\"#fdca26\"],[1.0,\"#f0f921\"]]}],\"heatmapgl\":[{\"type\":\"heatmapgl\",\"colorbar\":{\"outlinewidth\":0,\"ticks\":\"\"},\"colorscale\":[[0.0,\"#0d0887\"],[0.1111111111111111,\"#46039f\"],[0.2222222222222222,\"#7201a8\"],[0.3333333333333333,\"#9c179e\"],[0.4444444444444444,\"#bd3786\"],[0.5555555555555556,\"#d8576b\"],[0.6666666666666666,\"#ed7953\"],[0.7777777777777778,\"#fb9f3a\"],[0.8888888888888888,\"#fdca26\"],[1.0,\"#f0f921\"]]}],\"contourcarpet\":[{\"type\":\"contourcarpet\",\"colorbar\":{\"outlinewidth\":0,\"ticks\":\"\"}}],\"contour\":[{\"type\":\"contour\",\"colorbar\":{\"outlinewidth\":0,\"ticks\":\"\"},\"colorscale\":[[0.0,\"#0d0887\"],[0.1111111111111111,\"#46039f\"],[0.2222222222222222,\"#7201a8\"],[0.3333333333333333,\"#9c179e\"],[0.4444444444444444,\"#bd3786\"],[0.5555555555555556,\"#d8576b\"],[0.6666666666666666,\"#ed7953\"],[0.7777777777777778,\"#fb9f3a\"],[0.8888888888888888,\"#fdca26\"],[1.0,\"#f0f921\"]]}],\"surface\":[{\"type\":\"surface\",\"colorbar\":{\"outlinewidth\":0,\"ticks\":\"\"},\"colorscale\":[[0.0,\"#0d0887\"],[0.1111111111111111,\"#46039f\"],[0.2222222222222222,\"#7201a8\"],[0.3333333333333333,\"#9c179e\"],[0.4444444444444444,\"#bd3786\"],[0.5555555555555556,\"#d8576b\"],[0.6666666666666666,\"#ed7953\"],[0.7777777777777778,\"#fb9f3a\"],[0.8888888888888888,\"#fdca26\"],[1.0,\"#f0f921\"]]}],\"mesh3d\":[{\"type\":\"mesh3d\",\"colorbar\":{\"outlinewidth\":0,\"ticks\":\"\"}}],\"scatter\":[{\"fillpattern\":{\"fillmode\":\"overlay\",\"size\":10,\"solidity\":0.2},\"type\":\"scatter\"}],\"parcoords\":[{\"type\":\"parcoords\",\"line\":{\"colorbar\":{\"outlinewidth\":0,\"ticks\":\"\"}}}],\"scatterpolargl\":[{\"type\":\"scatterpolargl\",\"marker\":{\"colorbar\":{\"outlinewidth\":0,\"ticks\":\"\"}}}],\"bar\":[{\"error_x\":{\"color\":\"#2a3f5f\"},\"error_y\":{\"color\":\"#2a3f5f\"},\"marker\":{\"line\":{\"color\":\"#E5ECF6\",\"width\":0.5},\"pattern\":{\"fillmode\":\"overlay\",\"size\":10,\"solidity\":0.2}},\"type\":\"bar\"}],\"scattergeo\":[{\"type\":\"scattergeo\",\"marker\":{\"colorbar\":{\"outlinewidth\":0,\"ticks\":\"\"}}}],\"scatterpolar\":[{\"type\":\"scatterpolar\",\"marker\":{\"colorbar\":{\"outlinewidth\":0,\"ticks\":\"\"}}}],\"histogram\":[{\"marker\":{\"pattern\":{\"fillmode\":\"overlay\",\"size\":10,\"solidity\":0.2}},\"type\":\"histogram\"}],\"scattergl\":[{\"type\":\"scattergl\",\"marker\":{\"colorbar\":{\"outlinewidth\":0,\"ticks\":\"\"}}}],\"scatter3d\":[{\"type\":\"scatter3d\",\"line\":{\"colorbar\":{\"outlinewidth\":0,\"ticks\":\"\"}},\"marker\":{\"colorbar\":{\"outlinewidth\":0,\"ticks\":\"\"}}}],\"scattermapbox\":[{\"type\":\"scattermapbox\",\"marker\":{\"colorbar\":{\"outlinewidth\":0,\"ticks\":\"\"}}}],\"scatterternary\":[{\"type\":\"scatterternary\",\"marker\":{\"colorbar\":{\"outlinewidth\":0,\"ticks\":\"\"}}}],\"scattercarpet\":[{\"type\":\"scattercarpet\",\"marker\":{\"colorbar\":{\"outlinewidth\":0,\"ticks\":\"\"}}}],\"carpet\":[{\"aaxis\":{\"endlinecolor\":\"#2a3f5f\",\"gridcolor\":\"white\",\"linecolor\":\"white\",\"minorgridcolor\":\"white\",\"startlinecolor\":\"#2a3f5f\"},\"baxis\":{\"endlinecolor\":\"#2a3f5f\",\"gridcolor\":\"white\",\"linecolor\":\"white\",\"minorgridcolor\":\"white\",\"startlinecolor\":\"#2a3f5f\"},\"type\":\"carpet\"}],\"table\":[{\"cells\":{\"fill\":{\"color\":\"#EBF0F8\"},\"line\":{\"color\":\"white\"}},\"header\":{\"fill\":{\"color\":\"#C8D4E3\"},\"line\":{\"color\":\"white\"}},\"type\":\"table\"}],\"barpolar\":[{\"marker\":{\"line\":{\"color\":\"#E5ECF6\",\"width\":0.5},\"pattern\":{\"fillmode\":\"overlay\",\"size\":10,\"solidity\":0.2}},\"type\":\"barpolar\"}],\"pie\":[{\"automargin\":true,\"type\":\"pie\"}]},\"layout\":{\"autotypenumbers\":\"strict\",\"colorway\":[\"#636efa\",\"#EF553B\",\"#00cc96\",\"#ab63fa\",\"#FFA15A\",\"#19d3f3\",\"#FF6692\",\"#B6E880\",\"#FF97FF\",\"#FECB52\"],\"font\":{\"color\":\"#2a3f5f\"},\"hovermode\":\"closest\",\"hoverlabel\":{\"align\":\"left\"},\"paper_bgcolor\":\"white\",\"plot_bgcolor\":\"#E5ECF6\",\"polar\":{\"bgcolor\":\"#E5ECF6\",\"angularaxis\":{\"gridcolor\":\"white\",\"linecolor\":\"white\",\"ticks\":\"\"},\"radialaxis\":{\"gridcolor\":\"white\",\"linecolor\":\"white\",\"ticks\":\"\"}},\"ternary\":{\"bgcolor\":\"#E5ECF6\",\"aaxis\":{\"gridcolor\":\"white\",\"linecolor\":\"white\",\"ticks\":\"\"},\"baxis\":{\"gridcolor\":\"white\",\"linecolor\":\"white\",\"ticks\":\"\"},\"caxis\":{\"gridcolor\":\"white\",\"linecolor\":\"white\",\"ticks\":\"\"}},\"coloraxis\":{\"colorbar\":{\"outlinewidth\":0,\"ticks\":\"\"}},\"colorscale\":{\"sequential\":[[0.0,\"#0d0887\"],[0.1111111111111111,\"#46039f\"],[0.2222222222222222,\"#7201a8\"],[0.3333333333333333,\"#9c179e\"],[0.4444444444444444,\"#bd3786\"],[0.5555555555555556,\"#d8576b\"],[0.6666666666666666,\"#ed7953\"],[0.7777777777777778,\"#fb9f3a\"],[0.8888888888888888,\"#fdca26\"],[1.0,\"#f0f921\"]],\"sequentialminus\":[[0.0,\"#0d0887\"],[0.1111111111111111,\"#46039f\"],[0.2222222222222222,\"#7201a8\"],[0.3333333333333333,\"#9c179e\"],[0.4444444444444444,\"#bd3786\"],[0.5555555555555556,\"#d8576b\"],[0.6666666666666666,\"#ed7953\"],[0.7777777777777778,\"#fb9f3a\"],[0.8888888888888888,\"#fdca26\"],[1.0,\"#f0f921\"]],\"diverging\":[[0,\"#8e0152\"],[0.1,\"#c51b7d\"],[0.2,\"#de77ae\"],[0.3,\"#f1b6da\"],[0.4,\"#fde0ef\"],[0.5,\"#f7f7f7\"],[0.6,\"#e6f5d0\"],[0.7,\"#b8e186\"],[0.8,\"#7fbc41\"],[0.9,\"#4d9221\"],[1,\"#276419\"]]},\"xaxis\":{\"gridcolor\":\"white\",\"linecolor\":\"white\",\"ticks\":\"\",\"title\":{\"standoff\":15},\"zerolinecolor\":\"white\",\"automargin\":true,\"zerolinewidth\":2},\"yaxis\":{\"gridcolor\":\"white\",\"linecolor\":\"white\",\"ticks\":\"\",\"title\":{\"standoff\":15},\"zerolinecolor\":\"white\",\"automargin\":true,\"zerolinewidth\":2},\"scene\":{\"xaxis\":{\"backgroundcolor\":\"#E5ECF6\",\"gridcolor\":\"white\",\"linecolor\":\"white\",\"showbackground\":true,\"ticks\":\"\",\"zerolinecolor\":\"white\",\"gridwidth\":2},\"yaxis\":{\"backgroundcolor\":\"#E5ECF6\",\"gridcolor\":\"white\",\"linecolor\":\"white\",\"showbackground\":true,\"ticks\":\"\",\"zerolinecolor\":\"white\",\"gridwidth\":2},\"zaxis\":{\"backgroundcolor\":\"#E5ECF6\",\"gridcolor\":\"white\",\"linecolor\":\"white\",\"showbackground\":true,\"ticks\":\"\",\"zerolinecolor\":\"white\",\"gridwidth\":2}},\"shapedefaults\":{\"line\":{\"color\":\"#2a3f5f\"}},\"annotationdefaults\":{\"arrowcolor\":\"#2a3f5f\",\"arrowhead\":0,\"arrowwidth\":1},\"geo\":{\"bgcolor\":\"white\",\"landcolor\":\"#E5ECF6\",\"subunitcolor\":\"white\",\"showland\":true,\"showlakes\":true,\"lakecolor\":\"white\"},\"title\":{\"x\":0.05},\"mapbox\":{\"style\":\"light\"}}},\"xaxis\":{\"anchor\":\"y\",\"domain\":[0.0,1.0],\"title\":{\"text\":\"Region\"}},\"yaxis\":{\"anchor\":\"x\",\"domain\":[0.0,1.0],\"title\":{\"text\":\"Trust (Government Corruption)\"}},\"coloraxis\":{\"colorbar\":{\"title\":{\"text\":\"Happiness Score\"}},\"colorscale\":[[0.0,\"#0d0887\"],[0.1111111111111111,\"#46039f\"],[0.2222222222222222,\"#7201a8\"],[0.3333333333333333,\"#9c179e\"],[0.4444444444444444,\"#bd3786\"],[0.5555555555555556,\"#d8576b\"],[0.6666666666666666,\"#ed7953\"],[0.7777777777777778,\"#fb9f3a\"],[0.8888888888888888,\"#fdca26\"],[1.0,\"#f0f921\"]]},\"legend\":{\"tracegroupgap\":0},\"margin\":{\"t\":60}},                        {\"responsive\": true}                    ).then(function(){\n",
       "                            \n",
       "var gd = document.getElementById('82e56652-f7e0-4158-b8c9-5d737c5a8494');\n",
       "var x = new MutationObserver(function (mutations, observer) {{\n",
       "        var display = window.getComputedStyle(gd).display;\n",
       "        if (!display || display === 'none') {{\n",
       "            console.log([gd, 'removed!']);\n",
       "            Plotly.purge(gd);\n",
       "            observer.disconnect();\n",
       "        }}\n",
       "}});\n",
       "\n",
       "// Listen for the removal of the full notebook cells\n",
       "var notebookContainer = gd.closest('#notebook-container');\n",
       "if (notebookContainer) {{\n",
       "    x.observe(notebookContainer, {childList: true});\n",
       "}}\n",
       "\n",
       "// Listen for the clearing of the current output cell\n",
       "var outputEl = gd.closest('.output');\n",
       "if (outputEl) {{\n",
       "    x.observe(outputEl, {childList: true});\n",
       "}}\n",
       "\n",
       "                        })                };                });            </script>        </div>"
      ]
     },
     "metadata": {},
     "output_type": "display_data"
    },
    {
     "data": {
      "text/plain": [
       "<Figure size 1080x504 with 0 Axes>"
      ]
     },
     "metadata": {},
     "output_type": "display_data"
    }
   ],
   "source": [
    "plt.figure(figsize=(15,7))\n",
    "GDP = px.scatter(df,x= 'Region', y = 'Trust (Government Corruption)',color = 'Happiness Score')\n",
    "GDP.show()"
   ]
  },
  {
   "cell_type": "code",
   "execution_count": 142,
   "id": "463273a7",
   "metadata": {},
   "outputs": [
    {
     "data": {
      "application/vnd.plotly.v1+json": {
       "config": {
        "plotlyServerURL": "https://plot.ly"
       },
       "data": [
        {
         "hovertemplate": "Region=%{x}<br>Generosity=%{y}<br>Happiness Score=%{marker.color}<extra></extra>",
         "legendgroup": "",
         "marker": {
          "color": [
           7.587,
           7.561,
           7.527,
           7.522,
           7.427,
           7.406,
           7.378,
           7.364,
           7.286,
           7.284,
           7.278,
           7.226,
           7.2,
           7.187,
           7.119,
           6.983,
           6.946,
           6.94,
           6.937,
           6.901,
           6.867,
           6.853,
           6.81,
           6.798,
           6.786,
           6.75,
           6.67,
           6.611,
           6.575,
           6.574,
           6.505,
           6.485,
           6.477,
           6.455,
           6.411,
           6.329,
           6.302,
           6.298,
           6.295,
           6.269,
           6.168,
           6.13,
           6.123,
           6.003,
           5.995,
           5.987,
           5.984,
           5.975,
           5.96,
           5.948,
           5.89,
           5.889,
           5.878,
           5.855,
           5.848,
           5.833,
           5.828,
           5.824,
           5.813,
           5.791,
           5.77,
           5.759,
           5.754,
           5.716,
           5.709,
           5.695,
           5.689,
           5.605,
           5.589,
           5.548,
           5.477,
           5.474,
           5.429,
           5.399,
           5.36,
           5.332,
           5.286,
           5.268,
           5.253,
           5.212,
           5.194,
           5.192,
           5.192,
           5.14,
           5.129,
           5.124,
           5.123,
           5.102,
           5.098,
           5.073,
           5.057,
           5.013,
           5.007,
           4.971,
           4.959,
           4.949,
           4.898,
           4.885,
           4.876,
           4.874,
           4.867,
           4.857,
           4.839,
           4.8,
           4.788,
           4.786,
           4.739,
           4.715,
           4.694,
           4.686,
           4.681,
           4.677,
           4.642,
           4.633,
           4.61,
           4.571,
           4.565,
           4.55,
           4.518,
           4.517,
           4.514,
           4.512,
           4.507,
           4.436,
           4.419,
           4.369,
           4.35,
           4.332,
           4.307,
           4.297,
           4.292,
           4.271,
           4.252,
           4.218,
           4.194,
           4.077,
           4.033,
           3.995,
           3.989,
           3.956,
           3.931,
           3.904,
           3.896,
           3.845,
           3.819,
           3.781,
           3.681,
           3.678,
           3.667,
           3.656,
           3.655,
           3.587,
           3.575,
           3.465,
           3.34,
           3.006,
           2.905,
           2.839
          ],
          "coloraxis": "coloraxis",
          "symbol": "circle"
         },
         "mode": "markers",
         "name": "",
         "orientation": "v",
         "showlegend": false,
         "type": "scatter",
         "x": [
          "Western Europe",
          "Western Europe",
          "Western Europe",
          "Western Europe",
          "North America",
          "Western Europe",
          "Western Europe",
          "Western Europe",
          "Australia and New Zealand",
          "Australia and New Zealand",
          "Middle East and Northern Africa",
          "Latin America and Caribbean",
          "Western Europe",
          "Latin America and Caribbean",
          "North America",
          "Latin America and Caribbean",
          "Western Europe",
          "Western Europe",
          "Western Europe",
          "Middle East and Northern Africa",
          "Western Europe",
          "Middle East and Northern Africa",
          "Latin America and Caribbean",
          "Southeastern Asia",
          "Latin America and Caribbean",
          "Western Europe",
          "Latin America and Caribbean",
          "Middle East and Northern Africa",
          "Western Europe",
          "Latin America and Caribbean",
          "Central and Eastern Europe",
          "Latin America and Caribbean",
          "Latin America and Caribbean",
          "Southeastern Asia",
          "Middle East and Northern Africa",
          "Western Europe",
          "Western Europe",
          "Eastern Asia",
          "Middle East and Northern Africa",
          "Latin America and Caribbean",
          "Latin America and Caribbean",
          "Latin America and Caribbean",
          "Latin America and Caribbean",
          "Central and Eastern Europe",
          "Central and Eastern Europe",
          "Eastern Asia",
          "Eastern Asia",
          "Latin America and Caribbean",
          "Middle East and Northern Africa",
          "Western Europe",
          "Latin America and Caribbean",
          "Central and Eastern Europe",
          "Latin America and Caribbean",
          "Central and Eastern Europe",
          "Central and Eastern Europe",
          "Central and Eastern Europe",
          "Latin America and Caribbean",
          "Latin America and Caribbean",
          "Central and Eastern Europe",
          "Central and Eastern Europe",
          "Southeastern Asia",
          "Central and Eastern Europe",
          "Middle East and Northern Africa",
          "Central and Eastern Europe",
          "Latin America and Caribbean",
          "Western Europe",
          "Western Europe",
          "Middle East and Northern Africa",
          "Central and Eastern Europe",
          "Central and Eastern Europe",
          "Sub-Saharan Africa",
          "Eastern Asia",
          "Central and Eastern Europe",
          "Southeastern Asia",
          "Southeastern Asia",
          "Middle East and Northern Africa",
          "Central and Eastern Europe",
          "Sub-Saharan Africa",
          "Southern Asia",
          "Central and Eastern Europe",
          "Southern Asia",
          "Middle East and Northern Africa",
          "Central and Eastern Europe",
          "Eastern Asia",
          "Sub-Saharan Africa",
          "Central and Eastern Europe",
          "Central and Eastern Europe",
          "Western Europe",
          "Central and Eastern Europe",
          "Southeastern Asia",
          "Sub-Saharan Africa",
          "Middle East and Northern Africa",
          "Central and Eastern Europe",
          "Sub-Saharan Africa",
          "Central and Eastern Europe",
          "Central and Eastern Europe",
          "Sub-Saharan Africa",
          "Latin America and Caribbean",
          "Southeastern Asia",
          "Eastern Asia",
          "Sub-Saharan Africa",
          "Western Europe",
          "Middle East and Northern Africa",
          "Central and Eastern Europe",
          "Latin America and Caribbean",
          "Central and Eastern Europe",
          "Middle East and Northern Africa",
          "Middle East and Northern Africa",
          "Southern Asia",
          "Middle East and Northern Africa",
          "Central and Eastern Europe",
          "Middle East and Northern Africa",
          "Sub-Saharan Africa",
          "Sub-Saharan Africa",
          "Sub-Saharan Africa",
          "Sub-Saharan Africa",
          "Southern Asia",
          "Sub-Saharan Africa",
          "Latin America and Caribbean",
          "Sub-Saharan Africa",
          "Southern Asia",
          "Sub-Saharan Africa",
          "Sub-Saharan Africa",
          "Sub-Saharan Africa",
          "Sub-Saharan Africa",
          "Sub-Saharan Africa",
          "Central and Eastern Europe",
          "Sub-Saharan Africa",
          "Southeastern Asia",
          "Central and Eastern Europe",
          "Sub-Saharan Africa",
          "Southern Asia",
          "Sub-Saharan Africa",
          "Central and Eastern Europe",
          "Middle East and Northern Africa",
          "Middle East and Northern Africa",
          "Sub-Saharan Africa",
          "Sub-Saharan Africa",
          "Sub-Saharan Africa",
          "Sub-Saharan Africa",
          "Sub-Saharan Africa",
          "Sub-Saharan Africa",
          "Sub-Saharan Africa",
          "Sub-Saharan Africa",
          "Southeastern Asia",
          "Sub-Saharan Africa",
          "Sub-Saharan Africa",
          "Sub-Saharan Africa",
          "Sub-Saharan Africa",
          "Sub-Saharan Africa",
          "Sub-Saharan Africa",
          "Sub-Saharan Africa",
          "Southern Asia",
          "Sub-Saharan Africa",
          "Sub-Saharan Africa",
          "Middle East and Northern Africa",
          "Sub-Saharan Africa",
          "Sub-Saharan Africa"
         ],
         "xaxis": "x",
         "y": [
          0.29678,
          0.4363,
          0.34139,
          0.34699,
          0.45811,
          0.23351,
          0.4761,
          0.36262,
          0.47501,
          0.43562,
          0.33172,
          0.25497,
          0.33088,
          0.14074,
          0.40105,
          0.14574,
          0.28034,
          0.45901,
          0.2225,
          0.26428,
          0.51912,
          0.21542,
          0.05841,
          0.31105,
          0.24434,
          0.28214,
          0.33363,
          0.32573,
          0.12332,
          0.11451,
          0.10686,
          0.2324,
          0.18401,
          0.5763,
          0.13706,
          0.18227,
          0.51752,
          0.25376,
          0.16228,
          0.16991,
          0.31844,
          0.10692,
          0.27489,
          0.22837,
          0.16893,
          0.10705,
          0.18557,
          0.11541,
          0.17362,
          0.22823,
          0.20536,
          0.20951,
          0.3424,
          0.11827,
          0.25328,
          0.02641,
          0.27815,
          0.14982,
          0.11046,
          0.16759,
          0.33075,
          0.05444,
          0.18295,
          0.00199,
          0.2123,
          0.26169,
          0.30638,
          0.07822,
          0.2831,
          0.16979,
          0.37744,
          0.39478,
          0.0868,
          0.51535,
          0.1686,
          0.12253,
          0.3003,
          0.27233,
          0.47998,
          0.07799,
          0.33671,
          0.11053,
          0.1614,
          0.08185,
          0.19591,
          0.13748,
          0.19231,
          0.13719,
          0.18226,
          0.24991,
          0.50318,
          0.07172,
          0.22359,
          0.22269,
          0.14272,
          0.24808,
          0.16388,
          0.21684,
          0.42192,
          0.3323,
          0.18259,
          0,
          0.21854,
          0.128,
          0.23027,
          0.22974,
          0.06431,
          0.11251,
          0.21222,
          0.38086,
          0.15275,
          0.17922,
          0.11973,
          0.23087,
          0.18987,
          0.24362,
          0.26475,
          0.19062,
          0.46187,
          0.24834,
          0.32296,
          0.24325,
          0.21488,
          0.219,
          0.37542,
          0.18093,
          0.07855,
          0.10461,
          0.79588,
          0.05547,
          0.33128,
          0.40828,
          0.20618,
          0.11921,
          0.11291,
          0.09131,
          0.12344,
          0.18798,
          0.12388,
          0.17441,
          0.29066,
          0.20843,
          0.06822,
          0.19387,
          0.40359,
          0.34377,
          0.21333,
          0.23835,
          0.18386,
          0.28657,
          0.20165,
          0.21747,
          0.3651,
          0.22628,
          0.1826,
          0.47179,
          0.19727,
          0.16681
         ],
         "yaxis": "y"
        }
       ],
       "layout": {
        "coloraxis": {
         "colorbar": {
          "title": {
           "text": "Happiness Score"
          }
         },
         "colorscale": [
          [
           0,
           "#0d0887"
          ],
          [
           0.1111111111111111,
           "#46039f"
          ],
          [
           0.2222222222222222,
           "#7201a8"
          ],
          [
           0.3333333333333333,
           "#9c179e"
          ],
          [
           0.4444444444444444,
           "#bd3786"
          ],
          [
           0.5555555555555556,
           "#d8576b"
          ],
          [
           0.6666666666666666,
           "#ed7953"
          ],
          [
           0.7777777777777778,
           "#fb9f3a"
          ],
          [
           0.8888888888888888,
           "#fdca26"
          ],
          [
           1,
           "#f0f921"
          ]
         ]
        },
        "legend": {
         "tracegroupgap": 0
        },
        "margin": {
         "t": 60
        },
        "template": {
         "data": {
          "bar": [
           {
            "error_x": {
             "color": "#2a3f5f"
            },
            "error_y": {
             "color": "#2a3f5f"
            },
            "marker": {
             "line": {
              "color": "#E5ECF6",
              "width": 0.5
             },
             "pattern": {
              "fillmode": "overlay",
              "size": 10,
              "solidity": 0.2
             }
            },
            "type": "bar"
           }
          ],
          "barpolar": [
           {
            "marker": {
             "line": {
              "color": "#E5ECF6",
              "width": 0.5
             },
             "pattern": {
              "fillmode": "overlay",
              "size": 10,
              "solidity": 0.2
             }
            },
            "type": "barpolar"
           }
          ],
          "carpet": [
           {
            "aaxis": {
             "endlinecolor": "#2a3f5f",
             "gridcolor": "white",
             "linecolor": "white",
             "minorgridcolor": "white",
             "startlinecolor": "#2a3f5f"
            },
            "baxis": {
             "endlinecolor": "#2a3f5f",
             "gridcolor": "white",
             "linecolor": "white",
             "minorgridcolor": "white",
             "startlinecolor": "#2a3f5f"
            },
            "type": "carpet"
           }
          ],
          "choropleth": [
           {
            "colorbar": {
             "outlinewidth": 0,
             "ticks": ""
            },
            "type": "choropleth"
           }
          ],
          "contour": [
           {
            "colorbar": {
             "outlinewidth": 0,
             "ticks": ""
            },
            "colorscale": [
             [
              0,
              "#0d0887"
             ],
             [
              0.1111111111111111,
              "#46039f"
             ],
             [
              0.2222222222222222,
              "#7201a8"
             ],
             [
              0.3333333333333333,
              "#9c179e"
             ],
             [
              0.4444444444444444,
              "#bd3786"
             ],
             [
              0.5555555555555556,
              "#d8576b"
             ],
             [
              0.6666666666666666,
              "#ed7953"
             ],
             [
              0.7777777777777778,
              "#fb9f3a"
             ],
             [
              0.8888888888888888,
              "#fdca26"
             ],
             [
              1,
              "#f0f921"
             ]
            ],
            "type": "contour"
           }
          ],
          "contourcarpet": [
           {
            "colorbar": {
             "outlinewidth": 0,
             "ticks": ""
            },
            "type": "contourcarpet"
           }
          ],
          "heatmap": [
           {
            "colorbar": {
             "outlinewidth": 0,
             "ticks": ""
            },
            "colorscale": [
             [
              0,
              "#0d0887"
             ],
             [
              0.1111111111111111,
              "#46039f"
             ],
             [
              0.2222222222222222,
              "#7201a8"
             ],
             [
              0.3333333333333333,
              "#9c179e"
             ],
             [
              0.4444444444444444,
              "#bd3786"
             ],
             [
              0.5555555555555556,
              "#d8576b"
             ],
             [
              0.6666666666666666,
              "#ed7953"
             ],
             [
              0.7777777777777778,
              "#fb9f3a"
             ],
             [
              0.8888888888888888,
              "#fdca26"
             ],
             [
              1,
              "#f0f921"
             ]
            ],
            "type": "heatmap"
           }
          ],
          "heatmapgl": [
           {
            "colorbar": {
             "outlinewidth": 0,
             "ticks": ""
            },
            "colorscale": [
             [
              0,
              "#0d0887"
             ],
             [
              0.1111111111111111,
              "#46039f"
             ],
             [
              0.2222222222222222,
              "#7201a8"
             ],
             [
              0.3333333333333333,
              "#9c179e"
             ],
             [
              0.4444444444444444,
              "#bd3786"
             ],
             [
              0.5555555555555556,
              "#d8576b"
             ],
             [
              0.6666666666666666,
              "#ed7953"
             ],
             [
              0.7777777777777778,
              "#fb9f3a"
             ],
             [
              0.8888888888888888,
              "#fdca26"
             ],
             [
              1,
              "#f0f921"
             ]
            ],
            "type": "heatmapgl"
           }
          ],
          "histogram": [
           {
            "marker": {
             "pattern": {
              "fillmode": "overlay",
              "size": 10,
              "solidity": 0.2
             }
            },
            "type": "histogram"
           }
          ],
          "histogram2d": [
           {
            "colorbar": {
             "outlinewidth": 0,
             "ticks": ""
            },
            "colorscale": [
             [
              0,
              "#0d0887"
             ],
             [
              0.1111111111111111,
              "#46039f"
             ],
             [
              0.2222222222222222,
              "#7201a8"
             ],
             [
              0.3333333333333333,
              "#9c179e"
             ],
             [
              0.4444444444444444,
              "#bd3786"
             ],
             [
              0.5555555555555556,
              "#d8576b"
             ],
             [
              0.6666666666666666,
              "#ed7953"
             ],
             [
              0.7777777777777778,
              "#fb9f3a"
             ],
             [
              0.8888888888888888,
              "#fdca26"
             ],
             [
              1,
              "#f0f921"
             ]
            ],
            "type": "histogram2d"
           }
          ],
          "histogram2dcontour": [
           {
            "colorbar": {
             "outlinewidth": 0,
             "ticks": ""
            },
            "colorscale": [
             [
              0,
              "#0d0887"
             ],
             [
              0.1111111111111111,
              "#46039f"
             ],
             [
              0.2222222222222222,
              "#7201a8"
             ],
             [
              0.3333333333333333,
              "#9c179e"
             ],
             [
              0.4444444444444444,
              "#bd3786"
             ],
             [
              0.5555555555555556,
              "#d8576b"
             ],
             [
              0.6666666666666666,
              "#ed7953"
             ],
             [
              0.7777777777777778,
              "#fb9f3a"
             ],
             [
              0.8888888888888888,
              "#fdca26"
             ],
             [
              1,
              "#f0f921"
             ]
            ],
            "type": "histogram2dcontour"
           }
          ],
          "mesh3d": [
           {
            "colorbar": {
             "outlinewidth": 0,
             "ticks": ""
            },
            "type": "mesh3d"
           }
          ],
          "parcoords": [
           {
            "line": {
             "colorbar": {
              "outlinewidth": 0,
              "ticks": ""
             }
            },
            "type": "parcoords"
           }
          ],
          "pie": [
           {
            "automargin": true,
            "type": "pie"
           }
          ],
          "scatter": [
           {
            "fillpattern": {
             "fillmode": "overlay",
             "size": 10,
             "solidity": 0.2
            },
            "type": "scatter"
           }
          ],
          "scatter3d": [
           {
            "line": {
             "colorbar": {
              "outlinewidth": 0,
              "ticks": ""
             }
            },
            "marker": {
             "colorbar": {
              "outlinewidth": 0,
              "ticks": ""
             }
            },
            "type": "scatter3d"
           }
          ],
          "scattercarpet": [
           {
            "marker": {
             "colorbar": {
              "outlinewidth": 0,
              "ticks": ""
             }
            },
            "type": "scattercarpet"
           }
          ],
          "scattergeo": [
           {
            "marker": {
             "colorbar": {
              "outlinewidth": 0,
              "ticks": ""
             }
            },
            "type": "scattergeo"
           }
          ],
          "scattergl": [
           {
            "marker": {
             "colorbar": {
              "outlinewidth": 0,
              "ticks": ""
             }
            },
            "type": "scattergl"
           }
          ],
          "scattermapbox": [
           {
            "marker": {
             "colorbar": {
              "outlinewidth": 0,
              "ticks": ""
             }
            },
            "type": "scattermapbox"
           }
          ],
          "scatterpolar": [
           {
            "marker": {
             "colorbar": {
              "outlinewidth": 0,
              "ticks": ""
             }
            },
            "type": "scatterpolar"
           }
          ],
          "scatterpolargl": [
           {
            "marker": {
             "colorbar": {
              "outlinewidth": 0,
              "ticks": ""
             }
            },
            "type": "scatterpolargl"
           }
          ],
          "scatterternary": [
           {
            "marker": {
             "colorbar": {
              "outlinewidth": 0,
              "ticks": ""
             }
            },
            "type": "scatterternary"
           }
          ],
          "surface": [
           {
            "colorbar": {
             "outlinewidth": 0,
             "ticks": ""
            },
            "colorscale": [
             [
              0,
              "#0d0887"
             ],
             [
              0.1111111111111111,
              "#46039f"
             ],
             [
              0.2222222222222222,
              "#7201a8"
             ],
             [
              0.3333333333333333,
              "#9c179e"
             ],
             [
              0.4444444444444444,
              "#bd3786"
             ],
             [
              0.5555555555555556,
              "#d8576b"
             ],
             [
              0.6666666666666666,
              "#ed7953"
             ],
             [
              0.7777777777777778,
              "#fb9f3a"
             ],
             [
              0.8888888888888888,
              "#fdca26"
             ],
             [
              1,
              "#f0f921"
             ]
            ],
            "type": "surface"
           }
          ],
          "table": [
           {
            "cells": {
             "fill": {
              "color": "#EBF0F8"
             },
             "line": {
              "color": "white"
             }
            },
            "header": {
             "fill": {
              "color": "#C8D4E3"
             },
             "line": {
              "color": "white"
             }
            },
            "type": "table"
           }
          ]
         },
         "layout": {
          "annotationdefaults": {
           "arrowcolor": "#2a3f5f",
           "arrowhead": 0,
           "arrowwidth": 1
          },
          "autotypenumbers": "strict",
          "coloraxis": {
           "colorbar": {
            "outlinewidth": 0,
            "ticks": ""
           }
          },
          "colorscale": {
           "diverging": [
            [
             0,
             "#8e0152"
            ],
            [
             0.1,
             "#c51b7d"
            ],
            [
             0.2,
             "#de77ae"
            ],
            [
             0.3,
             "#f1b6da"
            ],
            [
             0.4,
             "#fde0ef"
            ],
            [
             0.5,
             "#f7f7f7"
            ],
            [
             0.6,
             "#e6f5d0"
            ],
            [
             0.7,
             "#b8e186"
            ],
            [
             0.8,
             "#7fbc41"
            ],
            [
             0.9,
             "#4d9221"
            ],
            [
             1,
             "#276419"
            ]
           ],
           "sequential": [
            [
             0,
             "#0d0887"
            ],
            [
             0.1111111111111111,
             "#46039f"
            ],
            [
             0.2222222222222222,
             "#7201a8"
            ],
            [
             0.3333333333333333,
             "#9c179e"
            ],
            [
             0.4444444444444444,
             "#bd3786"
            ],
            [
             0.5555555555555556,
             "#d8576b"
            ],
            [
             0.6666666666666666,
             "#ed7953"
            ],
            [
             0.7777777777777778,
             "#fb9f3a"
            ],
            [
             0.8888888888888888,
             "#fdca26"
            ],
            [
             1,
             "#f0f921"
            ]
           ],
           "sequentialminus": [
            [
             0,
             "#0d0887"
            ],
            [
             0.1111111111111111,
             "#46039f"
            ],
            [
             0.2222222222222222,
             "#7201a8"
            ],
            [
             0.3333333333333333,
             "#9c179e"
            ],
            [
             0.4444444444444444,
             "#bd3786"
            ],
            [
             0.5555555555555556,
             "#d8576b"
            ],
            [
             0.6666666666666666,
             "#ed7953"
            ],
            [
             0.7777777777777778,
             "#fb9f3a"
            ],
            [
             0.8888888888888888,
             "#fdca26"
            ],
            [
             1,
             "#f0f921"
            ]
           ]
          },
          "colorway": [
           "#636efa",
           "#EF553B",
           "#00cc96",
           "#ab63fa",
           "#FFA15A",
           "#19d3f3",
           "#FF6692",
           "#B6E880",
           "#FF97FF",
           "#FECB52"
          ],
          "font": {
           "color": "#2a3f5f"
          },
          "geo": {
           "bgcolor": "white",
           "lakecolor": "white",
           "landcolor": "#E5ECF6",
           "showlakes": true,
           "showland": true,
           "subunitcolor": "white"
          },
          "hoverlabel": {
           "align": "left"
          },
          "hovermode": "closest",
          "mapbox": {
           "style": "light"
          },
          "paper_bgcolor": "white",
          "plot_bgcolor": "#E5ECF6",
          "polar": {
           "angularaxis": {
            "gridcolor": "white",
            "linecolor": "white",
            "ticks": ""
           },
           "bgcolor": "#E5ECF6",
           "radialaxis": {
            "gridcolor": "white",
            "linecolor": "white",
            "ticks": ""
           }
          },
          "scene": {
           "xaxis": {
            "backgroundcolor": "#E5ECF6",
            "gridcolor": "white",
            "gridwidth": 2,
            "linecolor": "white",
            "showbackground": true,
            "ticks": "",
            "zerolinecolor": "white"
           },
           "yaxis": {
            "backgroundcolor": "#E5ECF6",
            "gridcolor": "white",
            "gridwidth": 2,
            "linecolor": "white",
            "showbackground": true,
            "ticks": "",
            "zerolinecolor": "white"
           },
           "zaxis": {
            "backgroundcolor": "#E5ECF6",
            "gridcolor": "white",
            "gridwidth": 2,
            "linecolor": "white",
            "showbackground": true,
            "ticks": "",
            "zerolinecolor": "white"
           }
          },
          "shapedefaults": {
           "line": {
            "color": "#2a3f5f"
           }
          },
          "ternary": {
           "aaxis": {
            "gridcolor": "white",
            "linecolor": "white",
            "ticks": ""
           },
           "baxis": {
            "gridcolor": "white",
            "linecolor": "white",
            "ticks": ""
           },
           "bgcolor": "#E5ECF6",
           "caxis": {
            "gridcolor": "white",
            "linecolor": "white",
            "ticks": ""
           }
          },
          "title": {
           "x": 0.05
          },
          "xaxis": {
           "automargin": true,
           "gridcolor": "white",
           "linecolor": "white",
           "ticks": "",
           "title": {
            "standoff": 15
           },
           "zerolinecolor": "white",
           "zerolinewidth": 2
          },
          "yaxis": {
           "automargin": true,
           "gridcolor": "white",
           "linecolor": "white",
           "ticks": "",
           "title": {
            "standoff": 15
           },
           "zerolinecolor": "white",
           "zerolinewidth": 2
          }
         }
        },
        "xaxis": {
         "anchor": "y",
         "domain": [
          0,
          1
         ],
         "title": {
          "text": "Region"
         }
        },
        "yaxis": {
         "anchor": "x",
         "domain": [
          0,
          1
         ],
         "title": {
          "text": "Generosity"
         }
        }
       }
      },
      "text/html": [
       "<div>                            <div id=\"e5578b95-81d1-490b-bd1c-781467b5ba6d\" class=\"plotly-graph-div\" style=\"height:525px; width:100%;\"></div>            <script type=\"text/javascript\">                require([\"plotly\"], function(Plotly) {                    window.PLOTLYENV=window.PLOTLYENV || {};                                    if (document.getElementById(\"e5578b95-81d1-490b-bd1c-781467b5ba6d\")) {                    Plotly.newPlot(                        \"e5578b95-81d1-490b-bd1c-781467b5ba6d\",                        [{\"hovertemplate\":\"Region=%{x}<br>Generosity=%{y}<br>Happiness Score=%{marker.color}<extra></extra>\",\"legendgroup\":\"\",\"marker\":{\"color\":[7.587,7.561,7.527,7.522,7.427,7.406,7.378,7.364,7.286,7.284,7.278,7.226,7.2,7.187,7.119,6.983,6.946,6.94,6.937,6.901,6.867,6.853,6.81,6.798,6.786,6.75,6.67,6.611,6.575,6.574,6.505,6.485,6.477,6.455,6.411,6.329,6.302,6.298,6.295,6.269,6.168,6.13,6.123,6.003,5.995,5.987,5.984,5.975,5.96,5.948,5.89,5.889,5.878,5.855,5.848,5.833,5.828,5.824,5.813,5.791,5.77,5.759,5.754,5.716,5.709,5.695,5.689,5.605,5.589,5.548,5.477,5.474,5.429,5.399,5.36,5.332,5.286,5.268,5.253,5.212,5.194,5.192,5.192,5.14,5.129,5.124,5.123,5.102,5.098,5.073,5.057,5.013,5.007,4.971,4.959,4.949,4.898,4.885,4.876,4.874,4.867,4.857,4.839,4.8,4.788,4.786,4.739,4.715,4.694,4.686,4.681,4.677,4.642,4.633,4.61,4.571,4.565,4.55,4.518,4.517,4.514,4.512,4.507,4.436,4.419,4.369,4.35,4.332,4.307,4.297,4.292,4.271,4.252,4.218,4.194,4.077,4.033,3.995,3.989,3.956,3.931,3.904,3.896,3.845,3.819,3.781,3.681,3.678,3.667,3.656,3.655,3.587,3.575,3.465,3.34,3.006,2.905,2.839],\"coloraxis\":\"coloraxis\",\"symbol\":\"circle\"},\"mode\":\"markers\",\"name\":\"\",\"orientation\":\"v\",\"showlegend\":false,\"x\":[\"Western Europe\",\"Western Europe\",\"Western Europe\",\"Western Europe\",\"North America\",\"Western Europe\",\"Western Europe\",\"Western Europe\",\"Australia and New Zealand\",\"Australia and New Zealand\",\"Middle East and Northern Africa\",\"Latin America and Caribbean\",\"Western Europe\",\"Latin America and Caribbean\",\"North America\",\"Latin America and Caribbean\",\"Western Europe\",\"Western Europe\",\"Western Europe\",\"Middle East and Northern Africa\",\"Western Europe\",\"Middle East and Northern Africa\",\"Latin America and Caribbean\",\"Southeastern Asia\",\"Latin America and Caribbean\",\"Western Europe\",\"Latin America and Caribbean\",\"Middle East and Northern Africa\",\"Western Europe\",\"Latin America and Caribbean\",\"Central and Eastern Europe\",\"Latin America and Caribbean\",\"Latin America and Caribbean\",\"Southeastern Asia\",\"Middle East and Northern Africa\",\"Western Europe\",\"Western Europe\",\"Eastern Asia\",\"Middle East and Northern Africa\",\"Latin America and Caribbean\",\"Latin America and Caribbean\",\"Latin America and Caribbean\",\"Latin America and Caribbean\",\"Central and Eastern Europe\",\"Central and Eastern Europe\",\"Eastern Asia\",\"Eastern Asia\",\"Latin America and Caribbean\",\"Middle East and Northern Africa\",\"Western Europe\",\"Latin America and Caribbean\",\"Central and Eastern Europe\",\"Latin America and Caribbean\",\"Central and Eastern Europe\",\"Central and Eastern Europe\",\"Central and Eastern Europe\",\"Latin America and Caribbean\",\"Latin America and Caribbean\",\"Central and Eastern Europe\",\"Central and Eastern Europe\",\"Southeastern Asia\",\"Central and Eastern Europe\",\"Middle East and Northern Africa\",\"Central and Eastern Europe\",\"Latin America and Caribbean\",\"Western Europe\",\"Western Europe\",\"Middle East and Northern Africa\",\"Central and Eastern Europe\",\"Central and Eastern Europe\",\"Sub-Saharan Africa\",\"Eastern Asia\",\"Central and Eastern Europe\",\"Southeastern Asia\",\"Southeastern Asia\",\"Middle East and Northern Africa\",\"Central and Eastern Europe\",\"Sub-Saharan Africa\",\"Southern Asia\",\"Central and Eastern Europe\",\"Southern Asia\",\"Middle East and Northern Africa\",\"Central and Eastern Europe\",\"Eastern Asia\",\"Sub-Saharan Africa\",\"Central and Eastern Europe\",\"Central and Eastern Europe\",\"Western Europe\",\"Central and Eastern Europe\",\"Southeastern Asia\",\"Sub-Saharan Africa\",\"Middle East and Northern Africa\",\"Central and Eastern Europe\",\"Sub-Saharan Africa\",\"Central and Eastern Europe\",\"Central and Eastern Europe\",\"Sub-Saharan Africa\",\"Latin America and Caribbean\",\"Southeastern Asia\",\"Eastern Asia\",\"Sub-Saharan Africa\",\"Western Europe\",\"Middle East and Northern Africa\",\"Central and Eastern Europe\",\"Latin America and Caribbean\",\"Central and Eastern Europe\",\"Middle East and Northern Africa\",\"Middle East and Northern Africa\",\"Southern Asia\",\"Middle East and Northern Africa\",\"Central and Eastern Europe\",\"Middle East and Northern Africa\",\"Sub-Saharan Africa\",\"Sub-Saharan Africa\",\"Sub-Saharan Africa\",\"Sub-Saharan Africa\",\"Southern Asia\",\"Sub-Saharan Africa\",\"Latin America and Caribbean\",\"Sub-Saharan Africa\",\"Southern Asia\",\"Sub-Saharan Africa\",\"Sub-Saharan Africa\",\"Sub-Saharan Africa\",\"Sub-Saharan Africa\",\"Sub-Saharan Africa\",\"Central and Eastern Europe\",\"Sub-Saharan Africa\",\"Southeastern Asia\",\"Central and Eastern Europe\",\"Sub-Saharan Africa\",\"Southern Asia\",\"Sub-Saharan Africa\",\"Central and Eastern Europe\",\"Middle East and Northern Africa\",\"Middle East and Northern Africa\",\"Sub-Saharan Africa\",\"Sub-Saharan Africa\",\"Sub-Saharan Africa\",\"Sub-Saharan Africa\",\"Sub-Saharan Africa\",\"Sub-Saharan Africa\",\"Sub-Saharan Africa\",\"Sub-Saharan Africa\",\"Southeastern Asia\",\"Sub-Saharan Africa\",\"Sub-Saharan Africa\",\"Sub-Saharan Africa\",\"Sub-Saharan Africa\",\"Sub-Saharan Africa\",\"Sub-Saharan Africa\",\"Sub-Saharan Africa\",\"Southern Asia\",\"Sub-Saharan Africa\",\"Sub-Saharan Africa\",\"Middle East and Northern Africa\",\"Sub-Saharan Africa\",\"Sub-Saharan Africa\"],\"xaxis\":\"x\",\"y\":[0.29678,0.4363,0.34139,0.34699,0.45811,0.23351,0.4761,0.36262,0.47501,0.43562,0.33172,0.25497,0.33088,0.14074,0.40105,0.14574,0.28034,0.45901,0.2225,0.26428,0.51912,0.21542,0.05841,0.31105,0.24434,0.28214,0.33363,0.32573,0.12332,0.11451,0.10686,0.2324,0.18401,0.5763,0.13706,0.18227,0.51752,0.25376,0.16228,0.16991,0.31844,0.10692,0.27489,0.22837,0.16893,0.10705,0.18557,0.11541,0.17362,0.22823,0.20536,0.20951,0.3424,0.11827,0.25328,0.02641,0.27815,0.14982,0.11046,0.16759,0.33075,0.05444,0.18295,0.00199,0.2123,0.26169,0.30638,0.07822,0.2831,0.16979,0.37744,0.39478,0.0868,0.51535,0.1686,0.12253,0.3003,0.27233,0.47998,0.07799,0.33671,0.11053,0.1614,0.08185,0.19591,0.13748,0.19231,0.13719,0.18226,0.24991,0.50318,0.07172,0.22359,0.22269,0.14272,0.24808,0.16388,0.21684,0.42192,0.3323,0.18259,0.0,0.21854,0.128,0.23027,0.22974,0.06431,0.11251,0.21222,0.38086,0.15275,0.17922,0.11973,0.23087,0.18987,0.24362,0.26475,0.19062,0.46187,0.24834,0.32296,0.24325,0.21488,0.219,0.37542,0.18093,0.07855,0.10461,0.79588,0.05547,0.33128,0.40828,0.20618,0.11921,0.11291,0.09131,0.12344,0.18798,0.12388,0.17441,0.29066,0.20843,0.06822,0.19387,0.40359,0.34377,0.21333,0.23835,0.18386,0.28657,0.20165,0.21747,0.3651,0.22628,0.1826,0.47179,0.19727,0.16681],\"yaxis\":\"y\",\"type\":\"scatter\"}],                        {\"template\":{\"data\":{\"histogram2dcontour\":[{\"type\":\"histogram2dcontour\",\"colorbar\":{\"outlinewidth\":0,\"ticks\":\"\"},\"colorscale\":[[0.0,\"#0d0887\"],[0.1111111111111111,\"#46039f\"],[0.2222222222222222,\"#7201a8\"],[0.3333333333333333,\"#9c179e\"],[0.4444444444444444,\"#bd3786\"],[0.5555555555555556,\"#d8576b\"],[0.6666666666666666,\"#ed7953\"],[0.7777777777777778,\"#fb9f3a\"],[0.8888888888888888,\"#fdca26\"],[1.0,\"#f0f921\"]]}],\"choropleth\":[{\"type\":\"choropleth\",\"colorbar\":{\"outlinewidth\":0,\"ticks\":\"\"}}],\"histogram2d\":[{\"type\":\"histogram2d\",\"colorbar\":{\"outlinewidth\":0,\"ticks\":\"\"},\"colorscale\":[[0.0,\"#0d0887\"],[0.1111111111111111,\"#46039f\"],[0.2222222222222222,\"#7201a8\"],[0.3333333333333333,\"#9c179e\"],[0.4444444444444444,\"#bd3786\"],[0.5555555555555556,\"#d8576b\"],[0.6666666666666666,\"#ed7953\"],[0.7777777777777778,\"#fb9f3a\"],[0.8888888888888888,\"#fdca26\"],[1.0,\"#f0f921\"]]}],\"heatmap\":[{\"type\":\"heatmap\",\"colorbar\":{\"outlinewidth\":0,\"ticks\":\"\"},\"colorscale\":[[0.0,\"#0d0887\"],[0.1111111111111111,\"#46039f\"],[0.2222222222222222,\"#7201a8\"],[0.3333333333333333,\"#9c179e\"],[0.4444444444444444,\"#bd3786\"],[0.5555555555555556,\"#d8576b\"],[0.6666666666666666,\"#ed7953\"],[0.7777777777777778,\"#fb9f3a\"],[0.8888888888888888,\"#fdca26\"],[1.0,\"#f0f921\"]]}],\"heatmapgl\":[{\"type\":\"heatmapgl\",\"colorbar\":{\"outlinewidth\":0,\"ticks\":\"\"},\"colorscale\":[[0.0,\"#0d0887\"],[0.1111111111111111,\"#46039f\"],[0.2222222222222222,\"#7201a8\"],[0.3333333333333333,\"#9c179e\"],[0.4444444444444444,\"#bd3786\"],[0.5555555555555556,\"#d8576b\"],[0.6666666666666666,\"#ed7953\"],[0.7777777777777778,\"#fb9f3a\"],[0.8888888888888888,\"#fdca26\"],[1.0,\"#f0f921\"]]}],\"contourcarpet\":[{\"type\":\"contourcarpet\",\"colorbar\":{\"outlinewidth\":0,\"ticks\":\"\"}}],\"contour\":[{\"type\":\"contour\",\"colorbar\":{\"outlinewidth\":0,\"ticks\":\"\"},\"colorscale\":[[0.0,\"#0d0887\"],[0.1111111111111111,\"#46039f\"],[0.2222222222222222,\"#7201a8\"],[0.3333333333333333,\"#9c179e\"],[0.4444444444444444,\"#bd3786\"],[0.5555555555555556,\"#d8576b\"],[0.6666666666666666,\"#ed7953\"],[0.7777777777777778,\"#fb9f3a\"],[0.8888888888888888,\"#fdca26\"],[1.0,\"#f0f921\"]]}],\"surface\":[{\"type\":\"surface\",\"colorbar\":{\"outlinewidth\":0,\"ticks\":\"\"},\"colorscale\":[[0.0,\"#0d0887\"],[0.1111111111111111,\"#46039f\"],[0.2222222222222222,\"#7201a8\"],[0.3333333333333333,\"#9c179e\"],[0.4444444444444444,\"#bd3786\"],[0.5555555555555556,\"#d8576b\"],[0.6666666666666666,\"#ed7953\"],[0.7777777777777778,\"#fb9f3a\"],[0.8888888888888888,\"#fdca26\"],[1.0,\"#f0f921\"]]}],\"mesh3d\":[{\"type\":\"mesh3d\",\"colorbar\":{\"outlinewidth\":0,\"ticks\":\"\"}}],\"scatter\":[{\"fillpattern\":{\"fillmode\":\"overlay\",\"size\":10,\"solidity\":0.2},\"type\":\"scatter\"}],\"parcoords\":[{\"type\":\"parcoords\",\"line\":{\"colorbar\":{\"outlinewidth\":0,\"ticks\":\"\"}}}],\"scatterpolargl\":[{\"type\":\"scatterpolargl\",\"marker\":{\"colorbar\":{\"outlinewidth\":0,\"ticks\":\"\"}}}],\"bar\":[{\"error_x\":{\"color\":\"#2a3f5f\"},\"error_y\":{\"color\":\"#2a3f5f\"},\"marker\":{\"line\":{\"color\":\"#E5ECF6\",\"width\":0.5},\"pattern\":{\"fillmode\":\"overlay\",\"size\":10,\"solidity\":0.2}},\"type\":\"bar\"}],\"scattergeo\":[{\"type\":\"scattergeo\",\"marker\":{\"colorbar\":{\"outlinewidth\":0,\"ticks\":\"\"}}}],\"scatterpolar\":[{\"type\":\"scatterpolar\",\"marker\":{\"colorbar\":{\"outlinewidth\":0,\"ticks\":\"\"}}}],\"histogram\":[{\"marker\":{\"pattern\":{\"fillmode\":\"overlay\",\"size\":10,\"solidity\":0.2}},\"type\":\"histogram\"}],\"scattergl\":[{\"type\":\"scattergl\",\"marker\":{\"colorbar\":{\"outlinewidth\":0,\"ticks\":\"\"}}}],\"scatter3d\":[{\"type\":\"scatter3d\",\"line\":{\"colorbar\":{\"outlinewidth\":0,\"ticks\":\"\"}},\"marker\":{\"colorbar\":{\"outlinewidth\":0,\"ticks\":\"\"}}}],\"scattermapbox\":[{\"type\":\"scattermapbox\",\"marker\":{\"colorbar\":{\"outlinewidth\":0,\"ticks\":\"\"}}}],\"scatterternary\":[{\"type\":\"scatterternary\",\"marker\":{\"colorbar\":{\"outlinewidth\":0,\"ticks\":\"\"}}}],\"scattercarpet\":[{\"type\":\"scattercarpet\",\"marker\":{\"colorbar\":{\"outlinewidth\":0,\"ticks\":\"\"}}}],\"carpet\":[{\"aaxis\":{\"endlinecolor\":\"#2a3f5f\",\"gridcolor\":\"white\",\"linecolor\":\"white\",\"minorgridcolor\":\"white\",\"startlinecolor\":\"#2a3f5f\"},\"baxis\":{\"endlinecolor\":\"#2a3f5f\",\"gridcolor\":\"white\",\"linecolor\":\"white\",\"minorgridcolor\":\"white\",\"startlinecolor\":\"#2a3f5f\"},\"type\":\"carpet\"}],\"table\":[{\"cells\":{\"fill\":{\"color\":\"#EBF0F8\"},\"line\":{\"color\":\"white\"}},\"header\":{\"fill\":{\"color\":\"#C8D4E3\"},\"line\":{\"color\":\"white\"}},\"type\":\"table\"}],\"barpolar\":[{\"marker\":{\"line\":{\"color\":\"#E5ECF6\",\"width\":0.5},\"pattern\":{\"fillmode\":\"overlay\",\"size\":10,\"solidity\":0.2}},\"type\":\"barpolar\"}],\"pie\":[{\"automargin\":true,\"type\":\"pie\"}]},\"layout\":{\"autotypenumbers\":\"strict\",\"colorway\":[\"#636efa\",\"#EF553B\",\"#00cc96\",\"#ab63fa\",\"#FFA15A\",\"#19d3f3\",\"#FF6692\",\"#B6E880\",\"#FF97FF\",\"#FECB52\"],\"font\":{\"color\":\"#2a3f5f\"},\"hovermode\":\"closest\",\"hoverlabel\":{\"align\":\"left\"},\"paper_bgcolor\":\"white\",\"plot_bgcolor\":\"#E5ECF6\",\"polar\":{\"bgcolor\":\"#E5ECF6\",\"angularaxis\":{\"gridcolor\":\"white\",\"linecolor\":\"white\",\"ticks\":\"\"},\"radialaxis\":{\"gridcolor\":\"white\",\"linecolor\":\"white\",\"ticks\":\"\"}},\"ternary\":{\"bgcolor\":\"#E5ECF6\",\"aaxis\":{\"gridcolor\":\"white\",\"linecolor\":\"white\",\"ticks\":\"\"},\"baxis\":{\"gridcolor\":\"white\",\"linecolor\":\"white\",\"ticks\":\"\"},\"caxis\":{\"gridcolor\":\"white\",\"linecolor\":\"white\",\"ticks\":\"\"}},\"coloraxis\":{\"colorbar\":{\"outlinewidth\":0,\"ticks\":\"\"}},\"colorscale\":{\"sequential\":[[0.0,\"#0d0887\"],[0.1111111111111111,\"#46039f\"],[0.2222222222222222,\"#7201a8\"],[0.3333333333333333,\"#9c179e\"],[0.4444444444444444,\"#bd3786\"],[0.5555555555555556,\"#d8576b\"],[0.6666666666666666,\"#ed7953\"],[0.7777777777777778,\"#fb9f3a\"],[0.8888888888888888,\"#fdca26\"],[1.0,\"#f0f921\"]],\"sequentialminus\":[[0.0,\"#0d0887\"],[0.1111111111111111,\"#46039f\"],[0.2222222222222222,\"#7201a8\"],[0.3333333333333333,\"#9c179e\"],[0.4444444444444444,\"#bd3786\"],[0.5555555555555556,\"#d8576b\"],[0.6666666666666666,\"#ed7953\"],[0.7777777777777778,\"#fb9f3a\"],[0.8888888888888888,\"#fdca26\"],[1.0,\"#f0f921\"]],\"diverging\":[[0,\"#8e0152\"],[0.1,\"#c51b7d\"],[0.2,\"#de77ae\"],[0.3,\"#f1b6da\"],[0.4,\"#fde0ef\"],[0.5,\"#f7f7f7\"],[0.6,\"#e6f5d0\"],[0.7,\"#b8e186\"],[0.8,\"#7fbc41\"],[0.9,\"#4d9221\"],[1,\"#276419\"]]},\"xaxis\":{\"gridcolor\":\"white\",\"linecolor\":\"white\",\"ticks\":\"\",\"title\":{\"standoff\":15},\"zerolinecolor\":\"white\",\"automargin\":true,\"zerolinewidth\":2},\"yaxis\":{\"gridcolor\":\"white\",\"linecolor\":\"white\",\"ticks\":\"\",\"title\":{\"standoff\":15},\"zerolinecolor\":\"white\",\"automargin\":true,\"zerolinewidth\":2},\"scene\":{\"xaxis\":{\"backgroundcolor\":\"#E5ECF6\",\"gridcolor\":\"white\",\"linecolor\":\"white\",\"showbackground\":true,\"ticks\":\"\",\"zerolinecolor\":\"white\",\"gridwidth\":2},\"yaxis\":{\"backgroundcolor\":\"#E5ECF6\",\"gridcolor\":\"white\",\"linecolor\":\"white\",\"showbackground\":true,\"ticks\":\"\",\"zerolinecolor\":\"white\",\"gridwidth\":2},\"zaxis\":{\"backgroundcolor\":\"#E5ECF6\",\"gridcolor\":\"white\",\"linecolor\":\"white\",\"showbackground\":true,\"ticks\":\"\",\"zerolinecolor\":\"white\",\"gridwidth\":2}},\"shapedefaults\":{\"line\":{\"color\":\"#2a3f5f\"}},\"annotationdefaults\":{\"arrowcolor\":\"#2a3f5f\",\"arrowhead\":0,\"arrowwidth\":1},\"geo\":{\"bgcolor\":\"white\",\"landcolor\":\"#E5ECF6\",\"subunitcolor\":\"white\",\"showland\":true,\"showlakes\":true,\"lakecolor\":\"white\"},\"title\":{\"x\":0.05},\"mapbox\":{\"style\":\"light\"}}},\"xaxis\":{\"anchor\":\"y\",\"domain\":[0.0,1.0],\"title\":{\"text\":\"Region\"}},\"yaxis\":{\"anchor\":\"x\",\"domain\":[0.0,1.0],\"title\":{\"text\":\"Generosity\"}},\"coloraxis\":{\"colorbar\":{\"title\":{\"text\":\"Happiness Score\"}},\"colorscale\":[[0.0,\"#0d0887\"],[0.1111111111111111,\"#46039f\"],[0.2222222222222222,\"#7201a8\"],[0.3333333333333333,\"#9c179e\"],[0.4444444444444444,\"#bd3786\"],[0.5555555555555556,\"#d8576b\"],[0.6666666666666666,\"#ed7953\"],[0.7777777777777778,\"#fb9f3a\"],[0.8888888888888888,\"#fdca26\"],[1.0,\"#f0f921\"]]},\"legend\":{\"tracegroupgap\":0},\"margin\":{\"t\":60}},                        {\"responsive\": true}                    ).then(function(){\n",
       "                            \n",
       "var gd = document.getElementById('e5578b95-81d1-490b-bd1c-781467b5ba6d');\n",
       "var x = new MutationObserver(function (mutations, observer) {{\n",
       "        var display = window.getComputedStyle(gd).display;\n",
       "        if (!display || display === 'none') {{\n",
       "            console.log([gd, 'removed!']);\n",
       "            Plotly.purge(gd);\n",
       "            observer.disconnect();\n",
       "        }}\n",
       "}});\n",
       "\n",
       "// Listen for the removal of the full notebook cells\n",
       "var notebookContainer = gd.closest('#notebook-container');\n",
       "if (notebookContainer) {{\n",
       "    x.observe(notebookContainer, {childList: true});\n",
       "}}\n",
       "\n",
       "// Listen for the clearing of the current output cell\n",
       "var outputEl = gd.closest('.output');\n",
       "if (outputEl) {{\n",
       "    x.observe(outputEl, {childList: true});\n",
       "}}\n",
       "\n",
       "                        })                };                });            </script>        </div>"
      ]
     },
     "metadata": {},
     "output_type": "display_data"
    },
    {
     "data": {
      "text/plain": [
       "<Figure size 1080x504 with 0 Axes>"
      ]
     },
     "metadata": {},
     "output_type": "display_data"
    }
   ],
   "source": [
    "plt.figure(figsize=(15,7))\n",
    "GDP = px.scatter(df,x= 'Region', y = 'Generosity',color = 'Happiness Score')\n",
    "GDP.show()"
   ]
  },
  {
   "cell_type": "code",
   "execution_count": 143,
   "id": "aef2a71b",
   "metadata": {},
   "outputs": [
    {
     "data": {
      "application/vnd.plotly.v1+json": {
       "config": {
        "plotlyServerURL": "https://plot.ly"
       },
       "data": [
        {
         "hovertemplate": "Region=%{x}<br>Family=%{y}<br>Happiness Score=%{marker.color}<extra></extra>",
         "legendgroup": "",
         "marker": {
          "color": [
           7.587,
           7.561,
           7.527,
           7.522,
           7.427,
           7.406,
           7.378,
           7.364,
           7.286,
           7.284,
           7.278,
           7.226,
           7.2,
           7.187,
           7.119,
           6.983,
           6.946,
           6.94,
           6.937,
           6.901,
           6.867,
           6.853,
           6.81,
           6.798,
           6.786,
           6.75,
           6.67,
           6.611,
           6.575,
           6.574,
           6.505,
           6.485,
           6.477,
           6.455,
           6.411,
           6.329,
           6.302,
           6.298,
           6.295,
           6.269,
           6.168,
           6.13,
           6.123,
           6.003,
           5.995,
           5.987,
           5.984,
           5.975,
           5.96,
           5.948,
           5.89,
           5.889,
           5.878,
           5.855,
           5.848,
           5.833,
           5.828,
           5.824,
           5.813,
           5.791,
           5.77,
           5.759,
           5.754,
           5.716,
           5.709,
           5.695,
           5.689,
           5.605,
           5.589,
           5.548,
           5.477,
           5.474,
           5.429,
           5.399,
           5.36,
           5.332,
           5.286,
           5.268,
           5.253,
           5.212,
           5.194,
           5.192,
           5.192,
           5.14,
           5.129,
           5.124,
           5.123,
           5.102,
           5.098,
           5.073,
           5.057,
           5.013,
           5.007,
           4.971,
           4.959,
           4.949,
           4.898,
           4.885,
           4.876,
           4.874,
           4.867,
           4.857,
           4.839,
           4.8,
           4.788,
           4.786,
           4.739,
           4.715,
           4.694,
           4.686,
           4.681,
           4.677,
           4.642,
           4.633,
           4.61,
           4.571,
           4.565,
           4.55,
           4.518,
           4.517,
           4.514,
           4.512,
           4.507,
           4.436,
           4.419,
           4.369,
           4.35,
           4.332,
           4.307,
           4.297,
           4.292,
           4.271,
           4.252,
           4.218,
           4.194,
           4.077,
           4.033,
           3.995,
           3.989,
           3.956,
           3.931,
           3.904,
           3.896,
           3.845,
           3.819,
           3.781,
           3.681,
           3.678,
           3.667,
           3.656,
           3.655,
           3.587,
           3.575,
           3.465,
           3.34,
           3.006,
           2.905,
           2.839
          ],
          "coloraxis": "coloraxis",
          "symbol": "circle"
         },
         "mode": "markers",
         "name": "",
         "orientation": "v",
         "showlegend": false,
         "type": "scatter",
         "x": [
          "Western Europe",
          "Western Europe",
          "Western Europe",
          "Western Europe",
          "North America",
          "Western Europe",
          "Western Europe",
          "Western Europe",
          "Australia and New Zealand",
          "Australia and New Zealand",
          "Middle East and Northern Africa",
          "Latin America and Caribbean",
          "Western Europe",
          "Latin America and Caribbean",
          "North America",
          "Latin America and Caribbean",
          "Western Europe",
          "Western Europe",
          "Western Europe",
          "Middle East and Northern Africa",
          "Western Europe",
          "Middle East and Northern Africa",
          "Latin America and Caribbean",
          "Southeastern Asia",
          "Latin America and Caribbean",
          "Western Europe",
          "Latin America and Caribbean",
          "Middle East and Northern Africa",
          "Western Europe",
          "Latin America and Caribbean",
          "Central and Eastern Europe",
          "Latin America and Caribbean",
          "Latin America and Caribbean",
          "Southeastern Asia",
          "Middle East and Northern Africa",
          "Western Europe",
          "Western Europe",
          "Eastern Asia",
          "Middle East and Northern Africa",
          "Latin America and Caribbean",
          "Latin America and Caribbean",
          "Latin America and Caribbean",
          "Latin America and Caribbean",
          "Central and Eastern Europe",
          "Central and Eastern Europe",
          "Eastern Asia",
          "Eastern Asia",
          "Latin America and Caribbean",
          "Middle East and Northern Africa",
          "Western Europe",
          "Latin America and Caribbean",
          "Central and Eastern Europe",
          "Latin America and Caribbean",
          "Central and Eastern Europe",
          "Central and Eastern Europe",
          "Central and Eastern Europe",
          "Latin America and Caribbean",
          "Latin America and Caribbean",
          "Central and Eastern Europe",
          "Central and Eastern Europe",
          "Southeastern Asia",
          "Central and Eastern Europe",
          "Middle East and Northern Africa",
          "Central and Eastern Europe",
          "Latin America and Caribbean",
          "Western Europe",
          "Western Europe",
          "Middle East and Northern Africa",
          "Central and Eastern Europe",
          "Central and Eastern Europe",
          "Sub-Saharan Africa",
          "Eastern Asia",
          "Central and Eastern Europe",
          "Southeastern Asia",
          "Southeastern Asia",
          "Middle East and Northern Africa",
          "Central and Eastern Europe",
          "Sub-Saharan Africa",
          "Southern Asia",
          "Central and Eastern Europe",
          "Southern Asia",
          "Middle East and Northern Africa",
          "Central and Eastern Europe",
          "Eastern Asia",
          "Sub-Saharan Africa",
          "Central and Eastern Europe",
          "Central and Eastern Europe",
          "Western Europe",
          "Central and Eastern Europe",
          "Southeastern Asia",
          "Sub-Saharan Africa",
          "Middle East and Northern Africa",
          "Central and Eastern Europe",
          "Sub-Saharan Africa",
          "Central and Eastern Europe",
          "Central and Eastern Europe",
          "Sub-Saharan Africa",
          "Latin America and Caribbean",
          "Southeastern Asia",
          "Eastern Asia",
          "Sub-Saharan Africa",
          "Western Europe",
          "Middle East and Northern Africa",
          "Central and Eastern Europe",
          "Latin America and Caribbean",
          "Central and Eastern Europe",
          "Middle East and Northern Africa",
          "Middle East and Northern Africa",
          "Southern Asia",
          "Middle East and Northern Africa",
          "Central and Eastern Europe",
          "Middle East and Northern Africa",
          "Sub-Saharan Africa",
          "Sub-Saharan Africa",
          "Sub-Saharan Africa",
          "Sub-Saharan Africa",
          "Southern Asia",
          "Sub-Saharan Africa",
          "Latin America and Caribbean",
          "Sub-Saharan Africa",
          "Southern Asia",
          "Sub-Saharan Africa",
          "Sub-Saharan Africa",
          "Sub-Saharan Africa",
          "Sub-Saharan Africa",
          "Sub-Saharan Africa",
          "Central and Eastern Europe",
          "Sub-Saharan Africa",
          "Southeastern Asia",
          "Central and Eastern Europe",
          "Sub-Saharan Africa",
          "Southern Asia",
          "Sub-Saharan Africa",
          "Central and Eastern Europe",
          "Middle East and Northern Africa",
          "Middle East and Northern Africa",
          "Sub-Saharan Africa",
          "Sub-Saharan Africa",
          "Sub-Saharan Africa",
          "Sub-Saharan Africa",
          "Sub-Saharan Africa",
          "Sub-Saharan Africa",
          "Sub-Saharan Africa",
          "Sub-Saharan Africa",
          "Southeastern Asia",
          "Sub-Saharan Africa",
          "Sub-Saharan Africa",
          "Sub-Saharan Africa",
          "Sub-Saharan Africa",
          "Sub-Saharan Africa",
          "Sub-Saharan Africa",
          "Sub-Saharan Africa",
          "Southern Asia",
          "Sub-Saharan Africa",
          "Sub-Saharan Africa",
          "Middle East and Northern Africa",
          "Sub-Saharan Africa",
          "Sub-Saharan Africa"
         ],
         "xaxis": "x",
         "y": [
          1.34951,
          1.40223,
          1.36058,
          1.33095,
          1.32261,
          1.31826,
          1.28017,
          1.28907,
          1.31967,
          1.30923,
          1.22393,
          1.23788,
          1.29704,
          0.91451,
          1.24711,
          1.23287,
          1.21963,
          1.36948,
          1.28566,
          1.12575,
          1.28548,
          1.08182,
          1.25596,
          1.02,
          1.1985,
          1.29937,
          1.12447,
          1.0786,
          1.26038,
          1.24823,
          1.20643,
          1.2089,
          1.24018,
          1.26504,
          1.08393,
          1.31379,
          1.30203,
          1.07617,
          1.16594,
          0.972,
          1.18354,
          1.02507,
          1.04356,
          1.34043,
          1.26999,
          1.25712,
          0.95774,
          0.99903,
          1.21624,
          1.19777,
          0.97841,
          1.01528,
          1.30477,
          1.12241,
          1.27385,
          1.25745,
          1.14184,
          0.97459,
          1.23289,
          1.27948,
          1.07023,
          0.79624,
          1.11862,
          1.23617,
          1.15102,
          1.07008,
          0.89318,
          1.07772,
          0.81198,
          1.22668,
          0.98521,
          1.05818,
          1.22791,
          1.08708,
          0.91226,
          0.94632,
          1.15115,
          0.90432,
          1.10395,
          0.93793,
          0.41411,
          1.05392,
          0.90557,
          0.94675,
          0.91612,
          0.88588,
          1.00964,
          1.13935,
          1.09562,
          1.03516,
          0.95152,
          0.64095,
          1.00232,
          1.02626,
          0.80434,
          0.91916,
          1.04103,
          1.17202,
          0.73803,
          1.3006,
          1.07284,
          0.92933,
          0.80001,
          1.20215,
          0.95348,
          0.85563,
          0.60429,
          0.92558,
          0.43106,
          0.54447,
          1.20278,
          0.81889,
          1.18468,
          0.67954,
          1.03276,
          0.78968,
          0.38174,
          1.01404,
          0.74302,
          1.0012,
          0.86449,
          0.60406,
          0.95571,
          0.86908,
          0.99876,
          0.59207,
          0.77711,
          1.10464,
          0.70905,
          0.38562,
          0.41134,
          1.01905,
          0.88767,
          1.10614,
          0.747,
          0.68093,
          0.8604,
          1.03526,
          0.6629,
          0.79273,
          1.13299,
          0.97619,
          0.90528,
          0.77265,
          0.62736,
          1.00268,
          0.66801,
          0,
          0.76062,
          0.46475,
          0.77115,
          0.85188,
          0.30285,
          0.7737,
          0.35386,
          0.47489,
          0.41587,
          0.13995
         ],
         "yaxis": "y"
        }
       ],
       "layout": {
        "coloraxis": {
         "colorbar": {
          "title": {
           "text": "Happiness Score"
          }
         },
         "colorscale": [
          [
           0,
           "#0d0887"
          ],
          [
           0.1111111111111111,
           "#46039f"
          ],
          [
           0.2222222222222222,
           "#7201a8"
          ],
          [
           0.3333333333333333,
           "#9c179e"
          ],
          [
           0.4444444444444444,
           "#bd3786"
          ],
          [
           0.5555555555555556,
           "#d8576b"
          ],
          [
           0.6666666666666666,
           "#ed7953"
          ],
          [
           0.7777777777777778,
           "#fb9f3a"
          ],
          [
           0.8888888888888888,
           "#fdca26"
          ],
          [
           1,
           "#f0f921"
          ]
         ]
        },
        "legend": {
         "tracegroupgap": 0
        },
        "margin": {
         "t": 60
        },
        "template": {
         "data": {
          "bar": [
           {
            "error_x": {
             "color": "#2a3f5f"
            },
            "error_y": {
             "color": "#2a3f5f"
            },
            "marker": {
             "line": {
              "color": "#E5ECF6",
              "width": 0.5
             },
             "pattern": {
              "fillmode": "overlay",
              "size": 10,
              "solidity": 0.2
             }
            },
            "type": "bar"
           }
          ],
          "barpolar": [
           {
            "marker": {
             "line": {
              "color": "#E5ECF6",
              "width": 0.5
             },
             "pattern": {
              "fillmode": "overlay",
              "size": 10,
              "solidity": 0.2
             }
            },
            "type": "barpolar"
           }
          ],
          "carpet": [
           {
            "aaxis": {
             "endlinecolor": "#2a3f5f",
             "gridcolor": "white",
             "linecolor": "white",
             "minorgridcolor": "white",
             "startlinecolor": "#2a3f5f"
            },
            "baxis": {
             "endlinecolor": "#2a3f5f",
             "gridcolor": "white",
             "linecolor": "white",
             "minorgridcolor": "white",
             "startlinecolor": "#2a3f5f"
            },
            "type": "carpet"
           }
          ],
          "choropleth": [
           {
            "colorbar": {
             "outlinewidth": 0,
             "ticks": ""
            },
            "type": "choropleth"
           }
          ],
          "contour": [
           {
            "colorbar": {
             "outlinewidth": 0,
             "ticks": ""
            },
            "colorscale": [
             [
              0,
              "#0d0887"
             ],
             [
              0.1111111111111111,
              "#46039f"
             ],
             [
              0.2222222222222222,
              "#7201a8"
             ],
             [
              0.3333333333333333,
              "#9c179e"
             ],
             [
              0.4444444444444444,
              "#bd3786"
             ],
             [
              0.5555555555555556,
              "#d8576b"
             ],
             [
              0.6666666666666666,
              "#ed7953"
             ],
             [
              0.7777777777777778,
              "#fb9f3a"
             ],
             [
              0.8888888888888888,
              "#fdca26"
             ],
             [
              1,
              "#f0f921"
             ]
            ],
            "type": "contour"
           }
          ],
          "contourcarpet": [
           {
            "colorbar": {
             "outlinewidth": 0,
             "ticks": ""
            },
            "type": "contourcarpet"
           }
          ],
          "heatmap": [
           {
            "colorbar": {
             "outlinewidth": 0,
             "ticks": ""
            },
            "colorscale": [
             [
              0,
              "#0d0887"
             ],
             [
              0.1111111111111111,
              "#46039f"
             ],
             [
              0.2222222222222222,
              "#7201a8"
             ],
             [
              0.3333333333333333,
              "#9c179e"
             ],
             [
              0.4444444444444444,
              "#bd3786"
             ],
             [
              0.5555555555555556,
              "#d8576b"
             ],
             [
              0.6666666666666666,
              "#ed7953"
             ],
             [
              0.7777777777777778,
              "#fb9f3a"
             ],
             [
              0.8888888888888888,
              "#fdca26"
             ],
             [
              1,
              "#f0f921"
             ]
            ],
            "type": "heatmap"
           }
          ],
          "heatmapgl": [
           {
            "colorbar": {
             "outlinewidth": 0,
             "ticks": ""
            },
            "colorscale": [
             [
              0,
              "#0d0887"
             ],
             [
              0.1111111111111111,
              "#46039f"
             ],
             [
              0.2222222222222222,
              "#7201a8"
             ],
             [
              0.3333333333333333,
              "#9c179e"
             ],
             [
              0.4444444444444444,
              "#bd3786"
             ],
             [
              0.5555555555555556,
              "#d8576b"
             ],
             [
              0.6666666666666666,
              "#ed7953"
             ],
             [
              0.7777777777777778,
              "#fb9f3a"
             ],
             [
              0.8888888888888888,
              "#fdca26"
             ],
             [
              1,
              "#f0f921"
             ]
            ],
            "type": "heatmapgl"
           }
          ],
          "histogram": [
           {
            "marker": {
             "pattern": {
              "fillmode": "overlay",
              "size": 10,
              "solidity": 0.2
             }
            },
            "type": "histogram"
           }
          ],
          "histogram2d": [
           {
            "colorbar": {
             "outlinewidth": 0,
             "ticks": ""
            },
            "colorscale": [
             [
              0,
              "#0d0887"
             ],
             [
              0.1111111111111111,
              "#46039f"
             ],
             [
              0.2222222222222222,
              "#7201a8"
             ],
             [
              0.3333333333333333,
              "#9c179e"
             ],
             [
              0.4444444444444444,
              "#bd3786"
             ],
             [
              0.5555555555555556,
              "#d8576b"
             ],
             [
              0.6666666666666666,
              "#ed7953"
             ],
             [
              0.7777777777777778,
              "#fb9f3a"
             ],
             [
              0.8888888888888888,
              "#fdca26"
             ],
             [
              1,
              "#f0f921"
             ]
            ],
            "type": "histogram2d"
           }
          ],
          "histogram2dcontour": [
           {
            "colorbar": {
             "outlinewidth": 0,
             "ticks": ""
            },
            "colorscale": [
             [
              0,
              "#0d0887"
             ],
             [
              0.1111111111111111,
              "#46039f"
             ],
             [
              0.2222222222222222,
              "#7201a8"
             ],
             [
              0.3333333333333333,
              "#9c179e"
             ],
             [
              0.4444444444444444,
              "#bd3786"
             ],
             [
              0.5555555555555556,
              "#d8576b"
             ],
             [
              0.6666666666666666,
              "#ed7953"
             ],
             [
              0.7777777777777778,
              "#fb9f3a"
             ],
             [
              0.8888888888888888,
              "#fdca26"
             ],
             [
              1,
              "#f0f921"
             ]
            ],
            "type": "histogram2dcontour"
           }
          ],
          "mesh3d": [
           {
            "colorbar": {
             "outlinewidth": 0,
             "ticks": ""
            },
            "type": "mesh3d"
           }
          ],
          "parcoords": [
           {
            "line": {
             "colorbar": {
              "outlinewidth": 0,
              "ticks": ""
             }
            },
            "type": "parcoords"
           }
          ],
          "pie": [
           {
            "automargin": true,
            "type": "pie"
           }
          ],
          "scatter": [
           {
            "fillpattern": {
             "fillmode": "overlay",
             "size": 10,
             "solidity": 0.2
            },
            "type": "scatter"
           }
          ],
          "scatter3d": [
           {
            "line": {
             "colorbar": {
              "outlinewidth": 0,
              "ticks": ""
             }
            },
            "marker": {
             "colorbar": {
              "outlinewidth": 0,
              "ticks": ""
             }
            },
            "type": "scatter3d"
           }
          ],
          "scattercarpet": [
           {
            "marker": {
             "colorbar": {
              "outlinewidth": 0,
              "ticks": ""
             }
            },
            "type": "scattercarpet"
           }
          ],
          "scattergeo": [
           {
            "marker": {
             "colorbar": {
              "outlinewidth": 0,
              "ticks": ""
             }
            },
            "type": "scattergeo"
           }
          ],
          "scattergl": [
           {
            "marker": {
             "colorbar": {
              "outlinewidth": 0,
              "ticks": ""
             }
            },
            "type": "scattergl"
           }
          ],
          "scattermapbox": [
           {
            "marker": {
             "colorbar": {
              "outlinewidth": 0,
              "ticks": ""
             }
            },
            "type": "scattermapbox"
           }
          ],
          "scatterpolar": [
           {
            "marker": {
             "colorbar": {
              "outlinewidth": 0,
              "ticks": ""
             }
            },
            "type": "scatterpolar"
           }
          ],
          "scatterpolargl": [
           {
            "marker": {
             "colorbar": {
              "outlinewidth": 0,
              "ticks": ""
             }
            },
            "type": "scatterpolargl"
           }
          ],
          "scatterternary": [
           {
            "marker": {
             "colorbar": {
              "outlinewidth": 0,
              "ticks": ""
             }
            },
            "type": "scatterternary"
           }
          ],
          "surface": [
           {
            "colorbar": {
             "outlinewidth": 0,
             "ticks": ""
            },
            "colorscale": [
             [
              0,
              "#0d0887"
             ],
             [
              0.1111111111111111,
              "#46039f"
             ],
             [
              0.2222222222222222,
              "#7201a8"
             ],
             [
              0.3333333333333333,
              "#9c179e"
             ],
             [
              0.4444444444444444,
              "#bd3786"
             ],
             [
              0.5555555555555556,
              "#d8576b"
             ],
             [
              0.6666666666666666,
              "#ed7953"
             ],
             [
              0.7777777777777778,
              "#fb9f3a"
             ],
             [
              0.8888888888888888,
              "#fdca26"
             ],
             [
              1,
              "#f0f921"
             ]
            ],
            "type": "surface"
           }
          ],
          "table": [
           {
            "cells": {
             "fill": {
              "color": "#EBF0F8"
             },
             "line": {
              "color": "white"
             }
            },
            "header": {
             "fill": {
              "color": "#C8D4E3"
             },
             "line": {
              "color": "white"
             }
            },
            "type": "table"
           }
          ]
         },
         "layout": {
          "annotationdefaults": {
           "arrowcolor": "#2a3f5f",
           "arrowhead": 0,
           "arrowwidth": 1
          },
          "autotypenumbers": "strict",
          "coloraxis": {
           "colorbar": {
            "outlinewidth": 0,
            "ticks": ""
           }
          },
          "colorscale": {
           "diverging": [
            [
             0,
             "#8e0152"
            ],
            [
             0.1,
             "#c51b7d"
            ],
            [
             0.2,
             "#de77ae"
            ],
            [
             0.3,
             "#f1b6da"
            ],
            [
             0.4,
             "#fde0ef"
            ],
            [
             0.5,
             "#f7f7f7"
            ],
            [
             0.6,
             "#e6f5d0"
            ],
            [
             0.7,
             "#b8e186"
            ],
            [
             0.8,
             "#7fbc41"
            ],
            [
             0.9,
             "#4d9221"
            ],
            [
             1,
             "#276419"
            ]
           ],
           "sequential": [
            [
             0,
             "#0d0887"
            ],
            [
             0.1111111111111111,
             "#46039f"
            ],
            [
             0.2222222222222222,
             "#7201a8"
            ],
            [
             0.3333333333333333,
             "#9c179e"
            ],
            [
             0.4444444444444444,
             "#bd3786"
            ],
            [
             0.5555555555555556,
             "#d8576b"
            ],
            [
             0.6666666666666666,
             "#ed7953"
            ],
            [
             0.7777777777777778,
             "#fb9f3a"
            ],
            [
             0.8888888888888888,
             "#fdca26"
            ],
            [
             1,
             "#f0f921"
            ]
           ],
           "sequentialminus": [
            [
             0,
             "#0d0887"
            ],
            [
             0.1111111111111111,
             "#46039f"
            ],
            [
             0.2222222222222222,
             "#7201a8"
            ],
            [
             0.3333333333333333,
             "#9c179e"
            ],
            [
             0.4444444444444444,
             "#bd3786"
            ],
            [
             0.5555555555555556,
             "#d8576b"
            ],
            [
             0.6666666666666666,
             "#ed7953"
            ],
            [
             0.7777777777777778,
             "#fb9f3a"
            ],
            [
             0.8888888888888888,
             "#fdca26"
            ],
            [
             1,
             "#f0f921"
            ]
           ]
          },
          "colorway": [
           "#636efa",
           "#EF553B",
           "#00cc96",
           "#ab63fa",
           "#FFA15A",
           "#19d3f3",
           "#FF6692",
           "#B6E880",
           "#FF97FF",
           "#FECB52"
          ],
          "font": {
           "color": "#2a3f5f"
          },
          "geo": {
           "bgcolor": "white",
           "lakecolor": "white",
           "landcolor": "#E5ECF6",
           "showlakes": true,
           "showland": true,
           "subunitcolor": "white"
          },
          "hoverlabel": {
           "align": "left"
          },
          "hovermode": "closest",
          "mapbox": {
           "style": "light"
          },
          "paper_bgcolor": "white",
          "plot_bgcolor": "#E5ECF6",
          "polar": {
           "angularaxis": {
            "gridcolor": "white",
            "linecolor": "white",
            "ticks": ""
           },
           "bgcolor": "#E5ECF6",
           "radialaxis": {
            "gridcolor": "white",
            "linecolor": "white",
            "ticks": ""
           }
          },
          "scene": {
           "xaxis": {
            "backgroundcolor": "#E5ECF6",
            "gridcolor": "white",
            "gridwidth": 2,
            "linecolor": "white",
            "showbackground": true,
            "ticks": "",
            "zerolinecolor": "white"
           },
           "yaxis": {
            "backgroundcolor": "#E5ECF6",
            "gridcolor": "white",
            "gridwidth": 2,
            "linecolor": "white",
            "showbackground": true,
            "ticks": "",
            "zerolinecolor": "white"
           },
           "zaxis": {
            "backgroundcolor": "#E5ECF6",
            "gridcolor": "white",
            "gridwidth": 2,
            "linecolor": "white",
            "showbackground": true,
            "ticks": "",
            "zerolinecolor": "white"
           }
          },
          "shapedefaults": {
           "line": {
            "color": "#2a3f5f"
           }
          },
          "ternary": {
           "aaxis": {
            "gridcolor": "white",
            "linecolor": "white",
            "ticks": ""
           },
           "baxis": {
            "gridcolor": "white",
            "linecolor": "white",
            "ticks": ""
           },
           "bgcolor": "#E5ECF6",
           "caxis": {
            "gridcolor": "white",
            "linecolor": "white",
            "ticks": ""
           }
          },
          "title": {
           "x": 0.05
          },
          "xaxis": {
           "automargin": true,
           "gridcolor": "white",
           "linecolor": "white",
           "ticks": "",
           "title": {
            "standoff": 15
           },
           "zerolinecolor": "white",
           "zerolinewidth": 2
          },
          "yaxis": {
           "automargin": true,
           "gridcolor": "white",
           "linecolor": "white",
           "ticks": "",
           "title": {
            "standoff": 15
           },
           "zerolinecolor": "white",
           "zerolinewidth": 2
          }
         }
        },
        "xaxis": {
         "anchor": "y",
         "domain": [
          0,
          1
         ],
         "title": {
          "text": "Region"
         }
        },
        "yaxis": {
         "anchor": "x",
         "domain": [
          0,
          1
         ],
         "title": {
          "text": "Family"
         }
        }
       }
      },
      "text/html": [
       "<div>                            <div id=\"98f70565-207c-47c5-a1e5-c66d72c06c9d\" class=\"plotly-graph-div\" style=\"height:525px; width:100%;\"></div>            <script type=\"text/javascript\">                require([\"plotly\"], function(Plotly) {                    window.PLOTLYENV=window.PLOTLYENV || {};                                    if (document.getElementById(\"98f70565-207c-47c5-a1e5-c66d72c06c9d\")) {                    Plotly.newPlot(                        \"98f70565-207c-47c5-a1e5-c66d72c06c9d\",                        [{\"hovertemplate\":\"Region=%{x}<br>Family=%{y}<br>Happiness Score=%{marker.color}<extra></extra>\",\"legendgroup\":\"\",\"marker\":{\"color\":[7.587,7.561,7.527,7.522,7.427,7.406,7.378,7.364,7.286,7.284,7.278,7.226,7.2,7.187,7.119,6.983,6.946,6.94,6.937,6.901,6.867,6.853,6.81,6.798,6.786,6.75,6.67,6.611,6.575,6.574,6.505,6.485,6.477,6.455,6.411,6.329,6.302,6.298,6.295,6.269,6.168,6.13,6.123,6.003,5.995,5.987,5.984,5.975,5.96,5.948,5.89,5.889,5.878,5.855,5.848,5.833,5.828,5.824,5.813,5.791,5.77,5.759,5.754,5.716,5.709,5.695,5.689,5.605,5.589,5.548,5.477,5.474,5.429,5.399,5.36,5.332,5.286,5.268,5.253,5.212,5.194,5.192,5.192,5.14,5.129,5.124,5.123,5.102,5.098,5.073,5.057,5.013,5.007,4.971,4.959,4.949,4.898,4.885,4.876,4.874,4.867,4.857,4.839,4.8,4.788,4.786,4.739,4.715,4.694,4.686,4.681,4.677,4.642,4.633,4.61,4.571,4.565,4.55,4.518,4.517,4.514,4.512,4.507,4.436,4.419,4.369,4.35,4.332,4.307,4.297,4.292,4.271,4.252,4.218,4.194,4.077,4.033,3.995,3.989,3.956,3.931,3.904,3.896,3.845,3.819,3.781,3.681,3.678,3.667,3.656,3.655,3.587,3.575,3.465,3.34,3.006,2.905,2.839],\"coloraxis\":\"coloraxis\",\"symbol\":\"circle\"},\"mode\":\"markers\",\"name\":\"\",\"orientation\":\"v\",\"showlegend\":false,\"x\":[\"Western Europe\",\"Western Europe\",\"Western Europe\",\"Western Europe\",\"North America\",\"Western Europe\",\"Western Europe\",\"Western Europe\",\"Australia and New Zealand\",\"Australia and New Zealand\",\"Middle East and Northern Africa\",\"Latin America and Caribbean\",\"Western Europe\",\"Latin America and Caribbean\",\"North America\",\"Latin America and Caribbean\",\"Western Europe\",\"Western Europe\",\"Western Europe\",\"Middle East and Northern Africa\",\"Western Europe\",\"Middle East and Northern Africa\",\"Latin America and Caribbean\",\"Southeastern Asia\",\"Latin America and Caribbean\",\"Western Europe\",\"Latin America and Caribbean\",\"Middle East and Northern Africa\",\"Western Europe\",\"Latin America and Caribbean\",\"Central and Eastern Europe\",\"Latin America and Caribbean\",\"Latin America and Caribbean\",\"Southeastern Asia\",\"Middle East and Northern Africa\",\"Western Europe\",\"Western Europe\",\"Eastern Asia\",\"Middle East and Northern Africa\",\"Latin America and Caribbean\",\"Latin America and Caribbean\",\"Latin America and Caribbean\",\"Latin America and Caribbean\",\"Central and Eastern Europe\",\"Central and Eastern Europe\",\"Eastern Asia\",\"Eastern Asia\",\"Latin America and Caribbean\",\"Middle East and Northern Africa\",\"Western Europe\",\"Latin America and Caribbean\",\"Central and Eastern Europe\",\"Latin America and Caribbean\",\"Central and Eastern Europe\",\"Central and Eastern Europe\",\"Central and Eastern Europe\",\"Latin America and Caribbean\",\"Latin America and Caribbean\",\"Central and Eastern Europe\",\"Central and Eastern Europe\",\"Southeastern Asia\",\"Central and Eastern Europe\",\"Middle East and Northern Africa\",\"Central and Eastern Europe\",\"Latin America and Caribbean\",\"Western Europe\",\"Western Europe\",\"Middle East and Northern Africa\",\"Central and Eastern Europe\",\"Central and Eastern Europe\",\"Sub-Saharan Africa\",\"Eastern Asia\",\"Central and Eastern Europe\",\"Southeastern Asia\",\"Southeastern Asia\",\"Middle East and Northern Africa\",\"Central and Eastern Europe\",\"Sub-Saharan Africa\",\"Southern Asia\",\"Central and Eastern Europe\",\"Southern Asia\",\"Middle East and Northern Africa\",\"Central and Eastern Europe\",\"Eastern Asia\",\"Sub-Saharan Africa\",\"Central and Eastern Europe\",\"Central and Eastern Europe\",\"Western Europe\",\"Central and Eastern Europe\",\"Southeastern Asia\",\"Sub-Saharan Africa\",\"Middle East and Northern Africa\",\"Central and Eastern Europe\",\"Sub-Saharan Africa\",\"Central and Eastern Europe\",\"Central and Eastern Europe\",\"Sub-Saharan Africa\",\"Latin America and Caribbean\",\"Southeastern Asia\",\"Eastern Asia\",\"Sub-Saharan Africa\",\"Western Europe\",\"Middle East and Northern Africa\",\"Central and Eastern Europe\",\"Latin America and Caribbean\",\"Central and Eastern Europe\",\"Middle East and Northern Africa\",\"Middle East and Northern Africa\",\"Southern Asia\",\"Middle East and Northern Africa\",\"Central and Eastern Europe\",\"Middle East and Northern Africa\",\"Sub-Saharan Africa\",\"Sub-Saharan Africa\",\"Sub-Saharan Africa\",\"Sub-Saharan Africa\",\"Southern Asia\",\"Sub-Saharan Africa\",\"Latin America and Caribbean\",\"Sub-Saharan Africa\",\"Southern Asia\",\"Sub-Saharan Africa\",\"Sub-Saharan Africa\",\"Sub-Saharan Africa\",\"Sub-Saharan Africa\",\"Sub-Saharan Africa\",\"Central and Eastern Europe\",\"Sub-Saharan Africa\",\"Southeastern Asia\",\"Central and Eastern Europe\",\"Sub-Saharan Africa\",\"Southern Asia\",\"Sub-Saharan Africa\",\"Central and Eastern Europe\",\"Middle East and Northern Africa\",\"Middle East and Northern Africa\",\"Sub-Saharan Africa\",\"Sub-Saharan Africa\",\"Sub-Saharan Africa\",\"Sub-Saharan Africa\",\"Sub-Saharan Africa\",\"Sub-Saharan Africa\",\"Sub-Saharan Africa\",\"Sub-Saharan Africa\",\"Southeastern Asia\",\"Sub-Saharan Africa\",\"Sub-Saharan Africa\",\"Sub-Saharan Africa\",\"Sub-Saharan Africa\",\"Sub-Saharan Africa\",\"Sub-Saharan Africa\",\"Sub-Saharan Africa\",\"Southern Asia\",\"Sub-Saharan Africa\",\"Sub-Saharan Africa\",\"Middle East and Northern Africa\",\"Sub-Saharan Africa\",\"Sub-Saharan Africa\"],\"xaxis\":\"x\",\"y\":[1.34951,1.40223,1.36058,1.33095,1.32261,1.31826,1.28017,1.28907,1.31967,1.30923,1.22393,1.23788,1.29704,0.91451,1.24711,1.23287,1.21963,1.36948,1.28566,1.12575,1.28548,1.08182,1.25596,1.02,1.1985,1.29937,1.12447,1.0786,1.26038,1.24823,1.20643,1.2089,1.24018,1.26504,1.08393,1.31379,1.30203,1.07617,1.16594,0.972,1.18354,1.02507,1.04356,1.34043,1.26999,1.25712,0.95774,0.99903,1.21624,1.19777,0.97841,1.01528,1.30477,1.12241,1.27385,1.25745,1.14184,0.97459,1.23289,1.27948,1.07023,0.79624,1.11862,1.23617,1.15102,1.07008,0.89318,1.07772,0.81198,1.22668,0.98521,1.05818,1.22791,1.08708,0.91226,0.94632,1.15115,0.90432,1.10395,0.93793,0.41411,1.05392,0.90557,0.94675,0.91612,0.88588,1.00964,1.13935,1.09562,1.03516,0.95152,0.64095,1.00232,1.02626,0.80434,0.91916,1.04103,1.17202,0.73803,1.3006,1.07284,0.92933,0.80001,1.20215,0.95348,0.85563,0.60429,0.92558,0.43106,0.54447,1.20278,0.81889,1.18468,0.67954,1.03276,0.78968,0.38174,1.01404,0.74302,1.0012,0.86449,0.60406,0.95571,0.86908,0.99876,0.59207,0.77711,1.10464,0.70905,0.38562,0.41134,1.01905,0.88767,1.10614,0.747,0.68093,0.8604,1.03526,0.6629,0.79273,1.13299,0.97619,0.90528,0.77265,0.62736,1.00268,0.66801,0.0,0.76062,0.46475,0.77115,0.85188,0.30285,0.7737,0.35386,0.47489,0.41587,0.13995],\"yaxis\":\"y\",\"type\":\"scatter\"}],                        {\"template\":{\"data\":{\"histogram2dcontour\":[{\"type\":\"histogram2dcontour\",\"colorbar\":{\"outlinewidth\":0,\"ticks\":\"\"},\"colorscale\":[[0.0,\"#0d0887\"],[0.1111111111111111,\"#46039f\"],[0.2222222222222222,\"#7201a8\"],[0.3333333333333333,\"#9c179e\"],[0.4444444444444444,\"#bd3786\"],[0.5555555555555556,\"#d8576b\"],[0.6666666666666666,\"#ed7953\"],[0.7777777777777778,\"#fb9f3a\"],[0.8888888888888888,\"#fdca26\"],[1.0,\"#f0f921\"]]}],\"choropleth\":[{\"type\":\"choropleth\",\"colorbar\":{\"outlinewidth\":0,\"ticks\":\"\"}}],\"histogram2d\":[{\"type\":\"histogram2d\",\"colorbar\":{\"outlinewidth\":0,\"ticks\":\"\"},\"colorscale\":[[0.0,\"#0d0887\"],[0.1111111111111111,\"#46039f\"],[0.2222222222222222,\"#7201a8\"],[0.3333333333333333,\"#9c179e\"],[0.4444444444444444,\"#bd3786\"],[0.5555555555555556,\"#d8576b\"],[0.6666666666666666,\"#ed7953\"],[0.7777777777777778,\"#fb9f3a\"],[0.8888888888888888,\"#fdca26\"],[1.0,\"#f0f921\"]]}],\"heatmap\":[{\"type\":\"heatmap\",\"colorbar\":{\"outlinewidth\":0,\"ticks\":\"\"},\"colorscale\":[[0.0,\"#0d0887\"],[0.1111111111111111,\"#46039f\"],[0.2222222222222222,\"#7201a8\"],[0.3333333333333333,\"#9c179e\"],[0.4444444444444444,\"#bd3786\"],[0.5555555555555556,\"#d8576b\"],[0.6666666666666666,\"#ed7953\"],[0.7777777777777778,\"#fb9f3a\"],[0.8888888888888888,\"#fdca26\"],[1.0,\"#f0f921\"]]}],\"heatmapgl\":[{\"type\":\"heatmapgl\",\"colorbar\":{\"outlinewidth\":0,\"ticks\":\"\"},\"colorscale\":[[0.0,\"#0d0887\"],[0.1111111111111111,\"#46039f\"],[0.2222222222222222,\"#7201a8\"],[0.3333333333333333,\"#9c179e\"],[0.4444444444444444,\"#bd3786\"],[0.5555555555555556,\"#d8576b\"],[0.6666666666666666,\"#ed7953\"],[0.7777777777777778,\"#fb9f3a\"],[0.8888888888888888,\"#fdca26\"],[1.0,\"#f0f921\"]]}],\"contourcarpet\":[{\"type\":\"contourcarpet\",\"colorbar\":{\"outlinewidth\":0,\"ticks\":\"\"}}],\"contour\":[{\"type\":\"contour\",\"colorbar\":{\"outlinewidth\":0,\"ticks\":\"\"},\"colorscale\":[[0.0,\"#0d0887\"],[0.1111111111111111,\"#46039f\"],[0.2222222222222222,\"#7201a8\"],[0.3333333333333333,\"#9c179e\"],[0.4444444444444444,\"#bd3786\"],[0.5555555555555556,\"#d8576b\"],[0.6666666666666666,\"#ed7953\"],[0.7777777777777778,\"#fb9f3a\"],[0.8888888888888888,\"#fdca26\"],[1.0,\"#f0f921\"]]}],\"surface\":[{\"type\":\"surface\",\"colorbar\":{\"outlinewidth\":0,\"ticks\":\"\"},\"colorscale\":[[0.0,\"#0d0887\"],[0.1111111111111111,\"#46039f\"],[0.2222222222222222,\"#7201a8\"],[0.3333333333333333,\"#9c179e\"],[0.4444444444444444,\"#bd3786\"],[0.5555555555555556,\"#d8576b\"],[0.6666666666666666,\"#ed7953\"],[0.7777777777777778,\"#fb9f3a\"],[0.8888888888888888,\"#fdca26\"],[1.0,\"#f0f921\"]]}],\"mesh3d\":[{\"type\":\"mesh3d\",\"colorbar\":{\"outlinewidth\":0,\"ticks\":\"\"}}],\"scatter\":[{\"fillpattern\":{\"fillmode\":\"overlay\",\"size\":10,\"solidity\":0.2},\"type\":\"scatter\"}],\"parcoords\":[{\"type\":\"parcoords\",\"line\":{\"colorbar\":{\"outlinewidth\":0,\"ticks\":\"\"}}}],\"scatterpolargl\":[{\"type\":\"scatterpolargl\",\"marker\":{\"colorbar\":{\"outlinewidth\":0,\"ticks\":\"\"}}}],\"bar\":[{\"error_x\":{\"color\":\"#2a3f5f\"},\"error_y\":{\"color\":\"#2a3f5f\"},\"marker\":{\"line\":{\"color\":\"#E5ECF6\",\"width\":0.5},\"pattern\":{\"fillmode\":\"overlay\",\"size\":10,\"solidity\":0.2}},\"type\":\"bar\"}],\"scattergeo\":[{\"type\":\"scattergeo\",\"marker\":{\"colorbar\":{\"outlinewidth\":0,\"ticks\":\"\"}}}],\"scatterpolar\":[{\"type\":\"scatterpolar\",\"marker\":{\"colorbar\":{\"outlinewidth\":0,\"ticks\":\"\"}}}],\"histogram\":[{\"marker\":{\"pattern\":{\"fillmode\":\"overlay\",\"size\":10,\"solidity\":0.2}},\"type\":\"histogram\"}],\"scattergl\":[{\"type\":\"scattergl\",\"marker\":{\"colorbar\":{\"outlinewidth\":0,\"ticks\":\"\"}}}],\"scatter3d\":[{\"type\":\"scatter3d\",\"line\":{\"colorbar\":{\"outlinewidth\":0,\"ticks\":\"\"}},\"marker\":{\"colorbar\":{\"outlinewidth\":0,\"ticks\":\"\"}}}],\"scattermapbox\":[{\"type\":\"scattermapbox\",\"marker\":{\"colorbar\":{\"outlinewidth\":0,\"ticks\":\"\"}}}],\"scatterternary\":[{\"type\":\"scatterternary\",\"marker\":{\"colorbar\":{\"outlinewidth\":0,\"ticks\":\"\"}}}],\"scattercarpet\":[{\"type\":\"scattercarpet\",\"marker\":{\"colorbar\":{\"outlinewidth\":0,\"ticks\":\"\"}}}],\"carpet\":[{\"aaxis\":{\"endlinecolor\":\"#2a3f5f\",\"gridcolor\":\"white\",\"linecolor\":\"white\",\"minorgridcolor\":\"white\",\"startlinecolor\":\"#2a3f5f\"},\"baxis\":{\"endlinecolor\":\"#2a3f5f\",\"gridcolor\":\"white\",\"linecolor\":\"white\",\"minorgridcolor\":\"white\",\"startlinecolor\":\"#2a3f5f\"},\"type\":\"carpet\"}],\"table\":[{\"cells\":{\"fill\":{\"color\":\"#EBF0F8\"},\"line\":{\"color\":\"white\"}},\"header\":{\"fill\":{\"color\":\"#C8D4E3\"},\"line\":{\"color\":\"white\"}},\"type\":\"table\"}],\"barpolar\":[{\"marker\":{\"line\":{\"color\":\"#E5ECF6\",\"width\":0.5},\"pattern\":{\"fillmode\":\"overlay\",\"size\":10,\"solidity\":0.2}},\"type\":\"barpolar\"}],\"pie\":[{\"automargin\":true,\"type\":\"pie\"}]},\"layout\":{\"autotypenumbers\":\"strict\",\"colorway\":[\"#636efa\",\"#EF553B\",\"#00cc96\",\"#ab63fa\",\"#FFA15A\",\"#19d3f3\",\"#FF6692\",\"#B6E880\",\"#FF97FF\",\"#FECB52\"],\"font\":{\"color\":\"#2a3f5f\"},\"hovermode\":\"closest\",\"hoverlabel\":{\"align\":\"left\"},\"paper_bgcolor\":\"white\",\"plot_bgcolor\":\"#E5ECF6\",\"polar\":{\"bgcolor\":\"#E5ECF6\",\"angularaxis\":{\"gridcolor\":\"white\",\"linecolor\":\"white\",\"ticks\":\"\"},\"radialaxis\":{\"gridcolor\":\"white\",\"linecolor\":\"white\",\"ticks\":\"\"}},\"ternary\":{\"bgcolor\":\"#E5ECF6\",\"aaxis\":{\"gridcolor\":\"white\",\"linecolor\":\"white\",\"ticks\":\"\"},\"baxis\":{\"gridcolor\":\"white\",\"linecolor\":\"white\",\"ticks\":\"\"},\"caxis\":{\"gridcolor\":\"white\",\"linecolor\":\"white\",\"ticks\":\"\"}},\"coloraxis\":{\"colorbar\":{\"outlinewidth\":0,\"ticks\":\"\"}},\"colorscale\":{\"sequential\":[[0.0,\"#0d0887\"],[0.1111111111111111,\"#46039f\"],[0.2222222222222222,\"#7201a8\"],[0.3333333333333333,\"#9c179e\"],[0.4444444444444444,\"#bd3786\"],[0.5555555555555556,\"#d8576b\"],[0.6666666666666666,\"#ed7953\"],[0.7777777777777778,\"#fb9f3a\"],[0.8888888888888888,\"#fdca26\"],[1.0,\"#f0f921\"]],\"sequentialminus\":[[0.0,\"#0d0887\"],[0.1111111111111111,\"#46039f\"],[0.2222222222222222,\"#7201a8\"],[0.3333333333333333,\"#9c179e\"],[0.4444444444444444,\"#bd3786\"],[0.5555555555555556,\"#d8576b\"],[0.6666666666666666,\"#ed7953\"],[0.7777777777777778,\"#fb9f3a\"],[0.8888888888888888,\"#fdca26\"],[1.0,\"#f0f921\"]],\"diverging\":[[0,\"#8e0152\"],[0.1,\"#c51b7d\"],[0.2,\"#de77ae\"],[0.3,\"#f1b6da\"],[0.4,\"#fde0ef\"],[0.5,\"#f7f7f7\"],[0.6,\"#e6f5d0\"],[0.7,\"#b8e186\"],[0.8,\"#7fbc41\"],[0.9,\"#4d9221\"],[1,\"#276419\"]]},\"xaxis\":{\"gridcolor\":\"white\",\"linecolor\":\"white\",\"ticks\":\"\",\"title\":{\"standoff\":15},\"zerolinecolor\":\"white\",\"automargin\":true,\"zerolinewidth\":2},\"yaxis\":{\"gridcolor\":\"white\",\"linecolor\":\"white\",\"ticks\":\"\",\"title\":{\"standoff\":15},\"zerolinecolor\":\"white\",\"automargin\":true,\"zerolinewidth\":2},\"scene\":{\"xaxis\":{\"backgroundcolor\":\"#E5ECF6\",\"gridcolor\":\"white\",\"linecolor\":\"white\",\"showbackground\":true,\"ticks\":\"\",\"zerolinecolor\":\"white\",\"gridwidth\":2},\"yaxis\":{\"backgroundcolor\":\"#E5ECF6\",\"gridcolor\":\"white\",\"linecolor\":\"white\",\"showbackground\":true,\"ticks\":\"\",\"zerolinecolor\":\"white\",\"gridwidth\":2},\"zaxis\":{\"backgroundcolor\":\"#E5ECF6\",\"gridcolor\":\"white\",\"linecolor\":\"white\",\"showbackground\":true,\"ticks\":\"\",\"zerolinecolor\":\"white\",\"gridwidth\":2}},\"shapedefaults\":{\"line\":{\"color\":\"#2a3f5f\"}},\"annotationdefaults\":{\"arrowcolor\":\"#2a3f5f\",\"arrowhead\":0,\"arrowwidth\":1},\"geo\":{\"bgcolor\":\"white\",\"landcolor\":\"#E5ECF6\",\"subunitcolor\":\"white\",\"showland\":true,\"showlakes\":true,\"lakecolor\":\"white\"},\"title\":{\"x\":0.05},\"mapbox\":{\"style\":\"light\"}}},\"xaxis\":{\"anchor\":\"y\",\"domain\":[0.0,1.0],\"title\":{\"text\":\"Region\"}},\"yaxis\":{\"anchor\":\"x\",\"domain\":[0.0,1.0],\"title\":{\"text\":\"Family\"}},\"coloraxis\":{\"colorbar\":{\"title\":{\"text\":\"Happiness Score\"}},\"colorscale\":[[0.0,\"#0d0887\"],[0.1111111111111111,\"#46039f\"],[0.2222222222222222,\"#7201a8\"],[0.3333333333333333,\"#9c179e\"],[0.4444444444444444,\"#bd3786\"],[0.5555555555555556,\"#d8576b\"],[0.6666666666666666,\"#ed7953\"],[0.7777777777777778,\"#fb9f3a\"],[0.8888888888888888,\"#fdca26\"],[1.0,\"#f0f921\"]]},\"legend\":{\"tracegroupgap\":0},\"margin\":{\"t\":60}},                        {\"responsive\": true}                    ).then(function(){\n",
       "                            \n",
       "var gd = document.getElementById('98f70565-207c-47c5-a1e5-c66d72c06c9d');\n",
       "var x = new MutationObserver(function (mutations, observer) {{\n",
       "        var display = window.getComputedStyle(gd).display;\n",
       "        if (!display || display === 'none') {{\n",
       "            console.log([gd, 'removed!']);\n",
       "            Plotly.purge(gd);\n",
       "            observer.disconnect();\n",
       "        }}\n",
       "}});\n",
       "\n",
       "// Listen for the removal of the full notebook cells\n",
       "var notebookContainer = gd.closest('#notebook-container');\n",
       "if (notebookContainer) {{\n",
       "    x.observe(notebookContainer, {childList: true});\n",
       "}}\n",
       "\n",
       "// Listen for the clearing of the current output cell\n",
       "var outputEl = gd.closest('.output');\n",
       "if (outputEl) {{\n",
       "    x.observe(outputEl, {childList: true});\n",
       "}}\n",
       "\n",
       "                        })                };                });            </script>        </div>"
      ]
     },
     "metadata": {},
     "output_type": "display_data"
    },
    {
     "data": {
      "text/plain": [
       "<Figure size 1080x504 with 0 Axes>"
      ]
     },
     "metadata": {},
     "output_type": "display_data"
    }
   ],
   "source": [
    "import plotly.express as px\n",
    "plt.figure(figsize=(15,7))\n",
    "GDP = px.scatter(df,x= 'Region', y = 'Family',color = 'Happiness Score')\n",
    "GDP.show()"
   ]
  },
  {
   "cell_type": "code",
   "execution_count": 144,
   "id": "c5615a6f",
   "metadata": {},
   "outputs": [
    {
     "data": {
      "application/vnd.plotly.v1+json": {
       "config": {
        "plotlyServerURL": "https://plot.ly"
       },
       "data": [
        {
         "hovertemplate": "Region=%{x}<br>Dystopia Residual=%{y}<br>Happiness Score=%{marker.color}<extra></extra>",
         "legendgroup": "",
         "marker": {
          "color": [
           7.587,
           7.561,
           7.527,
           7.522,
           7.427,
           7.406,
           7.378,
           7.364,
           7.286,
           7.284,
           7.278,
           7.226,
           7.2,
           7.187,
           7.119,
           6.983,
           6.946,
           6.94,
           6.937,
           6.901,
           6.867,
           6.853,
           6.81,
           6.798,
           6.786,
           6.75,
           6.67,
           6.611,
           6.575,
           6.574,
           6.505,
           6.485,
           6.477,
           6.455,
           6.411,
           6.329,
           6.302,
           6.298,
           6.295,
           6.269,
           6.168,
           6.13,
           6.123,
           6.003,
           5.995,
           5.987,
           5.984,
           5.975,
           5.96,
           5.948,
           5.89,
           5.889,
           5.878,
           5.855,
           5.848,
           5.833,
           5.828,
           5.824,
           5.813,
           5.791,
           5.77,
           5.759,
           5.754,
           5.716,
           5.709,
           5.695,
           5.689,
           5.605,
           5.589,
           5.548,
           5.477,
           5.474,
           5.429,
           5.399,
           5.36,
           5.332,
           5.286,
           5.268,
           5.253,
           5.212,
           5.194,
           5.192,
           5.192,
           5.14,
           5.129,
           5.124,
           5.123,
           5.102,
           5.098,
           5.073,
           5.057,
           5.013,
           5.007,
           4.971,
           4.959,
           4.949,
           4.898,
           4.885,
           4.876,
           4.874,
           4.867,
           4.857,
           4.839,
           4.8,
           4.788,
           4.786,
           4.739,
           4.715,
           4.694,
           4.686,
           4.681,
           4.677,
           4.642,
           4.633,
           4.61,
           4.571,
           4.565,
           4.55,
           4.518,
           4.517,
           4.514,
           4.512,
           4.507,
           4.436,
           4.419,
           4.369,
           4.35,
           4.332,
           4.307,
           4.297,
           4.292,
           4.271,
           4.252,
           4.218,
           4.194,
           4.077,
           4.033,
           3.995,
           3.989,
           3.956,
           3.931,
           3.904,
           3.896,
           3.845,
           3.819,
           3.781,
           3.681,
           3.678,
           3.667,
           3.656,
           3.655,
           3.587,
           3.575,
           3.465,
           3.34,
           3.006,
           2.905,
           2.839
          ],
          "coloraxis": "coloraxis",
          "symbol": "circle"
         },
         "mode": "markers",
         "name": "",
         "orientation": "v",
         "showlegend": false,
         "type": "scatter",
         "x": [
          "Western Europe",
          "Western Europe",
          "Western Europe",
          "Western Europe",
          "North America",
          "Western Europe",
          "Western Europe",
          "Western Europe",
          "Australia and New Zealand",
          "Australia and New Zealand",
          "Middle East and Northern Africa",
          "Latin America and Caribbean",
          "Western Europe",
          "Latin America and Caribbean",
          "North America",
          "Latin America and Caribbean",
          "Western Europe",
          "Western Europe",
          "Western Europe",
          "Middle East and Northern Africa",
          "Western Europe",
          "Middle East and Northern Africa",
          "Latin America and Caribbean",
          "Southeastern Asia",
          "Latin America and Caribbean",
          "Western Europe",
          "Latin America and Caribbean",
          "Middle East and Northern Africa",
          "Western Europe",
          "Latin America and Caribbean",
          "Central and Eastern Europe",
          "Latin America and Caribbean",
          "Latin America and Caribbean",
          "Southeastern Asia",
          "Middle East and Northern Africa",
          "Western Europe",
          "Western Europe",
          "Eastern Asia",
          "Middle East and Northern Africa",
          "Latin America and Caribbean",
          "Latin America and Caribbean",
          "Latin America and Caribbean",
          "Latin America and Caribbean",
          "Central and Eastern Europe",
          "Central and Eastern Europe",
          "Eastern Asia",
          "Eastern Asia",
          "Latin America and Caribbean",
          "Middle East and Northern Africa",
          "Western Europe",
          "Latin America and Caribbean",
          "Central and Eastern Europe",
          "Latin America and Caribbean",
          "Central and Eastern Europe",
          "Central and Eastern Europe",
          "Central and Eastern Europe",
          "Latin America and Caribbean",
          "Latin America and Caribbean",
          "Central and Eastern Europe",
          "Central and Eastern Europe",
          "Southeastern Asia",
          "Central and Eastern Europe",
          "Middle East and Northern Africa",
          "Central and Eastern Europe",
          "Latin America and Caribbean",
          "Western Europe",
          "Western Europe",
          "Middle East and Northern Africa",
          "Central and Eastern Europe",
          "Central and Eastern Europe",
          "Sub-Saharan Africa",
          "Eastern Asia",
          "Central and Eastern Europe",
          "Southeastern Asia",
          "Southeastern Asia",
          "Middle East and Northern Africa",
          "Central and Eastern Europe",
          "Sub-Saharan Africa",
          "Southern Asia",
          "Central and Eastern Europe",
          "Southern Asia",
          "Middle East and Northern Africa",
          "Central and Eastern Europe",
          "Eastern Asia",
          "Sub-Saharan Africa",
          "Central and Eastern Europe",
          "Central and Eastern Europe",
          "Western Europe",
          "Central and Eastern Europe",
          "Southeastern Asia",
          "Sub-Saharan Africa",
          "Middle East and Northern Africa",
          "Central and Eastern Europe",
          "Sub-Saharan Africa",
          "Central and Eastern Europe",
          "Central and Eastern Europe",
          "Sub-Saharan Africa",
          "Latin America and Caribbean",
          "Southeastern Asia",
          "Eastern Asia",
          "Sub-Saharan Africa",
          "Western Europe",
          "Middle East and Northern Africa",
          "Central and Eastern Europe",
          "Latin America and Caribbean",
          "Central and Eastern Europe",
          "Middle East and Northern Africa",
          "Middle East and Northern Africa",
          "Southern Asia",
          "Middle East and Northern Africa",
          "Central and Eastern Europe",
          "Middle East and Northern Africa",
          "Sub-Saharan Africa",
          "Sub-Saharan Africa",
          "Sub-Saharan Africa",
          "Sub-Saharan Africa",
          "Southern Asia",
          "Sub-Saharan Africa",
          "Latin America and Caribbean",
          "Sub-Saharan Africa",
          "Southern Asia",
          "Sub-Saharan Africa",
          "Sub-Saharan Africa",
          "Sub-Saharan Africa",
          "Sub-Saharan Africa",
          "Sub-Saharan Africa",
          "Central and Eastern Europe",
          "Sub-Saharan Africa",
          "Southeastern Asia",
          "Central and Eastern Europe",
          "Sub-Saharan Africa",
          "Southern Asia",
          "Sub-Saharan Africa",
          "Central and Eastern Europe",
          "Middle East and Northern Africa",
          "Middle East and Northern Africa",
          "Sub-Saharan Africa",
          "Sub-Saharan Africa",
          "Sub-Saharan Africa",
          "Sub-Saharan Africa",
          "Sub-Saharan Africa",
          "Sub-Saharan Africa",
          "Sub-Saharan Africa",
          "Sub-Saharan Africa",
          "Southeastern Asia",
          "Sub-Saharan Africa",
          "Sub-Saharan Africa",
          "Sub-Saharan Africa",
          "Sub-Saharan Africa",
          "Sub-Saharan Africa",
          "Sub-Saharan Africa",
          "Sub-Saharan Africa",
          "Southern Asia",
          "Sub-Saharan Africa",
          "Sub-Saharan Africa",
          "Middle East and Northern Africa",
          "Sub-Saharan Africa",
          "Sub-Saharan Africa"
         ],
         "xaxis": "x",
         "y": [
          2.51738,
          2.70201,
          2.49204,
          2.46531,
          2.45176,
          2.61955,
          2.4657,
          2.37119,
          2.26425,
          2.26646,
          3.08854,
          3.17728,
          2.5332,
          3.60214,
          2.51011,
          3.26001,
          1.96961,
          1.9757,
          2.41484,
          2.24743,
          1.96994,
          2.47489,
          3.19131,
          1.88501,
          2.84848,
          2.11569,
          2.67585,
          1.55674,
          2.21126,
          2.836,
          2.67782,
          2.32142,
          2.85737,
          2.31945,
          2.43872,
          2.12367,
          1.6488,
          2.32323,
          1.87634,
          2.79094,
          2.26882,
          3.035,
          2.74255,
          2.23741,
          2.24639,
          1.68435,
          2.21978,
          2.53942,
          1.73797,
          2.02518,
          2.82334,
          3.10712,
          2.18896,
          2.24729,
          1.61583,
          2.44649,
          2.32407,
          2.5945,
          2.1309,
          1.86565,
          1.88541,
          2.75414,
          2.09066,
          2.27394,
          2.32038,
          1.59888,
          1.88931,
          2.43209,
          2.76579,
          1.86984,
          1.76145,
          0.65429,
          1.58782,
          1.86399,
          2.20173,
          2.08528,
          2.2327,
          2.89319,
          1.63794,
          2.00073,
          3.10709,
          1.87996,
          2.10017,
          1.8604,
          2.6343,
          1.93129,
          2.025,
          1.26462,
          1.62215,
          1.7536,
          2.11032,
          2.45373,
          1.73933,
          3.05137,
          1.89894,
          2.06367,
          2.79832,
          1.21305,
          1.73799,
          1.34759,
          2.48676,
          1.80101,
          1.57059,
          1.24074,
          1.84408,
          2.11399,
          2.12466,
          2.04384,
          2.51767,
          1.6944,
          1.5714,
          1.95335,
          1.71956,
          2.30919,
          2.44191,
          2.77729,
          2.27513,
          2.20857,
          2.24173,
          2.86712,
          1.95637,
          2.44876,
          2.51009,
          2.11773,
          1.78555,
          2.05125,
          1.75873,
          1.46181,
          1.41805,
          1.59541,
          2.80791,
          0.67108,
          1.95071,
          0.89991,
          1.59927,
          1.92313,
          1.94939,
          1.79293,
          1.68135,
          1.95812,
          1.42766,
          1.44395,
          0.99895,
          1.87877,
          0.98195,
          1.38079,
          1.851,
          2.7223,
          1.94296,
          1.99172,
          1.41723,
          1.46494,
          1.9521,
          0.67042,
          1.63328,
          0.32858,
          1.83302,
          1.56726
         ],
         "yaxis": "y"
        }
       ],
       "layout": {
        "coloraxis": {
         "colorbar": {
          "title": {
           "text": "Happiness Score"
          }
         },
         "colorscale": [
          [
           0,
           "#0d0887"
          ],
          [
           0.1111111111111111,
           "#46039f"
          ],
          [
           0.2222222222222222,
           "#7201a8"
          ],
          [
           0.3333333333333333,
           "#9c179e"
          ],
          [
           0.4444444444444444,
           "#bd3786"
          ],
          [
           0.5555555555555556,
           "#d8576b"
          ],
          [
           0.6666666666666666,
           "#ed7953"
          ],
          [
           0.7777777777777778,
           "#fb9f3a"
          ],
          [
           0.8888888888888888,
           "#fdca26"
          ],
          [
           1,
           "#f0f921"
          ]
         ]
        },
        "legend": {
         "tracegroupgap": 0
        },
        "margin": {
         "t": 60
        },
        "template": {
         "data": {
          "bar": [
           {
            "error_x": {
             "color": "#2a3f5f"
            },
            "error_y": {
             "color": "#2a3f5f"
            },
            "marker": {
             "line": {
              "color": "#E5ECF6",
              "width": 0.5
             },
             "pattern": {
              "fillmode": "overlay",
              "size": 10,
              "solidity": 0.2
             }
            },
            "type": "bar"
           }
          ],
          "barpolar": [
           {
            "marker": {
             "line": {
              "color": "#E5ECF6",
              "width": 0.5
             },
             "pattern": {
              "fillmode": "overlay",
              "size": 10,
              "solidity": 0.2
             }
            },
            "type": "barpolar"
           }
          ],
          "carpet": [
           {
            "aaxis": {
             "endlinecolor": "#2a3f5f",
             "gridcolor": "white",
             "linecolor": "white",
             "minorgridcolor": "white",
             "startlinecolor": "#2a3f5f"
            },
            "baxis": {
             "endlinecolor": "#2a3f5f",
             "gridcolor": "white",
             "linecolor": "white",
             "minorgridcolor": "white",
             "startlinecolor": "#2a3f5f"
            },
            "type": "carpet"
           }
          ],
          "choropleth": [
           {
            "colorbar": {
             "outlinewidth": 0,
             "ticks": ""
            },
            "type": "choropleth"
           }
          ],
          "contour": [
           {
            "colorbar": {
             "outlinewidth": 0,
             "ticks": ""
            },
            "colorscale": [
             [
              0,
              "#0d0887"
             ],
             [
              0.1111111111111111,
              "#46039f"
             ],
             [
              0.2222222222222222,
              "#7201a8"
             ],
             [
              0.3333333333333333,
              "#9c179e"
             ],
             [
              0.4444444444444444,
              "#bd3786"
             ],
             [
              0.5555555555555556,
              "#d8576b"
             ],
             [
              0.6666666666666666,
              "#ed7953"
             ],
             [
              0.7777777777777778,
              "#fb9f3a"
             ],
             [
              0.8888888888888888,
              "#fdca26"
             ],
             [
              1,
              "#f0f921"
             ]
            ],
            "type": "contour"
           }
          ],
          "contourcarpet": [
           {
            "colorbar": {
             "outlinewidth": 0,
             "ticks": ""
            },
            "type": "contourcarpet"
           }
          ],
          "heatmap": [
           {
            "colorbar": {
             "outlinewidth": 0,
             "ticks": ""
            },
            "colorscale": [
             [
              0,
              "#0d0887"
             ],
             [
              0.1111111111111111,
              "#46039f"
             ],
             [
              0.2222222222222222,
              "#7201a8"
             ],
             [
              0.3333333333333333,
              "#9c179e"
             ],
             [
              0.4444444444444444,
              "#bd3786"
             ],
             [
              0.5555555555555556,
              "#d8576b"
             ],
             [
              0.6666666666666666,
              "#ed7953"
             ],
             [
              0.7777777777777778,
              "#fb9f3a"
             ],
             [
              0.8888888888888888,
              "#fdca26"
             ],
             [
              1,
              "#f0f921"
             ]
            ],
            "type": "heatmap"
           }
          ],
          "heatmapgl": [
           {
            "colorbar": {
             "outlinewidth": 0,
             "ticks": ""
            },
            "colorscale": [
             [
              0,
              "#0d0887"
             ],
             [
              0.1111111111111111,
              "#46039f"
             ],
             [
              0.2222222222222222,
              "#7201a8"
             ],
             [
              0.3333333333333333,
              "#9c179e"
             ],
             [
              0.4444444444444444,
              "#bd3786"
             ],
             [
              0.5555555555555556,
              "#d8576b"
             ],
             [
              0.6666666666666666,
              "#ed7953"
             ],
             [
              0.7777777777777778,
              "#fb9f3a"
             ],
             [
              0.8888888888888888,
              "#fdca26"
             ],
             [
              1,
              "#f0f921"
             ]
            ],
            "type": "heatmapgl"
           }
          ],
          "histogram": [
           {
            "marker": {
             "pattern": {
              "fillmode": "overlay",
              "size": 10,
              "solidity": 0.2
             }
            },
            "type": "histogram"
           }
          ],
          "histogram2d": [
           {
            "colorbar": {
             "outlinewidth": 0,
             "ticks": ""
            },
            "colorscale": [
             [
              0,
              "#0d0887"
             ],
             [
              0.1111111111111111,
              "#46039f"
             ],
             [
              0.2222222222222222,
              "#7201a8"
             ],
             [
              0.3333333333333333,
              "#9c179e"
             ],
             [
              0.4444444444444444,
              "#bd3786"
             ],
             [
              0.5555555555555556,
              "#d8576b"
             ],
             [
              0.6666666666666666,
              "#ed7953"
             ],
             [
              0.7777777777777778,
              "#fb9f3a"
             ],
             [
              0.8888888888888888,
              "#fdca26"
             ],
             [
              1,
              "#f0f921"
             ]
            ],
            "type": "histogram2d"
           }
          ],
          "histogram2dcontour": [
           {
            "colorbar": {
             "outlinewidth": 0,
             "ticks": ""
            },
            "colorscale": [
             [
              0,
              "#0d0887"
             ],
             [
              0.1111111111111111,
              "#46039f"
             ],
             [
              0.2222222222222222,
              "#7201a8"
             ],
             [
              0.3333333333333333,
              "#9c179e"
             ],
             [
              0.4444444444444444,
              "#bd3786"
             ],
             [
              0.5555555555555556,
              "#d8576b"
             ],
             [
              0.6666666666666666,
              "#ed7953"
             ],
             [
              0.7777777777777778,
              "#fb9f3a"
             ],
             [
              0.8888888888888888,
              "#fdca26"
             ],
             [
              1,
              "#f0f921"
             ]
            ],
            "type": "histogram2dcontour"
           }
          ],
          "mesh3d": [
           {
            "colorbar": {
             "outlinewidth": 0,
             "ticks": ""
            },
            "type": "mesh3d"
           }
          ],
          "parcoords": [
           {
            "line": {
             "colorbar": {
              "outlinewidth": 0,
              "ticks": ""
             }
            },
            "type": "parcoords"
           }
          ],
          "pie": [
           {
            "automargin": true,
            "type": "pie"
           }
          ],
          "scatter": [
           {
            "fillpattern": {
             "fillmode": "overlay",
             "size": 10,
             "solidity": 0.2
            },
            "type": "scatter"
           }
          ],
          "scatter3d": [
           {
            "line": {
             "colorbar": {
              "outlinewidth": 0,
              "ticks": ""
             }
            },
            "marker": {
             "colorbar": {
              "outlinewidth": 0,
              "ticks": ""
             }
            },
            "type": "scatter3d"
           }
          ],
          "scattercarpet": [
           {
            "marker": {
             "colorbar": {
              "outlinewidth": 0,
              "ticks": ""
             }
            },
            "type": "scattercarpet"
           }
          ],
          "scattergeo": [
           {
            "marker": {
             "colorbar": {
              "outlinewidth": 0,
              "ticks": ""
             }
            },
            "type": "scattergeo"
           }
          ],
          "scattergl": [
           {
            "marker": {
             "colorbar": {
              "outlinewidth": 0,
              "ticks": ""
             }
            },
            "type": "scattergl"
           }
          ],
          "scattermapbox": [
           {
            "marker": {
             "colorbar": {
              "outlinewidth": 0,
              "ticks": ""
             }
            },
            "type": "scattermapbox"
           }
          ],
          "scatterpolar": [
           {
            "marker": {
             "colorbar": {
              "outlinewidth": 0,
              "ticks": ""
             }
            },
            "type": "scatterpolar"
           }
          ],
          "scatterpolargl": [
           {
            "marker": {
             "colorbar": {
              "outlinewidth": 0,
              "ticks": ""
             }
            },
            "type": "scatterpolargl"
           }
          ],
          "scatterternary": [
           {
            "marker": {
             "colorbar": {
              "outlinewidth": 0,
              "ticks": ""
             }
            },
            "type": "scatterternary"
           }
          ],
          "surface": [
           {
            "colorbar": {
             "outlinewidth": 0,
             "ticks": ""
            },
            "colorscale": [
             [
              0,
              "#0d0887"
             ],
             [
              0.1111111111111111,
              "#46039f"
             ],
             [
              0.2222222222222222,
              "#7201a8"
             ],
             [
              0.3333333333333333,
              "#9c179e"
             ],
             [
              0.4444444444444444,
              "#bd3786"
             ],
             [
              0.5555555555555556,
              "#d8576b"
             ],
             [
              0.6666666666666666,
              "#ed7953"
             ],
             [
              0.7777777777777778,
              "#fb9f3a"
             ],
             [
              0.8888888888888888,
              "#fdca26"
             ],
             [
              1,
              "#f0f921"
             ]
            ],
            "type": "surface"
           }
          ],
          "table": [
           {
            "cells": {
             "fill": {
              "color": "#EBF0F8"
             },
             "line": {
              "color": "white"
             }
            },
            "header": {
             "fill": {
              "color": "#C8D4E3"
             },
             "line": {
              "color": "white"
             }
            },
            "type": "table"
           }
          ]
         },
         "layout": {
          "annotationdefaults": {
           "arrowcolor": "#2a3f5f",
           "arrowhead": 0,
           "arrowwidth": 1
          },
          "autotypenumbers": "strict",
          "coloraxis": {
           "colorbar": {
            "outlinewidth": 0,
            "ticks": ""
           }
          },
          "colorscale": {
           "diverging": [
            [
             0,
             "#8e0152"
            ],
            [
             0.1,
             "#c51b7d"
            ],
            [
             0.2,
             "#de77ae"
            ],
            [
             0.3,
             "#f1b6da"
            ],
            [
             0.4,
             "#fde0ef"
            ],
            [
             0.5,
             "#f7f7f7"
            ],
            [
             0.6,
             "#e6f5d0"
            ],
            [
             0.7,
             "#b8e186"
            ],
            [
             0.8,
             "#7fbc41"
            ],
            [
             0.9,
             "#4d9221"
            ],
            [
             1,
             "#276419"
            ]
           ],
           "sequential": [
            [
             0,
             "#0d0887"
            ],
            [
             0.1111111111111111,
             "#46039f"
            ],
            [
             0.2222222222222222,
             "#7201a8"
            ],
            [
             0.3333333333333333,
             "#9c179e"
            ],
            [
             0.4444444444444444,
             "#bd3786"
            ],
            [
             0.5555555555555556,
             "#d8576b"
            ],
            [
             0.6666666666666666,
             "#ed7953"
            ],
            [
             0.7777777777777778,
             "#fb9f3a"
            ],
            [
             0.8888888888888888,
             "#fdca26"
            ],
            [
             1,
             "#f0f921"
            ]
           ],
           "sequentialminus": [
            [
             0,
             "#0d0887"
            ],
            [
             0.1111111111111111,
             "#46039f"
            ],
            [
             0.2222222222222222,
             "#7201a8"
            ],
            [
             0.3333333333333333,
             "#9c179e"
            ],
            [
             0.4444444444444444,
             "#bd3786"
            ],
            [
             0.5555555555555556,
             "#d8576b"
            ],
            [
             0.6666666666666666,
             "#ed7953"
            ],
            [
             0.7777777777777778,
             "#fb9f3a"
            ],
            [
             0.8888888888888888,
             "#fdca26"
            ],
            [
             1,
             "#f0f921"
            ]
           ]
          },
          "colorway": [
           "#636efa",
           "#EF553B",
           "#00cc96",
           "#ab63fa",
           "#FFA15A",
           "#19d3f3",
           "#FF6692",
           "#B6E880",
           "#FF97FF",
           "#FECB52"
          ],
          "font": {
           "color": "#2a3f5f"
          },
          "geo": {
           "bgcolor": "white",
           "lakecolor": "white",
           "landcolor": "#E5ECF6",
           "showlakes": true,
           "showland": true,
           "subunitcolor": "white"
          },
          "hoverlabel": {
           "align": "left"
          },
          "hovermode": "closest",
          "mapbox": {
           "style": "light"
          },
          "paper_bgcolor": "white",
          "plot_bgcolor": "#E5ECF6",
          "polar": {
           "angularaxis": {
            "gridcolor": "white",
            "linecolor": "white",
            "ticks": ""
           },
           "bgcolor": "#E5ECF6",
           "radialaxis": {
            "gridcolor": "white",
            "linecolor": "white",
            "ticks": ""
           }
          },
          "scene": {
           "xaxis": {
            "backgroundcolor": "#E5ECF6",
            "gridcolor": "white",
            "gridwidth": 2,
            "linecolor": "white",
            "showbackground": true,
            "ticks": "",
            "zerolinecolor": "white"
           },
           "yaxis": {
            "backgroundcolor": "#E5ECF6",
            "gridcolor": "white",
            "gridwidth": 2,
            "linecolor": "white",
            "showbackground": true,
            "ticks": "",
            "zerolinecolor": "white"
           },
           "zaxis": {
            "backgroundcolor": "#E5ECF6",
            "gridcolor": "white",
            "gridwidth": 2,
            "linecolor": "white",
            "showbackground": true,
            "ticks": "",
            "zerolinecolor": "white"
           }
          },
          "shapedefaults": {
           "line": {
            "color": "#2a3f5f"
           }
          },
          "ternary": {
           "aaxis": {
            "gridcolor": "white",
            "linecolor": "white",
            "ticks": ""
           },
           "baxis": {
            "gridcolor": "white",
            "linecolor": "white",
            "ticks": ""
           },
           "bgcolor": "#E5ECF6",
           "caxis": {
            "gridcolor": "white",
            "linecolor": "white",
            "ticks": ""
           }
          },
          "title": {
           "x": 0.05
          },
          "xaxis": {
           "automargin": true,
           "gridcolor": "white",
           "linecolor": "white",
           "ticks": "",
           "title": {
            "standoff": 15
           },
           "zerolinecolor": "white",
           "zerolinewidth": 2
          },
          "yaxis": {
           "automargin": true,
           "gridcolor": "white",
           "linecolor": "white",
           "ticks": "",
           "title": {
            "standoff": 15
           },
           "zerolinecolor": "white",
           "zerolinewidth": 2
          }
         }
        },
        "xaxis": {
         "anchor": "y",
         "domain": [
          0,
          1
         ],
         "title": {
          "text": "Region"
         }
        },
        "yaxis": {
         "anchor": "x",
         "domain": [
          0,
          1
         ],
         "title": {
          "text": "Dystopia Residual"
         }
        }
       }
      },
      "text/html": [
       "<div>                            <div id=\"174cb67e-fbae-4f83-8747-e3e3fef05ea8\" class=\"plotly-graph-div\" style=\"height:525px; width:100%;\"></div>            <script type=\"text/javascript\">                require([\"plotly\"], function(Plotly) {                    window.PLOTLYENV=window.PLOTLYENV || {};                                    if (document.getElementById(\"174cb67e-fbae-4f83-8747-e3e3fef05ea8\")) {                    Plotly.newPlot(                        \"174cb67e-fbae-4f83-8747-e3e3fef05ea8\",                        [{\"hovertemplate\":\"Region=%{x}<br>Dystopia Residual=%{y}<br>Happiness Score=%{marker.color}<extra></extra>\",\"legendgroup\":\"\",\"marker\":{\"color\":[7.587,7.561,7.527,7.522,7.427,7.406,7.378,7.364,7.286,7.284,7.278,7.226,7.2,7.187,7.119,6.983,6.946,6.94,6.937,6.901,6.867,6.853,6.81,6.798,6.786,6.75,6.67,6.611,6.575,6.574,6.505,6.485,6.477,6.455,6.411,6.329,6.302,6.298,6.295,6.269,6.168,6.13,6.123,6.003,5.995,5.987,5.984,5.975,5.96,5.948,5.89,5.889,5.878,5.855,5.848,5.833,5.828,5.824,5.813,5.791,5.77,5.759,5.754,5.716,5.709,5.695,5.689,5.605,5.589,5.548,5.477,5.474,5.429,5.399,5.36,5.332,5.286,5.268,5.253,5.212,5.194,5.192,5.192,5.14,5.129,5.124,5.123,5.102,5.098,5.073,5.057,5.013,5.007,4.971,4.959,4.949,4.898,4.885,4.876,4.874,4.867,4.857,4.839,4.8,4.788,4.786,4.739,4.715,4.694,4.686,4.681,4.677,4.642,4.633,4.61,4.571,4.565,4.55,4.518,4.517,4.514,4.512,4.507,4.436,4.419,4.369,4.35,4.332,4.307,4.297,4.292,4.271,4.252,4.218,4.194,4.077,4.033,3.995,3.989,3.956,3.931,3.904,3.896,3.845,3.819,3.781,3.681,3.678,3.667,3.656,3.655,3.587,3.575,3.465,3.34,3.006,2.905,2.839],\"coloraxis\":\"coloraxis\",\"symbol\":\"circle\"},\"mode\":\"markers\",\"name\":\"\",\"orientation\":\"v\",\"showlegend\":false,\"x\":[\"Western Europe\",\"Western Europe\",\"Western Europe\",\"Western Europe\",\"North America\",\"Western Europe\",\"Western Europe\",\"Western Europe\",\"Australia and New Zealand\",\"Australia and New Zealand\",\"Middle East and Northern Africa\",\"Latin America and Caribbean\",\"Western Europe\",\"Latin America and Caribbean\",\"North America\",\"Latin America and Caribbean\",\"Western Europe\",\"Western Europe\",\"Western Europe\",\"Middle East and Northern Africa\",\"Western Europe\",\"Middle East and Northern Africa\",\"Latin America and Caribbean\",\"Southeastern Asia\",\"Latin America and Caribbean\",\"Western Europe\",\"Latin America and Caribbean\",\"Middle East and Northern Africa\",\"Western Europe\",\"Latin America and Caribbean\",\"Central and Eastern Europe\",\"Latin America and Caribbean\",\"Latin America and Caribbean\",\"Southeastern Asia\",\"Middle East and Northern Africa\",\"Western Europe\",\"Western Europe\",\"Eastern Asia\",\"Middle East and Northern Africa\",\"Latin America and Caribbean\",\"Latin America and Caribbean\",\"Latin America and Caribbean\",\"Latin America and Caribbean\",\"Central and Eastern Europe\",\"Central and Eastern Europe\",\"Eastern Asia\",\"Eastern Asia\",\"Latin America and Caribbean\",\"Middle East and Northern Africa\",\"Western Europe\",\"Latin America and Caribbean\",\"Central and Eastern Europe\",\"Latin America and Caribbean\",\"Central and Eastern Europe\",\"Central and Eastern Europe\",\"Central and Eastern Europe\",\"Latin America and Caribbean\",\"Latin America and Caribbean\",\"Central and Eastern Europe\",\"Central and Eastern Europe\",\"Southeastern Asia\",\"Central and Eastern Europe\",\"Middle East and Northern Africa\",\"Central and Eastern Europe\",\"Latin America and Caribbean\",\"Western Europe\",\"Western Europe\",\"Middle East and Northern Africa\",\"Central and Eastern Europe\",\"Central and Eastern Europe\",\"Sub-Saharan Africa\",\"Eastern Asia\",\"Central and Eastern Europe\",\"Southeastern Asia\",\"Southeastern Asia\",\"Middle East and Northern Africa\",\"Central and Eastern Europe\",\"Sub-Saharan Africa\",\"Southern Asia\",\"Central and Eastern Europe\",\"Southern Asia\",\"Middle East and Northern Africa\",\"Central and Eastern Europe\",\"Eastern Asia\",\"Sub-Saharan Africa\",\"Central and Eastern Europe\",\"Central and Eastern Europe\",\"Western Europe\",\"Central and Eastern Europe\",\"Southeastern Asia\",\"Sub-Saharan Africa\",\"Middle East and Northern Africa\",\"Central and Eastern Europe\",\"Sub-Saharan Africa\",\"Central and Eastern Europe\",\"Central and Eastern Europe\",\"Sub-Saharan Africa\",\"Latin America and Caribbean\",\"Southeastern Asia\",\"Eastern Asia\",\"Sub-Saharan Africa\",\"Western Europe\",\"Middle East and Northern Africa\",\"Central and Eastern Europe\",\"Latin America and Caribbean\",\"Central and Eastern Europe\",\"Middle East and Northern Africa\",\"Middle East and Northern Africa\",\"Southern Asia\",\"Middle East and Northern Africa\",\"Central and Eastern Europe\",\"Middle East and Northern Africa\",\"Sub-Saharan Africa\",\"Sub-Saharan Africa\",\"Sub-Saharan Africa\",\"Sub-Saharan Africa\",\"Southern Asia\",\"Sub-Saharan Africa\",\"Latin America and Caribbean\",\"Sub-Saharan Africa\",\"Southern Asia\",\"Sub-Saharan Africa\",\"Sub-Saharan Africa\",\"Sub-Saharan Africa\",\"Sub-Saharan Africa\",\"Sub-Saharan Africa\",\"Central and Eastern Europe\",\"Sub-Saharan Africa\",\"Southeastern Asia\",\"Central and Eastern Europe\",\"Sub-Saharan Africa\",\"Southern Asia\",\"Sub-Saharan Africa\",\"Central and Eastern Europe\",\"Middle East and Northern Africa\",\"Middle East and Northern Africa\",\"Sub-Saharan Africa\",\"Sub-Saharan Africa\",\"Sub-Saharan Africa\",\"Sub-Saharan Africa\",\"Sub-Saharan Africa\",\"Sub-Saharan Africa\",\"Sub-Saharan Africa\",\"Sub-Saharan Africa\",\"Southeastern Asia\",\"Sub-Saharan Africa\",\"Sub-Saharan Africa\",\"Sub-Saharan Africa\",\"Sub-Saharan Africa\",\"Sub-Saharan Africa\",\"Sub-Saharan Africa\",\"Sub-Saharan Africa\",\"Southern Asia\",\"Sub-Saharan Africa\",\"Sub-Saharan Africa\",\"Middle East and Northern Africa\",\"Sub-Saharan Africa\",\"Sub-Saharan Africa\"],\"xaxis\":\"x\",\"y\":[2.51738,2.70201,2.49204,2.46531,2.45176,2.61955,2.4657,2.37119,2.26425,2.26646,3.08854,3.17728,2.5332,3.60214,2.51011,3.26001,1.96961,1.9757,2.41484,2.24743,1.96994,2.47489,3.19131,1.88501,2.84848,2.11569,2.67585,1.55674,2.21126,2.836,2.67782,2.32142,2.85737,2.31945,2.43872,2.12367,1.6488,2.32323,1.87634,2.79094,2.26882,3.035,2.74255,2.23741,2.24639,1.68435,2.21978,2.53942,1.73797,2.02518,2.82334,3.10712,2.18896,2.24729,1.61583,2.44649,2.32407,2.5945,2.1309,1.86565,1.88541,2.75414,2.09066,2.27394,2.32038,1.59888,1.88931,2.43209,2.76579,1.86984,1.76145,0.65429,1.58782,1.86399,2.20173,2.08528,2.2327,2.89319,1.63794,2.00073,3.10709,1.87996,2.10017,1.8604,2.6343,1.93129,2.025,1.26462,1.62215,1.7536,2.11032,2.45373,1.73933,3.05137,1.89894,2.06367,2.79832,1.21305,1.73799,1.34759,2.48676,1.80101,1.57059,1.24074,1.84408,2.11399,2.12466,2.04384,2.51767,1.6944,1.5714,1.95335,1.71956,2.30919,2.44191,2.77729,2.27513,2.20857,2.24173,2.86712,1.95637,2.44876,2.51009,2.11773,1.78555,2.05125,1.75873,1.46181,1.41805,1.59541,2.80791,0.67108,1.95071,0.89991,1.59927,1.92313,1.94939,1.79293,1.68135,1.95812,1.42766,1.44395,0.99895,1.87877,0.98195,1.38079,1.851,2.7223,1.94296,1.99172,1.41723,1.46494,1.9521,0.67042,1.63328,0.32858,1.83302,1.56726],\"yaxis\":\"y\",\"type\":\"scatter\"}],                        {\"template\":{\"data\":{\"histogram2dcontour\":[{\"type\":\"histogram2dcontour\",\"colorbar\":{\"outlinewidth\":0,\"ticks\":\"\"},\"colorscale\":[[0.0,\"#0d0887\"],[0.1111111111111111,\"#46039f\"],[0.2222222222222222,\"#7201a8\"],[0.3333333333333333,\"#9c179e\"],[0.4444444444444444,\"#bd3786\"],[0.5555555555555556,\"#d8576b\"],[0.6666666666666666,\"#ed7953\"],[0.7777777777777778,\"#fb9f3a\"],[0.8888888888888888,\"#fdca26\"],[1.0,\"#f0f921\"]]}],\"choropleth\":[{\"type\":\"choropleth\",\"colorbar\":{\"outlinewidth\":0,\"ticks\":\"\"}}],\"histogram2d\":[{\"type\":\"histogram2d\",\"colorbar\":{\"outlinewidth\":0,\"ticks\":\"\"},\"colorscale\":[[0.0,\"#0d0887\"],[0.1111111111111111,\"#46039f\"],[0.2222222222222222,\"#7201a8\"],[0.3333333333333333,\"#9c179e\"],[0.4444444444444444,\"#bd3786\"],[0.5555555555555556,\"#d8576b\"],[0.6666666666666666,\"#ed7953\"],[0.7777777777777778,\"#fb9f3a\"],[0.8888888888888888,\"#fdca26\"],[1.0,\"#f0f921\"]]}],\"heatmap\":[{\"type\":\"heatmap\",\"colorbar\":{\"outlinewidth\":0,\"ticks\":\"\"},\"colorscale\":[[0.0,\"#0d0887\"],[0.1111111111111111,\"#46039f\"],[0.2222222222222222,\"#7201a8\"],[0.3333333333333333,\"#9c179e\"],[0.4444444444444444,\"#bd3786\"],[0.5555555555555556,\"#d8576b\"],[0.6666666666666666,\"#ed7953\"],[0.7777777777777778,\"#fb9f3a\"],[0.8888888888888888,\"#fdca26\"],[1.0,\"#f0f921\"]]}],\"heatmapgl\":[{\"type\":\"heatmapgl\",\"colorbar\":{\"outlinewidth\":0,\"ticks\":\"\"},\"colorscale\":[[0.0,\"#0d0887\"],[0.1111111111111111,\"#46039f\"],[0.2222222222222222,\"#7201a8\"],[0.3333333333333333,\"#9c179e\"],[0.4444444444444444,\"#bd3786\"],[0.5555555555555556,\"#d8576b\"],[0.6666666666666666,\"#ed7953\"],[0.7777777777777778,\"#fb9f3a\"],[0.8888888888888888,\"#fdca26\"],[1.0,\"#f0f921\"]]}],\"contourcarpet\":[{\"type\":\"contourcarpet\",\"colorbar\":{\"outlinewidth\":0,\"ticks\":\"\"}}],\"contour\":[{\"type\":\"contour\",\"colorbar\":{\"outlinewidth\":0,\"ticks\":\"\"},\"colorscale\":[[0.0,\"#0d0887\"],[0.1111111111111111,\"#46039f\"],[0.2222222222222222,\"#7201a8\"],[0.3333333333333333,\"#9c179e\"],[0.4444444444444444,\"#bd3786\"],[0.5555555555555556,\"#d8576b\"],[0.6666666666666666,\"#ed7953\"],[0.7777777777777778,\"#fb9f3a\"],[0.8888888888888888,\"#fdca26\"],[1.0,\"#f0f921\"]]}],\"surface\":[{\"type\":\"surface\",\"colorbar\":{\"outlinewidth\":0,\"ticks\":\"\"},\"colorscale\":[[0.0,\"#0d0887\"],[0.1111111111111111,\"#46039f\"],[0.2222222222222222,\"#7201a8\"],[0.3333333333333333,\"#9c179e\"],[0.4444444444444444,\"#bd3786\"],[0.5555555555555556,\"#d8576b\"],[0.6666666666666666,\"#ed7953\"],[0.7777777777777778,\"#fb9f3a\"],[0.8888888888888888,\"#fdca26\"],[1.0,\"#f0f921\"]]}],\"mesh3d\":[{\"type\":\"mesh3d\",\"colorbar\":{\"outlinewidth\":0,\"ticks\":\"\"}}],\"scatter\":[{\"fillpattern\":{\"fillmode\":\"overlay\",\"size\":10,\"solidity\":0.2},\"type\":\"scatter\"}],\"parcoords\":[{\"type\":\"parcoords\",\"line\":{\"colorbar\":{\"outlinewidth\":0,\"ticks\":\"\"}}}],\"scatterpolargl\":[{\"type\":\"scatterpolargl\",\"marker\":{\"colorbar\":{\"outlinewidth\":0,\"ticks\":\"\"}}}],\"bar\":[{\"error_x\":{\"color\":\"#2a3f5f\"},\"error_y\":{\"color\":\"#2a3f5f\"},\"marker\":{\"line\":{\"color\":\"#E5ECF6\",\"width\":0.5},\"pattern\":{\"fillmode\":\"overlay\",\"size\":10,\"solidity\":0.2}},\"type\":\"bar\"}],\"scattergeo\":[{\"type\":\"scattergeo\",\"marker\":{\"colorbar\":{\"outlinewidth\":0,\"ticks\":\"\"}}}],\"scatterpolar\":[{\"type\":\"scatterpolar\",\"marker\":{\"colorbar\":{\"outlinewidth\":0,\"ticks\":\"\"}}}],\"histogram\":[{\"marker\":{\"pattern\":{\"fillmode\":\"overlay\",\"size\":10,\"solidity\":0.2}},\"type\":\"histogram\"}],\"scattergl\":[{\"type\":\"scattergl\",\"marker\":{\"colorbar\":{\"outlinewidth\":0,\"ticks\":\"\"}}}],\"scatter3d\":[{\"type\":\"scatter3d\",\"line\":{\"colorbar\":{\"outlinewidth\":0,\"ticks\":\"\"}},\"marker\":{\"colorbar\":{\"outlinewidth\":0,\"ticks\":\"\"}}}],\"scattermapbox\":[{\"type\":\"scattermapbox\",\"marker\":{\"colorbar\":{\"outlinewidth\":0,\"ticks\":\"\"}}}],\"scatterternary\":[{\"type\":\"scatterternary\",\"marker\":{\"colorbar\":{\"outlinewidth\":0,\"ticks\":\"\"}}}],\"scattercarpet\":[{\"type\":\"scattercarpet\",\"marker\":{\"colorbar\":{\"outlinewidth\":0,\"ticks\":\"\"}}}],\"carpet\":[{\"aaxis\":{\"endlinecolor\":\"#2a3f5f\",\"gridcolor\":\"white\",\"linecolor\":\"white\",\"minorgridcolor\":\"white\",\"startlinecolor\":\"#2a3f5f\"},\"baxis\":{\"endlinecolor\":\"#2a3f5f\",\"gridcolor\":\"white\",\"linecolor\":\"white\",\"minorgridcolor\":\"white\",\"startlinecolor\":\"#2a3f5f\"},\"type\":\"carpet\"}],\"table\":[{\"cells\":{\"fill\":{\"color\":\"#EBF0F8\"},\"line\":{\"color\":\"white\"}},\"header\":{\"fill\":{\"color\":\"#C8D4E3\"},\"line\":{\"color\":\"white\"}},\"type\":\"table\"}],\"barpolar\":[{\"marker\":{\"line\":{\"color\":\"#E5ECF6\",\"width\":0.5},\"pattern\":{\"fillmode\":\"overlay\",\"size\":10,\"solidity\":0.2}},\"type\":\"barpolar\"}],\"pie\":[{\"automargin\":true,\"type\":\"pie\"}]},\"layout\":{\"autotypenumbers\":\"strict\",\"colorway\":[\"#636efa\",\"#EF553B\",\"#00cc96\",\"#ab63fa\",\"#FFA15A\",\"#19d3f3\",\"#FF6692\",\"#B6E880\",\"#FF97FF\",\"#FECB52\"],\"font\":{\"color\":\"#2a3f5f\"},\"hovermode\":\"closest\",\"hoverlabel\":{\"align\":\"left\"},\"paper_bgcolor\":\"white\",\"plot_bgcolor\":\"#E5ECF6\",\"polar\":{\"bgcolor\":\"#E5ECF6\",\"angularaxis\":{\"gridcolor\":\"white\",\"linecolor\":\"white\",\"ticks\":\"\"},\"radialaxis\":{\"gridcolor\":\"white\",\"linecolor\":\"white\",\"ticks\":\"\"}},\"ternary\":{\"bgcolor\":\"#E5ECF6\",\"aaxis\":{\"gridcolor\":\"white\",\"linecolor\":\"white\",\"ticks\":\"\"},\"baxis\":{\"gridcolor\":\"white\",\"linecolor\":\"white\",\"ticks\":\"\"},\"caxis\":{\"gridcolor\":\"white\",\"linecolor\":\"white\",\"ticks\":\"\"}},\"coloraxis\":{\"colorbar\":{\"outlinewidth\":0,\"ticks\":\"\"}},\"colorscale\":{\"sequential\":[[0.0,\"#0d0887\"],[0.1111111111111111,\"#46039f\"],[0.2222222222222222,\"#7201a8\"],[0.3333333333333333,\"#9c179e\"],[0.4444444444444444,\"#bd3786\"],[0.5555555555555556,\"#d8576b\"],[0.6666666666666666,\"#ed7953\"],[0.7777777777777778,\"#fb9f3a\"],[0.8888888888888888,\"#fdca26\"],[1.0,\"#f0f921\"]],\"sequentialminus\":[[0.0,\"#0d0887\"],[0.1111111111111111,\"#46039f\"],[0.2222222222222222,\"#7201a8\"],[0.3333333333333333,\"#9c179e\"],[0.4444444444444444,\"#bd3786\"],[0.5555555555555556,\"#d8576b\"],[0.6666666666666666,\"#ed7953\"],[0.7777777777777778,\"#fb9f3a\"],[0.8888888888888888,\"#fdca26\"],[1.0,\"#f0f921\"]],\"diverging\":[[0,\"#8e0152\"],[0.1,\"#c51b7d\"],[0.2,\"#de77ae\"],[0.3,\"#f1b6da\"],[0.4,\"#fde0ef\"],[0.5,\"#f7f7f7\"],[0.6,\"#e6f5d0\"],[0.7,\"#b8e186\"],[0.8,\"#7fbc41\"],[0.9,\"#4d9221\"],[1,\"#276419\"]]},\"xaxis\":{\"gridcolor\":\"white\",\"linecolor\":\"white\",\"ticks\":\"\",\"title\":{\"standoff\":15},\"zerolinecolor\":\"white\",\"automargin\":true,\"zerolinewidth\":2},\"yaxis\":{\"gridcolor\":\"white\",\"linecolor\":\"white\",\"ticks\":\"\",\"title\":{\"standoff\":15},\"zerolinecolor\":\"white\",\"automargin\":true,\"zerolinewidth\":2},\"scene\":{\"xaxis\":{\"backgroundcolor\":\"#E5ECF6\",\"gridcolor\":\"white\",\"linecolor\":\"white\",\"showbackground\":true,\"ticks\":\"\",\"zerolinecolor\":\"white\",\"gridwidth\":2},\"yaxis\":{\"backgroundcolor\":\"#E5ECF6\",\"gridcolor\":\"white\",\"linecolor\":\"white\",\"showbackground\":true,\"ticks\":\"\",\"zerolinecolor\":\"white\",\"gridwidth\":2},\"zaxis\":{\"backgroundcolor\":\"#E5ECF6\",\"gridcolor\":\"white\",\"linecolor\":\"white\",\"showbackground\":true,\"ticks\":\"\",\"zerolinecolor\":\"white\",\"gridwidth\":2}},\"shapedefaults\":{\"line\":{\"color\":\"#2a3f5f\"}},\"annotationdefaults\":{\"arrowcolor\":\"#2a3f5f\",\"arrowhead\":0,\"arrowwidth\":1},\"geo\":{\"bgcolor\":\"white\",\"landcolor\":\"#E5ECF6\",\"subunitcolor\":\"white\",\"showland\":true,\"showlakes\":true,\"lakecolor\":\"white\"},\"title\":{\"x\":0.05},\"mapbox\":{\"style\":\"light\"}}},\"xaxis\":{\"anchor\":\"y\",\"domain\":[0.0,1.0],\"title\":{\"text\":\"Region\"}},\"yaxis\":{\"anchor\":\"x\",\"domain\":[0.0,1.0],\"title\":{\"text\":\"Dystopia Residual\"}},\"coloraxis\":{\"colorbar\":{\"title\":{\"text\":\"Happiness Score\"}},\"colorscale\":[[0.0,\"#0d0887\"],[0.1111111111111111,\"#46039f\"],[0.2222222222222222,\"#7201a8\"],[0.3333333333333333,\"#9c179e\"],[0.4444444444444444,\"#bd3786\"],[0.5555555555555556,\"#d8576b\"],[0.6666666666666666,\"#ed7953\"],[0.7777777777777778,\"#fb9f3a\"],[0.8888888888888888,\"#fdca26\"],[1.0,\"#f0f921\"]]},\"legend\":{\"tracegroupgap\":0},\"margin\":{\"t\":60}},                        {\"responsive\": true}                    ).then(function(){\n",
       "                            \n",
       "var gd = document.getElementById('174cb67e-fbae-4f83-8747-e3e3fef05ea8');\n",
       "var x = new MutationObserver(function (mutations, observer) {{\n",
       "        var display = window.getComputedStyle(gd).display;\n",
       "        if (!display || display === 'none') {{\n",
       "            console.log([gd, 'removed!']);\n",
       "            Plotly.purge(gd);\n",
       "            observer.disconnect();\n",
       "        }}\n",
       "}});\n",
       "\n",
       "// Listen for the removal of the full notebook cells\n",
       "var notebookContainer = gd.closest('#notebook-container');\n",
       "if (notebookContainer) {{\n",
       "    x.observe(notebookContainer, {childList: true});\n",
       "}}\n",
       "\n",
       "// Listen for the clearing of the current output cell\n",
       "var outputEl = gd.closest('.output');\n",
       "if (outputEl) {{\n",
       "    x.observe(outputEl, {childList: true});\n",
       "}}\n",
       "\n",
       "                        })                };                });            </script>        </div>"
      ]
     },
     "metadata": {},
     "output_type": "display_data"
    },
    {
     "data": {
      "text/plain": [
       "<Figure size 1080x504 with 0 Axes>"
      ]
     },
     "metadata": {},
     "output_type": "display_data"
    }
   ],
   "source": [
    "plt.figure(figsize=(15,7))\n",
    "GDP = px.scatter(df,x= 'Region', y = 'Dystopia Residual',color = 'Happiness Score')\n",
    "GDP.show()"
   ]
  },
  {
   "cell_type": "code",
   "execution_count": 145,
   "id": "a22a1de0",
   "metadata": {},
   "outputs": [
    {
     "data": {
      "text/plain": [
       "Happiness Rank                  -0.992105\n",
       "Standard Error                  -0.177254\n",
       "Generosity                       0.180319\n",
       "Trust (Government Corruption)    0.395199\n",
       "Dystopia Residual                0.530474\n",
       "Freedom                          0.568211\n",
       "Health (Life Expectancy)         0.724200\n",
       "Family                           0.740605\n",
       "Economy (GDP per Capita)         0.780966\n",
       "Happiness Score                  1.000000\n",
       "Name: Happiness Score, dtype: float64"
      ]
     },
     "execution_count": 145,
     "metadata": {},
     "output_type": "execute_result"
    }
   ],
   "source": [
    "df.corr()['Happiness Score'].sort_values()"
   ]
  },
  {
   "cell_type": "code",
   "execution_count": 146,
   "id": "485c02a4",
   "metadata": {},
   "outputs": [],
   "source": [
    "import matplotlib.pyplot as plt"
   ]
  },
  {
   "cell_type": "code",
   "execution_count": 147,
   "id": "e8c09a33",
   "metadata": {},
   "outputs": [
    {
     "data": {
      "image/png": "[encoded data removed]",
      "text/plain": [
       "<Figure size 1080x504 with 2 Axes>"
      ]
     },
     "metadata": {
      "needs_background": "light"
     },
     "output_type": "display_data"
    }
   ],
   "source": [
    "df_corr = df.corr().abs()\n",
    "plt.figure(figsize=(15,7))\n",
    "sns.heatmap(df_corr,annot = True, annot_kws={'size':10})\n",
    "plt.show()\n"
   ]
  },
  {
   "cell_type": "code",
   "execution_count": 148,
   "id": "ac504d8f",
   "metadata": {},
   "outputs": [
    {
     "data": {
      "text/html": [
       "<div>\n",
       "<style scoped>\n",
       "    .dataframe tbody tr th:only-of-type {\n",
       "        vertical-align: middle;\n",
       "    }\n",
       "\n",
       "    .dataframe tbody tr th {\n",
       "        vertical-align: top;\n",
       "    }\n",
       "\n",
       "    .dataframe thead th {\n",
       "        text-align: right;\n",
       "    }\n",
       "</style>\n",
       "<table border=\"1\" class=\"dataframe\">\n",
       "  <thead>\n",
       "    <tr style=\"text-align: right;\">\n",
       "      <th></th>\n",
       "      <th>Happiness Score</th>\n",
       "      <th>Standard Error</th>\n",
       "      <th>Economy (GDP per Capita)</th>\n",
       "      <th>Family</th>\n",
       "      <th>Health (Life Expectancy)</th>\n",
       "      <th>Freedom</th>\n",
       "      <th>Trust (Government Corruption)</th>\n",
       "      <th>Generosity</th>\n",
       "      <th>Dystopia Residual</th>\n",
       "    </tr>\n",
       "  </thead>\n",
       "  <tbody>\n",
       "    <tr>\n",
       "      <th>0</th>\n",
       "      <td>7.587</td>\n",
       "      <td>0.03411</td>\n",
       "      <td>1.39651</td>\n",
       "      <td>1.34951</td>\n",
       "      <td>0.94143</td>\n",
       "      <td>0.66557</td>\n",
       "      <td>0.41978</td>\n",
       "      <td>0.29678</td>\n",
       "      <td>2.51738</td>\n",
       "    </tr>\n",
       "    <tr>\n",
       "      <th>1</th>\n",
       "      <td>7.561</td>\n",
       "      <td>0.04884</td>\n",
       "      <td>1.30232</td>\n",
       "      <td>1.40223</td>\n",
       "      <td>0.94784</td>\n",
       "      <td>0.62877</td>\n",
       "      <td>0.14145</td>\n",
       "      <td>0.43630</td>\n",
       "      <td>2.70201</td>\n",
       "    </tr>\n",
       "    <tr>\n",
       "      <th>2</th>\n",
       "      <td>7.527</td>\n",
       "      <td>0.03328</td>\n",
       "      <td>1.32548</td>\n",
       "      <td>1.36058</td>\n",
       "      <td>0.87464</td>\n",
       "      <td>0.64938</td>\n",
       "      <td>0.48357</td>\n",
       "      <td>0.34139</td>\n",
       "      <td>2.49204</td>\n",
       "    </tr>\n",
       "    <tr>\n",
       "      <th>3</th>\n",
       "      <td>7.522</td>\n",
       "      <td>0.03880</td>\n",
       "      <td>1.45900</td>\n",
       "      <td>1.33095</td>\n",
       "      <td>0.88521</td>\n",
       "      <td>0.66973</td>\n",
       "      <td>0.36503</td>\n",
       "      <td>0.34699</td>\n",
       "      <td>2.46531</td>\n",
       "    </tr>\n",
       "    <tr>\n",
       "      <th>4</th>\n",
       "      <td>7.427</td>\n",
       "      <td>0.03553</td>\n",
       "      <td>1.32629</td>\n",
       "      <td>1.32261</td>\n",
       "      <td>0.90563</td>\n",
       "      <td>0.63297</td>\n",
       "      <td>0.32957</td>\n",
       "      <td>0.45811</td>\n",
       "      <td>2.45176</td>\n",
       "    </tr>\n",
       "    <tr>\n",
       "      <th>...</th>\n",
       "      <td>...</td>\n",
       "      <td>...</td>\n",
       "      <td>...</td>\n",
       "      <td>...</td>\n",
       "      <td>...</td>\n",
       "      <td>...</td>\n",
       "      <td>...</td>\n",
       "      <td>...</td>\n",
       "      <td>...</td>\n",
       "    </tr>\n",
       "    <tr>\n",
       "      <th>153</th>\n",
       "      <td>3.465</td>\n",
       "      <td>0.03464</td>\n",
       "      <td>0.22208</td>\n",
       "      <td>0.77370</td>\n",
       "      <td>0.42864</td>\n",
       "      <td>0.59201</td>\n",
       "      <td>0.55191</td>\n",
       "      <td>0.22628</td>\n",
       "      <td>0.67042</td>\n",
       "    </tr>\n",
       "    <tr>\n",
       "      <th>154</th>\n",
       "      <td>3.340</td>\n",
       "      <td>0.03656</td>\n",
       "      <td>0.28665</td>\n",
       "      <td>0.35386</td>\n",
       "      <td>0.31910</td>\n",
       "      <td>0.48450</td>\n",
       "      <td>0.08010</td>\n",
       "      <td>0.18260</td>\n",
       "      <td>1.63328</td>\n",
       "    </tr>\n",
       "    <tr>\n",
       "      <th>155</th>\n",
       "      <td>3.006</td>\n",
       "      <td>0.05015</td>\n",
       "      <td>0.66320</td>\n",
       "      <td>0.47489</td>\n",
       "      <td>0.72193</td>\n",
       "      <td>0.15684</td>\n",
       "      <td>0.18906</td>\n",
       "      <td>0.47179</td>\n",
       "      <td>0.32858</td>\n",
       "    </tr>\n",
       "    <tr>\n",
       "      <th>156</th>\n",
       "      <td>2.905</td>\n",
       "      <td>0.08658</td>\n",
       "      <td>0.01530</td>\n",
       "      <td>0.41587</td>\n",
       "      <td>0.22396</td>\n",
       "      <td>0.11850</td>\n",
       "      <td>0.10062</td>\n",
       "      <td>0.19727</td>\n",
       "      <td>1.83302</td>\n",
       "    </tr>\n",
       "    <tr>\n",
       "      <th>157</th>\n",
       "      <td>2.839</td>\n",
       "      <td>0.06727</td>\n",
       "      <td>0.20868</td>\n",
       "      <td>0.13995</td>\n",
       "      <td>0.28443</td>\n",
       "      <td>0.36453</td>\n",
       "      <td>0.10731</td>\n",
       "      <td>0.16681</td>\n",
       "      <td>1.56726</td>\n",
       "    </tr>\n",
       "  </tbody>\n",
       "</table>\n",
       "<p>158 rows × 9 columns</p>\n",
       "</div>"
      ],
      "text/plain": [
       "     Happiness Score  Standard Error  Economy (GDP per Capita)   Family  \\\n",
       "0              7.587         0.03411                   1.39651  1.34951   \n",
       "1              7.561         0.04884                   1.30232  1.40223   \n",
       "2              7.527         0.03328                   1.32548  1.36058   \n",
       "3              7.522         0.03880                   1.45900  1.33095   \n",
       "4              7.427         0.03553                   1.32629  1.32261   \n",
       "..               ...             ...                       ...      ...   \n",
       "153            3.465         0.03464                   0.22208  0.77370   \n",
       "154            3.340         0.03656                   0.28665  0.35386   \n",
       "155            3.006         0.05015                   0.66320  0.47489   \n",
       "156            2.905         0.08658                   0.01530  0.41587   \n",
       "157            2.839         0.06727                   0.20868  0.13995   \n",
       "\n",
       "     Health (Life Expectancy)  Freedom  Trust (Government Corruption)  \\\n",
       "0                     0.94143  0.66557                        0.41978   \n",
       "1                     0.94784  0.62877                        0.14145   \n",
       "2                     0.87464  0.64938                        0.48357   \n",
       "3                     0.88521  0.66973                        0.36503   \n",
       "4                     0.90563  0.63297                        0.32957   \n",
       "..                        ...      ...                            ...   \n",
       "153                   0.42864  0.59201                        0.55191   \n",
       "154                   0.31910  0.48450                        0.08010   \n",
       "155                   0.72193  0.15684                        0.18906   \n",
       "156                   0.22396  0.11850                        0.10062   \n",
       "157                   0.28443  0.36453                        0.10731   \n",
       "\n",
       "     Generosity  Dystopia Residual  \n",
       "0       0.29678            2.51738  \n",
       "1       0.43630            2.70201  \n",
       "2       0.34139            2.49204  \n",
       "3       0.34699            2.46531  \n",
       "4       0.45811            2.45176  \n",
       "..          ...                ...  \n",
       "153     0.22628            0.67042  \n",
       "154     0.18260            1.63328  \n",
       "155     0.47179            0.32858  \n",
       "156     0.19727            1.83302  \n",
       "157     0.16681            1.56726  \n",
       "\n",
       "[158 rows x 9 columns]"
      ]
     },
     "execution_count": 148,
     "metadata": {},
     "output_type": "execute_result"
    }
   ],
   "source": [
    "df = df.drop([\"Country\",\"Region\",\"Happiness Rank\"],axis = 1)\n",
    "df"
   ]
  },
  {
   "cell_type": "code",
   "execution_count": 149,
   "id": "e65e2766",
   "metadata": {},
   "outputs": [
    {
     "data": {
      "image/png": "[encoded data removed]",
      "text/plain": [
       "<Figure size 1440x1800 with 9 Axes>"
      ]
     },
     "metadata": {},
     "output_type": "display_data"
    }
   ],
   "source": [
    "plt.figure(figsize = (20,25), facecolor = 'red')\n",
    "x = 1\n",
    "for columns in df:\n",
    "    if x<=9:\n",
    "        ax = plt.subplot(3,3,x)\n",
    "        sns.boxplot(data = df[columns])\n",
    "        plt.xlabel(columns,fontsize = 15)\n",
    "    \n",
    "    x+=1\n",
    "    plt.tight_layout()"
   ]
  },
  {
   "cell_type": "code",
   "execution_count": 150,
   "id": "abce7889",
   "metadata": {},
   "outputs": [
    {
     "data": {
      "text/plain": [
       "Happiness Score                  0.097769\n",
       "Standard Error                   1.983439\n",
       "Economy (GDP per Capita)        -0.317575\n",
       "Family                          -1.006893\n",
       "Health (Life Expectancy)        -0.705328\n",
       "Freedom                         -0.413462\n",
       "Trust (Government Corruption)    1.385463\n",
       "Generosity                       1.001961\n",
       "Dystopia Residual               -0.238911\n",
       "dtype: float64"
      ]
     },
     "execution_count": 150,
     "metadata": {},
     "output_type": "execute_result"
    }
   ],
   "source": [
    "df.skew()"
   ]
  },
  {
   "cell_type": "code",
   "execution_count": 151,
   "id": "7eeed177",
   "metadata": {},
   "outputs": [
    {
     "data": {
      "text/html": [
       "<div>\n",
       "<style scoped>\n",
       "    .dataframe tbody tr th:only-of-type {\n",
       "        vertical-align: middle;\n",
       "    }\n",
       "\n",
       "    .dataframe tbody tr th {\n",
       "        vertical-align: top;\n",
       "    }\n",
       "\n",
       "    .dataframe thead th {\n",
       "        text-align: right;\n",
       "    }\n",
       "</style>\n",
       "<table border=\"1\" class=\"dataframe\">\n",
       "  <thead>\n",
       "    <tr style=\"text-align: right;\">\n",
       "      <th></th>\n",
       "      <th>Happiness Score</th>\n",
       "      <th>Economy (GDP per Capita)</th>\n",
       "      <th>Family</th>\n",
       "      <th>Health (Life Expectancy)</th>\n",
       "      <th>Freedom</th>\n",
       "      <th>Trust (Government Corruption)</th>\n",
       "      <th>Generosity</th>\n",
       "    </tr>\n",
       "  </thead>\n",
       "  <tbody>\n",
       "    <tr>\n",
       "      <th>0</th>\n",
       "      <td>7.587</td>\n",
       "      <td>1.39651</td>\n",
       "      <td>1.34951</td>\n",
       "      <td>0.94143</td>\n",
       "      <td>0.66557</td>\n",
       "      <td>0.41978</td>\n",
       "      <td>0.29678</td>\n",
       "    </tr>\n",
       "    <tr>\n",
       "      <th>1</th>\n",
       "      <td>7.561</td>\n",
       "      <td>1.30232</td>\n",
       "      <td>1.40223</td>\n",
       "      <td>0.94784</td>\n",
       "      <td>0.62877</td>\n",
       "      <td>0.14145</td>\n",
       "      <td>0.43630</td>\n",
       "    </tr>\n",
       "    <tr>\n",
       "      <th>2</th>\n",
       "      <td>7.527</td>\n",
       "      <td>1.32548</td>\n",
       "      <td>1.36058</td>\n",
       "      <td>0.87464</td>\n",
       "      <td>0.64938</td>\n",
       "      <td>0.48357</td>\n",
       "      <td>0.34139</td>\n",
       "    </tr>\n",
       "    <tr>\n",
       "      <th>3</th>\n",
       "      <td>7.522</td>\n",
       "      <td>1.45900</td>\n",
       "      <td>1.33095</td>\n",
       "      <td>0.88521</td>\n",
       "      <td>0.66973</td>\n",
       "      <td>0.36503</td>\n",
       "      <td>0.34699</td>\n",
       "    </tr>\n",
       "    <tr>\n",
       "      <th>4</th>\n",
       "      <td>7.427</td>\n",
       "      <td>1.32629</td>\n",
       "      <td>1.32261</td>\n",
       "      <td>0.90563</td>\n",
       "      <td>0.63297</td>\n",
       "      <td>0.32957</td>\n",
       "      <td>0.45811</td>\n",
       "    </tr>\n",
       "    <tr>\n",
       "      <th>...</th>\n",
       "      <td>...</td>\n",
       "      <td>...</td>\n",
       "      <td>...</td>\n",
       "      <td>...</td>\n",
       "      <td>...</td>\n",
       "      <td>...</td>\n",
       "      <td>...</td>\n",
       "    </tr>\n",
       "    <tr>\n",
       "      <th>153</th>\n",
       "      <td>3.465</td>\n",
       "      <td>0.22208</td>\n",
       "      <td>0.77370</td>\n",
       "      <td>0.42864</td>\n",
       "      <td>0.59201</td>\n",
       "      <td>0.55191</td>\n",
       "      <td>0.22628</td>\n",
       "    </tr>\n",
       "    <tr>\n",
       "      <th>154</th>\n",
       "      <td>3.340</td>\n",
       "      <td>0.28665</td>\n",
       "      <td>0.35386</td>\n",
       "      <td>0.31910</td>\n",
       "      <td>0.48450</td>\n",
       "      <td>0.08010</td>\n",
       "      <td>0.18260</td>\n",
       "    </tr>\n",
       "    <tr>\n",
       "      <th>155</th>\n",
       "      <td>3.006</td>\n",
       "      <td>0.66320</td>\n",
       "      <td>0.47489</td>\n",
       "      <td>0.72193</td>\n",
       "      <td>0.15684</td>\n",
       "      <td>0.18906</td>\n",
       "      <td>0.47179</td>\n",
       "    </tr>\n",
       "    <tr>\n",
       "      <th>156</th>\n",
       "      <td>2.905</td>\n",
       "      <td>0.01530</td>\n",
       "      <td>0.41587</td>\n",
       "      <td>0.22396</td>\n",
       "      <td>0.11850</td>\n",
       "      <td>0.10062</td>\n",
       "      <td>0.19727</td>\n",
       "    </tr>\n",
       "    <tr>\n",
       "      <th>157</th>\n",
       "      <td>2.839</td>\n",
       "      <td>0.20868</td>\n",
       "      <td>0.13995</td>\n",
       "      <td>0.28443</td>\n",
       "      <td>0.36453</td>\n",
       "      <td>0.10731</td>\n",
       "      <td>0.16681</td>\n",
       "    </tr>\n",
       "  </tbody>\n",
       "</table>\n",
       "<p>158 rows × 7 columns</p>\n",
       "</div>"
      ],
      "text/plain": [
       "     Happiness Score  Economy (GDP per Capita)   Family  \\\n",
       "0              7.587                   1.39651  1.34951   \n",
       "1              7.561                   1.30232  1.40223   \n",
       "2              7.527                   1.32548  1.36058   \n",
       "3              7.522                   1.45900  1.33095   \n",
       "4              7.427                   1.32629  1.32261   \n",
       "..               ...                       ...      ...   \n",
       "153            3.465                   0.22208  0.77370   \n",
       "154            3.340                   0.28665  0.35386   \n",
       "155            3.006                   0.66320  0.47489   \n",
       "156            2.905                   0.01530  0.41587   \n",
       "157            2.839                   0.20868  0.13995   \n",
       "\n",
       "     Health (Life Expectancy)  Freedom  Trust (Government Corruption)  \\\n",
       "0                     0.94143  0.66557                        0.41978   \n",
       "1                     0.94784  0.62877                        0.14145   \n",
       "2                     0.87464  0.64938                        0.48357   \n",
       "3                     0.88521  0.66973                        0.36503   \n",
       "4                     0.90563  0.63297                        0.32957   \n",
       "..                        ...      ...                            ...   \n",
       "153                   0.42864  0.59201                        0.55191   \n",
       "154                   0.31910  0.48450                        0.08010   \n",
       "155                   0.72193  0.15684                        0.18906   \n",
       "156                   0.22396  0.11850                        0.10062   \n",
       "157                   0.28443  0.36453                        0.10731   \n",
       "\n",
       "     Generosity  \n",
       "0       0.29678  \n",
       "1       0.43630  \n",
       "2       0.34139  \n",
       "3       0.34699  \n",
       "4       0.45811  \n",
       "..          ...  \n",
       "153     0.22628  \n",
       "154     0.18260  \n",
       "155     0.47179  \n",
       "156     0.19727  \n",
       "157     0.16681  \n",
       "\n",
       "[158 rows x 7 columns]"
      ]
     },
     "execution_count": 151,
     "metadata": {},
     "output_type": "execute_result"
    }
   ],
   "source": [
    "df = df.drop([\"Standard Error\",\"Dystopia Residual\"],axis = 1)\n",
    "df"
   ]
  },
  {
   "cell_type": "code",
   "execution_count": 152,
   "id": "cab55532",
   "metadata": {},
   "outputs": [],
   "source": [
    "from scipy.stats import zscore"
   ]
  },
  {
   "cell_type": "code",
   "execution_count": 153,
   "id": "99f28b68",
   "metadata": {},
   "outputs": [
    {
     "data": {
      "text/html": [
       "<div>\n",
       "<style scoped>\n",
       "    .dataframe tbody tr th:only-of-type {\n",
       "        vertical-align: middle;\n",
       "    }\n",
       "\n",
       "    .dataframe tbody tr th {\n",
       "        vertical-align: top;\n",
       "    }\n",
       "\n",
       "    .dataframe thead th {\n",
       "        text-align: right;\n",
       "    }\n",
       "</style>\n",
       "<table border=\"1\" class=\"dataframe\">\n",
       "  <thead>\n",
       "    <tr style=\"text-align: right;\">\n",
       "      <th></th>\n",
       "      <th>Happiness Score</th>\n",
       "      <th>Economy (GDP per Capita)</th>\n",
       "      <th>Family</th>\n",
       "      <th>Health (Life Expectancy)</th>\n",
       "      <th>Freedom</th>\n",
       "      <th>Trust (Government Corruption)</th>\n",
       "      <th>Generosity</th>\n",
       "    </tr>\n",
       "  </thead>\n",
       "  <tbody>\n",
       "    <tr>\n",
       "      <th>0</th>\n",
       "      <td>1.937360</td>\n",
       "      <td>1.369621</td>\n",
       "      <td>1.320281</td>\n",
       "      <td>1.263408</td>\n",
       "      <td>1.577438</td>\n",
       "      <td>2.309652</td>\n",
       "      <td>0.471040</td>\n",
       "    </tr>\n",
       "    <tr>\n",
       "      <th>1</th>\n",
       "      <td>1.914581</td>\n",
       "      <td>1.135226</td>\n",
       "      <td>1.514458</td>\n",
       "      <td>1.289434</td>\n",
       "      <td>1.332456</td>\n",
       "      <td>0.016480</td>\n",
       "      <td>1.575856</td>\n",
       "    </tr>\n",
       "    <tr>\n",
       "      <th>2</th>\n",
       "      <td>1.884792</td>\n",
       "      <td>1.192861</td>\n",
       "      <td>1.361054</td>\n",
       "      <td>0.992229</td>\n",
       "      <td>1.469659</td>\n",
       "      <td>2.842774</td>\n",
       "      <td>0.824293</td>\n",
       "    </tr>\n",
       "    <tr>\n",
       "      <th>3</th>\n",
       "      <td>1.880411</td>\n",
       "      <td>1.525130</td>\n",
       "      <td>1.251922</td>\n",
       "      <td>1.035145</td>\n",
       "      <td>1.605131</td>\n",
       "      <td>1.852081</td>\n",
       "      <td>0.868638</td>\n",
       "    </tr>\n",
       "    <tr>\n",
       "      <th>4</th>\n",
       "      <td>1.797179</td>\n",
       "      <td>1.194876</td>\n",
       "      <td>1.221204</td>\n",
       "      <td>1.118054</td>\n",
       "      <td>1.360416</td>\n",
       "      <td>1.555725</td>\n",
       "      <td>1.748563</td>\n",
       "    </tr>\n",
       "    <tr>\n",
       "      <th>...</th>\n",
       "      <td>...</td>\n",
       "      <td>...</td>\n",
       "      <td>...</td>\n",
       "      <td>...</td>\n",
       "      <td>...</td>\n",
       "      <td>...</td>\n",
       "      <td>...</td>\n",
       "    </tr>\n",
       "    <tr>\n",
       "      <th>153</th>\n",
       "      <td>1.674055</td>\n",
       "      <td>1.552987</td>\n",
       "      <td>0.800520</td>\n",
       "      <td>0.818610</td>\n",
       "      <td>1.087740</td>\n",
       "      <td>3.413922</td>\n",
       "      <td>0.087228</td>\n",
       "    </tr>\n",
       "    <tr>\n",
       "      <th>154</th>\n",
       "      <td>1.783571</td>\n",
       "      <td>1.392303</td>\n",
       "      <td>2.346860</td>\n",
       "      <td>1.263362</td>\n",
       "      <td>0.372033</td>\n",
       "      <td>0.529210</td>\n",
       "      <td>0.433117</td>\n",
       "    </tr>\n",
       "    <tr>\n",
       "      <th>155</th>\n",
       "      <td>2.076199</td>\n",
       "      <td>0.455245</td>\n",
       "      <td>1.901086</td>\n",
       "      <td>0.372199</td>\n",
       "      <td>1.809238</td>\n",
       "      <td>0.381419</td>\n",
       "      <td>1.856891</td>\n",
       "    </tr>\n",
       "    <tr>\n",
       "      <th>156</th>\n",
       "      <td>2.164688</td>\n",
       "      <td>2.067566</td>\n",
       "      <td>2.118467</td>\n",
       "      <td>1.649648</td>\n",
       "      <td>2.064472</td>\n",
       "      <td>0.357715</td>\n",
       "      <td>0.316950</td>\n",
       "    </tr>\n",
       "    <tr>\n",
       "      <th>157</th>\n",
       "      <td>2.222513</td>\n",
       "      <td>1.586334</td>\n",
       "      <td>3.134725</td>\n",
       "      <td>1.404129</td>\n",
       "      <td>0.426621</td>\n",
       "      <td>0.301803</td>\n",
       "      <td>0.558153</td>\n",
       "    </tr>\n",
       "  </tbody>\n",
       "</table>\n",
       "<p>158 rows × 7 columns</p>\n",
       "</div>"
      ],
      "text/plain": [
       "     Happiness Score  Economy (GDP per Capita)    Family  \\\n",
       "0           1.937360                  1.369621  1.320281   \n",
       "1           1.914581                  1.135226  1.514458   \n",
       "2           1.884792                  1.192861  1.361054   \n",
       "3           1.880411                  1.525130  1.251922   \n",
       "4           1.797179                  1.194876  1.221204   \n",
       "..               ...                       ...       ...   \n",
       "153         1.674055                  1.552987  0.800520   \n",
       "154         1.783571                  1.392303  2.346860   \n",
       "155         2.076199                  0.455245  1.901086   \n",
       "156         2.164688                  2.067566  2.118467   \n",
       "157         2.222513                  1.586334  3.134725   \n",
       "\n",
       "     Health (Life Expectancy)   Freedom  Trust (Government Corruption)  \\\n",
       "0                    1.263408  1.577438                       2.309652   \n",
       "1                    1.289434  1.332456                       0.016480   \n",
       "2                    0.992229  1.469659                       2.842774   \n",
       "3                    1.035145  1.605131                       1.852081   \n",
       "4                    1.118054  1.360416                       1.555725   \n",
       "..                        ...       ...                            ...   \n",
       "153                  0.818610  1.087740                       3.413922   \n",
       "154                  1.263362  0.372033                       0.529210   \n",
       "155                  0.372199  1.809238                       0.381419   \n",
       "156                  1.649648  2.064472                       0.357715   \n",
       "157                  1.404129  0.426621                       0.301803   \n",
       "\n",
       "     Generosity  \n",
       "0      0.471040  \n",
       "1      1.575856  \n",
       "2      0.824293  \n",
       "3      0.868638  \n",
       "4      1.748563  \n",
       "..          ...  \n",
       "153    0.087228  \n",
       "154    0.433117  \n",
       "155    1.856891  \n",
       "156    0.316950  \n",
       "157    0.558153  \n",
       "\n",
       "[158 rows x 7 columns]"
      ]
     },
     "execution_count": 153,
     "metadata": {},
     "output_type": "execute_result"
    }
   ],
   "source": [
    "z = np.abs(zscore(df))\n",
    "z"
   ]
  },
  {
   "cell_type": "code",
   "execution_count": 154,
   "id": "ac07d6cf",
   "metadata": {},
   "outputs": [],
   "source": [
    "df_new = df[(z<3).all(axis = 1)]"
   ]
  },
  {
   "cell_type": "code",
   "execution_count": 155,
   "id": "9733eb66",
   "metadata": {},
   "outputs": [
    {
     "data": {
      "text/html": [
       "<div>\n",
       "<style scoped>\n",
       "    .dataframe tbody tr th:only-of-type {\n",
       "        vertical-align: middle;\n",
       "    }\n",
       "\n",
       "    .dataframe tbody tr th {\n",
       "        vertical-align: top;\n",
       "    }\n",
       "\n",
       "    .dataframe thead th {\n",
       "        text-align: right;\n",
       "    }\n",
       "</style>\n",
       "<table border=\"1\" class=\"dataframe\">\n",
       "  <thead>\n",
       "    <tr style=\"text-align: right;\">\n",
       "      <th></th>\n",
       "      <th>Happiness Score</th>\n",
       "      <th>Economy (GDP per Capita)</th>\n",
       "      <th>Family</th>\n",
       "      <th>Health (Life Expectancy)</th>\n",
       "      <th>Freedom</th>\n",
       "      <th>Trust (Government Corruption)</th>\n",
       "      <th>Generosity</th>\n",
       "    </tr>\n",
       "  </thead>\n",
       "  <tbody>\n",
       "    <tr>\n",
       "      <th>0</th>\n",
       "      <td>7.587</td>\n",
       "      <td>1.39651</td>\n",
       "      <td>1.34951</td>\n",
       "      <td>0.94143</td>\n",
       "      <td>0.66557</td>\n",
       "      <td>0.41978</td>\n",
       "      <td>0.29678</td>\n",
       "    </tr>\n",
       "    <tr>\n",
       "      <th>1</th>\n",
       "      <td>7.561</td>\n",
       "      <td>1.30232</td>\n",
       "      <td>1.40223</td>\n",
       "      <td>0.94784</td>\n",
       "      <td>0.62877</td>\n",
       "      <td>0.14145</td>\n",
       "      <td>0.43630</td>\n",
       "    </tr>\n",
       "    <tr>\n",
       "      <th>2</th>\n",
       "      <td>7.527</td>\n",
       "      <td>1.32548</td>\n",
       "      <td>1.36058</td>\n",
       "      <td>0.87464</td>\n",
       "      <td>0.64938</td>\n",
       "      <td>0.48357</td>\n",
       "      <td>0.34139</td>\n",
       "    </tr>\n",
       "    <tr>\n",
       "      <th>3</th>\n",
       "      <td>7.522</td>\n",
       "      <td>1.45900</td>\n",
       "      <td>1.33095</td>\n",
       "      <td>0.88521</td>\n",
       "      <td>0.66973</td>\n",
       "      <td>0.36503</td>\n",
       "      <td>0.34699</td>\n",
       "    </tr>\n",
       "    <tr>\n",
       "      <th>4</th>\n",
       "      <td>7.427</td>\n",
       "      <td>1.32629</td>\n",
       "      <td>1.32261</td>\n",
       "      <td>0.90563</td>\n",
       "      <td>0.63297</td>\n",
       "      <td>0.32957</td>\n",
       "      <td>0.45811</td>\n",
       "    </tr>\n",
       "    <tr>\n",
       "      <th>...</th>\n",
       "      <td>...</td>\n",
       "      <td>...</td>\n",
       "      <td>...</td>\n",
       "      <td>...</td>\n",
       "      <td>...</td>\n",
       "      <td>...</td>\n",
       "      <td>...</td>\n",
       "    </tr>\n",
       "    <tr>\n",
       "      <th>151</th>\n",
       "      <td>3.587</td>\n",
       "      <td>0.25812</td>\n",
       "      <td>0.85188</td>\n",
       "      <td>0.27125</td>\n",
       "      <td>0.39493</td>\n",
       "      <td>0.12832</td>\n",
       "      <td>0.21747</td>\n",
       "    </tr>\n",
       "    <tr>\n",
       "      <th>152</th>\n",
       "      <td>3.575</td>\n",
       "      <td>0.31982</td>\n",
       "      <td>0.30285</td>\n",
       "      <td>0.30335</td>\n",
       "      <td>0.23414</td>\n",
       "      <td>0.09719</td>\n",
       "      <td>0.36510</td>\n",
       "    </tr>\n",
       "    <tr>\n",
       "      <th>154</th>\n",
       "      <td>3.340</td>\n",
       "      <td>0.28665</td>\n",
       "      <td>0.35386</td>\n",
       "      <td>0.31910</td>\n",
       "      <td>0.48450</td>\n",
       "      <td>0.08010</td>\n",
       "      <td>0.18260</td>\n",
       "    </tr>\n",
       "    <tr>\n",
       "      <th>155</th>\n",
       "      <td>3.006</td>\n",
       "      <td>0.66320</td>\n",
       "      <td>0.47489</td>\n",
       "      <td>0.72193</td>\n",
       "      <td>0.15684</td>\n",
       "      <td>0.18906</td>\n",
       "      <td>0.47179</td>\n",
       "    </tr>\n",
       "    <tr>\n",
       "      <th>156</th>\n",
       "      <td>2.905</td>\n",
       "      <td>0.01530</td>\n",
       "      <td>0.41587</td>\n",
       "      <td>0.22396</td>\n",
       "      <td>0.11850</td>\n",
       "      <td>0.10062</td>\n",
       "      <td>0.19727</td>\n",
       "    </tr>\n",
       "  </tbody>\n",
       "</table>\n",
       "<p>153 rows × 7 columns</p>\n",
       "</div>"
      ],
      "text/plain": [
       "     Happiness Score  Economy (GDP per Capita)   Family  \\\n",
       "0              7.587                   1.39651  1.34951   \n",
       "1              7.561                   1.30232  1.40223   \n",
       "2              7.527                   1.32548  1.36058   \n",
       "3              7.522                   1.45900  1.33095   \n",
       "4              7.427                   1.32629  1.32261   \n",
       "..               ...                       ...      ...   \n",
       "151            3.587                   0.25812  0.85188   \n",
       "152            3.575                   0.31982  0.30285   \n",
       "154            3.340                   0.28665  0.35386   \n",
       "155            3.006                   0.66320  0.47489   \n",
       "156            2.905                   0.01530  0.41587   \n",
       "\n",
       "     Health (Life Expectancy)  Freedom  Trust (Government Corruption)  \\\n",
       "0                     0.94143  0.66557                        0.41978   \n",
       "1                     0.94784  0.62877                        0.14145   \n",
       "2                     0.87464  0.64938                        0.48357   \n",
       "3                     0.88521  0.66973                        0.36503   \n",
       "4                     0.90563  0.63297                        0.32957   \n",
       "..                        ...      ...                            ...   \n",
       "151                   0.27125  0.39493                        0.12832   \n",
       "152                   0.30335  0.23414                        0.09719   \n",
       "154                   0.31910  0.48450                        0.08010   \n",
       "155                   0.72193  0.15684                        0.18906   \n",
       "156                   0.22396  0.11850                        0.10062   \n",
       "\n",
       "     Generosity  \n",
       "0       0.29678  \n",
       "1       0.43630  \n",
       "2       0.34139  \n",
       "3       0.34699  \n",
       "4       0.45811  \n",
       "..          ...  \n",
       "151     0.21747  \n",
       "152     0.36510  \n",
       "154     0.18260  \n",
       "155     0.47179  \n",
       "156     0.19727  \n",
       "\n",
       "[153 rows x 7 columns]"
      ]
     },
     "execution_count": 155,
     "metadata": {},
     "output_type": "execute_result"
    }
   ],
   "source": [
    "df_new"
   ]
  },
  {
   "cell_type": "code",
   "execution_count": 156,
   "id": "bf29d1aa",
   "metadata": {},
   "outputs": [],
   "source": [
    "x = df_new.drop(columns = ['Happiness Score'])\n",
    "y = df_new['Happiness Score']"
   ]
  },
  {
   "cell_type": "code",
   "execution_count": 157,
   "id": "ad2224bd",
   "metadata": {},
   "outputs": [
    {
     "data": {
      "text/html": [
       "<div>\n",
       "<style scoped>\n",
       "    .dataframe tbody tr th:only-of-type {\n",
       "        vertical-align: middle;\n",
       "    }\n",
       "\n",
       "    .dataframe tbody tr th {\n",
       "        vertical-align: top;\n",
       "    }\n",
       "\n",
       "    .dataframe thead th {\n",
       "        text-align: right;\n",
       "    }\n",
       "</style>\n",
       "<table border=\"1\" class=\"dataframe\">\n",
       "  <thead>\n",
       "    <tr style=\"text-align: right;\">\n",
       "      <th></th>\n",
       "      <th>Economy (GDP per Capita)</th>\n",
       "      <th>Family</th>\n",
       "      <th>Health (Life Expectancy)</th>\n",
       "      <th>Freedom</th>\n",
       "      <th>Trust (Government Corruption)</th>\n",
       "      <th>Generosity</th>\n",
       "    </tr>\n",
       "  </thead>\n",
       "  <tbody>\n",
       "    <tr>\n",
       "      <th>0</th>\n",
       "      <td>1.39651</td>\n",
       "      <td>1.34951</td>\n",
       "      <td>0.94143</td>\n",
       "      <td>0.66557</td>\n",
       "      <td>0.41978</td>\n",
       "      <td>0.29678</td>\n",
       "    </tr>\n",
       "    <tr>\n",
       "      <th>1</th>\n",
       "      <td>1.30232</td>\n",
       "      <td>1.40223</td>\n",
       "      <td>0.94784</td>\n",
       "      <td>0.62877</td>\n",
       "      <td>0.14145</td>\n",
       "      <td>0.43630</td>\n",
       "    </tr>\n",
       "    <tr>\n",
       "      <th>2</th>\n",
       "      <td>1.32548</td>\n",
       "      <td>1.36058</td>\n",
       "      <td>0.87464</td>\n",
       "      <td>0.64938</td>\n",
       "      <td>0.48357</td>\n",
       "      <td>0.34139</td>\n",
       "    </tr>\n",
       "    <tr>\n",
       "      <th>3</th>\n",
       "      <td>1.45900</td>\n",
       "      <td>1.33095</td>\n",
       "      <td>0.88521</td>\n",
       "      <td>0.66973</td>\n",
       "      <td>0.36503</td>\n",
       "      <td>0.34699</td>\n",
       "    </tr>\n",
       "    <tr>\n",
       "      <th>4</th>\n",
       "      <td>1.32629</td>\n",
       "      <td>1.32261</td>\n",
       "      <td>0.90563</td>\n",
       "      <td>0.63297</td>\n",
       "      <td>0.32957</td>\n",
       "      <td>0.45811</td>\n",
       "    </tr>\n",
       "    <tr>\n",
       "      <th>...</th>\n",
       "      <td>...</td>\n",
       "      <td>...</td>\n",
       "      <td>...</td>\n",
       "      <td>...</td>\n",
       "      <td>...</td>\n",
       "      <td>...</td>\n",
       "    </tr>\n",
       "    <tr>\n",
       "      <th>151</th>\n",
       "      <td>0.25812</td>\n",
       "      <td>0.85188</td>\n",
       "      <td>0.27125</td>\n",
       "      <td>0.39493</td>\n",
       "      <td>0.12832</td>\n",
       "      <td>0.21747</td>\n",
       "    </tr>\n",
       "    <tr>\n",
       "      <th>152</th>\n",
       "      <td>0.31982</td>\n",
       "      <td>0.30285</td>\n",
       "      <td>0.30335</td>\n",
       "      <td>0.23414</td>\n",
       "      <td>0.09719</td>\n",
       "      <td>0.36510</td>\n",
       "    </tr>\n",
       "    <tr>\n",
       "      <th>154</th>\n",
       "      <td>0.28665</td>\n",
       "      <td>0.35386</td>\n",
       "      <td>0.31910</td>\n",
       "      <td>0.48450</td>\n",
       "      <td>0.08010</td>\n",
       "      <td>0.18260</td>\n",
       "    </tr>\n",
       "    <tr>\n",
       "      <th>155</th>\n",
       "      <td>0.66320</td>\n",
       "      <td>0.47489</td>\n",
       "      <td>0.72193</td>\n",
       "      <td>0.15684</td>\n",
       "      <td>0.18906</td>\n",
       "      <td>0.47179</td>\n",
       "    </tr>\n",
       "    <tr>\n",
       "      <th>156</th>\n",
       "      <td>0.01530</td>\n",
       "      <td>0.41587</td>\n",
       "      <td>0.22396</td>\n",
       "      <td>0.11850</td>\n",
       "      <td>0.10062</td>\n",
       "      <td>0.19727</td>\n",
       "    </tr>\n",
       "  </tbody>\n",
       "</table>\n",
       "<p>153 rows × 6 columns</p>\n",
       "</div>"
      ],
      "text/plain": [
       "     Economy (GDP per Capita)   Family  Health (Life Expectancy)  Freedom  \\\n",
       "0                     1.39651  1.34951                   0.94143  0.66557   \n",
       "1                     1.30232  1.40223                   0.94784  0.62877   \n",
       "2                     1.32548  1.36058                   0.87464  0.64938   \n",
       "3                     1.45900  1.33095                   0.88521  0.66973   \n",
       "4                     1.32629  1.32261                   0.90563  0.63297   \n",
       "..                        ...      ...                       ...      ...   \n",
       "151                   0.25812  0.85188                   0.27125  0.39493   \n",
       "152                   0.31982  0.30285                   0.30335  0.23414   \n",
       "154                   0.28665  0.35386                   0.31910  0.48450   \n",
       "155                   0.66320  0.47489                   0.72193  0.15684   \n",
       "156                   0.01530  0.41587                   0.22396  0.11850   \n",
       "\n",
       "     Trust (Government Corruption)  Generosity  \n",
       "0                          0.41978     0.29678  \n",
       "1                          0.14145     0.43630  \n",
       "2                          0.48357     0.34139  \n",
       "3                          0.36503     0.34699  \n",
       "4                          0.32957     0.45811  \n",
       "..                             ...         ...  \n",
       "151                        0.12832     0.21747  \n",
       "152                        0.09719     0.36510  \n",
       "154                        0.08010     0.18260  \n",
       "155                        0.18906     0.47179  \n",
       "156                        0.10062     0.19727  \n",
       "\n",
       "[153 rows x 6 columns]"
      ]
     },
     "execution_count": 157,
     "metadata": {},
     "output_type": "execute_result"
    }
   ],
   "source": [
    "x"
   ]
  },
  {
   "cell_type": "code",
   "execution_count": 158,
   "id": "67fc038e",
   "metadata": {},
   "outputs": [],
   "source": [
    "from sklearn.preprocessing import power_transform"
   ]
  },
  {
   "cell_type": "code",
   "execution_count": 159,
   "id": "dfd65045",
   "metadata": {},
   "outputs": [],
   "source": [
    " x = power_transform(x,method = 'yeo-johnson')"
   ]
  },
  {
   "cell_type": "code",
   "execution_count": 160,
   "id": "8aad1aaa",
   "metadata": {},
   "outputs": [
    {
     "data": {
      "text/plain": [
       "array([[ 1.50012451e+00,  1.66433980e+00,  1.48683517e+00,\n",
       "         1.75964452e+00,  1.82528512e+00,  6.39806530e-01],\n",
       "       [ 1.20268487e+00,  2.01353269e+00,  1.52862764e+00,\n",
       "         1.44747865e+00,  3.47903023e-01,  1.54992546e+00],\n",
       "       [ 1.27500417e+00,  1.73602914e+00,  1.06910912e+00,\n",
       "         1.62097929e+00,  1.96000848e+00,  9.59243851e-01],\n",
       "       [ 1.70229807e+00,  1.54606301e+00,  1.13308938e+00,\n",
       "         1.79561314e+00,  1.67317917e+00,  9.97298346e-01],\n",
       "       [ 1.27754314e+00,  1.49369078e+00,  1.25894074e+00,\n",
       "         1.48256184e+00,  1.55098108e+00,  1.67089854e+00],\n",
       "       [ 1.16520716e+00,  1.46656390e+00,  1.15689596e+00,\n",
       "         1.55584802e+00,  1.81031609e+00,  1.31310086e-01],\n",
       "       [ 1.28742311e+00,  1.23452156e+00,  1.17976600e+00,\n",
       "         1.33968966e+00,  1.50681368e+00,  1.76700069e+00],\n",
       "       [ 1.29454908e+00,  1.28786436e+00,  1.29171712e+00,\n",
       "         1.70998490e+00,  1.86882489e+00,  1.10124263e+00],\n",
       "       [ 1.04183325e+00,  1.47534255e+00,  1.27605488e+00,\n",
       "         1.53637511e+00,  1.84778022e+00,  1.76126958e+00],\n",
       "       [ 1.30042323e+00,  1.41066520e+00,  1.42307373e+00,\n",
       "         1.63680351e+00,  1.64526015e+00,  1.54607228e+00],\n",
       "       [ 9.75965298e-01,  9.09528811e-01,  1.31057128e+00,\n",
       "        -1.70255791e-01, -4.44725671e-01,  8.92493045e-01],\n",
       "       [ 1.85306772e-01,  9.88217814e-01,  9.83388954e-01,\n",
       "         1.48917644e+00, -5.88650065e-02,  3.11701173e-01],\n",
       "       [ 1.31189881e+00,  1.33608410e+00,  1.16491678e+00,\n",
       "         1.41054254e+00,  7.58065015e-01,  8.86631577e-01],\n",
       "       [ 3.66096309e-01, -5.36462534e-01,  7.19568577e-01,\n",
       "         3.06411200e-01,  9.53010365e-01, -7.58343495e-01],\n",
       "       [ 1.49371744e+00,  1.04097459e+00,  9.92387674e-01,\n",
       "         7.84637999e-01,  5.18463935e-01,  1.34336192e+00],\n",
       "       [ 2.55864303e-01,  9.59813012e-01,  1.07566989e-01,\n",
       "         3.69209901e-01,  6.63263789e-01, -7.05297817e-01],\n",
       "       [ 2.05031024e+00,  8.85525734e-01,  1.34258263e+00,\n",
       "         1.34026604e+00,  1.71281038e+00,  5.14306179e-01],\n",
       "       [ 1.30790444e+00,  1.79429065e+00,  1.19508831e+00,\n",
       "         1.35625541e+00,  1.37290555e+00,  1.67578388e+00],\n",
       "       [ 1.21981075e+00,  1.26736364e+00,  1.20335236e+00,\n",
       "         1.08614029e+00,  1.03468028e+00,  3.53646972e-02],\n",
       "       [ 1.59916205e+00,  3.90346335e-01,  6.90597480e-01,\n",
       "         1.55483540e+00,  1.73566343e+00,  3.87350854e-01],\n",
       "       [ 1.09148802e+00,  1.26628366e+00,  1.28269018e+00,\n",
       "         1.18054612e+00,  1.51680810e+00,  1.98422624e+00],\n",
       "       [ 1.38413481e+00,  1.76963625e-01,  4.39124128e-01,\n",
       "         1.48063700e+00,  1.53454442e+00, -2.75995522e-02],\n",
       "       [ 4.33343254e-01,  1.09208094e+00,  2.22918608e-01,\n",
       "        -6.29784009e-02,  1.79166548e-03, -1.73290482e+00],\n",
       "       [ 1.90953177e+00, -1.04467769e-01,  2.05760922e+00,\n",
       "         7.57614209e-01,  1.97526420e+00,  7.45246676e-01],\n",
       "       [ 4.88503951e-01,  7.69287631e-01,  6.20799438e-01,\n",
       "         7.54396139e-01, -2.31832885e-01,  2.23415911e-01],\n",
       "       [ 1.28265440e+00,  1.35026181e+00,  1.17374765e+00,\n",
       "         1.33154212e+00,  9.88992234e-01,  5.28263180e-01],\n",
       "       [ 6.14644574e-01,  3.83967440e-01,  9.73343703e-01,\n",
       "         2.09251328e-02,  2.11848618e-01,  9.05783120e-01],\n",
       "       [ 1.12664028e+00,  1.11779742e+00,  1.51522897e+00,\n",
       "         8.16003103e-01,  9.06386184e-01, -9.48250848e-01],\n",
       "       [ 4.59803535e-01,  1.04741399e+00,  5.69695174e-01,\n",
       "         7.92868122e-02, -3.42119703e-01, -1.04741608e+00],\n",
       "       [ 8.26591599e-01,  8.12579175e-01,  8.92892228e-01,\n",
       "         1.76785182e-01, -1.35150326e+00, -1.13529053e+00],\n",
       "       [ 4.83139859e-01,  8.26144727e-01,  7.03692843e-01,\n",
       "         1.24031205e+00,  1.15772191e+00,  1.21743905e-01],\n",
       "       [ 8.35096668e-02,  1.00131237e+00,  7.74722521e-02,\n",
       "         6.97614809e-01, -8.79070163e-01, -3.19519537e-01],\n",
       "       [ 2.16040858e-01,  1.14504949e+00,  3.13543067e-01,\n",
       "         8.66592725e-01, -1.24270073e+00,  2.24802383e+00],\n",
       "       [ 1.49660013e+00,  1.86954134e-01,  2.21573460e-01,\n",
       "        -8.19565086e-01,  1.53454442e+00, -7.97795620e-01],\n",
       "       [ 9.80643732e-01,  1.43882359e+00,  1.57975960e+00,\n",
       "         1.47665933e-01, -6.61821927e-01, -3.36316825e-01],\n",
       "       [ 9.11894068e-01,  1.36649237e+00,  1.14528439e+00,\n",
       "         1.24055620e+00,  2.89538747e-01,  1.97644950e+00],\n",
       "       [ 1.16746969e+00,  1.50338646e-01,  1.07308100e+00,\n",
       "        -2.75025907e-01, -3.93683215e-01,  3.01755542e-01],\n",
       "       [ 2.01771692e+00,  5.95666321e-01,  2.44904935e-01,\n",
       "         8.53778680e-01,  1.21676834e+00, -5.34277529e-01],\n",
       "       [ 2.95229285e-01, -3.08363498e-01, -2.97689143e-01,\n",
       "         1.18313228e+00,  2.94519093e-01, -4.57619152e-01],\n",
       "       [ 9.25264149e-01,  6.88695184e-01, -2.69074728e-01,\n",
       "         8.83710826e-01, -1.68008558e+00,  7.98620411e-01],\n",
       "       [-3.22941213e-01, -8.21957909e-02,  1.37676423e-02,\n",
       "        -2.34766848e-01,  8.69648560e-02, -1.13459481e+00],\n",
       "       [-3.71343292e-01,  2.41629710e-04, -1.38957471e-01,\n",
       "         1.02906184e+00, -2.04326125e-01,  4.71716513e-01],\n",
       "       [-6.51235984e-01,  1.60617708e+00, -3.42394376e-01,\n",
       "         1.69634736e+00,  1.46654690e+00,  8.68125443e-02],\n",
       "       [ 7.96562542e-01,  1.17415451e+00,  5.79402162e-01,\n",
       "        -7.77522799e-01, -1.19430198e+00, -4.67388181e-01],\n",
       "       [ 1.10493585e+00,  1.09881764e+00,  1.81873064e+00,\n",
       "         4.10465225e-01,  7.08266027e-01, -1.13308778e+00],\n",
       "       [ 1.02481084e+00, -3.66552584e-01,  1.64453918e+00,\n",
       "        -6.89277740e-01, -4.33953380e-01, -3.04517529e-01],\n",
       "       [-6.33726515e-02, -1.95083735e-01,  5.88804062e-01,\n",
       "         3.34773977e-01,  7.10731139e-01, -1.03718680e+00],\n",
       "       [ 1.26961494e+00,  8.66685775e-01,  3.57933081e-01,\n",
       "         1.15452571e-01,  1.45705130e+00, -4.20839503e-01],\n",
       "       [ 1.04477024e+00,  7.65322363e-01,  1.57210741e+00,\n",
       "        -1.09806890e+00, -1.30040000e+00,  8.55933783e-02],\n",
       "       [-5.31933948e-01, -2.81854913e-01, -5.80417292e-01,\n",
       "         1.00379571e+00, -2.97148075e-01, -1.18820562e-01],\n",
       "       [-7.42068221e-01, -1.25074513e-01, -2.54169573e-01,\n",
       "        -7.13045778e-01, -1.57337166e+00, -8.09366600e-02],\n",
       "       [-3.34918556e-01,  1.38326114e+00, -6.26467894e-02,\n",
       "         7.30609265e-01, -3.77148902e-01,  9.66139542e-01],\n",
       "       [ 6.59613638e-01,  3.73721964e-01, -1.41527602e-01,\n",
       "         5.60723844e-01, -3.46434205e-01, -1.00483064e+00],\n",
       "       [ 8.44532588e-01,  1.19696313e+00,  1.06147488e+00,\n",
       "         1.28052908e+00, -1.12502436e+00,  2.97802848e-01],\n",
       "       [ 7.32261005e-01,  1.10073573e+00,  2.76903512e-01,\n",
       "        -1.36496434e+00, -1.70504293e+00, -2.17074511e+00],\n",
       "       [-7.44984997e-01,  4.71370044e-01,  3.37266864e-01,\n",
       "         8.51916570e-01,  8.08106314e-01,  4.97252202e-01],\n",
       "       [ 3.35982529e-02, -2.97678946e-01,  2.71300220e-01,\n",
       "        -1.58397821e-01, -7.29474473e-01, -6.62482048e-01],\n",
       "       [ 3.98313939e-01,  9.59926082e-01,  3.01224908e-01,\n",
       "        -3.92375419e-01,  7.90587921e-01, -1.09373038e+00],\n",
       "       [ 6.68436991e-01,  1.23040810e+00,  5.25499586e-01,\n",
       "         6.71504546e-01, -1.04434559e+00, -4.80782356e-01],\n",
       "       [ 6.66413547e-01,  1.22545593e-01,  2.39997305e-01,\n",
       "         6.64082738e-01, -6.92735486e-02,  8.85723535e-01],\n",
       "       [ 5.43237698e-01, -9.53702539e-01,  5.74139302e-01,\n",
       "        -1.11786761e+00, -1.39775979e+00, -1.78524396e+00],\n",
       "       [ 6.85758706e-01,  3.54938406e-01,  1.40490093e-01,\n",
       "        -1.46852821e-01, -3.87466117e-03, -3.29744276e-01],\n",
       "       [ 7.03969917e-01,  9.78504511e-01, -2.42491893e-02,\n",
       "        -4.72969861e-01, -1.27929611e+00, -2.53101019e+00],\n",
       "       [-2.04638655e-01,  5.18298253e-01,  6.13939324e-02,\n",
       "         4.71180087e-01, -1.42536708e+00, -5.56680735e-02],\n",
       "       [ 9.13884744e-01,  1.21846375e-01,  1.37191489e+00,\n",
       "         3.67611218e-01,  3.61717404e-01,  3.66459575e-01],\n",
       "       [ 9.14095903e-01, -6.16774275e-01,  1.37191489e+00,\n",
       "        -2.13405883e-01, -7.03301675e-01,  7.11088960e-01],\n",
       "       [ 1.39967834e-01,  1.57624484e-01, -2.56781901e-01,\n",
       "        -9.64475693e-01,  6.51521540e-01, -1.47961932e+00],\n",
       "       [-2.27782619e-01, -9.02036834e-01, -1.96779148e-01,\n",
       "        -1.18089116e+00, -9.46908436e-01,  5.35684897e-01],\n",
       "       [ 1.92729749e-01,  9.24941789e-01, -5.81743665e-01,\n",
       "         2.65409033e-01,  1.46729854e+00, -4.58814150e-01],\n",
       "       [ 3.29652757e-01, -2.53493070e-01,  1.68392295e-01,\n",
       "         8.97900436e-01, -4.84632916e-01,  1.19681565e+00],\n",
       "       [ 1.46662731e+00,  6.67854881e-02,  1.97283872e+00,\n",
       "         1.17917255e+00,  1.69249196e+00,  1.30510914e+00],\n",
       "       [ 7.45598091e-01,  9.31851323e-01,  4.96531810e-01,\n",
       "         7.33017612e-02,  4.51505758e-01, -1.37384260e+00],\n",
       "       [-1.57862218e-01,  2.01916946e-01, -1.67345108e-01,\n",
       "         1.94261177e-01, -1.95013246e+00,  1.96586618e+00],\n",
       "       [-6.51911750e-01, -5.45042727e-01,  3.55872057e-01,\n",
       "         1.16593328e+00, -7.69218975e-02, -4.70682825e-01],\n",
       "       [ 4.81190170e-01, -4.12380112e-01,  2.79126821e-01,\n",
       "        -1.28634818e+00,  5.05024844e-01, -9.57055760e-01],\n",
       "       [-1.01919990e+00,  5.18966493e-01, -1.08918809e-01,\n",
       "        -2.41118793e-02, -1.04060222e+00,  6.66111567e-01],\n",
       "       [-5.98092317e-01, -5.75116189e-01, -1.69854132e+00,\n",
       "        -6.20049207e-01, -1.07862903e+00,  4.51537672e-01],\n",
       "       [-3.07891608e-01,  2.83036357e-01, -4.40938575e-01,\n",
       "         6.77871946e-01,  4.76574499e-01,  1.78730718e+00],\n",
       "       [ 3.75566534e-01, -4.45614502e-01, -1.56054755e-01,\n",
       "        -4.50615584e-01,  5.34648593e-01, -1.48248674e+00],\n",
       "       [-7.39814288e-01, -1.89354337e+00, -6.74508052e-01,\n",
       "        -1.82515221e+00, -7.39867912e-02,  9.27104273e-01],\n",
       "       [ 3.84328950e-02,  4.72708559e-02,  1.04522384e-01,\n",
       "        -2.14136854e-01,  3.63042002e-01, -1.09292594e+00],\n",
       "       [ 2.36786832e-01, -5.70402848e-01,  2.46358367e-01,\n",
       "        -1.52473595e+00,  3.63347537e-01, -5.43208063e-01],\n",
       "       [ 6.46267889e-03, -4.10666926e-01,  7.31567379e-01,\n",
       "         5.64307721e-01, -1.32492614e+00, -1.43458594e+00],\n",
       "       [-1.02792224e+00, -5.30307126e-01, -1.36638005e+00,\n",
       "         3.53094476e-01,  1.66959134e-01, -2.06438981e-01],\n",
       "       [ 4.31092367e-01, -6.43735844e-01,  4.71516041e-01,\n",
       "        -5.74435442e-01, -1.79392484e+00, -7.93275176e-01],\n",
       "       [ 8.87326060e-02, -1.49536960e-01,  3.64122373e-01,\n",
       "        -1.42975070e+00, -1.35875217e+00, -2.40320823e-01],\n",
       "       [ 7.69811210e-01,  4.58729234e-01,  1.07241881e+00,\n",
       "         5.47299925e-01, -1.69425973e+00, -7.96395944e-01],\n",
       "       [ 6.32060031e-01,  2.42773422e-01,  2.42149899e-01,\n",
       "        -9.00909652e-01, -6.72623048e-01, -3.36413557e-01],\n",
       "       [-4.72445124e-01, -3.74465331e-02, -4.11817178e-01,\n",
       "         1.41984505e+00,  1.45433109e-01,  2.69933979e-01],\n",
       "       [-1.61242401e+00, -3.91597697e-01, -9.45091221e-01,\n",
       "         1.92206977e-01,  1.77289047e+00,  1.90573122e+00],\n",
       "       [-3.98517534e-01, -1.40466831e+00, -2.91926668e-01,\n",
       "        -1.45307368e-01, -3.33227964e-01, -1.56130807e+00],\n",
       "       [ 8.32377444e-02, -1.81026098e-01,  2.98024292e-01,\n",
       "        -6.74046349e-01, -8.42694635e-01,  4.49693996e-02],\n",
       "       [-1.80701678e+00, -7.69475977e-02, -1.83358539e+00,\n",
       "        -6.38396852e-01,  4.91569490e-01,  3.70406066e-02],\n",
       "       [-2.42621486e-02, -9.27258282e-01,  7.12909774e-01,\n",
       "        -5.32777231e-01, -6.59373286e-01, -7.37261035e-01],\n",
       "       [-1.47462253e-01, -5.18648481e-01,  5.89130498e-01,\n",
       "        -1.95617450e+00, -1.89473605e+00,  2.54713648e-01],\n",
       "       [-1.23494132e+00, -1.11513597e-02, -1.86101970e+00,\n",
       "        -7.76561882e-01,  1.71032332e-01, -5.18087764e-01],\n",
       "       [ 2.05965439e-02,  6.27586665e-01, -2.89554208e-02,\n",
       "         1.02422427e+00,  3.57022374e-01, -1.48902966e-02],\n",
       "       [-7.51121393e-01, -1.13497657e+00, -5.41553190e-01,\n",
       "         1.17779921e+00,  1.13972875e+00,  1.46735947e+00],\n",
       "       [-1.58072147e-01,  1.35776097e+00, -3.21316155e-01,\n",
       "        -1.38946905e-02, -1.34860826e+00,  8.96534316e-01],\n",
       "       [-4.55619863e-01,  1.34732686e-01, -1.86183736e+00,\n",
       "        -8.42738806e-01, -1.26819209e+00, -3.33222565e-01],\n",
       "       [ 7.52466900e-01, -4.79302082e-01,  1.11436454e+00,\n",
       "        -2.02490364e+00, -1.62193844e+00, -2.56143866e+00],\n",
       "       [ 3.80518271e-01, -9.41432272e-01,  8.61862401e-01,\n",
       "        -6.45853818e-01, -9.75853638e-01,  2.71448530e-04],\n",
       "       [ 6.54927242e-01,  7.89164387e-01,  4.19671486e-01,\n",
       "        -7.55798189e-01, -1.32964858e+00, -8.96437643e-01],\n",
       "       [-7.40075321e-01, -3.83727591e-01,  9.82959349e-02,\n",
       "        -2.48128577e-01, -5.92998627e-01,  1.03320645e-01],\n",
       "       [-1.20286679e+00, -7.52655634e-01, -4.42086005e-01,\n",
       "         2.37259462e-01,  4.40632911e-01,  9.87228097e-02],\n",
       "       [-1.76726331e-02, -1.49650346e+00,  3.10638290e-01,\n",
       "        -1.09626987e+00, -6.68362783e-01, -1.65611157e+00],\n",
       "       [-7.32119740e-01, -4.93872077e-01, -6.64727339e-02,\n",
       "        -1.19466672e+00,  2.15827316e-01, -1.07022937e+00],\n",
       "       [-1.18770171e+00, -1.86318606e+00, -3.25747672e-01,\n",
       "        -2.03562392e-01,  1.78364978e-01, -5.63903934e-02],\n",
       "       [ 3.32999585e-01, -1.63527734e+00,  1.12550025e-01,\n",
       "        -8.79653657e-01, -7.50665144e-01,  1.21847102e+00],\n",
       "       [-2.34035199e-01,  7.92603683e-01, -2.54802196e-03,\n",
       "        -1.16020308e+00, -1.28820752e+00, -6.31991364e-01],\n",
       "       [ 2.67707934e-01, -8.78990543e-01, -3.22637749e-01,\n",
       "        -2.34493597e+00,  3.10847702e-01, -3.65924994e-01],\n",
       "       [ 8.86237554e-02,  6.94787273e-01, -1.42539050e+00,\n",
       "        -6.89338821e-01, -2.85337944e-01, -9.88400765e-01],\n",
       "       [-8.56744271e-01, -1.30217904e+00, -1.06740312e+00,\n",
       "        -1.01403270e-01, -1.01768434e+00,  1.08519170e-01],\n",
       "       [-1.45082548e+00, -4.81419977e-02, -1.26797641e+00,\n",
       "        -1.11909869e+00, -4.01035730e-01, -2.63445671e-01],\n",
       "       [-1.82811175e+00, -9.74897453e-01, -1.24713520e+00,\n",
       "        -9.67250744e-01, -6.89072889e-01,  2.17360941e-01],\n",
       "       [-6.20859400e-01, -1.94899316e+00, -6.72133916e-01,\n",
       "        -2.71999430e-01, -3.40970498e-01,  3.91129323e-01],\n",
       "       [-9.13228222e-01, -1.30467779e-01, -1.16812234e+00,\n",
       "        -1.91837634e+00,  4.00029715e-01, -2.56323744e-01],\n",
       "       [-1.45938229e+00, -1.12002939e+00, -1.10779830e+00,\n",
       "        -1.19873609e+00,  6.33650086e-01,  1.69125354e+00],\n",
       "       [-1.95091695e+00, -1.85818295e-01, -1.82112200e+00,\n",
       "        -1.29764593e+00, -4.68834765e-01,  2.56879841e-01],\n",
       "       [-1.26772866e+00, -7.21218065e-01, -4.62703882e-01,\n",
       "        -3.70155310e-01, -7.43246325e-01,  8.30862158e-01],\n",
       "       [-1.60810573e+00, -1.49706302e+00, -9.38959242e-01,\n",
       "        -2.59615610e-02,  4.38293921e-01,  2.14245605e-01],\n",
       "       [-1.32992796e+00, -3.74748817e-01, -1.98617221e+00,\n",
       "        -2.02230962e-01, -2.99122283e-01, -3.24433775e-02],\n",
       "       [-1.06421444e+00, -7.04781037e-01, -1.19815777e+00,\n",
       "        -1.20933184e+00,  6.58169644e-01,  4.36404168e-03],\n",
       "       [-1.25771823e+00, -1.96234785e-01, -1.02560318e+00,\n",
       "        -1.09992724e-01, -7.54720353e-01,  1.18395542e+00],\n",
       "       [-1.09473182e+00, -1.52595099e+00, -1.18574183e+00,\n",
       "         1.56324946e-01,  1.34464438e+00, -3.49299096e-01],\n",
       "       [-3.13552342e-01, -1.01496033e+00,  2.69938450e-01,\n",
       "        -1.44325949e+00, -1.10336053e+00, -1.47550814e+00],\n",
       "       [ 2.90220468e-01,  2.86389749e-01, -1.91001028e+00,\n",
       "         4.01698307e-01,  1.67638598e-01, -1.16145501e+00],\n",
       "       [-3.80541733e-01, -1.94251862e+00,  2.66712414e-01,\n",
       "        -2.19715905e-01,  1.72842025e+00, -1.77161275e+00],\n",
       "       [-1.92379616e+00, -1.89841710e+00, -1.55234677e+00,\n",
       "        -5.30283992e-02, -5.68934518e-01,  8.89424021e-01],\n",
       "       [-1.39546120e-01, -1.08625197e-01,  1.61323995e-01,\n",
       "         7.17409474e-01, -2.44334522e-01,  1.38689104e+00],\n",
       "       [-1.13361134e+00, -6.37149286e-01, -1.53232028e+00,\n",
       "         3.88131079e-01, -7.63697126e-01, -1.11306635e-01],\n",
       "       [ 3.42457356e-01,  2.93689410e-01,  4.58772464e-01,\n",
       "        -8.46946121e-01, -1.74176866e+00, -9.94245743e-01],\n",
       "       [-1.58768248e-02, -1.10802911e+00, -2.59131178e-01,\n",
       "        -1.57381110e+00, -6.73935282e-01, -1.06565769e+00],\n",
       "       [-8.54634328e-01, -1.29837335e+00, -1.06956128e+00,\n",
       "        -5.42954709e-01, -4.34401279e-01, -1.31915752e+00],\n",
       "       [-3.40197444e-01, -7.35777894e-01, -1.68427306e+00,\n",
       "        -1.90456660e+00, -5.46187881e-01, -9.46914883e-01],\n",
       "       [-1.47135004e+00, -3.70001902e-02, -1.59835018e+00,\n",
       "        -3.32822825e-01,  1.53775715e-01, -2.81447814e-01],\n",
       "       [-5.38516332e-01, -1.34711787e+00, -1.33577891e+00,\n",
       "        -1.60409262e-01,  7.63192798e-02, -9.42019703e-01],\n",
       "       [-1.51431499e+00, -9.65067704e-01, -1.18502470e+00,\n",
       "        -1.28084991e+00,  8.52104870e-01, -4.13048973e-01],\n",
       "       [-1.56906587e+00,  4.26611740e-01, -1.25692645e+00,\n",
       "         1.31925645e-01, -5.23643443e-01,  5.93601048e-01],\n",
       "       [-1.25714725e+00, -2.91060569e-01, -9.56266713e-01,\n",
       "        -4.67055567e-01, -4.24676294e-02, -9.07611584e-02],\n",
       "       [ 4.79068990e-01, -5.71497046e-01, -9.61883241e-01,\n",
       "        -7.67725010e-01,  4.49618007e-03, -1.60586161e+00],\n",
       "       [-1.83129296e+00, -1.02900265e+00, -1.37220573e+00,\n",
       "         2.71282208e-01,  4.94967194e-01, -2.25604181e-01],\n",
       "       [-1.05020919e+00, -1.43932993e+00, -2.85032291e-01,\n",
       "         1.73284513e+00, -5.26741076e-01,  1.35872461e+00],\n",
       "       [-1.42221682e+00, -1.79484296e-01, -1.12736716e+00,\n",
       "        -7.09396171e-01, -7.70321649e-01,  9.75470324e-01],\n",
       "       [-1.57444362e+00, -1.33343881e+00, -8.47170214e-01,\n",
       "        -1.47750220e+00, -3.94417458e-01, -4.63799054e-02],\n",
       "       [-1.30559196e+00, -1.06643231e+00, -1.71925424e+00,\n",
       "        -1.24923356e+00, -8.52839263e-01, -3.20964904e-01],\n",
       "       [-1.63960710e+00, -1.80006707e+00, -1.51766122e+00,\n",
       "        -4.06090911e-01,  1.29333116e-01,  5.62384353e-01],\n",
       "       [-1.03916890e+00, -1.03370520e+00, -1.71564694e+00,\n",
       "         2.12351033e-01,  6.96873123e-01, -1.52992938e-01],\n",
       "       [-1.47657151e+00, -7.65846858e-01, -1.43989608e+00,\n",
       "        -2.91250435e-01,  2.07750668e-01, -9.26473941e-03],\n",
       "       [-1.35148746e+00, -2.07089727e+00, -1.35528747e+00,\n",
       "        -1.25395822e+00, -1.71143394e-01,  1.11743500e+00],\n",
       "       [-1.41928232e+00, -1.99417004e+00, -1.31206330e+00,\n",
       "         3.25812359e-01, -4.11219120e-01, -3.33125907e-01],\n",
       "       [-5.76478097e-01, -1.78032934e+00,  2.29950805e-01,\n",
       "        -1.65342979e+00,  7.76225485e-01,  1.74427090e+00],\n",
       "       [-1.92505437e+00, -1.89043403e+00, -1.55626891e+00,\n",
       "        -1.83691972e+00, -1.25873167e-01, -1.93712065e-01]])"
      ]
     },
     "execution_count": 160,
     "metadata": {},
     "output_type": "execute_result"
    }
   ],
   "source": [
    "x"
   ]
  },
  {
   "cell_type": "code",
   "execution_count": 161,
   "id": "fb08e216",
   "metadata": {},
   "outputs": [
    {
     "data": {
      "text/plain": [
       "array([[ 1.50012451e+00,  1.66433980e+00,  1.48683517e+00,\n",
       "         1.75964452e+00,  1.82528512e+00,  6.39806530e-01],\n",
       "       [ 1.20268487e+00,  2.01353269e+00,  1.52862764e+00,\n",
       "         1.44747865e+00,  3.47903023e-01,  1.54992546e+00],\n",
       "       [ 1.27500417e+00,  1.73602914e+00,  1.06910912e+00,\n",
       "         1.62097929e+00,  1.96000848e+00,  9.59243851e-01],\n",
       "       [ 1.70229807e+00,  1.54606301e+00,  1.13308938e+00,\n",
       "         1.79561314e+00,  1.67317917e+00,  9.97298346e-01],\n",
       "       [ 1.27754314e+00,  1.49369078e+00,  1.25894074e+00,\n",
       "         1.48256184e+00,  1.55098108e+00,  1.67089854e+00],\n",
       "       [ 1.16520716e+00,  1.46656390e+00,  1.15689596e+00,\n",
       "         1.55584802e+00,  1.81031609e+00,  1.31310086e-01],\n",
       "       [ 1.28742311e+00,  1.23452156e+00,  1.17976600e+00,\n",
       "         1.33968966e+00,  1.50681368e+00,  1.76700069e+00],\n",
       "       [ 1.29454908e+00,  1.28786436e+00,  1.29171712e+00,\n",
       "         1.70998490e+00,  1.86882489e+00,  1.10124263e+00],\n",
       "       [ 1.04183325e+00,  1.47534255e+00,  1.27605488e+00,\n",
       "         1.53637511e+00,  1.84778022e+00,  1.76126958e+00],\n",
       "       [ 1.30042323e+00,  1.41066520e+00,  1.42307373e+00,\n",
       "         1.63680351e+00,  1.64526015e+00,  1.54607228e+00],\n",
       "       [ 9.75965298e-01,  9.09528811e-01,  1.31057128e+00,\n",
       "        -1.70255791e-01, -4.44725671e-01,  8.92493045e-01],\n",
       "       [ 1.85306772e-01,  9.88217814e-01,  9.83388954e-01,\n",
       "         1.48917644e+00, -5.88650065e-02,  3.11701173e-01],\n",
       "       [ 1.31189881e+00,  1.33608410e+00,  1.16491678e+00,\n",
       "         1.41054254e+00,  7.58065015e-01,  8.86631577e-01],\n",
       "       [ 3.66096309e-01, -5.36462534e-01,  7.19568577e-01,\n",
       "         3.06411200e-01,  9.53010365e-01, -7.58343495e-01],\n",
       "       [ 1.49371744e+00,  1.04097459e+00,  9.92387674e-01,\n",
       "         7.84637999e-01,  5.18463935e-01,  1.34336192e+00],\n",
       "       [ 2.55864303e-01,  9.59813012e-01,  1.07566989e-01,\n",
       "         3.69209901e-01,  6.63263789e-01, -7.05297817e-01],\n",
       "       [ 2.05031024e+00,  8.85525734e-01,  1.34258263e+00,\n",
       "         1.34026604e+00,  1.71281038e+00,  5.14306179e-01],\n",
       "       [ 1.30790444e+00,  1.79429065e+00,  1.19508831e+00,\n",
       "         1.35625541e+00,  1.37290555e+00,  1.67578388e+00],\n",
       "       [ 1.21981075e+00,  1.26736364e+00,  1.20335236e+00,\n",
       "         1.08614029e+00,  1.03468028e+00,  3.53646972e-02],\n",
       "       [ 1.59916205e+00,  3.90346335e-01,  6.90597480e-01,\n",
       "         1.55483540e+00,  1.73566343e+00,  3.87350854e-01],\n",
       "       [ 1.09148802e+00,  1.26628366e+00,  1.28269018e+00,\n",
       "         1.18054612e+00,  1.51680810e+00,  1.98422624e+00],\n",
       "       [ 1.38413481e+00,  1.76963625e-01,  4.39124128e-01,\n",
       "         1.48063700e+00,  1.53454442e+00, -2.75995522e-02],\n",
       "       [ 4.33343254e-01,  1.09208094e+00,  2.22918608e-01,\n",
       "        -6.29784009e-02,  1.79166548e-03, -1.73290482e+00],\n",
       "       [ 1.90953177e+00, -1.04467769e-01,  2.05760922e+00,\n",
       "         7.57614209e-01,  1.97526420e+00,  7.45246676e-01],\n",
       "       [ 4.88503951e-01,  7.69287631e-01,  6.20799438e-01,\n",
       "         7.54396139e-01, -2.31832885e-01,  2.23415911e-01],\n",
       "       [ 1.28265440e+00,  1.35026181e+00,  1.17374765e+00,\n",
       "         1.33154212e+00,  9.88992234e-01,  5.28263180e-01],\n",
       "       [ 6.14644574e-01,  3.83967440e-01,  9.73343703e-01,\n",
       "         2.09251328e-02,  2.11848618e-01,  9.05783120e-01],\n",
       "       [ 1.12664028e+00,  1.11779742e+00,  1.51522897e+00,\n",
       "         8.16003103e-01,  9.06386184e-01, -9.48250848e-01],\n",
       "       [ 4.59803535e-01,  1.04741399e+00,  5.69695174e-01,\n",
       "         7.92868122e-02, -3.42119703e-01, -1.04741608e+00],\n",
       "       [ 8.26591599e-01,  8.12579175e-01,  8.92892228e-01,\n",
       "         1.76785182e-01, -1.35150326e+00, -1.13529053e+00],\n",
       "       [ 4.83139859e-01,  8.26144727e-01,  7.03692843e-01,\n",
       "         1.24031205e+00,  1.15772191e+00,  1.21743905e-01],\n",
       "       [ 8.35096668e-02,  1.00131237e+00,  7.74722521e-02,\n",
       "         6.97614809e-01, -8.79070163e-01, -3.19519537e-01],\n",
       "       [ 2.16040858e-01,  1.14504949e+00,  3.13543067e-01,\n",
       "         8.66592725e-01, -1.24270073e+00,  2.24802383e+00],\n",
       "       [ 1.49660013e+00,  1.86954134e-01,  2.21573460e-01,\n",
       "        -8.19565086e-01,  1.53454442e+00, -7.97795620e-01],\n",
       "       [ 9.80643732e-01,  1.43882359e+00,  1.57975960e+00,\n",
       "         1.47665933e-01, -6.61821927e-01, -3.36316825e-01],\n",
       "       [ 9.11894068e-01,  1.36649237e+00,  1.14528439e+00,\n",
       "         1.24055620e+00,  2.89538747e-01,  1.97644950e+00],\n",
       "       [ 1.16746969e+00,  1.50338646e-01,  1.07308100e+00,\n",
       "        -2.75025907e-01, -3.93683215e-01,  3.01755542e-01],\n",
       "       [ 2.01771692e+00,  5.95666321e-01,  2.44904935e-01,\n",
       "         8.53778680e-01,  1.21676834e+00, -5.34277529e-01],\n",
       "       [ 2.95229285e-01, -3.08363498e-01, -2.97689143e-01,\n",
       "         1.18313228e+00,  2.94519093e-01, -4.57619152e-01],\n",
       "       [ 9.25264149e-01,  6.88695184e-01, -2.69074728e-01,\n",
       "         8.83710826e-01, -1.68008558e+00,  7.98620411e-01],\n",
       "       [-3.22941213e-01, -8.21957909e-02,  1.37676423e-02,\n",
       "        -2.34766848e-01,  8.69648560e-02, -1.13459481e+00],\n",
       "       [-3.71343292e-01,  2.41629710e-04, -1.38957471e-01,\n",
       "         1.02906184e+00, -2.04326125e-01,  4.71716513e-01],\n",
       "       [-6.51235984e-01,  1.60617708e+00, -3.42394376e-01,\n",
       "         1.69634736e+00,  1.46654690e+00,  8.68125443e-02],\n",
       "       [ 7.96562542e-01,  1.17415451e+00,  5.79402162e-01,\n",
       "        -7.77522799e-01, -1.19430198e+00, -4.67388181e-01],\n",
       "       [ 1.10493585e+00,  1.09881764e+00,  1.81873064e+00,\n",
       "         4.10465225e-01,  7.08266027e-01, -1.13308778e+00],\n",
       "       [ 1.02481084e+00, -3.66552584e-01,  1.64453918e+00,\n",
       "        -6.89277740e-01, -4.33953380e-01, -3.04517529e-01],\n",
       "       [-6.33726515e-02, -1.95083735e-01,  5.88804062e-01,\n",
       "         3.34773977e-01,  7.10731139e-01, -1.03718680e+00],\n",
       "       [ 1.26961494e+00,  8.66685775e-01,  3.57933081e-01,\n",
       "         1.15452571e-01,  1.45705130e+00, -4.20839503e-01],\n",
       "       [ 1.04477024e+00,  7.65322363e-01,  1.57210741e+00,\n",
       "        -1.09806890e+00, -1.30040000e+00,  8.55933783e-02],\n",
       "       [-5.31933948e-01, -2.81854913e-01, -5.80417292e-01,\n",
       "         1.00379571e+00, -2.97148075e-01, -1.18820562e-01],\n",
       "       [-7.42068221e-01, -1.25074513e-01, -2.54169573e-01,\n",
       "        -7.13045778e-01, -1.57337166e+00, -8.09366600e-02],\n",
       "       [-3.34918556e-01,  1.38326114e+00, -6.26467894e-02,\n",
       "         7.30609265e-01, -3.77148902e-01,  9.66139542e-01],\n",
       "       [ 6.59613638e-01,  3.73721964e-01, -1.41527602e-01,\n",
       "         5.60723844e-01, -3.46434205e-01, -1.00483064e+00],\n",
       "       [ 8.44532588e-01,  1.19696313e+00,  1.06147488e+00,\n",
       "         1.28052908e+00, -1.12502436e+00,  2.97802848e-01],\n",
       "       [ 7.32261005e-01,  1.10073573e+00,  2.76903512e-01,\n",
       "        -1.36496434e+00, -1.70504293e+00, -2.17074511e+00],\n",
       "       [-7.44984997e-01,  4.71370044e-01,  3.37266864e-01,\n",
       "         8.51916570e-01,  8.08106314e-01,  4.97252202e-01],\n",
       "       [ 3.35982529e-02, -2.97678946e-01,  2.71300220e-01,\n",
       "        -1.58397821e-01, -7.29474473e-01, -6.62482048e-01],\n",
       "       [ 3.98313939e-01,  9.59926082e-01,  3.01224908e-01,\n",
       "        -3.92375419e-01,  7.90587921e-01, -1.09373038e+00],\n",
       "       [ 6.68436991e-01,  1.23040810e+00,  5.25499586e-01,\n",
       "         6.71504546e-01, -1.04434559e+00, -4.80782356e-01],\n",
       "       [ 6.66413547e-01,  1.22545593e-01,  2.39997305e-01,\n",
       "         6.64082738e-01, -6.92735486e-02,  8.85723535e-01],\n",
       "       [ 5.43237698e-01, -9.53702539e-01,  5.74139302e-01,\n",
       "        -1.11786761e+00, -1.39775979e+00, -1.78524396e+00],\n",
       "       [ 6.85758706e-01,  3.54938406e-01,  1.40490093e-01,\n",
       "        -1.46852821e-01, -3.87466117e-03, -3.29744276e-01],\n",
       "       [ 7.03969917e-01,  9.78504511e-01, -2.42491893e-02,\n",
       "        -4.72969861e-01, -1.27929611e+00, -2.53101019e+00],\n",
       "       [-2.04638655e-01,  5.18298253e-01,  6.13939324e-02,\n",
       "         4.71180087e-01, -1.42536708e+00, -5.56680735e-02],\n",
       "       [ 9.13884744e-01,  1.21846375e-01,  1.37191489e+00,\n",
       "         3.67611218e-01,  3.61717404e-01,  3.66459575e-01],\n",
       "       [ 9.14095903e-01, -6.16774275e-01,  1.37191489e+00,\n",
       "        -2.13405883e-01, -7.03301675e-01,  7.11088960e-01],\n",
       "       [ 1.39967834e-01,  1.57624484e-01, -2.56781901e-01,\n",
       "        -9.64475693e-01,  6.51521540e-01, -1.47961932e+00],\n",
       "       [-2.27782619e-01, -9.02036834e-01, -1.96779148e-01,\n",
       "        -1.18089116e+00, -9.46908436e-01,  5.35684897e-01],\n",
       "       [ 1.92729749e-01,  9.24941789e-01, -5.81743665e-01,\n",
       "         2.65409033e-01,  1.46729854e+00, -4.58814150e-01],\n",
       "       [ 3.29652757e-01, -2.53493070e-01,  1.68392295e-01,\n",
       "         8.97900436e-01, -4.84632916e-01,  1.19681565e+00],\n",
       "       [ 1.46662731e+00,  6.67854881e-02,  1.97283872e+00,\n",
       "         1.17917255e+00,  1.69249196e+00,  1.30510914e+00],\n",
       "       [ 7.45598091e-01,  9.31851323e-01,  4.96531810e-01,\n",
       "         7.33017612e-02,  4.51505758e-01, -1.37384260e+00],\n",
       "       [-1.57862218e-01,  2.01916946e-01, -1.67345108e-01,\n",
       "         1.94261177e-01, -1.95013246e+00,  1.96586618e+00],\n",
       "       [-6.51911750e-01, -5.45042727e-01,  3.55872057e-01,\n",
       "         1.16593328e+00, -7.69218975e-02, -4.70682825e-01],\n",
       "       [ 4.81190170e-01, -4.12380112e-01,  2.79126821e-01,\n",
       "        -1.28634818e+00,  5.05024844e-01, -9.57055760e-01],\n",
       "       [-1.01919990e+00,  5.18966493e-01, -1.08918809e-01,\n",
       "        -2.41118793e-02, -1.04060222e+00,  6.66111567e-01],\n",
       "       [-5.98092317e-01, -5.75116189e-01, -1.69854132e+00,\n",
       "        -6.20049207e-01, -1.07862903e+00,  4.51537672e-01],\n",
       "       [-3.07891608e-01,  2.83036357e-01, -4.40938575e-01,\n",
       "         6.77871946e-01,  4.76574499e-01,  1.78730718e+00],\n",
       "       [ 3.75566534e-01, -4.45614502e-01, -1.56054755e-01,\n",
       "        -4.50615584e-01,  5.34648593e-01, -1.48248674e+00],\n",
       "       [-7.39814288e-01, -1.89354337e+00, -6.74508052e-01,\n",
       "        -1.82515221e+00, -7.39867912e-02,  9.27104273e-01],\n",
       "       [ 3.84328950e-02,  4.72708559e-02,  1.04522384e-01,\n",
       "        -2.14136854e-01,  3.63042002e-01, -1.09292594e+00],\n",
       "       [ 2.36786832e-01, -5.70402848e-01,  2.46358367e-01,\n",
       "        -1.52473595e+00,  3.63347537e-01, -5.43208063e-01],\n",
       "       [ 6.46267889e-03, -4.10666926e-01,  7.31567379e-01,\n",
       "         5.64307721e-01, -1.32492614e+00, -1.43458594e+00],\n",
       "       [-1.02792224e+00, -5.30307126e-01, -1.36638005e+00,\n",
       "         3.53094476e-01,  1.66959134e-01, -2.06438981e-01],\n",
       "       [ 4.31092367e-01, -6.43735844e-01,  4.71516041e-01,\n",
       "        -5.74435442e-01, -1.79392484e+00, -7.93275176e-01],\n",
       "       [ 8.87326060e-02, -1.49536960e-01,  3.64122373e-01,\n",
       "        -1.42975070e+00, -1.35875217e+00, -2.40320823e-01],\n",
       "       [ 7.69811210e-01,  4.58729234e-01,  1.07241881e+00,\n",
       "         5.47299925e-01, -1.69425973e+00, -7.96395944e-01],\n",
       "       [ 6.32060031e-01,  2.42773422e-01,  2.42149899e-01,\n",
       "        -9.00909652e-01, -6.72623048e-01, -3.36413557e-01],\n",
       "       [-4.72445124e-01, -3.74465331e-02, -4.11817178e-01,\n",
       "         1.41984505e+00,  1.45433109e-01,  2.69933979e-01],\n",
       "       [-1.61242401e+00, -3.91597697e-01, -9.45091221e-01,\n",
       "         1.92206977e-01,  1.77289047e+00,  1.90573122e+00],\n",
       "       [-3.98517534e-01, -1.40466831e+00, -2.91926668e-01,\n",
       "        -1.45307368e-01, -3.33227964e-01, -1.56130807e+00],\n",
       "       [ 8.32377444e-02, -1.81026098e-01,  2.98024292e-01,\n",
       "        -6.74046349e-01, -8.42694635e-01,  4.49693996e-02],\n",
       "       [-1.80701678e+00, -7.69475977e-02, -1.83358539e+00,\n",
       "        -6.38396852e-01,  4.91569490e-01,  3.70406066e-02],\n",
       "       [-2.42621486e-02, -9.27258282e-01,  7.12909774e-01,\n",
       "        -5.32777231e-01, -6.59373286e-01, -7.37261035e-01],\n",
       "       [-1.47462253e-01, -5.18648481e-01,  5.89130498e-01,\n",
       "        -1.95617450e+00, -1.89473605e+00,  2.54713648e-01],\n",
       "       [-1.23494132e+00, -1.11513597e-02, -1.86101970e+00,\n",
       "        -7.76561882e-01,  1.71032332e-01, -5.18087764e-01],\n",
       "       [ 2.05965439e-02,  6.27586665e-01, -2.89554208e-02,\n",
       "         1.02422427e+00,  3.57022374e-01, -1.48902966e-02],\n",
       "       [-7.51121393e-01, -1.13497657e+00, -5.41553190e-01,\n",
       "         1.17779921e+00,  1.13972875e+00,  1.46735947e+00],\n",
       "       [-1.58072147e-01,  1.35776097e+00, -3.21316155e-01,\n",
       "        -1.38946905e-02, -1.34860826e+00,  8.96534316e-01],\n",
       "       [-4.55619863e-01,  1.34732686e-01, -1.86183736e+00,\n",
       "        -8.42738806e-01, -1.26819209e+00, -3.33222565e-01],\n",
       "       [ 7.52466900e-01, -4.79302082e-01,  1.11436454e+00,\n",
       "        -2.02490364e+00, -1.62193844e+00, -2.56143866e+00],\n",
       "       [ 3.80518271e-01, -9.41432272e-01,  8.61862401e-01,\n",
       "        -6.45853818e-01, -9.75853638e-01,  2.71448530e-04],\n",
       "       [ 6.54927242e-01,  7.89164387e-01,  4.19671486e-01,\n",
       "        -7.55798189e-01, -1.32964858e+00, -8.96437643e-01],\n",
       "       [-7.40075321e-01, -3.83727591e-01,  9.82959349e-02,\n",
       "        -2.48128577e-01, -5.92998627e-01,  1.03320645e-01],\n",
       "       [-1.20286679e+00, -7.52655634e-01, -4.42086005e-01,\n",
       "         2.37259462e-01,  4.40632911e-01,  9.87228097e-02],\n",
       "       [-1.76726331e-02, -1.49650346e+00,  3.10638290e-01,\n",
       "        -1.09626987e+00, -6.68362783e-01, -1.65611157e+00],\n",
       "       [-7.32119740e-01, -4.93872077e-01, -6.64727339e-02,\n",
       "        -1.19466672e+00,  2.15827316e-01, -1.07022937e+00],\n",
       "       [-1.18770171e+00, -1.86318606e+00, -3.25747672e-01,\n",
       "        -2.03562392e-01,  1.78364978e-01, -5.63903934e-02],\n",
       "       [ 3.32999585e-01, -1.63527734e+00,  1.12550025e-01,\n",
       "        -8.79653657e-01, -7.50665144e-01,  1.21847102e+00],\n",
       "       [-2.34035199e-01,  7.92603683e-01, -2.54802196e-03,\n",
       "        -1.16020308e+00, -1.28820752e+00, -6.31991364e-01],\n",
       "       [ 2.67707934e-01, -8.78990543e-01, -3.22637749e-01,\n",
       "        -2.34493597e+00,  3.10847702e-01, -3.65924994e-01],\n",
       "       [ 8.86237554e-02,  6.94787273e-01, -1.42539050e+00,\n",
       "        -6.89338821e-01, -2.85337944e-01, -9.88400765e-01],\n",
       "       [-8.56744271e-01, -1.30217904e+00, -1.06740312e+00,\n",
       "        -1.01403270e-01, -1.01768434e+00,  1.08519170e-01],\n",
       "       [-1.45082548e+00, -4.81419977e-02, -1.26797641e+00,\n",
       "        -1.11909869e+00, -4.01035730e-01, -2.63445671e-01],\n",
       "       [-1.82811175e+00, -9.74897453e-01, -1.24713520e+00,\n",
       "        -9.67250744e-01, -6.89072889e-01,  2.17360941e-01],\n",
       "       [-6.20859400e-01, -1.94899316e+00, -6.72133916e-01,\n",
       "        -2.71999430e-01, -3.40970498e-01,  3.91129323e-01],\n",
       "       [-9.13228222e-01, -1.30467779e-01, -1.16812234e+00,\n",
       "        -1.91837634e+00,  4.00029715e-01, -2.56323744e-01],\n",
       "       [-1.45938229e+00, -1.12002939e+00, -1.10779830e+00,\n",
       "        -1.19873609e+00,  6.33650086e-01,  1.69125354e+00],\n",
       "       [-1.95091695e+00, -1.85818295e-01, -1.82112200e+00,\n",
       "        -1.29764593e+00, -4.68834765e-01,  2.56879841e-01],\n",
       "       [-1.26772866e+00, -7.21218065e-01, -4.62703882e-01,\n",
       "        -3.70155310e-01, -7.43246325e-01,  8.30862158e-01],\n",
       "       [-1.60810573e+00, -1.49706302e+00, -9.38959242e-01,\n",
       "        -2.59615610e-02,  4.38293921e-01,  2.14245605e-01],\n",
       "       [-1.32992796e+00, -3.74748817e-01, -1.98617221e+00,\n",
       "        -2.02230962e-01, -2.99122283e-01, -3.24433775e-02],\n",
       "       [-1.06421444e+00, -7.04781037e-01, -1.19815777e+00,\n",
       "        -1.20933184e+00,  6.58169644e-01,  4.36404168e-03],\n",
       "       [-1.25771823e+00, -1.96234785e-01, -1.02560318e+00,\n",
       "        -1.09992724e-01, -7.54720353e-01,  1.18395542e+00],\n",
       "       [-1.09473182e+00, -1.52595099e+00, -1.18574183e+00,\n",
       "         1.56324946e-01,  1.34464438e+00, -3.49299096e-01],\n",
       "       [-3.13552342e-01, -1.01496033e+00,  2.69938450e-01,\n",
       "        -1.44325949e+00, -1.10336053e+00, -1.47550814e+00],\n",
       "       [ 2.90220468e-01,  2.86389749e-01, -1.91001028e+00,\n",
       "         4.01698307e-01,  1.67638598e-01, -1.16145501e+00],\n",
       "       [-3.80541733e-01, -1.94251862e+00,  2.66712414e-01,\n",
       "        -2.19715905e-01,  1.72842025e+00, -1.77161275e+00],\n",
       "       [-1.92379616e+00, -1.89841710e+00, -1.55234677e+00,\n",
       "        -5.30283992e-02, -5.68934518e-01,  8.89424021e-01],\n",
       "       [-1.39546120e-01, -1.08625197e-01,  1.61323995e-01,\n",
       "         7.17409474e-01, -2.44334522e-01,  1.38689104e+00],\n",
       "       [-1.13361134e+00, -6.37149286e-01, -1.53232028e+00,\n",
       "         3.88131079e-01, -7.63697126e-01, -1.11306635e-01],\n",
       "       [ 3.42457356e-01,  2.93689410e-01,  4.58772464e-01,\n",
       "        -8.46946121e-01, -1.74176866e+00, -9.94245743e-01],\n",
       "       [-1.58768248e-02, -1.10802911e+00, -2.59131178e-01,\n",
       "        -1.57381110e+00, -6.73935282e-01, -1.06565769e+00],\n",
       "       [-8.54634328e-01, -1.29837335e+00, -1.06956128e+00,\n",
       "        -5.42954709e-01, -4.34401279e-01, -1.31915752e+00],\n",
       "       [-3.40197444e-01, -7.35777894e-01, -1.68427306e+00,\n",
       "        -1.90456660e+00, -5.46187881e-01, -9.46914883e-01],\n",
       "       [-1.47135004e+00, -3.70001902e-02, -1.59835018e+00,\n",
       "        -3.32822825e-01,  1.53775715e-01, -2.81447814e-01],\n",
       "       [-5.38516332e-01, -1.34711787e+00, -1.33577891e+00,\n",
       "        -1.60409262e-01,  7.63192798e-02, -9.42019703e-01],\n",
       "       [-1.51431499e+00, -9.65067704e-01, -1.18502470e+00,\n",
       "        -1.28084991e+00,  8.52104870e-01, -4.13048973e-01],\n",
       "       [-1.56906587e+00,  4.26611740e-01, -1.25692645e+00,\n",
       "         1.31925645e-01, -5.23643443e-01,  5.93601048e-01],\n",
       "       [-1.25714725e+00, -2.91060569e-01, -9.56266713e-01,\n",
       "        -4.67055567e-01, -4.24676294e-02, -9.07611584e-02],\n",
       "       [ 4.79068990e-01, -5.71497046e-01, -9.61883241e-01,\n",
       "        -7.67725010e-01,  4.49618007e-03, -1.60586161e+00],\n",
       "       [-1.83129296e+00, -1.02900265e+00, -1.37220573e+00,\n",
       "         2.71282208e-01,  4.94967194e-01, -2.25604181e-01],\n",
       "       [-1.05020919e+00, -1.43932993e+00, -2.85032291e-01,\n",
       "         1.73284513e+00, -5.26741076e-01,  1.35872461e+00],\n",
       "       [-1.42221682e+00, -1.79484296e-01, -1.12736716e+00,\n",
       "        -7.09396171e-01, -7.70321649e-01,  9.75470324e-01],\n",
       "       [-1.57444362e+00, -1.33343881e+00, -8.47170214e-01,\n",
       "        -1.47750220e+00, -3.94417458e-01, -4.63799054e-02],\n",
       "       [-1.30559196e+00, -1.06643231e+00, -1.71925424e+00,\n",
       "        -1.24923356e+00, -8.52839263e-01, -3.20964904e-01],\n",
       "       [-1.63960710e+00, -1.80006707e+00, -1.51766122e+00,\n",
       "        -4.06090911e-01,  1.29333116e-01,  5.62384353e-01],\n",
       "       [-1.03916890e+00, -1.03370520e+00, -1.71564694e+00,\n",
       "         2.12351033e-01,  6.96873123e-01, -1.52992938e-01],\n",
       "       [-1.47657151e+00, -7.65846858e-01, -1.43989608e+00,\n",
       "        -2.91250435e-01,  2.07750668e-01, -9.26473941e-03],\n",
       "       [-1.35148746e+00, -2.07089727e+00, -1.35528747e+00,\n",
       "        -1.25395822e+00, -1.71143394e-01,  1.11743500e+00],\n",
       "       [-1.41928232e+00, -1.99417004e+00, -1.31206330e+00,\n",
       "         3.25812359e-01, -4.11219120e-01, -3.33125907e-01],\n",
       "       [-5.76478097e-01, -1.78032934e+00,  2.29950805e-01,\n",
       "        -1.65342979e+00,  7.76225485e-01,  1.74427090e+00],\n",
       "       [-1.92505437e+00, -1.89043403e+00, -1.55626891e+00,\n",
       "        -1.83691972e+00, -1.25873167e-01, -1.93712065e-01]])"
      ]
     },
     "execution_count": 161,
     "metadata": {},
     "output_type": "execute_result"
    }
   ],
   "source": [
    "from sklearn.preprocessing import StandardScaler\n",
    "sc = StandardScaler()\n",
    "x = sc.fit_transform(x)\n",
    "x"
   ]
  },
  {
   "cell_type": "code",
   "execution_count": 162,
   "id": "3e5a922f",
   "metadata": {},
   "outputs": [
    {
     "data": {
      "text/plain": [
       "1.161017542091667e-17"
      ]
     },
     "execution_count": 162,
     "metadata": {},
     "output_type": "execute_result"
    }
   ],
   "source": [
    "x.mean()"
   ]
  },
  {
   "cell_type": "code",
   "execution_count": 163,
   "id": "3c9ae5ed",
   "metadata": {},
   "outputs": [],
   "source": [
    "from sklearn.model_selection import train_test_split,GridSearchCV\n",
    "from sklearn.metrics import accuracy_score"
   ]
  },
  {
   "cell_type": "code",
   "execution_count": 168,
   "id": "80d39ea4",
   "metadata": {},
   "outputs": [],
   "source": [
    "x_train, x_test, y_train, y_test = train_test_split(x, y, train_size=0.8, test_size=0.2,random_state = 42)"
   ]
  },
  {
   "cell_type": "code",
   "execution_count": 169,
   "id": "3c475b46",
   "metadata": {},
   "outputs": [
    {
     "data": {
      "text/plain": [
       "LinearRegression()"
      ]
     },
     "execution_count": 169,
     "metadata": {},
     "output_type": "execute_result"
    }
   ],
   "source": [
    "from sklearn.linear_model import LinearRegression\n",
    "lr = LinearRegression()\n",
    "lr.fit(x_train,y_train)"
   ]
  },
  {
   "cell_type": "code",
   "execution_count": 170,
   "id": "02b9b44d",
   "metadata": {},
   "outputs": [
    {
     "data": {
      "text/plain": [
       "0.7829476295183133"
      ]
     },
     "execution_count": 170,
     "metadata": {},
     "output_type": "execute_result"
    }
   ],
   "source": [
    "lr.score(x_train,y_train)"
   ]
  },
  {
   "cell_type": "code",
   "execution_count": 171,
   "id": "81402d81",
   "metadata": {},
   "outputs": [
    {
     "data": {
      "text/plain": [
       "0.7601057793059933"
      ]
     },
     "execution_count": 171,
     "metadata": {},
     "output_type": "execute_result"
    }
   ],
   "source": [
    "lr.score(x_test,y_test)"
   ]
  },
  {
   "cell_type": "code",
   "execution_count": 172,
   "id": "aab92113",
   "metadata": {},
   "outputs": [
    {
     "name": "stdout",
     "output_type": "stream",
     "text": [
      "61\n",
      "132\n",
      "146\n",
      "386\n",
      "400\n",
      "636\n",
      "854\n",
      "874\n"
     ]
    }
   ],
   "source": [
    "for i in range(0,1000):\n",
    "    x_train_new,x_test,y_train_new,y_test = train_test_split(x,y,test_size = 0.20, random_state = i)\n",
    "    lr.fit(x_train,y_train)\n",
    "    if round(lr.score(x_train,y_train)*100,1)==round(lr.score(x_test,y_test)*100,1):\n",
    "        print(i)\n",
    "                                "
   ]
  },
  {
   "cell_type": "code",
   "execution_count": 173,
   "id": "7a1a9eda",
   "metadata": {},
   "outputs": [],
   "source": [
    "x_train, x_test, y_train, y_test = train_test_split(x, y, train_size=0.8, test_size=0.2,random_state = 61)"
   ]
  },
  {
   "cell_type": "code",
   "execution_count": 174,
   "id": "a6c87100",
   "metadata": {},
   "outputs": [
    {
     "data": {
      "text/plain": [
       "LinearRegression()"
      ]
     },
     "execution_count": 174,
     "metadata": {},
     "output_type": "execute_result"
    }
   ],
   "source": [
    "lr = LinearRegression()\n",
    "lr.fit(x_train,y_train)"
   ]
  },
  {
   "cell_type": "code",
   "execution_count": 175,
   "id": "53bde168",
   "metadata": {},
   "outputs": [
    {
     "data": {
      "text/plain": [
       "0.7859450128921756"
      ]
     },
     "execution_count": 175,
     "metadata": {},
     "output_type": "execute_result"
    }
   ],
   "source": [
    "lr.score(x_train,y_train)"
   ]
  },
  {
   "cell_type": "code",
   "execution_count": 176,
   "id": "4a61aae4",
   "metadata": {},
   "outputs": [
    {
     "data": {
      "text/plain": [
       "0.7427562135566441"
      ]
     },
     "execution_count": 176,
     "metadata": {},
     "output_type": "execute_result"
    }
   ],
   "source": [
    "lr.score(x_test,y_test)"
   ]
  }
 ],
 "metadata": {
  "kernelspec": {
   "display_name": "Python 3 (ipykernel)",
   "language": "python",
   "name": "python3"
  },
  "language_info": {
   "codemirror_mode": {
    "name": "ipython",
    "version": 3
   },
   "file_extension": ".py",
   "mimetype": "text/x-python",
   "name": "python",
   "nbconvert_exporter": "python",
   "pygments_lexer": "ipython3",
   "version": "3.9.7"
  }
 },
 "nbformat": 4,
 "nbformat_minor": 5
}
